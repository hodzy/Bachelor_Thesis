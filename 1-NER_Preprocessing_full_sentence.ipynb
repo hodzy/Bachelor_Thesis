{
 "cells": [
  {
   "cell_type": "code",
   "execution_count": 1,
   "id": "b0dd1152",
   "metadata": {},
   "outputs": [],
   "source": [
    "# parsing CoNLL+WikiNEuRal folder\n",
    "\n",
    "# !pip install datasets\n",
    "\n",
    "from datasets import load_dataset\n",
    "import pandas as pd\n",
    "import re\n",
    "import time\n",
    "import json\n",
    "from sklearn.model_selection import train_test_split\n",
    "import numpy as np"
   ]
  },
  {
   "cell_type": "code",
   "execution_count": 2,
   "id": "9ba00f94",
   "metadata": {},
   "outputs": [],
   "source": [
    "def parse_file_data(path, in_position, pos_position, line_len, sep):\n",
    "    dataset = []\n",
    "    f = open(path, encoding=\"utf8\") \n",
    "    input_sentence = ''\n",
    "    target_output = ''\n",
    "    word_count = 0\n",
    "    NE_count = 0\n",
    "        \n",
    "    for row in f:  \n",
    "        row = row.split(sep)\n",
    "        \n",
    "        if '-DOCSTART-' in row[0]:\n",
    "            continue\n",
    "        \n",
    "        if row[0] == \"\\n\" and input_sentence != \"\": ############# keep in mind, make sure it is correct\n",
    "            if(target_output == ''):\n",
    "                target_output = '*s**e*'\n",
    "            dataset.append([input_sentence, target_output, word_count, NE_count])\n",
    "            input_sentence = ''\n",
    "            target_output = ''\n",
    "            word_count = 0\n",
    "            NE_count = 0\n",
    "            continue\n",
    "\n",
    "        if len(row) <line_len:\n",
    "            continue\n",
    "        elif len(row) != line_len:\n",
    "            print(\"something is wrong, length is diff: \", row)\n",
    "        \n",
    "        # to remove the '\\n' at the end\n",
    "        if row[-1] == '\\n':\n",
    "            row = row[:-1]\n",
    "        elif '\\n' in row[-1]:\n",
    "            row[-1] = row[-1].replace('\\n', '')\n",
    "\n",
    "        word = row[in_position]\n",
    "        pos_tag = row[pos_position]\n",
    "        \n",
    "        # adding word to input sentence\n",
    "        if input_sentence == \"\": \n",
    "            input_sentence = word\n",
    "            if pos_tag == 'O': \n",
    "                target_output = word\n",
    "        else:\n",
    "            if word == \"'s\" and pos_tag.startswith('I-'):\n",
    "                input_sentence = input_sentence + word\n",
    "                if pos_tag == 'O': \n",
    "                    target_output = target_output + word\n",
    "            else: \n",
    "                if pos_tag == 'O': \n",
    "                    target_output = target_output + \" \" + word\n",
    "                input_sentence = input_sentence + \" \" + word\n",
    "        \n",
    "        if len(re.sub(r'[\\W\\s]', '', word)):\n",
    "            word_count += 1\n",
    "            \n",
    "        \n",
    "        # adding entity word to target sentence\n",
    "        if pos_tag != 'O':\n",
    "            if len(re.sub(r'[\\W\\s]', '', word)):\n",
    "                NE_count += 1\n",
    "            if target_output == '':\n",
    "                target_output = f'*s* {word} *e*'\n",
    "        \n",
    "            elif pos_tag.startswith('B-'):\n",
    "                target_output = f'{target_output} *s* {word} *e*'\n",
    "            elif pos_tag.startswith('I-'):\n",
    "                target_output = target_output.rsplit(' *e*', 1)[0] \n",
    "                if word == \"'s\":\n",
    "                    target_output = f'{target_output}{word} *e*'\n",
    "                else:\n",
    "                    target_output = f'{target_output} {word} *e*'\n",
    "            else: \n",
    "                print('error')\n",
    "                print(pos_tag)  \n",
    "    f.close()\n",
    "    parsed_data = pd.DataFrame(dataset, columns=['input_text', 'target_text', 'word_count', 'NE_count'])\n",
    "    return parsed_data"
   ]
  },
  {
   "cell_type": "code",
   "execution_count": 3,
   "id": "721c2e69",
   "metadata": {},
   "outputs": [],
   "source": [
    "def read_onto_dataset():\n",
    "    dataset = {'input_text':[], 'target_text': [], 'word_count': [], 'NE_count': []}\n",
    "    with open('./1-NER_Data/0-raw_data/ontoNotes_5.0/ontonotes5.json', encoding=\"utf8\") as f:\n",
    "        # returns JSON object as a dictionary\n",
    "        data = json.load(f)\n",
    "        \n",
    "    entities_to_remove = ['DATE', 'TIME', 'PERCENT', 'MONEY' , 'QUANTITY', 'ORDINAL', 'CARDINAL']\n",
    "    for sent in data['TRAINING']:\n",
    "        if sent['language'] != 'english':\n",
    "            continue\n",
    "        \n",
    "        ne_count = 0\n",
    "        input_sent = sent['text']\n",
    "        word_count = len(sent['text'].split())\n",
    "        target_ent = sent['text']\n",
    "        for pair in sent['entities'].items():\n",
    "            if pair[0] in entities_to_remove:\n",
    "                continue\n",
    "            \n",
    "            entities = pair[1] \n",
    "            for (i,j) in entities:\n",
    "                ne_count += 1\n",
    "                target_str = input_sent[i:j]\n",
    "                target_ent = target_ent.replace(target_str, f'*s* {target_str} *e*')\n",
    "\n",
    "        dataset['input_text'].append(input_sent)\n",
    "\n",
    "        dataset['target_text'].append(target_ent)\n",
    "        dataset['word_count'].append(word_count)\n",
    "        dataset['NE_count'].append(ne_count)\n",
    "    return pd.DataFrame(dataset) "
   ]
  },
  {
   "cell_type": "code",
   "execution_count": 4,
   "id": "db6a8e14",
   "metadata": {},
   "outputs": [],
   "source": [
    "def add_per_NE_sent(data):\n",
    "    data['%_NE_in_sentence'] = round(data['NE_count']/ data['word_count'], 1)\n",
    "    return data"
   ]
  },
  {
   "cell_type": "code",
   "execution_count": 5,
   "id": "5ab18958",
   "metadata": {},
   "outputs": [],
   "source": [
    "# expects a dataframe\n",
    "def lower_case_df(data):\n",
    "    low_input_text = data[\"input_text\"].str.lower()\n",
    "    low_target_text = data[\"target_text\"].str.lower()\n",
    "    return create_dataframe(low_input_text, low_target_text)"
   ]
  },
  {
   "cell_type": "code",
   "execution_count": 6,
   "id": "d677af9e",
   "metadata": {},
   "outputs": [],
   "source": [
    "# expects a dataframe\n",
    "def upper_case_df(data):\n",
    "    upper_input_text = data[\"input_text\"].str.upper()\n",
    "    upper_target_text = data[\"target_text\"].str.upper()\n",
    "    return create_dataframe(upper_input_text, upper_target_text)"
   ]
  },
  {
   "cell_type": "code",
   "execution_count": 7,
   "id": "9ca1e407",
   "metadata": {},
   "outputs": [],
   "source": [
    "def create_dataframe(input_sent, target_sent):\n",
    "    data = []\n",
    "    for input_text, target_text in zip(input_sent, target_sent):\n",
    "        data.append([input_text, target_text])\n",
    "\n",
    "    return pd.DataFrame(data, columns=['input_text', 'target_text'])"
   ]
  },
  {
   "cell_type": "markdown",
   "id": "e261843f",
   "metadata": {},
   "source": [
    "## Reading the onto_data and splitting the data into training, validation and test sets"
   ]
  },
  {
   "cell_type": "code",
   "execution_count": 8,
   "id": "13e77d6b",
   "metadata": {},
   "outputs": [],
   "source": [
    "onto_data = read_onto_dataset()\n",
    "onto_data = onto_data.sample(frac=1, random_state=1).reset_index(drop=True)\n",
    "onto_training, onto_test = train_test_split(onto_data, test_size=0.3)\n",
    "onto_test, onto_val = train_test_split(onto_test, test_size=0.5)"
   ]
  },
  {
   "cell_type": "code",
   "execution_count": 9,
   "id": "e6c6f651",
   "metadata": {},
   "outputs": [
    {
     "data": {
      "text/html": [
       "<div>\n",
       "<style scoped>\n",
       "    .dataframe tbody tr th:only-of-type {\n",
       "        vertical-align: middle;\n",
       "    }\n",
       "\n",
       "    .dataframe tbody tr th {\n",
       "        vertical-align: top;\n",
       "    }\n",
       "\n",
       "    .dataframe thead th {\n",
       "        text-align: right;\n",
       "    }\n",
       "</style>\n",
       "<table border=\"1\" class=\"dataframe\">\n",
       "  <thead>\n",
       "    <tr style=\"text-align: right;\">\n",
       "      <th></th>\n",
       "      <th>input_text</th>\n",
       "      <th>target_text</th>\n",
       "      <th>word_count</th>\n",
       "      <th>NE_count</th>\n",
       "    </tr>\n",
       "  </thead>\n",
       "  <tbody>\n",
       "    <tr>\n",
       "      <th>55337</th>\n",
       "      <td>It's a bizarre and totally inappropriate react...</td>\n",
       "      <td>It's a bizarre and totally inappropriate react...</td>\n",
       "      <td>20</td>\n",
       "      <td>0</td>\n",
       "    </tr>\n",
       "    <tr>\n",
       "      <th>82630</th>\n",
       "      <td>okay.</td>\n",
       "      <td>okay.</td>\n",
       "      <td>1</td>\n",
       "      <td>0</td>\n",
       "    </tr>\n",
       "    <tr>\n",
       "      <th>121523</th>\n",
       "      <td>-LRB-2-RRB-If you tax oil industry profits, yo...</td>\n",
       "      <td>-LRB-2-RRB-If you tax oil industry profits, yo...</td>\n",
       "      <td>21</td>\n",
       "      <td>0</td>\n",
       "    </tr>\n",
       "    <tr>\n",
       "      <th>25144</th>\n",
       "      <td>However, it is very careful in wording when ma...</td>\n",
       "      <td>However, it is very careful in wording when ma...</td>\n",
       "      <td>16</td>\n",
       "      <td>0</td>\n",
       "    </tr>\n",
       "    <tr>\n",
       "      <th>39912</th>\n",
       "      <td>Then the master will come when the servant is ...</td>\n",
       "      <td>Then the master will come when the servant is ...</td>\n",
       "      <td>21</td>\n",
       "      <td>0</td>\n",
       "    </tr>\n",
       "    <tr>\n",
       "      <th>...</th>\n",
       "      <td>...</td>\n",
       "      <td>...</td>\n",
       "      <td>...</td>\n",
       "      <td>...</td>\n",
       "    </tr>\n",
       "    <tr>\n",
       "      <th>24591</th>\n",
       "      <td>I understand Larry's point,</td>\n",
       "      <td>I understand *s* Larry *e*'s point,</td>\n",
       "      <td>4</td>\n",
       "      <td>1</td>\n",
       "    </tr>\n",
       "    <tr>\n",
       "      <th>30228</th>\n",
       "      <td>They have replaced God with their own desires.</td>\n",
       "      <td>They have replaced God with their own desires.</td>\n",
       "      <td>8</td>\n",
       "      <td>0</td>\n",
       "    </tr>\n",
       "    <tr>\n",
       "      <th>80451</th>\n",
       "      <td>Black activist Walter Sisulu said the African ...</td>\n",
       "      <td>Black activist Walter Sisulu said *s* the Afri...</td>\n",
       "      <td>31</td>\n",
       "      <td>2</td>\n",
       "    </tr>\n",
       "    <tr>\n",
       "      <th>129259</th>\n",
       "      <td>After my friends pulled out of the operation, ...</td>\n",
       "      <td>After my friends pulled out of the operation, ...</td>\n",
       "      <td>20</td>\n",
       "      <td>0</td>\n",
       "    </tr>\n",
       "    <tr>\n",
       "      <th>58826</th>\n",
       "      <td>According to Mr. Threlkeld, the bottleneck in ...</td>\n",
       "      <td>According to Mr. *s* Threlkeld *e*, the bottle...</td>\n",
       "      <td>19</td>\n",
       "      <td>1</td>\n",
       "    </tr>\n",
       "  </tbody>\n",
       "</table>\n",
       "<p>92386 rows × 4 columns</p>\n",
       "</div>"
      ],
      "text/plain": [
       "                                               input_text  \\\n",
       "55337   It's a bizarre and totally inappropriate react...   \n",
       "82630                                               okay.   \n",
       "121523  -LRB-2-RRB-If you tax oil industry profits, yo...   \n",
       "25144   However, it is very careful in wording when ma...   \n",
       "39912   Then the master will come when the servant is ...   \n",
       "...                                                   ...   \n",
       "24591                         I understand Larry's point,   \n",
       "30228      They have replaced God with their own desires.   \n",
       "80451   Black activist Walter Sisulu said the African ...   \n",
       "129259  After my friends pulled out of the operation, ...   \n",
       "58826   According to Mr. Threlkeld, the bottleneck in ...   \n",
       "\n",
       "                                              target_text  word_count  \\\n",
       "55337   It's a bizarre and totally inappropriate react...          20   \n",
       "82630                                               okay.           1   \n",
       "121523  -LRB-2-RRB-If you tax oil industry profits, yo...          21   \n",
       "25144   However, it is very careful in wording when ma...          16   \n",
       "39912   Then the master will come when the servant is ...          21   \n",
       "...                                                   ...         ...   \n",
       "24591                 I understand *s* Larry *e*'s point,           4   \n",
       "30228      They have replaced God with their own desires.           8   \n",
       "80451   Black activist Walter Sisulu said *s* the Afri...          31   \n",
       "129259  After my friends pulled out of the operation, ...          20   \n",
       "58826   According to Mr. *s* Threlkeld *e*, the bottle...          19   \n",
       "\n",
       "        NE_count  \n",
       "55337          0  \n",
       "82630          0  \n",
       "121523         0  \n",
       "25144          0  \n",
       "39912          0  \n",
       "...          ...  \n",
       "24591          1  \n",
       "30228          0  \n",
       "80451          2  \n",
       "129259         0  \n",
       "58826          1  \n",
       "\n",
       "[92386 rows x 4 columns]"
      ]
     },
     "execution_count": 9,
     "metadata": {},
     "output_type": "execute_result"
    }
   ],
   "source": [
    "onto_training"
   ]
  },
  {
   "cell_type": "code",
   "execution_count": 10,
   "id": "70b284c4",
   "metadata": {},
   "outputs": [
    {
     "data": {
      "text/plain": [
       "131980"
      ]
     },
     "execution_count": 10,
     "metadata": {},
     "output_type": "execute_result"
    }
   ],
   "source": [
    "len(onto_data)"
   ]
  },
  {
   "cell_type": "code",
   "execution_count": 11,
   "id": "fc8020ca",
   "metadata": {},
   "outputs": [
    {
     "name": "stdout",
     "output_type": "stream",
     "text": [
      "92386\n",
      "19797\n",
      "19797\n"
     ]
    }
   ],
   "source": [
    "print(len(onto_training))\n",
    "print(len(onto_test))\n",
    "print(len(onto_val))"
   ]
  },
  {
   "cell_type": "markdown",
   "id": "1600e40c",
   "metadata": {},
   "source": [
    "# Training data"
   ]
  },
  {
   "cell_type": "markdown",
   "id": "a4c51a51",
   "metadata": {},
   "source": [
    "### Read the data from either txt files or from huggingface dataset and converting each to target form  --->  [input_text, target_text, word_count, NE_count] "
   ]
  },
  {
   "cell_type": "code",
   "execution_count": 12,
   "id": "1c0e78a6",
   "metadata": {},
   "outputs": [
    {
     "data": {
      "text/html": [
       "<div>\n",
       "<style scoped>\n",
       "    .dataframe tbody tr th:only-of-type {\n",
       "        vertical-align: middle;\n",
       "    }\n",
       "\n",
       "    .dataframe tbody tr th {\n",
       "        vertical-align: top;\n",
       "    }\n",
       "\n",
       "    .dataframe thead th {\n",
       "        text-align: right;\n",
       "    }\n",
       "</style>\n",
       "<table border=\"1\" class=\"dataframe\">\n",
       "  <thead>\n",
       "    <tr style=\"text-align: right;\">\n",
       "      <th></th>\n",
       "      <th>input_text</th>\n",
       "      <th>target_text</th>\n",
       "      <th>word_count</th>\n",
       "      <th>NE_count</th>\n",
       "    </tr>\n",
       "  </thead>\n",
       "  <tbody>\n",
       "    <tr>\n",
       "      <th>0</th>\n",
       "      <td>EU rejects German call to boycott British lamb .</td>\n",
       "      <td>*s* EU *e* rejects *s* German *e* call to boyc...</td>\n",
       "      <td>8</td>\n",
       "      <td>3</td>\n",
       "    </tr>\n",
       "    <tr>\n",
       "      <th>1</th>\n",
       "      <td>Peter Blackburn</td>\n",
       "      <td>*s* Peter Blackburn *e*</td>\n",
       "      <td>2</td>\n",
       "      <td>2</td>\n",
       "    </tr>\n",
       "    <tr>\n",
       "      <th>2</th>\n",
       "      <td>BRUSSELS 1996-08-22</td>\n",
       "      <td>*s* BRUSSELS *e* 1996-08-22</td>\n",
       "      <td>2</td>\n",
       "      <td>1</td>\n",
       "    </tr>\n",
       "    <tr>\n",
       "      <th>3</th>\n",
       "      <td>The European Commission said on Thursday it di...</td>\n",
       "      <td>The *s* European Commission *e* said on Thursd...</td>\n",
       "      <td>29</td>\n",
       "      <td>4</td>\n",
       "    </tr>\n",
       "    <tr>\n",
       "      <th>4</th>\n",
       "      <td>Germany 's representative to the European Unio...</td>\n",
       "      <td>*s* Germany *e* 's representative to the *s* E...</td>\n",
       "      <td>30</td>\n",
       "      <td>6</td>\n",
       "    </tr>\n",
       "    <tr>\n",
       "      <th>...</th>\n",
       "      <td>...</td>\n",
       "      <td>...</td>\n",
       "      <td>...</td>\n",
       "      <td>...</td>\n",
       "    </tr>\n",
       "    <tr>\n",
       "      <th>14036</th>\n",
       "      <td>on Friday :</td>\n",
       "      <td>on Friday :</td>\n",
       "      <td>2</td>\n",
       "      <td>0</td>\n",
       "    </tr>\n",
       "    <tr>\n",
       "      <th>14037</th>\n",
       "      <td>Division two</td>\n",
       "      <td>Division two</td>\n",
       "      <td>2</td>\n",
       "      <td>0</td>\n",
       "    </tr>\n",
       "    <tr>\n",
       "      <th>14038</th>\n",
       "      <td>Plymouth 2 Preston 1</td>\n",
       "      <td>*s* Plymouth *e* 2 *s* Preston *e* 1</td>\n",
       "      <td>4</td>\n",
       "      <td>2</td>\n",
       "    </tr>\n",
       "    <tr>\n",
       "      <th>14039</th>\n",
       "      <td>Division three</td>\n",
       "      <td>Division three</td>\n",
       "      <td>2</td>\n",
       "      <td>0</td>\n",
       "    </tr>\n",
       "    <tr>\n",
       "      <th>14040</th>\n",
       "      <td>Swansea 1 Lincoln 2</td>\n",
       "      <td>*s* Swansea *e* 1 *s* Lincoln *e* 2</td>\n",
       "      <td>4</td>\n",
       "      <td>2</td>\n",
       "    </tr>\n",
       "  </tbody>\n",
       "</table>\n",
       "<p>14041 rows × 4 columns</p>\n",
       "</div>"
      ],
      "text/plain": [
       "                                              input_text  \\\n",
       "0       EU rejects German call to boycott British lamb .   \n",
       "1                                        Peter Blackburn   \n",
       "2                                    BRUSSELS 1996-08-22   \n",
       "3      The European Commission said on Thursday it di...   \n",
       "4      Germany 's representative to the European Unio...   \n",
       "...                                                  ...   \n",
       "14036                                        on Friday :   \n",
       "14037                                       Division two   \n",
       "14038                               Plymouth 2 Preston 1   \n",
       "14039                                     Division three   \n",
       "14040                                Swansea 1 Lincoln 2   \n",
       "\n",
       "                                             target_text  word_count  NE_count  \n",
       "0      *s* EU *e* rejects *s* German *e* call to boyc...           8         3  \n",
       "1                                *s* Peter Blackburn *e*           2         2  \n",
       "2                            *s* BRUSSELS *e* 1996-08-22           2         1  \n",
       "3      The *s* European Commission *e* said on Thursd...          29         4  \n",
       "4      *s* Germany *e* 's representative to the *s* E...          30         6  \n",
       "...                                                  ...         ...       ...  \n",
       "14036                                        on Friday :           2         0  \n",
       "14037                                       Division two           2         0  \n",
       "14038               *s* Plymouth *e* 2 *s* Preston *e* 1           4         2  \n",
       "14039                                     Division three           2         0  \n",
       "14040                *s* Swansea *e* 1 *s* Lincoln *e* 2           4         2  \n",
       "\n",
       "[14041 rows x 4 columns]"
      ]
     },
     "execution_count": 12,
     "metadata": {},
     "output_type": "execute_result"
    }
   ],
   "source": [
    "# CoNLL2003++ training dataset\n",
    "\n",
    "conellpp_training = parse_file_data(\"./1-NER_Data/0-raw_data/coNLL2003pp/conllpp_train.txt\", in_position=0, pos_position=3, line_len=4, sep=' ')\n",
    "conellpp_training"
   ]
  },
  {
   "cell_type": "code",
   "execution_count": 13,
   "id": "5b29b3ba",
   "metadata": {},
   "outputs": [
    {
     "data": {
      "text/plain": [
       "input_text     Germany 's representative to the European Unio...\n",
       "target_text    *s* Germany *e* 's representative to the *s* E...\n",
       "word_count                                                    30\n",
       "NE_count                                                       6\n",
       "Name: 4, dtype: object"
      ]
     },
     "execution_count": 13,
     "metadata": {},
     "output_type": "execute_result"
    }
   ],
   "source": [
    "conellpp_training.iloc[4]"
   ]
  },
  {
   "cell_type": "code",
   "execution_count": 14,
   "id": "9f96ca55",
   "metadata": {},
   "outputs": [
    {
     "data": {
      "text/html": [
       "<div>\n",
       "<style scoped>\n",
       "    .dataframe tbody tr th:only-of-type {\n",
       "        vertical-align: middle;\n",
       "    }\n",
       "\n",
       "    .dataframe tbody tr th {\n",
       "        vertical-align: top;\n",
       "    }\n",
       "\n",
       "    .dataframe thead th {\n",
       "        text-align: right;\n",
       "    }\n",
       "</style>\n",
       "<table border=\"1\" class=\"dataframe\">\n",
       "  <thead>\n",
       "    <tr style=\"text-align: right;\">\n",
       "      <th></th>\n",
       "      <th>input_text</th>\n",
       "      <th>target_text</th>\n",
       "      <th>word_count</th>\n",
       "      <th>NE_count</th>\n",
       "    </tr>\n",
       "  </thead>\n",
       "  <tbody>\n",
       "    <tr>\n",
       "      <th>0</th>\n",
       "      <td>This division also contains the Ventana Wilder...</td>\n",
       "      <td>This division also contains the *s* Ventana Wi...</td>\n",
       "      <td>12</td>\n",
       "      <td>3</td>\n",
       "    </tr>\n",
       "    <tr>\n",
       "      <th>1</th>\n",
       "      <td>\" So here is the balance NBC has to consider :...</td>\n",
       "      <td>\" So here is the balance *s* NBC *e* has to co...</td>\n",
       "      <td>13</td>\n",
       "      <td>5</td>\n",
       "    </tr>\n",
       "    <tr>\n",
       "      <th>2</th>\n",
       "      <td>It is a protest song that \" creates a cinemati...</td>\n",
       "      <td>It is a protest song that \" creates a cinemati...</td>\n",
       "      <td>36</td>\n",
       "      <td>1</td>\n",
       "    </tr>\n",
       "    <tr>\n",
       "      <th>3</th>\n",
       "      <td>This differs from approaches such as IP or Eth...</td>\n",
       "      <td>This differs from approaches such as IP or *s*...</td>\n",
       "      <td>16</td>\n",
       "      <td>1</td>\n",
       "    </tr>\n",
       "    <tr>\n",
       "      <th>4</th>\n",
       "      <td>Since then , only Terry Bradshaw in 147 games ...</td>\n",
       "      <td>Since then , only *s* Terry Bradshaw *e* in 14...</td>\n",
       "      <td>25</td>\n",
       "      <td>6</td>\n",
       "    </tr>\n",
       "    <tr>\n",
       "      <th>...</th>\n",
       "      <td>...</td>\n",
       "      <td>...</td>\n",
       "      <td>...</td>\n",
       "      <td>...</td>\n",
       "    </tr>\n",
       "    <tr>\n",
       "      <th>92715</th>\n",
       "      <td>The couple had a son , David , and a daughter ...</td>\n",
       "      <td>The couple had a son , *s* David *e* , and a d...</td>\n",
       "      <td>10</td>\n",
       "      <td>2</td>\n",
       "    </tr>\n",
       "    <tr>\n",
       "      <th>92716</th>\n",
       "      <td>The Home Secretary , J. R. Clynes , was presen...</td>\n",
       "      <td>The Home Secretary , *s* J. R. Clynes *e* , wa...</td>\n",
       "      <td>12</td>\n",
       "      <td>3</td>\n",
       "    </tr>\n",
       "    <tr>\n",
       "      <th>92717</th>\n",
       "      <td>At the time of her birth , she was fourth in t...</td>\n",
       "      <td>At the time of her birth , she was fourth in t...</td>\n",
       "      <td>18</td>\n",
       "      <td>2</td>\n",
       "    </tr>\n",
       "    <tr>\n",
       "      <th>92718</th>\n",
       "      <td>The film was based on the Broadway play of the...</td>\n",
       "      <td>The film was based on the *s* Broadway *e* pla...</td>\n",
       "      <td>12</td>\n",
       "      <td>1</td>\n",
       "    </tr>\n",
       "    <tr>\n",
       "      <th>92719</th>\n",
       "      <td>The couple had two children ( both born by Cae...</td>\n",
       "      <td>The couple had two children ( both born by *s*...</td>\n",
       "      <td>25</td>\n",
       "      <td>4</td>\n",
       "    </tr>\n",
       "  </tbody>\n",
       "</table>\n",
       "<p>92720 rows × 4 columns</p>\n",
       "</div>"
      ],
      "text/plain": [
       "                                              input_text  \\\n",
       "0      This division also contains the Ventana Wilder...   \n",
       "1      \" So here is the balance NBC has to consider :...   \n",
       "2      It is a protest song that \" creates a cinemati...   \n",
       "3      This differs from approaches such as IP or Eth...   \n",
       "4      Since then , only Terry Bradshaw in 147 games ...   \n",
       "...                                                  ...   \n",
       "92715  The couple had a son , David , and a daughter ...   \n",
       "92716  The Home Secretary , J. R. Clynes , was presen...   \n",
       "92717  At the time of her birth , she was fourth in t...   \n",
       "92718  The film was based on the Broadway play of the...   \n",
       "92719  The couple had two children ( both born by Cae...   \n",
       "\n",
       "                                             target_text  word_count  NE_count  \n",
       "0      This division also contains the *s* Ventana Wi...          12         3  \n",
       "1      \" So here is the balance *s* NBC *e* has to co...          13         5  \n",
       "2      It is a protest song that \" creates a cinemati...          36         1  \n",
       "3      This differs from approaches such as IP or *s*...          16         1  \n",
       "4      Since then , only *s* Terry Bradshaw *e* in 14...          25         6  \n",
       "...                                                  ...         ...       ...  \n",
       "92715  The couple had a son , *s* David *e* , and a d...          10         2  \n",
       "92716  The Home Secretary , *s* J. R. Clynes *e* , wa...          12         3  \n",
       "92717  At the time of her birth , she was fourth in t...          18         2  \n",
       "92718  The film was based on the *s* Broadway *e* pla...          12         1  \n",
       "92719  The couple had two children ( both born by *s*...          25         4  \n",
       "\n",
       "[92720 rows x 4 columns]"
      ]
     },
     "execution_count": 14,
     "metadata": {},
     "output_type": "execute_result"
    }
   ],
   "source": [
    "# wikineural training dataset\n",
    "\n",
    "wikineural_training = parse_file_data(\"./1-NER_Data/0-raw_data/wikineural/train.conllu.txt\", 1, 2, 3, '\\t')\n",
    "wikineural_training"
   ]
  },
  {
   "cell_type": "code",
   "execution_count": 15,
   "id": "878e15c9",
   "metadata": {},
   "outputs": [],
   "source": [
    "# OntoNotes 5.0 training dataset refer section above"
   ]
  },
  {
   "cell_type": "markdown",
   "id": "9345baa7",
   "metadata": {},
   "source": [
    "### Adding entity as percentage of the input sentence"
   ]
  },
  {
   "cell_type": "code",
   "execution_count": 16,
   "id": "428a3893",
   "metadata": {},
   "outputs": [],
   "source": [
    "conellpp_training = add_per_NE_sent(conellpp_training)\n",
    "wikineural_training = add_per_NE_sent(wikineural_training)\n",
    "onto_training = add_per_NE_sent(onto_training)"
   ]
  },
  {
   "cell_type": "markdown",
   "id": "01d7935b",
   "metadata": {},
   "source": [
    "#### conell++ training dataset"
   ]
  },
  {
   "cell_type": "code",
   "execution_count": 17,
   "id": "d9783c80",
   "metadata": {
    "scrolled": true
   },
   "outputs": [
    {
     "name": "stdout",
     "output_type": "stream",
     "text": [
      "14041\n",
      "there are 0.2383021152339577 sentences in the range of 0:0.1\n",
      "3346\n"
     ]
    },
    {
     "data": {
      "image/png": "[encoded data removed]",
      "text/plain": [
       "<Figure size 432x288 with 1 Axes>"
      ]
     },
     "metadata": {
      "needs_background": "light"
     },
     "output_type": "display_data"
    }
   ],
   "source": [
    "plot_percent_NE = conellpp_training['%_NE_in_sentence'].value_counts().sort_index()\n",
    "plot_percent_NE.plot(kind='bar')\n",
    "print(len(conellpp_training))\n",
    "print(\"there are\", sum(plot_percent_NE.loc[0:0.01])/len(conellpp_training), \"sentences in the range of 0:0.1\")\n",
    "print(sum(plot_percent_NE.loc[0:0.01]))"
   ]
  },
  {
   "cell_type": "code",
   "execution_count": 18,
   "id": "5a1a3897",
   "metadata": {
    "scrolled": true
   },
   "outputs": [
    {
     "data": {
      "text/plain": [
       "<AxesSubplot:xlabel='word_count'>"
      ]
     },
     "execution_count": 18,
     "metadata": {},
     "output_type": "execute_result"
    },
    {
     "data": {
      "image/png": "[encoded data removed]",
      "text/plain": [
       "<Figure size 432x288 with 1 Axes>"
      ]
     },
     "metadata": {
      "needs_background": "light"
     },
     "output_type": "display_data"
    }
   ],
   "source": [
    "conellpp_training.groupby(by='word_count')['input_text'].count().head(10).plot(kind='bar')"
   ]
  },
  {
   "cell_type": "code",
   "execution_count": 19,
   "id": "41bddcd4",
   "metadata": {},
   "outputs": [
    {
     "data": {
      "text/html": [
       "<div>\n",
       "<style scoped>\n",
       "    .dataframe tbody tr th:only-of-type {\n",
       "        vertical-align: middle;\n",
       "    }\n",
       "\n",
       "    .dataframe tbody tr th {\n",
       "        vertical-align: top;\n",
       "    }\n",
       "\n",
       "    .dataframe thead th {\n",
       "        text-align: right;\n",
       "    }\n",
       "</style>\n",
       "<table border=\"1\" class=\"dataframe\">\n",
       "  <thead>\n",
       "    <tr style=\"text-align: right;\">\n",
       "      <th></th>\n",
       "      <th>input_text</th>\n",
       "      <th>target_text</th>\n",
       "      <th>word_count</th>\n",
       "      <th>NE_count</th>\n",
       "      <th>%_NE_in_sentence</th>\n",
       "    </tr>\n",
       "  </thead>\n",
       "  <tbody>\n",
       "    <tr>\n",
       "      <th>0</th>\n",
       "      <td>EU rejects German call to boycott British lamb .</td>\n",
       "      <td>*s* EU *e* rejects *s* German *e* call to boyc...</td>\n",
       "      <td>8</td>\n",
       "      <td>3</td>\n",
       "      <td>0.4</td>\n",
       "    </tr>\n",
       "    <tr>\n",
       "      <th>1</th>\n",
       "      <td>Peter Blackburn</td>\n",
       "      <td>*s* Peter Blackburn *e*</td>\n",
       "      <td>2</td>\n",
       "      <td>2</td>\n",
       "      <td>1.0</td>\n",
       "    </tr>\n",
       "    <tr>\n",
       "      <th>2</th>\n",
       "      <td>BRUSSELS 1996-08-22</td>\n",
       "      <td>*s* BRUSSELS *e* 1996-08-22</td>\n",
       "      <td>2</td>\n",
       "      <td>1</td>\n",
       "      <td>0.5</td>\n",
       "    </tr>\n",
       "    <tr>\n",
       "      <th>3</th>\n",
       "      <td>The European Commission said on Thursday it di...</td>\n",
       "      <td>The *s* European Commission *e* said on Thursd...</td>\n",
       "      <td>29</td>\n",
       "      <td>4</td>\n",
       "      <td>0.1</td>\n",
       "    </tr>\n",
       "    <tr>\n",
       "      <th>4</th>\n",
       "      <td>Germany 's representative to the European Unio...</td>\n",
       "      <td>*s* Germany *e* 's representative to the *s* E...</td>\n",
       "      <td>30</td>\n",
       "      <td>6</td>\n",
       "      <td>0.2</td>\n",
       "    </tr>\n",
       "    <tr>\n",
       "      <th>...</th>\n",
       "      <td>...</td>\n",
       "      <td>...</td>\n",
       "      <td>...</td>\n",
       "      <td>...</td>\n",
       "      <td>...</td>\n",
       "    </tr>\n",
       "    <tr>\n",
       "      <th>13985</th>\n",
       "      <td>on Friday :</td>\n",
       "      <td>on Friday :</td>\n",
       "      <td>2</td>\n",
       "      <td>0</td>\n",
       "      <td>0.0</td>\n",
       "    </tr>\n",
       "    <tr>\n",
       "      <th>13986</th>\n",
       "      <td>Division two</td>\n",
       "      <td>Division two</td>\n",
       "      <td>2</td>\n",
       "      <td>0</td>\n",
       "      <td>0.0</td>\n",
       "    </tr>\n",
       "    <tr>\n",
       "      <th>13987</th>\n",
       "      <td>Plymouth 2 Preston 1</td>\n",
       "      <td>*s* Plymouth *e* 2 *s* Preston *e* 1</td>\n",
       "      <td>4</td>\n",
       "      <td>2</td>\n",
       "      <td>0.5</td>\n",
       "    </tr>\n",
       "    <tr>\n",
       "      <th>13988</th>\n",
       "      <td>Division three</td>\n",
       "      <td>Division three</td>\n",
       "      <td>2</td>\n",
       "      <td>0</td>\n",
       "      <td>0.0</td>\n",
       "    </tr>\n",
       "    <tr>\n",
       "      <th>13989</th>\n",
       "      <td>Swansea 1 Lincoln 2</td>\n",
       "      <td>*s* Swansea *e* 1 *s* Lincoln *e* 2</td>\n",
       "      <td>4</td>\n",
       "      <td>2</td>\n",
       "      <td>0.5</td>\n",
       "    </tr>\n",
       "  </tbody>\n",
       "</table>\n",
       "<p>13990 rows × 5 columns</p>\n",
       "</div>"
      ],
      "text/plain": [
       "                                              input_text  \\\n",
       "0       EU rejects German call to boycott British lamb .   \n",
       "1                                        Peter Blackburn   \n",
       "2                                    BRUSSELS 1996-08-22   \n",
       "3      The European Commission said on Thursday it di...   \n",
       "4      Germany 's representative to the European Unio...   \n",
       "...                                                  ...   \n",
       "13985                                        on Friday :   \n",
       "13986                                       Division two   \n",
       "13987                               Plymouth 2 Preston 1   \n",
       "13988                                     Division three   \n",
       "13989                                Swansea 1 Lincoln 2   \n",
       "\n",
       "                                             target_text  word_count  \\\n",
       "0      *s* EU *e* rejects *s* German *e* call to boyc...           8   \n",
       "1                                *s* Peter Blackburn *e*           2   \n",
       "2                            *s* BRUSSELS *e* 1996-08-22           2   \n",
       "3      The *s* European Commission *e* said on Thursd...          29   \n",
       "4      *s* Germany *e* 's representative to the *s* E...          30   \n",
       "...                                                  ...         ...   \n",
       "13985                                        on Friday :           2   \n",
       "13986                                       Division two           2   \n",
       "13987               *s* Plymouth *e* 2 *s* Preston *e* 1           4   \n",
       "13988                                     Division three           2   \n",
       "13989                *s* Swansea *e* 1 *s* Lincoln *e* 2           4   \n",
       "\n",
       "       NE_count  %_NE_in_sentence  \n",
       "0             3               0.4  \n",
       "1             2               1.0  \n",
       "2             1               0.5  \n",
       "3             4               0.1  \n",
       "4             6               0.2  \n",
       "...         ...               ...  \n",
       "13985         0               0.0  \n",
       "13986         0               0.0  \n",
       "13987         2               0.5  \n",
       "13988         0               0.0  \n",
       "13989         2               0.5  \n",
       "\n",
       "[13990 rows x 5 columns]"
      ]
     },
     "execution_count": 19,
     "metadata": {},
     "output_type": "execute_result"
    }
   ],
   "source": [
    "conellpp_training = conellpp_training.drop(conellpp_training.loc[conellpp_training['word_count'] == 0].index).reset_index(drop=True)\n",
    "conellpp_training"
   ]
  },
  {
   "cell_type": "markdown",
   "id": "74327fdd",
   "metadata": {},
   "source": [
    "#### Wikineiral training dataset"
   ]
  },
  {
   "cell_type": "code",
   "execution_count": 20,
   "id": "96db7d90",
   "metadata": {
    "scrolled": true
   },
   "outputs": [
    {
     "name": "stdout",
     "output_type": "stream",
     "text": [
      "92720\n",
      "there are 0.14910483175150993 sentences in the range of 0:0.1\n",
      "13825\n"
     ]
    },
    {
     "data": {
      "image/png": "[encoded data removed]",
      "text/plain": [
       "<Figure size 432x288 with 1 Axes>"
      ]
     },
     "metadata": {
      "needs_background": "light"
     },
     "output_type": "display_data"
    }
   ],
   "source": [
    "plot_percent_NE = wikineural_training['%_NE_in_sentence'].value_counts().sort_index()\n",
    "plot_percent_NE.plot(kind='bar')\n",
    "print(len(wikineural_training))\n",
    "print(\"there are\", sum(plot_percent_NE.loc[0:0.01])/len(wikineural_training), \"sentences in the range of 0:0.1\")\n",
    "print(sum(plot_percent_NE.loc[0:0.01]))"
   ]
  },
  {
   "cell_type": "code",
   "execution_count": 21,
   "id": "e58ef432",
   "metadata": {},
   "outputs": [
    {
     "data": {
      "text/plain": [
       "<AxesSubplot:xlabel='word_count'>"
      ]
     },
     "execution_count": 21,
     "metadata": {},
     "output_type": "execute_result"
    },
    {
     "data": {
      "image/png": "[encoded data removed]",
      "text/plain": [
       "<Figure size 432x288 with 1 Axes>"
      ]
     },
     "metadata": {
      "needs_background": "light"
     },
     "output_type": "display_data"
    }
   ],
   "source": [
    "wikineural_training.groupby(by='word_count')['input_text'].count().head(10).plot(kind='bar')"
   ]
  },
  {
   "cell_type": "markdown",
   "id": "531ac578",
   "metadata": {},
   "source": [
    "#### Onto training dataset"
   ]
  },
  {
   "cell_type": "code",
   "execution_count": 22,
   "id": "f195c877",
   "metadata": {},
   "outputs": [
    {
     "name": "stdout",
     "output_type": "stream",
     "text": [
      "92386\n",
      "there are 0.7094906154612171 sentences in the range of 0:0.1\n",
      "65547\n"
     ]
    },
    {
     "data": {
      "image/png": "[encoded data removed]",
      "text/plain": [
       "<Figure size 432x288 with 1 Axes>"
      ]
     },
     "metadata": {
      "needs_background": "light"
     },
     "output_type": "display_data"
    }
   ],
   "source": [
    "plot_percent_NE = onto_training['%_NE_in_sentence'].value_counts().sort_index()\n",
    "plot_percent_NE.plot(kind='bar')\n",
    "print(len(onto_training))\n",
    "print(\"there are\", sum(plot_percent_NE.loc[0:0.01])/len(onto_training), \"sentences in the range of 0:0.1\")\n",
    "print(sum(plot_percent_NE.loc[0:0.01]))"
   ]
  },
  {
   "cell_type": "code",
   "execution_count": 23,
   "id": "c68e9fab",
   "metadata": {},
   "outputs": [
    {
     "data": {
      "text/html": [
       "<div>\n",
       "<style scoped>\n",
       "    .dataframe tbody tr th:only-of-type {\n",
       "        vertical-align: middle;\n",
       "    }\n",
       "\n",
       "    .dataframe tbody tr th {\n",
       "        vertical-align: top;\n",
       "    }\n",
       "\n",
       "    .dataframe thead th {\n",
       "        text-align: right;\n",
       "    }\n",
       "</style>\n",
       "<table border=\"1\" class=\"dataframe\">\n",
       "  <thead>\n",
       "    <tr style=\"text-align: right;\">\n",
       "      <th></th>\n",
       "      <th>input_text</th>\n",
       "      <th>target_text</th>\n",
       "      <th>word_count</th>\n",
       "      <th>NE_count</th>\n",
       "      <th>%_NE_in_sentence</th>\n",
       "    </tr>\n",
       "  </thead>\n",
       "  <tbody>\n",
       "    <tr>\n",
       "      <th>0</th>\n",
       "      <td>-LRB-2-RRB-If you tax oil industry profits, yo...</td>\n",
       "      <td>-LRB-2-RRB-If you tax oil industry profits, yo...</td>\n",
       "      <td>21</td>\n",
       "      <td>0</td>\n",
       "      <td>0.0</td>\n",
       "    </tr>\n",
       "    <tr>\n",
       "      <th>1</th>\n",
       "      <td>However, it is very careful in wording when ma...</td>\n",
       "      <td>However, it is very careful in wording when ma...</td>\n",
       "      <td>16</td>\n",
       "      <td>0</td>\n",
       "      <td>0.0</td>\n",
       "    </tr>\n",
       "    <tr>\n",
       "      <th>2</th>\n",
       "      <td>Then the master will come when the servant is ...</td>\n",
       "      <td>Then the master will come when the servant is ...</td>\n",
       "      <td>21</td>\n",
       "      <td>0</td>\n",
       "      <td>0.0</td>\n",
       "    </tr>\n",
       "    <tr>\n",
       "      <th>3</th>\n",
       "      <td>yeah</td>\n",
       "      <td>yeah</td>\n",
       "      <td>1</td>\n",
       "      <td>0</td>\n",
       "      <td>0.0</td>\n",
       "    </tr>\n",
       "    <tr>\n",
       "      <th>4</th>\n",
       "      <td>Saudi Arabia, OPEC's kingpin, abandoned a poli...</td>\n",
       "      <td>*s* Saudi Arabia *e*, *s* OPEC *e*'s kingpin, ...</td>\n",
       "      <td>14</td>\n",
       "      <td>2</td>\n",
       "      <td>0.1</td>\n",
       "    </tr>\n",
       "    <tr>\n",
       "      <th>...</th>\n",
       "      <td>...</td>\n",
       "      <td>...</td>\n",
       "      <td>...</td>\n",
       "      <td>...</td>\n",
       "      <td>...</td>\n",
       "    </tr>\n",
       "    <tr>\n",
       "      <th>48683</th>\n",
       "      <td>Paris, overcast, 1 to 4 degrees.</td>\n",
       "      <td>*s* Paris *e*, overcast, 1 to 4 degrees.</td>\n",
       "      <td>6</td>\n",
       "      <td>1</td>\n",
       "      <td>0.2</td>\n",
       "    </tr>\n",
       "    <tr>\n",
       "      <th>48684</th>\n",
       "      <td>They put Solomon on David's mule and went with...</td>\n",
       "      <td>They put Solomon on David's mule and went with...</td>\n",
       "      <td>14</td>\n",
       "      <td>0</td>\n",
       "      <td>0.0</td>\n",
       "    </tr>\n",
       "    <tr>\n",
       "      <th>48685</th>\n",
       "      <td>I understand Larry's point,</td>\n",
       "      <td>I understand *s* Larry *e*'s point,</td>\n",
       "      <td>4</td>\n",
       "      <td>1</td>\n",
       "      <td>0.2</td>\n",
       "    </tr>\n",
       "    <tr>\n",
       "      <th>48686</th>\n",
       "      <td>Black activist Walter Sisulu said the African ...</td>\n",
       "      <td>Black activist Walter Sisulu said *s* the Afri...</td>\n",
       "      <td>31</td>\n",
       "      <td>2</td>\n",
       "      <td>0.1</td>\n",
       "    </tr>\n",
       "    <tr>\n",
       "      <th>48687</th>\n",
       "      <td>According to Mr. Threlkeld, the bottleneck in ...</td>\n",
       "      <td>According to Mr. *s* Threlkeld *e*, the bottle...</td>\n",
       "      <td>19</td>\n",
       "      <td>1</td>\n",
       "      <td>0.1</td>\n",
       "    </tr>\n",
       "  </tbody>\n",
       "</table>\n",
       "<p>48688 rows × 5 columns</p>\n",
       "</div>"
      ],
      "text/plain": [
       "                                              input_text  \\\n",
       "0      -LRB-2-RRB-If you tax oil industry profits, yo...   \n",
       "1      However, it is very careful in wording when ma...   \n",
       "2      Then the master will come when the servant is ...   \n",
       "3                                                   yeah   \n",
       "4      Saudi Arabia, OPEC's kingpin, abandoned a poli...   \n",
       "...                                                  ...   \n",
       "48683                   Paris, overcast, 1 to 4 degrees.   \n",
       "48684  They put Solomon on David's mule and went with...   \n",
       "48685                        I understand Larry's point,   \n",
       "48686  Black activist Walter Sisulu said the African ...   \n",
       "48687  According to Mr. Threlkeld, the bottleneck in ...   \n",
       "\n",
       "                                             target_text  word_count  \\\n",
       "0      -LRB-2-RRB-If you tax oil industry profits, yo...          21   \n",
       "1      However, it is very careful in wording when ma...          16   \n",
       "2      Then the master will come when the servant is ...          21   \n",
       "3                                                   yeah           1   \n",
       "4      *s* Saudi Arabia *e*, *s* OPEC *e*'s kingpin, ...          14   \n",
       "...                                                  ...         ...   \n",
       "48683           *s* Paris *e*, overcast, 1 to 4 degrees.           6   \n",
       "48684  They put Solomon on David's mule and went with...          14   \n",
       "48685                I understand *s* Larry *e*'s point,           4   \n",
       "48686  Black activist Walter Sisulu said *s* the Afri...          31   \n",
       "48687  According to Mr. *s* Threlkeld *e*, the bottle...          19   \n",
       "\n",
       "       NE_count  %_NE_in_sentence  \n",
       "0             0               0.0  \n",
       "1             0               0.0  \n",
       "2             0               0.0  \n",
       "3             0               0.0  \n",
       "4             2               0.1  \n",
       "...         ...               ...  \n",
       "48683         1               0.2  \n",
       "48684         0               0.0  \n",
       "48685         1               0.2  \n",
       "48686         2               0.1  \n",
       "48687         1               0.1  \n",
       "\n",
       "[48688 rows x 5 columns]"
      ]
     },
     "execution_count": 23,
     "metadata": {},
     "output_type": "execute_result"
    }
   ],
   "source": [
    "# dropping half of the rows with zero entities randomly\n",
    "\n",
    "np.random.seed(10)\n",
    "zero_entities = onto_training.loc[onto_training['%_NE_in_sentence']==0].index\n",
    "#TODO: take 1/5 of the entities with 0 entities .. so that the overall (combined) dataset has less than or equal to 15%\n",
    "remove_n = round(len(zero_entities)*2/3)\n",
    "\n",
    "\n",
    "drop_indices = np.random.choice(zero_entities, remove_n, replace=False)\n",
    "onto_training = onto_training.drop(drop_indices).reset_index(drop=True)\n",
    "onto_training"
   ]
  },
  {
   "cell_type": "code",
   "execution_count": 24,
   "id": "e7446367",
   "metadata": {},
   "outputs": [
    {
     "name": "stdout",
     "output_type": "stream",
     "text": [
      "48688\n",
      "there are 0.4487553401248768 sentences in the range of 0:0.1\n",
      "21849\n"
     ]
    },
    {
     "data": {
      "image/png": "[encoded data removed]",
      "text/plain": [
       "<Figure size 432x288 with 1 Axes>"
      ]
     },
     "metadata": {
      "needs_background": "light"
     },
     "output_type": "display_data"
    }
   ],
   "source": [
    "plot_percent_NE = onto_training['%_NE_in_sentence'].value_counts().sort_index()\n",
    "plot_percent_NE.plot(kind='bar')\n",
    "print(len(onto_training))\n",
    "print(\"there are\", sum(plot_percent_NE.loc[0:0.01])/len(onto_training), \"sentences in the range of 0:0.1\")\n",
    "print(sum(plot_percent_NE.loc[0:0.01]))"
   ]
  },
  {
   "cell_type": "code",
   "execution_count": 25,
   "id": "b4ae12fc",
   "metadata": {},
   "outputs": [
    {
     "data": {
      "text/plain": [
       "<AxesSubplot:xlabel='word_count'>"
      ]
     },
     "execution_count": 25,
     "metadata": {},
     "output_type": "execute_result"
    },
    {
     "data": {
      "image/png": "[encoded data removed]",
      "text/plain": [
       "<Figure size 432x288 with 1 Axes>"
      ]
     },
     "metadata": {
      "needs_background": "light"
     },
     "output_type": "display_data"
    }
   ],
   "source": [
    "onto_training.groupby(by='word_count')['input_text'].count().head(10).plot(kind='bar')"
   ]
  },
  {
   "cell_type": "markdown",
   "id": "28483974",
   "metadata": {},
   "source": [
    "### Combining the datasets"
   ]
  },
  {
   "cell_type": "code",
   "execution_count": 26,
   "id": "c2ce7b3e",
   "metadata": {},
   "outputs": [
    {
     "data": {
      "text/html": [
       "<div>\n",
       "<style scoped>\n",
       "    .dataframe tbody tr th:only-of-type {\n",
       "        vertical-align: middle;\n",
       "    }\n",
       "\n",
       "    .dataframe tbody tr th {\n",
       "        vertical-align: top;\n",
       "    }\n",
       "\n",
       "    .dataframe thead th {\n",
       "        text-align: right;\n",
       "    }\n",
       "</style>\n",
       "<table border=\"1\" class=\"dataframe\">\n",
       "  <thead>\n",
       "    <tr style=\"text-align: right;\">\n",
       "      <th></th>\n",
       "      <th>input_text</th>\n",
       "      <th>target_text</th>\n",
       "      <th>word_count</th>\n",
       "      <th>NE_count</th>\n",
       "      <th>%_NE_in_sentence</th>\n",
       "    </tr>\n",
       "  </thead>\n",
       "  <tbody>\n",
       "    <tr>\n",
       "      <th>0</th>\n",
       "      <td>EU rejects German call to boycott British lamb .</td>\n",
       "      <td>*s* EU *e* rejects *s* German *e* call to boyc...</td>\n",
       "      <td>8</td>\n",
       "      <td>3</td>\n",
       "      <td>0.4</td>\n",
       "    </tr>\n",
       "    <tr>\n",
       "      <th>1</th>\n",
       "      <td>Peter Blackburn</td>\n",
       "      <td>*s* Peter Blackburn *e*</td>\n",
       "      <td>2</td>\n",
       "      <td>2</td>\n",
       "      <td>1.0</td>\n",
       "    </tr>\n",
       "    <tr>\n",
       "      <th>2</th>\n",
       "      <td>BRUSSELS 1996-08-22</td>\n",
       "      <td>*s* BRUSSELS *e* 1996-08-22</td>\n",
       "      <td>2</td>\n",
       "      <td>1</td>\n",
       "      <td>0.5</td>\n",
       "    </tr>\n",
       "    <tr>\n",
       "      <th>3</th>\n",
       "      <td>The European Commission said on Thursday it di...</td>\n",
       "      <td>The *s* European Commission *e* said on Thursd...</td>\n",
       "      <td>29</td>\n",
       "      <td>4</td>\n",
       "      <td>0.1</td>\n",
       "    </tr>\n",
       "    <tr>\n",
       "      <th>4</th>\n",
       "      <td>Germany 's representative to the European Unio...</td>\n",
       "      <td>*s* Germany *e* 's representative to the *s* E...</td>\n",
       "      <td>30</td>\n",
       "      <td>6</td>\n",
       "      <td>0.2</td>\n",
       "    </tr>\n",
       "    <tr>\n",
       "      <th>...</th>\n",
       "      <td>...</td>\n",
       "      <td>...</td>\n",
       "      <td>...</td>\n",
       "      <td>...</td>\n",
       "      <td>...</td>\n",
       "    </tr>\n",
       "    <tr>\n",
       "      <th>152438</th>\n",
       "      <td>Paris, overcast, 1 to 4 degrees.</td>\n",
       "      <td>*s* Paris *e*, overcast, 1 to 4 degrees.</td>\n",
       "      <td>6</td>\n",
       "      <td>1</td>\n",
       "      <td>0.2</td>\n",
       "    </tr>\n",
       "    <tr>\n",
       "      <th>152439</th>\n",
       "      <td>They put Solomon on David's mule and went with...</td>\n",
       "      <td>They put Solomon on David's mule and went with...</td>\n",
       "      <td>14</td>\n",
       "      <td>0</td>\n",
       "      <td>0.0</td>\n",
       "    </tr>\n",
       "    <tr>\n",
       "      <th>152440</th>\n",
       "      <td>I understand Larry's point,</td>\n",
       "      <td>I understand *s* Larry *e*'s point,</td>\n",
       "      <td>4</td>\n",
       "      <td>1</td>\n",
       "      <td>0.2</td>\n",
       "    </tr>\n",
       "    <tr>\n",
       "      <th>152441</th>\n",
       "      <td>Black activist Walter Sisulu said the African ...</td>\n",
       "      <td>Black activist Walter Sisulu said *s* the Afri...</td>\n",
       "      <td>31</td>\n",
       "      <td>2</td>\n",
       "      <td>0.1</td>\n",
       "    </tr>\n",
       "    <tr>\n",
       "      <th>152442</th>\n",
       "      <td>According to Mr. Threlkeld, the bottleneck in ...</td>\n",
       "      <td>According to Mr. *s* Threlkeld *e*, the bottle...</td>\n",
       "      <td>19</td>\n",
       "      <td>1</td>\n",
       "      <td>0.1</td>\n",
       "    </tr>\n",
       "  </tbody>\n",
       "</table>\n",
       "<p>152443 rows × 5 columns</p>\n",
       "</div>"
      ],
      "text/plain": [
       "                                               input_text  \\\n",
       "0        EU rejects German call to boycott British lamb .   \n",
       "1                                         Peter Blackburn   \n",
       "2                                     BRUSSELS 1996-08-22   \n",
       "3       The European Commission said on Thursday it di...   \n",
       "4       Germany 's representative to the European Unio...   \n",
       "...                                                   ...   \n",
       "152438                   Paris, overcast, 1 to 4 degrees.   \n",
       "152439  They put Solomon on David's mule and went with...   \n",
       "152440                        I understand Larry's point,   \n",
       "152441  Black activist Walter Sisulu said the African ...   \n",
       "152442  According to Mr. Threlkeld, the bottleneck in ...   \n",
       "\n",
       "                                              target_text  word_count  \\\n",
       "0       *s* EU *e* rejects *s* German *e* call to boyc...           8   \n",
       "1                                 *s* Peter Blackburn *e*           2   \n",
       "2                             *s* BRUSSELS *e* 1996-08-22           2   \n",
       "3       The *s* European Commission *e* said on Thursd...          29   \n",
       "4       *s* Germany *e* 's representative to the *s* E...          30   \n",
       "...                                                   ...         ...   \n",
       "152438           *s* Paris *e*, overcast, 1 to 4 degrees.           6   \n",
       "152439  They put Solomon on David's mule and went with...          14   \n",
       "152440                I understand *s* Larry *e*'s point,           4   \n",
       "152441  Black activist Walter Sisulu said *s* the Afri...          31   \n",
       "152442  According to Mr. *s* Threlkeld *e*, the bottle...          19   \n",
       "\n",
       "        NE_count  %_NE_in_sentence  \n",
       "0              3               0.4  \n",
       "1              2               1.0  \n",
       "2              1               0.5  \n",
       "3              4               0.1  \n",
       "4              6               0.2  \n",
       "...          ...               ...  \n",
       "152438         1               0.2  \n",
       "152439         0               0.0  \n",
       "152440         1               0.2  \n",
       "152441         2               0.1  \n",
       "152442         1               0.1  \n",
       "\n",
       "[152443 rows x 5 columns]"
      ]
     },
     "execution_count": 26,
     "metadata": {},
     "output_type": "execute_result"
    }
   ],
   "source": [
    "combined_df = pd.concat([conellpp_training, wikineural_training, onto_training], ignore_index=True)\n",
    "combined_df = combined_df.drop_duplicates().reset_index(drop=True)\n",
    "combined_df"
   ]
  },
  {
   "cell_type": "markdown",
   "id": "6a084932",
   "metadata": {},
   "source": [
    "### creating a lowercase and uppercase versions of the training data (not needed)"
   ]
  },
  {
   "cell_type": "code",
   "execution_count": 27,
   "id": "89bfe732",
   "metadata": {},
   "outputs": [
    {
     "data": {
      "text/html": [
       "<div>\n",
       "<style scoped>\n",
       "    .dataframe tbody tr th:only-of-type {\n",
       "        vertical-align: middle;\n",
       "    }\n",
       "\n",
       "    .dataframe tbody tr th {\n",
       "        vertical-align: top;\n",
       "    }\n",
       "\n",
       "    .dataframe thead th {\n",
       "        text-align: right;\n",
       "    }\n",
       "</style>\n",
       "<table border=\"1\" class=\"dataframe\">\n",
       "  <thead>\n",
       "    <tr style=\"text-align: right;\">\n",
       "      <th></th>\n",
       "      <th>input_text</th>\n",
       "      <th>target_text</th>\n",
       "    </tr>\n",
       "  </thead>\n",
       "  <tbody>\n",
       "    <tr>\n",
       "      <th>0</th>\n",
       "      <td>eu rejects german call to boycott british lamb .</td>\n",
       "      <td>*s* eu *e* rejects *s* german *e* call to boyc...</td>\n",
       "    </tr>\n",
       "    <tr>\n",
       "      <th>1</th>\n",
       "      <td>peter blackburn</td>\n",
       "      <td>*s* peter blackburn *e*</td>\n",
       "    </tr>\n",
       "    <tr>\n",
       "      <th>2</th>\n",
       "      <td>brussels 1996-08-22</td>\n",
       "      <td>*s* brussels *e* 1996-08-22</td>\n",
       "    </tr>\n",
       "    <tr>\n",
       "      <th>3</th>\n",
       "      <td>the european commission said on thursday it di...</td>\n",
       "      <td>the *s* european commission *e* said on thursd...</td>\n",
       "    </tr>\n",
       "    <tr>\n",
       "      <th>4</th>\n",
       "      <td>germany 's representative to the european unio...</td>\n",
       "      <td>*s* germany *e* 's representative to the *s* e...</td>\n",
       "    </tr>\n",
       "    <tr>\n",
       "      <th>...</th>\n",
       "      <td>...</td>\n",
       "      <td>...</td>\n",
       "    </tr>\n",
       "    <tr>\n",
       "      <th>152438</th>\n",
       "      <td>paris, overcast, 1 to 4 degrees.</td>\n",
       "      <td>*s* paris *e*, overcast, 1 to 4 degrees.</td>\n",
       "    </tr>\n",
       "    <tr>\n",
       "      <th>152439</th>\n",
       "      <td>they put solomon on david's mule and went with...</td>\n",
       "      <td>they put solomon on david's mule and went with...</td>\n",
       "    </tr>\n",
       "    <tr>\n",
       "      <th>152440</th>\n",
       "      <td>i understand larry's point,</td>\n",
       "      <td>i understand *s* larry *e*'s point,</td>\n",
       "    </tr>\n",
       "    <tr>\n",
       "      <th>152441</th>\n",
       "      <td>black activist walter sisulu said the african ...</td>\n",
       "      <td>black activist walter sisulu said *s* the afri...</td>\n",
       "    </tr>\n",
       "    <tr>\n",
       "      <th>152442</th>\n",
       "      <td>according to mr. threlkeld, the bottleneck in ...</td>\n",
       "      <td>according to mr. *s* threlkeld *e*, the bottle...</td>\n",
       "    </tr>\n",
       "  </tbody>\n",
       "</table>\n",
       "<p>152443 rows × 2 columns</p>\n",
       "</div>"
      ],
      "text/plain": [
       "                                               input_text  \\\n",
       "0        eu rejects german call to boycott british lamb .   \n",
       "1                                         peter blackburn   \n",
       "2                                     brussels 1996-08-22   \n",
       "3       the european commission said on thursday it di...   \n",
       "4       germany 's representative to the european unio...   \n",
       "...                                                   ...   \n",
       "152438                   paris, overcast, 1 to 4 degrees.   \n",
       "152439  they put solomon on david's mule and went with...   \n",
       "152440                        i understand larry's point,   \n",
       "152441  black activist walter sisulu said the african ...   \n",
       "152442  according to mr. threlkeld, the bottleneck in ...   \n",
       "\n",
       "                                              target_text  \n",
       "0       *s* eu *e* rejects *s* german *e* call to boyc...  \n",
       "1                                 *s* peter blackburn *e*  \n",
       "2                             *s* brussels *e* 1996-08-22  \n",
       "3       the *s* european commission *e* said on thursd...  \n",
       "4       *s* germany *e* 's representative to the *s* e...  \n",
       "...                                                   ...  \n",
       "152438           *s* paris *e*, overcast, 1 to 4 degrees.  \n",
       "152439  they put solomon on david's mule and went with...  \n",
       "152440                i understand *s* larry *e*'s point,  \n",
       "152441  black activist walter sisulu said *s* the afri...  \n",
       "152442  according to mr. *s* threlkeld *e*, the bottle...  \n",
       "\n",
       "[152443 rows x 2 columns]"
      ]
     },
     "execution_count": 27,
     "metadata": {},
     "output_type": "execute_result"
    }
   ],
   "source": [
    "lower_training = lower_case_df(combined_df)\n",
    "lower_training"
   ]
  },
  {
   "cell_type": "code",
   "execution_count": 28,
   "id": "8c5729a2",
   "metadata": {},
   "outputs": [],
   "source": [
    "upper_training = upper_case_df(combined_df)"
   ]
  },
  {
   "cell_type": "code",
   "execution_count": 29,
   "id": "78c9d570",
   "metadata": {},
   "outputs": [
    {
     "data": {
      "text/html": [
       "<div>\n",
       "<style scoped>\n",
       "    .dataframe tbody tr th:only-of-type {\n",
       "        vertical-align: middle;\n",
       "    }\n",
       "\n",
       "    .dataframe tbody tr th {\n",
       "        vertical-align: top;\n",
       "    }\n",
       "\n",
       "    .dataframe thead th {\n",
       "        text-align: right;\n",
       "    }\n",
       "</style>\n",
       "<table border=\"1\" class=\"dataframe\">\n",
       "  <thead>\n",
       "    <tr style=\"text-align: right;\">\n",
       "      <th></th>\n",
       "      <th>input_text</th>\n",
       "      <th>target_text</th>\n",
       "      <th>word_count</th>\n",
       "      <th>NE_count</th>\n",
       "      <th>%_NE_in_sentence</th>\n",
       "    </tr>\n",
       "  </thead>\n",
       "  <tbody>\n",
       "    <tr>\n",
       "      <th>0</th>\n",
       "      <td>charleston also became known as one of the pre...</td>\n",
       "      <td>*s* charleston *e* also became known as one of...</td>\n",
       "      <td>NaN</td>\n",
       "      <td>NaN</td>\n",
       "      <td>NaN</td>\n",
       "    </tr>\n",
       "    <tr>\n",
       "      <th>1</th>\n",
       "      <td>In December 2018 , he was one of nineteen play...</td>\n",
       "      <td>In December 2018 , he was one of nineteen play...</td>\n",
       "      <td>22.0</td>\n",
       "      <td>2.0</td>\n",
       "      <td>0.1</td>\n",
       "    </tr>\n",
       "    <tr>\n",
       "      <th>2</th>\n",
       "      <td>\" Regrettably Jimmy has felt unable to accept ...</td>\n",
       "      <td>\" Regrettably *s* Jimmy *e* has felt unable to...</td>\n",
       "      <td>15.0</td>\n",
       "      <td>1.0</td>\n",
       "      <td>0.1</td>\n",
       "    </tr>\n",
       "    <tr>\n",
       "      <th>3</th>\n",
       "      <td>On December 10 , 2006 , a home-recorded album ...</td>\n",
       "      <td>On December 10 , 2006 , a home-recorded album ...</td>\n",
       "      <td>19.0</td>\n",
       "      <td>4.0</td>\n",
       "      <td>0.2</td>\n",
       "    </tr>\n",
       "    <tr>\n",
       "      <th>4</th>\n",
       "      <td>I thought Bill Frist's uh statement this week ...</td>\n",
       "      <td>I thought Bill *s* Frist *e*'s uh statement th...</td>\n",
       "      <td>13.0</td>\n",
       "      <td>1.0</td>\n",
       "      <td>0.1</td>\n",
       "    </tr>\n",
       "    <tr>\n",
       "      <th>...</th>\n",
       "      <td>...</td>\n",
       "      <td>...</td>\n",
       "      <td>...</td>\n",
       "      <td>...</td>\n",
       "      <td>...</td>\n",
       "    </tr>\n",
       "    <tr>\n",
       "      <th>304881</th>\n",
       "      <td>it is free and open-source software , released...</td>\n",
       "      <td>it is free and open-source software , released...</td>\n",
       "      <td>NaN</td>\n",
       "      <td>NaN</td>\n",
       "      <td>NaN</td>\n",
       "    </tr>\n",
       "    <tr>\n",
       "      <th>304882</th>\n",
       "      <td>if only you were one of the rulers of the gulf...</td>\n",
       "      <td>if only you were one of the rulers of the *s* ...</td>\n",
       "      <td>NaN</td>\n",
       "      <td>NaN</td>\n",
       "      <td>NaN</td>\n",
       "    </tr>\n",
       "    <tr>\n",
       "      <th>304883</th>\n",
       "      <td>the annual grand national horse race takes pla...</td>\n",
       "      <td>the annual *s* grand national *e* horse race t...</td>\n",
       "      <td>NaN</td>\n",
       "      <td>NaN</td>\n",
       "      <td>NaN</td>\n",
       "    </tr>\n",
       "    <tr>\n",
       "      <th>304884</th>\n",
       "      <td>Cuba was elected to the U.N. Security Council ...</td>\n",
       "      <td>*s* Cuba *e* was elected to *s* the U.N. Secur...</td>\n",
       "      <td>19.0</td>\n",
       "      <td>3.0</td>\n",
       "      <td>0.2</td>\n",
       "    </tr>\n",
       "    <tr>\n",
       "      <th>304885</th>\n",
       "      <td>i think it's like sending frank rizzo to the un.</td>\n",
       "      <td>i think it's like sending *s* frank rizzo *e* ...</td>\n",
       "      <td>NaN</td>\n",
       "      <td>NaN</td>\n",
       "      <td>NaN</td>\n",
       "    </tr>\n",
       "  </tbody>\n",
       "</table>\n",
       "<p>304886 rows × 5 columns</p>\n",
       "</div>"
      ],
      "text/plain": [
       "                                               input_text  \\\n",
       "0       charleston also became known as one of the pre...   \n",
       "1       In December 2018 , he was one of nineteen play...   \n",
       "2       \" Regrettably Jimmy has felt unable to accept ...   \n",
       "3       On December 10 , 2006 , a home-recorded album ...   \n",
       "4       I thought Bill Frist's uh statement this week ...   \n",
       "...                                                   ...   \n",
       "304881  it is free and open-source software , released...   \n",
       "304882  if only you were one of the rulers of the gulf...   \n",
       "304883  the annual grand national horse race takes pla...   \n",
       "304884  Cuba was elected to the U.N. Security Council ...   \n",
       "304885   i think it's like sending frank rizzo to the un.   \n",
       "\n",
       "                                              target_text  word_count  \\\n",
       "0       *s* charleston *e* also became known as one of...         NaN   \n",
       "1       In December 2018 , he was one of nineteen play...        22.0   \n",
       "2       \" Regrettably *s* Jimmy *e* has felt unable to...        15.0   \n",
       "3       On December 10 , 2006 , a home-recorded album ...        19.0   \n",
       "4       I thought Bill *s* Frist *e*'s uh statement th...        13.0   \n",
       "...                                                   ...         ...   \n",
       "304881  it is free and open-source software , released...         NaN   \n",
       "304882  if only you were one of the rulers of the *s* ...         NaN   \n",
       "304883  the annual *s* grand national *e* horse race t...         NaN   \n",
       "304884  *s* Cuba *e* was elected to *s* the U.N. Secur...        19.0   \n",
       "304885  i think it's like sending *s* frank rizzo *e* ...         NaN   \n",
       "\n",
       "        NE_count  %_NE_in_sentence  \n",
       "0            NaN               NaN  \n",
       "1            2.0               0.1  \n",
       "2            1.0               0.1  \n",
       "3            4.0               0.2  \n",
       "4            1.0               0.1  \n",
       "...          ...               ...  \n",
       "304881       NaN               NaN  \n",
       "304882       NaN               NaN  \n",
       "304883       NaN               NaN  \n",
       "304884       3.0               0.2  \n",
       "304885       NaN               NaN  \n",
       "\n",
       "[304886 rows x 5 columns]"
      ]
     },
     "execution_count": 29,
     "metadata": {},
     "output_type": "execute_result"
    }
   ],
   "source": [
    "lower_normal_training = pd.concat([lower_training, combined_df])\n",
    "lower_normal_training = lower_normal_training.sample(frac=1, random_state=1).reset_index(drop=True)\n",
    "lower_normal_training"
   ]
  },
  {
   "cell_type": "code",
   "execution_count": 30,
   "id": "00ff12fd",
   "metadata": {},
   "outputs": [
    {
     "data": {
      "text/html": [
       "<div>\n",
       "<style scoped>\n",
       "    .dataframe tbody tr th:only-of-type {\n",
       "        vertical-align: middle;\n",
       "    }\n",
       "\n",
       "    .dataframe tbody tr th {\n",
       "        vertical-align: top;\n",
       "    }\n",
       "\n",
       "    .dataframe thead th {\n",
       "        text-align: right;\n",
       "    }\n",
       "</style>\n",
       "<table border=\"1\" class=\"dataframe\">\n",
       "  <thead>\n",
       "    <tr style=\"text-align: right;\">\n",
       "      <th></th>\n",
       "      <th>input_text</th>\n",
       "      <th>target_text</th>\n",
       "      <th>word_count</th>\n",
       "      <th>NE_count</th>\n",
       "      <th>%_NE_in_sentence</th>\n",
       "    </tr>\n",
       "  </thead>\n",
       "  <tbody>\n",
       "    <tr>\n",
       "      <th>0</th>\n",
       "      <td>the largest hospitals in the country are locat...</td>\n",
       "      <td>the largest hospitals in the country are locat...</td>\n",
       "      <td>NaN</td>\n",
       "      <td>NaN</td>\n",
       "      <td>NaN</td>\n",
       "    </tr>\n",
       "    <tr>\n",
       "      <th>1</th>\n",
       "      <td>The most amazing thing is that Jasir claims th...</td>\n",
       "      <td>The most amazing thing is that *s* Jasir *e* c...</td>\n",
       "      <td>35.0</td>\n",
       "      <td>3.0</td>\n",
       "      <td>0.1</td>\n",
       "    </tr>\n",
       "    <tr>\n",
       "      <th>2</th>\n",
       "      <td>translates as empress , and was used by the on...</td>\n",
       "      <td>translates as empress , and was used by the on...</td>\n",
       "      <td>NaN</td>\n",
       "      <td>NaN</td>\n",
       "      <td>NaN</td>\n",
       "    </tr>\n",
       "    <tr>\n",
       "      <th>3</th>\n",
       "      <td>We have no gift to give the man of God.</td>\n",
       "      <td>We have no gift to give the man of God.</td>\n",
       "      <td>10.0</td>\n",
       "      <td>0.0</td>\n",
       "      <td>0.0</td>\n",
       "    </tr>\n",
       "    <tr>\n",
       "      <th>4</th>\n",
       "      <td>yes, the ruling relied on article 53 of the li...</td>\n",
       "      <td>yes, the ruling relied on *s* article 53 of th...</td>\n",
       "      <td>NaN</td>\n",
       "      <td>NaN</td>\n",
       "      <td>NaN</td>\n",
       "    </tr>\n",
       "    <tr>\n",
       "      <th>...</th>\n",
       "      <td>...</td>\n",
       "      <td>...</td>\n",
       "      <td>...</td>\n",
       "      <td>...</td>\n",
       "      <td>...</td>\n",
       "    </tr>\n",
       "    <tr>\n",
       "      <th>457324</th>\n",
       "      <td>the annual grand national horse race takes pla...</td>\n",
       "      <td>the annual *s* grand national *e* horse race t...</td>\n",
       "      <td>NaN</td>\n",
       "      <td>NaN</td>\n",
       "      <td>NaN</td>\n",
       "    </tr>\n",
       "    <tr>\n",
       "      <th>457325</th>\n",
       "      <td>AFTER FINISHING HER SECONDARY EDUCATION IN 196...</td>\n",
       "      <td>AFTER FINISHING HER SECONDARY EDUCATION IN 196...</td>\n",
       "      <td>NaN</td>\n",
       "      <td>NaN</td>\n",
       "      <td>NaN</td>\n",
       "    </tr>\n",
       "    <tr>\n",
       "      <th>457326</th>\n",
       "      <td>PLUS THERE WAS THE KNOCK-ON COST OF LOST PRODU...</td>\n",
       "      <td>PLUS THERE WAS THE KNOCK-ON COST OF LOST PRODU...</td>\n",
       "      <td>NaN</td>\n",
       "      <td>NaN</td>\n",
       "      <td>NaN</td>\n",
       "    </tr>\n",
       "    <tr>\n",
       "      <th>457327</th>\n",
       "      <td>Cuba was elected to the U.N. Security Council ...</td>\n",
       "      <td>*s* Cuba *e* was elected to *s* the U.N. Secur...</td>\n",
       "      <td>19.0</td>\n",
       "      <td>3.0</td>\n",
       "      <td>0.2</td>\n",
       "    </tr>\n",
       "    <tr>\n",
       "      <th>457328</th>\n",
       "      <td>i think it's like sending frank rizzo to the un.</td>\n",
       "      <td>i think it's like sending *s* frank rizzo *e* ...</td>\n",
       "      <td>NaN</td>\n",
       "      <td>NaN</td>\n",
       "      <td>NaN</td>\n",
       "    </tr>\n",
       "  </tbody>\n",
       "</table>\n",
       "<p>457329 rows × 5 columns</p>\n",
       "</div>"
      ],
      "text/plain": [
       "                                               input_text  \\\n",
       "0       the largest hospitals in the country are locat...   \n",
       "1       The most amazing thing is that Jasir claims th...   \n",
       "2       translates as empress , and was used by the on...   \n",
       "3                 We have no gift to give the man of God.   \n",
       "4       yes, the ruling relied on article 53 of the li...   \n",
       "...                                                   ...   \n",
       "457324  the annual grand national horse race takes pla...   \n",
       "457325  AFTER FINISHING HER SECONDARY EDUCATION IN 196...   \n",
       "457326  PLUS THERE WAS THE KNOCK-ON COST OF LOST PRODU...   \n",
       "457327  Cuba was elected to the U.N. Security Council ...   \n",
       "457328   i think it's like sending frank rizzo to the un.   \n",
       "\n",
       "                                              target_text  word_count  \\\n",
       "0       the largest hospitals in the country are locat...         NaN   \n",
       "1       The most amazing thing is that *s* Jasir *e* c...        35.0   \n",
       "2       translates as empress , and was used by the on...         NaN   \n",
       "3                 We have no gift to give the man of God.        10.0   \n",
       "4       yes, the ruling relied on *s* article 53 of th...         NaN   \n",
       "...                                                   ...         ...   \n",
       "457324  the annual *s* grand national *e* horse race t...         NaN   \n",
       "457325  AFTER FINISHING HER SECONDARY EDUCATION IN 196...         NaN   \n",
       "457326  PLUS THERE WAS THE KNOCK-ON COST OF LOST PRODU...         NaN   \n",
       "457327  *s* Cuba *e* was elected to *s* the U.N. Secur...        19.0   \n",
       "457328  i think it's like sending *s* frank rizzo *e* ...         NaN   \n",
       "\n",
       "        NE_count  %_NE_in_sentence  \n",
       "0            NaN               NaN  \n",
       "1            3.0               0.1  \n",
       "2            NaN               NaN  \n",
       "3            0.0               0.0  \n",
       "4            NaN               NaN  \n",
       "...          ...               ...  \n",
       "457324       NaN               NaN  \n",
       "457325       NaN               NaN  \n",
       "457326       NaN               NaN  \n",
       "457327       3.0               0.2  \n",
       "457328       NaN               NaN  \n",
       "\n",
       "[457329 rows x 5 columns]"
      ]
     },
     "execution_count": 30,
     "metadata": {},
     "output_type": "execute_result"
    }
   ],
   "source": [
    "lower_normal_upper_training = pd.concat([lower_training, combined_df, upper_training])\n",
    "lower_normal_upper_training = lower_normal_upper_training.sample(frac=1, random_state=1).reset_index(drop=True)\n",
    "lower_normal_upper_training"
   ]
  },
  {
   "cell_type": "markdown",
   "id": "8fc09781",
   "metadata": {},
   "source": [
    "### Saving the data as csv"
   ]
  },
  {
   "cell_type": "code",
   "execution_count": 31,
   "id": "a01daa9f",
   "metadata": {},
   "outputs": [],
   "source": [
    "combined_df.to_csv('./1-NER_Data/1-csv_format/train/training_data_full_sentence.csv', index = False)\n",
    "lower_normal_training.to_csv('./1-NER_Data/1-csv_format/train/lower_normal_training_full_sentence.csv', index = False)\n",
    "lower_normal_upper_training.to_csv('./1-NER_Data/1-csv_format/train/lower_normal_upper_training_full_sentence.csv', index = False)"
   ]
  },
  {
   "cell_type": "markdown",
   "id": "eda10687",
   "metadata": {},
   "source": [
    "# Validation data"
   ]
  },
  {
   "cell_type": "markdown",
   "id": "8a7bb043",
   "metadata": {},
   "source": [
    "### Read the data from either txt files or from huggingface dataset and converting each to target form  --->  [input_text, target_text, word_count, NE_count] "
   ]
  },
  {
   "cell_type": "code",
   "execution_count": 32,
   "id": "46ffd9f3",
   "metadata": {},
   "outputs": [
    {
     "data": {
      "text/html": [
       "<div>\n",
       "<style scoped>\n",
       "    .dataframe tbody tr th:only-of-type {\n",
       "        vertical-align: middle;\n",
       "    }\n",
       "\n",
       "    .dataframe tbody tr th {\n",
       "        vertical-align: top;\n",
       "    }\n",
       "\n",
       "    .dataframe thead th {\n",
       "        text-align: right;\n",
       "    }\n",
       "</style>\n",
       "<table border=\"1\" class=\"dataframe\">\n",
       "  <thead>\n",
       "    <tr style=\"text-align: right;\">\n",
       "      <th></th>\n",
       "      <th>input_text</th>\n",
       "      <th>target_text</th>\n",
       "      <th>word_count</th>\n",
       "      <th>NE_count</th>\n",
       "    </tr>\n",
       "  </thead>\n",
       "  <tbody>\n",
       "    <tr>\n",
       "      <th>0</th>\n",
       "      <td>CRICKET - LEICESTERSHIRE TAKE OVER AT TOP AFTE...</td>\n",
       "      <td>CRICKET - *s* LEICESTERSHIRE *e* TAKE OVER AT ...</td>\n",
       "      <td>9</td>\n",
       "      <td>1</td>\n",
       "    </tr>\n",
       "    <tr>\n",
       "      <th>1</th>\n",
       "      <td>LONDON 1996-08-30</td>\n",
       "      <td>*s* LONDON *e* 1996-08-30</td>\n",
       "      <td>2</td>\n",
       "      <td>1</td>\n",
       "    </tr>\n",
       "    <tr>\n",
       "      <th>2</th>\n",
       "      <td>West Indian all-rounder Phil Simmons took four...</td>\n",
       "      <td>*s* West Indian *e* all-rounder *s* Phil Simmo...</td>\n",
       "      <td>34</td>\n",
       "      <td>6</td>\n",
       "    </tr>\n",
       "    <tr>\n",
       "      <th>3</th>\n",
       "      <td>Their stay on top , though , may be short-live...</td>\n",
       "      <td>Their stay on top , though , may be short-live...</td>\n",
       "      <td>33</td>\n",
       "      <td>5</td>\n",
       "    </tr>\n",
       "    <tr>\n",
       "      <th>4</th>\n",
       "      <td>After bowling Somerset out for 83 on the openi...</td>\n",
       "      <td>After bowling *s* Somerset *e* out for 83 on t...</td>\n",
       "      <td>36</td>\n",
       "      <td>7</td>\n",
       "    </tr>\n",
       "    <tr>\n",
       "      <th>...</th>\n",
       "      <td>...</td>\n",
       "      <td>...</td>\n",
       "      <td>...</td>\n",
       "      <td>...</td>\n",
       "    </tr>\n",
       "    <tr>\n",
       "      <th>3245</th>\n",
       "      <td>But the prices may move in a close range follo...</td>\n",
       "      <td>But the prices may move in a close range follo...</td>\n",
       "      <td>14</td>\n",
       "      <td>0</td>\n",
       "    </tr>\n",
       "    <tr>\n",
       "      <th>3246</th>\n",
       "      <td>Brokers said blue chips like IDLC , Bangladesh...</td>\n",
       "      <td>Brokers said blue chips like *s* IDLC *e* , *s...</td>\n",
       "      <td>17</td>\n",
       "      <td>7</td>\n",
       "    </tr>\n",
       "    <tr>\n",
       "      <th>3247</th>\n",
       "      <td>They said there was still demand for blue chip...</td>\n",
       "      <td>They said there was still demand for blue chip...</td>\n",
       "      <td>21</td>\n",
       "      <td>0</td>\n",
       "    </tr>\n",
       "    <tr>\n",
       "      <th>3248</th>\n",
       "      <td>The DSE all share price index closed 2.73 poin...</td>\n",
       "      <td>The *s* DSE *e* all share price index closed 2...</td>\n",
       "      <td>24</td>\n",
       "      <td>1</td>\n",
       "    </tr>\n",
       "    <tr>\n",
       "      <th>3249</th>\n",
       "      <td>-- Dhaka Newsroom 880-2-506363</td>\n",
       "      <td>-- *s* Dhaka Newsroom *e* 880-2-506363</td>\n",
       "      <td>3</td>\n",
       "      <td>2</td>\n",
       "    </tr>\n",
       "  </tbody>\n",
       "</table>\n",
       "<p>3250 rows × 4 columns</p>\n",
       "</div>"
      ],
      "text/plain": [
       "                                             input_text  \\\n",
       "0     CRICKET - LEICESTERSHIRE TAKE OVER AT TOP AFTE...   \n",
       "1                                     LONDON 1996-08-30   \n",
       "2     West Indian all-rounder Phil Simmons took four...   \n",
       "3     Their stay on top , though , may be short-live...   \n",
       "4     After bowling Somerset out for 83 on the openi...   \n",
       "...                                                 ...   \n",
       "3245  But the prices may move in a close range follo...   \n",
       "3246  Brokers said blue chips like IDLC , Bangladesh...   \n",
       "3247  They said there was still demand for blue chip...   \n",
       "3248  The DSE all share price index closed 2.73 poin...   \n",
       "3249                     -- Dhaka Newsroom 880-2-506363   \n",
       "\n",
       "                                            target_text  word_count  NE_count  \n",
       "0     CRICKET - *s* LEICESTERSHIRE *e* TAKE OVER AT ...           9         1  \n",
       "1                             *s* LONDON *e* 1996-08-30           2         1  \n",
       "2     *s* West Indian *e* all-rounder *s* Phil Simmo...          34         6  \n",
       "3     Their stay on top , though , may be short-live...          33         5  \n",
       "4     After bowling *s* Somerset *e* out for 83 on t...          36         7  \n",
       "...                                                 ...         ...       ...  \n",
       "3245  But the prices may move in a close range follo...          14         0  \n",
       "3246  Brokers said blue chips like *s* IDLC *e* , *s...          17         7  \n",
       "3247  They said there was still demand for blue chip...          21         0  \n",
       "3248  The *s* DSE *e* all share price index closed 2...          24         1  \n",
       "3249             -- *s* Dhaka Newsroom *e* 880-2-506363           3         2  \n",
       "\n",
       "[3250 rows x 4 columns]"
      ]
     },
     "execution_count": 32,
     "metadata": {},
     "output_type": "execute_result"
    }
   ],
   "source": [
    "# CoNLL2003++ validatoin dataset\n",
    "\n",
    "conellpp_val = parse_file_data(\"./1-NER_Data/0-raw_data/coNLL2003pp/conllpp_dev.txt\", in_position=0, pos_position=3, line_len=4, sep=' ')\n",
    "conellpp_val"
   ]
  },
  {
   "cell_type": "code",
   "execution_count": 33,
   "id": "b16c2d23",
   "metadata": {},
   "outputs": [
    {
     "data": {
      "text/html": [
       "<div>\n",
       "<style scoped>\n",
       "    .dataframe tbody tr th:only-of-type {\n",
       "        vertical-align: middle;\n",
       "    }\n",
       "\n",
       "    .dataframe tbody tr th {\n",
       "        vertical-align: top;\n",
       "    }\n",
       "\n",
       "    .dataframe thead th {\n",
       "        text-align: right;\n",
       "    }\n",
       "</style>\n",
       "<table border=\"1\" class=\"dataframe\">\n",
       "  <thead>\n",
       "    <tr style=\"text-align: right;\">\n",
       "      <th></th>\n",
       "      <th>input_text</th>\n",
       "      <th>target_text</th>\n",
       "      <th>word_count</th>\n",
       "      <th>NE_count</th>\n",
       "    </tr>\n",
       "  </thead>\n",
       "  <tbody>\n",
       "    <tr>\n",
       "      <th>0</th>\n",
       "      <td>Her visit to Tuvalu was cut short by an illnes...</td>\n",
       "      <td>Her visit to *s* Tuvalu *e* was cut short by a...</td>\n",
       "      <td>24</td>\n",
       "      <td>2</td>\n",
       "    </tr>\n",
       "    <tr>\n",
       "      <th>1</th>\n",
       "      <td>In 1975 , the Princess was listed among women ...</td>\n",
       "      <td>In 1975 , the Princess was listed among women ...</td>\n",
       "      <td>17</td>\n",
       "      <td>2</td>\n",
       "    </tr>\n",
       "    <tr>\n",
       "      <th>2</th>\n",
       "      <td>In 1974 , she invited him as a guest to the ho...</td>\n",
       "      <td>In 1974 , she invited him as a guest to the ho...</td>\n",
       "      <td>17</td>\n",
       "      <td>1</td>\n",
       "    </tr>\n",
       "    <tr>\n",
       "      <th>3</th>\n",
       "      <td>She co-starred with Richard Widmark and Gig Yo...</td>\n",
       "      <td>She co-starred with *s* Richard Widmark *e* an...</td>\n",
       "      <td>32</td>\n",
       "      <td>14</td>\n",
       "    </tr>\n",
       "    <tr>\n",
       "      <th>4</th>\n",
       "      <td>She experienced a mild stroke on 23 February 1...</td>\n",
       "      <td>She experienced a mild stroke on 23 February 1...</td>\n",
       "      <td>15</td>\n",
       "      <td>1</td>\n",
       "    </tr>\n",
       "    <tr>\n",
       "      <th>...</th>\n",
       "      <td>...</td>\n",
       "      <td>...</td>\n",
       "      <td>...</td>\n",
       "      <td>...</td>\n",
       "    </tr>\n",
       "    <tr>\n",
       "      <th>11585</th>\n",
       "      <td>However , he played his home games at Baker Bo...</td>\n",
       "      <td>However , he played his home games at *s* Bake...</td>\n",
       "      <td>18</td>\n",
       "      <td>2</td>\n",
       "    </tr>\n",
       "    <tr>\n",
       "      <th>11586</th>\n",
       "      <td>256 with 11 triples in 277 at bats when his co...</td>\n",
       "      <td>256 with 11 triples in 277 at bats when his co...</td>\n",
       "      <td>21</td>\n",
       "      <td>3</td>\n",
       "    </tr>\n",
       "    <tr>\n",
       "      <th>11587</th>\n",
       "      <td>He played his final professional games in 1922...</td>\n",
       "      <td>He played his final professional games in 1922...</td>\n",
       "      <td>12</td>\n",
       "      <td>2</td>\n",
       "    </tr>\n",
       "    <tr>\n",
       "      <th>11588</th>\n",
       "      <td>The city is also the setting for the Disney Ch...</td>\n",
       "      <td>The city is also the setting for the *s* Disne...</td>\n",
       "      <td>14</td>\n",
       "      <td>5</td>\n",
       "    </tr>\n",
       "    <tr>\n",
       "      <th>11589</th>\n",
       "      <td>He was elected as Member of Parliament for Ogm...</td>\n",
       "      <td>He was elected as Member of Parliament for *s*...</td>\n",
       "      <td>14</td>\n",
       "      <td>1</td>\n",
       "    </tr>\n",
       "  </tbody>\n",
       "</table>\n",
       "<p>11590 rows × 4 columns</p>\n",
       "</div>"
      ],
      "text/plain": [
       "                                              input_text  \\\n",
       "0      Her visit to Tuvalu was cut short by an illnes...   \n",
       "1      In 1975 , the Princess was listed among women ...   \n",
       "2      In 1974 , she invited him as a guest to the ho...   \n",
       "3      She co-starred with Richard Widmark and Gig Yo...   \n",
       "4      She experienced a mild stroke on 23 February 1...   \n",
       "...                                                  ...   \n",
       "11585  However , he played his home games at Baker Bo...   \n",
       "11586  256 with 11 triples in 277 at bats when his co...   \n",
       "11587  He played his final professional games in 1922...   \n",
       "11588  The city is also the setting for the Disney Ch...   \n",
       "11589  He was elected as Member of Parliament for Ogm...   \n",
       "\n",
       "                                             target_text  word_count  NE_count  \n",
       "0      Her visit to *s* Tuvalu *e* was cut short by a...          24         2  \n",
       "1      In 1975 , the Princess was listed among women ...          17         2  \n",
       "2      In 1974 , she invited him as a guest to the ho...          17         1  \n",
       "3      She co-starred with *s* Richard Widmark *e* an...          32        14  \n",
       "4      She experienced a mild stroke on 23 February 1...          15         1  \n",
       "...                                                  ...         ...       ...  \n",
       "11585  However , he played his home games at *s* Bake...          18         2  \n",
       "11586  256 with 11 triples in 277 at bats when his co...          21         3  \n",
       "11587  He played his final professional games in 1922...          12         2  \n",
       "11588  The city is also the setting for the *s* Disne...          14         5  \n",
       "11589  He was elected as Member of Parliament for *s*...          14         1  \n",
       "\n",
       "[11590 rows x 4 columns]"
      ]
     },
     "execution_count": 33,
     "metadata": {},
     "output_type": "execute_result"
    }
   ],
   "source": [
    "# wikineural validation dataset\n",
    "\n",
    "wikineural_val = parse_file_data(\"./1-NER_Data/0-raw_data/wikineural/val.conllu.txt\", 1, 2, 3, '\\t')\n",
    "wikineural_val"
   ]
  },
  {
   "cell_type": "code",
   "execution_count": 34,
   "id": "bec9633a",
   "metadata": {},
   "outputs": [],
   "source": [
    "# OntoNotes 5.0 validation dataset refer section above"
   ]
  },
  {
   "cell_type": "markdown",
   "id": "1e301754",
   "metadata": {},
   "source": [
    "### Adding entity as percentage of the input sentence"
   ]
  },
  {
   "cell_type": "code",
   "execution_count": 35,
   "id": "e13270c1",
   "metadata": {},
   "outputs": [],
   "source": [
    "conellpp_val = add_per_NE_sent(conellpp_val)\n",
    "wikineural_val = add_per_NE_sent(wikineural_val)\n",
    "onto_val = add_per_NE_sent(onto_val)"
   ]
  },
  {
   "cell_type": "code",
   "execution_count": 36,
   "id": "f64e717a",
   "metadata": {},
   "outputs": [
    {
     "name": "stdout",
     "output_type": "stream",
     "text": [
      "there are 0.23076923076923078 sentences in the range of 0:0.1\n"
     ]
    },
    {
     "data": {
      "image/png": "[encoded data removed]",
      "text/plain": [
       "<Figure size 432x288 with 1 Axes>"
      ]
     },
     "metadata": {
      "needs_background": "light"
     },
     "output_type": "display_data"
    }
   ],
   "source": [
    "plot_percent_NE = conellpp_val['%_NE_in_sentence'].value_counts().sort_index()\n",
    "plot_percent_NE.plot(kind='bar')\n",
    "print(\"there are\", sum(plot_percent_NE.loc[0:0.099])/len(conellpp_val), \"sentences in the range of 0:0.1\")"
   ]
  },
  {
   "cell_type": "code",
   "execution_count": 37,
   "id": "d0cc8bc2",
   "metadata": {},
   "outputs": [
    {
     "data": {
      "text/plain": [
       "<AxesSubplot:xlabel='word_count'>"
      ]
     },
     "execution_count": 37,
     "metadata": {},
     "output_type": "execute_result"
    },
    {
     "data": {
      "image/png": "[encoded data removed]",
      "text/plain": [
       "<Figure size 432x288 with 1 Axes>"
      ]
     },
     "metadata": {
      "needs_background": "light"
     },
     "output_type": "display_data"
    }
   ],
   "source": [
    "conellpp_val.groupby(by='word_count')['input_text'].count().head(10).plot(kind='bar')"
   ]
  },
  {
   "cell_type": "code",
   "execution_count": 38,
   "id": "e43653f9",
   "metadata": {},
   "outputs": [],
   "source": [
    "conellpp_val = conellpp_val.drop(conellpp_val.loc[conellpp_val['word_count'] == 0].index).reset_index(drop=True)\n",
    "# conellpp_val"
   ]
  },
  {
   "cell_type": "code",
   "execution_count": null,
   "id": "162dea40",
   "metadata": {},
   "outputs": [],
   "source": []
  },
  {
   "cell_type": "code",
   "execution_count": 39,
   "id": "21883417",
   "metadata": {},
   "outputs": [
    {
     "name": "stdout",
     "output_type": "stream",
     "text": [
      "there are 0.13701466781708369 sentences in the range of 0:0.1\n"
     ]
    },
    {
     "data": {
      "image/png": "[encoded data removed]",
      "text/plain": [
       "<Figure size 432x288 with 1 Axes>"
      ]
     },
     "metadata": {
      "needs_background": "light"
     },
     "output_type": "display_data"
    }
   ],
   "source": [
    "plot_percent_NE = wikineural_val['%_NE_in_sentence'].value_counts().sort_index()\n",
    "plot_percent_NE.plot(kind='bar')\n",
    "print(\"there are\", sum(plot_percent_NE.loc[0:0.099])/len(wikineural_val), \"sentences in the range of 0:0.1\")"
   ]
  },
  {
   "cell_type": "code",
   "execution_count": 40,
   "id": "84afd6ba",
   "metadata": {},
   "outputs": [
    {
     "data": {
      "text/plain": [
       "<AxesSubplot:xlabel='word_count'>"
      ]
     },
     "execution_count": 40,
     "metadata": {},
     "output_type": "execute_result"
    },
    {
     "data": {
      "image/png": "[encoded data removed]",
      "text/plain": [
       "<Figure size 432x288 with 1 Axes>"
      ]
     },
     "metadata": {
      "needs_background": "light"
     },
     "output_type": "display_data"
    }
   ],
   "source": [
    "wikineural_val.groupby(by='word_count')['input_text'].count().head(10).plot(kind='bar')"
   ]
  },
  {
   "cell_type": "code",
   "execution_count": null,
   "id": "1757d809",
   "metadata": {},
   "outputs": [],
   "source": []
  },
  {
   "cell_type": "code",
   "execution_count": 41,
   "id": "888fb6be",
   "metadata": {},
   "outputs": [
    {
     "name": "stdout",
     "output_type": "stream",
     "text": [
      "19797\n",
      "there are 0.7068242663029752 sentences in the range of 0:0.1\n",
      "13993\n"
     ]
    },
    {
     "data": {
      "image/png": "[encoded data removed]",
      "text/plain": [
       "<Figure size 432x288 with 1 Axes>"
      ]
     },
     "metadata": {
      "needs_background": "light"
     },
     "output_type": "display_data"
    }
   ],
   "source": [
    "plot_percent_NE = onto_val['%_NE_in_sentence'].value_counts().sort_index()\n",
    "plot_percent_NE.plot(kind='bar')\n",
    "print(len(onto_val))\n",
    "print(\"there are\", sum(plot_percent_NE.loc[0:0.099])/len(onto_val), \"sentences in the range of 0:0.1\")\n",
    "print(sum(plot_percent_NE.loc[0:0.01]))"
   ]
  },
  {
   "cell_type": "code",
   "execution_count": 42,
   "id": "65d96632",
   "metadata": {},
   "outputs": [
    {
     "data": {
      "text/html": [
       "<div>\n",
       "<style scoped>\n",
       "    .dataframe tbody tr th:only-of-type {\n",
       "        vertical-align: middle;\n",
       "    }\n",
       "\n",
       "    .dataframe tbody tr th {\n",
       "        vertical-align: top;\n",
       "    }\n",
       "\n",
       "    .dataframe thead th {\n",
       "        text-align: right;\n",
       "    }\n",
       "</style>\n",
       "<table border=\"1\" class=\"dataframe\">\n",
       "  <thead>\n",
       "    <tr style=\"text-align: right;\">\n",
       "      <th></th>\n",
       "      <th>input_text</th>\n",
       "      <th>target_text</th>\n",
       "      <th>word_count</th>\n",
       "      <th>NE_count</th>\n",
       "      <th>%_NE_in_sentence</th>\n",
       "    </tr>\n",
       "  </thead>\n",
       "  <tbody>\n",
       "    <tr>\n",
       "      <th>0</th>\n",
       "      <td>Noble brother : may God reward you with good a...</td>\n",
       "      <td>Noble brother : may God reward you with good a...</td>\n",
       "      <td>13</td>\n",
       "      <td>0</td>\n",
       "      <td>0.0</td>\n",
       "    </tr>\n",
       "    <tr>\n",
       "      <th>1</th>\n",
       "      <td>can you at least go business class</td>\n",
       "      <td>can you at least go business class</td>\n",
       "      <td>7</td>\n",
       "      <td>0</td>\n",
       "      <td>0.0</td>\n",
       "    </tr>\n",
       "    <tr>\n",
       "      <th>2</th>\n",
       "      <td>The new company is to be called Siemens Matsus...</td>\n",
       "      <td>The new company is to be called *s* Siemens Ma...</td>\n",
       "      <td>12</td>\n",
       "      <td>1</td>\n",
       "      <td>0.1</td>\n",
       "    </tr>\n",
       "    <tr>\n",
       "      <th>3</th>\n",
       "      <td>mhm.</td>\n",
       "      <td>mhm.</td>\n",
       "      <td>1</td>\n",
       "      <td>0</td>\n",
       "      <td>0.0</td>\n",
       "    </tr>\n",
       "    <tr>\n",
       "      <th>4</th>\n",
       "      <td>Taiwanese men tend to fall like a ton of brick...</td>\n",
       "      <td>*s* Taiwanese *e* men tend to fall like a ton ...</td>\n",
       "      <td>27</td>\n",
       "      <td>2</td>\n",
       "      <td>0.1</td>\n",
       "    </tr>\n",
       "    <tr>\n",
       "      <th>...</th>\n",
       "      <td>...</td>\n",
       "      <td>...</td>\n",
       "      <td>...</td>\n",
       "      <td>...</td>\n",
       "      <td>...</td>\n",
       "    </tr>\n",
       "    <tr>\n",
       "      <th>10463</th>\n",
       "      <td>I take him once a week</td>\n",
       "      <td>I take him once a week</td>\n",
       "      <td>6</td>\n",
       "      <td>0</td>\n",
       "      <td>0.0</td>\n",
       "    </tr>\n",
       "    <tr>\n",
       "      <th>10464</th>\n",
       "      <td>But for small American companies, it also prov...</td>\n",
       "      <td>But for small *s* American *e* companies, it a...</td>\n",
       "      <td>17</td>\n",
       "      <td>1</td>\n",
       "      <td>0.1</td>\n",
       "    </tr>\n",
       "    <tr>\n",
       "      <th>10465</th>\n",
       "      <td>Occasionally, gross chromosome damage was visi...</td>\n",
       "      <td>Occasionally, gross chromosome damage was visi...</td>\n",
       "      <td>6</td>\n",
       "      <td>0</td>\n",
       "      <td>0.0</td>\n",
       "    </tr>\n",
       "    <tr>\n",
       "      <th>10466</th>\n",
       "      <td>p. 30</td>\n",
       "      <td>p. 30</td>\n",
       "      <td>2</td>\n",
       "      <td>0</td>\n",
       "      <td>0.0</td>\n",
       "    </tr>\n",
       "    <tr>\n",
       "      <th>10467</th>\n",
       "      <td>At the time, Jia Bangyou said, go to a station...</td>\n",
       "      <td>At the time, *s* Jia Bangyou *e* said, go to a...</td>\n",
       "      <td>19</td>\n",
       "      <td>1</td>\n",
       "      <td>0.1</td>\n",
       "    </tr>\n",
       "  </tbody>\n",
       "</table>\n",
       "<p>10468 rows × 5 columns</p>\n",
       "</div>"
      ],
      "text/plain": [
       "                                              input_text  \\\n",
       "0      Noble brother : may God reward you with good a...   \n",
       "1                     can you at least go business class   \n",
       "2      The new company is to be called Siemens Matsus...   \n",
       "3                                                   mhm.   \n",
       "4      Taiwanese men tend to fall like a ton of brick...   \n",
       "...                                                  ...   \n",
       "10463                             I take him once a week   \n",
       "10464  But for small American companies, it also prov...   \n",
       "10465  Occasionally, gross chromosome damage was visi...   \n",
       "10466                                              p. 30   \n",
       "10467  At the time, Jia Bangyou said, go to a station...   \n",
       "\n",
       "                                             target_text  word_count  \\\n",
       "0      Noble brother : may God reward you with good a...          13   \n",
       "1                     can you at least go business class           7   \n",
       "2      The new company is to be called *s* Siemens Ma...          12   \n",
       "3                                                   mhm.           1   \n",
       "4      *s* Taiwanese *e* men tend to fall like a ton ...          27   \n",
       "...                                                  ...         ...   \n",
       "10463                             I take him once a week           6   \n",
       "10464  But for small *s* American *e* companies, it a...          17   \n",
       "10465  Occasionally, gross chromosome damage was visi...           6   \n",
       "10466                                              p. 30           2   \n",
       "10467  At the time, *s* Jia Bangyou *e* said, go to a...          19   \n",
       "\n",
       "       NE_count  %_NE_in_sentence  \n",
       "0             0               0.0  \n",
       "1             0               0.0  \n",
       "2             1               0.1  \n",
       "3             0               0.0  \n",
       "4             2               0.1  \n",
       "...         ...               ...  \n",
       "10463         0               0.0  \n",
       "10464         1               0.1  \n",
       "10465         0               0.0  \n",
       "10466         0               0.0  \n",
       "10467         1               0.1  \n",
       "\n",
       "[10468 rows x 5 columns]"
      ]
     },
     "execution_count": 42,
     "metadata": {},
     "output_type": "execute_result"
    }
   ],
   "source": [
    "# dropping half of the rows with zero entities randomly\n",
    "\n",
    "np.random.seed(10)\n",
    "zero_entities = onto_val.loc[onto_val['%_NE_in_sentence']==0].index\n",
    "remove_n = round(len(zero_entities)*2/3)\n",
    "\n",
    "drop_indices = np.random.choice(zero_entities, remove_n, replace=False)\n",
    "onto_val = onto_val.drop(drop_indices).reset_index(drop=True)\n",
    "onto_val"
   ]
  },
  {
   "cell_type": "code",
   "execution_count": 43,
   "id": "9f4e9395",
   "metadata": {},
   "outputs": [
    {
     "name": "stdout",
     "output_type": "stream",
     "text": [
      "10468\n",
      "there are 0.44554833779136416 sentences in the range of 0:0.1\n",
      "4664\n"
     ]
    },
    {
     "data": {
      "image/png": "[encoded data removed]",
      "text/plain": [
       "<Figure size 432x288 with 1 Axes>"
      ]
     },
     "metadata": {
      "needs_background": "light"
     },
     "output_type": "display_data"
    }
   ],
   "source": [
    "plot_percent_NE = onto_val['%_NE_in_sentence'].value_counts().sort_index()\n",
    "plot_percent_NE.plot(kind='bar')\n",
    "print(len(onto_val))\n",
    "print(\"there are\", sum(plot_percent_NE.loc[0:0.01])/len(onto_val), \"sentences in the range of 0:0.1\")\n",
    "print(sum(plot_percent_NE.loc[0:0.01]))"
   ]
  },
  {
   "cell_type": "code",
   "execution_count": 44,
   "id": "99c5e7d8",
   "metadata": {},
   "outputs": [
    {
     "data": {
      "text/plain": [
       "<AxesSubplot:xlabel='word_count'>"
      ]
     },
     "execution_count": 44,
     "metadata": {},
     "output_type": "execute_result"
    },
    {
     "data": {
      "image/png": "[encoded data removed]",
      "text/plain": [
       "<Figure size 432x288 with 1 Axes>"
      ]
     },
     "metadata": {
      "needs_background": "light"
     },
     "output_type": "display_data"
    }
   ],
   "source": [
    "onto_val.groupby(by='word_count')['input_text'].count().head(10).plot(kind='bar')"
   ]
  },
  {
   "cell_type": "code",
   "execution_count": null,
   "id": "58b63fd4",
   "metadata": {},
   "outputs": [],
   "source": []
  },
  {
   "cell_type": "markdown",
   "id": "3bb21769",
   "metadata": {},
   "source": [
    "### Combining the datasets"
   ]
  },
  {
   "cell_type": "code",
   "execution_count": 45,
   "id": "bcfbbe43",
   "metadata": {},
   "outputs": [
    {
     "data": {
      "text/html": [
       "<div>\n",
       "<style scoped>\n",
       "    .dataframe tbody tr th:only-of-type {\n",
       "        vertical-align: middle;\n",
       "    }\n",
       "\n",
       "    .dataframe tbody tr th {\n",
       "        vertical-align: top;\n",
       "    }\n",
       "\n",
       "    .dataframe thead th {\n",
       "        text-align: right;\n",
       "    }\n",
       "</style>\n",
       "<table border=\"1\" class=\"dataframe\">\n",
       "  <thead>\n",
       "    <tr style=\"text-align: right;\">\n",
       "      <th></th>\n",
       "      <th>input_text</th>\n",
       "      <th>target_text</th>\n",
       "      <th>word_count</th>\n",
       "      <th>NE_count</th>\n",
       "      <th>%_NE_in_sentence</th>\n",
       "    </tr>\n",
       "  </thead>\n",
       "  <tbody>\n",
       "    <tr>\n",
       "      <th>0</th>\n",
       "      <td>CRICKET - LEICESTERSHIRE TAKE OVER AT TOP AFTE...</td>\n",
       "      <td>CRICKET - *s* LEICESTERSHIRE *e* TAKE OVER AT ...</td>\n",
       "      <td>9</td>\n",
       "      <td>1</td>\n",
       "      <td>0.1</td>\n",
       "    </tr>\n",
       "    <tr>\n",
       "      <th>1</th>\n",
       "      <td>LONDON 1996-08-30</td>\n",
       "      <td>*s* LONDON *e* 1996-08-30</td>\n",
       "      <td>2</td>\n",
       "      <td>1</td>\n",
       "      <td>0.5</td>\n",
       "    </tr>\n",
       "    <tr>\n",
       "      <th>2</th>\n",
       "      <td>West Indian all-rounder Phil Simmons took four...</td>\n",
       "      <td>*s* West Indian *e* all-rounder *s* Phil Simmo...</td>\n",
       "      <td>34</td>\n",
       "      <td>6</td>\n",
       "      <td>0.2</td>\n",
       "    </tr>\n",
       "    <tr>\n",
       "      <th>3</th>\n",
       "      <td>Their stay on top , though , may be short-live...</td>\n",
       "      <td>Their stay on top , though , may be short-live...</td>\n",
       "      <td>33</td>\n",
       "      <td>5</td>\n",
       "      <td>0.2</td>\n",
       "    </tr>\n",
       "    <tr>\n",
       "      <th>4</th>\n",
       "      <td>After bowling Somerset out for 83 on the openi...</td>\n",
       "      <td>After bowling *s* Somerset *e* out for 83 on t...</td>\n",
       "      <td>36</td>\n",
       "      <td>7</td>\n",
       "      <td>0.2</td>\n",
       "    </tr>\n",
       "    <tr>\n",
       "      <th>...</th>\n",
       "      <td>...</td>\n",
       "      <td>...</td>\n",
       "      <td>...</td>\n",
       "      <td>...</td>\n",
       "      <td>...</td>\n",
       "    </tr>\n",
       "    <tr>\n",
       "      <th>24875</th>\n",
       "      <td>I take him once a week</td>\n",
       "      <td>I take him once a week</td>\n",
       "      <td>6</td>\n",
       "      <td>0</td>\n",
       "      <td>0.0</td>\n",
       "    </tr>\n",
       "    <tr>\n",
       "      <th>24876</th>\n",
       "      <td>But for small American companies, it also prov...</td>\n",
       "      <td>But for small *s* American *e* companies, it a...</td>\n",
       "      <td>17</td>\n",
       "      <td>1</td>\n",
       "      <td>0.1</td>\n",
       "    </tr>\n",
       "    <tr>\n",
       "      <th>24877</th>\n",
       "      <td>Occasionally, gross chromosome damage was visi...</td>\n",
       "      <td>Occasionally, gross chromosome damage was visi...</td>\n",
       "      <td>6</td>\n",
       "      <td>0</td>\n",
       "      <td>0.0</td>\n",
       "    </tr>\n",
       "    <tr>\n",
       "      <th>24878</th>\n",
       "      <td>p. 30</td>\n",
       "      <td>p. 30</td>\n",
       "      <td>2</td>\n",
       "      <td>0</td>\n",
       "      <td>0.0</td>\n",
       "    </tr>\n",
       "    <tr>\n",
       "      <th>24879</th>\n",
       "      <td>At the time, Jia Bangyou said, go to a station...</td>\n",
       "      <td>At the time, *s* Jia Bangyou *e* said, go to a...</td>\n",
       "      <td>19</td>\n",
       "      <td>1</td>\n",
       "      <td>0.1</td>\n",
       "    </tr>\n",
       "  </tbody>\n",
       "</table>\n",
       "<p>24880 rows × 5 columns</p>\n",
       "</div>"
      ],
      "text/plain": [
       "                                              input_text  \\\n",
       "0      CRICKET - LEICESTERSHIRE TAKE OVER AT TOP AFTE...   \n",
       "1                                      LONDON 1996-08-30   \n",
       "2      West Indian all-rounder Phil Simmons took four...   \n",
       "3      Their stay on top , though , may be short-live...   \n",
       "4      After bowling Somerset out for 83 on the openi...   \n",
       "...                                                  ...   \n",
       "24875                             I take him once a week   \n",
       "24876  But for small American companies, it also prov...   \n",
       "24877  Occasionally, gross chromosome damage was visi...   \n",
       "24878                                              p. 30   \n",
       "24879  At the time, Jia Bangyou said, go to a station...   \n",
       "\n",
       "                                             target_text  word_count  \\\n",
       "0      CRICKET - *s* LEICESTERSHIRE *e* TAKE OVER AT ...           9   \n",
       "1                              *s* LONDON *e* 1996-08-30           2   \n",
       "2      *s* West Indian *e* all-rounder *s* Phil Simmo...          34   \n",
       "3      Their stay on top , though , may be short-live...          33   \n",
       "4      After bowling *s* Somerset *e* out for 83 on t...          36   \n",
       "...                                                  ...         ...   \n",
       "24875                             I take him once a week           6   \n",
       "24876  But for small *s* American *e* companies, it a...          17   \n",
       "24877  Occasionally, gross chromosome damage was visi...           6   \n",
       "24878                                              p. 30           2   \n",
       "24879  At the time, *s* Jia Bangyou *e* said, go to a...          19   \n",
       "\n",
       "       NE_count  %_NE_in_sentence  \n",
       "0             1               0.1  \n",
       "1             1               0.5  \n",
       "2             6               0.2  \n",
       "3             5               0.2  \n",
       "4             7               0.2  \n",
       "...         ...               ...  \n",
       "24875         0               0.0  \n",
       "24876         1               0.1  \n",
       "24877         0               0.0  \n",
       "24878         0               0.0  \n",
       "24879         1               0.1  \n",
       "\n",
       "[24880 rows x 5 columns]"
      ]
     },
     "execution_count": 45,
     "metadata": {},
     "output_type": "execute_result"
    }
   ],
   "source": [
    "val_combined_df = pd.concat([conellpp_val, wikineural_val, onto_val], ignore_index=True).drop_duplicates().reset_index(drop=True)\n",
    "val_combined_df"
   ]
  },
  {
   "cell_type": "markdown",
   "id": "91717aa8",
   "metadata": {},
   "source": [
    "### creating a lowercase and uppercase versions of the validation data (not needed)"
   ]
  },
  {
   "cell_type": "code",
   "execution_count": 46,
   "id": "cd2ab78f",
   "metadata": {},
   "outputs": [],
   "source": [
    "# lower_val = lower_case_df(val_combined_df)\n",
    "# lower_val"
   ]
  },
  {
   "cell_type": "code",
   "execution_count": 47,
   "id": "8a537bbf",
   "metadata": {},
   "outputs": [],
   "source": [
    "# upper_val = upper_case_df(val_combined_df)\n",
    "# lower_upper_val = pd.concat([lower_val, upper_val])\n",
    "# lower_upper_val = lower_upper_val.sample(frac=1, random_state=1).reset_index(drop=True)\n",
    "# lower_upper_val"
   ]
  },
  {
   "cell_type": "markdown",
   "id": "9a68ebc8",
   "metadata": {},
   "source": [
    "### Saving the data as csv"
   ]
  },
  {
   "cell_type": "code",
   "execution_count": 48,
   "id": "60177913",
   "metadata": {},
   "outputs": [],
   "source": [
    "val_combined_df.to_csv('./1-NER_Data/1-csv_format/val/val_data_full_sentence.csv', index = False)\n",
    "# lower_val.to_csv('./1-NER_Data/1-csv_format/val/lower_val_data.csv', index = False)\n",
    "# lower_upper_val.to_csv('./1-NER_Data/1-csv_format/val/low_up_val_data.csv', index = False)"
   ]
  },
  {
   "cell_type": "markdown",
   "id": "9d5cf667",
   "metadata": {},
   "source": [
    "# Test data"
   ]
  },
  {
   "cell_type": "markdown",
   "id": "5e9586ef",
   "metadata": {},
   "source": [
    "### Read the data from either txt files or from huggingface dataset and converting each to target form  --->  [input_text, target_text, word_count, NE_count] "
   ]
  },
  {
   "cell_type": "code",
   "execution_count": 49,
   "id": "38d6aac2",
   "metadata": {},
   "outputs": [
    {
     "data": {
      "text/html": [
       "<div>\n",
       "<style scoped>\n",
       "    .dataframe tbody tr th:only-of-type {\n",
       "        vertical-align: middle;\n",
       "    }\n",
       "\n",
       "    .dataframe tbody tr th {\n",
       "        vertical-align: top;\n",
       "    }\n",
       "\n",
       "    .dataframe thead th {\n",
       "        text-align: right;\n",
       "    }\n",
       "</style>\n",
       "<table border=\"1\" class=\"dataframe\">\n",
       "  <thead>\n",
       "    <tr style=\"text-align: right;\">\n",
       "      <th></th>\n",
       "      <th>input_text</th>\n",
       "      <th>target_text</th>\n",
       "      <th>word_count</th>\n",
       "      <th>NE_count</th>\n",
       "    </tr>\n",
       "  </thead>\n",
       "  <tbody>\n",
       "    <tr>\n",
       "      <th>0</th>\n",
       "      <td>SOCCER - JAPAN GET LUCKY WIN , CHINA IN SURPRI...</td>\n",
       "      <td>SOCCER - *s* JAPAN *e* GET LUCKY WIN , *s* CHI...</td>\n",
       "      <td>9</td>\n",
       "      <td>2</td>\n",
       "    </tr>\n",
       "    <tr>\n",
       "      <th>1</th>\n",
       "      <td>Nadim Ladki</td>\n",
       "      <td>*s* Nadim Ladki *e*</td>\n",
       "      <td>2</td>\n",
       "      <td>2</td>\n",
       "    </tr>\n",
       "    <tr>\n",
       "      <th>2</th>\n",
       "      <td>AL-AIN , United Arab Emirates 1996-12-06</td>\n",
       "      <td>*s* AL-AIN *e* , *s* United Arab Emirates *e* ...</td>\n",
       "      <td>5</td>\n",
       "      <td>4</td>\n",
       "    </tr>\n",
       "    <tr>\n",
       "      <th>3</th>\n",
       "      <td>Japan began the defence of their Asian Cup tit...</td>\n",
       "      <td>*s* Japan *e* began the defence of their *s* A...</td>\n",
       "      <td>24</td>\n",
       "      <td>4</td>\n",
       "    </tr>\n",
       "    <tr>\n",
       "      <th>4</th>\n",
       "      <td>But China saw their luck desert them in the se...</td>\n",
       "      <td>But *s* China *e* saw their luck desert them i...</td>\n",
       "      <td>23</td>\n",
       "      <td>2</td>\n",
       "    </tr>\n",
       "    <tr>\n",
       "      <th>...</th>\n",
       "      <td>...</td>\n",
       "      <td>...</td>\n",
       "      <td>...</td>\n",
       "      <td>...</td>\n",
       "    </tr>\n",
       "    <tr>\n",
       "      <th>3447</th>\n",
       "      <td>It all culminated in the fact that I now have ...</td>\n",
       "      <td>It all culminated in the fact that I now have ...</td>\n",
       "      <td>17</td>\n",
       "      <td>1</td>\n",
       "    </tr>\n",
       "    <tr>\n",
       "      <th>3448</th>\n",
       "      <td>That is why this is so emotional a night for m...</td>\n",
       "      <td>That is why this is so emotional a night for m...</td>\n",
       "      <td>13</td>\n",
       "      <td>1</td>\n",
       "    </tr>\n",
       "    <tr>\n",
       "      <th>3449</th>\n",
       "      <td>\" It was the joy that we all had over the peri...</td>\n",
       "      <td>\" It was the joy that we all had over the peri...</td>\n",
       "      <td>27</td>\n",
       "      <td>0</td>\n",
       "    </tr>\n",
       "    <tr>\n",
       "      <th>3450</th>\n",
       "      <td>Charlton managed Ireland for 93 matches , duri...</td>\n",
       "      <td>*s* Charlton *e* managed *s* Ireland *e* for 9...</td>\n",
       "      <td>24</td>\n",
       "      <td>2</td>\n",
       "    </tr>\n",
       "    <tr>\n",
       "      <th>3451</th>\n",
       "      <td>He guided Ireland to two successive World Cup ...</td>\n",
       "      <td>He guided *s* Ireland *e* to two successive *s...</td>\n",
       "      <td>32</td>\n",
       "      <td>7</td>\n",
       "    </tr>\n",
       "  </tbody>\n",
       "</table>\n",
       "<p>3452 rows × 4 columns</p>\n",
       "</div>"
      ],
      "text/plain": [
       "                                             input_text  \\\n",
       "0     SOCCER - JAPAN GET LUCKY WIN , CHINA IN SURPRI...   \n",
       "1                                           Nadim Ladki   \n",
       "2              AL-AIN , United Arab Emirates 1996-12-06   \n",
       "3     Japan began the defence of their Asian Cup tit...   \n",
       "4     But China saw their luck desert them in the se...   \n",
       "...                                                 ...   \n",
       "3447  It all culminated in the fact that I now have ...   \n",
       "3448  That is why this is so emotional a night for m...   \n",
       "3449  \" It was the joy that we all had over the peri...   \n",
       "3450  Charlton managed Ireland for 93 matches , duri...   \n",
       "3451  He guided Ireland to two successive World Cup ...   \n",
       "\n",
       "                                            target_text  word_count  NE_count  \n",
       "0     SOCCER - *s* JAPAN *e* GET LUCKY WIN , *s* CHI...           9         2  \n",
       "1                                   *s* Nadim Ladki *e*           2         2  \n",
       "2     *s* AL-AIN *e* , *s* United Arab Emirates *e* ...           5         4  \n",
       "3     *s* Japan *e* began the defence of their *s* A...          24         4  \n",
       "4     But *s* China *e* saw their luck desert them i...          23         2  \n",
       "...                                                 ...         ...       ...  \n",
       "3447  It all culminated in the fact that I now have ...          17         1  \n",
       "3448  That is why this is so emotional a night for m...          13         1  \n",
       "3449  \" It was the joy that we all had over the peri...          27         0  \n",
       "3450  *s* Charlton *e* managed *s* Ireland *e* for 9...          24         2  \n",
       "3451  He guided *s* Ireland *e* to two successive *s...          32         7  \n",
       "\n",
       "[3452 rows x 4 columns]"
      ]
     },
     "execution_count": 49,
     "metadata": {},
     "output_type": "execute_result"
    }
   ],
   "source": [
    "# CoNLL2003++ test dataset\n",
    "\n",
    "conellpp_test = parse_file_data(\"./1-NER_Data/0-raw_data/coNLL2003pp/conllpp_test.txt\", in_position=0, pos_position=3, line_len=4, sep=' ')\n",
    "conellpp_test"
   ]
  },
  {
   "cell_type": "code",
   "execution_count": 50,
   "id": "e7a3653c",
   "metadata": {},
   "outputs": [
    {
     "data": {
      "text/html": [
       "<div>\n",
       "<style scoped>\n",
       "    .dataframe tbody tr th:only-of-type {\n",
       "        vertical-align: middle;\n",
       "    }\n",
       "\n",
       "    .dataframe tbody tr th {\n",
       "        vertical-align: top;\n",
       "    }\n",
       "\n",
       "    .dataframe thead th {\n",
       "        text-align: right;\n",
       "    }\n",
       "</style>\n",
       "<table border=\"1\" class=\"dataframe\">\n",
       "  <thead>\n",
       "    <tr style=\"text-align: right;\">\n",
       "      <th></th>\n",
       "      <th>input_text</th>\n",
       "      <th>target_text</th>\n",
       "      <th>word_count</th>\n",
       "      <th>NE_count</th>\n",
       "    </tr>\n",
       "  </thead>\n",
       "  <tbody>\n",
       "    <tr>\n",
       "      <th>0</th>\n",
       "      <td>On this occasion he failed to gain the support...</td>\n",
       "      <td>On this occasion he failed to gain the support...</td>\n",
       "      <td>20</td>\n",
       "      <td>4</td>\n",
       "    </tr>\n",
       "    <tr>\n",
       "      <th>1</th>\n",
       "      <td>On both these occasions he was backed by the S...</td>\n",
       "      <td>On both these occasions he was backed by the *...</td>\n",
       "      <td>18</td>\n",
       "      <td>4</td>\n",
       "    </tr>\n",
       "    <tr>\n",
       "      <th>2</th>\n",
       "      <td>He also appeared as himself in the 1996 film \"...</td>\n",
       "      <td>He also appeared as himself in the 1996 film \"...</td>\n",
       "      <td>10</td>\n",
       "      <td>1</td>\n",
       "    </tr>\n",
       "    <tr>\n",
       "      <th>3</th>\n",
       "      <td>The Colorado Rockies were created as an expans...</td>\n",
       "      <td>The *s* Colorado Rockies *e* were created as a...</td>\n",
       "      <td>17</td>\n",
       "      <td>4</td>\n",
       "    </tr>\n",
       "    <tr>\n",
       "      <th>4</th>\n",
       "      <td>He kept busy recording demo tapes at his home ...</td>\n",
       "      <td>He kept busy recording demo tapes at his home ...</td>\n",
       "      <td>29</td>\n",
       "      <td>5</td>\n",
       "    </tr>\n",
       "    <tr>\n",
       "      <th>...</th>\n",
       "      <td>...</td>\n",
       "      <td>...</td>\n",
       "      <td>...</td>\n",
       "      <td>...</td>\n",
       "    </tr>\n",
       "    <tr>\n",
       "      <th>11592</th>\n",
       "      <td>com , Amazon .</td>\n",
       "      <td>com , *s* Amazon *e* .</td>\n",
       "      <td>2</td>\n",
       "      <td>1</td>\n",
       "    </tr>\n",
       "    <tr>\n",
       "      <th>11593</th>\n",
       "      <td>In January 2013 , the European Food Safety Aut...</td>\n",
       "      <td>In January 2013 , the *s* European Food Safety...</td>\n",
       "      <td>27</td>\n",
       "      <td>5</td>\n",
       "    </tr>\n",
       "    <tr>\n",
       "      <th>11594</th>\n",
       "      <td>All of the games had art true to the series , ...</td>\n",
       "      <td>All of the games had art true to the series , ...</td>\n",
       "      <td>23</td>\n",
       "      <td>1</td>\n",
       "    </tr>\n",
       "    <tr>\n",
       "      <th>11595</th>\n",
       "      <td>There was also a game made for the Game Boy ba...</td>\n",
       "      <td>There was also a game made for the *s* Game Bo...</td>\n",
       "      <td>20</td>\n",
       "      <td>2</td>\n",
       "    </tr>\n",
       "    <tr>\n",
       "      <th>11596</th>\n",
       "      <td>This system was widely copied in various NATO ...</td>\n",
       "      <td>This system was widely copied in various *s* N...</td>\n",
       "      <td>9</td>\n",
       "      <td>1</td>\n",
       "    </tr>\n",
       "  </tbody>\n",
       "</table>\n",
       "<p>11597 rows × 4 columns</p>\n",
       "</div>"
      ],
      "text/plain": [
       "                                              input_text  \\\n",
       "0      On this occasion he failed to gain the support...   \n",
       "1      On both these occasions he was backed by the S...   \n",
       "2      He also appeared as himself in the 1996 film \"...   \n",
       "3      The Colorado Rockies were created as an expans...   \n",
       "4      He kept busy recording demo tapes at his home ...   \n",
       "...                                                  ...   \n",
       "11592                                     com , Amazon .   \n",
       "11593  In January 2013 , the European Food Safety Aut...   \n",
       "11594  All of the games had art true to the series , ...   \n",
       "11595  There was also a game made for the Game Boy ba...   \n",
       "11596  This system was widely copied in various NATO ...   \n",
       "\n",
       "                                             target_text  word_count  NE_count  \n",
       "0      On this occasion he failed to gain the support...          20         4  \n",
       "1      On both these occasions he was backed by the *...          18         4  \n",
       "2      He also appeared as himself in the 1996 film \"...          10         1  \n",
       "3      The *s* Colorado Rockies *e* were created as a...          17         4  \n",
       "4      He kept busy recording demo tapes at his home ...          29         5  \n",
       "...                                                  ...         ...       ...  \n",
       "11592                             com , *s* Amazon *e* .           2         1  \n",
       "11593  In January 2013 , the *s* European Food Safety...          27         5  \n",
       "11594  All of the games had art true to the series , ...          23         1  \n",
       "11595  There was also a game made for the *s* Game Bo...          20         2  \n",
       "11596  This system was widely copied in various *s* N...           9         1  \n",
       "\n",
       "[11597 rows x 4 columns]"
      ]
     },
     "execution_count": 50,
     "metadata": {},
     "output_type": "execute_result"
    }
   ],
   "source": [
    "# wikineural test dataset\n",
    "\n",
    "wikineural_test = parse_file_data(\"./1-NER_Data/0-raw_data/wikineural/test.conllu.txt\", 1, 2, 3, '\\t')\n",
    "wikineural_test"
   ]
  },
  {
   "cell_type": "code",
   "execution_count": 51,
   "id": "40841d0a",
   "metadata": {},
   "outputs": [],
   "source": [
    "# OntoNotes 5.0 test dataset refer section above"
   ]
  },
  {
   "cell_type": "markdown",
   "id": "919d17be",
   "metadata": {},
   "source": [
    "### Adding entity as percentage of the input sentence"
   ]
  },
  {
   "cell_type": "code",
   "execution_count": 52,
   "id": "60fb4b5b",
   "metadata": {},
   "outputs": [],
   "source": [
    "conellpp_test = add_per_NE_sent(conellpp_test)\n",
    "wikineural_test = add_per_NE_sent(wikineural_test)\n",
    "onto_test = add_per_NE_sent(onto_test)"
   ]
  },
  {
   "cell_type": "code",
   "execution_count": 53,
   "id": "4ec0510a",
   "metadata": {},
   "outputs": [
    {
     "name": "stdout",
     "output_type": "stream",
     "text": [
      "3452\n",
      "there are 0.22624565469293165 sentences in the range of 0:0.1\n"
     ]
    },
    {
     "data": {
      "image/png": "[encoded data removed]",
      "text/plain": [
       "<Figure size 432x288 with 1 Axes>"
      ]
     },
     "metadata": {
      "needs_background": "light"
     },
     "output_type": "display_data"
    }
   ],
   "source": [
    "plot_percent_NE = conellpp_test['%_NE_in_sentence'].value_counts().sort_index()\n",
    "plot_percent_NE.plot(kind='bar')\n",
    "print(len(conellpp_test))\n",
    "print(\"there are\", sum(plot_percent_NE.loc[0:0.099])/len(conellpp_test), \"sentences in the range of 0:0.1\")"
   ]
  },
  {
   "cell_type": "code",
   "execution_count": 54,
   "id": "84e82224",
   "metadata": {},
   "outputs": [
    {
     "data": {
      "text/plain": [
       "<AxesSubplot:xlabel='word_count'>"
      ]
     },
     "execution_count": 54,
     "metadata": {},
     "output_type": "execute_result"
    },
    {
     "data": {
      "image/png": "[encoded data removed]",
      "text/plain": [
       "<Figure size 432x288 with 1 Axes>"
      ]
     },
     "metadata": {
      "needs_background": "light"
     },
     "output_type": "display_data"
    }
   ],
   "source": [
    "conellpp_test.groupby(by='word_count')['input_text'].count().head(10).plot(kind='bar')"
   ]
  },
  {
   "cell_type": "code",
   "execution_count": 55,
   "id": "0edb271c",
   "metadata": {},
   "outputs": [
    {
     "data": {
      "text/html": [
       "<div>\n",
       "<style scoped>\n",
       "    .dataframe tbody tr th:only-of-type {\n",
       "        vertical-align: middle;\n",
       "    }\n",
       "\n",
       "    .dataframe tbody tr th {\n",
       "        vertical-align: top;\n",
       "    }\n",
       "\n",
       "    .dataframe thead th {\n",
       "        text-align: right;\n",
       "    }\n",
       "</style>\n",
       "<table border=\"1\" class=\"dataframe\">\n",
       "  <thead>\n",
       "    <tr style=\"text-align: right;\">\n",
       "      <th></th>\n",
       "      <th>input_text</th>\n",
       "      <th>target_text</th>\n",
       "      <th>word_count</th>\n",
       "      <th>NE_count</th>\n",
       "      <th>%_NE_in_sentence</th>\n",
       "    </tr>\n",
       "  </thead>\n",
       "  <tbody>\n",
       "    <tr>\n",
       "      <th>0</th>\n",
       "      <td>SOCCER - JAPAN GET LUCKY WIN , CHINA IN SURPRI...</td>\n",
       "      <td>SOCCER - *s* JAPAN *e* GET LUCKY WIN , *s* CHI...</td>\n",
       "      <td>9</td>\n",
       "      <td>2</td>\n",
       "      <td>0.2</td>\n",
       "    </tr>\n",
       "    <tr>\n",
       "      <th>1</th>\n",
       "      <td>Nadim Ladki</td>\n",
       "      <td>*s* Nadim Ladki *e*</td>\n",
       "      <td>2</td>\n",
       "      <td>2</td>\n",
       "      <td>1.0</td>\n",
       "    </tr>\n",
       "    <tr>\n",
       "      <th>2</th>\n",
       "      <td>AL-AIN , United Arab Emirates 1996-12-06</td>\n",
       "      <td>*s* AL-AIN *e* , *s* United Arab Emirates *e* ...</td>\n",
       "      <td>5</td>\n",
       "      <td>4</td>\n",
       "      <td>0.8</td>\n",
       "    </tr>\n",
       "    <tr>\n",
       "      <th>3</th>\n",
       "      <td>Japan began the defence of their Asian Cup tit...</td>\n",
       "      <td>*s* Japan *e* began the defence of their *s* A...</td>\n",
       "      <td>24</td>\n",
       "      <td>4</td>\n",
       "      <td>0.2</td>\n",
       "    </tr>\n",
       "    <tr>\n",
       "      <th>4</th>\n",
       "      <td>But China saw their luck desert them in the se...</td>\n",
       "      <td>But *s* China *e* saw their luck desert them i...</td>\n",
       "      <td>23</td>\n",
       "      <td>2</td>\n",
       "      <td>0.1</td>\n",
       "    </tr>\n",
       "    <tr>\n",
       "      <th>...</th>\n",
       "      <td>...</td>\n",
       "      <td>...</td>\n",
       "      <td>...</td>\n",
       "      <td>...</td>\n",
       "      <td>...</td>\n",
       "    </tr>\n",
       "    <tr>\n",
       "      <th>3444</th>\n",
       "      <td>It all culminated in the fact that I now have ...</td>\n",
       "      <td>It all culminated in the fact that I now have ...</td>\n",
       "      <td>17</td>\n",
       "      <td>1</td>\n",
       "      <td>0.1</td>\n",
       "    </tr>\n",
       "    <tr>\n",
       "      <th>3445</th>\n",
       "      <td>That is why this is so emotional a night for m...</td>\n",
       "      <td>That is why this is so emotional a night for m...</td>\n",
       "      <td>13</td>\n",
       "      <td>1</td>\n",
       "      <td>0.1</td>\n",
       "    </tr>\n",
       "    <tr>\n",
       "      <th>3446</th>\n",
       "      <td>\" It was the joy that we all had over the peri...</td>\n",
       "      <td>\" It was the joy that we all had over the peri...</td>\n",
       "      <td>27</td>\n",
       "      <td>0</td>\n",
       "      <td>0.0</td>\n",
       "    </tr>\n",
       "    <tr>\n",
       "      <th>3447</th>\n",
       "      <td>Charlton managed Ireland for 93 matches , duri...</td>\n",
       "      <td>*s* Charlton *e* managed *s* Ireland *e* for 9...</td>\n",
       "      <td>24</td>\n",
       "      <td>2</td>\n",
       "      <td>0.1</td>\n",
       "    </tr>\n",
       "    <tr>\n",
       "      <th>3448</th>\n",
       "      <td>He guided Ireland to two successive World Cup ...</td>\n",
       "      <td>He guided *s* Ireland *e* to two successive *s...</td>\n",
       "      <td>32</td>\n",
       "      <td>7</td>\n",
       "      <td>0.2</td>\n",
       "    </tr>\n",
       "  </tbody>\n",
       "</table>\n",
       "<p>3449 rows × 5 columns</p>\n",
       "</div>"
      ],
      "text/plain": [
       "                                             input_text  \\\n",
       "0     SOCCER - JAPAN GET LUCKY WIN , CHINA IN SURPRI...   \n",
       "1                                           Nadim Ladki   \n",
       "2              AL-AIN , United Arab Emirates 1996-12-06   \n",
       "3     Japan began the defence of their Asian Cup tit...   \n",
       "4     But China saw their luck desert them in the se...   \n",
       "...                                                 ...   \n",
       "3444  It all culminated in the fact that I now have ...   \n",
       "3445  That is why this is so emotional a night for m...   \n",
       "3446  \" It was the joy that we all had over the peri...   \n",
       "3447  Charlton managed Ireland for 93 matches , duri...   \n",
       "3448  He guided Ireland to two successive World Cup ...   \n",
       "\n",
       "                                            target_text  word_count  NE_count  \\\n",
       "0     SOCCER - *s* JAPAN *e* GET LUCKY WIN , *s* CHI...           9         2   \n",
       "1                                   *s* Nadim Ladki *e*           2         2   \n",
       "2     *s* AL-AIN *e* , *s* United Arab Emirates *e* ...           5         4   \n",
       "3     *s* Japan *e* began the defence of their *s* A...          24         4   \n",
       "4     But *s* China *e* saw their luck desert them i...          23         2   \n",
       "...                                                 ...         ...       ...   \n",
       "3444  It all culminated in the fact that I now have ...          17         1   \n",
       "3445  That is why this is so emotional a night for m...          13         1   \n",
       "3446  \" It was the joy that we all had over the peri...          27         0   \n",
       "3447  *s* Charlton *e* managed *s* Ireland *e* for 9...          24         2   \n",
       "3448  He guided *s* Ireland *e* to two successive *s...          32         7   \n",
       "\n",
       "      %_NE_in_sentence  \n",
       "0                  0.2  \n",
       "1                  1.0  \n",
       "2                  0.8  \n",
       "3                  0.2  \n",
       "4                  0.1  \n",
       "...                ...  \n",
       "3444               0.1  \n",
       "3445               0.1  \n",
       "3446               0.0  \n",
       "3447               0.1  \n",
       "3448               0.2  \n",
       "\n",
       "[3449 rows x 5 columns]"
      ]
     },
     "execution_count": 55,
     "metadata": {},
     "output_type": "execute_result"
    }
   ],
   "source": [
    "conellpp_test = conellpp_test.drop(conellpp_test.loc[conellpp_test['word_count'] == 0].index).reset_index(drop=True)\n",
    "conellpp_test"
   ]
  },
  {
   "cell_type": "code",
   "execution_count": null,
   "id": "ba91684a",
   "metadata": {},
   "outputs": [],
   "source": []
  },
  {
   "cell_type": "code",
   "execution_count": 56,
   "id": "c871326e",
   "metadata": {},
   "outputs": [
    {
     "name": "stdout",
     "output_type": "stream",
     "text": [
      "there are 0.13460377683883762 sentences in the range of 0:0.1\n"
     ]
    },
    {
     "data": {
      "image/png": "[encoded data removed]",
      "text/plain": [
       "<Figure size 432x288 with 1 Axes>"
      ]
     },
     "metadata": {
      "needs_background": "light"
     },
     "output_type": "display_data"
    }
   ],
   "source": [
    "plot_percent_NE = wikineural_test['%_NE_in_sentence'].value_counts().sort_index()\n",
    "plot_percent_NE.plot(kind='bar')\n",
    "print(\"there are\", sum(plot_percent_NE.loc[0:0.099])/len(wikineural_test), \"sentences in the range of 0:0.1\")"
   ]
  },
  {
   "cell_type": "code",
   "execution_count": 57,
   "id": "07dcd895",
   "metadata": {},
   "outputs": [
    {
     "data": {
      "text/plain": [
       "<AxesSubplot:xlabel='word_count'>"
      ]
     },
     "execution_count": 57,
     "metadata": {},
     "output_type": "execute_result"
    },
    {
     "data": {
      "image/png": "[encoded data removed]",
      "text/plain": [
       "<Figure size 432x288 with 1 Axes>"
      ]
     },
     "metadata": {
      "needs_background": "light"
     },
     "output_type": "display_data"
    }
   ],
   "source": [
    "wikineural_test.groupby(by='word_count')['input_text'].count().head(10).plot(kind='bar')"
   ]
  },
  {
   "cell_type": "code",
   "execution_count": null,
   "id": "82bc9a03",
   "metadata": {},
   "outputs": [],
   "source": []
  },
  {
   "cell_type": "code",
   "execution_count": 58,
   "id": "5c33d5fd",
   "metadata": {},
   "outputs": [
    {
     "name": "stdout",
     "output_type": "stream",
     "text": [
      "10468\n",
      "there are 0.7067737535990302 sentences in the range of 0:0.1\n"
     ]
    },
    {
     "data": {
      "image/png": "[encoded data removed]",
      "text/plain": [
       "<Figure size 432x288 with 1 Axes>"
      ]
     },
     "metadata": {
      "needs_background": "light"
     },
     "output_type": "display_data"
    }
   ],
   "source": [
    "plot_percent_NE = onto_test['%_NE_in_sentence'].value_counts().sort_index()\n",
    "plot_percent_NE.plot(kind='bar')\n",
    "print(len(onto_val))\n",
    "print(\"there are\", sum(plot_percent_NE.loc[0:0.099])/len(onto_test), \"sentences in the range of 0:0.1\")"
   ]
  },
  {
   "cell_type": "code",
   "execution_count": 59,
   "id": "5174b626",
   "metadata": {},
   "outputs": [
    {
     "data": {
      "text/html": [
       "<div>\n",
       "<style scoped>\n",
       "    .dataframe tbody tr th:only-of-type {\n",
       "        vertical-align: middle;\n",
       "    }\n",
       "\n",
       "    .dataframe tbody tr th {\n",
       "        vertical-align: top;\n",
       "    }\n",
       "\n",
       "    .dataframe thead th {\n",
       "        text-align: right;\n",
       "    }\n",
       "</style>\n",
       "<table border=\"1\" class=\"dataframe\">\n",
       "  <thead>\n",
       "    <tr style=\"text-align: right;\">\n",
       "      <th></th>\n",
       "      <th>input_text</th>\n",
       "      <th>target_text</th>\n",
       "      <th>word_count</th>\n",
       "      <th>NE_count</th>\n",
       "      <th>%_NE_in_sentence</th>\n",
       "    </tr>\n",
       "  </thead>\n",
       "  <tbody>\n",
       "    <tr>\n",
       "      <th>130880</th>\n",
       "      <td>I am David Coler, VOA News.</td>\n",
       "      <td>I am *s* David Coler *e*, *s* VOA News *e*.</td>\n",
       "      <td>6</td>\n",
       "      <td>2</td>\n",
       "      <td>0.3</td>\n",
       "    </tr>\n",
       "    <tr>\n",
       "      <th>123309</th>\n",
       "      <td>The firm was indicted in Tampa, Fla., on money...</td>\n",
       "      <td>The firm was indicted in *s* Tampa *e*, *s* Fl...</td>\n",
       "      <td>10</td>\n",
       "      <td>2</td>\n",
       "      <td>0.2</td>\n",
       "    </tr>\n",
       "    <tr>\n",
       "      <th>121836</th>\n",
       "      <td>Do you agree with that?</td>\n",
       "      <td>Do you agree with that?</td>\n",
       "      <td>5</td>\n",
       "      <td>0</td>\n",
       "      <td>0.0</td>\n",
       "    </tr>\n",
       "    <tr>\n",
       "      <th>109238</th>\n",
       "      <td>He made the earth and all that is in it, and h...</td>\n",
       "      <td>He made the earth and all that is in it, and h...</td>\n",
       "      <td>21</td>\n",
       "      <td>0</td>\n",
       "      <td>0.0</td>\n",
       "    </tr>\n",
       "    <tr>\n",
       "      <th>75022</th>\n",
       "      <td>An estimated $ 38.9 million was set aside for ...</td>\n",
       "      <td>An estimated $ 38.9 million was set aside for ...</td>\n",
       "      <td>24</td>\n",
       "      <td>2</td>\n",
       "      <td>0.1</td>\n",
       "    </tr>\n",
       "    <tr>\n",
       "      <th>...</th>\n",
       "      <td>...</td>\n",
       "      <td>...</td>\n",
       "      <td>...</td>\n",
       "      <td>...</td>\n",
       "      <td>...</td>\n",
       "    </tr>\n",
       "    <tr>\n",
       "      <th>19796</th>\n",
       "      <td>I think Optics Letters is probably the one tha...</td>\n",
       "      <td>I think *s* Optics Letters *e* is probably the...</td>\n",
       "      <td>30</td>\n",
       "      <td>2</td>\n",
       "      <td>0.1</td>\n",
       "    </tr>\n",
       "    <tr>\n",
       "      <th>35871</th>\n",
       "      <td>Says the younger Wang : \" For me, my father wa...</td>\n",
       "      <td>Says the younger *s* Wang *e* : \" For me, my f...</td>\n",
       "      <td>21</td>\n",
       "      <td>2</td>\n",
       "      <td>0.1</td>\n",
       "    </tr>\n",
       "    <tr>\n",
       "      <th>43736</th>\n",
       "      <td>Emergency measures would be introduced to ease...</td>\n",
       "      <td>Emergency measures would be introduced to ease...</td>\n",
       "      <td>18</td>\n",
       "      <td>0</td>\n",
       "      <td>0.0</td>\n",
       "    </tr>\n",
       "    <tr>\n",
       "      <th>24281</th>\n",
       "      <td>The group noted that 75 million francs of the ...</td>\n",
       "      <td>The group noted that 75 million francs of the ...</td>\n",
       "      <td>25</td>\n",
       "      <td>2</td>\n",
       "      <td>0.1</td>\n",
       "    </tr>\n",
       "    <tr>\n",
       "      <th>20937</th>\n",
       "      <td>but I 've done them all.</td>\n",
       "      <td>but I 've done them all.</td>\n",
       "      <td>6</td>\n",
       "      <td>0</td>\n",
       "      <td>0.0</td>\n",
       "    </tr>\n",
       "  </tbody>\n",
       "</table>\n",
       "<p>10469 rows × 5 columns</p>\n",
       "</div>"
      ],
      "text/plain": [
       "                                               input_text  \\\n",
       "130880                        I am David Coler, VOA News.   \n",
       "123309  The firm was indicted in Tampa, Fla., on money...   \n",
       "121836                            Do you agree with that?   \n",
       "109238  He made the earth and all that is in it, and h...   \n",
       "75022   An estimated $ 38.9 million was set aside for ...   \n",
       "...                                                   ...   \n",
       "19796   I think Optics Letters is probably the one tha...   \n",
       "35871   Says the younger Wang : \" For me, my father wa...   \n",
       "43736   Emergency measures would be introduced to ease...   \n",
       "24281   The group noted that 75 million francs of the ...   \n",
       "20937                            but I 've done them all.   \n",
       "\n",
       "                                              target_text  word_count  \\\n",
       "130880        I am *s* David Coler *e*, *s* VOA News *e*.           6   \n",
       "123309  The firm was indicted in *s* Tampa *e*, *s* Fl...          10   \n",
       "121836                            Do you agree with that?           5   \n",
       "109238  He made the earth and all that is in it, and h...          21   \n",
       "75022   An estimated $ 38.9 million was set aside for ...          24   \n",
       "...                                                   ...         ...   \n",
       "19796   I think *s* Optics Letters *e* is probably the...          30   \n",
       "35871   Says the younger *s* Wang *e* : \" For me, my f...          21   \n",
       "43736   Emergency measures would be introduced to ease...          18   \n",
       "24281   The group noted that 75 million francs of the ...          25   \n",
       "20937                            but I 've done them all.           6   \n",
       "\n",
       "        NE_count  %_NE_in_sentence  \n",
       "130880         2               0.3  \n",
       "123309         2               0.2  \n",
       "121836         0               0.0  \n",
       "109238         0               0.0  \n",
       "75022          2               0.1  \n",
       "...          ...               ...  \n",
       "19796          2               0.1  \n",
       "35871          2               0.1  \n",
       "43736          0               0.0  \n",
       "24281          2               0.1  \n",
       "20937          0               0.0  \n",
       "\n",
       "[10469 rows x 5 columns]"
      ]
     },
     "execution_count": 59,
     "metadata": {},
     "output_type": "execute_result"
    }
   ],
   "source": [
    "# dropping half of the rows with zero entities randomly\n",
    "\n",
    "np.random.seed(10)\n",
    "zero_entities = onto_test.loc[onto_test['%_NE_in_sentence']==0].index\n",
    "remove_n = round(len(zero_entities)*2/3)\n",
    "\n",
    "drop_indices = np.random.choice(zero_entities, remove_n, replace=False)\n",
    "onto_test.drop(drop_indices, inplace=True)\n",
    "onto_test"
   ]
  },
  {
   "cell_type": "code",
   "execution_count": 60,
   "id": "90da1096",
   "metadata": {},
   "outputs": [
    {
     "name": "stdout",
     "output_type": "stream",
     "text": [
      "10469\n",
      "there are 0.4455057789664724 sentences in the range of 0:0.1\n",
      "4664\n"
     ]
    },
    {
     "data": {
      "image/png": "[encoded data removed]",
      "text/plain": [
       "<Figure size 432x288 with 1 Axes>"
      ]
     },
     "metadata": {
      "needs_background": "light"
     },
     "output_type": "display_data"
    }
   ],
   "source": [
    "plot_percent_NE = onto_test['%_NE_in_sentence'].value_counts().sort_index()\n",
    "plot_percent_NE.plot(kind='bar')\n",
    "print(len(onto_test))\n",
    "print(\"there are\", sum(plot_percent_NE.loc[0:0.01])/len(onto_test), \"sentences in the range of 0:0.1\")\n",
    "print(sum(plot_percent_NE.loc[0:0.01]))"
   ]
  },
  {
   "cell_type": "code",
   "execution_count": 61,
   "id": "494a0eef",
   "metadata": {},
   "outputs": [
    {
     "data": {
      "text/plain": [
       "<AxesSubplot:xlabel='word_count'>"
      ]
     },
     "execution_count": 61,
     "metadata": {},
     "output_type": "execute_result"
    },
    {
     "data": {
      "image/png": "[encoded data removed]",
      "text/plain": [
       "<Figure size 432x288 with 1 Axes>"
      ]
     },
     "metadata": {
      "needs_background": "light"
     },
     "output_type": "display_data"
    }
   ],
   "source": [
    "onto_test.groupby(by='word_count')['input_text'].count().head(10).plot(kind='bar')"
   ]
  },
  {
   "cell_type": "code",
   "execution_count": null,
   "id": "040183e4",
   "metadata": {},
   "outputs": [],
   "source": []
  },
  {
   "cell_type": "markdown",
   "id": "978bf59b",
   "metadata": {},
   "source": [
    "### Combining the datasets"
   ]
  },
  {
   "cell_type": "code",
   "execution_count": 62,
   "id": "44eea1d2",
   "metadata": {},
   "outputs": [],
   "source": [
    "# test_combined_df = pd.concat([conellpp_test, wikineural_test, onto_test], ignore_index=True).drop_duplicates().reset_index(drop=True)\n",
    "# test_combined_df"
   ]
  },
  {
   "cell_type": "markdown",
   "id": "f1e89655",
   "metadata": {},
   "source": [
    "### creating a lowercase and uppercase versions of the test data"
   ]
  },
  {
   "cell_type": "code",
   "execution_count": 63,
   "id": "288ab8eb",
   "metadata": {},
   "outputs": [],
   "source": [
    "# lower_test = lower_case_df(test_combined_df)\n",
    "# lower_test"
   ]
  },
  {
   "cell_type": "code",
   "execution_count": 64,
   "id": "a527f6fa",
   "metadata": {},
   "outputs": [],
   "source": [
    "# upper_test = upper_case_df(test_combined_df)\n",
    "# lower_upper_test = pd.concat([lower_test, upper_test])\n",
    "# lower_upper_test = lower_upper_test.sample(frac=1, random_state=1).reset_index(drop=True)\n",
    "# lower_upper_test"
   ]
  },
  {
   "cell_type": "markdown",
   "id": "ad6861af",
   "metadata": {},
   "source": [
    "### Saving the data as csv"
   ]
  },
  {
   "cell_type": "code",
   "execution_count": 65,
   "id": "50d626ed",
   "metadata": {},
   "outputs": [],
   "source": [
    "# test_combined_df.to_csv('./1-NER_Data/1-csv_format/test/test_data.csv', index = False)\n",
    "\n",
    "conellpp_test.to_csv('./1-NER_Data/1-csv_format/test/conell_test_data_full_sentence.csv', index = False)\n",
    "wikineural_test.to_csv('./1-NER_Data/1-csv_format/test/wiki_neural_test_data_full_sentence.csv', index = False)\n",
    "onto_test.to_csv('./1-NER_Data/1-csv_format/test/onto_test_data_full_sentence.csv', index = False)\n",
    "\n",
    "# lower_test.to_csv('./1-NER_Data/1-csv_format/test/lower_test_data.csv', index = False)\n",
    "# lower_upper_test.to_csv('./1-NER_Data/1-csv_format/test/low_up_test_data.csv', index = False)"
   ]
  },
  {
   "cell_type": "code",
   "execution_count": null,
   "id": "df276cff",
   "metadata": {},
   "outputs": [],
   "source": []
  }
 ],
 "metadata": {
  "kernelspec": {
   "display_name": "Python 3",
   "language": "python",
   "name": "python3"
  },
  "language_info": {
   "codemirror_mode": {
    "name": "ipython",
    "version": 3
   },
   "file_extension": ".py",
   "mimetype": "text/x-python",
   "name": "python",
   "nbconvert_exporter": "python",
   "pygments_lexer": "ipython3",
   "version": "3.7.10"
  }
 },
 "nbformat": 4,
 "nbformat_minor": 5
}
