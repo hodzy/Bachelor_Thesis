{
 "cells": [
  {
   "cell_type": "code",
   "execution_count": 22,
   "id": "fd876daf",
   "metadata": {},
   "outputs": [],
   "source": [
    "import pandas as pd\n",
    "import numpy as np\n",
    "from sklearn.model_selection import train_test_split"
   ]
  },
  {
   "cell_type": "code",
   "execution_count": 61,
   "id": "6d6c884b",
   "metadata": {},
   "outputs": [],
   "source": [
    "def remove_quotes(value):\n",
    "    value = value.replace(\"['\", \"[ \")\n",
    "    value = value.replace(\"']\", \" ]\")\n",
    "    value = value.replace(\", '\", \", \")\n",
    "    value = value.replace(\"',\", \" ,\")\n",
    "    return value"
   ]
  },
  {
   "cell_type": "code",
   "execution_count": 62,
   "id": "c71d35e7",
   "metadata": {},
   "outputs": [],
   "source": [
    "def remove_outer_bracket(value):\n",
    "    return value[1:-1]"
   ]
  },
  {
   "cell_type": "code",
   "execution_count": 63,
   "id": "49ca2f5f",
   "metadata": {},
   "outputs": [],
   "source": [
    "def add_asterisks(value):\n",
    "    return '** ' + value + ' **'"
   ]
  },
  {
   "cell_type": "code",
   "execution_count": 64,
   "id": "51a8d660",
   "metadata": {},
   "outputs": [],
   "source": [
    "def check_qid_in_reply(row):\n",
    "    if row.qid in row.wikidata_reply:\n",
    "        return True\n",
    "    return False"
   ]
  },
  {
   "cell_type": "code",
   "execution_count": 65,
   "id": "211bb53f",
   "metadata": {},
   "outputs": [],
   "source": [
    "def input_len(row):\n",
    "    'question', 'entity', 'wikidata_reply'\n",
    "    return len(f\"{row['question']},{row['entity']},{row['wikidata_reply']}\")"
   ]
  },
  {
   "cell_type": "code",
   "execution_count": null,
   "id": "ba3b7ea9",
   "metadata": {},
   "outputs": [],
   "source": []
  },
  {
   "cell_type": "code",
   "execution_count": 66,
   "id": "6cabb7b8",
   "metadata": {},
   "outputs": [
    {
     "data": {
      "text/plain": [
       "2990"
      ]
     },
     "execution_count": 66,
     "metadata": {},
     "output_type": "execute_result"
    }
   ],
   "source": [
    "# split the data set into 70% train,  20% test, 10% valid\n",
    "complete_dataset = pd.read_csv('./2-NEL_Data/1-csv_format_1/webqsp_dataset_shuffled.csv')\n",
    "len(complete_dataset)"
   ]
  },
  {
   "cell_type": "code",
   "execution_count": 67,
   "id": "c44b41b1",
   "metadata": {},
   "outputs": [],
   "source": [
    "train_val = complete_dataset.sample(frac=0.8,random_state=42) #random state is a seed value\n",
    "web_test = complete_dataset.drop(train_val.index)"
   ]
  },
  {
   "cell_type": "code",
   "execution_count": 68,
   "id": "60a5068d",
   "metadata": {},
   "outputs": [],
   "source": [
    "web_val = train_val.sample(frac=0.125,random_state=42)\n",
    "web_train = train_val.drop(web_val.index)"
   ]
  },
  {
   "cell_type": "code",
   "execution_count": 69,
   "id": "f7a1bf9e",
   "metadata": {},
   "outputs": [],
   "source": [
    "web_train = web_train.reset_index(drop=True)\n",
    "web_test = web_test.reset_index(drop=True)\n",
    "web_val = web_val.reset_index(drop=True)"
   ]
  },
  {
   "cell_type": "code",
   "execution_count": 70,
   "id": "f98b50c4",
   "metadata": {},
   "outputs": [],
   "source": [
    "# print(len(web_train))\n",
    "# print(len(web_train) / len(complete_dataset))\n",
    "# print(len(web_test))\n",
    "# print(len(web_test) / len(complete_dataset))\n",
    "# print(len(web_val))\n",
    "# print(len(web_val) / len(complete_dataset))"
   ]
  },
  {
   "cell_type": "code",
   "execution_count": null,
   "id": "f3f7b20a",
   "metadata": {},
   "outputs": [],
   "source": []
  },
  {
   "cell_type": "code",
   "execution_count": null,
   "id": "b2683d77",
   "metadata": {},
   "outputs": [],
   "source": []
  },
  {
   "cell_type": "code",
   "execution_count": 71,
   "id": "7e0ea8c8",
   "metadata": {},
   "outputs": [],
   "source": [
    "simple_train = pd.read_csv('./2-NEL_Data/1-csv_format_1/simple_questions_training_dataset_shuffled.csv')\n",
    "wikidata_disambig_train = pd.read_csv('./2-NEL_Data/1-csv_format_1/wikidata_disambig_training_dataset_shuffled.csv')"
   ]
  },
  {
   "cell_type": "code",
   "execution_count": 72,
   "id": "40abbdbc",
   "metadata": {},
   "outputs": [],
   "source": [
    "training_data = pd.concat([simple_train, web_train, wikidata_disambig_train])"
   ]
  },
  {
   "cell_type": "code",
   "execution_count": 73,
   "id": "457cd4db",
   "metadata": {},
   "outputs": [],
   "source": [
    "training_data['entity'] = training_data['entity'].apply(remove_quotes)\n",
    "training_data['wikidata_reply'] = training_data['wikidata_reply'].apply(remove_quotes)"
   ]
  },
  {
   "cell_type": "code",
   "execution_count": 74,
   "id": "007713d3",
   "metadata": {},
   "outputs": [],
   "source": [
    "training_data['entity'] = training_data['entity'].apply(remove_outer_bracket)\n",
    "training_data['wikidata_reply'] = training_data['wikidata_reply'].apply(remove_outer_bracket)"
   ]
  },
  {
   "cell_type": "code",
   "execution_count": 75,
   "id": "a6c3fb05",
   "metadata": {},
   "outputs": [
    {
     "data": {
      "text/html": [
       "<div>\n",
       "<style scoped>\n",
       "    .dataframe tbody tr th:only-of-type {\n",
       "        vertical-align: middle;\n",
       "    }\n",
       "\n",
       "    .dataframe tbody tr th {\n",
       "        vertical-align: top;\n",
       "    }\n",
       "\n",
       "    .dataframe thead th {\n",
       "        text-align: right;\n",
       "    }\n",
       "</style>\n",
       "<table border=\"1\" class=\"dataframe\">\n",
       "  <thead>\n",
       "    <tr style=\"text-align: right;\">\n",
       "      <th></th>\n",
       "      <th>qid</th>\n",
       "      <th>question</th>\n",
       "      <th>entity</th>\n",
       "      <th>wikidata_reply</th>\n",
       "    </tr>\n",
       "  </thead>\n",
       "  <tbody>\n",
       "    <tr>\n",
       "      <th>0</th>\n",
       "      <td>Q126399</td>\n",
       "      <td>what movie is produced by warner bros.</td>\n",
       "      <td>warner bros.</td>\n",
       "      <td>[[ Q1156642 , Warner Bros. Television Studios ...</td>\n",
       "    </tr>\n",
       "    <tr>\n",
       "      <th>1</th>\n",
       "      <td>Q12439</td>\n",
       "      <td>who is a musician born in detroit</td>\n",
       "      <td>detroit</td>\n",
       "      <td>[[ Q27965056 , Detroit , 2017 film by Kathryn ...</td>\n",
       "    </tr>\n",
       "    <tr>\n",
       "      <th>2</th>\n",
       "      <td>Q7370831</td>\n",
       "      <td>who produced the film rough house rosie</td>\n",
       "      <td>rough house rosie</td>\n",
       "      <td>[[ Q4421558 , Rough House Rosie , 1927 film by...</td>\n",
       "    </tr>\n",
       "    <tr>\n",
       "      <th>3</th>\n",
       "      <td>Q6817891</td>\n",
       "      <td>what is the language in which mera shikar was ...</td>\n",
       "      <td>mera shikar</td>\n",
       "      <td>[[ Q6817891 , Mera Shikar , 1988 film by Keshu...</td>\n",
       "    </tr>\n",
       "    <tr>\n",
       "      <th>4</th>\n",
       "      <td>Q1297</td>\n",
       "      <td>Whats the name of a battle that happened in ch...</td>\n",
       "      <td>chicago</td>\n",
       "      <td>[[ Q656285 , Chicago , musical set in Prohibit...</td>\n",
       "    </tr>\n",
       "    <tr>\n",
       "      <th>...</th>\n",
       "      <td>...</td>\n",
       "      <td>...</td>\n",
       "      <td>...</td>\n",
       "      <td>...</td>\n",
       "    </tr>\n",
       "    <tr>\n",
       "      <th>136462</th>\n",
       "      <td>Q8463</td>\n",
       "      <td>slavery unconstitutional in the state of Massa...</td>\n",
       "      <td>slavery</td>\n",
       "      <td>[[ Q3486571 , Slavery &amp; Abolition , journal ],...</td>\n",
       "    </tr>\n",
       "    <tr>\n",
       "      <th>136463</th>\n",
       "      <td>Q6245416</td>\n",
       "      <td>slavery unconstitutional in the state of Mass...</td>\n",
       "      <td>John Lowell</td>\n",
       "      <td>[[ Q105100859 , John Lowell Russell , American...</td>\n",
       "    </tr>\n",
       "    <tr>\n",
       "      <th>136464</th>\n",
       "      <td>Q6113863</td>\n",
       "      <td>and Jack Manning. It was nominated for the To...</td>\n",
       "      <td>Jack Manning</td>\n",
       "      <td>[[ Q28794033 , Jack Manning , New Zealand arch...</td>\n",
       "    </tr>\n",
       "    <tr>\n",
       "      <th>136465</th>\n",
       "      <td>Q220</td>\n",
       "      <td>Rome and have come to Venice for a vacation, ...</td>\n",
       "      <td>Rome</td>\n",
       "      <td>[[ Q209878 , Rome , TV series ], [ Q6586 , Rom...</td>\n",
       "    </tr>\n",
       "    <tr>\n",
       "      <th>136466</th>\n",
       "      <td>Q2302213</td>\n",
       "      <td>adapted from Laurents' 1952 play The Time of ...</td>\n",
       "      <td>Summertime</td>\n",
       "      <td>[[ Q7637683 , Summertime , 2001 film ], [ Q844...</td>\n",
       "    </tr>\n",
       "  </tbody>\n",
       "</table>\n",
       "<p>136467 rows × 4 columns</p>\n",
       "</div>"
      ],
      "text/plain": [
       "             qid                                           question  \\\n",
       "0        Q126399             what movie is produced by warner bros.   \n",
       "1         Q12439                  who is a musician born in detroit   \n",
       "2       Q7370831            who produced the film rough house rosie   \n",
       "3       Q6817891  what is the language in which mera shikar was ...   \n",
       "4          Q1297  Whats the name of a battle that happened in ch...   \n",
       "...          ...                                                ...   \n",
       "136462     Q8463  slavery unconstitutional in the state of Massa...   \n",
       "136463  Q6245416   slavery unconstitutional in the state of Mass...   \n",
       "136464  Q6113863   and Jack Manning. It was nominated for the To...   \n",
       "136465      Q220   Rome and have come to Venice for a vacation, ...   \n",
       "136466  Q2302213   adapted from Laurents' 1952 play The Time of ...   \n",
       "\n",
       "                     entity                                     wikidata_reply  \n",
       "0             warner bros.   [[ Q1156642 , Warner Bros. Television Studios ...  \n",
       "1                  detroit   [[ Q27965056 , Detroit , 2017 film by Kathryn ...  \n",
       "2        rough house rosie   [[ Q4421558 , Rough House Rosie , 1927 film by...  \n",
       "3              mera shikar   [[ Q6817891 , Mera Shikar , 1988 film by Keshu...  \n",
       "4                  chicago   [[ Q656285 , Chicago , musical set in Prohibit...  \n",
       "...                     ...                                                ...  \n",
       "136462             slavery   [[ Q3486571 , Slavery & Abolition , journal ],...  \n",
       "136463         John Lowell   [[ Q105100859 , John Lowell Russell , American...  \n",
       "136464        Jack Manning   [[ Q28794033 , Jack Manning , New Zealand arch...  \n",
       "136465                Rome   [[ Q209878 , Rome , TV series ], [ Q6586 , Rom...  \n",
       "136466          Summertime   [[ Q7637683 , Summertime , 2001 film ], [ Q844...  \n",
       "\n",
       "[136467 rows x 4 columns]"
      ]
     },
     "execution_count": 75,
     "metadata": {},
     "output_type": "execute_result"
    }
   ],
   "source": [
    "training_data.reset_index(inplace=True,drop=True)\n",
    "training_data"
   ]
  },
  {
   "cell_type": "code",
   "execution_count": 76,
   "id": "eff8a1ab",
   "metadata": {},
   "outputs": [
    {
     "data": {
      "text/plain": [
       "2178"
      ]
     },
     "execution_count": 76,
     "metadata": {},
     "output_type": "execute_result"
    }
   ],
   "source": [
    "# empty wikidata reply\n",
    "len(training_data[training_data['wikidata_reply'].str.len() <= 2].index)"
   ]
  },
  {
   "cell_type": "code",
   "execution_count": 77,
   "id": "424c785d",
   "metadata": {},
   "outputs": [
    {
     "data": {
      "text/html": [
       "<div>\n",
       "<style scoped>\n",
       "    .dataframe tbody tr th:only-of-type {\n",
       "        vertical-align: middle;\n",
       "    }\n",
       "\n",
       "    .dataframe tbody tr th {\n",
       "        vertical-align: top;\n",
       "    }\n",
       "\n",
       "    .dataframe thead th {\n",
       "        text-align: right;\n",
       "    }\n",
       "</style>\n",
       "<table border=\"1\" class=\"dataframe\">\n",
       "  <thead>\n",
       "    <tr style=\"text-align: right;\">\n",
       "      <th></th>\n",
       "      <th>qid</th>\n",
       "      <th>question</th>\n",
       "      <th>entity</th>\n",
       "      <th>wikidata_reply</th>\n",
       "    </tr>\n",
       "  </thead>\n",
       "  <tbody>\n",
       "    <tr>\n",
       "      <th>0</th>\n",
       "      <td>Q126399</td>\n",
       "      <td>what movie is produced by warner bros.</td>\n",
       "      <td>warner bros.</td>\n",
       "      <td>[[ Q1156642 , Warner Bros. Television Studios ...</td>\n",
       "    </tr>\n",
       "    <tr>\n",
       "      <th>1</th>\n",
       "      <td>Q12439</td>\n",
       "      <td>who is a musician born in detroit</td>\n",
       "      <td>detroit</td>\n",
       "      <td>[[ Q27965056 , Detroit , 2017 film by Kathryn ...</td>\n",
       "    </tr>\n",
       "    <tr>\n",
       "      <th>2</th>\n",
       "      <td>Q7370831</td>\n",
       "      <td>who produced the film rough house rosie</td>\n",
       "      <td>rough house rosie</td>\n",
       "      <td>[[ Q4421558 , Rough House Rosie , 1927 film by...</td>\n",
       "    </tr>\n",
       "    <tr>\n",
       "      <th>3</th>\n",
       "      <td>Q6817891</td>\n",
       "      <td>what is the language in which mera shikar was ...</td>\n",
       "      <td>mera shikar</td>\n",
       "      <td>[[ Q6817891 , Mera Shikar , 1988 film by Keshu...</td>\n",
       "    </tr>\n",
       "    <tr>\n",
       "      <th>4</th>\n",
       "      <td>Q1297</td>\n",
       "      <td>Whats the name of a battle that happened in ch...</td>\n",
       "      <td>chicago</td>\n",
       "      <td>[[ Q656285 , Chicago , musical set in Prohibit...</td>\n",
       "    </tr>\n",
       "    <tr>\n",
       "      <th>...</th>\n",
       "      <td>...</td>\n",
       "      <td>...</td>\n",
       "      <td>...</td>\n",
       "      <td>...</td>\n",
       "    </tr>\n",
       "    <tr>\n",
       "      <th>134284</th>\n",
       "      <td>Q8463</td>\n",
       "      <td>slavery unconstitutional in the state of Massa...</td>\n",
       "      <td>slavery</td>\n",
       "      <td>[[ Q3486571 , Slavery &amp; Abolition , journal ],...</td>\n",
       "    </tr>\n",
       "    <tr>\n",
       "      <th>134285</th>\n",
       "      <td>Q6245416</td>\n",
       "      <td>slavery unconstitutional in the state of Mass...</td>\n",
       "      <td>John Lowell</td>\n",
       "      <td>[[ Q105100859 , John Lowell Russell , American...</td>\n",
       "    </tr>\n",
       "    <tr>\n",
       "      <th>134286</th>\n",
       "      <td>Q6113863</td>\n",
       "      <td>and Jack Manning. It was nominated for the To...</td>\n",
       "      <td>Jack Manning</td>\n",
       "      <td>[[ Q28794033 , Jack Manning , New Zealand arch...</td>\n",
       "    </tr>\n",
       "    <tr>\n",
       "      <th>134287</th>\n",
       "      <td>Q220</td>\n",
       "      <td>Rome and have come to Venice for a vacation, ...</td>\n",
       "      <td>Rome</td>\n",
       "      <td>[[ Q209878 , Rome , TV series ], [ Q6586 , Rom...</td>\n",
       "    </tr>\n",
       "    <tr>\n",
       "      <th>134288</th>\n",
       "      <td>Q2302213</td>\n",
       "      <td>adapted from Laurents' 1952 play The Time of ...</td>\n",
       "      <td>Summertime</td>\n",
       "      <td>[[ Q7637683 , Summertime , 2001 film ], [ Q844...</td>\n",
       "    </tr>\n",
       "  </tbody>\n",
       "</table>\n",
       "<p>134289 rows × 4 columns</p>\n",
       "</div>"
      ],
      "text/plain": [
       "             qid                                           question  \\\n",
       "0        Q126399             what movie is produced by warner bros.   \n",
       "1         Q12439                  who is a musician born in detroit   \n",
       "2       Q7370831            who produced the film rough house rosie   \n",
       "3       Q6817891  what is the language in which mera shikar was ...   \n",
       "4          Q1297  Whats the name of a battle that happened in ch...   \n",
       "...          ...                                                ...   \n",
       "134284     Q8463  slavery unconstitutional in the state of Massa...   \n",
       "134285  Q6245416   slavery unconstitutional in the state of Mass...   \n",
       "134286  Q6113863   and Jack Manning. It was nominated for the To...   \n",
       "134287      Q220   Rome and have come to Venice for a vacation, ...   \n",
       "134288  Q2302213   adapted from Laurents' 1952 play The Time of ...   \n",
       "\n",
       "                     entity                                     wikidata_reply  \n",
       "0             warner bros.   [[ Q1156642 , Warner Bros. Television Studios ...  \n",
       "1                  detroit   [[ Q27965056 , Detroit , 2017 film by Kathryn ...  \n",
       "2        rough house rosie   [[ Q4421558 , Rough House Rosie , 1927 film by...  \n",
       "3              mera shikar   [[ Q6817891 , Mera Shikar , 1988 film by Keshu...  \n",
       "4                  chicago   [[ Q656285 , Chicago , musical set in Prohibit...  \n",
       "...                     ...                                                ...  \n",
       "134284             slavery   [[ Q3486571 , Slavery & Abolition , journal ],...  \n",
       "134285         John Lowell   [[ Q105100859 , John Lowell Russell , American...  \n",
       "134286        Jack Manning   [[ Q28794033 , Jack Manning , New Zealand arch...  \n",
       "134287                Rome   [[ Q209878 , Rome , TV series ], [ Q6586 , Rom...  \n",
       "134288          Summertime   [[ Q7637683 , Summertime , 2001 film ], [ Q844...  \n",
       "\n",
       "[134289 rows x 4 columns]"
      ]
     },
     "execution_count": 77,
     "metadata": {},
     "output_type": "execute_result"
    }
   ],
   "source": [
    "training_data = training_data.drop(training_data[training_data['wikidata_reply'].str.len() <= 2].index)\n",
    "training_data.reset_index(inplace=True,drop=True)\n",
    "training_data"
   ]
  },
  {
   "cell_type": "code",
   "execution_count": 78,
   "id": "4baa8ecb",
   "metadata": {},
   "outputs": [
    {
     "data": {
      "text/html": [
       "<div>\n",
       "<style scoped>\n",
       "    .dataframe tbody tr th:only-of-type {\n",
       "        vertical-align: middle;\n",
       "    }\n",
       "\n",
       "    .dataframe tbody tr th {\n",
       "        vertical-align: top;\n",
       "    }\n",
       "\n",
       "    .dataframe thead th {\n",
       "        text-align: right;\n",
       "    }\n",
       "</style>\n",
       "<table border=\"1\" class=\"dataframe\">\n",
       "  <thead>\n",
       "    <tr style=\"text-align: right;\">\n",
       "      <th></th>\n",
       "      <th>qid</th>\n",
       "      <th>question</th>\n",
       "      <th>entity</th>\n",
       "      <th>wikidata_reply</th>\n",
       "    </tr>\n",
       "  </thead>\n",
       "  <tbody>\n",
       "    <tr>\n",
       "      <th>0</th>\n",
       "      <td>Q126399</td>\n",
       "      <td>** what movie is produced by warner bros. **</td>\n",
       "      <td>**  warner bros.  **</td>\n",
       "      <td>** [[ Q1156642 , Warner Bros. Television Studi...</td>\n",
       "    </tr>\n",
       "    <tr>\n",
       "      <th>1</th>\n",
       "      <td>Q12439</td>\n",
       "      <td>** who is a musician born in detroit **</td>\n",
       "      <td>**  detroit  **</td>\n",
       "      <td>** [[ Q27965056 , Detroit , 2017 film by Kathr...</td>\n",
       "    </tr>\n",
       "    <tr>\n",
       "      <th>2</th>\n",
       "      <td>Q7370831</td>\n",
       "      <td>** who produced the film rough house rosie **</td>\n",
       "      <td>**  rough house rosie  **</td>\n",
       "      <td>** [[ Q4421558 , Rough House Rosie , 1927 film...</td>\n",
       "    </tr>\n",
       "    <tr>\n",
       "      <th>3</th>\n",
       "      <td>Q6817891</td>\n",
       "      <td>** what is the language in which mera shikar w...</td>\n",
       "      <td>**  mera shikar  **</td>\n",
       "      <td>** [[ Q6817891 , Mera Shikar , 1988 film by Ke...</td>\n",
       "    </tr>\n",
       "    <tr>\n",
       "      <th>4</th>\n",
       "      <td>Q1297</td>\n",
       "      <td>** Whats the name of a battle that happened in...</td>\n",
       "      <td>**  chicago  **</td>\n",
       "      <td>** [[ Q656285 , Chicago , musical set in Prohi...</td>\n",
       "    </tr>\n",
       "    <tr>\n",
       "      <th>...</th>\n",
       "      <td>...</td>\n",
       "      <td>...</td>\n",
       "      <td>...</td>\n",
       "      <td>...</td>\n",
       "    </tr>\n",
       "    <tr>\n",
       "      <th>134284</th>\n",
       "      <td>Q8463</td>\n",
       "      <td>** slavery unconstitutional in the state of Ma...</td>\n",
       "      <td>**  slavery  **</td>\n",
       "      <td>** [[ Q3486571 , Slavery &amp; Abolition , journal...</td>\n",
       "    </tr>\n",
       "    <tr>\n",
       "      <th>134285</th>\n",
       "      <td>Q6245416</td>\n",
       "      <td>**  slavery unconstitutional in the state of M...</td>\n",
       "      <td>**  John Lowell  **</td>\n",
       "      <td>** [[ Q105100859 , John Lowell Russell , Ameri...</td>\n",
       "    </tr>\n",
       "    <tr>\n",
       "      <th>134286</th>\n",
       "      <td>Q6113863</td>\n",
       "      <td>**  and Jack Manning. It was nominated for the...</td>\n",
       "      <td>**  Jack Manning  **</td>\n",
       "      <td>** [[ Q28794033 , Jack Manning , New Zealand a...</td>\n",
       "    </tr>\n",
       "    <tr>\n",
       "      <th>134287</th>\n",
       "      <td>Q220</td>\n",
       "      <td>**  Rome and have come to Venice for a vacatio...</td>\n",
       "      <td>**  Rome  **</td>\n",
       "      <td>** [[ Q209878 , Rome , TV series ], [ Q6586 , ...</td>\n",
       "    </tr>\n",
       "    <tr>\n",
       "      <th>134288</th>\n",
       "      <td>Q2302213</td>\n",
       "      <td>**  adapted from Laurents' 1952 play The Time ...</td>\n",
       "      <td>**  Summertime  **</td>\n",
       "      <td>** [[ Q7637683 , Summertime , 2001 film ], [ Q...</td>\n",
       "    </tr>\n",
       "  </tbody>\n",
       "</table>\n",
       "<p>134289 rows × 4 columns</p>\n",
       "</div>"
      ],
      "text/plain": [
       "             qid                                           question  \\\n",
       "0        Q126399       ** what movie is produced by warner bros. **   \n",
       "1         Q12439            ** who is a musician born in detroit **   \n",
       "2       Q7370831      ** who produced the film rough house rosie **   \n",
       "3       Q6817891  ** what is the language in which mera shikar w...   \n",
       "4          Q1297  ** Whats the name of a battle that happened in...   \n",
       "...          ...                                                ...   \n",
       "134284     Q8463  ** slavery unconstitutional in the state of Ma...   \n",
       "134285  Q6245416  **  slavery unconstitutional in the state of M...   \n",
       "134286  Q6113863  **  and Jack Manning. It was nominated for the...   \n",
       "134287      Q220  **  Rome and have come to Venice for a vacatio...   \n",
       "134288  Q2302213  **  adapted from Laurents' 1952 play The Time ...   \n",
       "\n",
       "                           entity  \\\n",
       "0            **  warner bros.  **   \n",
       "1                 **  detroit  **   \n",
       "2       **  rough house rosie  **   \n",
       "3             **  mera shikar  **   \n",
       "4                 **  chicago  **   \n",
       "...                           ...   \n",
       "134284            **  slavery  **   \n",
       "134285        **  John Lowell  **   \n",
       "134286       **  Jack Manning  **   \n",
       "134287               **  Rome  **   \n",
       "134288         **  Summertime  **   \n",
       "\n",
       "                                           wikidata_reply  \n",
       "0       ** [[ Q1156642 , Warner Bros. Television Studi...  \n",
       "1       ** [[ Q27965056 , Detroit , 2017 film by Kathr...  \n",
       "2       ** [[ Q4421558 , Rough House Rosie , 1927 film...  \n",
       "3       ** [[ Q6817891 , Mera Shikar , 1988 film by Ke...  \n",
       "4       ** [[ Q656285 , Chicago , musical set in Prohi...  \n",
       "...                                                   ...  \n",
       "134284  ** [[ Q3486571 , Slavery & Abolition , journal...  \n",
       "134285  ** [[ Q105100859 , John Lowell Russell , Ameri...  \n",
       "134286  ** [[ Q28794033 , Jack Manning , New Zealand a...  \n",
       "134287  ** [[ Q209878 , Rome , TV series ], [ Q6586 , ...  \n",
       "134288  ** [[ Q7637683 , Summertime , 2001 film ], [ Q...  \n",
       "\n",
       "[134289 rows x 4 columns]"
      ]
     },
     "execution_count": 78,
     "metadata": {},
     "output_type": "execute_result"
    }
   ],
   "source": [
    "training_data['question'] = training_data['question'].apply(add_asterisks)\n",
    "training_data['entity'] = training_data['entity'].apply(add_asterisks)\n",
    "training_data['wikidata_reply'] = training_data['wikidata_reply'].apply(add_asterisks)\n",
    "training_data"
   ]
  },
  {
   "cell_type": "code",
   "execution_count": 79,
   "id": "aebc066a",
   "metadata": {},
   "outputs": [
    {
     "data": {
      "text/plain": [
       "qid                                                         Q126399\n",
       "question               ** what movie is produced by warner bros. **\n",
       "entity                                         **  warner bros.  **\n",
       "wikidata_reply    ** [[ Q1156642 , Warner Bros. Television Studi...\n",
       "Name: 0, dtype: object"
      ]
     },
     "execution_count": 79,
     "metadata": {},
     "output_type": "execute_result"
    }
   ],
   "source": [
    "training_data.iloc[0]"
   ]
  },
  {
   "cell_type": "code",
   "execution_count": 80,
   "id": "34075247",
   "metadata": {},
   "outputs": [
    {
     "data": {
      "text/plain": [
       "'** [[ Q1156642 , Warner Bros. Television Studios , television production and distribution arm owned by Warner Bros. Entertainment ], [ Q843402 , Warner Bros. Records , American record label (1958 to 2019) ], [ Q126399 , Warner Bros. , American producer of film, television, and music entertainment ], [ Q67030918 , Warner Records , American record label ], [ Q2319420 , Warner Bros. Interactive Entertainment , American publisher, developer, licensor, and distributor of video games ], [ Q874433 , Warner Music Japan , Japanese record label ], [ Q13416804 , Warner Bros. Animation , animation division of Warner Bros. Television Group ]] **'"
      ]
     },
     "execution_count": 80,
     "metadata": {},
     "output_type": "execute_result"
    }
   ],
   "source": [
    "training_data.iloc[0]['wikidata_reply']"
   ]
  },
  {
   "cell_type": "code",
   "execution_count": 81,
   "id": "0809680e",
   "metadata": {},
   "outputs": [],
   "source": [
    "training_data['qid_in_reply'] = training_data.apply(check_qid_in_reply, axis=1)"
   ]
  },
  {
   "cell_type": "code",
   "execution_count": 82,
   "id": "9875b45c",
   "metadata": {},
   "outputs": [
    {
     "name": "stdout",
     "output_type": "stream",
     "text": [
      "134289\n",
      "3894\n",
      "2.8997162835377432\n"
     ]
    }
   ],
   "source": [
    "print(len(training_data))\n",
    "print(len(training_data[training_data['qid_in_reply'] == False]))\n",
    "print(len(training_data[training_data['qid_in_reply'] == False])*100/len(training_data))"
   ]
  },
  {
   "cell_type": "code",
   "execution_count": 83,
   "id": "7cb6227b",
   "metadata": {},
   "outputs": [
    {
     "data": {
      "text/html": [
       "<div>\n",
       "<style scoped>\n",
       "    .dataframe tbody tr th:only-of-type {\n",
       "        vertical-align: middle;\n",
       "    }\n",
       "\n",
       "    .dataframe tbody tr th {\n",
       "        vertical-align: top;\n",
       "    }\n",
       "\n",
       "    .dataframe thead th {\n",
       "        text-align: right;\n",
       "    }\n",
       "</style>\n",
       "<table border=\"1\" class=\"dataframe\">\n",
       "  <thead>\n",
       "    <tr style=\"text-align: right;\">\n",
       "      <th></th>\n",
       "      <th>qid</th>\n",
       "      <th>question</th>\n",
       "      <th>entity</th>\n",
       "      <th>wikidata_reply</th>\n",
       "      <th>qid_in_reply</th>\n",
       "    </tr>\n",
       "  </thead>\n",
       "  <tbody>\n",
       "    <tr>\n",
       "      <th>0</th>\n",
       "      <td>Q126399</td>\n",
       "      <td>** what movie is produced by warner bros. **</td>\n",
       "      <td>**  warner bros.  **</td>\n",
       "      <td>** [[ Q1156642 , Warner Bros. Television Studi...</td>\n",
       "      <td>True</td>\n",
       "    </tr>\n",
       "    <tr>\n",
       "      <th>1</th>\n",
       "      <td>Q12439</td>\n",
       "      <td>** who is a musician born in detroit **</td>\n",
       "      <td>**  detroit  **</td>\n",
       "      <td>** [[ Q27965056 , Detroit , 2017 film by Kathr...</td>\n",
       "      <td>True</td>\n",
       "    </tr>\n",
       "    <tr>\n",
       "      <th>2</th>\n",
       "      <td>Q6817891</td>\n",
       "      <td>** what is the language in which mera shikar w...</td>\n",
       "      <td>**  mera shikar  **</td>\n",
       "      <td>** [[ Q6817891 , Mera Shikar , 1988 film by Ke...</td>\n",
       "      <td>True</td>\n",
       "    </tr>\n",
       "    <tr>\n",
       "      <th>3</th>\n",
       "      <td>Q1297</td>\n",
       "      <td>** Whats the name of a battle that happened in...</td>\n",
       "      <td>**  chicago  **</td>\n",
       "      <td>** [[ Q656285 , Chicago , musical set in Prohi...</td>\n",
       "      <td>True</td>\n",
       "    </tr>\n",
       "    <tr>\n",
       "      <th>4</th>\n",
       "      <td>Q193592</td>\n",
       "      <td>** what player plays the position midfielder? **</td>\n",
       "      <td>**  midfielder  **</td>\n",
       "      <td>** [[ Q193592 , midfielder , association footb...</td>\n",
       "      <td>True</td>\n",
       "    </tr>\n",
       "    <tr>\n",
       "      <th>...</th>\n",
       "      <td>...</td>\n",
       "      <td>...</td>\n",
       "      <td>...</td>\n",
       "      <td>...</td>\n",
       "      <td>...</td>\n",
       "    </tr>\n",
       "    <tr>\n",
       "      <th>130390</th>\n",
       "      <td>Q8463</td>\n",
       "      <td>** slavery unconstitutional in the state of Ma...</td>\n",
       "      <td>**  slavery  **</td>\n",
       "      <td>** [[ Q3486571 , Slavery &amp; Abolition , journal...</td>\n",
       "      <td>True</td>\n",
       "    </tr>\n",
       "    <tr>\n",
       "      <th>130391</th>\n",
       "      <td>Q6245416</td>\n",
       "      <td>**  slavery unconstitutional in the state of M...</td>\n",
       "      <td>**  John Lowell  **</td>\n",
       "      <td>** [[ Q105100859 , John Lowell Russell , Ameri...</td>\n",
       "      <td>True</td>\n",
       "    </tr>\n",
       "    <tr>\n",
       "      <th>130392</th>\n",
       "      <td>Q6113863</td>\n",
       "      <td>**  and Jack Manning. It was nominated for the...</td>\n",
       "      <td>**  Jack Manning  **</td>\n",
       "      <td>** [[ Q28794033 , Jack Manning , New Zealand a...</td>\n",
       "      <td>True</td>\n",
       "    </tr>\n",
       "    <tr>\n",
       "      <th>130393</th>\n",
       "      <td>Q220</td>\n",
       "      <td>**  Rome and have come to Venice for a vacatio...</td>\n",
       "      <td>**  Rome  **</td>\n",
       "      <td>** [[ Q209878 , Rome , TV series ], [ Q6586 , ...</td>\n",
       "      <td>True</td>\n",
       "    </tr>\n",
       "    <tr>\n",
       "      <th>130394</th>\n",
       "      <td>Q2302213</td>\n",
       "      <td>**  adapted from Laurents' 1952 play The Time ...</td>\n",
       "      <td>**  Summertime  **</td>\n",
       "      <td>** [[ Q7637683 , Summertime , 2001 film ], [ Q...</td>\n",
       "      <td>True</td>\n",
       "    </tr>\n",
       "  </tbody>\n",
       "</table>\n",
       "<p>130395 rows × 5 columns</p>\n",
       "</div>"
      ],
      "text/plain": [
       "             qid                                           question  \\\n",
       "0        Q126399       ** what movie is produced by warner bros. **   \n",
       "1         Q12439            ** who is a musician born in detroit **   \n",
       "2       Q6817891  ** what is the language in which mera shikar w...   \n",
       "3          Q1297  ** Whats the name of a battle that happened in...   \n",
       "4        Q193592   ** what player plays the position midfielder? **   \n",
       "...          ...                                                ...   \n",
       "130390     Q8463  ** slavery unconstitutional in the state of Ma...   \n",
       "130391  Q6245416  **  slavery unconstitutional in the state of M...   \n",
       "130392  Q6113863  **  and Jack Manning. It was nominated for the...   \n",
       "130393      Q220  **  Rome and have come to Venice for a vacatio...   \n",
       "130394  Q2302213  **  adapted from Laurents' 1952 play The Time ...   \n",
       "\n",
       "                      entity  \\\n",
       "0       **  warner bros.  **   \n",
       "1            **  detroit  **   \n",
       "2        **  mera shikar  **   \n",
       "3            **  chicago  **   \n",
       "4         **  midfielder  **   \n",
       "...                      ...   \n",
       "130390       **  slavery  **   \n",
       "130391   **  John Lowell  **   \n",
       "130392  **  Jack Manning  **   \n",
       "130393          **  Rome  **   \n",
       "130394    **  Summertime  **   \n",
       "\n",
       "                                           wikidata_reply  qid_in_reply  \n",
       "0       ** [[ Q1156642 , Warner Bros. Television Studi...          True  \n",
       "1       ** [[ Q27965056 , Detroit , 2017 film by Kathr...          True  \n",
       "2       ** [[ Q6817891 , Mera Shikar , 1988 film by Ke...          True  \n",
       "3       ** [[ Q656285 , Chicago , musical set in Prohi...          True  \n",
       "4       ** [[ Q193592 , midfielder , association footb...          True  \n",
       "...                                                   ...           ...  \n",
       "130390  ** [[ Q3486571 , Slavery & Abolition , journal...          True  \n",
       "130391  ** [[ Q105100859 , John Lowell Russell , Ameri...          True  \n",
       "130392  ** [[ Q28794033 , Jack Manning , New Zealand a...          True  \n",
       "130393  ** [[ Q209878 , Rome , TV series ], [ Q6586 , ...          True  \n",
       "130394  ** [[ Q7637683 , Summertime , 2001 film ], [ Q...          True  \n",
       "\n",
       "[130395 rows x 5 columns]"
      ]
     },
     "execution_count": 83,
     "metadata": {},
     "output_type": "execute_result"
    }
   ],
   "source": [
    "training_data = training_data.drop(training_data[training_data['qid_in_reply'] == False].index)\n",
    "training_data = training_data.reset_index(drop=True)\n",
    "training_data"
   ]
  },
  {
   "cell_type": "code",
   "execution_count": 84,
   "id": "084becf9",
   "metadata": {},
   "outputs": [],
   "source": [
    "training_data['input_len'] = training_data.apply(input_len, axis=1)\n",
    "# training_data"
   ]
  },
  {
   "cell_type": "code",
   "execution_count": 85,
   "id": "616a60b4",
   "metadata": {},
   "outputs": [
    {
     "data": {
      "text/plain": [
       "<AxesSubplot:>"
      ]
     },
     "execution_count": 85,
     "metadata": {},
     "output_type": "execute_result"
    },
    {
     "data": {
      "image/png": "[encoded data removed]",
      "text/plain": [
       "<Figure size 432x288 with 1 Axes>"
      ]
     },
     "metadata": {
      "needs_background": "light"
     },
     "output_type": "display_data"
    }
   ],
   "source": [
    "plot_percent_NE = training_data['input_len'].value_counts().sort_index()\n",
    "training_data['input_len'].hist(bins=20)"
   ]
  },
  {
   "cell_type": "code",
   "execution_count": 86,
   "id": "b16ba4b1",
   "metadata": {},
   "outputs": [
    {
     "name": "stdout",
     "output_type": "stream",
     "text": [
      "603\n",
      "0.46244104451857815\n"
     ]
    }
   ],
   "source": [
    "print(len(training_data[training_data['input_len'] > 1024]))\n",
    "print(len(training_data[training_data['input_len'] > 1024])*100/len(training_data))"
   ]
  },
  {
   "cell_type": "code",
   "execution_count": 87,
   "id": "e594ba74",
   "metadata": {},
   "outputs": [],
   "source": [
    "# training_data = training_data.drop(training_data[training_data['input_len'] > 1024].index)\n",
    "# training_data = training_data.reset_index(drop=True)\n",
    "# training_data"
   ]
  },
  {
   "cell_type": "code",
   "execution_count": 88,
   "id": "b53af88c",
   "metadata": {},
   "outputs": [],
   "source": [
    "training_data.to_csv('./2-NEL_Data/2-csv_format_2/training_data_shuffled.csv', index=False)"
   ]
  },
  {
   "cell_type": "code",
   "execution_count": null,
   "id": "2289522e",
   "metadata": {},
   "outputs": [],
   "source": []
  },
  {
   "cell_type": "markdown",
   "id": "8d0c1154",
   "metadata": {},
   "source": [
    "## validation data"
   ]
  },
  {
   "cell_type": "code",
   "execution_count": 89,
   "id": "f6695abc",
   "metadata": {},
   "outputs": [],
   "source": [
    "simple_val = pd.read_csv('./2-NEL_Data/1-csv_format_1/simple_questions_val_dataset_shuffled.csv')\n",
    "wikidata_disambig_val = pd.read_csv('./2-NEL_Data/1-csv_format_1/wikidata_disambig_val_dataset_shuffled.csv')"
   ]
  },
  {
   "cell_type": "code",
   "execution_count": 90,
   "id": "a26e923b",
   "metadata": {},
   "outputs": [
    {
     "data": {
      "text/plain": [
       "15166"
      ]
     },
     "execution_count": 90,
     "metadata": {},
     "output_type": "execute_result"
    }
   ],
   "source": [
    "val_data = pd.concat([simple_val, web_val, wikidata_disambig_val])\n",
    "len(val_data)"
   ]
  },
  {
   "cell_type": "code",
   "execution_count": 91,
   "id": "962cdde8",
   "metadata": {},
   "outputs": [],
   "source": [
    "val_data['entity'] = val_data['entity'].apply(remove_quotes)\n",
    "val_data['wikidata_reply'] = val_data['wikidata_reply'].apply(remove_quotes)"
   ]
  },
  {
   "cell_type": "code",
   "execution_count": 92,
   "id": "b5a85e39",
   "metadata": {},
   "outputs": [],
   "source": [
    "val_data['entity'] = val_data['entity'].apply(remove_outer_bracket)\n",
    "val_data['wikidata_reply'] = val_data['wikidata_reply'].apply(remove_outer_bracket)"
   ]
  },
  {
   "cell_type": "code",
   "execution_count": 93,
   "id": "f96ee828",
   "metadata": {},
   "outputs": [
    {
     "data": {
      "text/html": [
       "<div>\n",
       "<style scoped>\n",
       "    .dataframe tbody tr th:only-of-type {\n",
       "        vertical-align: middle;\n",
       "    }\n",
       "\n",
       "    .dataframe tbody tr th {\n",
       "        vertical-align: top;\n",
       "    }\n",
       "\n",
       "    .dataframe thead th {\n",
       "        text-align: right;\n",
       "    }\n",
       "</style>\n",
       "<table border=\"1\" class=\"dataframe\">\n",
       "  <thead>\n",
       "    <tr style=\"text-align: right;\">\n",
       "      <th></th>\n",
       "      <th>qid</th>\n",
       "      <th>question</th>\n",
       "      <th>entity</th>\n",
       "      <th>wikidata_reply</th>\n",
       "    </tr>\n",
       "  </thead>\n",
       "  <tbody>\n",
       "    <tr>\n",
       "      <th>0</th>\n",
       "      <td>Q3541144</td>\n",
       "      <td>Who was the trump ocean club international hot...</td>\n",
       "      <td>trump ocean club</td>\n",
       "      <td>[[ Q3541144 , JW Marriott Panama , hotel in Pa...</td>\n",
       "    </tr>\n",
       "    <tr>\n",
       "      <th>1</th>\n",
       "      <td>Q318926</td>\n",
       "      <td>where was sasha vujačić born</td>\n",
       "      <td>sasha vujačić</td>\n",
       "      <td>[[ Q318926 , Sasha Vujačić , Slovenian basketb...</td>\n",
       "    </tr>\n",
       "    <tr>\n",
       "      <th>2</th>\n",
       "      <td>Q2568216</td>\n",
       "      <td>What is a film directed by wiebke von carolsfeld?</td>\n",
       "      <td>wiebke von carolsfeld</td>\n",
       "      <td>[[ Q2568216 , Wiebke Carolsfeld , German film ...</td>\n",
       "    </tr>\n",
       "    <tr>\n",
       "      <th>3</th>\n",
       "      <td>Q2275923</td>\n",
       "      <td>What was Seymour Parker Gilbert's profession?</td>\n",
       "      <td>Seymour Parker Gilbert</td>\n",
       "      <td>[[ Q17380364 , S. Parker Gilbert , American bu...</td>\n",
       "    </tr>\n",
       "    <tr>\n",
       "      <th>4</th>\n",
       "      <td>Q2856873</td>\n",
       "      <td>in what french city did antoine de févin die</td>\n",
       "      <td>antoine de févin</td>\n",
       "      <td>[[ Q2856873 , Antoine de Févin , French compos...</td>\n",
       "    </tr>\n",
       "    <tr>\n",
       "      <th>...</th>\n",
       "      <td>...</td>\n",
       "      <td>...</td>\n",
       "      <td>...</td>\n",
       "      <td>...</td>\n",
       "    </tr>\n",
       "    <tr>\n",
       "      <th>15161</th>\n",
       "      <td>Q3124910</td>\n",
       "      <td>north lie the suburbs of Bittern and Hastings...</td>\n",
       "      <td>HMAS Cerberus</td>\n",
       "      <td>[[ Q38168666 , HMAS Cerberus Central Area Grou...</td>\n",
       "    </tr>\n",
       "    <tr>\n",
       "      <th>15162</th>\n",
       "      <td>Q1855011</td>\n",
       "      <td>television reception can be difficult when us...</td>\n",
       "      <td>yacht club</td>\n",
       "      <td>[[ Q55131 , Yacht Club de Monaco , Monegasque ...</td>\n",
       "    </tr>\n",
       "    <tr>\n",
       "      <th>15163</th>\n",
       "      <td>Q3141</td>\n",
       "      <td>Tootgarook is a suburb in Melbourne, Victoria,...</td>\n",
       "      <td>Melbourne</td>\n",
       "      <td>[[ Q944836 , Melbourne , city in Iowa, United ...</td>\n",
       "    </tr>\n",
       "    <tr>\n",
       "      <th>15164</th>\n",
       "      <td>Q36687</td>\n",
       "      <td>Tootgarook is a suburb in Melbourne, Victoria,...</td>\n",
       "      <td>Victoria</td>\n",
       "      <td>[[ Q3940 , Victoria , capital city of the Seyc...</td>\n",
       "    </tr>\n",
       "    <tr>\n",
       "      <th>15165</th>\n",
       "      <td>Q7384943</td>\n",
       "      <td>pastoral run established earlier. A Tootgaroo...</td>\n",
       "      <td>Rye</td>\n",
       "      <td>[[ Q5719316 , Barbara Lynette Rye , Australian...</td>\n",
       "    </tr>\n",
       "  </tbody>\n",
       "</table>\n",
       "<p>15166 rows × 4 columns</p>\n",
       "</div>"
      ],
      "text/plain": [
       "            qid                                           question  \\\n",
       "0      Q3541144  Who was the trump ocean club international hot...   \n",
       "1       Q318926                       where was sasha vujačić born   \n",
       "2      Q2568216  What is a film directed by wiebke von carolsfeld?   \n",
       "3      Q2275923      What was Seymour Parker Gilbert's profession?   \n",
       "4      Q2856873       in what french city did antoine de févin die   \n",
       "...         ...                                                ...   \n",
       "15161  Q3124910   north lie the suburbs of Bittern and Hastings...   \n",
       "15162  Q1855011   television reception can be difficult when us...   \n",
       "15163     Q3141  Tootgarook is a suburb in Melbourne, Victoria,...   \n",
       "15164    Q36687  Tootgarook is a suburb in Melbourne, Victoria,...   \n",
       "15165  Q7384943   pastoral run established earlier. A Tootgaroo...   \n",
       "\n",
       "                         entity  \\\n",
       "0             trump ocean club    \n",
       "1                sasha vujačić    \n",
       "2        wiebke von carolsfeld    \n",
       "3       Seymour Parker Gilbert    \n",
       "4             antoine de févin    \n",
       "...                         ...   \n",
       "15161            HMAS Cerberus    \n",
       "15162               yacht club    \n",
       "15163                Melbourne    \n",
       "15164                 Victoria    \n",
       "15165                      Rye    \n",
       "\n",
       "                                          wikidata_reply  \n",
       "0      [[ Q3541144 , JW Marriott Panama , hotel in Pa...  \n",
       "1      [[ Q318926 , Sasha Vujačić , Slovenian basketb...  \n",
       "2      [[ Q2568216 , Wiebke Carolsfeld , German film ...  \n",
       "3      [[ Q17380364 , S. Parker Gilbert , American bu...  \n",
       "4      [[ Q2856873 , Antoine de Févin , French compos...  \n",
       "...                                                  ...  \n",
       "15161  [[ Q38168666 , HMAS Cerberus Central Area Grou...  \n",
       "15162  [[ Q55131 , Yacht Club de Monaco , Monegasque ...  \n",
       "15163  [[ Q944836 , Melbourne , city in Iowa, United ...  \n",
       "15164  [[ Q3940 , Victoria , capital city of the Seyc...  \n",
       "15165  [[ Q5719316 , Barbara Lynette Rye , Australian...  \n",
       "\n",
       "[15166 rows x 4 columns]"
      ]
     },
     "execution_count": 93,
     "metadata": {},
     "output_type": "execute_result"
    }
   ],
   "source": [
    "val_data.reset_index(inplace=True,drop=True)\n",
    "val_data"
   ]
  },
  {
   "cell_type": "code",
   "execution_count": 94,
   "id": "5aa88291",
   "metadata": {
    "scrolled": true
   },
   "outputs": [
    {
     "data": {
      "text/plain": [
       "320"
      ]
     },
     "execution_count": 94,
     "metadata": {},
     "output_type": "execute_result"
    }
   ],
   "source": [
    "len(val_data[val_data['wikidata_reply'].str.len() <= 2].index)"
   ]
  },
  {
   "cell_type": "code",
   "execution_count": 95,
   "id": "9f728c13",
   "metadata": {},
   "outputs": [
    {
     "data": {
      "text/html": [
       "<div>\n",
       "<style scoped>\n",
       "    .dataframe tbody tr th:only-of-type {\n",
       "        vertical-align: middle;\n",
       "    }\n",
       "\n",
       "    .dataframe tbody tr th {\n",
       "        vertical-align: top;\n",
       "    }\n",
       "\n",
       "    .dataframe thead th {\n",
       "        text-align: right;\n",
       "    }\n",
       "</style>\n",
       "<table border=\"1\" class=\"dataframe\">\n",
       "  <thead>\n",
       "    <tr style=\"text-align: right;\">\n",
       "      <th></th>\n",
       "      <th>qid</th>\n",
       "      <th>question</th>\n",
       "      <th>entity</th>\n",
       "      <th>wikidata_reply</th>\n",
       "    </tr>\n",
       "  </thead>\n",
       "  <tbody>\n",
       "    <tr>\n",
       "      <th>0</th>\n",
       "      <td>Q3541144</td>\n",
       "      <td>Who was the trump ocean club international hot...</td>\n",
       "      <td>trump ocean club</td>\n",
       "      <td>[[ Q3541144 , JW Marriott Panama , hotel in Pa...</td>\n",
       "    </tr>\n",
       "    <tr>\n",
       "      <th>1</th>\n",
       "      <td>Q318926</td>\n",
       "      <td>where was sasha vujačić born</td>\n",
       "      <td>sasha vujačić</td>\n",
       "      <td>[[ Q318926 , Sasha Vujačić , Slovenian basketb...</td>\n",
       "    </tr>\n",
       "    <tr>\n",
       "      <th>2</th>\n",
       "      <td>Q2568216</td>\n",
       "      <td>What is a film directed by wiebke von carolsfeld?</td>\n",
       "      <td>wiebke von carolsfeld</td>\n",
       "      <td>[[ Q2568216 , Wiebke Carolsfeld , German film ...</td>\n",
       "    </tr>\n",
       "    <tr>\n",
       "      <th>3</th>\n",
       "      <td>Q2275923</td>\n",
       "      <td>What was Seymour Parker Gilbert's profession?</td>\n",
       "      <td>Seymour Parker Gilbert</td>\n",
       "      <td>[[ Q17380364 , S. Parker Gilbert , American bu...</td>\n",
       "    </tr>\n",
       "    <tr>\n",
       "      <th>4</th>\n",
       "      <td>Q2856873</td>\n",
       "      <td>in what french city did antoine de févin die</td>\n",
       "      <td>antoine de févin</td>\n",
       "      <td>[[ Q2856873 , Antoine de Févin , French compos...</td>\n",
       "    </tr>\n",
       "    <tr>\n",
       "      <th>...</th>\n",
       "      <td>...</td>\n",
       "      <td>...</td>\n",
       "      <td>...</td>\n",
       "      <td>...</td>\n",
       "    </tr>\n",
       "    <tr>\n",
       "      <th>14841</th>\n",
       "      <td>Q3124910</td>\n",
       "      <td>north lie the suburbs of Bittern and Hastings...</td>\n",
       "      <td>HMAS Cerberus</td>\n",
       "      <td>[[ Q38168666 , HMAS Cerberus Central Area Grou...</td>\n",
       "    </tr>\n",
       "    <tr>\n",
       "      <th>14842</th>\n",
       "      <td>Q1855011</td>\n",
       "      <td>television reception can be difficult when us...</td>\n",
       "      <td>yacht club</td>\n",
       "      <td>[[ Q55131 , Yacht Club de Monaco , Monegasque ...</td>\n",
       "    </tr>\n",
       "    <tr>\n",
       "      <th>14843</th>\n",
       "      <td>Q3141</td>\n",
       "      <td>Tootgarook is a suburb in Melbourne, Victoria,...</td>\n",
       "      <td>Melbourne</td>\n",
       "      <td>[[ Q944836 , Melbourne , city in Iowa, United ...</td>\n",
       "    </tr>\n",
       "    <tr>\n",
       "      <th>14844</th>\n",
       "      <td>Q36687</td>\n",
       "      <td>Tootgarook is a suburb in Melbourne, Victoria,...</td>\n",
       "      <td>Victoria</td>\n",
       "      <td>[[ Q3940 , Victoria , capital city of the Seyc...</td>\n",
       "    </tr>\n",
       "    <tr>\n",
       "      <th>14845</th>\n",
       "      <td>Q7384943</td>\n",
       "      <td>pastoral run established earlier. A Tootgaroo...</td>\n",
       "      <td>Rye</td>\n",
       "      <td>[[ Q5719316 , Barbara Lynette Rye , Australian...</td>\n",
       "    </tr>\n",
       "  </tbody>\n",
       "</table>\n",
       "<p>14846 rows × 4 columns</p>\n",
       "</div>"
      ],
      "text/plain": [
       "            qid                                           question  \\\n",
       "0      Q3541144  Who was the trump ocean club international hot...   \n",
       "1       Q318926                       where was sasha vujačić born   \n",
       "2      Q2568216  What is a film directed by wiebke von carolsfeld?   \n",
       "3      Q2275923      What was Seymour Parker Gilbert's profession?   \n",
       "4      Q2856873       in what french city did antoine de févin die   \n",
       "...         ...                                                ...   \n",
       "14841  Q3124910   north lie the suburbs of Bittern and Hastings...   \n",
       "14842  Q1855011   television reception can be difficult when us...   \n",
       "14843     Q3141  Tootgarook is a suburb in Melbourne, Victoria,...   \n",
       "14844    Q36687  Tootgarook is a suburb in Melbourne, Victoria,...   \n",
       "14845  Q7384943   pastoral run established earlier. A Tootgaroo...   \n",
       "\n",
       "                         entity  \\\n",
       "0             trump ocean club    \n",
       "1                sasha vujačić    \n",
       "2        wiebke von carolsfeld    \n",
       "3       Seymour Parker Gilbert    \n",
       "4             antoine de févin    \n",
       "...                         ...   \n",
       "14841            HMAS Cerberus    \n",
       "14842               yacht club    \n",
       "14843                Melbourne    \n",
       "14844                 Victoria    \n",
       "14845                      Rye    \n",
       "\n",
       "                                          wikidata_reply  \n",
       "0      [[ Q3541144 , JW Marriott Panama , hotel in Pa...  \n",
       "1      [[ Q318926 , Sasha Vujačić , Slovenian basketb...  \n",
       "2      [[ Q2568216 , Wiebke Carolsfeld , German film ...  \n",
       "3      [[ Q17380364 , S. Parker Gilbert , American bu...  \n",
       "4      [[ Q2856873 , Antoine de Févin , French compos...  \n",
       "...                                                  ...  \n",
       "14841  [[ Q38168666 , HMAS Cerberus Central Area Grou...  \n",
       "14842  [[ Q55131 , Yacht Club de Monaco , Monegasque ...  \n",
       "14843  [[ Q944836 , Melbourne , city in Iowa, United ...  \n",
       "14844  [[ Q3940 , Victoria , capital city of the Seyc...  \n",
       "14845  [[ Q5719316 , Barbara Lynette Rye , Australian...  \n",
       "\n",
       "[14846 rows x 4 columns]"
      ]
     },
     "execution_count": 95,
     "metadata": {},
     "output_type": "execute_result"
    }
   ],
   "source": [
    "val_data=val_data.drop(val_data[val_data['wikidata_reply'].str.len() <= 2].index)\n",
    "val_data.reset_index(inplace=True,drop=True)\n",
    "val_data"
   ]
  },
  {
   "cell_type": "code",
   "execution_count": 96,
   "id": "4b6a1817",
   "metadata": {},
   "outputs": [
    {
     "data": {
      "text/html": [
       "<div>\n",
       "<style scoped>\n",
       "    .dataframe tbody tr th:only-of-type {\n",
       "        vertical-align: middle;\n",
       "    }\n",
       "\n",
       "    .dataframe tbody tr th {\n",
       "        vertical-align: top;\n",
       "    }\n",
       "\n",
       "    .dataframe thead th {\n",
       "        text-align: right;\n",
       "    }\n",
       "</style>\n",
       "<table border=\"1\" class=\"dataframe\">\n",
       "  <thead>\n",
       "    <tr style=\"text-align: right;\">\n",
       "      <th></th>\n",
       "      <th>qid</th>\n",
       "      <th>question</th>\n",
       "      <th>entity</th>\n",
       "      <th>wikidata_reply</th>\n",
       "    </tr>\n",
       "  </thead>\n",
       "  <tbody>\n",
       "    <tr>\n",
       "      <th>0</th>\n",
       "      <td>Q3541144</td>\n",
       "      <td>** Who was the trump ocean club international ...</td>\n",
       "      <td>**  trump ocean club  **</td>\n",
       "      <td>** [[ Q3541144 , JW Marriott Panama , hotel in...</td>\n",
       "    </tr>\n",
       "    <tr>\n",
       "      <th>1</th>\n",
       "      <td>Q318926</td>\n",
       "      <td>** where was sasha vujačić born **</td>\n",
       "      <td>**  sasha vujačić  **</td>\n",
       "      <td>** [[ Q318926 , Sasha Vujačić , Slovenian bask...</td>\n",
       "    </tr>\n",
       "    <tr>\n",
       "      <th>2</th>\n",
       "      <td>Q2568216</td>\n",
       "      <td>** What is a film directed by wiebke von carol...</td>\n",
       "      <td>**  wiebke von carolsfeld  **</td>\n",
       "      <td>** [[ Q2568216 , Wiebke Carolsfeld , German fi...</td>\n",
       "    </tr>\n",
       "    <tr>\n",
       "      <th>3</th>\n",
       "      <td>Q2275923</td>\n",
       "      <td>** What was Seymour Parker Gilbert's professio...</td>\n",
       "      <td>**  Seymour Parker Gilbert  **</td>\n",
       "      <td>** [[ Q17380364 , S. Parker Gilbert , American...</td>\n",
       "    </tr>\n",
       "    <tr>\n",
       "      <th>4</th>\n",
       "      <td>Q2856873</td>\n",
       "      <td>** in what french city did antoine de févin di...</td>\n",
       "      <td>**  antoine de févin  **</td>\n",
       "      <td>** [[ Q2856873 , Antoine de Févin , French com...</td>\n",
       "    </tr>\n",
       "    <tr>\n",
       "      <th>...</th>\n",
       "      <td>...</td>\n",
       "      <td>...</td>\n",
       "      <td>...</td>\n",
       "      <td>...</td>\n",
       "    </tr>\n",
       "    <tr>\n",
       "      <th>14841</th>\n",
       "      <td>Q3124910</td>\n",
       "      <td>**  north lie the suburbs of Bittern and Hasti...</td>\n",
       "      <td>**  HMAS Cerberus  **</td>\n",
       "      <td>** [[ Q38168666 , HMAS Cerberus Central Area G...</td>\n",
       "    </tr>\n",
       "    <tr>\n",
       "      <th>14842</th>\n",
       "      <td>Q1855011</td>\n",
       "      <td>**  television reception can be difficult when...</td>\n",
       "      <td>**  yacht club  **</td>\n",
       "      <td>** [[ Q55131 , Yacht Club de Monaco , Monegasq...</td>\n",
       "    </tr>\n",
       "    <tr>\n",
       "      <th>14843</th>\n",
       "      <td>Q3141</td>\n",
       "      <td>** Tootgarook is a suburb in Melbourne, Victor...</td>\n",
       "      <td>**  Melbourne  **</td>\n",
       "      <td>** [[ Q944836 , Melbourne , city in Iowa, Unit...</td>\n",
       "    </tr>\n",
       "    <tr>\n",
       "      <th>14844</th>\n",
       "      <td>Q36687</td>\n",
       "      <td>** Tootgarook is a suburb in Melbourne, Victor...</td>\n",
       "      <td>**  Victoria  **</td>\n",
       "      <td>** [[ Q3940 , Victoria , capital city of the S...</td>\n",
       "    </tr>\n",
       "    <tr>\n",
       "      <th>14845</th>\n",
       "      <td>Q7384943</td>\n",
       "      <td>**  pastoral run established earlier. A Tootga...</td>\n",
       "      <td>**  Rye  **</td>\n",
       "      <td>** [[ Q5719316 , Barbara Lynette Rye , Austral...</td>\n",
       "    </tr>\n",
       "  </tbody>\n",
       "</table>\n",
       "<p>14846 rows × 4 columns</p>\n",
       "</div>"
      ],
      "text/plain": [
       "            qid                                           question  \\\n",
       "0      Q3541144  ** Who was the trump ocean club international ...   \n",
       "1       Q318926                 ** where was sasha vujačić born **   \n",
       "2      Q2568216  ** What is a film directed by wiebke von carol...   \n",
       "3      Q2275923  ** What was Seymour Parker Gilbert's professio...   \n",
       "4      Q2856873  ** in what french city did antoine de févin di...   \n",
       "...         ...                                                ...   \n",
       "14841  Q3124910  **  north lie the suburbs of Bittern and Hasti...   \n",
       "14842  Q1855011  **  television reception can be difficult when...   \n",
       "14843     Q3141  ** Tootgarook is a suburb in Melbourne, Victor...   \n",
       "14844    Q36687  ** Tootgarook is a suburb in Melbourne, Victor...   \n",
       "14845  Q7384943  **  pastoral run established earlier. A Tootga...   \n",
       "\n",
       "                               entity  \\\n",
       "0            **  trump ocean club  **   \n",
       "1               **  sasha vujačić  **   \n",
       "2       **  wiebke von carolsfeld  **   \n",
       "3      **  Seymour Parker Gilbert  **   \n",
       "4            **  antoine de févin  **   \n",
       "...                               ...   \n",
       "14841           **  HMAS Cerberus  **   \n",
       "14842              **  yacht club  **   \n",
       "14843               **  Melbourne  **   \n",
       "14844                **  Victoria  **   \n",
       "14845                     **  Rye  **   \n",
       "\n",
       "                                          wikidata_reply  \n",
       "0      ** [[ Q3541144 , JW Marriott Panama , hotel in...  \n",
       "1      ** [[ Q318926 , Sasha Vujačić , Slovenian bask...  \n",
       "2      ** [[ Q2568216 , Wiebke Carolsfeld , German fi...  \n",
       "3      ** [[ Q17380364 , S. Parker Gilbert , American...  \n",
       "4      ** [[ Q2856873 , Antoine de Févin , French com...  \n",
       "...                                                  ...  \n",
       "14841  ** [[ Q38168666 , HMAS Cerberus Central Area G...  \n",
       "14842  ** [[ Q55131 , Yacht Club de Monaco , Monegasq...  \n",
       "14843  ** [[ Q944836 , Melbourne , city in Iowa, Unit...  \n",
       "14844  ** [[ Q3940 , Victoria , capital city of the S...  \n",
       "14845  ** [[ Q5719316 , Barbara Lynette Rye , Austral...  \n",
       "\n",
       "[14846 rows x 4 columns]"
      ]
     },
     "execution_count": 96,
     "metadata": {},
     "output_type": "execute_result"
    }
   ],
   "source": [
    "val_data['question'] = val_data['question'].apply(add_asterisks)\n",
    "val_data['entity'] = val_data['entity'].apply(add_asterisks)\n",
    "val_data['wikidata_reply'] = val_data['wikidata_reply'].apply(add_asterisks)\n",
    "val_data"
   ]
  },
  {
   "cell_type": "code",
   "execution_count": 97,
   "id": "f4dd9fa9",
   "metadata": {},
   "outputs": [],
   "source": [
    "val_data['qid_in_reply'] = val_data.apply(check_qid_in_reply, axis=1)"
   ]
  },
  {
   "cell_type": "code",
   "execution_count": 98,
   "id": "6e623ddc",
   "metadata": {},
   "outputs": [
    {
     "name": "stdout",
     "output_type": "stream",
     "text": [
      "14846\n",
      "440\n",
      "2.9637612825003368\n"
     ]
    }
   ],
   "source": [
    "print(len(val_data))\n",
    "print(len(val_data[val_data['qid_in_reply'] == False]))\n",
    "print(len(val_data[val_data['qid_in_reply'] == False])*100/len(val_data))"
   ]
  },
  {
   "cell_type": "code",
   "execution_count": 99,
   "id": "06efff94",
   "metadata": {},
   "outputs": [
    {
     "data": {
      "text/html": [
       "<div>\n",
       "<style scoped>\n",
       "    .dataframe tbody tr th:only-of-type {\n",
       "        vertical-align: middle;\n",
       "    }\n",
       "\n",
       "    .dataframe tbody tr th {\n",
       "        vertical-align: top;\n",
       "    }\n",
       "\n",
       "    .dataframe thead th {\n",
       "        text-align: right;\n",
       "    }\n",
       "</style>\n",
       "<table border=\"1\" class=\"dataframe\">\n",
       "  <thead>\n",
       "    <tr style=\"text-align: right;\">\n",
       "      <th></th>\n",
       "      <th>qid</th>\n",
       "      <th>question</th>\n",
       "      <th>entity</th>\n",
       "      <th>wikidata_reply</th>\n",
       "      <th>qid_in_reply</th>\n",
       "    </tr>\n",
       "  </thead>\n",
       "  <tbody>\n",
       "    <tr>\n",
       "      <th>0</th>\n",
       "      <td>Q3541144</td>\n",
       "      <td>** Who was the trump ocean club international ...</td>\n",
       "      <td>**  trump ocean club  **</td>\n",
       "      <td>** [[ Q3541144 , JW Marriott Panama , hotel in...</td>\n",
       "      <td>True</td>\n",
       "    </tr>\n",
       "    <tr>\n",
       "      <th>1</th>\n",
       "      <td>Q318926</td>\n",
       "      <td>** where was sasha vujačić born **</td>\n",
       "      <td>**  sasha vujačić  **</td>\n",
       "      <td>** [[ Q318926 , Sasha Vujačić , Slovenian bask...</td>\n",
       "      <td>True</td>\n",
       "    </tr>\n",
       "    <tr>\n",
       "      <th>2</th>\n",
       "      <td>Q2568216</td>\n",
       "      <td>** What is a film directed by wiebke von carol...</td>\n",
       "      <td>**  wiebke von carolsfeld  **</td>\n",
       "      <td>** [[ Q2568216 , Wiebke Carolsfeld , German fi...</td>\n",
       "      <td>True</td>\n",
       "    </tr>\n",
       "    <tr>\n",
       "      <th>3</th>\n",
       "      <td>Q2275923</td>\n",
       "      <td>** What was Seymour Parker Gilbert's professio...</td>\n",
       "      <td>**  Seymour Parker Gilbert  **</td>\n",
       "      <td>** [[ Q17380364 , S. Parker Gilbert , American...</td>\n",
       "      <td>True</td>\n",
       "    </tr>\n",
       "    <tr>\n",
       "      <th>4</th>\n",
       "      <td>Q2856873</td>\n",
       "      <td>** in what french city did antoine de févin di...</td>\n",
       "      <td>**  antoine de févin  **</td>\n",
       "      <td>** [[ Q2856873 , Antoine de Févin , French com...</td>\n",
       "      <td>True</td>\n",
       "    </tr>\n",
       "    <tr>\n",
       "      <th>...</th>\n",
       "      <td>...</td>\n",
       "      <td>...</td>\n",
       "      <td>...</td>\n",
       "      <td>...</td>\n",
       "      <td>...</td>\n",
       "    </tr>\n",
       "    <tr>\n",
       "      <th>14401</th>\n",
       "      <td>Q3141</td>\n",
       "      <td>** Somers is a small town approximately 72 km ...</td>\n",
       "      <td>**  Melbourne  **</td>\n",
       "      <td>** [[ Q3141 , Melbourne , capital city of Vict...</td>\n",
       "      <td>True</td>\n",
       "    </tr>\n",
       "    <tr>\n",
       "      <th>14402</th>\n",
       "      <td>Q3124910</td>\n",
       "      <td>**  north lie the suburbs of Bittern and Hasti...</td>\n",
       "      <td>**  HMAS Cerberus  **</td>\n",
       "      <td>** [[ Q38168666 , HMAS Cerberus Central Area G...</td>\n",
       "      <td>True</td>\n",
       "    </tr>\n",
       "    <tr>\n",
       "      <th>14403</th>\n",
       "      <td>Q1855011</td>\n",
       "      <td>**  television reception can be difficult when...</td>\n",
       "      <td>**  yacht club  **</td>\n",
       "      <td>** [[ Q55131 , Yacht Club de Monaco , Monegasq...</td>\n",
       "      <td>True</td>\n",
       "    </tr>\n",
       "    <tr>\n",
       "      <th>14404</th>\n",
       "      <td>Q3141</td>\n",
       "      <td>** Tootgarook is a suburb in Melbourne, Victor...</td>\n",
       "      <td>**  Melbourne  **</td>\n",
       "      <td>** [[ Q944836 , Melbourne , city in Iowa, Unit...</td>\n",
       "      <td>True</td>\n",
       "    </tr>\n",
       "    <tr>\n",
       "      <th>14405</th>\n",
       "      <td>Q36687</td>\n",
       "      <td>** Tootgarook is a suburb in Melbourne, Victor...</td>\n",
       "      <td>**  Victoria  **</td>\n",
       "      <td>** [[ Q3940 , Victoria , capital city of the S...</td>\n",
       "      <td>True</td>\n",
       "    </tr>\n",
       "  </tbody>\n",
       "</table>\n",
       "<p>14406 rows × 5 columns</p>\n",
       "</div>"
      ],
      "text/plain": [
       "            qid                                           question  \\\n",
       "0      Q3541144  ** Who was the trump ocean club international ...   \n",
       "1       Q318926                 ** where was sasha vujačić born **   \n",
       "2      Q2568216  ** What is a film directed by wiebke von carol...   \n",
       "3      Q2275923  ** What was Seymour Parker Gilbert's professio...   \n",
       "4      Q2856873  ** in what french city did antoine de févin di...   \n",
       "...         ...                                                ...   \n",
       "14401     Q3141  ** Somers is a small town approximately 72 km ...   \n",
       "14402  Q3124910  **  north lie the suburbs of Bittern and Hasti...   \n",
       "14403  Q1855011  **  television reception can be difficult when...   \n",
       "14404     Q3141  ** Tootgarook is a suburb in Melbourne, Victor...   \n",
       "14405    Q36687  ** Tootgarook is a suburb in Melbourne, Victor...   \n",
       "\n",
       "                               entity  \\\n",
       "0            **  trump ocean club  **   \n",
       "1               **  sasha vujačić  **   \n",
       "2       **  wiebke von carolsfeld  **   \n",
       "3      **  Seymour Parker Gilbert  **   \n",
       "4            **  antoine de févin  **   \n",
       "...                               ...   \n",
       "14401               **  Melbourne  **   \n",
       "14402           **  HMAS Cerberus  **   \n",
       "14403              **  yacht club  **   \n",
       "14404               **  Melbourne  **   \n",
       "14405                **  Victoria  **   \n",
       "\n",
       "                                          wikidata_reply  qid_in_reply  \n",
       "0      ** [[ Q3541144 , JW Marriott Panama , hotel in...          True  \n",
       "1      ** [[ Q318926 , Sasha Vujačić , Slovenian bask...          True  \n",
       "2      ** [[ Q2568216 , Wiebke Carolsfeld , German fi...          True  \n",
       "3      ** [[ Q17380364 , S. Parker Gilbert , American...          True  \n",
       "4      ** [[ Q2856873 , Antoine de Févin , French com...          True  \n",
       "...                                                  ...           ...  \n",
       "14401  ** [[ Q3141 , Melbourne , capital city of Vict...          True  \n",
       "14402  ** [[ Q38168666 , HMAS Cerberus Central Area G...          True  \n",
       "14403  ** [[ Q55131 , Yacht Club de Monaco , Monegasq...          True  \n",
       "14404  ** [[ Q944836 , Melbourne , city in Iowa, Unit...          True  \n",
       "14405  ** [[ Q3940 , Victoria , capital city of the S...          True  \n",
       "\n",
       "[14406 rows x 5 columns]"
      ]
     },
     "execution_count": 99,
     "metadata": {},
     "output_type": "execute_result"
    }
   ],
   "source": [
    "val_data = val_data.drop(val_data[val_data['qid_in_reply'] == False].index)\n",
    "val_data = val_data.reset_index(drop=True)\n",
    "val_data"
   ]
  },
  {
   "cell_type": "code",
   "execution_count": 100,
   "id": "e80fdd39",
   "metadata": {},
   "outputs": [],
   "source": [
    "val_data['input_len'] = val_data.apply(input_len, axis=1)\n",
    "# training_data"
   ]
  },
  {
   "cell_type": "code",
   "execution_count": 101,
   "id": "fcf8df3e",
   "metadata": {},
   "outputs": [
    {
     "data": {
      "text/plain": [
       "<AxesSubplot:>"
      ]
     },
     "execution_count": 101,
     "metadata": {},
     "output_type": "execute_result"
    },
    {
     "data": {
      "image/png": "[encoded data removed]",
      "text/plain": [
       "<Figure size 432x288 with 1 Axes>"
      ]
     },
     "metadata": {
      "needs_background": "light"
     },
     "output_type": "display_data"
    }
   ],
   "source": [
    "plot_percent_NE = val_data['input_len'].value_counts().sort_index()\n",
    "val_data['input_len'].hist(bins=20)"
   ]
  },
  {
   "cell_type": "code",
   "execution_count": 102,
   "id": "1c7c20b3",
   "metadata": {},
   "outputs": [
    {
     "name": "stdout",
     "output_type": "stream",
     "text": [
      "60\n",
      "0.41649312786339027\n"
     ]
    }
   ],
   "source": [
    "print(len(val_data[val_data['input_len'] > 1024]))\n",
    "print(len(val_data[val_data['input_len'] > 1024])*100/len(val_data))"
   ]
  },
  {
   "cell_type": "code",
   "execution_count": 103,
   "id": "66edc7a0",
   "metadata": {},
   "outputs": [],
   "source": [
    "# val_data = val_data.drop(val_data[val_data['input_len'] > 1024].index)\n",
    "# val_data = val_data.reset_index(drop=True)\n",
    "# val_data"
   ]
  },
  {
   "cell_type": "code",
   "execution_count": 104,
   "id": "ab22d128",
   "metadata": {},
   "outputs": [],
   "source": [
    "val_data.to_csv('./2-NEL_Data/2-csv_format_2/val_data_shuffled.csv', index=False)"
   ]
  },
  {
   "cell_type": "code",
   "execution_count": null,
   "id": "35b6596d",
   "metadata": {},
   "outputs": [],
   "source": []
  },
  {
   "cell_type": "markdown",
   "id": "fac15cda",
   "metadata": {},
   "source": [
    "## test data"
   ]
  },
  {
   "cell_type": "code",
   "execution_count": 105,
   "id": "3ac55b12",
   "metadata": {},
   "outputs": [],
   "source": [
    "simple_test = pd.read_csv('./2-NEL_Data/1-csv_format_1/simple_questions_test_dataset_shuffled.csv')\n",
    "wikidata_disambig_test = pd.read_csv('./2-NEL_Data/1-csv_format_1/wikidata_disambig_test_dataset_shuffled.csv')"
   ]
  },
  {
   "cell_type": "code",
   "execution_count": 106,
   "id": "58f3a451",
   "metadata": {},
   "outputs": [],
   "source": [
    "# test_data = pd.concat([simple_test, web_test, wikidata_disambig_test])\n",
    "# len(test_data)"
   ]
  },
  {
   "cell_type": "code",
   "execution_count": 107,
   "id": "588ff179",
   "metadata": {},
   "outputs": [],
   "source": [
    "simple_test['entity'] = simple_test['entity'].apply(remove_quotes)\n",
    "simple_test['wikidata_reply'] = simple_test['wikidata_reply'].apply(remove_quotes)"
   ]
  },
  {
   "cell_type": "code",
   "execution_count": 108,
   "id": "51435f2a",
   "metadata": {},
   "outputs": [],
   "source": [
    "wikidata_disambig_test['entity'] = wikidata_disambig_test['entity'].apply(remove_quotes)\n",
    "wikidata_disambig_test['wikidata_reply'] = wikidata_disambig_test['wikidata_reply'].apply(remove_quotes)"
   ]
  },
  {
   "cell_type": "code",
   "execution_count": 109,
   "id": "09440044",
   "metadata": {},
   "outputs": [],
   "source": [
    "# test_data['entity'] = test_data['entity'].apply(remove_quotes)\n",
    "# test_data['wikidata_reply'] = test_data['wikidata_reply'].apply(remove_quotes)"
   ]
  },
  {
   "cell_type": "code",
   "execution_count": 110,
   "id": "c18bf056",
   "metadata": {},
   "outputs": [],
   "source": [
    "simple_test['entity'] = simple_test['entity'].apply(remove_outer_bracket)\n",
    "simple_test['wikidata_reply'] = simple_test['wikidata_reply'].apply(remove_outer_bracket)\n",
    "simple_test.reset_index(inplace=True,drop=True)"
   ]
  },
  {
   "cell_type": "code",
   "execution_count": 111,
   "id": "9d2f4482",
   "metadata": {},
   "outputs": [],
   "source": [
    "wikidata_disambig_test['entity'] = wikidata_disambig_test['entity'].apply(remove_outer_bracket)\n",
    "wikidata_disambig_test['wikidata_reply'] = wikidata_disambig_test['wikidata_reply'].apply(remove_outer_bracket)\n",
    "wikidata_disambig_test.reset_index(inplace=True,drop=True)"
   ]
  },
  {
   "cell_type": "code",
   "execution_count": 112,
   "id": "24342480",
   "metadata": {},
   "outputs": [],
   "source": [
    "# test_data['entity'] = test_data['entity'].apply(remove_outer_bracket)\n",
    "# test_data['wikidata_reply'] = test_data['wikidata_reply'].apply(remove_outer_bracket)"
   ]
  },
  {
   "cell_type": "code",
   "execution_count": 113,
   "id": "9126c4b4",
   "metadata": {},
   "outputs": [],
   "source": [
    "# test_data.reset_index(inplace=True,drop=True)\n",
    "# test_data"
   ]
  },
  {
   "cell_type": "code",
   "execution_count": 114,
   "id": "5d98fd26",
   "metadata": {},
   "outputs": [],
   "source": [
    "# len(test_data[test_data['wikidata_reply'].str.len() <= 2].index)"
   ]
  },
  {
   "cell_type": "code",
   "execution_count": 115,
   "id": "fde3d28e",
   "metadata": {},
   "outputs": [],
   "source": [
    "# test_data=test_data.drop(test_data[test_data['wikidata_reply'].str.len() <= 2].index)\n",
    "# test_data.reset_index(inplace=True,drop=True)"
   ]
  },
  {
   "cell_type": "code",
   "execution_count": 116,
   "id": "e19f10ef",
   "metadata": {},
   "outputs": [],
   "source": [
    "simple_test['question'] = simple_test['question'].apply(add_asterisks)\n",
    "simple_test['entity'] = simple_test['entity'].apply(add_asterisks)\n",
    "simple_test['wikidata_reply'] = simple_test['wikidata_reply'].apply(add_asterisks)"
   ]
  },
  {
   "cell_type": "code",
   "execution_count": 117,
   "id": "3a92e0c8",
   "metadata": {},
   "outputs": [],
   "source": [
    "wikidata_disambig_test['question'] = wikidata_disambig_test['question'].apply(add_asterisks)\n",
    "wikidata_disambig_test['entity'] = wikidata_disambig_test['entity'].apply(add_asterisks)\n",
    "wikidata_disambig_test['wikidata_reply'] = wikidata_disambig_test['wikidata_reply'].apply(add_asterisks)"
   ]
  },
  {
   "cell_type": "code",
   "execution_count": 118,
   "id": "4a32d654",
   "metadata": {},
   "outputs": [],
   "source": [
    "# test_data['question'] = test_data['question'].apply(add_asterisks)\n",
    "# test_data['entity'] = test_data['entity'].apply(add_asterisks)\n",
    "# test_data['wikidata_reply'] = test_data['wikidata_reply'].apply(add_asterisks)"
   ]
  },
  {
   "cell_type": "code",
   "execution_count": 119,
   "id": "f85a58fb",
   "metadata": {},
   "outputs": [],
   "source": [
    "# test_data"
   ]
  },
  {
   "cell_type": "code",
   "execution_count": 120,
   "id": "46f8bb42",
   "metadata": {},
   "outputs": [],
   "source": [
    "simple_test['qid_in_reply'] = simple_test.apply(check_qid_in_reply, axis=1)"
   ]
  },
  {
   "cell_type": "code",
   "execution_count": 121,
   "id": "a4cf4217",
   "metadata": {},
   "outputs": [],
   "source": [
    "wikidata_disambig_test['qid_in_reply'] = wikidata_disambig_test.apply(check_qid_in_reply, axis=1)"
   ]
  },
  {
   "cell_type": "code",
   "execution_count": 122,
   "id": "b55614dd",
   "metadata": {},
   "outputs": [],
   "source": [
    "# test_data['qid_in_reply'] = test_data.apply(check_qid_in_reply, axis=1)"
   ]
  },
  {
   "cell_type": "code",
   "execution_count": 123,
   "id": "d288da9c",
   "metadata": {},
   "outputs": [],
   "source": [
    "# print(len(test_data))\n",
    "# print(len(test_data[test_data['qid_in_reply'] == False]))\n",
    "# print(len(test_data[test_data['qid_in_reply'] == False])*100/len(val_data))"
   ]
  },
  {
   "cell_type": "code",
   "execution_count": 124,
   "id": "ad8fd490",
   "metadata": {},
   "outputs": [],
   "source": [
    "# val_data = val_data.drop(val_data[val_data['qid_in_reply'] == False].index)\n",
    "# val_data = val_data.reset_index(drop=True)\n",
    "# val_data"
   ]
  },
  {
   "cell_type": "code",
   "execution_count": 125,
   "id": "e879969c",
   "metadata": {},
   "outputs": [],
   "source": [
    "simple_test['input_len'] = simple_test.apply(input_len, axis=1)"
   ]
  },
  {
   "cell_type": "code",
   "execution_count": 126,
   "id": "1d0fc9c9",
   "metadata": {},
   "outputs": [],
   "source": [
    "wikidata_disambig_test['input_len'] = wikidata_disambig_test.apply(input_len, axis=1)"
   ]
  },
  {
   "cell_type": "code",
   "execution_count": 127,
   "id": "da264fcb",
   "metadata": {},
   "outputs": [],
   "source": [
    "# test_data['input_len'] = test_data.apply(input_len, axis=1)\n",
    "# training_data"
   ]
  },
  {
   "cell_type": "code",
   "execution_count": 128,
   "id": "72bfa82f",
   "metadata": {},
   "outputs": [
    {
     "data": {
      "text/plain": [
       "<AxesSubplot:>"
      ]
     },
     "execution_count": 128,
     "metadata": {},
     "output_type": "execute_result"
    },
    {
     "data": {
      "image/png": "[encoded data removed]",
      "text/plain": [
       "<Figure size 432x288 with 1 Axes>"
      ]
     },
     "metadata": {
      "needs_background": "light"
     },
     "output_type": "display_data"
    }
   ],
   "source": [
    "simple_test['input_len'].hist(bins=20)"
   ]
  },
  {
   "cell_type": "code",
   "execution_count": 129,
   "id": "cb480d12",
   "metadata": {},
   "outputs": [
    {
     "data": {
      "text/plain": [
       "<AxesSubplot:>"
      ]
     },
     "execution_count": 129,
     "metadata": {},
     "output_type": "execute_result"
    },
    {
     "data": {
      "image/png": "[encoded data removed]",
      "text/plain": [
       "<Figure size 432x288 with 1 Axes>"
      ]
     },
     "metadata": {
      "needs_background": "light"
     },
     "output_type": "display_data"
    }
   ],
   "source": [
    "wikidata_disambig_test['input_len'].hist(bins=20)"
   ]
  },
  {
   "cell_type": "code",
   "execution_count": 130,
   "id": "f781df8d",
   "metadata": {},
   "outputs": [],
   "source": [
    "# plot_percent_NE = test_data['input_len'].value_counts().sort_index()\n",
    "# test_data['input_len'].hist(bins=20)"
   ]
  },
  {
   "cell_type": "code",
   "execution_count": 131,
   "id": "13845af1",
   "metadata": {},
   "outputs": [
    {
     "name": "stdout",
     "output_type": "stream",
     "text": [
      "4\n",
      "0.040156610782049997\n"
     ]
    }
   ],
   "source": [
    "print(len(simple_test[simple_test['input_len'] > 1024]))\n",
    "print(len(simple_test[simple_test['input_len'] > 1024])*100/len(simple_test))"
   ]
  },
  {
   "cell_type": "code",
   "execution_count": 132,
   "id": "eb3cf1e9",
   "metadata": {},
   "outputs": [
    {
     "name": "stdout",
     "output_type": "stream",
     "text": [
      "59\n",
      "0.59\n"
     ]
    }
   ],
   "source": [
    "print(len(wikidata_disambig_test[wikidata_disambig_test['input_len'] > 1024]))\n",
    "print(len(wikidata_disambig_test[wikidata_disambig_test['input_len'] > 1024])*100/len(wikidata_disambig_test))"
   ]
  },
  {
   "cell_type": "code",
   "execution_count": 133,
   "id": "ad78d257",
   "metadata": {},
   "outputs": [],
   "source": [
    "# print(len(test_data[test_data['input_len'] > 1024]))\n",
    "# print(len(test_data[test_data['input_len'] > 1024])*100/len(test_data))"
   ]
  },
  {
   "cell_type": "code",
   "execution_count": 134,
   "id": "1ee36270",
   "metadata": {},
   "outputs": [],
   "source": [
    "# val_data = val_data.drop(val_data[val_data['input_len'] > 1024].index)\n",
    "# val_data = val_data.reset_index(drop=True)\n",
    "# val_data"
   ]
  },
  {
   "cell_type": "code",
   "execution_count": 135,
   "id": "e99711b7",
   "metadata": {},
   "outputs": [],
   "source": [
    "# possible_bad_rows = test_data[(test_data['input_len'] > 1024) | (test_data['qid_in_reply'] == False) | (test_data['wikidata_reply'].str.len() <= 2)]\n",
    "# sure_bad_rows = test_data[(test_data['qid_in_reply'] == False) | (test_data['wikidata_reply'].str.len() <= 2)]\n",
    "\n",
    "# print(len(possible_bad_rows)*100/len(test_data))\n",
    "# print(len(sure_bad_rows)*100/len(test_data))"
   ]
  },
  {
   "cell_type": "code",
   "execution_count": 136,
   "id": "1d5b6c7e",
   "metadata": {},
   "outputs": [],
   "source": [
    "simple_test.to_csv('./2-NEL_Data/2-csv_format_2/simple_test_shuffled.csv', index=False)"
   ]
  },
  {
   "cell_type": "code",
   "execution_count": 137,
   "id": "0ace339f",
   "metadata": {},
   "outputs": [],
   "source": [
    "wikidata_disambig_test.to_csv('./2-NEL_Data/2-csv_format_2/wikidata_disambig_test_shuffled.csv', index=False)"
   ]
  },
  {
   "cell_type": "code",
   "execution_count": 65,
   "id": "33163631",
   "metadata": {},
   "outputs": [],
   "source": [
    "# test_data.to_csv('./2-NEL_Data/2-csv_format_2/test_data_shuffled.csv', index=False)"
   ]
  },
  {
   "cell_type": "code",
   "execution_count": null,
   "id": "0226195a",
   "metadata": {},
   "outputs": [],
   "source": []
  }
 ],
 "metadata": {
  "kernelspec": {
   "display_name": "Python 3",
   "language": "python",
   "name": "python3"
  },
  "language_info": {
   "codemirror_mode": {
    "name": "ipython",
    "version": 3
   },
   "file_extension": ".py",
   "mimetype": "text/x-python",
   "name": "python",
   "nbconvert_exporter": "python",
   "pygments_lexer": "ipython3",
   "version": "3.7.10"
  }
 },
 "nbformat": 4,
 "nbformat_minor": 5
}
