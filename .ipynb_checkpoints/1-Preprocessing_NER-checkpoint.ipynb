{
 "cells": [
  {
   "cell_type": "code",
   "execution_count": 2,
   "id": "dc9e4ba7",
   "metadata": {},
   "outputs": [],
   "source": [
    "# parsing CoNLL+WikiNEuRal folder\n",
    "\n",
    "from datasets import load_dataset\n",
    "import pandas as pd\n",
    "import re\n",
    "import time\n",
    "import json\n",
    "from sklearn.model_selection import train_test_split\n",
    "import numpy as np"
   ]
  },
  {
   "cell_type": "code",
   "execution_count": 3,
   "id": "5fe7e590",
   "metadata": {},
   "outputs": [],
   "source": [
    "def parse_file_data(path, in_position, pos_position, line_len, sep):\n",
    "    dataset = []\n",
    "    f = open(path, encoding=\"utf8\") \n",
    "    input_sentence = ''\n",
    "    target_output = ''\n",
    "    word_count = 0\n",
    "    NE_count = 0\n",
    "    \n",
    "    for row in f:  \n",
    "        row = row.split(sep)\n",
    "        \n",
    "        if '-DOCSTART-' in row[0]:\n",
    "            continue\n",
    "        \n",
    "        if row[0] == \"\\n\" and input_sentence != \"\": ############# keep in mind, make sure it is correct\n",
    "            if(target_output == ''):\n",
    "                target_output = '**'\n",
    "            dataset.append([input_sentence, target_output, word_count, NE_count])\n",
    "            input_sentence = ''\n",
    "            target_output = ''\n",
    "            word_count = 0\n",
    "            NE_count = 0\n",
    "            continue\n",
    "\n",
    "        if len(row) <line_len:\n",
    "            continue\n",
    "        elif len(row) != line_len:\n",
    "            print(\"something is wrong, length is diff: \", row)\n",
    "        \n",
    "        # to remove the '\\n' at the end\n",
    "        if row[-1] == '\\n':\n",
    "            row = row[:-1]\n",
    "        elif '\\n' in row[-1]:\n",
    "            row[-1] = row[-1].replace('\\n', '')\n",
    "\n",
    "        word = row[in_position]\n",
    "        pos_tag = row[pos_position]\n",
    "        \n",
    "        # adding word to input sentence\n",
    "        if input_sentence == \"\": \n",
    "            input_sentence = word\n",
    "        else:\n",
    "            if word == \"'s\" and pos_tag.startswith('I-'):\n",
    "                input_sentence = input_sentence + word\n",
    "            else: \n",
    "                input_sentence = input_sentence + \" \" + word\n",
    "        \n",
    "        if len(re.sub(r'[\\W\\s]', '', word)):\n",
    "            word_count += 1\n",
    "            \n",
    "        \n",
    "        # adding entity word to target sentence\n",
    "        if pos_tag != 'O': \n",
    "            if len(re.sub(r'[\\W\\s]', '', word)):\n",
    "                NE_count += 1\n",
    "            if target_output == '':\n",
    "                target_output = f'*{word}*'\n",
    "        \n",
    "            elif pos_tag.startswith('B-'):\n",
    "                target_output = f'{target_output},*{word}*'\n",
    "            elif pos_tag.startswith('I-'):\n",
    "                if word == \"'s\":\n",
    "                    target_output = f'{target_output[:-1]}{word}*'\n",
    "                else:\n",
    "                    target_output = f'{target_output[:-1]} {word}*'\n",
    "            else: \n",
    "                print('error')\n",
    "                print(pos_tag)      \n",
    "    f.close()\n",
    "\n",
    "    parsed_data = pd.DataFrame(dataset, columns=['input_text', 'target_text', 'word_count', 'NE_count'])\n",
    "    return parsed_data"
   ]
  },
  {
   "cell_type": "code",
   "execution_count": 4,
   "id": "df62dcd9",
   "metadata": {},
   "outputs": [],
   "source": [
    "def read_hugging_face_data(row):\n",
    "    input_sentence = ''\n",
    "    target_output = ''\n",
    "    NE_count = 0\n",
    "    word_count = len(row['tokens'])\n",
    "    \n",
    "    for i in range(word_count):    \n",
    "        word = row['tokens'][i]\n",
    "        pos_tag = row['ner_tags'][i]\n",
    "        \n",
    "        # adding word to input sentence\n",
    "        if input_sentence == '': \n",
    "            input_sentence = word\n",
    "        else:\n",
    "            if word == \"'s\" and pos_tag!=0 and pos_tag%2:\n",
    "                input_sentence = input_sentence + word\n",
    "            else: \n",
    "                input_sentence = input_sentence + \" \" + word\n",
    "            \n",
    "        # adding entity word to target sentence\n",
    "        if pos_tag != 0: \n",
    "            if len(re.sub(r'[\\W\\s]', '', word)):\n",
    "                NE_count += 1\n",
    "            if target_output == '':\n",
    "                target_output = f'*{word}*'\n",
    "        \n",
    "            elif pos_tag%2:\n",
    "                target_output = f'{target_output},*{word}*'\n",
    "            elif not(pos_tag%2):\n",
    "                if word == \"'s\":\n",
    "                    target_output = f'{target_output[:-1]}{word}*'\n",
    "                else:\n",
    "                    target_output = f'{target_output[:-1]} {word}*'\n",
    "            else: \n",
    "                print('error')\n",
    "                print(pos_tag)      \n",
    "    if not target_output:\n",
    "        target_output = '**'\n",
    "    return pd.Series([input_sentence, target_output, word_count, NE_count])"
   ]
  },
  {
   "cell_type": "code",
   "execution_count": 5,
   "id": "6fb98922",
   "metadata": {},
   "outputs": [],
   "source": [
    "def read_onto_dataset():\n",
    "    dataset = {'input_text':[], 'target_text': [], 'word_count': [], 'NE_count': []}\n",
    "    with open('./1-NER_Data/0-raw_data/ontoNotes_5.0/ontonotes5.json', encoding=\"utf8\") as f:\n",
    "        # returns JSON object as a dictionary\n",
    "        data = json.load(f)\n",
    "        \n",
    "    for sent in data['TRAINING']:\n",
    "        if sent['language'] != 'english':\n",
    "            continue\n",
    "        \n",
    "        ne_count = 0\n",
    "        input_sent = sent['text']\n",
    "        word_count = len(sent['text'].split())\n",
    "        target_ent = ''\n",
    "        for entities in sent['entities'].values():\n",
    "            ne_count += 1\n",
    "            for (i,j) in entities:\n",
    "                target_ent = f'{target_ent}*{input_sent[i:j]}*,'\n",
    "\n",
    "        dataset['input_text'].append(input_sent)\n",
    "        if not target_ent:\n",
    "            target_ent = '**'\n",
    "        else:\n",
    "            target_ent = target_ent[:-1]\n",
    "        dataset['target_text'].append(target_ent)\n",
    "        dataset['word_count'].append(word_count)\n",
    "        dataset['NE_count'].append(ne_count)\n",
    "    return pd.DataFrame(dataset) "
   ]
  },
  {
   "cell_type": "code",
   "execution_count": 6,
   "id": "fe606a25",
   "metadata": {},
   "outputs": [],
   "source": [
    "def add_per_NE_sent(data):\n",
    "    data['%_NE_in_sentence'] = round(data['NE_count']/ data['word_count'], 1)\n",
    "    return data"
   ]
  },
  {
   "cell_type": "code",
   "execution_count": 7,
   "id": "0b923f13",
   "metadata": {},
   "outputs": [],
   "source": [
    "# expects a dataframe\n",
    "def lower_case_df(data):\n",
    "    low_input_text = data[\"input_text\"].str.lower()\n",
    "    low_target_text = data[\"target_text\"].str.lower()\n",
    "    return create_dataframe(low_input_text, low_target_text)"
   ]
  },
  {
   "cell_type": "code",
   "execution_count": 8,
   "id": "11c34a3b",
   "metadata": {},
   "outputs": [],
   "source": [
    "# expects a dataframe\n",
    "def upper_case_df(data):\n",
    "    upper_input_text = data[\"input_text\"].str.upper()\n",
    "    upper_target_text = data[\"target_text\"].str.upper()\n",
    "    return create_dataframe(upper_input_text, upper_target_text)"
   ]
  },
  {
   "cell_type": "code",
   "execution_count": 9,
   "id": "cb4d94ac",
   "metadata": {},
   "outputs": [],
   "source": [
    "def create_dataframe(input_sent, target_sent):\n",
    "    data = []\n",
    "    for input_text, target_text in zip(input_sent, target_sent):\n",
    "        data.append([input_text, target_text])\n",
    "\n",
    "    return pd.DataFrame(data, columns=['input_text', 'target_text'])"
   ]
  },
  {
   "cell_type": "markdown",
   "id": "225088ad",
   "metadata": {},
   "source": [
    "## Reading the onto_data and splitting the data into training, validation and test sets"
   ]
  },
  {
   "cell_type": "code",
   "execution_count": 10,
   "id": "b033d568",
   "metadata": {},
   "outputs": [],
   "source": [
    "onto_data = read_onto_dataset()\n",
    "onto_data = onto_data.sample(frac=1, random_state=1).reset_index(drop=True)\n",
    "onto_training, onto_test = train_test_split(onto_data, test_size=0.3)\n",
    "onto_test, onto_val = train_test_split(onto_test, test_size=0.5)"
   ]
  },
  {
   "cell_type": "markdown",
   "id": "3e4b2ea9",
   "metadata": {},
   "source": [
    "# Training data"
   ]
  },
  {
   "cell_type": "markdown",
   "id": "98deaa4a",
   "metadata": {},
   "source": [
    "### Read the data from either txt files or from huggingface dataset and converting each to target form  --->  [input_text, target_text, word_count, NE_count] "
   ]
  },
  {
   "cell_type": "code",
   "execution_count": 11,
   "id": "55719200",
   "metadata": {},
   "outputs": [],
   "source": [
    "# CoNLL2003++ training dataset\n",
    "\n",
    "conellpp_training = parse_file_data(\"./1-NER_data/0-raw_data/coNLL2003pp/conllpp_train.txt\", in_position=0, pos_position=3, line_len=4, sep=' ')\n",
    "# conellpp_training"
   ]
  },
  {
   "cell_type": "code",
   "execution_count": 12,
   "id": "52444380",
   "metadata": {},
   "outputs": [],
   "source": [
    "# wikineural training dataset\n",
    "\n",
    "wikineural_training = parse_file_data(\"./1-NER_data/0-raw_data/wikineural/train.conllu.txt\", 1, 2, 3, '\\t')\n",
    "# wikineural_training"
   ]
  },
  {
   "cell_type": "code",
   "execution_count": 13,
   "id": "485af4f8",
   "metadata": {},
   "outputs": [],
   "source": [
    "# OntoNotes 5.0 training dataset refer section above"
   ]
  },
  {
   "cell_type": "code",
   "execution_count": 14,
   "id": "81e3bba4",
   "metadata": {},
   "outputs": [
    {
     "name": "stderr",
     "output_type": "stream",
     "text": [
      "Reusing dataset wnut_17 (C:\\Users\\hadye\\.cache\\huggingface\\datasets\\wnut_17\\wnut_17\\1.0.0\\077c7f08b8dbc800692e8c9186cdf3606d5849ab0e7be662e6135bb10eba54f9)\n"
     ]
    },
    {
     "data": {
      "text/html": [
       "<div>\n",
       "<style scoped>\n",
       "    .dataframe tbody tr th:only-of-type {\n",
       "        vertical-align: middle;\n",
       "    }\n",
       "\n",
       "    .dataframe tbody tr th {\n",
       "        vertical-align: top;\n",
       "    }\n",
       "\n",
       "    .dataframe thead th {\n",
       "        text-align: right;\n",
       "    }\n",
       "</style>\n",
       "<table border=\"1\" class=\"dataframe\">\n",
       "  <thead>\n",
       "    <tr style=\"text-align: right;\">\n",
       "      <th></th>\n",
       "      <th>input_text</th>\n",
       "      <th>target_text</th>\n",
       "      <th>word_count</th>\n",
       "      <th>NE_count</th>\n",
       "    </tr>\n",
       "  </thead>\n",
       "  <tbody>\n",
       "    <tr>\n",
       "      <th>0</th>\n",
       "      <td>@paulwalk It 's the view from where I 'm livin...</td>\n",
       "      <td>*Empire State Building*,*ESB*</td>\n",
       "      <td>27</td>\n",
       "      <td>4</td>\n",
       "    </tr>\n",
       "    <tr>\n",
       "      <th>1</th>\n",
       "      <td>From Green Newsfeed : AHFA extends deadline fo...</td>\n",
       "      <td>*AHFA*</td>\n",
       "      <td>15</td>\n",
       "      <td>1</td>\n",
       "    </tr>\n",
       "    <tr>\n",
       "      <th>2</th>\n",
       "      <td>Pxleyes Top 50 Photography Contest Pictures of...</td>\n",
       "      <td>*Pxleyes*</td>\n",
       "      <td>12</td>\n",
       "      <td>1</td>\n",
       "    </tr>\n",
       "    <tr>\n",
       "      <th>3</th>\n",
       "      <td>today is my last day at the office .</td>\n",
       "      <td>**</td>\n",
       "      <td>9</td>\n",
       "      <td>0</td>\n",
       "    </tr>\n",
       "    <tr>\n",
       "      <th>4</th>\n",
       "      <td>4Dbling 's place til monday , party party part...</td>\n",
       "      <td>*4Dbling*</td>\n",
       "      <td>12</td>\n",
       "      <td>1</td>\n",
       "    </tr>\n",
       "    <tr>\n",
       "      <th>...</th>\n",
       "      <td>...</td>\n",
       "      <td>...</td>\n",
       "      <td>...</td>\n",
       "      <td>...</td>\n",
       "    </tr>\n",
       "    <tr>\n",
       "      <th>3389</th>\n",
       "      <td>@null http://t.co/3O3Z3xyNC0 December 25 , 201...</td>\n",
       "      <td>**</td>\n",
       "      <td>12</td>\n",
       "      <td>0</td>\n",
       "    </tr>\n",
       "    <tr>\n",
       "      <th>3390</th>\n",
       "      <td>On January 22nd , from 11- 1.30 , TVPS will be...</td>\n",
       "      <td>*TVPS*</td>\n",
       "      <td>26</td>\n",
       "      <td>1</td>\n",
       "    </tr>\n",
       "    <tr>\n",
       "      <th>3391</th>\n",
       "      <td>Found this cool photo , not mine Love this guy...</td>\n",
       "      <td>**</td>\n",
       "      <td>25</td>\n",
       "      <td>0</td>\n",
       "    </tr>\n",
       "    <tr>\n",
       "      <th>3392</th>\n",
       "      <td>Conditioning plan all made up for tomorrow , f...</td>\n",
       "      <td>**</td>\n",
       "      <td>15</td>\n",
       "      <td>0</td>\n",
       "    </tr>\n",
       "    <tr>\n",
       "      <th>3393</th>\n",
       "      <td>Sat Jan 10 2015 12:46 : 39 GMT+0000 ( UTC )</td>\n",
       "      <td>**</td>\n",
       "      <td>11</td>\n",
       "      <td>0</td>\n",
       "    </tr>\n",
       "  </tbody>\n",
       "</table>\n",
       "<p>3394 rows × 4 columns</p>\n",
       "</div>"
      ],
      "text/plain": [
       "                                             input_text  \\\n",
       "0     @paulwalk It 's the view from where I 'm livin...   \n",
       "1     From Green Newsfeed : AHFA extends deadline fo...   \n",
       "2     Pxleyes Top 50 Photography Contest Pictures of...   \n",
       "3                  today is my last day at the office .   \n",
       "4     4Dbling 's place til monday , party party part...   \n",
       "...                                                 ...   \n",
       "3389  @null http://t.co/3O3Z3xyNC0 December 25 , 201...   \n",
       "3390  On January 22nd , from 11- 1.30 , TVPS will be...   \n",
       "3391  Found this cool photo , not mine Love this guy...   \n",
       "3392  Conditioning plan all made up for tomorrow , f...   \n",
       "3393        Sat Jan 10 2015 12:46 : 39 GMT+0000 ( UTC )   \n",
       "\n",
       "                        target_text  word_count  NE_count  \n",
       "0     *Empire State Building*,*ESB*          27         4  \n",
       "1                            *AHFA*          15         1  \n",
       "2                         *Pxleyes*          12         1  \n",
       "3                                **           9         0  \n",
       "4                         *4Dbling*          12         1  \n",
       "...                             ...         ...       ...  \n",
       "3389                             **          12         0  \n",
       "3390                         *TVPS*          26         1  \n",
       "3391                             **          25         0  \n",
       "3392                             **          15         0  \n",
       "3393                             **          11         0  \n",
       "\n",
       "[3394 rows x 4 columns]"
      ]
     },
     "execution_count": 14,
     "metadata": {},
     "output_type": "execute_result"
    }
   ],
   "source": [
    "# wnut_17 training dataset\n",
    "\n",
    "dataset = load_dataset('wnut_17', split='train').to_pandas()\n",
    "wnut_training = pd.DataFrame([])\n",
    "wnut_training[['input_text','target_text','word_count', 'NE_count']] = dataset.apply(read_hugging_face_data, axis=1)\n",
    "wnut_training"
   ]
  },
  {
   "cell_type": "markdown",
   "id": "76d0aa3d",
   "metadata": {},
   "source": [
    "### Adding entity as percentage of the input sentence"
   ]
  },
  {
   "cell_type": "code",
   "execution_count": 15,
   "id": "6962ff5c",
   "metadata": {},
   "outputs": [],
   "source": [
    "conellpp_training = add_per_NE_sent(conellpp_training)\n",
    "wikineural_training = add_per_NE_sent(wikineural_training)\n",
    "onto_training = add_per_NE_sent(onto_training)\n",
    "wnut_training = add_per_NE_sent(wnut_training)"
   ]
  },
  {
   "cell_type": "markdown",
   "id": "77acbaa1",
   "metadata": {},
   "source": [
    "#### conell++ training dataset"
   ]
  },
  {
   "cell_type": "code",
   "execution_count": 16,
   "id": "bf6ad93f",
   "metadata": {
    "scrolled": true
   },
   "outputs": [
    {
     "name": "stdout",
     "output_type": "stream",
     "text": [
      "14041\n",
      "there are 0.2383021152339577 sentences in the range of 0:0.1\n",
      "3346\n"
     ]
    },
    {
     "data": {
      "image/png": "[encoded data removed]",
      "text/plain": [
       "<Figure size 432x288 with 1 Axes>"
      ]
     },
     "metadata": {
      "needs_background": "light"
     },
     "output_type": "display_data"
    }
   ],
   "source": [
    "plot_percent_NE = conellpp_training['%_NE_in_sentence'].value_counts().sort_index()\n",
    "plot_percent_NE.plot(kind='bar')\n",
    "print(len(conellpp_training))\n",
    "print(\"there are\", sum(plot_percent_NE.loc[0:0.01])/len(conellpp_training), \"sentences in the range of 0:0.1\")\n",
    "print(sum(plot_percent_NE.loc[0:0.01]))"
   ]
  },
  {
   "cell_type": "code",
   "execution_count": 17,
   "id": "cfc4105a",
   "metadata": {
    "scrolled": true
   },
   "outputs": [
    {
     "data": {
      "text/plain": [
       "<AxesSubplot:xlabel='word_count'>"
      ]
     },
     "execution_count": 17,
     "metadata": {},
     "output_type": "execute_result"
    },
    {
     "data": {
      "image/png": "[encoded data removed]",
      "text/plain": [
       "<Figure size 432x288 with 1 Axes>"
      ]
     },
     "metadata": {
      "needs_background": "light"
     },
     "output_type": "display_data"
    }
   ],
   "source": [
    "conellpp_training.groupby(by='word_count')['input_text'].count().head(10).plot(kind='bar')"
   ]
  },
  {
   "cell_type": "code",
   "execution_count": 18,
   "id": "c6e1b7f4",
   "metadata": {},
   "outputs": [
    {
     "data": {
      "text/html": [
       "<div>\n",
       "<style scoped>\n",
       "    .dataframe tbody tr th:only-of-type {\n",
       "        vertical-align: middle;\n",
       "    }\n",
       "\n",
       "    .dataframe tbody tr th {\n",
       "        vertical-align: top;\n",
       "    }\n",
       "\n",
       "    .dataframe thead th {\n",
       "        text-align: right;\n",
       "    }\n",
       "</style>\n",
       "<table border=\"1\" class=\"dataframe\">\n",
       "  <thead>\n",
       "    <tr style=\"text-align: right;\">\n",
       "      <th></th>\n",
       "      <th>input_text</th>\n",
       "      <th>target_text</th>\n",
       "      <th>word_count</th>\n",
       "      <th>NE_count</th>\n",
       "      <th>%_NE_in_sentence</th>\n",
       "    </tr>\n",
       "  </thead>\n",
       "  <tbody>\n",
       "    <tr>\n",
       "      <th>0</th>\n",
       "      <td>EU rejects German call to boycott British lamb .</td>\n",
       "      <td>*EU*,*German*,*British*</td>\n",
       "      <td>8</td>\n",
       "      <td>3</td>\n",
       "      <td>0.4</td>\n",
       "    </tr>\n",
       "    <tr>\n",
       "      <th>1</th>\n",
       "      <td>Peter Blackburn</td>\n",
       "      <td>*Peter Blackburn*</td>\n",
       "      <td>2</td>\n",
       "      <td>2</td>\n",
       "      <td>1.0</td>\n",
       "    </tr>\n",
       "    <tr>\n",
       "      <th>2</th>\n",
       "      <td>BRUSSELS 1996-08-22</td>\n",
       "      <td>*BRUSSELS*</td>\n",
       "      <td>2</td>\n",
       "      <td>1</td>\n",
       "      <td>0.5</td>\n",
       "    </tr>\n",
       "    <tr>\n",
       "      <th>3</th>\n",
       "      <td>The European Commission said on Thursday it di...</td>\n",
       "      <td>*European Commission*,*German*,*British*</td>\n",
       "      <td>29</td>\n",
       "      <td>4</td>\n",
       "      <td>0.1</td>\n",
       "    </tr>\n",
       "    <tr>\n",
       "      <th>4</th>\n",
       "      <td>Germany 's representative to the European Unio...</td>\n",
       "      <td>*Germany*,*European Union*,*Werner Zwingmann*,...</td>\n",
       "      <td>30</td>\n",
       "      <td>6</td>\n",
       "      <td>0.2</td>\n",
       "    </tr>\n",
       "    <tr>\n",
       "      <th>...</th>\n",
       "      <td>...</td>\n",
       "      <td>...</td>\n",
       "      <td>...</td>\n",
       "      <td>...</td>\n",
       "      <td>...</td>\n",
       "    </tr>\n",
       "    <tr>\n",
       "      <th>13985</th>\n",
       "      <td>on Friday :</td>\n",
       "      <td>**</td>\n",
       "      <td>2</td>\n",
       "      <td>0</td>\n",
       "      <td>0.0</td>\n",
       "    </tr>\n",
       "    <tr>\n",
       "      <th>13986</th>\n",
       "      <td>Division two</td>\n",
       "      <td>**</td>\n",
       "      <td>2</td>\n",
       "      <td>0</td>\n",
       "      <td>0.0</td>\n",
       "    </tr>\n",
       "    <tr>\n",
       "      <th>13987</th>\n",
       "      <td>Plymouth 2 Preston 1</td>\n",
       "      <td>*Plymouth*,*Preston*</td>\n",
       "      <td>4</td>\n",
       "      <td>2</td>\n",
       "      <td>0.5</td>\n",
       "    </tr>\n",
       "    <tr>\n",
       "      <th>13988</th>\n",
       "      <td>Division three</td>\n",
       "      <td>**</td>\n",
       "      <td>2</td>\n",
       "      <td>0</td>\n",
       "      <td>0.0</td>\n",
       "    </tr>\n",
       "    <tr>\n",
       "      <th>13989</th>\n",
       "      <td>Swansea 1 Lincoln 2</td>\n",
       "      <td>*Swansea*,*Lincoln*</td>\n",
       "      <td>4</td>\n",
       "      <td>2</td>\n",
       "      <td>0.5</td>\n",
       "    </tr>\n",
       "  </tbody>\n",
       "</table>\n",
       "<p>13990 rows × 5 columns</p>\n",
       "</div>"
      ],
      "text/plain": [
       "                                              input_text  \\\n",
       "0       EU rejects German call to boycott British lamb .   \n",
       "1                                        Peter Blackburn   \n",
       "2                                    BRUSSELS 1996-08-22   \n",
       "3      The European Commission said on Thursday it di...   \n",
       "4      Germany 's representative to the European Unio...   \n",
       "...                                                  ...   \n",
       "13985                                        on Friday :   \n",
       "13986                                       Division two   \n",
       "13987                               Plymouth 2 Preston 1   \n",
       "13988                                     Division three   \n",
       "13989                                Swansea 1 Lincoln 2   \n",
       "\n",
       "                                             target_text  word_count  \\\n",
       "0                                *EU*,*German*,*British*           8   \n",
       "1                                      *Peter Blackburn*           2   \n",
       "2                                             *BRUSSELS*           2   \n",
       "3               *European Commission*,*German*,*British*          29   \n",
       "4      *Germany*,*European Union*,*Werner Zwingmann*,...          30   \n",
       "...                                                  ...         ...   \n",
       "13985                                                 **           2   \n",
       "13986                                                 **           2   \n",
       "13987                               *Plymouth*,*Preston*           4   \n",
       "13988                                                 **           2   \n",
       "13989                                *Swansea*,*Lincoln*           4   \n",
       "\n",
       "       NE_count  %_NE_in_sentence  \n",
       "0             3               0.4  \n",
       "1             2               1.0  \n",
       "2             1               0.5  \n",
       "3             4               0.1  \n",
       "4             6               0.2  \n",
       "...         ...               ...  \n",
       "13985         0               0.0  \n",
       "13986         0               0.0  \n",
       "13987         2               0.5  \n",
       "13988         0               0.0  \n",
       "13989         2               0.5  \n",
       "\n",
       "[13990 rows x 5 columns]"
      ]
     },
     "execution_count": 18,
     "metadata": {},
     "output_type": "execute_result"
    }
   ],
   "source": [
    "conellpp_training = conellpp_training.drop(conellpp_training.loc[conellpp_training['word_count'] == 0].index).reset_index(drop=True)\n",
    "conellpp_training"
   ]
  },
  {
   "cell_type": "markdown",
   "id": "d25532d6",
   "metadata": {},
   "source": [
    "#### Wikineiral training dataset"
   ]
  },
  {
   "cell_type": "code",
   "execution_count": 19,
   "id": "3a381562",
   "metadata": {
    "scrolled": true
   },
   "outputs": [
    {
     "name": "stdout",
     "output_type": "stream",
     "text": [
      "92720\n",
      "there are 0.14910483175150993 sentences in the range of 0:0.1\n",
      "13825\n"
     ]
    },
    {
     "data": {
      "image/png": "[encoded data removed]",
      "text/plain": [
       "<Figure size 432x288 with 1 Axes>"
      ]
     },
     "metadata": {
      "needs_background": "light"
     },
     "output_type": "display_data"
    }
   ],
   "source": [
    "plot_percent_NE = wikineural_training['%_NE_in_sentence'].value_counts().sort_index()\n",
    "plot_percent_NE.plot(kind='bar')\n",
    "print(len(wikineural_training))\n",
    "print(\"there are\", sum(plot_percent_NE.loc[0:0.01])/len(wikineural_training), \"sentences in the range of 0:0.1\")\n",
    "print(sum(plot_percent_NE.loc[0:0.01]))"
   ]
  },
  {
   "cell_type": "code",
   "execution_count": 20,
   "id": "8e60a0b8",
   "metadata": {},
   "outputs": [
    {
     "data": {
      "text/plain": [
       "<AxesSubplot:xlabel='word_count'>"
      ]
     },
     "execution_count": 20,
     "metadata": {},
     "output_type": "execute_result"
    },
    {
     "data": {
      "image/png": "[encoded data removed]",
      "text/plain": [
       "<Figure size 432x288 with 1 Axes>"
      ]
     },
     "metadata": {
      "needs_background": "light"
     },
     "output_type": "display_data"
    }
   ],
   "source": [
    "wikineural_training.groupby(by='word_count')['input_text'].count().head(10).plot(kind='bar')"
   ]
  },
  {
   "cell_type": "markdown",
   "id": "2df9b1b5",
   "metadata": {},
   "source": [
    "#### Onto training dataset"
   ]
  },
  {
   "cell_type": "code",
   "execution_count": 21,
   "id": "5f2cfb2d",
   "metadata": {},
   "outputs": [
    {
     "name": "stdout",
     "output_type": "stream",
     "text": [
      "92386\n",
      "there are 0.6273028380923517 sentences in the range of 0:0.1\n",
      "57954\n"
     ]
    },
    {
     "data": {
      "image/png": "[encoded data removed]",
      "text/plain": [
       "<Figure size 432x288 with 1 Axes>"
      ]
     },
     "metadata": {
      "needs_background": "light"
     },
     "output_type": "display_data"
    }
   ],
   "source": [
    "plot_percent_NE = onto_training['%_NE_in_sentence'].value_counts().sort_index()\n",
    "plot_percent_NE.plot(kind='bar')\n",
    "print(len(onto_training))\n",
    "print(\"there are\", sum(plot_percent_NE.loc[0:0.01])/len(onto_training), \"sentences in the range of 0:0.1\")\n",
    "print(sum(plot_percent_NE.loc[0:0.01]))"
   ]
  },
  {
   "cell_type": "code",
   "execution_count": 22,
   "id": "f99efb37",
   "metadata": {},
   "outputs": [
    {
     "data": {
      "text/html": [
       "<div>\n",
       "<style scoped>\n",
       "    .dataframe tbody tr th:only-of-type {\n",
       "        vertical-align: middle;\n",
       "    }\n",
       "\n",
       "    .dataframe tbody tr th {\n",
       "        vertical-align: top;\n",
       "    }\n",
       "\n",
       "    .dataframe thead th {\n",
       "        text-align: right;\n",
       "    }\n",
       "</style>\n",
       "<table border=\"1\" class=\"dataframe\">\n",
       "  <thead>\n",
       "    <tr style=\"text-align: right;\">\n",
       "      <th></th>\n",
       "      <th>input_text</th>\n",
       "      <th>target_text</th>\n",
       "      <th>word_count</th>\n",
       "      <th>NE_count</th>\n",
       "      <th>%_NE_in_sentence</th>\n",
       "    </tr>\n",
       "  </thead>\n",
       "  <tbody>\n",
       "    <tr>\n",
       "      <th>0</th>\n",
       "      <td>NO ALCOHOL :</td>\n",
       "      <td>**</td>\n",
       "      <td>3</td>\n",
       "      <td>0</td>\n",
       "      <td>0.0</td>\n",
       "    </tr>\n",
       "    <tr>\n",
       "      <th>1</th>\n",
       "      <td>Anyone who's tried to appear `` natural '' in ...</td>\n",
       "      <td>**</td>\n",
       "      <td>26</td>\n",
       "      <td>0</td>\n",
       "      <td>0.0</td>\n",
       "    </tr>\n",
       "    <tr>\n",
       "      <th>2</th>\n",
       "      <td>Help me to believe more ! ''</td>\n",
       "      <td>**</td>\n",
       "      <td>7</td>\n",
       "      <td>0</td>\n",
       "      <td>0.0</td>\n",
       "    </tr>\n",
       "    <tr>\n",
       "      <th>3</th>\n",
       "      <td>oh okay.</td>\n",
       "      <td>**</td>\n",
       "      <td>2</td>\n",
       "      <td>0</td>\n",
       "      <td>0.0</td>\n",
       "    </tr>\n",
       "    <tr>\n",
       "      <th>4</th>\n",
       "      <td>Now the firms must try their hardest to prove ...</td>\n",
       "      <td>**</td>\n",
       "      <td>16</td>\n",
       "      <td>0</td>\n",
       "      <td>0.0</td>\n",
       "    </tr>\n",
       "    <tr>\n",
       "      <th>...</th>\n",
       "      <td>...</td>\n",
       "      <td>...</td>\n",
       "      <td>...</td>\n",
       "      <td>...</td>\n",
       "      <td>...</td>\n",
       "    </tr>\n",
       "    <tr>\n",
       "      <th>53745</th>\n",
       "      <td>The attack killed 17 American sailors and woun...</td>\n",
       "      <td>*17*,*39*,*American*</td>\n",
       "      <td>9</td>\n",
       "      <td>2</td>\n",
       "      <td>0.2</td>\n",
       "    </tr>\n",
       "    <tr>\n",
       "      <th>53746</th>\n",
       "      <td>A face-to-face meeting with Mr. Gorbachev shou...</td>\n",
       "      <td>*Gorbachev*</td>\n",
       "      <td>16</td>\n",
       "      <td>1</td>\n",
       "      <td>0.1</td>\n",
       "    </tr>\n",
       "    <tr>\n",
       "      <th>53747</th>\n",
       "      <td>The book Chinese Foreign Policy, the Year 2000...</td>\n",
       "      <td>*Beijing*,*Taiwan*,*Guatemala*,*Honduras*,*El ...</td>\n",
       "      <td>36</td>\n",
       "      <td>3</td>\n",
       "      <td>0.1</td>\n",
       "    </tr>\n",
       "    <tr>\n",
       "      <th>53748</th>\n",
       "      <td>The six wines of the Domaine de la Romanee-Con...</td>\n",
       "      <td>*six*,*72*,*three*,*several years*,*the Domain...</td>\n",
       "      <td>30</td>\n",
       "      <td>3</td>\n",
       "      <td>0.1</td>\n",
       "    </tr>\n",
       "    <tr>\n",
       "      <th>53749</th>\n",
       "      <td>In a race this close, could Cheney or Lieberma...</td>\n",
       "      <td>*Cheney*,*Lieberman*</td>\n",
       "      <td>15</td>\n",
       "      <td>1</td>\n",
       "      <td>0.1</td>\n",
       "    </tr>\n",
       "  </tbody>\n",
       "</table>\n",
       "<p>53750 rows × 5 columns</p>\n",
       "</div>"
      ],
      "text/plain": [
       "                                              input_text  \\\n",
       "0                                           NO ALCOHOL :   \n",
       "1      Anyone who's tried to appear `` natural '' in ...   \n",
       "2                           Help me to believe more ! ''   \n",
       "3                                               oh okay.   \n",
       "4      Now the firms must try their hardest to prove ...   \n",
       "...                                                  ...   \n",
       "53745  The attack killed 17 American sailors and woun...   \n",
       "53746  A face-to-face meeting with Mr. Gorbachev shou...   \n",
       "53747  The book Chinese Foreign Policy, the Year 2000...   \n",
       "53748  The six wines of the Domaine de la Romanee-Con...   \n",
       "53749  In a race this close, could Cheney or Lieberma...   \n",
       "\n",
       "                                             target_text  word_count  \\\n",
       "0                                                     **           3   \n",
       "1                                                     **          26   \n",
       "2                                                     **           7   \n",
       "3                                                     **           2   \n",
       "4                                                     **          16   \n",
       "...                                                  ...         ...   \n",
       "53745                               *17*,*39*,*American*           9   \n",
       "53746                                        *Gorbachev*          16   \n",
       "53747  *Beijing*,*Taiwan*,*Guatemala*,*Honduras*,*El ...          36   \n",
       "53748  *six*,*72*,*three*,*several years*,*the Domain...          30   \n",
       "53749                               *Cheney*,*Lieberman*          15   \n",
       "\n",
       "       NE_count  %_NE_in_sentence  \n",
       "0             0               0.0  \n",
       "1             0               0.0  \n",
       "2             0               0.0  \n",
       "3             0               0.0  \n",
       "4             0               0.0  \n",
       "...         ...               ...  \n",
       "53745         2               0.2  \n",
       "53746         1               0.1  \n",
       "53747         3               0.1  \n",
       "53748         3               0.1  \n",
       "53749         1               0.1  \n",
       "\n",
       "[53750 rows x 5 columns]"
      ]
     },
     "execution_count": 22,
     "metadata": {},
     "output_type": "execute_result"
    }
   ],
   "source": [
    "# dropping half of the rows with zero entities randomly\n",
    "\n",
    "np.random.seed(10)\n",
    "zero_entities = onto_training.loc[onto_training['%_NE_in_sentence']==0].index\n",
    "remove_n = round(len(zero_entities)*2/3)\n",
    "\n",
    "drop_indices = np.random.choice(zero_entities, remove_n, replace=False)\n",
    "onto_training = onto_training.drop(drop_indices).reset_index(drop=True)\n",
    "onto_training"
   ]
  },
  {
   "cell_type": "code",
   "execution_count": 23,
   "id": "34dfcad8",
   "metadata": {},
   "outputs": [
    {
     "name": "stdout",
     "output_type": "stream",
     "text": [
      "53750\n",
      "there are 0.3594046511627907 sentences in the range of 0:0.1\n",
      "19318\n"
     ]
    },
    {
     "data": {
      "image/png": "[encoded data removed]",
      "text/plain": [
       "<Figure size 432x288 with 1 Axes>"
      ]
     },
     "metadata": {
      "needs_background": "light"
     },
     "output_type": "display_data"
    }
   ],
   "source": [
    "plot_percent_NE = onto_training['%_NE_in_sentence'].value_counts().sort_index()\n",
    "plot_percent_NE.plot(kind='bar')\n",
    "print(len(onto_training))\n",
    "print(\"there are\", sum(plot_percent_NE.loc[0:0.01])/len(onto_training), \"sentences in the range of 0:0.1\")\n",
    "print(sum(plot_percent_NE.loc[0:0.01]))"
   ]
  },
  {
   "cell_type": "code",
   "execution_count": 24,
   "id": "51636c2c",
   "metadata": {},
   "outputs": [
    {
     "data": {
      "text/plain": [
       "<AxesSubplot:xlabel='word_count'>"
      ]
     },
     "execution_count": 24,
     "metadata": {},
     "output_type": "execute_result"
    },
    {
     "data": {
      "image/png": "[encoded data removed]",
      "text/plain": [
       "<Figure size 432x288 with 1 Axes>"
      ]
     },
     "metadata": {
      "needs_background": "light"
     },
     "output_type": "display_data"
    }
   ],
   "source": [
    "onto_training.groupby(by='word_count')['input_text'].count().head(10).plot(kind='bar')"
   ]
  },
  {
   "cell_type": "markdown",
   "id": "7c434fba",
   "metadata": {},
   "source": [
    "#### wnut17 training"
   ]
  },
  {
   "cell_type": "code",
   "execution_count": 25,
   "id": "d9a664e7",
   "metadata": {
    "scrolled": true
   },
   "outputs": [
    {
     "name": "stdout",
     "output_type": "stream",
     "text": [
      "3394\n",
      "there are 0.710371243370654 sentences in the range of 0:0.1\n",
      "2411\n"
     ]
    },
    {
     "data": {
      "image/png": "[encoded data removed]",
      "text/plain": [
       "<Figure size 432x288 with 1 Axes>"
      ]
     },
     "metadata": {
      "needs_background": "light"
     },
     "output_type": "display_data"
    }
   ],
   "source": [
    "plot_percent_NE = wnut_training['%_NE_in_sentence'].value_counts().sort_index()\n",
    "plot_percent_NE.plot(kind='bar')\n",
    "print(len(wnut_training))\n",
    "print(\"there are\", sum(plot_percent_NE.loc[0:0.01])/len(wnut_training), \"sentences in the range of 0:0.1\")\n",
    "print(sum(plot_percent_NE.loc[0:0.01]))"
   ]
  },
  {
   "cell_type": "code",
   "execution_count": 26,
   "id": "b001b0ed",
   "metadata": {},
   "outputs": [
    {
     "data": {
      "text/html": [
       "<div>\n",
       "<style scoped>\n",
       "    .dataframe tbody tr th:only-of-type {\n",
       "        vertical-align: middle;\n",
       "    }\n",
       "\n",
       "    .dataframe tbody tr th {\n",
       "        vertical-align: top;\n",
       "    }\n",
       "\n",
       "    .dataframe thead th {\n",
       "        text-align: right;\n",
       "    }\n",
       "</style>\n",
       "<table border=\"1\" class=\"dataframe\">\n",
       "  <thead>\n",
       "    <tr style=\"text-align: right;\">\n",
       "      <th></th>\n",
       "      <th>input_text</th>\n",
       "      <th>target_text</th>\n",
       "      <th>word_count</th>\n",
       "      <th>NE_count</th>\n",
       "      <th>%_NE_in_sentence</th>\n",
       "    </tr>\n",
       "  </thead>\n",
       "  <tbody>\n",
       "    <tr>\n",
       "      <th>0</th>\n",
       "      <td>@paulwalk It 's the view from where I 'm livin...</td>\n",
       "      <td>*Empire State Building*,*ESB*</td>\n",
       "      <td>27</td>\n",
       "      <td>4</td>\n",
       "      <td>0.1</td>\n",
       "    </tr>\n",
       "    <tr>\n",
       "      <th>1</th>\n",
       "      <td>From Green Newsfeed : AHFA extends deadline fo...</td>\n",
       "      <td>*AHFA*</td>\n",
       "      <td>15</td>\n",
       "      <td>1</td>\n",
       "      <td>0.1</td>\n",
       "    </tr>\n",
       "    <tr>\n",
       "      <th>2</th>\n",
       "      <td>Pxleyes Top 50 Photography Contest Pictures of...</td>\n",
       "      <td>*Pxleyes*</td>\n",
       "      <td>12</td>\n",
       "      <td>1</td>\n",
       "      <td>0.1</td>\n",
       "    </tr>\n",
       "    <tr>\n",
       "      <th>3</th>\n",
       "      <td>today is my last day at the office .</td>\n",
       "      <td>**</td>\n",
       "      <td>9</td>\n",
       "      <td>0</td>\n",
       "      <td>0.0</td>\n",
       "    </tr>\n",
       "    <tr>\n",
       "      <th>4</th>\n",
       "      <td>4Dbling 's place til monday , party party part...</td>\n",
       "      <td>*4Dbling*</td>\n",
       "      <td>12</td>\n",
       "      <td>1</td>\n",
       "      <td>0.1</td>\n",
       "    </tr>\n",
       "    <tr>\n",
       "      <th>...</th>\n",
       "      <td>...</td>\n",
       "      <td>...</td>\n",
       "      <td>...</td>\n",
       "      <td>...</td>\n",
       "      <td>...</td>\n",
       "    </tr>\n",
       "    <tr>\n",
       "      <th>1782</th>\n",
       "      <td>\" @Mackenzie_71 : Super Bowl Sunday \"</td>\n",
       "      <td>**</td>\n",
       "      <td>7</td>\n",
       "      <td>0</td>\n",
       "      <td>0.0</td>\n",
       "    </tr>\n",
       "    <tr>\n",
       "      <th>1783</th>\n",
       "      <td>Watch Barrow - Boston United Live December 20 ...</td>\n",
       "      <td>*Barrow*,*Boston United*</td>\n",
       "      <td>11</td>\n",
       "      <td>3</td>\n",
       "      <td>0.3</td>\n",
       "    </tr>\n",
       "    <tr>\n",
       "      <th>1784</th>\n",
       "      <td>On January 22nd , from 11- 1.30 , TVPS will be...</td>\n",
       "      <td>*TVPS*</td>\n",
       "      <td>26</td>\n",
       "      <td>1</td>\n",
       "      <td>0.0</td>\n",
       "    </tr>\n",
       "    <tr>\n",
       "      <th>1785</th>\n",
       "      <td>Conditioning plan all made up for tomorrow , f...</td>\n",
       "      <td>**</td>\n",
       "      <td>15</td>\n",
       "      <td>0</td>\n",
       "      <td>0.0</td>\n",
       "    </tr>\n",
       "    <tr>\n",
       "      <th>1786</th>\n",
       "      <td>Sat Jan 10 2015 12:46 : 39 GMT+0000 ( UTC )</td>\n",
       "      <td>**</td>\n",
       "      <td>11</td>\n",
       "      <td>0</td>\n",
       "      <td>0.0</td>\n",
       "    </tr>\n",
       "  </tbody>\n",
       "</table>\n",
       "<p>1787 rows × 5 columns</p>\n",
       "</div>"
      ],
      "text/plain": [
       "                                             input_text  \\\n",
       "0     @paulwalk It 's the view from where I 'm livin...   \n",
       "1     From Green Newsfeed : AHFA extends deadline fo...   \n",
       "2     Pxleyes Top 50 Photography Contest Pictures of...   \n",
       "3                  today is my last day at the office .   \n",
       "4     4Dbling 's place til monday , party party part...   \n",
       "...                                                 ...   \n",
       "1782              \" @Mackenzie_71 : Super Bowl Sunday \"   \n",
       "1783  Watch Barrow - Boston United Live December 20 ...   \n",
       "1784  On January 22nd , from 11- 1.30 , TVPS will be...   \n",
       "1785  Conditioning plan all made up for tomorrow , f...   \n",
       "1786        Sat Jan 10 2015 12:46 : 39 GMT+0000 ( UTC )   \n",
       "\n",
       "                        target_text  word_count  NE_count  %_NE_in_sentence  \n",
       "0     *Empire State Building*,*ESB*          27         4               0.1  \n",
       "1                            *AHFA*          15         1               0.1  \n",
       "2                         *Pxleyes*          12         1               0.1  \n",
       "3                                **           9         0               0.0  \n",
       "4                         *4Dbling*          12         1               0.1  \n",
       "...                             ...         ...       ...               ...  \n",
       "1782                             **           7         0               0.0  \n",
       "1783       *Barrow*,*Boston United*          11         3               0.3  \n",
       "1784                         *TVPS*          26         1               0.0  \n",
       "1785                             **          15         0               0.0  \n",
       "1786                             **          11         0               0.0  \n",
       "\n",
       "[1787 rows x 5 columns]"
      ]
     },
     "execution_count": 26,
     "metadata": {},
     "output_type": "execute_result"
    }
   ],
   "source": [
    "# dropping half of the rows with zero entities randomly\n",
    "\n",
    "np.random.seed(10)\n",
    "zero_entities = wnut_training.loc[wnut_training['%_NE_in_sentence']==0].index\n",
    "remove_n = round(len(zero_entities)*2/3)\n",
    "\n",
    "drop_indices = np.random.choice(zero_entities, remove_n, replace=False)\n",
    "wnut_training = wnut_training.drop(drop_indices).reset_index(drop=True)\n",
    "wnut_training"
   ]
  },
  {
   "cell_type": "code",
   "execution_count": 27,
   "id": "ecdbc04e",
   "metadata": {},
   "outputs": [
    {
     "name": "stdout",
     "output_type": "stream",
     "text": [
      "1787\n",
      "there are 0.44991606043648574 sentences in the range of 0:0.1\n",
      "804\n"
     ]
    },
    {
     "data": {
      "image/png": "[encoded data removed]",
      "text/plain": [
       "<Figure size 432x288 with 1 Axes>"
      ]
     },
     "metadata": {
      "needs_background": "light"
     },
     "output_type": "display_data"
    }
   ],
   "source": [
    "plot_percent_NE = wnut_training['%_NE_in_sentence'].value_counts().sort_index()\n",
    "plot_percent_NE.plot(kind='bar')\n",
    "print(len(wnut_training))\n",
    "print(\"there are\", sum(plot_percent_NE.loc[0:0.01])/len(wnut_training), \"sentences in the range of 0:0.1\")\n",
    "print(sum(plot_percent_NE.loc[0:0.01]))"
   ]
  },
  {
   "cell_type": "code",
   "execution_count": 28,
   "id": "b0b2ccae",
   "metadata": {},
   "outputs": [
    {
     "data": {
      "text/plain": [
       "<AxesSubplot:xlabel='word_count'>"
      ]
     },
     "execution_count": 28,
     "metadata": {},
     "output_type": "execute_result"
    },
    {
     "data": {
      "image/png": "[encoded data removed]",
      "text/plain": [
       "<Figure size 432x288 with 1 Axes>"
      ]
     },
     "metadata": {
      "needs_background": "light"
     },
     "output_type": "display_data"
    }
   ],
   "source": [
    "wnut_training.groupby(by='word_count')['input_text'].count().head(10).plot(kind='bar')"
   ]
  },
  {
   "cell_type": "markdown",
   "id": "2f8ffe71",
   "metadata": {},
   "source": [
    "### Combining the datasets"
   ]
  },
  {
   "cell_type": "code",
   "execution_count": 29,
   "id": "72a24302",
   "metadata": {},
   "outputs": [
    {
     "data": {
      "text/html": [
       "<div>\n",
       "<style scoped>\n",
       "    .dataframe tbody tr th:only-of-type {\n",
       "        vertical-align: middle;\n",
       "    }\n",
       "\n",
       "    .dataframe tbody tr th {\n",
       "        vertical-align: top;\n",
       "    }\n",
       "\n",
       "    .dataframe thead th {\n",
       "        text-align: right;\n",
       "    }\n",
       "</style>\n",
       "<table border=\"1\" class=\"dataframe\">\n",
       "  <thead>\n",
       "    <tr style=\"text-align: right;\">\n",
       "      <th></th>\n",
       "      <th>input_text</th>\n",
       "      <th>target_text</th>\n",
       "    </tr>\n",
       "  </thead>\n",
       "  <tbody>\n",
       "    <tr>\n",
       "      <th>0</th>\n",
       "      <td>EU rejects German call to boycott British lamb .</td>\n",
       "      <td>*EU*,*German*,*British*</td>\n",
       "    </tr>\n",
       "    <tr>\n",
       "      <th>1</th>\n",
       "      <td>Peter Blackburn</td>\n",
       "      <td>*Peter Blackburn*</td>\n",
       "    </tr>\n",
       "    <tr>\n",
       "      <th>2</th>\n",
       "      <td>BRUSSELS 1996-08-22</td>\n",
       "      <td>*BRUSSELS*</td>\n",
       "    </tr>\n",
       "    <tr>\n",
       "      <th>3</th>\n",
       "      <td>The European Commission said on Thursday it di...</td>\n",
       "      <td>*European Commission*,*German*,*British*</td>\n",
       "    </tr>\n",
       "    <tr>\n",
       "      <th>4</th>\n",
       "      <td>Germany 's representative to the European Unio...</td>\n",
       "      <td>*Germany*,*European Union*,*Werner Zwingmann*,...</td>\n",
       "    </tr>\n",
       "    <tr>\n",
       "      <th>...</th>\n",
       "      <td>...</td>\n",
       "      <td>...</td>\n",
       "    </tr>\n",
       "    <tr>\n",
       "      <th>159138</th>\n",
       "      <td>\" @Mackenzie_71 : Super Bowl Sunday \"</td>\n",
       "      <td>**</td>\n",
       "    </tr>\n",
       "    <tr>\n",
       "      <th>159139</th>\n",
       "      <td>Watch Barrow - Boston United Live December 20 ...</td>\n",
       "      <td>*Barrow*,*Boston United*</td>\n",
       "    </tr>\n",
       "    <tr>\n",
       "      <th>159140</th>\n",
       "      <td>On January 22nd , from 11- 1.30 , TVPS will be...</td>\n",
       "      <td>*TVPS*</td>\n",
       "    </tr>\n",
       "    <tr>\n",
       "      <th>159141</th>\n",
       "      <td>Conditioning plan all made up for tomorrow , f...</td>\n",
       "      <td>**</td>\n",
       "    </tr>\n",
       "    <tr>\n",
       "      <th>159142</th>\n",
       "      <td>Sat Jan 10 2015 12:46 : 39 GMT+0000 ( UTC )</td>\n",
       "      <td>**</td>\n",
       "    </tr>\n",
       "  </tbody>\n",
       "</table>\n",
       "<p>159143 rows × 2 columns</p>\n",
       "</div>"
      ],
      "text/plain": [
       "                                               input_text  \\\n",
       "0        EU rejects German call to boycott British lamb .   \n",
       "1                                         Peter Blackburn   \n",
       "2                                     BRUSSELS 1996-08-22   \n",
       "3       The European Commission said on Thursday it di...   \n",
       "4       Germany 's representative to the European Unio...   \n",
       "...                                                   ...   \n",
       "159138              \" @Mackenzie_71 : Super Bowl Sunday \"   \n",
       "159139  Watch Barrow - Boston United Live December 20 ...   \n",
       "159140  On January 22nd , from 11- 1.30 , TVPS will be...   \n",
       "159141  Conditioning plan all made up for tomorrow , f...   \n",
       "159142        Sat Jan 10 2015 12:46 : 39 GMT+0000 ( UTC )   \n",
       "\n",
       "                                              target_text  \n",
       "0                                 *EU*,*German*,*British*  \n",
       "1                                       *Peter Blackburn*  \n",
       "2                                              *BRUSSELS*  \n",
       "3                *European Commission*,*German*,*British*  \n",
       "4       *Germany*,*European Union*,*Werner Zwingmann*,...  \n",
       "...                                                   ...  \n",
       "159138                                                 **  \n",
       "159139                           *Barrow*,*Boston United*  \n",
       "159140                                             *TVPS*  \n",
       "159141                                                 **  \n",
       "159142                                                 **  \n",
       "\n",
       "[159143 rows x 2 columns]"
      ]
     },
     "execution_count": 29,
     "metadata": {},
     "output_type": "execute_result"
    }
   ],
   "source": [
    "combined_df = pd.concat([conellpp_training, wikineural_training, onto_training, wnut_training], ignore_index=True)[['input_text', 'target_text']]\n",
    "combined_df = combined_df.drop_duplicates().reset_index(drop=True)\n",
    "combined_df"
   ]
  },
  {
   "cell_type": "markdown",
   "id": "7a3dfdf3",
   "metadata": {},
   "source": [
    "### creating a lowercase and uppercase versions of the training data"
   ]
  },
  {
   "cell_type": "code",
   "execution_count": 30,
   "id": "8102d0bc",
   "metadata": {},
   "outputs": [
    {
     "data": {
      "text/html": [
       "<div>\n",
       "<style scoped>\n",
       "    .dataframe tbody tr th:only-of-type {\n",
       "        vertical-align: middle;\n",
       "    }\n",
       "\n",
       "    .dataframe tbody tr th {\n",
       "        vertical-align: top;\n",
       "    }\n",
       "\n",
       "    .dataframe thead th {\n",
       "        text-align: right;\n",
       "    }\n",
       "</style>\n",
       "<table border=\"1\" class=\"dataframe\">\n",
       "  <thead>\n",
       "    <tr style=\"text-align: right;\">\n",
       "      <th></th>\n",
       "      <th>input_text</th>\n",
       "      <th>target_text</th>\n",
       "    </tr>\n",
       "  </thead>\n",
       "  <tbody>\n",
       "    <tr>\n",
       "      <th>0</th>\n",
       "      <td>eu rejects german call to boycott british lamb .</td>\n",
       "      <td>*eu*,*german*,*british*</td>\n",
       "    </tr>\n",
       "    <tr>\n",
       "      <th>1</th>\n",
       "      <td>peter blackburn</td>\n",
       "      <td>*peter blackburn*</td>\n",
       "    </tr>\n",
       "    <tr>\n",
       "      <th>2</th>\n",
       "      <td>brussels 1996-08-22</td>\n",
       "      <td>*brussels*</td>\n",
       "    </tr>\n",
       "    <tr>\n",
       "      <th>3</th>\n",
       "      <td>the european commission said on thursday it di...</td>\n",
       "      <td>*european commission*,*german*,*british*</td>\n",
       "    </tr>\n",
       "    <tr>\n",
       "      <th>4</th>\n",
       "      <td>germany 's representative to the european unio...</td>\n",
       "      <td>*germany*,*european union*,*werner zwingmann*,...</td>\n",
       "    </tr>\n",
       "    <tr>\n",
       "      <th>...</th>\n",
       "      <td>...</td>\n",
       "      <td>...</td>\n",
       "    </tr>\n",
       "    <tr>\n",
       "      <th>159138</th>\n",
       "      <td>\" @mackenzie_71 : super bowl sunday \"</td>\n",
       "      <td>**</td>\n",
       "    </tr>\n",
       "    <tr>\n",
       "      <th>159139</th>\n",
       "      <td>watch barrow - boston united live december 20 ...</td>\n",
       "      <td>*barrow*,*boston united*</td>\n",
       "    </tr>\n",
       "    <tr>\n",
       "      <th>159140</th>\n",
       "      <td>on january 22nd , from 11- 1.30 , tvps will be...</td>\n",
       "      <td>*tvps*</td>\n",
       "    </tr>\n",
       "    <tr>\n",
       "      <th>159141</th>\n",
       "      <td>conditioning plan all made up for tomorrow , f...</td>\n",
       "      <td>**</td>\n",
       "    </tr>\n",
       "    <tr>\n",
       "      <th>159142</th>\n",
       "      <td>sat jan 10 2015 12:46 : 39 gmt+0000 ( utc )</td>\n",
       "      <td>**</td>\n",
       "    </tr>\n",
       "  </tbody>\n",
       "</table>\n",
       "<p>159143 rows × 2 columns</p>\n",
       "</div>"
      ],
      "text/plain": [
       "                                               input_text  \\\n",
       "0        eu rejects german call to boycott british lamb .   \n",
       "1                                         peter blackburn   \n",
       "2                                     brussels 1996-08-22   \n",
       "3       the european commission said on thursday it di...   \n",
       "4       germany 's representative to the european unio...   \n",
       "...                                                   ...   \n",
       "159138              \" @mackenzie_71 : super bowl sunday \"   \n",
       "159139  watch barrow - boston united live december 20 ...   \n",
       "159140  on january 22nd , from 11- 1.30 , tvps will be...   \n",
       "159141  conditioning plan all made up for tomorrow , f...   \n",
       "159142        sat jan 10 2015 12:46 : 39 gmt+0000 ( utc )   \n",
       "\n",
       "                                              target_text  \n",
       "0                                 *eu*,*german*,*british*  \n",
       "1                                       *peter blackburn*  \n",
       "2                                              *brussels*  \n",
       "3                *european commission*,*german*,*british*  \n",
       "4       *germany*,*european union*,*werner zwingmann*,...  \n",
       "...                                                   ...  \n",
       "159138                                                 **  \n",
       "159139                           *barrow*,*boston united*  \n",
       "159140                                             *tvps*  \n",
       "159141                                                 **  \n",
       "159142                                                 **  \n",
       "\n",
       "[159143 rows x 2 columns]"
      ]
     },
     "execution_count": 30,
     "metadata": {},
     "output_type": "execute_result"
    }
   ],
   "source": [
    "lower_training = lower_case_df(combined_df)\n",
    "lower_training"
   ]
  },
  {
   "cell_type": "code",
   "execution_count": 31,
   "id": "1b615a4f",
   "metadata": {},
   "outputs": [
    {
     "data": {
      "text/html": [
       "<div>\n",
       "<style scoped>\n",
       "    .dataframe tbody tr th:only-of-type {\n",
       "        vertical-align: middle;\n",
       "    }\n",
       "\n",
       "    .dataframe tbody tr th {\n",
       "        vertical-align: top;\n",
       "    }\n",
       "\n",
       "    .dataframe thead th {\n",
       "        text-align: right;\n",
       "    }\n",
       "</style>\n",
       "<table border=\"1\" class=\"dataframe\">\n",
       "  <thead>\n",
       "    <tr style=\"text-align: right;\">\n",
       "      <th></th>\n",
       "      <th>input_text</th>\n",
       "      <th>target_text</th>\n",
       "    </tr>\n",
       "  </thead>\n",
       "  <tbody>\n",
       "    <tr>\n",
       "      <th>0</th>\n",
       "      <td>LAST COLUMN - TOTAL- IS LATEST FOR JOBLESS AND...</td>\n",
       "      <td>**</td>\n",
       "    </tr>\n",
       "    <tr>\n",
       "      <th>1</th>\n",
       "      <td>archives</td>\n",
       "      <td>**</td>\n",
       "    </tr>\n",
       "    <tr>\n",
       "      <th>2</th>\n",
       "      <td>agilent , spun off from hp in 1999 as an indep...</td>\n",
       "      <td>*agilent*,*hp*</td>\n",
       "    </tr>\n",
       "    <tr>\n",
       "      <th>3</th>\n",
       "      <td>the film stars keanu reeves , dennis hopper , ...</td>\n",
       "      <td>*keanu reeves*,*dennis hopper*,*sandra bullock...</td>\n",
       "    </tr>\n",
       "    <tr>\n",
       "      <th>4</th>\n",
       "      <td>THE FORMAT WAS CREATED BY MERV GRIFFIN AND PRO...</td>\n",
       "      <td>*MERV GRIFFIN*,*MERV GRIFFIN ENTERPRISES*</td>\n",
       "    </tr>\n",
       "    <tr>\n",
       "      <th>...</th>\n",
       "      <td>...</td>\n",
       "      <td>...</td>\n",
       "    </tr>\n",
       "    <tr>\n",
       "      <th>318281</th>\n",
       "      <td>we have seen often in the past how violence an...</td>\n",
       "      <td>*the united states*,*the middle east*</td>\n",
       "    </tr>\n",
       "    <tr>\n",
       "      <th>318282</th>\n",
       "      <td>the annual grand national horse race takes pla...</td>\n",
       "      <td>*grand national*,*aintree racecourse*</td>\n",
       "    </tr>\n",
       "    <tr>\n",
       "      <th>318283</th>\n",
       "      <td>QUESTIONS CONCERNING THE PROPER ROLE AND JURIS...</td>\n",
       "      <td>*MJIB*</td>\n",
       "    </tr>\n",
       "    <tr>\n",
       "      <th>318284</th>\n",
       "      <td>BRITISH AIR'S MOVE RAISED NEW QUESTIONS ABOUT ...</td>\n",
       "      <td>*BRITISH AIR'S*,*UAL*</td>\n",
       "    </tr>\n",
       "    <tr>\n",
       "      <th>318285</th>\n",
       "      <td>and you decided to let me know about all these...</td>\n",
       "      <td>**</td>\n",
       "    </tr>\n",
       "  </tbody>\n",
       "</table>\n",
       "<p>318286 rows × 2 columns</p>\n",
       "</div>"
      ],
      "text/plain": [
       "                                               input_text  \\\n",
       "0       LAST COLUMN - TOTAL- IS LATEST FOR JOBLESS AND...   \n",
       "1                                                archives   \n",
       "2       agilent , spun off from hp in 1999 as an indep...   \n",
       "3       the film stars keanu reeves , dennis hopper , ...   \n",
       "4       THE FORMAT WAS CREATED BY MERV GRIFFIN AND PRO...   \n",
       "...                                                   ...   \n",
       "318281  we have seen often in the past how violence an...   \n",
       "318282  the annual grand national horse race takes pla...   \n",
       "318283  QUESTIONS CONCERNING THE PROPER ROLE AND JURIS...   \n",
       "318284  BRITISH AIR'S MOVE RAISED NEW QUESTIONS ABOUT ...   \n",
       "318285  and you decided to let me know about all these...   \n",
       "\n",
       "                                              target_text  \n",
       "0                                                      **  \n",
       "1                                                      **  \n",
       "2                                          *agilent*,*hp*  \n",
       "3       *keanu reeves*,*dennis hopper*,*sandra bullock...  \n",
       "4               *MERV GRIFFIN*,*MERV GRIFFIN ENTERPRISES*  \n",
       "...                                                   ...  \n",
       "318281              *the united states*,*the middle east*  \n",
       "318282              *grand national*,*aintree racecourse*  \n",
       "318283                                             *MJIB*  \n",
       "318284                              *BRITISH AIR'S*,*UAL*  \n",
       "318285                                                 **  \n",
       "\n",
       "[318286 rows x 2 columns]"
      ]
     },
     "execution_count": 31,
     "metadata": {},
     "output_type": "execute_result"
    }
   ],
   "source": [
    "upper_training = upper_case_df(combined_df)\n",
    "lower_upper_training = pd.concat([lower_training, upper_training])\n",
    "lower_upper_training = lower_upper_training.sample(frac=1, random_state=1).reset_index(drop=True)\n",
    "lower_upper_training"
   ]
  },
  {
   "cell_type": "markdown",
   "id": "61622841",
   "metadata": {},
   "source": [
    "### Saving the data as csv"
   ]
  },
  {
   "cell_type": "code",
   "execution_count": 32,
   "id": "3050d83e",
   "metadata": {},
   "outputs": [
    {
     "ename": "TypeError",
     "evalue": "to_csv() got an unexpected keyword argument 'index_col'",
     "output_type": "error",
     "traceback": [
      "\u001b[1;31m---------------------------------------------------------------------------\u001b[0m",
      "\u001b[1;31mTypeError\u001b[0m                                 Traceback (most recent call last)",
      "Input \u001b[1;32mIn [32]\u001b[0m, in \u001b[0;36m<cell line: 1>\u001b[1;34m()\u001b[0m\n\u001b[1;32m----> 1\u001b[0m \u001b[43mcombined_df\u001b[49m\u001b[38;5;241;43m.\u001b[39;49m\u001b[43mto_csv\u001b[49m\u001b[43m(\u001b[49m\u001b[38;5;124;43m'\u001b[39;49m\u001b[38;5;124;43m./1-NER_Data/1-csv_format/train/training_data.csv\u001b[39;49m\u001b[38;5;124;43m'\u001b[39;49m\u001b[43m,\u001b[49m\u001b[43m \u001b[49m\u001b[43mindex_col\u001b[49m\u001b[43m \u001b[49m\u001b[38;5;241;43m=\u001b[39;49m\u001b[43m \u001b[49m\u001b[38;5;28;43;01mFalse\u001b[39;49;00m\u001b[43m)\u001b[49m\n\u001b[0;32m      2\u001b[0m lower_training\u001b[38;5;241m.\u001b[39mto_csv(\u001b[38;5;124m'\u001b[39m\u001b[38;5;124m./1-NER_Data/1-csv_format/train/lower_training_data.csv\u001b[39m\u001b[38;5;124m'\u001b[39m, index_col \u001b[38;5;241m=\u001b[39m \u001b[38;5;28;01mFalse\u001b[39;00m)\n\u001b[0;32m      3\u001b[0m lower_upper_training\u001b[38;5;241m.\u001b[39mto_csv(\u001b[38;5;124m'\u001b[39m\u001b[38;5;124m./1-NER_Data/1-csv_format/train/low_up_training_data.csv\u001b[39m\u001b[38;5;124m'\u001b[39m, index_col \u001b[38;5;241m=\u001b[39m \u001b[38;5;28;01mFalse\u001b[39;00m)\n",
      "\u001b[1;31mTypeError\u001b[0m: to_csv() got an unexpected keyword argument 'index_col'"
     ]
    }
   ],
   "source": [
    "combined_df.to_csv('./1-NER_Data/1-csv_format/train/training_data.csv', index = False)\n",
    "lower_training.to_csv('./1-NER_Data/1-csv_format/train/lower_training_data.csv', index = False)\n",
    "lower_upper_training.to_csv('./1-NER_Data/1-csv_format/train/low_up_training_data.csv', index = False)"
   ]
  },
  {
   "cell_type": "markdown",
   "id": "0f574602",
   "metadata": {},
   "source": [
    "# Validation data"
   ]
  },
  {
   "cell_type": "markdown",
   "id": "86050217",
   "metadata": {},
   "source": [
    "### Read the data from either txt files or from huggingface dataset and converting each to target form  --->  [input_text, target_text, word_count, NE_count] "
   ]
  },
  {
   "cell_type": "code",
   "execution_count": null,
   "id": "f7a40d65",
   "metadata": {},
   "outputs": [],
   "source": [
    "# CoNLL2003++ validatoin dataset\n",
    "\n",
    "conellpp_val = parse_file_data(\"./1-NER_data/0-raw_data/coNLL2003pp/conllpp_dev.txt\", in_position=0, pos_position=3, line_len=4, sep=' ')\n",
    "# conellpp_val"
   ]
  },
  {
   "cell_type": "code",
   "execution_count": null,
   "id": "fb64fc0f",
   "metadata": {},
   "outputs": [],
   "source": [
    "# wikineural validation dataset\n",
    "\n",
    "wikineural_val = parse_file_data(\"./1-NER_data/0-raw_data/wikineural/val.conllu.txt\", 1, 2, 3, '\\t')\n",
    "# wikineural_val"
   ]
  },
  {
   "cell_type": "code",
   "execution_count": null,
   "id": "ea510b24",
   "metadata": {},
   "outputs": [],
   "source": [
    "# OntoNotes 5.0 validation dataset refer section above"
   ]
  },
  {
   "cell_type": "code",
   "execution_count": null,
   "id": "5252b0c4",
   "metadata": {},
   "outputs": [],
   "source": [
    "# wnut_17 validation dataset\n",
    "\n",
    "dataset = load_dataset('wnut_17', split='validation').to_pandas()\n",
    "wnut_val = pd.DataFrame([], columns=['input_text', 'target_text', 'word_count', 'NE_count'])\n",
    "wnut_val[['input_text','target_text','word_count', 'NE_count']] = dataset.apply(read_hugging_face_data, axis=1)\n",
    "# wnut_val"
   ]
  },
  {
   "cell_type": "markdown",
   "id": "23bfaf66",
   "metadata": {},
   "source": [
    "### Adding entity as percentage of the input sentence"
   ]
  },
  {
   "cell_type": "code",
   "execution_count": null,
   "id": "a9f2239c",
   "metadata": {},
   "outputs": [],
   "source": [
    "conellpp_val = add_per_NE_sent(conellpp_val)\n",
    "wikineural_val = add_per_NE_sent(wikineural_val)\n",
    "onto_val = add_per_NE_sent(onto_val)\n",
    "wnut_val = add_per_NE_sent(wnut_val)"
   ]
  },
  {
   "cell_type": "code",
   "execution_count": null,
   "id": "1c849c4b",
   "metadata": {},
   "outputs": [],
   "source": [
    "plot_percent_NE = conellpp_val['%_NE_in_sentence'].value_counts().sort_index()\n",
    "plot_percent_NE.plot(kind='bar')\n",
    "print(\"there are\", sum(plot_percent_NE.loc[0:0.099])/len(conellpp_val), \"sentences in the range of 0:0.1\")"
   ]
  },
  {
   "cell_type": "code",
   "execution_count": null,
   "id": "8b5bab38",
   "metadata": {},
   "outputs": [],
   "source": [
    "conellpp_val.groupby(by='word_count')['input_text'].count().head(10).plot(kind='bar')"
   ]
  },
  {
   "cell_type": "code",
   "execution_count": null,
   "id": "27140a69",
   "metadata": {},
   "outputs": [],
   "source": [
    "conellpp_val = conellpp_val.drop(conellpp_val.loc[conellpp_val['word_count'] == 0].index).reset_index(drop=True)\n",
    "# conellpp_val"
   ]
  },
  {
   "cell_type": "code",
   "execution_count": null,
   "id": "e5fb3b43",
   "metadata": {},
   "outputs": [],
   "source": []
  },
  {
   "cell_type": "code",
   "execution_count": null,
   "id": "35bc59a0",
   "metadata": {},
   "outputs": [],
   "source": [
    "plot_percent_NE = wikineural_val['%_NE_in_sentence'].value_counts().sort_index()\n",
    "plot_percent_NE.plot(kind='bar')\n",
    "print(\"there are\", sum(plot_percent_NE.loc[0:0.099])/len(wikineural_val), \"sentences in the range of 0:0.1\")"
   ]
  },
  {
   "cell_type": "code",
   "execution_count": null,
   "id": "e031bc3b",
   "metadata": {},
   "outputs": [],
   "source": [
    "wikineural_val.groupby(by='word_count')['input_text'].count().head(10).plot(kind='bar')"
   ]
  },
  {
   "cell_type": "code",
   "execution_count": null,
   "id": "84f329f3",
   "metadata": {},
   "outputs": [],
   "source": []
  },
  {
   "cell_type": "code",
   "execution_count": null,
   "id": "bdee1ce6",
   "metadata": {},
   "outputs": [],
   "source": [
    "plot_percent_NE = onto_val['%_NE_in_sentence'].value_counts().sort_index()\n",
    "plot_percent_NE.plot(kind='bar')\n",
    "print(len(onto_val))\n",
    "print(\"there are\", sum(plot_percent_NE.loc[0:0.099])/len(onto_val), \"sentences in the range of 0:0.1\")\n",
    "print(sum(plot_percent_NE.loc[0:0.01]))"
   ]
  },
  {
   "cell_type": "code",
   "execution_count": null,
   "id": "7f6b5558",
   "metadata": {},
   "outputs": [],
   "source": [
    "# dropping half of the rows with zero entities randomly\n",
    "\n",
    "np.random.seed(10)\n",
    "zero_entities = onto_val.loc[onto_val['%_NE_in_sentence']==0].index\n",
    "remove_n = round(len(zero_entities)*2/3)\n",
    "\n",
    "drop_indices = np.random.choice(zero_entities, remove_n, replace=False)\n",
    "onto_val = onto_val.drop(drop_indices).reset_index(drop=True)\n",
    "onto_val"
   ]
  },
  {
   "cell_type": "code",
   "execution_count": null,
   "id": "abc05e05",
   "metadata": {},
   "outputs": [],
   "source": [
    "plot_percent_NE = onto_val['%_NE_in_sentence'].value_counts().sort_index()\n",
    "plot_percent_NE.plot(kind='bar')\n",
    "print(len(onto_val))\n",
    "print(\"there are\", sum(plot_percent_NE.loc[0:0.01])/len(onto_val), \"sentences in the range of 0:0.1\")\n",
    "print(sum(plot_percent_NE.loc[0:0.01]))"
   ]
  },
  {
   "cell_type": "code",
   "execution_count": null,
   "id": "e31b2f92",
   "metadata": {},
   "outputs": [],
   "source": [
    "onto_val.groupby(by='word_count')['input_text'].count().head(10).plot(kind='bar')"
   ]
  },
  {
   "cell_type": "code",
   "execution_count": null,
   "id": "1344661b",
   "metadata": {},
   "outputs": [],
   "source": []
  },
  {
   "cell_type": "code",
   "execution_count": null,
   "id": "8f3df01d",
   "metadata": {},
   "outputs": [],
   "source": [
    "plot_percent_NE = wnut_val['%_NE_in_sentence'].value_counts().sort_index()\n",
    "plot_percent_NE.plot(kind='bar')\n",
    "print(\"there are\", sum(plot_percent_NE.loc[0:0.099])/len(wnut_val), \"sentences in the range of 0:0.1\")\n",
    "len(wnut_val)"
   ]
  },
  {
   "cell_type": "code",
   "execution_count": null,
   "id": "4a6d8f6d",
   "metadata": {},
   "outputs": [],
   "source": [
    "# dropping half of the rows with zero entities randomly\n",
    "\n",
    "np.random.seed(10)\n",
    "zero_entities = wnut_val.loc[wnut_val['%_NE_in_sentence']==0].index\n",
    "remove_n = round(len(zero_entities)*2/3)\n",
    "\n",
    "drop_indices = np.random.choice(zero_entities, remove_n, replace=False)\n",
    "wnut_val = wnut_val.drop(drop_indices).reset_index(drop=True)\n",
    "wnut_val"
   ]
  },
  {
   "cell_type": "code",
   "execution_count": null,
   "id": "1fde8ebe",
   "metadata": {},
   "outputs": [],
   "source": [
    "plot_percent_NE = wnut_val['%_NE_in_sentence'].value_counts().sort_index()\n",
    "plot_percent_NE.plot(kind='bar')\n",
    "print(\"there are\", sum(plot_percent_NE.loc[0:0.099])/len(wnut_val), \"sentences in the range of 0:0.1\")\n",
    "len(wnut_val)"
   ]
  },
  {
   "cell_type": "code",
   "execution_count": null,
   "id": "954d04a5",
   "metadata": {},
   "outputs": [],
   "source": [
    "wnut_val.groupby(by='word_count')['input_text'].count().head(10).plot(kind='bar')"
   ]
  },
  {
   "cell_type": "markdown",
   "id": "dbd85542",
   "metadata": {},
   "source": [
    "### Combining the datasets"
   ]
  },
  {
   "cell_type": "code",
   "execution_count": null,
   "id": "c48b7179",
   "metadata": {},
   "outputs": [],
   "source": [
    "val_combined_df = pd.concat([conellpp_val, wikineural_val, onto_val, wnut_val], ignore_index=True).drop_duplicates().reset_index(drop=True)\n",
    "val_combined_df"
   ]
  },
  {
   "cell_type": "markdown",
   "id": "e7851f3b",
   "metadata": {},
   "source": [
    "### creating a lowercase and uppercase versions of the training data"
   ]
  },
  {
   "cell_type": "code",
   "execution_count": null,
   "id": "a57b8a2b",
   "metadata": {},
   "outputs": [],
   "source": [
    "lower_val = lower_case_df(val_combined_df)\n",
    "lower_val"
   ]
  },
  {
   "cell_type": "code",
   "execution_count": null,
   "id": "b4c899c3",
   "metadata": {},
   "outputs": [],
   "source": [
    "upper_val = upper_case_df(val_combined_df)\n",
    "lower_upper_val = pd.concat([lower_val, upper_val])\n",
    "lower_upper_val = lower_upper_val.sample(frac=1, random_state=1).reset_index(drop=True)\n",
    "lower_upper_val"
   ]
  },
  {
   "cell_type": "markdown",
   "id": "026da7c4",
   "metadata": {},
   "source": [
    "### Saving the data as csv"
   ]
  },
  {
   "cell_type": "code",
   "execution_count": null,
   "id": "65fa7bed",
   "metadata": {},
   "outputs": [],
   "source": [
    "val_combined_df.to_csv('./1-NER_Data/1-csv_format/val/val_data.csv', index = False)\n",
    "lower_val.to_csv('./1-NER_Data/1-csv_format/val/lower_val_data.csv', index = False)\n",
    "lower_upper_val.to_csv('./1-NER_Data/1-csv_format/val/low_up_val_data.csv', index = False)"
   ]
  },
  {
   "cell_type": "markdown",
   "id": "61eb42b1",
   "metadata": {},
   "source": [
    "# Test data"
   ]
  },
  {
   "cell_type": "markdown",
   "id": "b77f00ad",
   "metadata": {},
   "source": [
    "### Read the data from either txt files or from huggingface dataset and converting each to target form  --->  [input_text, target_text, word_count, NE_count] "
   ]
  },
  {
   "cell_type": "code",
   "execution_count": null,
   "id": "4152b437",
   "metadata": {},
   "outputs": [],
   "source": [
    "# CoNLL2003++ test dataset\n",
    "\n",
    "conellpp_test = parse_file_data(\"./1-NER_data/0-raw_data/coNLL2003pp/conllpp_test.txt\", in_position=0, pos_position=3, line_len=4, sep=' ')\n",
    "# conellpp_test"
   ]
  },
  {
   "cell_type": "code",
   "execution_count": null,
   "id": "af1fee36",
   "metadata": {},
   "outputs": [],
   "source": [
    "# wikineural test dataset\n",
    "\n",
    "wikineural_test = parse_file_data(\"./1-NER_data/0-raw_data/wikineural/test.conllu.txt\", 1, 2, 3, '\\t')\n",
    "# wikineural_test"
   ]
  },
  {
   "cell_type": "code",
   "execution_count": null,
   "id": "e7993218",
   "metadata": {},
   "outputs": [],
   "source": [
    "# OntoNotes 5.0 test dataset refer section above"
   ]
  },
  {
   "cell_type": "code",
   "execution_count": null,
   "id": "34f69dc9",
   "metadata": {},
   "outputs": [],
   "source": [
    "# wnut_17 test dataset\n",
    "\n",
    "dataset = load_dataset('wnut_17', split='test').to_pandas()\n",
    "wnut_test = pd.DataFrame([], columns=['input_text', 'target_text', 'word_count', 'NE_count'])\n",
    "wnut_test[['input_text','target_text','word_count', 'NE_count']] = dataset.apply(read_hugging_face_data, axis=1)\n",
    "# wnut_test"
   ]
  },
  {
   "cell_type": "markdown",
   "id": "4891e557",
   "metadata": {},
   "source": [
    "### Adding entity as percentage of the input sentence"
   ]
  },
  {
   "cell_type": "code",
   "execution_count": null,
   "id": "bb6c769b",
   "metadata": {},
   "outputs": [],
   "source": [
    "conellpp_test = add_per_NE_sent(conellpp_test)\n",
    "wikineural_test = add_per_NE_sent(wikineural_test)\n",
    "onto_test = add_per_NE_sent(onto_test)\n",
    "wnut_test = add_per_NE_sent(wnut_test)"
   ]
  },
  {
   "cell_type": "code",
   "execution_count": null,
   "id": "544a5a2c",
   "metadata": {},
   "outputs": [],
   "source": [
    "plot_percent_NE = conellpp_test['%_NE_in_sentence'].value_counts().sort_index()\n",
    "plot_percent_NE.plot(kind='bar')\n",
    "print(len(conellpp_test))\n",
    "print(\"there are\", sum(plot_percent_NE.loc[0:0.099])/len(conellpp_test), \"sentences in the range of 0:0.1\")"
   ]
  },
  {
   "cell_type": "code",
   "execution_count": null,
   "id": "5f067b01",
   "metadata": {},
   "outputs": [],
   "source": [
    "conellpp_test.groupby(by='word_count')['input_text'].count().head(10).plot(kind='bar')"
   ]
  },
  {
   "cell_type": "code",
   "execution_count": null,
   "id": "f388d2d2",
   "metadata": {},
   "outputs": [],
   "source": [
    "conellpp_test = conellpp_test.drop(conellpp_test.loc[conellpp_test['word_count'] == 0].index).reset_index(drop=True)\n",
    "conellpp_test"
   ]
  },
  {
   "cell_type": "code",
   "execution_count": null,
   "id": "7869a505",
   "metadata": {},
   "outputs": [],
   "source": []
  },
  {
   "cell_type": "code",
   "execution_count": null,
   "id": "085e94fd",
   "metadata": {},
   "outputs": [],
   "source": [
    "plot_percent_NE = wikineural_test['%_NE_in_sentence'].value_counts().sort_index()\n",
    "plot_percent_NE.plot(kind='bar')\n",
    "print(\"there are\", sum(plot_percent_NE.loc[0:0.099])/len(wikineural_test), \"sentences in the range of 0:0.1\")"
   ]
  },
  {
   "cell_type": "code",
   "execution_count": null,
   "id": "5d002727",
   "metadata": {},
   "outputs": [],
   "source": [
    "wikineural_test.groupby(by='word_count')['input_text'].count().head(10).plot(kind='bar')"
   ]
  },
  {
   "cell_type": "code",
   "execution_count": null,
   "id": "894fab26",
   "metadata": {},
   "outputs": [],
   "source": []
  },
  {
   "cell_type": "code",
   "execution_count": null,
   "id": "047104c3",
   "metadata": {},
   "outputs": [],
   "source": [
    "plot_percent_NE = onto_test['%_NE_in_sentence'].value_counts().sort_index()\n",
    "plot_percent_NE.plot(kind='bar')\n",
    "print(len(onto_val))\n",
    "print(\"there are\", sum(plot_percent_NE.loc[0:0.099])/len(onto_test), \"sentences in the range of 0:0.1\")"
   ]
  },
  {
   "cell_type": "code",
   "execution_count": null,
   "id": "0c5d79ec",
   "metadata": {},
   "outputs": [],
   "source": [
    "# dropping half of the rows with zero entities randomly\n",
    "\n",
    "np.random.seed(10)\n",
    "zero_entities = onto_test.loc[onto_test['%_NE_in_sentence']==0].index\n",
    "remove_n = round(len(zero_entities)*2/3)\n",
    "\n",
    "drop_indices = np.random.choice(zero_entities, remove_n, replace=False)\n",
    "onto_test.drop(drop_indices, inplace=True)\n",
    "onto_test"
   ]
  },
  {
   "cell_type": "code",
   "execution_count": null,
   "id": "5b22bc2c",
   "metadata": {},
   "outputs": [],
   "source": [
    "plot_percent_NE = onto_test['%_NE_in_sentence'].value_counts().sort_index()\n",
    "plot_percent_NE.plot(kind='bar')\n",
    "print(len(onto_test))\n",
    "print(\"there are\", sum(plot_percent_NE.loc[0:0.01])/len(onto_test), \"sentences in the range of 0:0.1\")\n",
    "print(sum(plot_percent_NE.loc[0:0.01]))"
   ]
  },
  {
   "cell_type": "code",
   "execution_count": null,
   "id": "bee7a04d",
   "metadata": {},
   "outputs": [],
   "source": [
    "onto_test.groupby(by='word_count')['input_text'].count().head(10).plot(kind='bar')"
   ]
  },
  {
   "cell_type": "code",
   "execution_count": null,
   "id": "2006886a",
   "metadata": {},
   "outputs": [],
   "source": []
  },
  {
   "cell_type": "code",
   "execution_count": null,
   "id": "19883b47",
   "metadata": {},
   "outputs": [],
   "source": [
    "plot_percent_NE = wnut_test['%_NE_in_sentence'].value_counts().sort_index()\n",
    "plot_percent_NE.plot(kind='bar')\n",
    "print(len(wnut_test))\n",
    "print(\"there are\", sum(plot_percent_NE.loc[0:0.099])/len(wnut_test), \"sentences in the range of 0:0.1\")"
   ]
  },
  {
   "cell_type": "code",
   "execution_count": null,
   "id": "15769735",
   "metadata": {},
   "outputs": [],
   "source": [
    "wnut_test"
   ]
  },
  {
   "cell_type": "code",
   "execution_count": null,
   "id": "dc54de2f",
   "metadata": {
    "scrolled": true
   },
   "outputs": [],
   "source": [
    "# dropping half of the rows with zero entities randomly\n",
    "\n",
    "np.random.seed(10)\n",
    "zero_entities = wnut_test.loc[wnut_test['%_NE_in_sentence']==0].index\n",
    "remove_n = round(len(zero_entities)*2/3)\n",
    "\n",
    "drop_indices = np.random.choice(zero_entities, remove_n, replace=False)\n",
    "wnut_test = wnut_test.drop(drop_indices).reset_index(drop=True)\n",
    "wnut_test"
   ]
  },
  {
   "cell_type": "code",
   "execution_count": null,
   "id": "6d811ad3",
   "metadata": {
    "scrolled": true
   },
   "outputs": [],
   "source": [
    "plot_percent_NE = wnut_test['%_NE_in_sentence'].value_counts().sort_index()\n",
    "plot_percent_NE.plot(kind='bar')\n",
    "print(\"there are\", sum(plot_percent_NE.loc[0:0.099])/len(wnut_test), \"sentences in the range of 0:0.1\")\n",
    "len(wnut_test)"
   ]
  },
  {
   "cell_type": "code",
   "execution_count": null,
   "id": "fec1f89b",
   "metadata": {},
   "outputs": [],
   "source": [
    "wnut_test.groupby(by='word_count')['input_text'].count().head(10).plot(kind='bar')"
   ]
  },
  {
   "cell_type": "markdown",
   "id": "bba6db4b",
   "metadata": {},
   "source": [
    "### Combining the datasets"
   ]
  },
  {
   "cell_type": "code",
   "execution_count": null,
   "id": "f3de0dae",
   "metadata": {},
   "outputs": [],
   "source": [
    "test_combined_df = pd.concat([conellpp_test, wikineural_test, onto_test, wnut_test], ignore_index=True).drop_duplicates().reset_index(drop=True)\n",
    "test_combined_df"
   ]
  },
  {
   "cell_type": "markdown",
   "id": "996fdde4",
   "metadata": {},
   "source": [
    "### creating a lowercase and uppercase versions of the training data"
   ]
  },
  {
   "cell_type": "code",
   "execution_count": null,
   "id": "497d6358",
   "metadata": {},
   "outputs": [],
   "source": [
    "lower_test = lower_case_df(test_combined_df)\n",
    "lower_test"
   ]
  },
  {
   "cell_type": "code",
   "execution_count": null,
   "id": "084dc3a3",
   "metadata": {},
   "outputs": [],
   "source": [
    "upper_test = upper_case_df(test_combined_df)\n",
    "lower_upper_test = pd.concat([lower_test, upper_test])\n",
    "lower_upper_test = lower_upper_test.sample(frac=1, random_state=1).reset_index(drop=True)\n",
    "lower_upper_test"
   ]
  },
  {
   "cell_type": "markdown",
   "id": "1f3dcfaa",
   "metadata": {},
   "source": [
    "### Saving the data as csv"
   ]
  },
  {
   "cell_type": "code",
   "execution_count": null,
   "id": "ac99c6ff",
   "metadata": {},
   "outputs": [],
   "source": [
    "test_combined_df.to_csv('./1-NER_Data/1-csv_format/test/test_data.csv', index = False)\n",
    "lower_test.to_csv('./1-NER_Data/1-csv_format/test/lower_test_data.csv', index = False)\n",
    "lower_upper_test.to_csv('./1-NER_Data/1-csv_format/test/low_up_test_data.csv', index = False)"
   ]
  },
  {
   "cell_type": "code",
   "execution_count": null,
   "id": "35fcc7c4",
   "metadata": {},
   "outputs": [],
   "source": []
  }
 ],
 "metadata": {
  "kernelspec": {
   "display_name": "Python 3 (ipykernel)",
   "language": "python",
   "name": "python3"
  },
  "language_info": {
   "codemirror_mode": {
    "name": "ipython",
    "version": 3
   },
   "file_extension": ".py",
   "mimetype": "text/x-python",
   "name": "python",
   "nbconvert_exporter": "python",
   "pygments_lexer": "ipython3",
   "version": "3.9.12"
  }
 },
 "nbformat": 4,
 "nbformat_minor": 5
}
