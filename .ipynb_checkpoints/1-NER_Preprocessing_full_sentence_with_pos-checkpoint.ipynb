{
 "cells": [
  {
   "cell_type": "code",
   "execution_count": 1,
   "id": "9a57fb1c",
   "metadata": {},
   "outputs": [],
   "source": [
    "# parsing CoNLL+WikiNEuRal folder\n",
    "\n",
    "# !pip install datasets\n",
    "\n",
    "from datasets import load_dataset\n",
    "import pandas as pd\n",
    "import re\n",
    "import time\n",
    "import json\n",
    "from sklearn.model_selection import train_test_split\n",
    "import numpy as np"
   ]
  },
  {
   "cell_type": "code",
   "execution_count": 2,
   "id": "ff341dff",
   "metadata": {},
   "outputs": [],
   "source": [
    "def parse_file_data(path, in_position, pos_position, line_len, sep):\n",
    "    dataset = []\n",
    "    f = open(path, encoding=\"utf8\") \n",
    "    input_sentence = ''\n",
    "    target_output = ''\n",
    "    word_count = 0\n",
    "    NE_count = 0\n",
    "    \n",
    "#     labels = set()\n",
    "\n",
    "    \n",
    "    for row in f:  \n",
    "        row = row.split(sep)\n",
    "        \n",
    "        if '-DOCSTART-' in row[0]:\n",
    "            continue\n",
    "        \n",
    "        if row[0] == \"\\n\" and input_sentence != \"\": ############# keep in mind, make sure it is correct\n",
    "            if(target_output == ''):\n",
    "                target_output = '*s**e*'\n",
    "            dataset.append([input_sentence, target_output, word_count, NE_count])\n",
    "            input_sentence = ''\n",
    "            target_output = ''\n",
    "            word_count = 0\n",
    "            NE_count = 0\n",
    "            continue\n",
    "\n",
    "        if len(row) <line_len:\n",
    "            continue\n",
    "        elif len(row) != line_len:\n",
    "            print(\"something is wrong, length is diff: \", row)\n",
    "        \n",
    "        # to remove the '\\n' at the end\n",
    "        if row[-1] == '\\n':\n",
    "            row = row[:-1]\n",
    "        elif '\\n' in row[-1]:\n",
    "            row[-1] = row[-1].replace('\\n', '')\n",
    "\n",
    "        word = row[in_position]\n",
    "        pos_tag = row[pos_position]\n",
    "        \n",
    "        # adding word to input sentence\n",
    "        if input_sentence == \"\": \n",
    "            input_sentence = word\n",
    "            if pos_tag == 'O': \n",
    "                target_output = word\n",
    "        else:\n",
    "            if word == \"'s\" and pos_tag.startswith('I-'):\n",
    "                input_sentence = input_sentence + word\n",
    "                if pos_tag == 'O': \n",
    "                    target_output = target_output + word\n",
    "            else: \n",
    "                if pos_tag == 'O': \n",
    "                    target_output = target_output + \" \" + word\n",
    "                input_sentence = input_sentence + \" \" + word\n",
    "        \n",
    "        if len(re.sub(r'[\\W\\s]', '', word)):\n",
    "            word_count += 1\n",
    "            \n",
    "        \n",
    "        # adding entity word to target sentence\n",
    "        if pos_tag != 'O': \n",
    "            \n",
    "#             labels.add(pos_tag.split('-')[1])\n",
    "            if len(re.sub(r'[\\W\\s]', '', word)):\n",
    "                NE_count += 1\n",
    "            if target_output == '':\n",
    "                target_output = f'*s* {word} | {pos_tag.split(\"-\")[1]} *e*'\n",
    "        \n",
    "            elif pos_tag.startswith('B-'):\n",
    "                target_output = f'{target_output} *s* {word} | {pos_tag.split(\"-\")[1]} *e*'\n",
    "            elif pos_tag.startswith('I-'):\n",
    "                target_output = target_output.rsplit(' | ', 1)[0] \n",
    "                if word == \"'s\":\n",
    "                    target_output = f'{target_output}{word} | {pos_tag.split(\"-\")[1]} *e*'\n",
    "                else:\n",
    "                    target_output = f'{target_output} {word} | {pos_tag.split(\"-\")[1]} *e*'\n",
    "            else: \n",
    "                print('error')\n",
    "                print(pos_tag)  \n",
    "    f.close()\n",
    "    \n",
    "#     print(labels)\n",
    "\n",
    "    parsed_data = pd.DataFrame(dataset, columns=['input_text', 'target_text', 'word_count', 'NE_count'])\n",
    "    return parsed_data"
   ]
  },
  {
   "cell_type": "code",
   "execution_count": 3,
   "id": "4c5bc9d7",
   "metadata": {},
   "outputs": [],
   "source": [
    "def read_onto_dataset():\n",
    "    dataset = {'input_text':[], 'target_text': [], 'word_count': [], 'NE_count': []}\n",
    "    with open('./1-NER_Data/0-raw_data/ontoNotes_5.0/ontonotes5.json', encoding=\"utf8\") as f:\n",
    "        # returns JSON object as a dictionary\n",
    "        data = json.load(f)\n",
    "        \n",
    "    entities_to_remove = ['DATE', 'TIME', 'PERCENT', 'MONEY' , 'QUANTITY', 'ORDINAL', 'CARDINAL']\n",
    "    for sent in data['TRAINING']:\n",
    "        if sent['language'] != 'english':\n",
    "            continue\n",
    "        \n",
    "        ne_count = 0\n",
    "        input_sent = sent['text']\n",
    "        word_count = len(sent['text'].split())\n",
    "        target_ent = sent['text']\n",
    "        for pair in sent['entities'].items():\n",
    "            pos_name = pair[0] \n",
    "            if pos_name in entities_to_remove:\n",
    "                continue\n",
    "            \n",
    "            if pos_name == 'PERSON':\n",
    "                pos_name = 'PER'\n",
    "            elif pos_name != 'LOC' and pos_name != 'ORG':\n",
    "                pos_name = 'MISC'\n",
    "                \n",
    "            entities = pair[1] \n",
    "            for (i,j) in entities:\n",
    "                ne_count += 1\n",
    "                target_str = input_sent[i:j]\n",
    "                target_ent = target_ent[:i] + target_ent[i:].replace(target_str, f'*s* {target_str} | {pos_name} *e*', 1)\n",
    "\n",
    "        dataset['input_text'].append(input_sent)\n",
    "\n",
    "        dataset['target_text'].append(target_ent)\n",
    "        dataset['word_count'].append(word_count)\n",
    "        dataset['NE_count'].append(ne_count)\n",
    "    return pd.DataFrame(dataset) "
   ]
  },
  {
   "cell_type": "code",
   "execution_count": 4,
   "id": "263bafaf",
   "metadata": {},
   "outputs": [],
   "source": [
    "# entities_to_keep = ['PERSON', 'FAC', 'NORP', 'ORG', 'GPE', 'LOC', 'PRODUCT', 'EVENT', 'WORK_OF_ART', 'LAW', 'LANGUAGE']"
   ]
  },
  {
   "cell_type": "code",
   "execution_count": 5,
   "id": "4a446bb2",
   "metadata": {},
   "outputs": [],
   "source": [
    "def add_per_NE_sent(data):\n",
    "    data['%_NE_in_sentence'] = round(data['NE_count']/ data['word_count'], 1)\n",
    "    return data"
   ]
  },
  {
   "cell_type": "code",
   "execution_count": 6,
   "id": "69f1d499",
   "metadata": {},
   "outputs": [],
   "source": [
    "# expects a dataframe\n",
    "def lower_case_df(data):\n",
    "    low_input_text = data[\"input_text\"].str.lower()\n",
    "    low_target_text = data[\"target_text\"].str.lower()\n",
    "    return create_dataframe(low_input_text, low_target_text)"
   ]
  },
  {
   "cell_type": "code",
   "execution_count": 7,
   "id": "c186e6d9",
   "metadata": {},
   "outputs": [],
   "source": [
    "# expects a dataframe\n",
    "def upper_case_df(data):\n",
    "    upper_input_text = data[\"input_text\"].str.upper()\n",
    "    upper_target_text = data[\"target_text\"].str.upper()\n",
    "    return create_dataframe(upper_input_text, upper_target_text)"
   ]
  },
  {
   "cell_type": "code",
   "execution_count": 8,
   "id": "43c97859",
   "metadata": {},
   "outputs": [],
   "source": [
    "def create_dataframe(input_sent, target_sent):\n",
    "    data = []\n",
    "    for input_text, target_text in zip(input_sent, target_sent):\n",
    "        data.append([input_text, target_text])\n",
    "\n",
    "    return pd.DataFrame(data, columns=['input_text', 'target_text'])"
   ]
  },
  {
   "cell_type": "markdown",
   "id": "65635459",
   "metadata": {},
   "source": [
    "## Reading the onto_data and splitting the data into training, validation and test sets"
   ]
  },
  {
   "cell_type": "code",
   "execution_count": 9,
   "id": "6c6559b0",
   "metadata": {},
   "outputs": [],
   "source": [
    "onto_data = read_onto_dataset()\n",
    "onto_data = onto_data.sample(frac=1, random_state=1).reset_index(drop=True)\n",
    "onto_training, onto_test = train_test_split(onto_data, test_size=0.3)\n",
    "onto_test, onto_val = train_test_split(onto_test, test_size=0.5)"
   ]
  },
  {
   "cell_type": "code",
   "execution_count": 10,
   "id": "9eaa03f7",
   "metadata": {},
   "outputs": [],
   "source": [
    "# onto_data[onto_data['input_text'].str.contains('Fiero')]"
   ]
  },
  {
   "cell_type": "code",
   "execution_count": 11,
   "id": "1dc71e87",
   "metadata": {},
   "outputs": [
    {
     "data": {
      "text/html": [
       "<div>\n",
       "<style scoped>\n",
       "    .dataframe tbody tr th:only-of-type {\n",
       "        vertical-align: middle;\n",
       "    }\n",
       "\n",
       "    .dataframe tbody tr th {\n",
       "        vertical-align: top;\n",
       "    }\n",
       "\n",
       "    .dataframe thead th {\n",
       "        text-align: right;\n",
       "    }\n",
       "</style>\n",
       "<table border=\"1\" class=\"dataframe\">\n",
       "  <thead>\n",
       "    <tr style=\"text-align: right;\">\n",
       "      <th></th>\n",
       "      <th>input_text</th>\n",
       "      <th>target_text</th>\n",
       "      <th>word_count</th>\n",
       "      <th>NE_count</th>\n",
       "    </tr>\n",
       "  </thead>\n",
       "  <tbody>\n",
       "    <tr>\n",
       "      <th>85330</th>\n",
       "      <td>Chen points out that every year more than 900,...</td>\n",
       "      <td>*s* Chen | PER *e* points out that every year ...</td>\n",
       "      <td>20</td>\n",
       "      <td>2</td>\n",
       "    </tr>\n",
       "    <tr>\n",
       "      <th>114885</th>\n",
       "      <td>The high priest carries the blood of animals i...</td>\n",
       "      <td>The high priest carries the blood of animals i...</td>\n",
       "      <td>19</td>\n",
       "      <td>0</td>\n",
       "    </tr>\n",
       "    <tr>\n",
       "      <th>6635</th>\n",
       "      <td>Now this is something the Indians have been sa...</td>\n",
       "      <td>Now this is something the Indians have been sa...</td>\n",
       "      <td>11</td>\n",
       "      <td>0</td>\n",
       "    </tr>\n",
       "    <tr>\n",
       "      <th>124996</th>\n",
       "      <td>And again um everyone will have their day in c...</td>\n",
       "      <td>And again um everyone will have their day in c...</td>\n",
       "      <td>10</td>\n",
       "      <td>0</td>\n",
       "    </tr>\n",
       "    <tr>\n",
       "      <th>35183</th>\n",
       "      <td>so.</td>\n",
       "      <td>so.</td>\n",
       "      <td>1</td>\n",
       "      <td>0</td>\n",
       "    </tr>\n",
       "    <tr>\n",
       "      <th>...</th>\n",
       "      <td>...</td>\n",
       "      <td>...</td>\n",
       "      <td>...</td>\n",
       "      <td>...</td>\n",
       "    </tr>\n",
       "    <tr>\n",
       "      <th>70531</th>\n",
       "      <td>We have a president of the United States.</td>\n",
       "      <td>We have a president of *s* the United States |...</td>\n",
       "      <td>8</td>\n",
       "      <td>1</td>\n",
       "    </tr>\n",
       "    <tr>\n",
       "      <th>121277</th>\n",
       "      <td>Friends, it's always friends who help me at ke...</td>\n",
       "      <td>Friends, it's always friends who help me at ke...</td>\n",
       "      <td>10</td>\n",
       "      <td>0</td>\n",
       "    </tr>\n",
       "    <tr>\n",
       "      <th>90499</th>\n",
       "      <td>In the 46 years from the founding of new China...</td>\n",
       "      <td>In the 46 years from the founding of new *s* C...</td>\n",
       "      <td>31</td>\n",
       "      <td>1</td>\n",
       "    </tr>\n",
       "    <tr>\n",
       "      <th>20664</th>\n",
       "      <td>Right.</td>\n",
       "      <td>Right.</td>\n",
       "      <td>1</td>\n",
       "      <td>0</td>\n",
       "    </tr>\n",
       "    <tr>\n",
       "      <th>54099</th>\n",
       "      <td>But the rapid changes brought on by glasnost a...</td>\n",
       "      <td>But the rapid changes brought on by glasnost a...</td>\n",
       "      <td>21</td>\n",
       "      <td>0</td>\n",
       "    </tr>\n",
       "  </tbody>\n",
       "</table>\n",
       "<p>92386 rows × 4 columns</p>\n",
       "</div>"
      ],
      "text/plain": [
       "                                               input_text  \\\n",
       "85330   Chen points out that every year more than 900,...   \n",
       "114885  The high priest carries the blood of animals i...   \n",
       "6635    Now this is something the Indians have been sa...   \n",
       "124996  And again um everyone will have their day in c...   \n",
       "35183                                                 so.   \n",
       "...                                                   ...   \n",
       "70531           We have a president of the United States.   \n",
       "121277  Friends, it's always friends who help me at ke...   \n",
       "90499   In the 46 years from the founding of new China...   \n",
       "20664                                              Right.   \n",
       "54099   But the rapid changes brought on by glasnost a...   \n",
       "\n",
       "                                              target_text  word_count  \\\n",
       "85330   *s* Chen | PER *e* points out that every year ...          20   \n",
       "114885  The high priest carries the blood of animals i...          19   \n",
       "6635    Now this is something the Indians have been sa...          11   \n",
       "124996  And again um everyone will have their day in c...          10   \n",
       "35183                                                 so.           1   \n",
       "...                                                   ...         ...   \n",
       "70531   We have a president of *s* the United States |...           8   \n",
       "121277  Friends, it's always friends who help me at ke...          10   \n",
       "90499   In the 46 years from the founding of new *s* C...          31   \n",
       "20664                                              Right.           1   \n",
       "54099   But the rapid changes brought on by glasnost a...          21   \n",
       "\n",
       "        NE_count  \n",
       "85330          2  \n",
       "114885         0  \n",
       "6635           0  \n",
       "124996         0  \n",
       "35183          0  \n",
       "...          ...  \n",
       "70531          1  \n",
       "121277         0  \n",
       "90499          1  \n",
       "20664          0  \n",
       "54099          0  \n",
       "\n",
       "[92386 rows x 4 columns]"
      ]
     },
     "execution_count": 11,
     "metadata": {},
     "output_type": "execute_result"
    }
   ],
   "source": [
    "onto_training"
   ]
  },
  {
   "cell_type": "code",
   "execution_count": 12,
   "id": "951e6461",
   "metadata": {},
   "outputs": [
    {
     "data": {
      "text/html": [
       "<div>\n",
       "<style scoped>\n",
       "    .dataframe tbody tr th:only-of-type {\n",
       "        vertical-align: middle;\n",
       "    }\n",
       "\n",
       "    .dataframe tbody tr th {\n",
       "        vertical-align: top;\n",
       "    }\n",
       "\n",
       "    .dataframe thead th {\n",
       "        text-align: right;\n",
       "    }\n",
       "</style>\n",
       "<table border=\"1\" class=\"dataframe\">\n",
       "  <thead>\n",
       "    <tr style=\"text-align: right;\">\n",
       "      <th></th>\n",
       "      <th>input_text</th>\n",
       "      <th>target_text</th>\n",
       "      <th>word_count</th>\n",
       "      <th>NE_count</th>\n",
       "    </tr>\n",
       "  </thead>\n",
       "  <tbody>\n",
       "  </tbody>\n",
       "</table>\n",
       "</div>"
      ],
      "text/plain": [
       "Empty DataFrame\n",
       "Columns: [input_text, target_text, word_count, NE_count]\n",
       "Index: []"
      ]
     },
     "execution_count": 12,
     "metadata": {},
     "output_type": "execute_result"
    }
   ],
   "source": [
    "onto_data[onto_data['input_text'].str.contains('Cercle Brugge')]"
   ]
  },
  {
   "cell_type": "code",
   "execution_count": 13,
   "id": "87ce0f1d",
   "metadata": {},
   "outputs": [
    {
     "data": {
      "text/plain": [
       "131980"
      ]
     },
     "execution_count": 13,
     "metadata": {},
     "output_type": "execute_result"
    }
   ],
   "source": [
    "len(onto_data)"
   ]
  },
  {
   "cell_type": "code",
   "execution_count": 14,
   "id": "546bfd31",
   "metadata": {},
   "outputs": [
    {
     "name": "stdout",
     "output_type": "stream",
     "text": [
      "92386\n",
      "19797\n",
      "19797\n"
     ]
    }
   ],
   "source": [
    "print(len(onto_training))\n",
    "print(len(onto_test))\n",
    "print(len(onto_val))"
   ]
  },
  {
   "cell_type": "markdown",
   "id": "0364f007",
   "metadata": {},
   "source": [
    "# Training data"
   ]
  },
  {
   "cell_type": "markdown",
   "id": "a0b721fe",
   "metadata": {},
   "source": [
    "### Read the data from either txt files or from huggingface dataset and converting each to target form  --->  [input_text, target_text, word_count, NE_count] "
   ]
  },
  {
   "cell_type": "code",
   "execution_count": 15,
   "id": "8585c2d6",
   "metadata": {},
   "outputs": [
    {
     "data": {
      "text/html": [
       "<div>\n",
       "<style scoped>\n",
       "    .dataframe tbody tr th:only-of-type {\n",
       "        vertical-align: middle;\n",
       "    }\n",
       "\n",
       "    .dataframe tbody tr th {\n",
       "        vertical-align: top;\n",
       "    }\n",
       "\n",
       "    .dataframe thead th {\n",
       "        text-align: right;\n",
       "    }\n",
       "</style>\n",
       "<table border=\"1\" class=\"dataframe\">\n",
       "  <thead>\n",
       "    <tr style=\"text-align: right;\">\n",
       "      <th></th>\n",
       "      <th>input_text</th>\n",
       "      <th>target_text</th>\n",
       "      <th>word_count</th>\n",
       "      <th>NE_count</th>\n",
       "    </tr>\n",
       "  </thead>\n",
       "  <tbody>\n",
       "    <tr>\n",
       "      <th>0</th>\n",
       "      <td>EU rejects German call to boycott British lamb .</td>\n",
       "      <td>*s* EU | ORG *e* rejects *s* German | MISC *e*...</td>\n",
       "      <td>8</td>\n",
       "      <td>3</td>\n",
       "    </tr>\n",
       "    <tr>\n",
       "      <th>1</th>\n",
       "      <td>Peter Blackburn</td>\n",
       "      <td>*s* Peter Blackburn | PER *e*</td>\n",
       "      <td>2</td>\n",
       "      <td>2</td>\n",
       "    </tr>\n",
       "    <tr>\n",
       "      <th>2</th>\n",
       "      <td>BRUSSELS 1996-08-22</td>\n",
       "      <td>*s* BRUSSELS | LOC *e* 1996-08-22</td>\n",
       "      <td>2</td>\n",
       "      <td>1</td>\n",
       "    </tr>\n",
       "    <tr>\n",
       "      <th>3</th>\n",
       "      <td>The European Commission said on Thursday it di...</td>\n",
       "      <td>The *s* European Commission | ORG *e* said on ...</td>\n",
       "      <td>29</td>\n",
       "      <td>4</td>\n",
       "    </tr>\n",
       "    <tr>\n",
       "      <th>4</th>\n",
       "      <td>Germany 's representative to the European Unio...</td>\n",
       "      <td>*s* Germany | LOC *e* 's representative to the...</td>\n",
       "      <td>30</td>\n",
       "      <td>6</td>\n",
       "    </tr>\n",
       "    <tr>\n",
       "      <th>...</th>\n",
       "      <td>...</td>\n",
       "      <td>...</td>\n",
       "      <td>...</td>\n",
       "      <td>...</td>\n",
       "    </tr>\n",
       "    <tr>\n",
       "      <th>14036</th>\n",
       "      <td>on Friday :</td>\n",
       "      <td>on Friday :</td>\n",
       "      <td>2</td>\n",
       "      <td>0</td>\n",
       "    </tr>\n",
       "    <tr>\n",
       "      <th>14037</th>\n",
       "      <td>Division two</td>\n",
       "      <td>Division two</td>\n",
       "      <td>2</td>\n",
       "      <td>0</td>\n",
       "    </tr>\n",
       "    <tr>\n",
       "      <th>14038</th>\n",
       "      <td>Plymouth 2 Preston 1</td>\n",
       "      <td>*s* Plymouth | ORG *e* 2 *s* Preston | ORG *e* 1</td>\n",
       "      <td>4</td>\n",
       "      <td>2</td>\n",
       "    </tr>\n",
       "    <tr>\n",
       "      <th>14039</th>\n",
       "      <td>Division three</td>\n",
       "      <td>Division three</td>\n",
       "      <td>2</td>\n",
       "      <td>0</td>\n",
       "    </tr>\n",
       "    <tr>\n",
       "      <th>14040</th>\n",
       "      <td>Swansea 1 Lincoln 2</td>\n",
       "      <td>*s* Swansea | ORG *e* 1 *s* Lincoln | ORG *e* 2</td>\n",
       "      <td>4</td>\n",
       "      <td>2</td>\n",
       "    </tr>\n",
       "  </tbody>\n",
       "</table>\n",
       "<p>14041 rows × 4 columns</p>\n",
       "</div>"
      ],
      "text/plain": [
       "                                              input_text  \\\n",
       "0       EU rejects German call to boycott British lamb .   \n",
       "1                                        Peter Blackburn   \n",
       "2                                    BRUSSELS 1996-08-22   \n",
       "3      The European Commission said on Thursday it di...   \n",
       "4      Germany 's representative to the European Unio...   \n",
       "...                                                  ...   \n",
       "14036                                        on Friday :   \n",
       "14037                                       Division two   \n",
       "14038                               Plymouth 2 Preston 1   \n",
       "14039                                     Division three   \n",
       "14040                                Swansea 1 Lincoln 2   \n",
       "\n",
       "                                             target_text  word_count  NE_count  \n",
       "0      *s* EU | ORG *e* rejects *s* German | MISC *e*...           8         3  \n",
       "1                          *s* Peter Blackburn | PER *e*           2         2  \n",
       "2                      *s* BRUSSELS | LOC *e* 1996-08-22           2         1  \n",
       "3      The *s* European Commission | ORG *e* said on ...          29         4  \n",
       "4      *s* Germany | LOC *e* 's representative to the...          30         6  \n",
       "...                                                  ...         ...       ...  \n",
       "14036                                        on Friday :           2         0  \n",
       "14037                                       Division two           2         0  \n",
       "14038   *s* Plymouth | ORG *e* 2 *s* Preston | ORG *e* 1           4         2  \n",
       "14039                                     Division three           2         0  \n",
       "14040    *s* Swansea | ORG *e* 1 *s* Lincoln | ORG *e* 2           4         2  \n",
       "\n",
       "[14041 rows x 4 columns]"
      ]
     },
     "execution_count": 15,
     "metadata": {},
     "output_type": "execute_result"
    }
   ],
   "source": [
    "# CoNLL2003++ training dataset\n",
    "\n",
    "conellpp_training = parse_file_data(\"./1-NER_Data/0-raw_data/coNLL2003pp/conllpp_train.txt\", in_position=0, pos_position=3, line_len=4, sep=' ')\n",
    "conellpp_training"
   ]
  },
  {
   "cell_type": "code",
   "execution_count": 16,
   "id": "355a9d2d",
   "metadata": {},
   "outputs": [
    {
     "data": {
      "text/html": [
       "<div>\n",
       "<style scoped>\n",
       "    .dataframe tbody tr th:only-of-type {\n",
       "        vertical-align: middle;\n",
       "    }\n",
       "\n",
       "    .dataframe tbody tr th {\n",
       "        vertical-align: top;\n",
       "    }\n",
       "\n",
       "    .dataframe thead th {\n",
       "        text-align: right;\n",
       "    }\n",
       "</style>\n",
       "<table border=\"1\" class=\"dataframe\">\n",
       "  <thead>\n",
       "    <tr style=\"text-align: right;\">\n",
       "      <th></th>\n",
       "      <th>input_text</th>\n",
       "      <th>target_text</th>\n",
       "      <th>word_count</th>\n",
       "      <th>NE_count</th>\n",
       "    </tr>\n",
       "  </thead>\n",
       "  <tbody>\n",
       "    <tr>\n",
       "      <th>2546</th>\n",
       "      <td>Cup Winners ' Cup x-Cercle Brugge ( Belgium ) ...</td>\n",
       "      <td>*s* Cup Winners ' Cup | MISC *e* *s* x-Cercle ...</td>\n",
       "      <td>10</td>\n",
       "      <td>9</td>\n",
       "    </tr>\n",
       "    <tr>\n",
       "      <th>3921</th>\n",
       "      <td>Cercle Brugge 2 Mouscron 2</td>\n",
       "      <td>*s* Cercle Brugge | ORG *e* 2 *s* Mouscron | O...</td>\n",
       "      <td>5</td>\n",
       "      <td>3</td>\n",
       "    </tr>\n",
       "    <tr>\n",
       "      <th>5681</th>\n",
       "      <td>Cercle Brugge 2 Mouscron 2</td>\n",
       "      <td>*s* Cercle Brugge | ORG *e* 2 *s* Mouscron | O...</td>\n",
       "      <td>5</td>\n",
       "      <td>3</td>\n",
       "    </tr>\n",
       "    <tr>\n",
       "      <th>5703</th>\n",
       "      <td>Cercle Brugge 4 0 3 1 4 5 3</td>\n",
       "      <td>*s* Cercle Brugge | ORG *e* 4 0 3 1 4 5 3</td>\n",
       "      <td>9</td>\n",
       "      <td>2</td>\n",
       "    </tr>\n",
       "  </tbody>\n",
       "</table>\n",
       "</div>"
      ],
      "text/plain": [
       "                                             input_text  \\\n",
       "2546  Cup Winners ' Cup x-Cercle Brugge ( Belgium ) ...   \n",
       "3921                         Cercle Brugge 2 Mouscron 2   \n",
       "5681                         Cercle Brugge 2 Mouscron 2   \n",
       "5703                        Cercle Brugge 4 0 3 1 4 5 3   \n",
       "\n",
       "                                            target_text  word_count  NE_count  \n",
       "2546  *s* Cup Winners ' Cup | MISC *e* *s* x-Cercle ...          10         9  \n",
       "3921  *s* Cercle Brugge | ORG *e* 2 *s* Mouscron | O...           5         3  \n",
       "5681  *s* Cercle Brugge | ORG *e* 2 *s* Mouscron | O...           5         3  \n",
       "5703          *s* Cercle Brugge | ORG *e* 4 0 3 1 4 5 3           9         2  "
      ]
     },
     "execution_count": 16,
     "metadata": {},
     "output_type": "execute_result"
    }
   ],
   "source": [
    "conellpp_training[conellpp_training['input_text'].str.contains('Cercle Brugge')]"
   ]
  },
  {
   "cell_type": "code",
   "execution_count": 17,
   "id": "0287278e",
   "metadata": {},
   "outputs": [
    {
     "data": {
      "text/plain": [
       "input_text     Germany 's representative to the European Unio...\n",
       "target_text    *s* Germany | LOC *e* 's representative to the...\n",
       "word_count                                                    30\n",
       "NE_count                                                       6\n",
       "Name: 4, dtype: object"
      ]
     },
     "execution_count": 17,
     "metadata": {},
     "output_type": "execute_result"
    }
   ],
   "source": [
    "conellpp_training.iloc[4]"
   ]
  },
  {
   "cell_type": "code",
   "execution_count": 18,
   "id": "dc8084f0",
   "metadata": {},
   "outputs": [
    {
     "data": {
      "text/html": [
       "<div>\n",
       "<style scoped>\n",
       "    .dataframe tbody tr th:only-of-type {\n",
       "        vertical-align: middle;\n",
       "    }\n",
       "\n",
       "    .dataframe tbody tr th {\n",
       "        vertical-align: top;\n",
       "    }\n",
       "\n",
       "    .dataframe thead th {\n",
       "        text-align: right;\n",
       "    }\n",
       "</style>\n",
       "<table border=\"1\" class=\"dataframe\">\n",
       "  <thead>\n",
       "    <tr style=\"text-align: right;\">\n",
       "      <th></th>\n",
       "      <th>input_text</th>\n",
       "      <th>target_text</th>\n",
       "      <th>word_count</th>\n",
       "      <th>NE_count</th>\n",
       "    </tr>\n",
       "  </thead>\n",
       "  <tbody>\n",
       "    <tr>\n",
       "      <th>0</th>\n",
       "      <td>This division also contains the Ventana Wilder...</td>\n",
       "      <td>This division also contains the *s* Ventana Wi...</td>\n",
       "      <td>12</td>\n",
       "      <td>3</td>\n",
       "    </tr>\n",
       "    <tr>\n",
       "      <th>1</th>\n",
       "      <td>\" So here is the balance NBC has to consider :...</td>\n",
       "      <td>\" So here is the balance *s* NBC | ORG *e* has...</td>\n",
       "      <td>13</td>\n",
       "      <td>5</td>\n",
       "    </tr>\n",
       "    <tr>\n",
       "      <th>2</th>\n",
       "      <td>It is a protest song that \" creates a cinemati...</td>\n",
       "      <td>It is a protest song that \" creates a cinemati...</td>\n",
       "      <td>36</td>\n",
       "      <td>1</td>\n",
       "    </tr>\n",
       "    <tr>\n",
       "      <th>3</th>\n",
       "      <td>This differs from approaches such as IP or Eth...</td>\n",
       "      <td>This differs from approaches such as IP or *s*...</td>\n",
       "      <td>16</td>\n",
       "      <td>1</td>\n",
       "    </tr>\n",
       "    <tr>\n",
       "      <th>4</th>\n",
       "      <td>Since then , only Terry Bradshaw in 147 games ...</td>\n",
       "      <td>Since then , only *s* Terry Bradshaw | PER *e*...</td>\n",
       "      <td>25</td>\n",
       "      <td>6</td>\n",
       "    </tr>\n",
       "    <tr>\n",
       "      <th>...</th>\n",
       "      <td>...</td>\n",
       "      <td>...</td>\n",
       "      <td>...</td>\n",
       "      <td>...</td>\n",
       "    </tr>\n",
       "    <tr>\n",
       "      <th>92715</th>\n",
       "      <td>The couple had a son , David , and a daughter ...</td>\n",
       "      <td>The couple had a son , *s* David | PER *e* , a...</td>\n",
       "      <td>10</td>\n",
       "      <td>2</td>\n",
       "    </tr>\n",
       "    <tr>\n",
       "      <th>92716</th>\n",
       "      <td>The Home Secretary , J. R. Clynes , was presen...</td>\n",
       "      <td>The Home Secretary , *s* J. R. Clynes | PER *e...</td>\n",
       "      <td>12</td>\n",
       "      <td>3</td>\n",
       "    </tr>\n",
       "    <tr>\n",
       "      <th>92717</th>\n",
       "      <td>At the time of her birth , she was fourth in t...</td>\n",
       "      <td>At the time of her birth , she was fourth in t...</td>\n",
       "      <td>18</td>\n",
       "      <td>2</td>\n",
       "    </tr>\n",
       "    <tr>\n",
       "      <th>92718</th>\n",
       "      <td>The film was based on the Broadway play of the...</td>\n",
       "      <td>The film was based on the *s* Broadway | MISC ...</td>\n",
       "      <td>12</td>\n",
       "      <td>1</td>\n",
       "    </tr>\n",
       "    <tr>\n",
       "      <th>92719</th>\n",
       "      <td>The couple had two children ( both born by Cae...</td>\n",
       "      <td>The couple had two children ( both born by *s*...</td>\n",
       "      <td>25</td>\n",
       "      <td>4</td>\n",
       "    </tr>\n",
       "  </tbody>\n",
       "</table>\n",
       "<p>92720 rows × 4 columns</p>\n",
       "</div>"
      ],
      "text/plain": [
       "                                              input_text  \\\n",
       "0      This division also contains the Ventana Wilder...   \n",
       "1      \" So here is the balance NBC has to consider :...   \n",
       "2      It is a protest song that \" creates a cinemati...   \n",
       "3      This differs from approaches such as IP or Eth...   \n",
       "4      Since then , only Terry Bradshaw in 147 games ...   \n",
       "...                                                  ...   \n",
       "92715  The couple had a son , David , and a daughter ...   \n",
       "92716  The Home Secretary , J. R. Clynes , was presen...   \n",
       "92717  At the time of her birth , she was fourth in t...   \n",
       "92718  The film was based on the Broadway play of the...   \n",
       "92719  The couple had two children ( both born by Cae...   \n",
       "\n",
       "                                             target_text  word_count  NE_count  \n",
       "0      This division also contains the *s* Ventana Wi...          12         3  \n",
       "1      \" So here is the balance *s* NBC | ORG *e* has...          13         5  \n",
       "2      It is a protest song that \" creates a cinemati...          36         1  \n",
       "3      This differs from approaches such as IP or *s*...          16         1  \n",
       "4      Since then , only *s* Terry Bradshaw | PER *e*...          25         6  \n",
       "...                                                  ...         ...       ...  \n",
       "92715  The couple had a son , *s* David | PER *e* , a...          10         2  \n",
       "92716  The Home Secretary , *s* J. R. Clynes | PER *e...          12         3  \n",
       "92717  At the time of her birth , she was fourth in t...          18         2  \n",
       "92718  The film was based on the *s* Broadway | MISC ...          12         1  \n",
       "92719  The couple had two children ( both born by *s*...          25         4  \n",
       "\n",
       "[92720 rows x 4 columns]"
      ]
     },
     "execution_count": 18,
     "metadata": {},
     "output_type": "execute_result"
    }
   ],
   "source": [
    "# wikineural training dataset\n",
    "\n",
    "wikineural_training = parse_file_data(\"./1-NER_Data/0-raw_data/wikineural/train.conllu.txt\", 1, 2, 3, '\\t')\n",
    "wikineural_training"
   ]
  },
  {
   "cell_type": "code",
   "execution_count": 19,
   "id": "2ae05d6a",
   "metadata": {},
   "outputs": [],
   "source": [
    "# OntoNotes 5.0 training dataset refer section above"
   ]
  },
  {
   "cell_type": "markdown",
   "id": "58568986",
   "metadata": {},
   "source": [
    "### Adding entity as percentage of the input sentence"
   ]
  },
  {
   "cell_type": "code",
   "execution_count": 20,
   "id": "03855c63",
   "metadata": {},
   "outputs": [],
   "source": [
    "conellpp_training = add_per_NE_sent(conellpp_training)\n",
    "wikineural_training = add_per_NE_sent(wikineural_training)\n",
    "onto_training = add_per_NE_sent(onto_training)"
   ]
  },
  {
   "cell_type": "markdown",
   "id": "7d0c0c2f",
   "metadata": {},
   "source": [
    "#### conell++ training dataset"
   ]
  },
  {
   "cell_type": "code",
   "execution_count": 21,
   "id": "d56ebef0",
   "metadata": {
    "scrolled": true
   },
   "outputs": [
    {
     "name": "stdout",
     "output_type": "stream",
     "text": [
      "14041\n",
      "there are 0.2383021152339577 sentences in the range of 0:0.1\n",
      "3346\n"
     ]
    },
    {
     "data": {
      "image/png": "[encoded data removed]",
      "text/plain": [
       "<Figure size 432x288 with 1 Axes>"
      ]
     },
     "metadata": {
      "needs_background": "light"
     },
     "output_type": "display_data"
    }
   ],
   "source": [
    "plot_percent_NE = conellpp_training['%_NE_in_sentence'].value_counts().sort_index()\n",
    "plot_percent_NE.plot(kind='bar')\n",
    "print(len(conellpp_training))\n",
    "print(\"there are\", sum(plot_percent_NE.loc[0:0.01])/len(conellpp_training), \"sentences in the range of 0:0.1\")\n",
    "print(sum(plot_percent_NE.loc[0:0.01]))"
   ]
  },
  {
   "cell_type": "code",
   "execution_count": 22,
   "id": "7409823c",
   "metadata": {
    "scrolled": true
   },
   "outputs": [
    {
     "data": {
      "text/plain": [
       "<AxesSubplot:xlabel='word_count'>"
      ]
     },
     "execution_count": 22,
     "metadata": {},
     "output_type": "execute_result"
    },
    {
     "data": {
      "image/png": "[encoded data removed]",
      "text/plain": [
       "<Figure size 432x288 with 1 Axes>"
      ]
     },
     "metadata": {
      "needs_background": "light"
     },
     "output_type": "display_data"
    }
   ],
   "source": [
    "conellpp_training.groupby(by='word_count')['input_text'].count().head(10).plot(kind='bar')"
   ]
  },
  {
   "cell_type": "code",
   "execution_count": 23,
   "id": "2be5ab35",
   "metadata": {},
   "outputs": [
    {
     "data": {
      "text/html": [
       "<div>\n",
       "<style scoped>\n",
       "    .dataframe tbody tr th:only-of-type {\n",
       "        vertical-align: middle;\n",
       "    }\n",
       "\n",
       "    .dataframe tbody tr th {\n",
       "        vertical-align: top;\n",
       "    }\n",
       "\n",
       "    .dataframe thead th {\n",
       "        text-align: right;\n",
       "    }\n",
       "</style>\n",
       "<table border=\"1\" class=\"dataframe\">\n",
       "  <thead>\n",
       "    <tr style=\"text-align: right;\">\n",
       "      <th></th>\n",
       "      <th>input_text</th>\n",
       "      <th>target_text</th>\n",
       "      <th>word_count</th>\n",
       "      <th>NE_count</th>\n",
       "      <th>%_NE_in_sentence</th>\n",
       "    </tr>\n",
       "  </thead>\n",
       "  <tbody>\n",
       "    <tr>\n",
       "      <th>0</th>\n",
       "      <td>EU rejects German call to boycott British lamb .</td>\n",
       "      <td>*s* EU | ORG *e* rejects *s* German | MISC *e*...</td>\n",
       "      <td>8</td>\n",
       "      <td>3</td>\n",
       "      <td>0.4</td>\n",
       "    </tr>\n",
       "    <tr>\n",
       "      <th>1</th>\n",
       "      <td>Peter Blackburn</td>\n",
       "      <td>*s* Peter Blackburn | PER *e*</td>\n",
       "      <td>2</td>\n",
       "      <td>2</td>\n",
       "      <td>1.0</td>\n",
       "    </tr>\n",
       "    <tr>\n",
       "      <th>2</th>\n",
       "      <td>BRUSSELS 1996-08-22</td>\n",
       "      <td>*s* BRUSSELS | LOC *e* 1996-08-22</td>\n",
       "      <td>2</td>\n",
       "      <td>1</td>\n",
       "      <td>0.5</td>\n",
       "    </tr>\n",
       "    <tr>\n",
       "      <th>3</th>\n",
       "      <td>The European Commission said on Thursday it di...</td>\n",
       "      <td>The *s* European Commission | ORG *e* said on ...</td>\n",
       "      <td>29</td>\n",
       "      <td>4</td>\n",
       "      <td>0.1</td>\n",
       "    </tr>\n",
       "    <tr>\n",
       "      <th>4</th>\n",
       "      <td>Germany 's representative to the European Unio...</td>\n",
       "      <td>*s* Germany | LOC *e* 's representative to the...</td>\n",
       "      <td>30</td>\n",
       "      <td>6</td>\n",
       "      <td>0.2</td>\n",
       "    </tr>\n",
       "    <tr>\n",
       "      <th>...</th>\n",
       "      <td>...</td>\n",
       "      <td>...</td>\n",
       "      <td>...</td>\n",
       "      <td>...</td>\n",
       "      <td>...</td>\n",
       "    </tr>\n",
       "    <tr>\n",
       "      <th>13985</th>\n",
       "      <td>on Friday :</td>\n",
       "      <td>on Friday :</td>\n",
       "      <td>2</td>\n",
       "      <td>0</td>\n",
       "      <td>0.0</td>\n",
       "    </tr>\n",
       "    <tr>\n",
       "      <th>13986</th>\n",
       "      <td>Division two</td>\n",
       "      <td>Division two</td>\n",
       "      <td>2</td>\n",
       "      <td>0</td>\n",
       "      <td>0.0</td>\n",
       "    </tr>\n",
       "    <tr>\n",
       "      <th>13987</th>\n",
       "      <td>Plymouth 2 Preston 1</td>\n",
       "      <td>*s* Plymouth | ORG *e* 2 *s* Preston | ORG *e* 1</td>\n",
       "      <td>4</td>\n",
       "      <td>2</td>\n",
       "      <td>0.5</td>\n",
       "    </tr>\n",
       "    <tr>\n",
       "      <th>13988</th>\n",
       "      <td>Division three</td>\n",
       "      <td>Division three</td>\n",
       "      <td>2</td>\n",
       "      <td>0</td>\n",
       "      <td>0.0</td>\n",
       "    </tr>\n",
       "    <tr>\n",
       "      <th>13989</th>\n",
       "      <td>Swansea 1 Lincoln 2</td>\n",
       "      <td>*s* Swansea | ORG *e* 1 *s* Lincoln | ORG *e* 2</td>\n",
       "      <td>4</td>\n",
       "      <td>2</td>\n",
       "      <td>0.5</td>\n",
       "    </tr>\n",
       "  </tbody>\n",
       "</table>\n",
       "<p>13990 rows × 5 columns</p>\n",
       "</div>"
      ],
      "text/plain": [
       "                                              input_text  \\\n",
       "0       EU rejects German call to boycott British lamb .   \n",
       "1                                        Peter Blackburn   \n",
       "2                                    BRUSSELS 1996-08-22   \n",
       "3      The European Commission said on Thursday it di...   \n",
       "4      Germany 's representative to the European Unio...   \n",
       "...                                                  ...   \n",
       "13985                                        on Friday :   \n",
       "13986                                       Division two   \n",
       "13987                               Plymouth 2 Preston 1   \n",
       "13988                                     Division three   \n",
       "13989                                Swansea 1 Lincoln 2   \n",
       "\n",
       "                                             target_text  word_count  \\\n",
       "0      *s* EU | ORG *e* rejects *s* German | MISC *e*...           8   \n",
       "1                          *s* Peter Blackburn | PER *e*           2   \n",
       "2                      *s* BRUSSELS | LOC *e* 1996-08-22           2   \n",
       "3      The *s* European Commission | ORG *e* said on ...          29   \n",
       "4      *s* Germany | LOC *e* 's representative to the...          30   \n",
       "...                                                  ...         ...   \n",
       "13985                                        on Friday :           2   \n",
       "13986                                       Division two           2   \n",
       "13987   *s* Plymouth | ORG *e* 2 *s* Preston | ORG *e* 1           4   \n",
       "13988                                     Division three           2   \n",
       "13989    *s* Swansea | ORG *e* 1 *s* Lincoln | ORG *e* 2           4   \n",
       "\n",
       "       NE_count  %_NE_in_sentence  \n",
       "0             3               0.4  \n",
       "1             2               1.0  \n",
       "2             1               0.5  \n",
       "3             4               0.1  \n",
       "4             6               0.2  \n",
       "...         ...               ...  \n",
       "13985         0               0.0  \n",
       "13986         0               0.0  \n",
       "13987         2               0.5  \n",
       "13988         0               0.0  \n",
       "13989         2               0.5  \n",
       "\n",
       "[13990 rows x 5 columns]"
      ]
     },
     "execution_count": 23,
     "metadata": {},
     "output_type": "execute_result"
    }
   ],
   "source": [
    "conellpp_training = conellpp_training.drop(conellpp_training.loc[conellpp_training['word_count'] == 0].index).reset_index(drop=True)\n",
    "conellpp_training"
   ]
  },
  {
   "cell_type": "markdown",
   "id": "86effccb",
   "metadata": {},
   "source": [
    "#### Wikineiral training dataset"
   ]
  },
  {
   "cell_type": "code",
   "execution_count": 24,
   "id": "976cbf6d",
   "metadata": {
    "scrolled": true
   },
   "outputs": [
    {
     "name": "stdout",
     "output_type": "stream",
     "text": [
      "92720\n",
      "there are 0.14910483175150993 sentences in the range of 0:0.1\n",
      "13825\n"
     ]
    },
    {
     "data": {
      "image/png": "[encoded data removed]",
      "text/plain": [
       "<Figure size 432x288 with 1 Axes>"
      ]
     },
     "metadata": {
      "needs_background": "light"
     },
     "output_type": "display_data"
    }
   ],
   "source": [
    "plot_percent_NE = wikineural_training['%_NE_in_sentence'].value_counts().sort_index()\n",
    "plot_percent_NE.plot(kind='bar')\n",
    "print(len(wikineural_training))\n",
    "print(\"there are\", sum(plot_percent_NE.loc[0:0.01])/len(wikineural_training), \"sentences in the range of 0:0.1\")\n",
    "print(sum(plot_percent_NE.loc[0:0.01]))"
   ]
  },
  {
   "cell_type": "code",
   "execution_count": 25,
   "id": "5de1de69",
   "metadata": {},
   "outputs": [
    {
     "data": {
      "text/plain": [
       "<AxesSubplot:xlabel='word_count'>"
      ]
     },
     "execution_count": 25,
     "metadata": {},
     "output_type": "execute_result"
    },
    {
     "data": {
      "image/png": "[encoded data removed]",
      "text/plain": [
       "<Figure size 432x288 with 1 Axes>"
      ]
     },
     "metadata": {
      "needs_background": "light"
     },
     "output_type": "display_data"
    }
   ],
   "source": [
    "wikineural_training.groupby(by='word_count')['input_text'].count().head(10).plot(kind='bar')"
   ]
  },
  {
   "cell_type": "markdown",
   "id": "98d447c4",
   "metadata": {},
   "source": [
    "#### Onto training dataset"
   ]
  },
  {
   "cell_type": "code",
   "execution_count": 26,
   "id": "04b6fb60",
   "metadata": {},
   "outputs": [
    {
     "name": "stdout",
     "output_type": "stream",
     "text": [
      "92386\n",
      "there are 0.7079102894377937 sentences in the range of 0:0.1\n",
      "65401\n"
     ]
    },
    {
     "data": {
      "image/png": "[encoded data removed]",
      "text/plain": [
       "<Figure size 432x288 with 1 Axes>"
      ]
     },
     "metadata": {
      "needs_background": "light"
     },
     "output_type": "display_data"
    }
   ],
   "source": [
    "plot_percent_NE = onto_training['%_NE_in_sentence'].value_counts().sort_index()\n",
    "plot_percent_NE.plot(kind='bar')\n",
    "print(len(onto_training))\n",
    "print(\"there are\", sum(plot_percent_NE.loc[0:0.01])/len(onto_training), \"sentences in the range of 0:0.1\")\n",
    "print(sum(plot_percent_NE.loc[0:0.01]))"
   ]
  },
  {
   "cell_type": "code",
   "execution_count": 27,
   "id": "b8b8e286",
   "metadata": {},
   "outputs": [
    {
     "data": {
      "text/html": [
       "<div>\n",
       "<style scoped>\n",
       "    .dataframe tbody tr th:only-of-type {\n",
       "        vertical-align: middle;\n",
       "    }\n",
       "\n",
       "    .dataframe tbody tr th {\n",
       "        vertical-align: top;\n",
       "    }\n",
       "\n",
       "    .dataframe thead th {\n",
       "        text-align: right;\n",
       "    }\n",
       "</style>\n",
       "<table border=\"1\" class=\"dataframe\">\n",
       "  <thead>\n",
       "    <tr style=\"text-align: right;\">\n",
       "      <th></th>\n",
       "      <th>input_text</th>\n",
       "      <th>target_text</th>\n",
       "      <th>word_count</th>\n",
       "      <th>NE_count</th>\n",
       "      <th>%_NE_in_sentence</th>\n",
       "    </tr>\n",
       "  </thead>\n",
       "  <tbody>\n",
       "    <tr>\n",
       "      <th>0</th>\n",
       "      <td>Chen points out that every year more than 900,...</td>\n",
       "      <td>*s* Chen | PER *e* points out that every year ...</td>\n",
       "      <td>20</td>\n",
       "      <td>2</td>\n",
       "      <td>0.1</td>\n",
       "    </tr>\n",
       "    <tr>\n",
       "      <th>1</th>\n",
       "      <td>And again um everyone will have their day in c...</td>\n",
       "      <td>And again um everyone will have their day in c...</td>\n",
       "      <td>10</td>\n",
       "      <td>0</td>\n",
       "      <td>0.0</td>\n",
       "    </tr>\n",
       "    <tr>\n",
       "      <th>2</th>\n",
       "      <td>so.</td>\n",
       "      <td>so.</td>\n",
       "      <td>1</td>\n",
       "      <td>0</td>\n",
       "      <td>0.0</td>\n",
       "    </tr>\n",
       "    <tr>\n",
       "      <th>3</th>\n",
       "      <td>I mean oh you 're a secretary</td>\n",
       "      <td>I mean oh you 're a secretary</td>\n",
       "      <td>7</td>\n",
       "      <td>0</td>\n",
       "      <td>0.0</td>\n",
       "    </tr>\n",
       "    <tr>\n",
       "      <th>4</th>\n",
       "      <td>It ca n't be said that any oil producing count...</td>\n",
       "      <td>It ca n't be said that any oil producing count...</td>\n",
       "      <td>25</td>\n",
       "      <td>0</td>\n",
       "      <td>0.0</td>\n",
       "    </tr>\n",
       "    <tr>\n",
       "      <th>...</th>\n",
       "      <td>...</td>\n",
       "      <td>...</td>\n",
       "      <td>...</td>\n",
       "      <td>...</td>\n",
       "      <td>...</td>\n",
       "    </tr>\n",
       "    <tr>\n",
       "      <th>48780</th>\n",
       "      <td>A ship is very big, and it is pushed by strong...</td>\n",
       "      <td>A ship is very big, and it is pushed by strong...</td>\n",
       "      <td>12</td>\n",
       "      <td>0</td>\n",
       "      <td>0.0</td>\n",
       "    </tr>\n",
       "    <tr>\n",
       "      <th>48781</th>\n",
       "      <td>So I had known him more than ten-fifteen years...</td>\n",
       "      <td>So I had known him more than ten-fifteen years...</td>\n",
       "      <td>13</td>\n",
       "      <td>0</td>\n",
       "      <td>0.0</td>\n",
       "    </tr>\n",
       "    <tr>\n",
       "      <th>48782</th>\n",
       "      <td>Comcast Corp.--$ 150 million convertible deben...</td>\n",
       "      <td>*s* Comcast Corp. | ORG *e*--$ 150 million con...</td>\n",
       "      <td>11</td>\n",
       "      <td>2</td>\n",
       "      <td>0.2</td>\n",
       "    </tr>\n",
       "    <tr>\n",
       "      <th>48783</th>\n",
       "      <td>We have a president of the United States.</td>\n",
       "      <td>We have a president of *s* the United States |...</td>\n",
       "      <td>8</td>\n",
       "      <td>1</td>\n",
       "      <td>0.1</td>\n",
       "    </tr>\n",
       "    <tr>\n",
       "      <th>48784</th>\n",
       "      <td>In the 46 years from the founding of new China...</td>\n",
       "      <td>In the 46 years from the founding of new *s* C...</td>\n",
       "      <td>31</td>\n",
       "      <td>1</td>\n",
       "      <td>0.0</td>\n",
       "    </tr>\n",
       "  </tbody>\n",
       "</table>\n",
       "<p>48785 rows × 5 columns</p>\n",
       "</div>"
      ],
      "text/plain": [
       "                                              input_text  \\\n",
       "0      Chen points out that every year more than 900,...   \n",
       "1      And again um everyone will have their day in c...   \n",
       "2                                                    so.   \n",
       "3                          I mean oh you 're a secretary   \n",
       "4      It ca n't be said that any oil producing count...   \n",
       "...                                                  ...   \n",
       "48780  A ship is very big, and it is pushed by strong...   \n",
       "48781  So I had known him more than ten-fifteen years...   \n",
       "48782  Comcast Corp.--$ 150 million convertible deben...   \n",
       "48783          We have a president of the United States.   \n",
       "48784  In the 46 years from the founding of new China...   \n",
       "\n",
       "                                             target_text  word_count  \\\n",
       "0      *s* Chen | PER *e* points out that every year ...          20   \n",
       "1      And again um everyone will have their day in c...          10   \n",
       "2                                                    so.           1   \n",
       "3                          I mean oh you 're a secretary           7   \n",
       "4      It ca n't be said that any oil producing count...          25   \n",
       "...                                                  ...         ...   \n",
       "48780  A ship is very big, and it is pushed by strong...          12   \n",
       "48781  So I had known him more than ten-fifteen years...          13   \n",
       "48782  *s* Comcast Corp. | ORG *e*--$ 150 million con...          11   \n",
       "48783  We have a president of *s* the United States |...           8   \n",
       "48784  In the 46 years from the founding of new *s* C...          31   \n",
       "\n",
       "       NE_count  %_NE_in_sentence  \n",
       "0             2               0.1  \n",
       "1             0               0.0  \n",
       "2             0               0.0  \n",
       "3             0               0.0  \n",
       "4             0               0.0  \n",
       "...         ...               ...  \n",
       "48780         0               0.0  \n",
       "48781         0               0.0  \n",
       "48782         2               0.2  \n",
       "48783         1               0.1  \n",
       "48784         1               0.0  \n",
       "\n",
       "[48785 rows x 5 columns]"
      ]
     },
     "execution_count": 27,
     "metadata": {},
     "output_type": "execute_result"
    }
   ],
   "source": [
    "# dropping half of the rows with zero entities randomly\n",
    "\n",
    "np.random.seed(10)\n",
    "zero_entities = onto_training.loc[onto_training['%_NE_in_sentence']==0].index\n",
    "#TODO: take 1/5 of the entities with 0 entities .. so that the overall (combined) dataset has less than or equal to 15%\n",
    "remove_n = round(len(zero_entities)*2/3)\n",
    "\n",
    "\n",
    "drop_indices = np.random.choice(zero_entities, remove_n, replace=False)\n",
    "onto_training = onto_training.drop(drop_indices).reset_index(drop=True)\n",
    "onto_training"
   ]
  },
  {
   "cell_type": "code",
   "execution_count": 28,
   "id": "53732759",
   "metadata": {},
   "outputs": [
    {
     "name": "stdout",
     "output_type": "stream",
     "text": [
      "48785\n",
      "there are 0.44685866557343445 sentences in the range of 0:0.1\n",
      "21800\n"
     ]
    },
    {
     "data": {
      "image/png": "[encoded data removed]",
      "text/plain": [
       "<Figure size 432x288 with 1 Axes>"
      ]
     },
     "metadata": {
      "needs_background": "light"
     },
     "output_type": "display_data"
    }
   ],
   "source": [
    "plot_percent_NE = onto_training['%_NE_in_sentence'].value_counts().sort_index()\n",
    "plot_percent_NE.plot(kind='bar')\n",
    "print(len(onto_training))\n",
    "print(\"there are\", sum(plot_percent_NE.loc[0:0.01])/len(onto_training), \"sentences in the range of 0:0.1\")\n",
    "print(sum(plot_percent_NE.loc[0:0.01]))"
   ]
  },
  {
   "cell_type": "code",
   "execution_count": 29,
   "id": "87f44356",
   "metadata": {},
   "outputs": [
    {
     "data": {
      "text/plain": [
       "<AxesSubplot:xlabel='word_count'>"
      ]
     },
     "execution_count": 29,
     "metadata": {},
     "output_type": "execute_result"
    },
    {
     "data": {
      "image/png": "[encoded data removed]",
      "text/plain": [
       "<Figure size 432x288 with 1 Axes>"
      ]
     },
     "metadata": {
      "needs_background": "light"
     },
     "output_type": "display_data"
    }
   ],
   "source": [
    "onto_training.groupby(by='word_count')['input_text'].count().head(10).plot(kind='bar')"
   ]
  },
  {
   "cell_type": "markdown",
   "id": "c4259c69",
   "metadata": {},
   "source": [
    "### Combining the datasets"
   ]
  },
  {
   "cell_type": "code",
   "execution_count": 30,
   "id": "011a7fdf",
   "metadata": {},
   "outputs": [
    {
     "data": {
      "text/html": [
       "<div>\n",
       "<style scoped>\n",
       "    .dataframe tbody tr th:only-of-type {\n",
       "        vertical-align: middle;\n",
       "    }\n",
       "\n",
       "    .dataframe tbody tr th {\n",
       "        vertical-align: top;\n",
       "    }\n",
       "\n",
       "    .dataframe thead th {\n",
       "        text-align: right;\n",
       "    }\n",
       "</style>\n",
       "<table border=\"1\" class=\"dataframe\">\n",
       "  <thead>\n",
       "    <tr style=\"text-align: right;\">\n",
       "      <th></th>\n",
       "      <th>input_text</th>\n",
       "      <th>target_text</th>\n",
       "      <th>word_count</th>\n",
       "      <th>NE_count</th>\n",
       "      <th>%_NE_in_sentence</th>\n",
       "    </tr>\n",
       "  </thead>\n",
       "  <tbody>\n",
       "    <tr>\n",
       "      <th>0</th>\n",
       "      <td>EU rejects German call to boycott British lamb .</td>\n",
       "      <td>*s* EU | ORG *e* rejects *s* German | MISC *e*...</td>\n",
       "      <td>8</td>\n",
       "      <td>3</td>\n",
       "      <td>0.4</td>\n",
       "    </tr>\n",
       "    <tr>\n",
       "      <th>1</th>\n",
       "      <td>Peter Blackburn</td>\n",
       "      <td>*s* Peter Blackburn | PER *e*</td>\n",
       "      <td>2</td>\n",
       "      <td>2</td>\n",
       "      <td>1.0</td>\n",
       "    </tr>\n",
       "    <tr>\n",
       "      <th>2</th>\n",
       "      <td>BRUSSELS 1996-08-22</td>\n",
       "      <td>*s* BRUSSELS | LOC *e* 1996-08-22</td>\n",
       "      <td>2</td>\n",
       "      <td>1</td>\n",
       "      <td>0.5</td>\n",
       "    </tr>\n",
       "    <tr>\n",
       "      <th>3</th>\n",
       "      <td>The European Commission said on Thursday it di...</td>\n",
       "      <td>The *s* European Commission | ORG *e* said on ...</td>\n",
       "      <td>29</td>\n",
       "      <td>4</td>\n",
       "      <td>0.1</td>\n",
       "    </tr>\n",
       "    <tr>\n",
       "      <th>4</th>\n",
       "      <td>Germany 's representative to the European Unio...</td>\n",
       "      <td>*s* Germany | LOC *e* 's representative to the...</td>\n",
       "      <td>30</td>\n",
       "      <td>6</td>\n",
       "      <td>0.2</td>\n",
       "    </tr>\n",
       "    <tr>\n",
       "      <th>...</th>\n",
       "      <td>...</td>\n",
       "      <td>...</td>\n",
       "      <td>...</td>\n",
       "      <td>...</td>\n",
       "      <td>...</td>\n",
       "    </tr>\n",
       "    <tr>\n",
       "      <th>152545</th>\n",
       "      <td>A ship is very big, and it is pushed by strong...</td>\n",
       "      <td>A ship is very big, and it is pushed by strong...</td>\n",
       "      <td>12</td>\n",
       "      <td>0</td>\n",
       "      <td>0.0</td>\n",
       "    </tr>\n",
       "    <tr>\n",
       "      <th>152546</th>\n",
       "      <td>So I had known him more than ten-fifteen years...</td>\n",
       "      <td>So I had known him more than ten-fifteen years...</td>\n",
       "      <td>13</td>\n",
       "      <td>0</td>\n",
       "      <td>0.0</td>\n",
       "    </tr>\n",
       "    <tr>\n",
       "      <th>152547</th>\n",
       "      <td>Comcast Corp.--$ 150 million convertible deben...</td>\n",
       "      <td>*s* Comcast Corp. | ORG *e*--$ 150 million con...</td>\n",
       "      <td>11</td>\n",
       "      <td>2</td>\n",
       "      <td>0.2</td>\n",
       "    </tr>\n",
       "    <tr>\n",
       "      <th>152548</th>\n",
       "      <td>We have a president of the United States.</td>\n",
       "      <td>We have a president of *s* the United States |...</td>\n",
       "      <td>8</td>\n",
       "      <td>1</td>\n",
       "      <td>0.1</td>\n",
       "    </tr>\n",
       "    <tr>\n",
       "      <th>152549</th>\n",
       "      <td>In the 46 years from the founding of new China...</td>\n",
       "      <td>In the 46 years from the founding of new *s* C...</td>\n",
       "      <td>31</td>\n",
       "      <td>1</td>\n",
       "      <td>0.0</td>\n",
       "    </tr>\n",
       "  </tbody>\n",
       "</table>\n",
       "<p>152550 rows × 5 columns</p>\n",
       "</div>"
      ],
      "text/plain": [
       "                                               input_text  \\\n",
       "0        EU rejects German call to boycott British lamb .   \n",
       "1                                         Peter Blackburn   \n",
       "2                                     BRUSSELS 1996-08-22   \n",
       "3       The European Commission said on Thursday it di...   \n",
       "4       Germany 's representative to the European Unio...   \n",
       "...                                                   ...   \n",
       "152545  A ship is very big, and it is pushed by strong...   \n",
       "152546  So I had known him more than ten-fifteen years...   \n",
       "152547  Comcast Corp.--$ 150 million convertible deben...   \n",
       "152548          We have a president of the United States.   \n",
       "152549  In the 46 years from the founding of new China...   \n",
       "\n",
       "                                              target_text  word_count  \\\n",
       "0       *s* EU | ORG *e* rejects *s* German | MISC *e*...           8   \n",
       "1                           *s* Peter Blackburn | PER *e*           2   \n",
       "2                       *s* BRUSSELS | LOC *e* 1996-08-22           2   \n",
       "3       The *s* European Commission | ORG *e* said on ...          29   \n",
       "4       *s* Germany | LOC *e* 's representative to the...          30   \n",
       "...                                                   ...         ...   \n",
       "152545  A ship is very big, and it is pushed by strong...          12   \n",
       "152546  So I had known him more than ten-fifteen years...          13   \n",
       "152547  *s* Comcast Corp. | ORG *e*--$ 150 million con...          11   \n",
       "152548  We have a president of *s* the United States |...           8   \n",
       "152549  In the 46 years from the founding of new *s* C...          31   \n",
       "\n",
       "        NE_count  %_NE_in_sentence  \n",
       "0              3               0.4  \n",
       "1              2               1.0  \n",
       "2              1               0.5  \n",
       "3              4               0.1  \n",
       "4              6               0.2  \n",
       "...          ...               ...  \n",
       "152545         0               0.0  \n",
       "152546         0               0.0  \n",
       "152547         2               0.2  \n",
       "152548         1               0.1  \n",
       "152549         1               0.0  \n",
       "\n",
       "[152550 rows x 5 columns]"
      ]
     },
     "execution_count": 30,
     "metadata": {},
     "output_type": "execute_result"
    }
   ],
   "source": [
    "combined_df = pd.concat([conellpp_training, wikineural_training, onto_training], ignore_index=True)\n",
    "combined_df = combined_df.drop_duplicates().reset_index(drop=True)\n",
    "combined_df"
   ]
  },
  {
   "cell_type": "markdown",
   "id": "3c4b1fa8",
   "metadata": {},
   "source": [
    "### creating a lowercase and uppercase versions of the training data (not needed)"
   ]
  },
  {
   "cell_type": "code",
   "execution_count": 31,
   "id": "135bb9ba",
   "metadata": {},
   "outputs": [
    {
     "data": {
      "text/html": [
       "<div>\n",
       "<style scoped>\n",
       "    .dataframe tbody tr th:only-of-type {\n",
       "        vertical-align: middle;\n",
       "    }\n",
       "\n",
       "    .dataframe tbody tr th {\n",
       "        vertical-align: top;\n",
       "    }\n",
       "\n",
       "    .dataframe thead th {\n",
       "        text-align: right;\n",
       "    }\n",
       "</style>\n",
       "<table border=\"1\" class=\"dataframe\">\n",
       "  <thead>\n",
       "    <tr style=\"text-align: right;\">\n",
       "      <th></th>\n",
       "      <th>input_text</th>\n",
       "      <th>target_text</th>\n",
       "    </tr>\n",
       "  </thead>\n",
       "  <tbody>\n",
       "    <tr>\n",
       "      <th>0</th>\n",
       "      <td>eu rejects german call to boycott british lamb .</td>\n",
       "      <td>*s* eu | org *e* rejects *s* german | misc *e*...</td>\n",
       "    </tr>\n",
       "    <tr>\n",
       "      <th>1</th>\n",
       "      <td>peter blackburn</td>\n",
       "      <td>*s* peter blackburn | per *e*</td>\n",
       "    </tr>\n",
       "    <tr>\n",
       "      <th>2</th>\n",
       "      <td>brussels 1996-08-22</td>\n",
       "      <td>*s* brussels | loc *e* 1996-08-22</td>\n",
       "    </tr>\n",
       "    <tr>\n",
       "      <th>3</th>\n",
       "      <td>the european commission said on thursday it di...</td>\n",
       "      <td>the *s* european commission | org *e* said on ...</td>\n",
       "    </tr>\n",
       "    <tr>\n",
       "      <th>4</th>\n",
       "      <td>germany 's representative to the european unio...</td>\n",
       "      <td>*s* germany | loc *e* 's representative to the...</td>\n",
       "    </tr>\n",
       "    <tr>\n",
       "      <th>...</th>\n",
       "      <td>...</td>\n",
       "      <td>...</td>\n",
       "    </tr>\n",
       "    <tr>\n",
       "      <th>152545</th>\n",
       "      <td>a ship is very big, and it is pushed by strong...</td>\n",
       "      <td>a ship is very big, and it is pushed by strong...</td>\n",
       "    </tr>\n",
       "    <tr>\n",
       "      <th>152546</th>\n",
       "      <td>so i had known him more than ten-fifteen years...</td>\n",
       "      <td>so i had known him more than ten-fifteen years...</td>\n",
       "    </tr>\n",
       "    <tr>\n",
       "      <th>152547</th>\n",
       "      <td>comcast corp.--$ 150 million convertible deben...</td>\n",
       "      <td>*s* comcast corp. | org *e*--$ 150 million con...</td>\n",
       "    </tr>\n",
       "    <tr>\n",
       "      <th>152548</th>\n",
       "      <td>we have a president of the united states.</td>\n",
       "      <td>we have a president of *s* the united states |...</td>\n",
       "    </tr>\n",
       "    <tr>\n",
       "      <th>152549</th>\n",
       "      <td>in the 46 years from the founding of new china...</td>\n",
       "      <td>in the 46 years from the founding of new *s* c...</td>\n",
       "    </tr>\n",
       "  </tbody>\n",
       "</table>\n",
       "<p>152550 rows × 2 columns</p>\n",
       "</div>"
      ],
      "text/plain": [
       "                                               input_text  \\\n",
       "0        eu rejects german call to boycott british lamb .   \n",
       "1                                         peter blackburn   \n",
       "2                                     brussels 1996-08-22   \n",
       "3       the european commission said on thursday it di...   \n",
       "4       germany 's representative to the european unio...   \n",
       "...                                                   ...   \n",
       "152545  a ship is very big, and it is pushed by strong...   \n",
       "152546  so i had known him more than ten-fifteen years...   \n",
       "152547  comcast corp.--$ 150 million convertible deben...   \n",
       "152548          we have a president of the united states.   \n",
       "152549  in the 46 years from the founding of new china...   \n",
       "\n",
       "                                              target_text  \n",
       "0       *s* eu | org *e* rejects *s* german | misc *e*...  \n",
       "1                           *s* peter blackburn | per *e*  \n",
       "2                       *s* brussels | loc *e* 1996-08-22  \n",
       "3       the *s* european commission | org *e* said on ...  \n",
       "4       *s* germany | loc *e* 's representative to the...  \n",
       "...                                                   ...  \n",
       "152545  a ship is very big, and it is pushed by strong...  \n",
       "152546  so i had known him more than ten-fifteen years...  \n",
       "152547  *s* comcast corp. | org *e*--$ 150 million con...  \n",
       "152548  we have a president of *s* the united states |...  \n",
       "152549  in the 46 years from the founding of new *s* c...  \n",
       "\n",
       "[152550 rows x 2 columns]"
      ]
     },
     "execution_count": 31,
     "metadata": {},
     "output_type": "execute_result"
    }
   ],
   "source": [
    "lower_training = lower_case_df(combined_df)\n",
    "lower_training"
   ]
  },
  {
   "cell_type": "code",
   "execution_count": 32,
   "id": "6d10e323",
   "metadata": {},
   "outputs": [],
   "source": [
    "upper_training = upper_case_df(combined_df)"
   ]
  },
  {
   "cell_type": "code",
   "execution_count": 33,
   "id": "ba2231bf",
   "metadata": {},
   "outputs": [
    {
     "data": {
      "text/html": [
       "<div>\n",
       "<style scoped>\n",
       "    .dataframe tbody tr th:only-of-type {\n",
       "        vertical-align: middle;\n",
       "    }\n",
       "\n",
       "    .dataframe tbody tr th {\n",
       "        vertical-align: top;\n",
       "    }\n",
       "\n",
       "    .dataframe thead th {\n",
       "        text-align: right;\n",
       "    }\n",
       "</style>\n",
       "<table border=\"1\" class=\"dataframe\">\n",
       "  <thead>\n",
       "    <tr style=\"text-align: right;\">\n",
       "      <th></th>\n",
       "      <th>input_text</th>\n",
       "      <th>target_text</th>\n",
       "      <th>word_count</th>\n",
       "      <th>NE_count</th>\n",
       "      <th>%_NE_in_sentence</th>\n",
       "    </tr>\n",
       "  </thead>\n",
       "  <tbody>\n",
       "    <tr>\n",
       "      <th>0</th>\n",
       "      <td>mr. windsor notified everett e. briggs, the u....</td>\n",
       "      <td>mr. *s* windsor | per *e* notified *s* everett...</td>\n",
       "      <td>NaN</td>\n",
       "      <td>NaN</td>\n",
       "      <td>NaN</td>\n",
       "    </tr>\n",
       "    <tr>\n",
       "      <th>1</th>\n",
       "      <td>he retired the first 11 batters before giving ...</td>\n",
       "      <td>he retired the first 11 batters before giving ...</td>\n",
       "      <td>NaN</td>\n",
       "      <td>NaN</td>\n",
       "      <td>NaN</td>\n",
       "    </tr>\n",
       "    <tr>\n",
       "      <th>2</th>\n",
       "      <td>the second phase project of fangchenggang city...</td>\n",
       "      <td>the second phase project of *s* fangchenggang ...</td>\n",
       "      <td>NaN</td>\n",
       "      <td>NaN</td>\n",
       "      <td>NaN</td>\n",
       "    </tr>\n",
       "    <tr>\n",
       "      <th>3</th>\n",
       "      <td>North Devon is very rural with few major towns...</td>\n",
       "      <td>*s* North Devon | LOC *e* is very rural with f...</td>\n",
       "      <td>16.0</td>\n",
       "      <td>7.0</td>\n",
       "      <td>0.4</td>\n",
       "    </tr>\n",
       "    <tr>\n",
       "      <th>4</th>\n",
       "      <td>at one time it was home to more than 70 mps , ...</td>\n",
       "      <td>at one time it was home to more than 70 mps , ...</td>\n",
       "      <td>NaN</td>\n",
       "      <td>NaN</td>\n",
       "      <td>NaN</td>\n",
       "    </tr>\n",
       "    <tr>\n",
       "      <th>...</th>\n",
       "      <td>...</td>\n",
       "      <td>...</td>\n",
       "      <td>...</td>\n",
       "      <td>...</td>\n",
       "      <td>...</td>\n",
       "    </tr>\n",
       "    <tr>\n",
       "      <th>305095</th>\n",
       "      <td>it is free and open-source software , released...</td>\n",
       "      <td>it is free and open-source software , released...</td>\n",
       "      <td>NaN</td>\n",
       "      <td>NaN</td>\n",
       "      <td>NaN</td>\n",
       "    </tr>\n",
       "    <tr>\n",
       "      <th>305096</th>\n",
       "      <td>`` where the hell are they gon na live when pe...</td>\n",
       "      <td>`` where the hell are they gon na live when pe...</td>\n",
       "      <td>NaN</td>\n",
       "      <td>NaN</td>\n",
       "      <td>NaN</td>\n",
       "    </tr>\n",
       "    <tr>\n",
       "      <th>305097</th>\n",
       "      <td>the annual grand national horse race takes pla...</td>\n",
       "      <td>the annual *s* grand national | misc *e* horse...</td>\n",
       "      <td>NaN</td>\n",
       "      <td>NaN</td>\n",
       "      <td>NaN</td>\n",
       "    </tr>\n",
       "    <tr>\n",
       "      <th>305098</th>\n",
       "      <td>President Clinton will host a meeting at the W...</td>\n",
       "      <td>President *s* Clinton | PER *e* will host a me...</td>\n",
       "      <td>22.0</td>\n",
       "      <td>5.0</td>\n",
       "      <td>0.2</td>\n",
       "    </tr>\n",
       "    <tr>\n",
       "      <th>305099</th>\n",
       "      <td>any settlement is also expected to exclude mr....</td>\n",
       "      <td>any settlement is also expected to exclude mr....</td>\n",
       "      <td>NaN</td>\n",
       "      <td>NaN</td>\n",
       "      <td>NaN</td>\n",
       "    </tr>\n",
       "  </tbody>\n",
       "</table>\n",
       "<p>305100 rows × 5 columns</p>\n",
       "</div>"
      ],
      "text/plain": [
       "                                               input_text  \\\n",
       "0       mr. windsor notified everett e. briggs, the u....   \n",
       "1       he retired the first 11 batters before giving ...   \n",
       "2       the second phase project of fangchenggang city...   \n",
       "3       North Devon is very rural with few major towns...   \n",
       "4       at one time it was home to more than 70 mps , ...   \n",
       "...                                                   ...   \n",
       "305095  it is free and open-source software , released...   \n",
       "305096  `` where the hell are they gon na live when pe...   \n",
       "305097  the annual grand national horse race takes pla...   \n",
       "305098  President Clinton will host a meeting at the W...   \n",
       "305099  any settlement is also expected to exclude mr....   \n",
       "\n",
       "                                              target_text  word_count  \\\n",
       "0       mr. *s* windsor | per *e* notified *s* everett...         NaN   \n",
       "1       he retired the first 11 batters before giving ...         NaN   \n",
       "2       the second phase project of *s* fangchenggang ...         NaN   \n",
       "3       *s* North Devon | LOC *e* is very rural with f...        16.0   \n",
       "4       at one time it was home to more than 70 mps , ...         NaN   \n",
       "...                                                   ...         ...   \n",
       "305095  it is free and open-source software , released...         NaN   \n",
       "305096  `` where the hell are they gon na live when pe...         NaN   \n",
       "305097  the annual *s* grand national | misc *e* horse...         NaN   \n",
       "305098  President *s* Clinton | PER *e* will host a me...        22.0   \n",
       "305099  any settlement is also expected to exclude mr....         NaN   \n",
       "\n",
       "        NE_count  %_NE_in_sentence  \n",
       "0            NaN               NaN  \n",
       "1            NaN               NaN  \n",
       "2            NaN               NaN  \n",
       "3            7.0               0.4  \n",
       "4            NaN               NaN  \n",
       "...          ...               ...  \n",
       "305095       NaN               NaN  \n",
       "305096       NaN               NaN  \n",
       "305097       NaN               NaN  \n",
       "305098       5.0               0.2  \n",
       "305099       NaN               NaN  \n",
       "\n",
       "[305100 rows x 5 columns]"
      ]
     },
     "execution_count": 33,
     "metadata": {},
     "output_type": "execute_result"
    }
   ],
   "source": [
    "lower_normal_training = pd.concat([lower_training, combined_df])\n",
    "lower_normal_training = lower_normal_training.sample(frac=1, random_state=1).reset_index(drop=True)\n",
    "lower_normal_training"
   ]
  },
  {
   "cell_type": "code",
   "execution_count": 34,
   "id": "60ffc7a1",
   "metadata": {},
   "outputs": [
    {
     "data": {
      "text/html": [
       "<div>\n",
       "<style scoped>\n",
       "    .dataframe tbody tr th:only-of-type {\n",
       "        vertical-align: middle;\n",
       "    }\n",
       "\n",
       "    .dataframe tbody tr th {\n",
       "        vertical-align: top;\n",
       "    }\n",
       "\n",
       "    .dataframe thead th {\n",
       "        text-align: right;\n",
       "    }\n",
       "</style>\n",
       "<table border=\"1\" class=\"dataframe\">\n",
       "  <thead>\n",
       "    <tr style=\"text-align: right;\">\n",
       "      <th></th>\n",
       "      <th>input_text</th>\n",
       "      <th>target_text</th>\n",
       "      <th>word_count</th>\n",
       "      <th>NE_count</th>\n",
       "      <th>%_NE_in_sentence</th>\n",
       "    </tr>\n",
       "  </thead>\n",
       "  <tbody>\n",
       "    <tr>\n",
       "      <th>0</th>\n",
       "      <td>several enterobacteriaceae strains have been i...</td>\n",
       "      <td>several *s* enterobacteriaceae | misc *e* stra...</td>\n",
       "      <td>NaN</td>\n",
       "      <td>NaN</td>\n",
       "      <td>NaN</td>\n",
       "    </tr>\n",
       "    <tr>\n",
       "      <th>1</th>\n",
       "      <td>He was released by Motherwell and made his deb...</td>\n",
       "      <td>He was released by *s* Motherwell | ORG *e* an...</td>\n",
       "      <td>16.0</td>\n",
       "      <td>3.0</td>\n",
       "      <td>0.2</td>\n",
       "    </tr>\n",
       "    <tr>\n",
       "      <th>2</th>\n",
       "      <td>chiefly among the factors influencing the rise...</td>\n",
       "      <td>chiefly among the factors influencing the rise...</td>\n",
       "      <td>NaN</td>\n",
       "      <td>NaN</td>\n",
       "      <td>NaN</td>\n",
       "    </tr>\n",
       "    <tr>\n",
       "      <th>3</th>\n",
       "      <td>on the same year , the manila metropolitan the...</td>\n",
       "      <td>on the same year , the *s* manila metropolitan...</td>\n",
       "      <td>NaN</td>\n",
       "      <td>NaN</td>\n",
       "      <td>NaN</td>\n",
       "    </tr>\n",
       "    <tr>\n",
       "      <th>4</th>\n",
       "      <td>AND I THINK HE COULD BE VERY EFFECTIVE IN A PR...</td>\n",
       "      <td>AND I THINK HE COULD BE VERY EFFECTIVE IN A PR...</td>\n",
       "      <td>NaN</td>\n",
       "      <td>NaN</td>\n",
       "      <td>NaN</td>\n",
       "    </tr>\n",
       "    <tr>\n",
       "      <th>...</th>\n",
       "      <td>...</td>\n",
       "      <td>...</td>\n",
       "      <td>...</td>\n",
       "      <td>...</td>\n",
       "      <td>...</td>\n",
       "    </tr>\n",
       "    <tr>\n",
       "      <th>457645</th>\n",
       "      <td>the annual grand national horse race takes pla...</td>\n",
       "      <td>the annual *s* grand national | misc *e* horse...</td>\n",
       "      <td>NaN</td>\n",
       "      <td>NaN</td>\n",
       "      <td>NaN</td>\n",
       "    </tr>\n",
       "    <tr>\n",
       "      <th>457646</th>\n",
       "      <td>BUTTERFLIES IN NORTHERN AREAS TEND TO HAVE ONE...</td>\n",
       "      <td>BUTTERFLIES IN NORTHERN AREAS TEND TO HAVE ONE...</td>\n",
       "      <td>NaN</td>\n",
       "      <td>NaN</td>\n",
       "      <td>NaN</td>\n",
       "    </tr>\n",
       "    <tr>\n",
       "      <th>457647</th>\n",
       "      <td>IHC CALAND REPORTED FIRST HALF RESULTS WELL UN...</td>\n",
       "      <td>*S* IHC CALAND | ORG *E* REPORTED FIRST HALF R...</td>\n",
       "      <td>NaN</td>\n",
       "      <td>NaN</td>\n",
       "      <td>NaN</td>\n",
       "    </tr>\n",
       "    <tr>\n",
       "      <th>457648</th>\n",
       "      <td>President Clinton will host a meeting at the W...</td>\n",
       "      <td>President *s* Clinton | PER *e* will host a me...</td>\n",
       "      <td>22.0</td>\n",
       "      <td>5.0</td>\n",
       "      <td>0.2</td>\n",
       "    </tr>\n",
       "    <tr>\n",
       "      <th>457649</th>\n",
       "      <td>any settlement is also expected to exclude mr....</td>\n",
       "      <td>any settlement is also expected to exclude mr....</td>\n",
       "      <td>NaN</td>\n",
       "      <td>NaN</td>\n",
       "      <td>NaN</td>\n",
       "    </tr>\n",
       "  </tbody>\n",
       "</table>\n",
       "<p>457650 rows × 5 columns</p>\n",
       "</div>"
      ],
      "text/plain": [
       "                                               input_text  \\\n",
       "0       several enterobacteriaceae strains have been i...   \n",
       "1       He was released by Motherwell and made his deb...   \n",
       "2       chiefly among the factors influencing the rise...   \n",
       "3       on the same year , the manila metropolitan the...   \n",
       "4       AND I THINK HE COULD BE VERY EFFECTIVE IN A PR...   \n",
       "...                                                   ...   \n",
       "457645  the annual grand national horse race takes pla...   \n",
       "457646  BUTTERFLIES IN NORTHERN AREAS TEND TO HAVE ONE...   \n",
       "457647  IHC CALAND REPORTED FIRST HALF RESULTS WELL UN...   \n",
       "457648  President Clinton will host a meeting at the W...   \n",
       "457649  any settlement is also expected to exclude mr....   \n",
       "\n",
       "                                              target_text  word_count  \\\n",
       "0       several *s* enterobacteriaceae | misc *e* stra...         NaN   \n",
       "1       He was released by *s* Motherwell | ORG *e* an...        16.0   \n",
       "2       chiefly among the factors influencing the rise...         NaN   \n",
       "3       on the same year , the *s* manila metropolitan...         NaN   \n",
       "4       AND I THINK HE COULD BE VERY EFFECTIVE IN A PR...         NaN   \n",
       "...                                                   ...         ...   \n",
       "457645  the annual *s* grand national | misc *e* horse...         NaN   \n",
       "457646  BUTTERFLIES IN NORTHERN AREAS TEND TO HAVE ONE...         NaN   \n",
       "457647  *S* IHC CALAND | ORG *E* REPORTED FIRST HALF R...         NaN   \n",
       "457648  President *s* Clinton | PER *e* will host a me...        22.0   \n",
       "457649  any settlement is also expected to exclude mr....         NaN   \n",
       "\n",
       "        NE_count  %_NE_in_sentence  \n",
       "0            NaN               NaN  \n",
       "1            3.0               0.2  \n",
       "2            NaN               NaN  \n",
       "3            NaN               NaN  \n",
       "4            NaN               NaN  \n",
       "...          ...               ...  \n",
       "457645       NaN               NaN  \n",
       "457646       NaN               NaN  \n",
       "457647       NaN               NaN  \n",
       "457648       5.0               0.2  \n",
       "457649       NaN               NaN  \n",
       "\n",
       "[457650 rows x 5 columns]"
      ]
     },
     "execution_count": 34,
     "metadata": {},
     "output_type": "execute_result"
    }
   ],
   "source": [
    "lower_normal_upper_training = pd.concat([lower_training, combined_df, upper_training])\n",
    "lower_normal_upper_training = lower_normal_upper_training.sample(frac=1, random_state=1).reset_index(drop=True)\n",
    "lower_normal_upper_training"
   ]
  },
  {
   "cell_type": "markdown",
   "id": "d805d79c",
   "metadata": {},
   "source": [
    "### Saving the data as csv"
   ]
  },
  {
   "cell_type": "code",
   "execution_count": 35,
   "id": "e150739f",
   "metadata": {},
   "outputs": [],
   "source": [
    "combined_df.to_csv('./1-NER_Data/1-csv_format/train/training_data_full_sentence_with_pos.csv', index = False)\n",
    "lower_normal_training.to_csv('./1-NER_Data/1-csv_format/train/lower_normal_training_full_sentence_with_pos.csv', index = False)\n",
    "lower_normal_upper_training.to_csv('./1-NER_Data/1-csv_format/train/lower_normal_upper_training_full_sentence_with_pos.csv', index = False)"
   ]
  },
  {
   "cell_type": "markdown",
   "id": "88347993",
   "metadata": {},
   "source": [
    "# Validation data"
   ]
  },
  {
   "cell_type": "markdown",
   "id": "bedca98c",
   "metadata": {},
   "source": [
    "### Read the data from either txt files or from huggingface dataset and converting each to target form  --->  [input_text, target_text, word_count, NE_count] "
   ]
  },
  {
   "cell_type": "code",
   "execution_count": 36,
   "id": "a8050adc",
   "metadata": {},
   "outputs": [
    {
     "data": {
      "text/html": [
       "<div>\n",
       "<style scoped>\n",
       "    .dataframe tbody tr th:only-of-type {\n",
       "        vertical-align: middle;\n",
       "    }\n",
       "\n",
       "    .dataframe tbody tr th {\n",
       "        vertical-align: top;\n",
       "    }\n",
       "\n",
       "    .dataframe thead th {\n",
       "        text-align: right;\n",
       "    }\n",
       "</style>\n",
       "<table border=\"1\" class=\"dataframe\">\n",
       "  <thead>\n",
       "    <tr style=\"text-align: right;\">\n",
       "      <th></th>\n",
       "      <th>input_text</th>\n",
       "      <th>target_text</th>\n",
       "      <th>word_count</th>\n",
       "      <th>NE_count</th>\n",
       "    </tr>\n",
       "  </thead>\n",
       "  <tbody>\n",
       "    <tr>\n",
       "      <th>0</th>\n",
       "      <td>CRICKET - LEICESTERSHIRE TAKE OVER AT TOP AFTE...</td>\n",
       "      <td>CRICKET - *s* LEICESTERSHIRE | ORG *e* TAKE OV...</td>\n",
       "      <td>9</td>\n",
       "      <td>1</td>\n",
       "    </tr>\n",
       "    <tr>\n",
       "      <th>1</th>\n",
       "      <td>LONDON 1996-08-30</td>\n",
       "      <td>*s* LONDON | LOC *e* 1996-08-30</td>\n",
       "      <td>2</td>\n",
       "      <td>1</td>\n",
       "    </tr>\n",
       "    <tr>\n",
       "      <th>2</th>\n",
       "      <td>West Indian all-rounder Phil Simmons took four...</td>\n",
       "      <td>*s* West Indian | MISC *e* all-rounder *s* Phi...</td>\n",
       "      <td>34</td>\n",
       "      <td>6</td>\n",
       "    </tr>\n",
       "    <tr>\n",
       "      <th>3</th>\n",
       "      <td>Their stay on top , though , may be short-live...</td>\n",
       "      <td>Their stay on top , though , may be short-live...</td>\n",
       "      <td>33</td>\n",
       "      <td>5</td>\n",
       "    </tr>\n",
       "    <tr>\n",
       "      <th>4</th>\n",
       "      <td>After bowling Somerset out for 83 on the openi...</td>\n",
       "      <td>After bowling *s* Somerset | ORG *e* out for 8...</td>\n",
       "      <td>36</td>\n",
       "      <td>7</td>\n",
       "    </tr>\n",
       "    <tr>\n",
       "      <th>...</th>\n",
       "      <td>...</td>\n",
       "      <td>...</td>\n",
       "      <td>...</td>\n",
       "      <td>...</td>\n",
       "    </tr>\n",
       "    <tr>\n",
       "      <th>3245</th>\n",
       "      <td>But the prices may move in a close range follo...</td>\n",
       "      <td>But the prices may move in a close range follo...</td>\n",
       "      <td>14</td>\n",
       "      <td>0</td>\n",
       "    </tr>\n",
       "    <tr>\n",
       "      <th>3246</th>\n",
       "      <td>Brokers said blue chips like IDLC , Bangladesh...</td>\n",
       "      <td>Brokers said blue chips like *s* IDLC | ORG *e...</td>\n",
       "      <td>17</td>\n",
       "      <td>7</td>\n",
       "    </tr>\n",
       "    <tr>\n",
       "      <th>3247</th>\n",
       "      <td>They said there was still demand for blue chip...</td>\n",
       "      <td>They said there was still demand for blue chip...</td>\n",
       "      <td>21</td>\n",
       "      <td>0</td>\n",
       "    </tr>\n",
       "    <tr>\n",
       "      <th>3248</th>\n",
       "      <td>The DSE all share price index closed 2.73 poin...</td>\n",
       "      <td>The *s* DSE | ORG *e* all share price index cl...</td>\n",
       "      <td>24</td>\n",
       "      <td>1</td>\n",
       "    </tr>\n",
       "    <tr>\n",
       "      <th>3249</th>\n",
       "      <td>-- Dhaka Newsroom 880-2-506363</td>\n",
       "      <td>-- *s* Dhaka Newsroom | ORG *e* 880-2-506363</td>\n",
       "      <td>3</td>\n",
       "      <td>2</td>\n",
       "    </tr>\n",
       "  </tbody>\n",
       "</table>\n",
       "<p>3250 rows × 4 columns</p>\n",
       "</div>"
      ],
      "text/plain": [
       "                                             input_text  \\\n",
       "0     CRICKET - LEICESTERSHIRE TAKE OVER AT TOP AFTE...   \n",
       "1                                     LONDON 1996-08-30   \n",
       "2     West Indian all-rounder Phil Simmons took four...   \n",
       "3     Their stay on top , though , may be short-live...   \n",
       "4     After bowling Somerset out for 83 on the openi...   \n",
       "...                                                 ...   \n",
       "3245  But the prices may move in a close range follo...   \n",
       "3246  Brokers said blue chips like IDLC , Bangladesh...   \n",
       "3247  They said there was still demand for blue chip...   \n",
       "3248  The DSE all share price index closed 2.73 poin...   \n",
       "3249                     -- Dhaka Newsroom 880-2-506363   \n",
       "\n",
       "                                            target_text  word_count  NE_count  \n",
       "0     CRICKET - *s* LEICESTERSHIRE | ORG *e* TAKE OV...           9         1  \n",
       "1                       *s* LONDON | LOC *e* 1996-08-30           2         1  \n",
       "2     *s* West Indian | MISC *e* all-rounder *s* Phi...          34         6  \n",
       "3     Their stay on top , though , may be short-live...          33         5  \n",
       "4     After bowling *s* Somerset | ORG *e* out for 8...          36         7  \n",
       "...                                                 ...         ...       ...  \n",
       "3245  But the prices may move in a close range follo...          14         0  \n",
       "3246  Brokers said blue chips like *s* IDLC | ORG *e...          17         7  \n",
       "3247  They said there was still demand for blue chip...          21         0  \n",
       "3248  The *s* DSE | ORG *e* all share price index cl...          24         1  \n",
       "3249       -- *s* Dhaka Newsroom | ORG *e* 880-2-506363           3         2  \n",
       "\n",
       "[3250 rows x 4 columns]"
      ]
     },
     "execution_count": 36,
     "metadata": {},
     "output_type": "execute_result"
    }
   ],
   "source": [
    "# CoNLL2003++ validatoin dataset\n",
    "\n",
    "conellpp_val = parse_file_data(\"./1-NER_Data/0-raw_data/coNLL2003pp/conllpp_dev.txt\", in_position=0, pos_position=3, line_len=4, sep=' ')\n",
    "conellpp_val"
   ]
  },
  {
   "cell_type": "code",
   "execution_count": 37,
   "id": "381f7a46",
   "metadata": {},
   "outputs": [
    {
     "data": {
      "text/html": [
       "<div>\n",
       "<style scoped>\n",
       "    .dataframe tbody tr th:only-of-type {\n",
       "        vertical-align: middle;\n",
       "    }\n",
       "\n",
       "    .dataframe tbody tr th {\n",
       "        vertical-align: top;\n",
       "    }\n",
       "\n",
       "    .dataframe thead th {\n",
       "        text-align: right;\n",
       "    }\n",
       "</style>\n",
       "<table border=\"1\" class=\"dataframe\">\n",
       "  <thead>\n",
       "    <tr style=\"text-align: right;\">\n",
       "      <th></th>\n",
       "      <th>input_text</th>\n",
       "      <th>target_text</th>\n",
       "      <th>word_count</th>\n",
       "      <th>NE_count</th>\n",
       "    </tr>\n",
       "  </thead>\n",
       "  <tbody>\n",
       "    <tr>\n",
       "      <th>0</th>\n",
       "      <td>Her visit to Tuvalu was cut short by an illnes...</td>\n",
       "      <td>Her visit to *s* Tuvalu | LOC *e* was cut shor...</td>\n",
       "      <td>24</td>\n",
       "      <td>2</td>\n",
       "    </tr>\n",
       "    <tr>\n",
       "      <th>1</th>\n",
       "      <td>In 1975 , the Princess was listed among women ...</td>\n",
       "      <td>In 1975 , the Princess was listed among women ...</td>\n",
       "      <td>17</td>\n",
       "      <td>2</td>\n",
       "    </tr>\n",
       "    <tr>\n",
       "      <th>2</th>\n",
       "      <td>In 1974 , she invited him as a guest to the ho...</td>\n",
       "      <td>In 1974 , she invited him as a guest to the ho...</td>\n",
       "      <td>17</td>\n",
       "      <td>1</td>\n",
       "    </tr>\n",
       "    <tr>\n",
       "      <th>3</th>\n",
       "      <td>She co-starred with Richard Widmark and Gig Yo...</td>\n",
       "      <td>She co-starred with *s* Richard Widmark | PER ...</td>\n",
       "      <td>32</td>\n",
       "      <td>14</td>\n",
       "    </tr>\n",
       "    <tr>\n",
       "      <th>4</th>\n",
       "      <td>She experienced a mild stroke on 23 February 1...</td>\n",
       "      <td>She experienced a mild stroke on 23 February 1...</td>\n",
       "      <td>15</td>\n",
       "      <td>1</td>\n",
       "    </tr>\n",
       "    <tr>\n",
       "      <th>...</th>\n",
       "      <td>...</td>\n",
       "      <td>...</td>\n",
       "      <td>...</td>\n",
       "      <td>...</td>\n",
       "    </tr>\n",
       "    <tr>\n",
       "      <th>11585</th>\n",
       "      <td>However , he played his home games at Baker Bo...</td>\n",
       "      <td>However , he played his home games at *s* Bake...</td>\n",
       "      <td>18</td>\n",
       "      <td>2</td>\n",
       "    </tr>\n",
       "    <tr>\n",
       "      <th>11586</th>\n",
       "      <td>256 with 11 triples in 277 at bats when his co...</td>\n",
       "      <td>256 with 11 triples in 277 at bats when his co...</td>\n",
       "      <td>21</td>\n",
       "      <td>3</td>\n",
       "    </tr>\n",
       "    <tr>\n",
       "      <th>11587</th>\n",
       "      <td>He played his final professional games in 1922...</td>\n",
       "      <td>He played his final professional games in 1922...</td>\n",
       "      <td>12</td>\n",
       "      <td>2</td>\n",
       "    </tr>\n",
       "    <tr>\n",
       "      <th>11588</th>\n",
       "      <td>The city is also the setting for the Disney Ch...</td>\n",
       "      <td>The city is also the setting for the *s* Disne...</td>\n",
       "      <td>14</td>\n",
       "      <td>5</td>\n",
       "    </tr>\n",
       "    <tr>\n",
       "      <th>11589</th>\n",
       "      <td>He was elected as Member of Parliament for Ogm...</td>\n",
       "      <td>He was elected as Member of Parliament for *s*...</td>\n",
       "      <td>14</td>\n",
       "      <td>1</td>\n",
       "    </tr>\n",
       "  </tbody>\n",
       "</table>\n",
       "<p>11590 rows × 4 columns</p>\n",
       "</div>"
      ],
      "text/plain": [
       "                                              input_text  \\\n",
       "0      Her visit to Tuvalu was cut short by an illnes...   \n",
       "1      In 1975 , the Princess was listed among women ...   \n",
       "2      In 1974 , she invited him as a guest to the ho...   \n",
       "3      She co-starred with Richard Widmark and Gig Yo...   \n",
       "4      She experienced a mild stroke on 23 February 1...   \n",
       "...                                                  ...   \n",
       "11585  However , he played his home games at Baker Bo...   \n",
       "11586  256 with 11 triples in 277 at bats when his co...   \n",
       "11587  He played his final professional games in 1922...   \n",
       "11588  The city is also the setting for the Disney Ch...   \n",
       "11589  He was elected as Member of Parliament for Ogm...   \n",
       "\n",
       "                                             target_text  word_count  NE_count  \n",
       "0      Her visit to *s* Tuvalu | LOC *e* was cut shor...          24         2  \n",
       "1      In 1975 , the Princess was listed among women ...          17         2  \n",
       "2      In 1974 , she invited him as a guest to the ho...          17         1  \n",
       "3      She co-starred with *s* Richard Widmark | PER ...          32        14  \n",
       "4      She experienced a mild stroke on 23 February 1...          15         1  \n",
       "...                                                  ...         ...       ...  \n",
       "11585  However , he played his home games at *s* Bake...          18         2  \n",
       "11586  256 with 11 triples in 277 at bats when his co...          21         3  \n",
       "11587  He played his final professional games in 1922...          12         2  \n",
       "11588  The city is also the setting for the *s* Disne...          14         5  \n",
       "11589  He was elected as Member of Parliament for *s*...          14         1  \n",
       "\n",
       "[11590 rows x 4 columns]"
      ]
     },
     "execution_count": 37,
     "metadata": {},
     "output_type": "execute_result"
    }
   ],
   "source": [
    "# wikineural validation dataset\n",
    "\n",
    "wikineural_val = parse_file_data(\"./1-NER_Data/0-raw_data/wikineural/val.conllu.txt\", 1, 2, 3, '\\t')\n",
    "wikineural_val"
   ]
  },
  {
   "cell_type": "code",
   "execution_count": 38,
   "id": "8662a28e",
   "metadata": {},
   "outputs": [],
   "source": [
    "# OntoNotes 5.0 validation dataset refer section above"
   ]
  },
  {
   "cell_type": "markdown",
   "id": "0394e75d",
   "metadata": {},
   "source": [
    "### Adding entity as percentage of the input sentence"
   ]
  },
  {
   "cell_type": "code",
   "execution_count": 39,
   "id": "52ebe2e8",
   "metadata": {},
   "outputs": [],
   "source": [
    "conellpp_val = add_per_NE_sent(conellpp_val)\n",
    "wikineural_val = add_per_NE_sent(wikineural_val)\n",
    "onto_val = add_per_NE_sent(onto_val)"
   ]
  },
  {
   "cell_type": "code",
   "execution_count": 40,
   "id": "1ae0d64f",
   "metadata": {},
   "outputs": [
    {
     "name": "stdout",
     "output_type": "stream",
     "text": [
      "there are 0.23076923076923078 sentences in the range of 0:0.1\n"
     ]
    },
    {
     "data": {
      "image/png": "[encoded data removed]",
      "text/plain": [
       "<Figure size 432x288 with 1 Axes>"
      ]
     },
     "metadata": {
      "needs_background": "light"
     },
     "output_type": "display_data"
    }
   ],
   "source": [
    "plot_percent_NE = conellpp_val['%_NE_in_sentence'].value_counts().sort_index()\n",
    "plot_percent_NE.plot(kind='bar')\n",
    "print(\"there are\", sum(plot_percent_NE.loc[0:0.099])/len(conellpp_val), \"sentences in the range of 0:0.1\")"
   ]
  },
  {
   "cell_type": "code",
   "execution_count": 41,
   "id": "aeaa1f58",
   "metadata": {},
   "outputs": [
    {
     "data": {
      "text/plain": [
       "<AxesSubplot:xlabel='word_count'>"
      ]
     },
     "execution_count": 41,
     "metadata": {},
     "output_type": "execute_result"
    },
    {
     "data": {
      "image/png": "[encoded data removed]",
      "text/plain": [
       "<Figure size 432x288 with 1 Axes>"
      ]
     },
     "metadata": {
      "needs_background": "light"
     },
     "output_type": "display_data"
    }
   ],
   "source": [
    "conellpp_val.groupby(by='word_count')['input_text'].count().head(10).plot(kind='bar')"
   ]
  },
  {
   "cell_type": "code",
   "execution_count": 42,
   "id": "ad72a7b0",
   "metadata": {},
   "outputs": [],
   "source": [
    "conellpp_val = conellpp_val.drop(conellpp_val.loc[conellpp_val['word_count'] == 0].index).reset_index(drop=True)\n",
    "# conellpp_val"
   ]
  },
  {
   "cell_type": "code",
   "execution_count": null,
   "id": "49512e85",
   "metadata": {},
   "outputs": [],
   "source": []
  },
  {
   "cell_type": "code",
   "execution_count": 43,
   "id": "04d7d981",
   "metadata": {},
   "outputs": [
    {
     "name": "stdout",
     "output_type": "stream",
     "text": [
      "there are 0.13701466781708369 sentences in the range of 0:0.1\n"
     ]
    },
    {
     "data": {
      "image/png": "[encoded data removed]",
      "text/plain": [
       "<Figure size 432x288 with 1 Axes>"
      ]
     },
     "metadata": {
      "needs_background": "light"
     },
     "output_type": "display_data"
    }
   ],
   "source": [
    "plot_percent_NE = wikineural_val['%_NE_in_sentence'].value_counts().sort_index()\n",
    "plot_percent_NE.plot(kind='bar')\n",
    "print(\"there are\", sum(plot_percent_NE.loc[0:0.099])/len(wikineural_val), \"sentences in the range of 0:0.1\")"
   ]
  },
  {
   "cell_type": "code",
   "execution_count": 44,
   "id": "f87ed39a",
   "metadata": {},
   "outputs": [
    {
     "data": {
      "text/plain": [
       "<AxesSubplot:xlabel='word_count'>"
      ]
     },
     "execution_count": 44,
     "metadata": {},
     "output_type": "execute_result"
    },
    {
     "data": {
      "image/png": "[encoded data removed]",
      "text/plain": [
       "<Figure size 432x288 with 1 Axes>"
      ]
     },
     "metadata": {
      "needs_background": "light"
     },
     "output_type": "display_data"
    }
   ],
   "source": [
    "wikineural_val.groupby(by='word_count')['input_text'].count().head(10).plot(kind='bar')"
   ]
  },
  {
   "cell_type": "code",
   "execution_count": null,
   "id": "f3f8536c",
   "metadata": {},
   "outputs": [],
   "source": []
  },
  {
   "cell_type": "code",
   "execution_count": 45,
   "id": "37d04f2d",
   "metadata": {},
   "outputs": [
    {
     "name": "stdout",
     "output_type": "stream",
     "text": [
      "19797\n",
      "there are 0.7110673334343588 sentences in the range of 0:0.1\n",
      "14077\n"
     ]
    },
    {
     "data": {
      "image/png": "[encoded data removed]",
      "text/plain": [
       "<Figure size 432x288 with 1 Axes>"
      ]
     },
     "metadata": {
      "needs_background": "light"
     },
     "output_type": "display_data"
    }
   ],
   "source": [
    "plot_percent_NE = onto_val['%_NE_in_sentence'].value_counts().sort_index()\n",
    "plot_percent_NE.plot(kind='bar')\n",
    "print(len(onto_val))\n",
    "print(\"there are\", sum(plot_percent_NE.loc[0:0.099])/len(onto_val), \"sentences in the range of 0:0.1\")\n",
    "print(sum(plot_percent_NE.loc[0:0.01]))"
   ]
  },
  {
   "cell_type": "code",
   "execution_count": 46,
   "id": "c9bd47d8",
   "metadata": {},
   "outputs": [
    {
     "data": {
      "text/html": [
       "<div>\n",
       "<style scoped>\n",
       "    .dataframe tbody tr th:only-of-type {\n",
       "        vertical-align: middle;\n",
       "    }\n",
       "\n",
       "    .dataframe tbody tr th {\n",
       "        vertical-align: top;\n",
       "    }\n",
       "\n",
       "    .dataframe thead th {\n",
       "        text-align: right;\n",
       "    }\n",
       "</style>\n",
       "<table border=\"1\" class=\"dataframe\">\n",
       "  <thead>\n",
       "    <tr style=\"text-align: right;\">\n",
       "      <th></th>\n",
       "      <th>input_text</th>\n",
       "      <th>target_text</th>\n",
       "      <th>word_count</th>\n",
       "      <th>NE_count</th>\n",
       "      <th>%_NE_in_sentence</th>\n",
       "    </tr>\n",
       "  </thead>\n",
       "  <tbody>\n",
       "    <tr>\n",
       "      <th>0</th>\n",
       "      <td>I will put all my wheat and good things togeth...</td>\n",
       "      <td>I will put all my wheat and good things togeth...</td>\n",
       "      <td>14</td>\n",
       "      <td>0</td>\n",
       "      <td>0.0</td>\n",
       "    </tr>\n",
       "    <tr>\n",
       "      <th>1</th>\n",
       "      <td>Here in the Global Village, though, folks do n...</td>\n",
       "      <td>Here in *s* the Global Village | LOC *e*, thou...</td>\n",
       "      <td>13</td>\n",
       "      <td>1</td>\n",
       "      <td>0.1</td>\n",
       "    </tr>\n",
       "    <tr>\n",
       "      <th>2</th>\n",
       "      <td>Like a nice dinner every night, cooked specially</td>\n",
       "      <td>Like a nice dinner every night, cooked specially</td>\n",
       "      <td>8</td>\n",
       "      <td>0</td>\n",
       "      <td>0.0</td>\n",
       "    </tr>\n",
       "    <tr>\n",
       "      <th>3</th>\n",
       "      <td>However, the government seems subject to the U...</td>\n",
       "      <td>However, the government seems subject to *s* t...</td>\n",
       "      <td>38</td>\n",
       "      <td>3</td>\n",
       "      <td>0.1</td>\n",
       "    </tr>\n",
       "    <tr>\n",
       "      <th>4</th>\n",
       "      <td>Congress has been critical of the Bush adminis...</td>\n",
       "      <td>*s* Congress | ORG *e* has been critical of th...</td>\n",
       "      <td>29</td>\n",
       "      <td>3</td>\n",
       "      <td>0.1</td>\n",
       "    </tr>\n",
       "    <tr>\n",
       "      <th>...</th>\n",
       "      <td>...</td>\n",
       "      <td>...</td>\n",
       "      <td>...</td>\n",
       "      <td>...</td>\n",
       "      <td>...</td>\n",
       "    </tr>\n",
       "    <tr>\n",
       "      <th>10407</th>\n",
       "      <td>In recent months, there have been anti-U.S. an...</td>\n",
       "      <td>In recent months, there have been *s* anti-U.S...</td>\n",
       "      <td>19</td>\n",
       "      <td>3</td>\n",
       "      <td>0.2</td>\n",
       "    </tr>\n",
       "    <tr>\n",
       "      <th>10408</th>\n",
       "      <td>Do n't think that you are better than you real...</td>\n",
       "      <td>Do n't think that you are better than you real...</td>\n",
       "      <td>11</td>\n",
       "      <td>0</td>\n",
       "      <td>0.0</td>\n",
       "    </tr>\n",
       "    <tr>\n",
       "      <th>10409</th>\n",
       "      <td>He succeeds Paul P. Aniskovich Jr., who resign...</td>\n",
       "      <td>He succeeds *s* Paul P. Aniskovich Jr. | PER *...</td>\n",
       "      <td>16</td>\n",
       "      <td>1</td>\n",
       "      <td>0.1</td>\n",
       "    </tr>\n",
       "    <tr>\n",
       "      <th>10410</th>\n",
       "      <td>The product automates an array of functions pe...</td>\n",
       "      <td>The product automates an array of functions pe...</td>\n",
       "      <td>14</td>\n",
       "      <td>0</td>\n",
       "      <td>0.0</td>\n",
       "    </tr>\n",
       "    <tr>\n",
       "      <th>10411</th>\n",
       "      <td>The Eighth Route Army guerrillas were extraord...</td>\n",
       "      <td>The *s* Eighth Route Army | ORG *e* guerrillas...</td>\n",
       "      <td>20</td>\n",
       "      <td>3</td>\n",
       "      <td>0.2</td>\n",
       "    </tr>\n",
       "  </tbody>\n",
       "</table>\n",
       "<p>10412 rows × 5 columns</p>\n",
       "</div>"
      ],
      "text/plain": [
       "                                              input_text  \\\n",
       "0      I will put all my wheat and good things togeth...   \n",
       "1      Here in the Global Village, though, folks do n...   \n",
       "2       Like a nice dinner every night, cooked specially   \n",
       "3      However, the government seems subject to the U...   \n",
       "4      Congress has been critical of the Bush adminis...   \n",
       "...                                                  ...   \n",
       "10407  In recent months, there have been anti-U.S. an...   \n",
       "10408  Do n't think that you are better than you real...   \n",
       "10409  He succeeds Paul P. Aniskovich Jr., who resign...   \n",
       "10410  The product automates an array of functions pe...   \n",
       "10411  The Eighth Route Army guerrillas were extraord...   \n",
       "\n",
       "                                             target_text  word_count  \\\n",
       "0      I will put all my wheat and good things togeth...          14   \n",
       "1      Here in *s* the Global Village | LOC *e*, thou...          13   \n",
       "2       Like a nice dinner every night, cooked specially           8   \n",
       "3      However, the government seems subject to *s* t...          38   \n",
       "4      *s* Congress | ORG *e* has been critical of th...          29   \n",
       "...                                                  ...         ...   \n",
       "10407  In recent months, there have been *s* anti-U.S...          19   \n",
       "10408  Do n't think that you are better than you real...          11   \n",
       "10409  He succeeds *s* Paul P. Aniskovich Jr. | PER *...          16   \n",
       "10410  The product automates an array of functions pe...          14   \n",
       "10411  The *s* Eighth Route Army | ORG *e* guerrillas...          20   \n",
       "\n",
       "       NE_count  %_NE_in_sentence  \n",
       "0             0               0.0  \n",
       "1             1               0.1  \n",
       "2             0               0.0  \n",
       "3             3               0.1  \n",
       "4             3               0.1  \n",
       "...         ...               ...  \n",
       "10407         3               0.2  \n",
       "10408         0               0.0  \n",
       "10409         1               0.1  \n",
       "10410         0               0.0  \n",
       "10411         3               0.2  \n",
       "\n",
       "[10412 rows x 5 columns]"
      ]
     },
     "execution_count": 46,
     "metadata": {},
     "output_type": "execute_result"
    }
   ],
   "source": [
    "# dropping half of the rows with zero entities randomly\n",
    "\n",
    "np.random.seed(10)\n",
    "zero_entities = onto_val.loc[onto_val['%_NE_in_sentence']==0].index\n",
    "remove_n = round(len(zero_entities)*2/3)\n",
    "\n",
    "drop_indices = np.random.choice(zero_entities, remove_n, replace=False)\n",
    "onto_val = onto_val.drop(drop_indices).reset_index(drop=True)\n",
    "onto_val"
   ]
  },
  {
   "cell_type": "code",
   "execution_count": 47,
   "id": "f20f994e",
   "metadata": {},
   "outputs": [
    {
     "name": "stdout",
     "output_type": "stream",
     "text": [
      "10412\n",
      "there are 0.4506338839800231 sentences in the range of 0:0.1\n",
      "4692\n"
     ]
    },
    {
     "data": {
      "image/png": "[encoded data removed]",
      "text/plain": [
       "<Figure size 432x288 with 1 Axes>"
      ]
     },
     "metadata": {
      "needs_background": "light"
     },
     "output_type": "display_data"
    }
   ],
   "source": [
    "plot_percent_NE = onto_val['%_NE_in_sentence'].value_counts().sort_index()\n",
    "plot_percent_NE.plot(kind='bar')\n",
    "print(len(onto_val))\n",
    "print(\"there are\", sum(plot_percent_NE.loc[0:0.01])/len(onto_val), \"sentences in the range of 0:0.1\")\n",
    "print(sum(plot_percent_NE.loc[0:0.01]))"
   ]
  },
  {
   "cell_type": "code",
   "execution_count": 48,
   "id": "79020476",
   "metadata": {},
   "outputs": [
    {
     "data": {
      "text/plain": [
       "<AxesSubplot:xlabel='word_count'>"
      ]
     },
     "execution_count": 48,
     "metadata": {},
     "output_type": "execute_result"
    },
    {
     "data": {
      "image/png": "[encoded data removed]",
      "text/plain": [
       "<Figure size 432x288 with 1 Axes>"
      ]
     },
     "metadata": {
      "needs_background": "light"
     },
     "output_type": "display_data"
    }
   ],
   "source": [
    "onto_val.groupby(by='word_count')['input_text'].count().head(10).plot(kind='bar')"
   ]
  },
  {
   "cell_type": "code",
   "execution_count": null,
   "id": "825b0ce6",
   "metadata": {},
   "outputs": [],
   "source": []
  },
  {
   "cell_type": "markdown",
   "id": "ee918eaa",
   "metadata": {},
   "source": [
    "### Combining the datasets"
   ]
  },
  {
   "cell_type": "code",
   "execution_count": 49,
   "id": "4e27aca2",
   "metadata": {},
   "outputs": [
    {
     "data": {
      "text/html": [
       "<div>\n",
       "<style scoped>\n",
       "    .dataframe tbody tr th:only-of-type {\n",
       "        vertical-align: middle;\n",
       "    }\n",
       "\n",
       "    .dataframe tbody tr th {\n",
       "        vertical-align: top;\n",
       "    }\n",
       "\n",
       "    .dataframe thead th {\n",
       "        text-align: right;\n",
       "    }\n",
       "</style>\n",
       "<table border=\"1\" class=\"dataframe\">\n",
       "  <thead>\n",
       "    <tr style=\"text-align: right;\">\n",
       "      <th></th>\n",
       "      <th>input_text</th>\n",
       "      <th>target_text</th>\n",
       "      <th>word_count</th>\n",
       "      <th>NE_count</th>\n",
       "      <th>%_NE_in_sentence</th>\n",
       "    </tr>\n",
       "  </thead>\n",
       "  <tbody>\n",
       "    <tr>\n",
       "      <th>0</th>\n",
       "      <td>CRICKET - LEICESTERSHIRE TAKE OVER AT TOP AFTE...</td>\n",
       "      <td>CRICKET - *s* LEICESTERSHIRE | ORG *e* TAKE OV...</td>\n",
       "      <td>9</td>\n",
       "      <td>1</td>\n",
       "      <td>0.1</td>\n",
       "    </tr>\n",
       "    <tr>\n",
       "      <th>1</th>\n",
       "      <td>LONDON 1996-08-30</td>\n",
       "      <td>*s* LONDON | LOC *e* 1996-08-30</td>\n",
       "      <td>2</td>\n",
       "      <td>1</td>\n",
       "      <td>0.5</td>\n",
       "    </tr>\n",
       "    <tr>\n",
       "      <th>2</th>\n",
       "      <td>West Indian all-rounder Phil Simmons took four...</td>\n",
       "      <td>*s* West Indian | MISC *e* all-rounder *s* Phi...</td>\n",
       "      <td>34</td>\n",
       "      <td>6</td>\n",
       "      <td>0.2</td>\n",
       "    </tr>\n",
       "    <tr>\n",
       "      <th>3</th>\n",
       "      <td>Their stay on top , though , may be short-live...</td>\n",
       "      <td>Their stay on top , though , may be short-live...</td>\n",
       "      <td>33</td>\n",
       "      <td>5</td>\n",
       "      <td>0.2</td>\n",
       "    </tr>\n",
       "    <tr>\n",
       "      <th>4</th>\n",
       "      <td>After bowling Somerset out for 83 on the openi...</td>\n",
       "      <td>After bowling *s* Somerset | ORG *e* out for 8...</td>\n",
       "      <td>36</td>\n",
       "      <td>7</td>\n",
       "      <td>0.2</td>\n",
       "    </tr>\n",
       "    <tr>\n",
       "      <th>...</th>\n",
       "      <td>...</td>\n",
       "      <td>...</td>\n",
       "      <td>...</td>\n",
       "      <td>...</td>\n",
       "      <td>...</td>\n",
       "    </tr>\n",
       "    <tr>\n",
       "      <th>24822</th>\n",
       "      <td>In recent months, there have been anti-U.S. an...</td>\n",
       "      <td>In recent months, there have been *s* anti-U.S...</td>\n",
       "      <td>19</td>\n",
       "      <td>3</td>\n",
       "      <td>0.2</td>\n",
       "    </tr>\n",
       "    <tr>\n",
       "      <th>24823</th>\n",
       "      <td>Do n't think that you are better than you real...</td>\n",
       "      <td>Do n't think that you are better than you real...</td>\n",
       "      <td>11</td>\n",
       "      <td>0</td>\n",
       "      <td>0.0</td>\n",
       "    </tr>\n",
       "    <tr>\n",
       "      <th>24824</th>\n",
       "      <td>He succeeds Paul P. Aniskovich Jr., who resign...</td>\n",
       "      <td>He succeeds *s* Paul P. Aniskovich Jr. | PER *...</td>\n",
       "      <td>16</td>\n",
       "      <td>1</td>\n",
       "      <td>0.1</td>\n",
       "    </tr>\n",
       "    <tr>\n",
       "      <th>24825</th>\n",
       "      <td>The product automates an array of functions pe...</td>\n",
       "      <td>The product automates an array of functions pe...</td>\n",
       "      <td>14</td>\n",
       "      <td>0</td>\n",
       "      <td>0.0</td>\n",
       "    </tr>\n",
       "    <tr>\n",
       "      <th>24826</th>\n",
       "      <td>The Eighth Route Army guerrillas were extraord...</td>\n",
       "      <td>The *s* Eighth Route Army | ORG *e* guerrillas...</td>\n",
       "      <td>20</td>\n",
       "      <td>3</td>\n",
       "      <td>0.2</td>\n",
       "    </tr>\n",
       "  </tbody>\n",
       "</table>\n",
       "<p>24827 rows × 5 columns</p>\n",
       "</div>"
      ],
      "text/plain": [
       "                                              input_text  \\\n",
       "0      CRICKET - LEICESTERSHIRE TAKE OVER AT TOP AFTE...   \n",
       "1                                      LONDON 1996-08-30   \n",
       "2      West Indian all-rounder Phil Simmons took four...   \n",
       "3      Their stay on top , though , may be short-live...   \n",
       "4      After bowling Somerset out for 83 on the openi...   \n",
       "...                                                  ...   \n",
       "24822  In recent months, there have been anti-U.S. an...   \n",
       "24823  Do n't think that you are better than you real...   \n",
       "24824  He succeeds Paul P. Aniskovich Jr., who resign...   \n",
       "24825  The product automates an array of functions pe...   \n",
       "24826  The Eighth Route Army guerrillas were extraord...   \n",
       "\n",
       "                                             target_text  word_count  \\\n",
       "0      CRICKET - *s* LEICESTERSHIRE | ORG *e* TAKE OV...           9   \n",
       "1                        *s* LONDON | LOC *e* 1996-08-30           2   \n",
       "2      *s* West Indian | MISC *e* all-rounder *s* Phi...          34   \n",
       "3      Their stay on top , though , may be short-live...          33   \n",
       "4      After bowling *s* Somerset | ORG *e* out for 8...          36   \n",
       "...                                                  ...         ...   \n",
       "24822  In recent months, there have been *s* anti-U.S...          19   \n",
       "24823  Do n't think that you are better than you real...          11   \n",
       "24824  He succeeds *s* Paul P. Aniskovich Jr. | PER *...          16   \n",
       "24825  The product automates an array of functions pe...          14   \n",
       "24826  The *s* Eighth Route Army | ORG *e* guerrillas...          20   \n",
       "\n",
       "       NE_count  %_NE_in_sentence  \n",
       "0             1               0.1  \n",
       "1             1               0.5  \n",
       "2             6               0.2  \n",
       "3             5               0.2  \n",
       "4             7               0.2  \n",
       "...         ...               ...  \n",
       "24822         3               0.2  \n",
       "24823         0               0.0  \n",
       "24824         1               0.1  \n",
       "24825         0               0.0  \n",
       "24826         3               0.2  \n",
       "\n",
       "[24827 rows x 5 columns]"
      ]
     },
     "execution_count": 49,
     "metadata": {},
     "output_type": "execute_result"
    }
   ],
   "source": [
    "val_combined_df = pd.concat([conellpp_val, wikineural_val, onto_val], ignore_index=True).drop_duplicates().reset_index(drop=True)\n",
    "val_combined_df"
   ]
  },
  {
   "cell_type": "markdown",
   "id": "6c743d33",
   "metadata": {},
   "source": [
    "### creating a lowercase and uppercase versions of the validation data (not needed)"
   ]
  },
  {
   "cell_type": "code",
   "execution_count": 50,
   "id": "64766d59",
   "metadata": {},
   "outputs": [],
   "source": [
    "# lower_val = lower_case_df(val_combined_df)\n",
    "# lower_val"
   ]
  },
  {
   "cell_type": "code",
   "execution_count": 51,
   "id": "38a8ef1e",
   "metadata": {},
   "outputs": [],
   "source": [
    "# upper_val = upper_case_df(val_combined_df)\n",
    "# lower_upper_val = pd.concat([lower_val, upper_val])\n",
    "# lower_upper_val = lower_upper_val.sample(frac=1, random_state=1).reset_index(drop=True)\n",
    "# lower_upper_val"
   ]
  },
  {
   "cell_type": "markdown",
   "id": "af34bf14",
   "metadata": {},
   "source": [
    "### Saving the data as csv"
   ]
  },
  {
   "cell_type": "code",
   "execution_count": 52,
   "id": "d553fed6",
   "metadata": {},
   "outputs": [],
   "source": [
    "val_combined_df.to_csv('./1-NER_Data/1-csv_format/val/val_data_full_sentence_with_pos.csv', index = False)\n",
    "# lower_val.to_csv('./1-NER_Data/1-csv_format/val/lower_val_data.csv', index = False)\n",
    "# lower_upper_val.to_csv('./1-NER_Data/1-csv_format/val/low_up_val_data.csv', index = False)"
   ]
  },
  {
   "cell_type": "markdown",
   "id": "5fc2a47d",
   "metadata": {},
   "source": [
    "# Test data"
   ]
  },
  {
   "cell_type": "markdown",
   "id": "69fa04e3",
   "metadata": {},
   "source": [
    "### Read the data from either txt files or from huggingface dataset and converting each to target form  --->  [input_text, target_text, word_count, NE_count] "
   ]
  },
  {
   "cell_type": "code",
   "execution_count": 53,
   "id": "cf4e075d",
   "metadata": {},
   "outputs": [
    {
     "data": {
      "text/html": [
       "<div>\n",
       "<style scoped>\n",
       "    .dataframe tbody tr th:only-of-type {\n",
       "        vertical-align: middle;\n",
       "    }\n",
       "\n",
       "    .dataframe tbody tr th {\n",
       "        vertical-align: top;\n",
       "    }\n",
       "\n",
       "    .dataframe thead th {\n",
       "        text-align: right;\n",
       "    }\n",
       "</style>\n",
       "<table border=\"1\" class=\"dataframe\">\n",
       "  <thead>\n",
       "    <tr style=\"text-align: right;\">\n",
       "      <th></th>\n",
       "      <th>input_text</th>\n",
       "      <th>target_text</th>\n",
       "      <th>word_count</th>\n",
       "      <th>NE_count</th>\n",
       "    </tr>\n",
       "  </thead>\n",
       "  <tbody>\n",
       "    <tr>\n",
       "      <th>0</th>\n",
       "      <td>SOCCER - JAPAN GET LUCKY WIN , CHINA IN SURPRI...</td>\n",
       "      <td>SOCCER - *s* JAPAN | LOC *e* GET LUCKY WIN , *...</td>\n",
       "      <td>9</td>\n",
       "      <td>2</td>\n",
       "    </tr>\n",
       "    <tr>\n",
       "      <th>1</th>\n",
       "      <td>Nadim Ladki</td>\n",
       "      <td>*s* Nadim Ladki | PER *e*</td>\n",
       "      <td>2</td>\n",
       "      <td>2</td>\n",
       "    </tr>\n",
       "    <tr>\n",
       "      <th>2</th>\n",
       "      <td>AL-AIN , United Arab Emirates 1996-12-06</td>\n",
       "      <td>*s* AL-AIN | LOC *e* , *s* United Arab Emirate...</td>\n",
       "      <td>5</td>\n",
       "      <td>4</td>\n",
       "    </tr>\n",
       "    <tr>\n",
       "      <th>3</th>\n",
       "      <td>Japan began the defence of their Asian Cup tit...</td>\n",
       "      <td>*s* Japan | LOC *e* began the defence of their...</td>\n",
       "      <td>24</td>\n",
       "      <td>4</td>\n",
       "    </tr>\n",
       "    <tr>\n",
       "      <th>4</th>\n",
       "      <td>But China saw their luck desert them in the se...</td>\n",
       "      <td>But *s* China | LOC *e* saw their luck desert ...</td>\n",
       "      <td>23</td>\n",
       "      <td>2</td>\n",
       "    </tr>\n",
       "    <tr>\n",
       "      <th>...</th>\n",
       "      <td>...</td>\n",
       "      <td>...</td>\n",
       "      <td>...</td>\n",
       "      <td>...</td>\n",
       "    </tr>\n",
       "    <tr>\n",
       "      <th>3447</th>\n",
       "      <td>It all culminated in the fact that I now have ...</td>\n",
       "      <td>It all culminated in the fact that I now have ...</td>\n",
       "      <td>17</td>\n",
       "      <td>1</td>\n",
       "    </tr>\n",
       "    <tr>\n",
       "      <th>3448</th>\n",
       "      <td>That is why this is so emotional a night for m...</td>\n",
       "      <td>That is why this is so emotional a night for m...</td>\n",
       "      <td>13</td>\n",
       "      <td>1</td>\n",
       "    </tr>\n",
       "    <tr>\n",
       "      <th>3449</th>\n",
       "      <td>\" It was the joy that we all had over the peri...</td>\n",
       "      <td>\" It was the joy that we all had over the peri...</td>\n",
       "      <td>27</td>\n",
       "      <td>0</td>\n",
       "    </tr>\n",
       "    <tr>\n",
       "      <th>3450</th>\n",
       "      <td>Charlton managed Ireland for 93 matches , duri...</td>\n",
       "      <td>*s* Charlton | PER *e* managed *s* Ireland | L...</td>\n",
       "      <td>24</td>\n",
       "      <td>2</td>\n",
       "    </tr>\n",
       "    <tr>\n",
       "      <th>3451</th>\n",
       "      <td>He guided Ireland to two successive World Cup ...</td>\n",
       "      <td>He guided *s* Ireland | LOC *e* to two success...</td>\n",
       "      <td>32</td>\n",
       "      <td>7</td>\n",
       "    </tr>\n",
       "  </tbody>\n",
       "</table>\n",
       "<p>3452 rows × 4 columns</p>\n",
       "</div>"
      ],
      "text/plain": [
       "                                             input_text  \\\n",
       "0     SOCCER - JAPAN GET LUCKY WIN , CHINA IN SURPRI...   \n",
       "1                                           Nadim Ladki   \n",
       "2              AL-AIN , United Arab Emirates 1996-12-06   \n",
       "3     Japan began the defence of their Asian Cup tit...   \n",
       "4     But China saw their luck desert them in the se...   \n",
       "...                                                 ...   \n",
       "3447  It all culminated in the fact that I now have ...   \n",
       "3448  That is why this is so emotional a night for m...   \n",
       "3449  \" It was the joy that we all had over the peri...   \n",
       "3450  Charlton managed Ireland for 93 matches , duri...   \n",
       "3451  He guided Ireland to two successive World Cup ...   \n",
       "\n",
       "                                            target_text  word_count  NE_count  \n",
       "0     SOCCER - *s* JAPAN | LOC *e* GET LUCKY WIN , *...           9         2  \n",
       "1                             *s* Nadim Ladki | PER *e*           2         2  \n",
       "2     *s* AL-AIN | LOC *e* , *s* United Arab Emirate...           5         4  \n",
       "3     *s* Japan | LOC *e* began the defence of their...          24         4  \n",
       "4     But *s* China | LOC *e* saw their luck desert ...          23         2  \n",
       "...                                                 ...         ...       ...  \n",
       "3447  It all culminated in the fact that I now have ...          17         1  \n",
       "3448  That is why this is so emotional a night for m...          13         1  \n",
       "3449  \" It was the joy that we all had over the peri...          27         0  \n",
       "3450  *s* Charlton | PER *e* managed *s* Ireland | L...          24         2  \n",
       "3451  He guided *s* Ireland | LOC *e* to two success...          32         7  \n",
       "\n",
       "[3452 rows x 4 columns]"
      ]
     },
     "execution_count": 53,
     "metadata": {},
     "output_type": "execute_result"
    }
   ],
   "source": [
    "# CoNLL2003++ test dataset\n",
    "\n",
    "conellpp_test = parse_file_data(\"./1-NER_Data/0-raw_data/coNLL2003pp/conllpp_test.txt\", in_position=0, pos_position=3, line_len=4, sep=' ')\n",
    "conellpp_test"
   ]
  },
  {
   "cell_type": "code",
   "execution_count": 54,
   "id": "bace7e62",
   "metadata": {},
   "outputs": [
    {
     "data": {
      "text/html": [
       "<div>\n",
       "<style scoped>\n",
       "    .dataframe tbody tr th:only-of-type {\n",
       "        vertical-align: middle;\n",
       "    }\n",
       "\n",
       "    .dataframe tbody tr th {\n",
       "        vertical-align: top;\n",
       "    }\n",
       "\n",
       "    .dataframe thead th {\n",
       "        text-align: right;\n",
       "    }\n",
       "</style>\n",
       "<table border=\"1\" class=\"dataframe\">\n",
       "  <thead>\n",
       "    <tr style=\"text-align: right;\">\n",
       "      <th></th>\n",
       "      <th>input_text</th>\n",
       "      <th>target_text</th>\n",
       "      <th>word_count</th>\n",
       "      <th>NE_count</th>\n",
       "    </tr>\n",
       "  </thead>\n",
       "  <tbody>\n",
       "    <tr>\n",
       "      <th>0</th>\n",
       "      <td>On this occasion he failed to gain the support...</td>\n",
       "      <td>On this occasion he failed to gain the support...</td>\n",
       "      <td>20</td>\n",
       "      <td>4</td>\n",
       "    </tr>\n",
       "    <tr>\n",
       "      <th>1</th>\n",
       "      <td>On both these occasions he was backed by the S...</td>\n",
       "      <td>On both these occasions he was backed by the *...</td>\n",
       "      <td>18</td>\n",
       "      <td>4</td>\n",
       "    </tr>\n",
       "    <tr>\n",
       "      <th>2</th>\n",
       "      <td>He also appeared as himself in the 1996 film \"...</td>\n",
       "      <td>He also appeared as himself in the 1996 film \"...</td>\n",
       "      <td>10</td>\n",
       "      <td>1</td>\n",
       "    </tr>\n",
       "    <tr>\n",
       "      <th>3</th>\n",
       "      <td>The Colorado Rockies were created as an expans...</td>\n",
       "      <td>The *s* Colorado Rockies | ORG *e* were create...</td>\n",
       "      <td>17</td>\n",
       "      <td>4</td>\n",
       "    </tr>\n",
       "    <tr>\n",
       "      <th>4</th>\n",
       "      <td>He kept busy recording demo tapes at his home ...</td>\n",
       "      <td>He kept busy recording demo tapes at his home ...</td>\n",
       "      <td>29</td>\n",
       "      <td>5</td>\n",
       "    </tr>\n",
       "    <tr>\n",
       "      <th>...</th>\n",
       "      <td>...</td>\n",
       "      <td>...</td>\n",
       "      <td>...</td>\n",
       "      <td>...</td>\n",
       "    </tr>\n",
       "    <tr>\n",
       "      <th>11592</th>\n",
       "      <td>com , Amazon .</td>\n",
       "      <td>com , *s* Amazon | ORG *e* .</td>\n",
       "      <td>2</td>\n",
       "      <td>1</td>\n",
       "    </tr>\n",
       "    <tr>\n",
       "      <th>11593</th>\n",
       "      <td>In January 2013 , the European Food Safety Aut...</td>\n",
       "      <td>In January 2013 , the *s* European Food Safety...</td>\n",
       "      <td>27</td>\n",
       "      <td>5</td>\n",
       "    </tr>\n",
       "    <tr>\n",
       "      <th>11594</th>\n",
       "      <td>All of the games had art true to the series , ...</td>\n",
       "      <td>All of the games had art true to the series , ...</td>\n",
       "      <td>23</td>\n",
       "      <td>1</td>\n",
       "    </tr>\n",
       "    <tr>\n",
       "      <th>11595</th>\n",
       "      <td>There was also a game made for the Game Boy ba...</td>\n",
       "      <td>There was also a game made for the *s* Game Bo...</td>\n",
       "      <td>20</td>\n",
       "      <td>2</td>\n",
       "    </tr>\n",
       "    <tr>\n",
       "      <th>11596</th>\n",
       "      <td>This system was widely copied in various NATO ...</td>\n",
       "      <td>This system was widely copied in various *s* N...</td>\n",
       "      <td>9</td>\n",
       "      <td>1</td>\n",
       "    </tr>\n",
       "  </tbody>\n",
       "</table>\n",
       "<p>11597 rows × 4 columns</p>\n",
       "</div>"
      ],
      "text/plain": [
       "                                              input_text  \\\n",
       "0      On this occasion he failed to gain the support...   \n",
       "1      On both these occasions he was backed by the S...   \n",
       "2      He also appeared as himself in the 1996 film \"...   \n",
       "3      The Colorado Rockies were created as an expans...   \n",
       "4      He kept busy recording demo tapes at his home ...   \n",
       "...                                                  ...   \n",
       "11592                                     com , Amazon .   \n",
       "11593  In January 2013 , the European Food Safety Aut...   \n",
       "11594  All of the games had art true to the series , ...   \n",
       "11595  There was also a game made for the Game Boy ba...   \n",
       "11596  This system was widely copied in various NATO ...   \n",
       "\n",
       "                                             target_text  word_count  NE_count  \n",
       "0      On this occasion he failed to gain the support...          20         4  \n",
       "1      On both these occasions he was backed by the *...          18         4  \n",
       "2      He also appeared as himself in the 1996 film \"...          10         1  \n",
       "3      The *s* Colorado Rockies | ORG *e* were create...          17         4  \n",
       "4      He kept busy recording demo tapes at his home ...          29         5  \n",
       "...                                                  ...         ...       ...  \n",
       "11592                       com , *s* Amazon | ORG *e* .           2         1  \n",
       "11593  In January 2013 , the *s* European Food Safety...          27         5  \n",
       "11594  All of the games had art true to the series , ...          23         1  \n",
       "11595  There was also a game made for the *s* Game Bo...          20         2  \n",
       "11596  This system was widely copied in various *s* N...           9         1  \n",
       "\n",
       "[11597 rows x 4 columns]"
      ]
     },
     "execution_count": 54,
     "metadata": {},
     "output_type": "execute_result"
    }
   ],
   "source": [
    "# wikineural test dataset\n",
    "\n",
    "wikineural_test = parse_file_data(\"./1-NER_Data/0-raw_data/wikineural/test.conllu.txt\", 1, 2, 3, '\\t')\n",
    "wikineural_test"
   ]
  },
  {
   "cell_type": "code",
   "execution_count": 55,
   "id": "c5e20ec3",
   "metadata": {},
   "outputs": [],
   "source": [
    "# OntoNotes 5.0 test dataset refer section above"
   ]
  },
  {
   "cell_type": "markdown",
   "id": "bc62e792",
   "metadata": {},
   "source": [
    "### Adding entity as percentage of the input sentence"
   ]
  },
  {
   "cell_type": "code",
   "execution_count": 56,
   "id": "a96ca4d8",
   "metadata": {},
   "outputs": [],
   "source": [
    "conellpp_test = add_per_NE_sent(conellpp_test)\n",
    "wikineural_test = add_per_NE_sent(wikineural_test)\n",
    "onto_test = add_per_NE_sent(onto_test)"
   ]
  },
  {
   "cell_type": "code",
   "execution_count": 57,
   "id": "d2d7508c",
   "metadata": {},
   "outputs": [
    {
     "name": "stdout",
     "output_type": "stream",
     "text": [
      "3452\n",
      "there are 0.22624565469293165 sentences in the range of 0:0.1\n"
     ]
    },
    {
     "data": {
      "image/png": "[encoded data removed]",
      "text/plain": [
       "<Figure size 432x288 with 1 Axes>"
      ]
     },
     "metadata": {
      "needs_background": "light"
     },
     "output_type": "display_data"
    }
   ],
   "source": [
    "plot_percent_NE = conellpp_test['%_NE_in_sentence'].value_counts().sort_index()\n",
    "plot_percent_NE.plot(kind='bar')\n",
    "print(len(conellpp_test))\n",
    "print(\"there are\", sum(plot_percent_NE.loc[0:0.099])/len(conellpp_test), \"sentences in the range of 0:0.1\")"
   ]
  },
  {
   "cell_type": "code",
   "execution_count": 58,
   "id": "220afe38",
   "metadata": {},
   "outputs": [
    {
     "data": {
      "text/plain": [
       "<AxesSubplot:xlabel='word_count'>"
      ]
     },
     "execution_count": 58,
     "metadata": {},
     "output_type": "execute_result"
    },
    {
     "data": {
      "image/png": "[encoded data removed]",
      "text/plain": [
       "<Figure size 432x288 with 1 Axes>"
      ]
     },
     "metadata": {
      "needs_background": "light"
     },
     "output_type": "display_data"
    }
   ],
   "source": [
    "conellpp_test.groupby(by='word_count')['input_text'].count().head(10).plot(kind='bar')"
   ]
  },
  {
   "cell_type": "code",
   "execution_count": 59,
   "id": "b0e06d16",
   "metadata": {},
   "outputs": [
    {
     "data": {
      "text/html": [
       "<div>\n",
       "<style scoped>\n",
       "    .dataframe tbody tr th:only-of-type {\n",
       "        vertical-align: middle;\n",
       "    }\n",
       "\n",
       "    .dataframe tbody tr th {\n",
       "        vertical-align: top;\n",
       "    }\n",
       "\n",
       "    .dataframe thead th {\n",
       "        text-align: right;\n",
       "    }\n",
       "</style>\n",
       "<table border=\"1\" class=\"dataframe\">\n",
       "  <thead>\n",
       "    <tr style=\"text-align: right;\">\n",
       "      <th></th>\n",
       "      <th>input_text</th>\n",
       "      <th>target_text</th>\n",
       "      <th>word_count</th>\n",
       "      <th>NE_count</th>\n",
       "      <th>%_NE_in_sentence</th>\n",
       "    </tr>\n",
       "  </thead>\n",
       "  <tbody>\n",
       "    <tr>\n",
       "      <th>0</th>\n",
       "      <td>SOCCER - JAPAN GET LUCKY WIN , CHINA IN SURPRI...</td>\n",
       "      <td>SOCCER - *s* JAPAN | LOC *e* GET LUCKY WIN , *...</td>\n",
       "      <td>9</td>\n",
       "      <td>2</td>\n",
       "      <td>0.2</td>\n",
       "    </tr>\n",
       "    <tr>\n",
       "      <th>1</th>\n",
       "      <td>Nadim Ladki</td>\n",
       "      <td>*s* Nadim Ladki | PER *e*</td>\n",
       "      <td>2</td>\n",
       "      <td>2</td>\n",
       "      <td>1.0</td>\n",
       "    </tr>\n",
       "    <tr>\n",
       "      <th>2</th>\n",
       "      <td>AL-AIN , United Arab Emirates 1996-12-06</td>\n",
       "      <td>*s* AL-AIN | LOC *e* , *s* United Arab Emirate...</td>\n",
       "      <td>5</td>\n",
       "      <td>4</td>\n",
       "      <td>0.8</td>\n",
       "    </tr>\n",
       "    <tr>\n",
       "      <th>3</th>\n",
       "      <td>Japan began the defence of their Asian Cup tit...</td>\n",
       "      <td>*s* Japan | LOC *e* began the defence of their...</td>\n",
       "      <td>24</td>\n",
       "      <td>4</td>\n",
       "      <td>0.2</td>\n",
       "    </tr>\n",
       "    <tr>\n",
       "      <th>4</th>\n",
       "      <td>But China saw their luck desert them in the se...</td>\n",
       "      <td>But *s* China | LOC *e* saw their luck desert ...</td>\n",
       "      <td>23</td>\n",
       "      <td>2</td>\n",
       "      <td>0.1</td>\n",
       "    </tr>\n",
       "    <tr>\n",
       "      <th>...</th>\n",
       "      <td>...</td>\n",
       "      <td>...</td>\n",
       "      <td>...</td>\n",
       "      <td>...</td>\n",
       "      <td>...</td>\n",
       "    </tr>\n",
       "    <tr>\n",
       "      <th>3444</th>\n",
       "      <td>It all culminated in the fact that I now have ...</td>\n",
       "      <td>It all culminated in the fact that I now have ...</td>\n",
       "      <td>17</td>\n",
       "      <td>1</td>\n",
       "      <td>0.1</td>\n",
       "    </tr>\n",
       "    <tr>\n",
       "      <th>3445</th>\n",
       "      <td>That is why this is so emotional a night for m...</td>\n",
       "      <td>That is why this is so emotional a night for m...</td>\n",
       "      <td>13</td>\n",
       "      <td>1</td>\n",
       "      <td>0.1</td>\n",
       "    </tr>\n",
       "    <tr>\n",
       "      <th>3446</th>\n",
       "      <td>\" It was the joy that we all had over the peri...</td>\n",
       "      <td>\" It was the joy that we all had over the peri...</td>\n",
       "      <td>27</td>\n",
       "      <td>0</td>\n",
       "      <td>0.0</td>\n",
       "    </tr>\n",
       "    <tr>\n",
       "      <th>3447</th>\n",
       "      <td>Charlton managed Ireland for 93 matches , duri...</td>\n",
       "      <td>*s* Charlton | PER *e* managed *s* Ireland | L...</td>\n",
       "      <td>24</td>\n",
       "      <td>2</td>\n",
       "      <td>0.1</td>\n",
       "    </tr>\n",
       "    <tr>\n",
       "      <th>3448</th>\n",
       "      <td>He guided Ireland to two successive World Cup ...</td>\n",
       "      <td>He guided *s* Ireland | LOC *e* to two success...</td>\n",
       "      <td>32</td>\n",
       "      <td>7</td>\n",
       "      <td>0.2</td>\n",
       "    </tr>\n",
       "  </tbody>\n",
       "</table>\n",
       "<p>3449 rows × 5 columns</p>\n",
       "</div>"
      ],
      "text/plain": [
       "                                             input_text  \\\n",
       "0     SOCCER - JAPAN GET LUCKY WIN , CHINA IN SURPRI...   \n",
       "1                                           Nadim Ladki   \n",
       "2              AL-AIN , United Arab Emirates 1996-12-06   \n",
       "3     Japan began the defence of their Asian Cup tit...   \n",
       "4     But China saw their luck desert them in the se...   \n",
       "...                                                 ...   \n",
       "3444  It all culminated in the fact that I now have ...   \n",
       "3445  That is why this is so emotional a night for m...   \n",
       "3446  \" It was the joy that we all had over the peri...   \n",
       "3447  Charlton managed Ireland for 93 matches , duri...   \n",
       "3448  He guided Ireland to two successive World Cup ...   \n",
       "\n",
       "                                            target_text  word_count  NE_count  \\\n",
       "0     SOCCER - *s* JAPAN | LOC *e* GET LUCKY WIN , *...           9         2   \n",
       "1                             *s* Nadim Ladki | PER *e*           2         2   \n",
       "2     *s* AL-AIN | LOC *e* , *s* United Arab Emirate...           5         4   \n",
       "3     *s* Japan | LOC *e* began the defence of their...          24         4   \n",
       "4     But *s* China | LOC *e* saw their luck desert ...          23         2   \n",
       "...                                                 ...         ...       ...   \n",
       "3444  It all culminated in the fact that I now have ...          17         1   \n",
       "3445  That is why this is so emotional a night for m...          13         1   \n",
       "3446  \" It was the joy that we all had over the peri...          27         0   \n",
       "3447  *s* Charlton | PER *e* managed *s* Ireland | L...          24         2   \n",
       "3448  He guided *s* Ireland | LOC *e* to two success...          32         7   \n",
       "\n",
       "      %_NE_in_sentence  \n",
       "0                  0.2  \n",
       "1                  1.0  \n",
       "2                  0.8  \n",
       "3                  0.2  \n",
       "4                  0.1  \n",
       "...                ...  \n",
       "3444               0.1  \n",
       "3445               0.1  \n",
       "3446               0.0  \n",
       "3447               0.1  \n",
       "3448               0.2  \n",
       "\n",
       "[3449 rows x 5 columns]"
      ]
     },
     "execution_count": 59,
     "metadata": {},
     "output_type": "execute_result"
    }
   ],
   "source": [
    "conellpp_test = conellpp_test.drop(conellpp_test.loc[conellpp_test['word_count'] == 0].index).reset_index(drop=True)\n",
    "conellpp_test"
   ]
  },
  {
   "cell_type": "code",
   "execution_count": null,
   "id": "df5fd34d",
   "metadata": {},
   "outputs": [],
   "source": []
  },
  {
   "cell_type": "code",
   "execution_count": 60,
   "id": "b0cbde3b",
   "metadata": {},
   "outputs": [
    {
     "name": "stdout",
     "output_type": "stream",
     "text": [
      "there are 0.13460377683883762 sentences in the range of 0:0.1\n"
     ]
    },
    {
     "data": {
      "image/png": "[encoded data removed]",
      "text/plain": [
       "<Figure size 432x288 with 1 Axes>"
      ]
     },
     "metadata": {
      "needs_background": "light"
     },
     "output_type": "display_data"
    }
   ],
   "source": [
    "plot_percent_NE = wikineural_test['%_NE_in_sentence'].value_counts().sort_index()\n",
    "plot_percent_NE.plot(kind='bar')\n",
    "print(\"there are\", sum(plot_percent_NE.loc[0:0.099])/len(wikineural_test), \"sentences in the range of 0:0.1\")"
   ]
  },
  {
   "cell_type": "code",
   "execution_count": 61,
   "id": "5c1f7917",
   "metadata": {},
   "outputs": [
    {
     "data": {
      "text/plain": [
       "<AxesSubplot:xlabel='word_count'>"
      ]
     },
     "execution_count": 61,
     "metadata": {},
     "output_type": "execute_result"
    },
    {
     "data": {
      "image/png": "[encoded data removed]",
      "text/plain": [
       "<Figure size 432x288 with 1 Axes>"
      ]
     },
     "metadata": {
      "needs_background": "light"
     },
     "output_type": "display_data"
    }
   ],
   "source": [
    "wikineural_test.groupby(by='word_count')['input_text'].count().head(10).plot(kind='bar')"
   ]
  },
  {
   "cell_type": "code",
   "execution_count": null,
   "id": "d95c4456",
   "metadata": {},
   "outputs": [],
   "source": []
  },
  {
   "cell_type": "code",
   "execution_count": 62,
   "id": "4ee035c6",
   "metadata": {},
   "outputs": [
    {
     "name": "stdout",
     "output_type": "stream",
     "text": [
      "10412\n",
      "there are 0.7099055412436228 sentences in the range of 0:0.1\n"
     ]
    },
    {
     "data": {
      "image/png": "[encoded data removed]",
      "text/plain": [
       "<Figure size 432x288 with 1 Axes>"
      ]
     },
     "metadata": {
      "needs_background": "light"
     },
     "output_type": "display_data"
    }
   ],
   "source": [
    "plot_percent_NE = onto_test['%_NE_in_sentence'].value_counts().sort_index()\n",
    "plot_percent_NE.plot(kind='bar')\n",
    "print(len(onto_val))\n",
    "print(\"there are\", sum(plot_percent_NE.loc[0:0.099])/len(onto_test), \"sentences in the range of 0:0.1\")"
   ]
  },
  {
   "cell_type": "code",
   "execution_count": 63,
   "id": "a0468108",
   "metadata": {},
   "outputs": [
    {
     "data": {
      "text/html": [
       "<div>\n",
       "<style scoped>\n",
       "    .dataframe tbody tr th:only-of-type {\n",
       "        vertical-align: middle;\n",
       "    }\n",
       "\n",
       "    .dataframe tbody tr th {\n",
       "        vertical-align: top;\n",
       "    }\n",
       "\n",
       "    .dataframe thead th {\n",
       "        text-align: right;\n",
       "    }\n",
       "</style>\n",
       "<table border=\"1\" class=\"dataframe\">\n",
       "  <thead>\n",
       "    <tr style=\"text-align: right;\">\n",
       "      <th></th>\n",
       "      <th>input_text</th>\n",
       "      <th>target_text</th>\n",
       "      <th>word_count</th>\n",
       "      <th>NE_count</th>\n",
       "      <th>%_NE_in_sentence</th>\n",
       "    </tr>\n",
       "  </thead>\n",
       "  <tbody>\n",
       "    <tr>\n",
       "      <th>38516</th>\n",
       "      <td>`` Opening ''-LRB-1981-RRB-, from Glassworks, ...</td>\n",
       "      <td>`` *s* Opening | MISC *e* ''-LRB-1981-RRB-, fr...</td>\n",
       "      <td>41</td>\n",
       "      <td>4</td>\n",
       "      <td>0.1</td>\n",
       "    </tr>\n",
       "    <tr>\n",
       "      <th>43309</th>\n",
       "      <td>in fact he had the best average of rehabilitat...</td>\n",
       "      <td>in fact he had the best average of rehabilitat...</td>\n",
       "      <td>24</td>\n",
       "      <td>0</td>\n",
       "      <td>0.0</td>\n",
       "    </tr>\n",
       "    <tr>\n",
       "      <th>7037</th>\n",
       "      <td>The hotel and Gaming company said Merrill Lync...</td>\n",
       "      <td>The hotel and Gaming company said *s* Merrill ...</td>\n",
       "      <td>14</td>\n",
       "      <td>1</td>\n",
       "      <td>0.1</td>\n",
       "    </tr>\n",
       "    <tr>\n",
       "      <th>96679</th>\n",
       "      <td>Westridge Capital has used enhanced indexing t...</td>\n",
       "      <td>*s* Westridge Capital | ORG *e* has used enhan...</td>\n",
       "      <td>42</td>\n",
       "      <td>2</td>\n",
       "      <td>0.0</td>\n",
       "    </tr>\n",
       "    <tr>\n",
       "      <th>109892</th>\n",
       "      <td>Arrested were Jose O. Lopez, 27 years old, of ...</td>\n",
       "      <td>Arrested were *s* Jose O. Lopez | PER *e*, 27 ...</td>\n",
       "      <td>54</td>\n",
       "      <td>13</td>\n",
       "      <td>0.2</td>\n",
       "    </tr>\n",
       "    <tr>\n",
       "      <th>...</th>\n",
       "      <td>...</td>\n",
       "      <td>...</td>\n",
       "      <td>...</td>\n",
       "      <td>...</td>\n",
       "      <td>...</td>\n",
       "    </tr>\n",
       "    <tr>\n",
       "      <th>37896</th>\n",
       "      <td>Labor gets 25 pence-LRB-39 cents-RRB-for every...</td>\n",
       "      <td>*s* Labor | ORG *e* gets 25 pence-LRB-39 cents...</td>\n",
       "      <td>15</td>\n",
       "      <td>1</td>\n",
       "      <td>0.1</td>\n",
       "    </tr>\n",
       "    <tr>\n",
       "      <th>77292</th>\n",
       "      <td>And the deal would have had the North Koreans ...</td>\n",
       "      <td>And the deal would have had *s* the North Kore...</td>\n",
       "      <td>14</td>\n",
       "      <td>1</td>\n",
       "      <td>0.1</td>\n",
       "    </tr>\n",
       "    <tr>\n",
       "      <th>113031</th>\n",
       "      <td>Once activated, the card would sit in the car'...</td>\n",
       "      <td>Once activated, the card would sit in the car'...</td>\n",
       "      <td>20</td>\n",
       "      <td>0</td>\n",
       "      <td>0.0</td>\n",
       "    </tr>\n",
       "    <tr>\n",
       "      <th>23988</th>\n",
       "      <td>For example in the 1996 movie '' Tin Cup '' wi...</td>\n",
       "      <td>For example in the 1996 movie *s* '' Tin Cup '...</td>\n",
       "      <td>33</td>\n",
       "      <td>3</td>\n",
       "      <td>0.1</td>\n",
       "    </tr>\n",
       "    <tr>\n",
       "      <th>104997</th>\n",
       "      <td>Choose 203 business executives, including, per...</td>\n",
       "      <td>Choose 203 business executives, including, per...</td>\n",
       "      <td>30</td>\n",
       "      <td>0</td>\n",
       "      <td>0.0</td>\n",
       "    </tr>\n",
       "  </tbody>\n",
       "</table>\n",
       "<p>10428 rows × 5 columns</p>\n",
       "</div>"
      ],
      "text/plain": [
       "                                               input_text  \\\n",
       "38516   `` Opening ''-LRB-1981-RRB-, from Glassworks, ...   \n",
       "43309   in fact he had the best average of rehabilitat...   \n",
       "7037    The hotel and Gaming company said Merrill Lync...   \n",
       "96679   Westridge Capital has used enhanced indexing t...   \n",
       "109892  Arrested were Jose O. Lopez, 27 years old, of ...   \n",
       "...                                                   ...   \n",
       "37896   Labor gets 25 pence-LRB-39 cents-RRB-for every...   \n",
       "77292   And the deal would have had the North Koreans ...   \n",
       "113031  Once activated, the card would sit in the car'...   \n",
       "23988   For example in the 1996 movie '' Tin Cup '' wi...   \n",
       "104997  Choose 203 business executives, including, per...   \n",
       "\n",
       "                                              target_text  word_count  \\\n",
       "38516   `` *s* Opening | MISC *e* ''-LRB-1981-RRB-, fr...          41   \n",
       "43309   in fact he had the best average of rehabilitat...          24   \n",
       "7037    The hotel and Gaming company said *s* Merrill ...          14   \n",
       "96679   *s* Westridge Capital | ORG *e* has used enhan...          42   \n",
       "109892  Arrested were *s* Jose O. Lopez | PER *e*, 27 ...          54   \n",
       "...                                                   ...         ...   \n",
       "37896   *s* Labor | ORG *e* gets 25 pence-LRB-39 cents...          15   \n",
       "77292   And the deal would have had *s* the North Kore...          14   \n",
       "113031  Once activated, the card would sit in the car'...          20   \n",
       "23988   For example in the 1996 movie *s* '' Tin Cup '...          33   \n",
       "104997  Choose 203 business executives, including, per...          30   \n",
       "\n",
       "        NE_count  %_NE_in_sentence  \n",
       "38516          4               0.1  \n",
       "43309          0               0.0  \n",
       "7037           1               0.1  \n",
       "96679          2               0.0  \n",
       "109892        13               0.2  \n",
       "...          ...               ...  \n",
       "37896          1               0.1  \n",
       "77292          1               0.1  \n",
       "113031         0               0.0  \n",
       "23988          3               0.1  \n",
       "104997         0               0.0  \n",
       "\n",
       "[10428 rows x 5 columns]"
      ]
     },
     "execution_count": 63,
     "metadata": {},
     "output_type": "execute_result"
    }
   ],
   "source": [
    "# dropping half of the rows with zero entities randomly\n",
    "\n",
    "np.random.seed(10)\n",
    "zero_entities = onto_test.loc[onto_test['%_NE_in_sentence']==0].index\n",
    "remove_n = round(len(zero_entities)*2/3)\n",
    "\n",
    "drop_indices = np.random.choice(zero_entities, remove_n, replace=False)\n",
    "onto_test.drop(drop_indices, inplace=True)\n",
    "onto_test"
   ]
  },
  {
   "cell_type": "code",
   "execution_count": 64,
   "id": "d0bf4a36",
   "metadata": {},
   "outputs": [
    {
     "name": "stdout",
     "output_type": "stream",
     "text": [
      "10428\n",
      "there are 0.449271192942079 sentences in the range of 0:0.1\n",
      "4685\n"
     ]
    },
    {
     "data": {
      "image/png": "[encoded data removed]",
      "text/plain": [
       "<Figure size 432x288 with 1 Axes>"
      ]
     },
     "metadata": {
      "needs_background": "light"
     },
     "output_type": "display_data"
    }
   ],
   "source": [
    "plot_percent_NE = onto_test['%_NE_in_sentence'].value_counts().sort_index()\n",
    "plot_percent_NE.plot(kind='bar')\n",
    "print(len(onto_test))\n",
    "print(\"there are\", sum(plot_percent_NE.loc[0:0.01])/len(onto_test), \"sentences in the range of 0:0.1\")\n",
    "print(sum(plot_percent_NE.loc[0:0.01]))"
   ]
  },
  {
   "cell_type": "code",
   "execution_count": 65,
   "id": "fe2904eb",
   "metadata": {},
   "outputs": [
    {
     "data": {
      "text/plain": [
       "<AxesSubplot:xlabel='word_count'>"
      ]
     },
     "execution_count": 65,
     "metadata": {},
     "output_type": "execute_result"
    },
    {
     "data": {
      "image/png": "[encoded data removed]",
      "text/plain": [
       "<Figure size 432x288 with 1 Axes>"
      ]
     },
     "metadata": {
      "needs_background": "light"
     },
     "output_type": "display_data"
    }
   ],
   "source": [
    "onto_test.groupby(by='word_count')['input_text'].count().head(10).plot(kind='bar')"
   ]
  },
  {
   "cell_type": "code",
   "execution_count": null,
   "id": "a2d00cfe",
   "metadata": {},
   "outputs": [],
   "source": []
  },
  {
   "cell_type": "markdown",
   "id": "bb0e5883",
   "metadata": {},
   "source": [
    "### Combining the datasets"
   ]
  },
  {
   "cell_type": "code",
   "execution_count": 66,
   "id": "e9259312",
   "metadata": {},
   "outputs": [],
   "source": [
    "# test_combined_df = pd.concat([conellpp_test, wikineural_test, onto_test], ignore_index=True).drop_duplicates().reset_index(drop=True)\n",
    "# test_combined_df"
   ]
  },
  {
   "cell_type": "markdown",
   "id": "ab179ecf",
   "metadata": {},
   "source": [
    "### creating a lowercase and uppercase versions of the test data"
   ]
  },
  {
   "cell_type": "code",
   "execution_count": 67,
   "id": "e0666928",
   "metadata": {},
   "outputs": [],
   "source": [
    "# lower_test = lower_case_df(test_combined_df)\n",
    "# lower_test"
   ]
  },
  {
   "cell_type": "code",
   "execution_count": 68,
   "id": "75a9de16",
   "metadata": {},
   "outputs": [],
   "source": [
    "# upper_test = upper_case_df(test_combined_df)\n",
    "# lower_upper_test = pd.concat([lower_test, upper_test])\n",
    "# lower_upper_test = lower_upper_test.sample(frac=1, random_state=1).reset_index(drop=True)\n",
    "# lower_upper_test"
   ]
  },
  {
   "cell_type": "markdown",
   "id": "e5a761ba",
   "metadata": {},
   "source": [
    "### Saving the data as csv"
   ]
  },
  {
   "cell_type": "code",
   "execution_count": 69,
   "id": "fa6e52e2",
   "metadata": {},
   "outputs": [],
   "source": [
    "# test_combined_df.to_csv('./1-NER_Data/1-csv_format/test/test_data.csv', index = False)\n",
    "\n",
    "conellpp_test.to_csv('./1-NER_Data/1-csv_format/test/conell_test_data_full_sentence_with_pos.csv', index = False)\n",
    "wikineural_test.to_csv('./1-NER_Data/1-csv_format/test/wiki_neural_test_data_full_sentence_with_pos.csv', index = False)\n",
    "onto_test.to_csv('./1-NER_Data/1-csv_format/test/onto_test_data_full_sentence_with_pos.csv', index = False)\n",
    "\n",
    "# lower_test.to_csv('./1-NER_Data/1-csv_format/test/lower_test_data.csv', index = False)\n",
    "# lower_upper_test.to_csv('./1-NER_Data/1-csv_format/test/low_up_test_data.csv', index = False)"
   ]
  },
  {
   "cell_type": "code",
   "execution_count": null,
   "id": "cc120f79",
   "metadata": {},
   "outputs": [],
   "source": []
  }
 ],
 "metadata": {
  "kernelspec": {
   "display_name": "Python 3",
   "language": "python",
   "name": "python3"
  },
  "language_info": {
   "codemirror_mode": {
    "name": "ipython",
    "version": 3
   },
   "file_extension": ".py",
   "mimetype": "text/x-python",
   "name": "python",
   "nbconvert_exporter": "python",
   "pygments_lexer": "ipython3",
   "version": "3.7.10"
  }
 },
 "nbformat": 4,
 "nbformat_minor": 5
}
