{
 "cells": [
  {
   "cell_type": "code",
   "execution_count": 1,
   "id": "9ddbb761",
   "metadata": {},
   "outputs": [],
   "source": [
    "# https://www.datacamp.com/tutorial/fuzzy-string-python\n",
    "# https://towardsdatascience.com/fuzzy-string-matching-in-python-68f240d910fe#:~:text=Fuzzywuzzy%20is%20a%20python%20library,showcase%20them%20on%20one%20platform.\n"
   ]
  },
  {
   "cell_type": "code",
   "execution_count": 20,
   "id": "0f518f2a",
   "metadata": {},
   "outputs": [],
   "source": [
    "# !pip install wandb\n",
    "# !pip install transformers\n",
    "# !pip install sentencepiece\n",
    "\n",
    "from transformers import T5TokenizerFast, T5ForConditionalGeneration \n",
    "from transformers import Trainer\n",
    "\n",
    "import os\n",
    "import time \n",
    "\n",
    "os.environ[\"CUDA_VISIBLE_DEVICES\"] = \"1,2,3\" \n",
    "import pandas as pd\n",
    "import numpy as np\n",
    "import torch\n",
    "import torchvision\n",
    "import Levenshtein\n",
    "from fuzzywuzzy import fuzz\n",
    "from datasets import list_metrics\n",
    "from sklearn.metrics import precision_recall_fscore_support\n",
    "\n",
    "device = torch.device(\"cuda\") if torch.cuda.is_available() else torch.device(\"cpu\")\n",
    "\n",
    "# wandb.login()\n",
    "\n",
    "# os.environ[\"WANDB_DISABLED\"] = \"true\"\n",
    "\n",
    "device = torch.device(\"cuda\") if torch.cuda.is_available() else torch.device(\"cpu\")"
   ]
  },
  {
   "cell_type": "code",
   "execution_count": null,
   "id": "7f83b08c",
   "metadata": {},
   "outputs": [],
   "source": []
  },
  {
   "cell_type": "code",
   "execution_count": 4,
   "id": "2f643b64",
   "metadata": {},
   "outputs": [],
   "source": [
    "# Create torch dataset\n",
    "# https://towardsdatascience.com/fine-tuning-pretrained-nlp-models-with-huggingfaces-trainer-6326a4456e7b\n",
    "\n",
    "class Dataset(torch.utils.data.Dataset):\n",
    "    def __init__(self, encodings, labels=None):\n",
    "        self.encodings = encodings\n",
    "        self.labels = labels\n",
    "\n",
    "    def __getitem__(self, idx):\n",
    "        item = {key: torch.tensor(val[idx]) for key, val in self.encodings.items()}\n",
    "        if self.labels:\n",
    "            item[\"labels\"] = torch.tensor(self.labels['input_ids'][idx])\n",
    "        return item\n",
    "\n",
    "    def __len__(self):\n",
    "        return len(self.encodings[\"input_ids\"])"
   ]
  },
  {
   "cell_type": "code",
   "execution_count": 5,
   "id": "c31f1bbd",
   "metadata": {},
   "outputs": [],
   "source": [
    "# conellpp_test.to_csv('./1-NER_Data/1-csv_format/test/conell_test_data.csv', index = False)\n",
    "# wikineural_test.to_csv('./1-NER_Data/1-csv_format/test/wiki_neural_test_data.csv', index = False)\n",
    "# onto_test.to_csv('./1-NER_Data/1-csv_format/test/onto_test_data.csv', index = False)\n",
    "# wnut_test.to_csv('./1-NER_Data/1-csv_format/test/wnut_test_data.csv', index = False)"
   ]
  },
  {
   "cell_type": "code",
   "execution_count": null,
   "id": "a760e475",
   "metadata": {},
   "outputs": [],
   "source": []
  },
  {
   "cell_type": "code",
   "execution_count": 6,
   "id": "341c0402",
   "metadata": {},
   "outputs": [],
   "source": [
    "def read_test_data(path):\n",
    "    return pd.read_csv(path)"
   ]
  },
  {
   "cell_type": "code",
   "execution_count": 7,
   "id": "964974b0",
   "metadata": {},
   "outputs": [],
   "source": [
    "def encode_input_as_tokens(dataset):\n",
    "    tokens = []\n",
    "    for text in dataset[\"input_text\"]:\n",
    "        tokens.append(tokenizer('ner: ' + text, return_tensors=\"pt\", padding=True, truncation=True, max_length=512).input_ids)\n",
    "    return tokens"
   ]
  },
  {
   "cell_type": "code",
   "execution_count": 8,
   "id": "8d2e2794",
   "metadata": {},
   "outputs": [],
   "source": [
    "def predict_ner(model, tokens):\n",
    "    results = []\n",
    "    model = model.to(device)\n",
    "    counter =0\n",
    "    for token in tokens:\n",
    "        results.append(model.generate(token.to(device))) \n",
    "        counter +=1\n",
    "        if counter % 100==0:\n",
    "            print(counter)\n",
    "    return results"
   ]
  },
  {
   "cell_type": "code",
   "execution_count": 9,
   "id": "7e2ff035",
   "metadata": {},
   "outputs": [],
   "source": [
    "def decode_prediction(predicted_tokens):\n",
    "    final_ouput_2 = []\n",
    "    for result in predicted_tokens:\n",
    "        final_ouput_2.append(tokenizer.decode(result[0], skip_special_tokens=True))\n",
    "    return final_ouput_2"
   ]
  },
  {
   "cell_type": "code",
   "execution_count": 10,
   "id": "89c7fb6b",
   "metadata": {},
   "outputs": [],
   "source": [
    "def compare_prediction_with_target(predictions, target_text):\n",
    "    counter = 0\n",
    "    for i in range(len(predictions)):\n",
    "        if predictions[i] != target_text[i]:\n",
    "            counter += 1\n",
    "    return 1- counter/len(predictions)"
   ]
  },
  {
   "cell_type": "code",
   "execution_count": 11,
   "id": "de2e8fc6",
   "metadata": {},
   "outputs": [],
   "source": [
    "def compute_metrics(pred):\n",
    "    labels = pred.label_ids\n",
    "    preds = pred.predictions.argmax(-1)\n",
    "    precision, recall, f1, _ = precision_recall_fscore_support(labels, preds, average='binary')\n",
    "    acc = accuracy_score(labels, preds)\n",
    "    return {\n",
    "        'accuracy': acc,\n",
    "        'f1': f1,\n",
    "        'precision': precision,\n",
    "        'recall': recall\n",
    "    }"
   ]
  },
  {
   "cell_type": "code",
   "execution_count": null,
   "id": "5912c1ce",
   "metadata": {},
   "outputs": [],
   "source": []
  },
  {
   "cell_type": "code",
   "execution_count": null,
   "id": "8bca0a68",
   "metadata": {},
   "outputs": [],
   "source": []
  },
  {
   "cell_type": "code",
   "execution_count": 12,
   "id": "3ea47c21",
   "metadata": {},
   "outputs": [],
   "source": [
    "max_source_length = 512\n",
    "max_target_length = 256"
   ]
  },
  {
   "cell_type": "code",
   "execution_count": null,
   "id": "e103cd87",
   "metadata": {},
   "outputs": [],
   "source": [
    "tokenizer = T5TokenizerFast.from_pretrained(\"t5-base\")\n",
    "model_path = \"./NER_normal_diff_eval_steps_patience_5/checkpoint-37430\"\n",
    "model = T5ForConditionalGeneration.from_pretrained(model_path).to(device)"
   ]
  },
  {
   "cell_type": "code",
   "execution_count": null,
   "id": "fc0fd027",
   "metadata": {},
   "outputs": [],
   "source": [
    "# from transformers import Seq2SeqTrainingArguments\n",
    "\n",
    "# test_args = Seq2SeqTrainingArguments(\n",
    "#     \"test_trainer\",\n",
    "#     per_device_train_batch_size = 8,\n",
    "#     per_device_eval_batch_size = 8,\n",
    "#     eval_accumulation_steps = 50,  # VIP\n",
    "#     predict_with_generate=True\n",
    "# )"
   ]
  },
  {
   "cell_type": "code",
   "execution_count": null,
   "id": "89658fd2",
   "metadata": {},
   "outputs": [],
   "source": [
    "# from transformers import Seq2SeqTrainer\n",
    "\n",
    "# trainer = Seq2SeqTrainer(\n",
    "#     model=model, \n",
    "#     args=test_args\n",
    "# #     train_dataset= train_dataset, \n",
    "# #     eval_dataset= eval_dataset\n",
    "# )"
   ]
  },
  {
   "cell_type": "markdown",
   "id": "a47e52fc",
   "metadata": {},
   "source": [
    "## conell test data "
   ]
  },
  {
   "cell_type": "code",
   "execution_count": null,
   "id": "f75e44ba",
   "metadata": {},
   "outputs": [],
   "source": [
    "conell_test_data = read_test_data('./1-NER_Data/1-csv_format/test/conell_test_data.csv')\n",
    "conell_test_data"
   ]
  },
  {
   "cell_type": "code",
   "execution_count": null,
   "id": "92dcb5d4",
   "metadata": {},
   "outputs": [],
   "source": [
    "conell_test_data['target_text'].str.len().hist()"
   ]
  },
  {
   "cell_type": "code",
   "execution_count": null,
   "id": "04daebae",
   "metadata": {},
   "outputs": [],
   "source": [
    "conell_tokens = encode_input_as_tokens(conell_test_data)"
   ]
  },
  {
   "cell_type": "code",
   "execution_count": null,
   "id": "8e120056",
   "metadata": {},
   "outputs": [],
   "source": [
    "len(conell_tokens)"
   ]
  },
  {
   "cell_type": "code",
   "execution_count": null,
   "id": "44006556",
   "metadata": {},
   "outputs": [],
   "source": [
    "start = time.time()\n",
    "counter = 0\n",
    "conell_pred = []\n",
    "for token in conell_tokens:\n",
    "    if counter%200 == 0:\n",
    "        print(counter)\n",
    "    counter += 1\n",
    "    prediction = model.generate(token.to(device))\n",
    "    conell_pred.append(prediction)\n",
    "    \n",
    "print(time.time() - start)"
   ]
  },
  {
   "cell_type": "code",
   "execution_count": null,
   "id": "e726415a",
   "metadata": {},
   "outputs": [],
   "source": [
    "# conell_pred = predict_ner(model, conell_tokens)"
   ]
  },
  {
   "cell_type": "code",
   "execution_count": null,
   "id": "5c7ef649",
   "metadata": {},
   "outputs": [],
   "source": [
    "conell_pred_decoded = decode_prediction(conell_pred)"
   ]
  },
  {
   "cell_type": "code",
   "execution_count": null,
   "id": "77218cbf",
   "metadata": {},
   "outputs": [],
   "source": [
    "conell_target_text = conell_test_data['target_text']"
   ]
  },
  {
   "cell_type": "code",
   "execution_count": null,
   "id": "46bef4f5",
   "metadata": {},
   "outputs": [],
   "source": [
    "conell_accuracy = compare_prediction_with_target(conell_pred_decoded, conell_target_text)\n",
    "conell_accuracy"
   ]
  },
  {
   "cell_type": "code",
   "execution_count": null,
   "id": "c612940c",
   "metadata": {},
   "outputs": [],
   "source": []
  },
  {
   "cell_type": "code",
   "execution_count": null,
   "id": "6554b473",
   "metadata": {},
   "outputs": [],
   "source": []
  },
  {
   "cell_type": "code",
   "execution_count": null,
   "id": "ad1523aa",
   "metadata": {},
   "outputs": [],
   "source": []
  },
  {
   "cell_type": "code",
   "execution_count": 27,
   "id": "403bcf91",
   "metadata": {},
   "outputs": [
    {
     "data": {
      "text/plain": [
       "0.7822557262974775"
      ]
     },
     "execution_count": 27,
     "metadata": {},
     "output_type": "execute_result"
    }
   ],
   "source": [
    "conell_accuracy = compare_prediction_with_target(conell_pred_decoded, conell_target_text)\n",
    "conell_accuracy"
   ]
  },
  {
   "cell_type": "code",
   "execution_count": 90,
   "id": "140c3e90",
   "metadata": {},
   "outputs": [
    {
     "data": {
      "text/plain": [
       "0.795592925485648"
      ]
     },
     "execution_count": 90,
     "metadata": {},
     "output_type": "execute_result"
    }
   ],
   "source": [
    "# lower_normal\n",
    "conell_accuracy = compare_prediction_with_target(conell_pred_decoded, conell_target_text)\n",
    "conell_accuracy"
   ]
  },
  {
   "cell_type": "code",
   "execution_count": 91,
   "id": "411b31c2",
   "metadata": {},
   "outputs": [],
   "source": [
    "# predictions = pd.DataFrame({'predictions':conell_pred_decoded, 'actual':conell_target_text}) "
   ]
  },
  {
   "cell_type": "code",
   "execution_count": 92,
   "id": "028729e9",
   "metadata": {},
   "outputs": [],
   "source": [
    "# predictions.to_csv('./1-NER_Data/2-predictions/lower_normal_conell.csv')"
   ]
  },
  {
   "cell_type": "code",
   "execution_count": null,
   "id": "e6994927",
   "metadata": {},
   "outputs": [],
   "source": []
  },
  {
   "cell_type": "code",
   "execution_count": null,
   "id": "71141b8e",
   "metadata": {},
   "outputs": [],
   "source": [
    "conell_false_pos = 0\n",
    "conell_false_neg = 0\n",
    "conell_true_pos = 0\n",
    "conell_errors = 0\n",
    "\n",
    "for i in range(len(conell_pred_decoded)):\n",
    "    split_predicted_entities = conell_pred_decoded[i].split(',')\n",
    "    split_target_entities = conell_target_text[i].split(',')\n",
    "    \n",
    "    for pred in split_predicted_entities:\n",
    "        if pred in split_target_entities:\n",
    "            conell_true_pos += 1\n",
    "        else:\n",
    "            print(split_predicted_entities) \n",
    "            print(split_target_entities)\n",
    "            conell_errors += 1\n",
    "        if len(split_predicted_entities) > len(split_target_entities):\n",
    "            conell_false_pos += len(split_predicted_entities) - len(split_target_entities)\n",
    "        elif len(split_predicted_entities) < len(split_target_entities):\n",
    "            conell_false_neg += len(split_target_entities) - len(split_predicted_entities)"
   ]
  },
  {
   "cell_type": "code",
   "execution_count": null,
   "id": "bba38225",
   "metadata": {},
   "outputs": [],
   "source": [
    "conell_errors"
   ]
  },
  {
   "cell_type": "code",
   "execution_count": null,
   "id": "a7bdc30d",
   "metadata": {},
   "outputs": [],
   "source": [
    "conell_true_pos/(conell_true_pos+conell_errors)"
   ]
  },
  {
   "cell_type": "code",
   "execution_count": null,
   "id": "0c3289a1",
   "metadata": {},
   "outputs": [],
   "source": [
    "# Precision = TP/TP+FP\n",
    "conell_true_pos/(conell_true_pos+conell_false_pos+conell_errors)"
   ]
  },
  {
   "cell_type": "code",
   "execution_count": null,
   "id": "6daa188a",
   "metadata": {},
   "outputs": [],
   "source": [
    "# Recall = TP/TP+FN\n",
    "conell_true_pos/(conell_true_pos+conell_false_neg+conell_errors)"
   ]
  },
  {
   "cell_type": "code",
   "execution_count": null,
   "id": "0f9e0939",
   "metadata": {},
   "outputs": [],
   "source": []
  },
  {
   "cell_type": "code",
   "execution_count": null,
   "id": "2ad65947",
   "metadata": {},
   "outputs": [],
   "source": []
  },
  {
   "cell_type": "code",
   "execution_count": null,
   "id": "1ff5ff51",
   "metadata": {},
   "outputs": [],
   "source": []
  },
  {
   "cell_type": "code",
   "execution_count": 29,
   "id": "5d91a430",
   "metadata": {},
   "outputs": [
    {
     "data": {
      "text/plain": [
       "748"
      ]
     },
     "execution_count": 29,
     "metadata": {},
     "output_type": "execute_result"
    }
   ],
   "source": [
    "# conell_false_pos\n",
    "# conell_false_neg\n",
    "conell_errors"
   ]
  },
  {
   "cell_type": "code",
   "execution_count": 30,
   "id": "34bd74aa",
   "metadata": {},
   "outputs": [
    {
     "data": {
      "text/plain": [
       "0.8683793770895654"
      ]
     },
     "execution_count": 30,
     "metadata": {},
     "output_type": "execute_result"
    }
   ],
   "source": [
    "conell_true_pos/(conell_true_pos+conell_errors)"
   ]
  },
  {
   "cell_type": "code",
   "execution_count": 31,
   "id": "8969ac34",
   "metadata": {},
   "outputs": [
    {
     "data": {
      "text/plain": [
       "0.8381453804347826"
      ]
     },
     "execution_count": 31,
     "metadata": {},
     "output_type": "execute_result"
    }
   ],
   "source": [
    "# Precision = TP/TP+FP\n",
    "conell_true_pos/(conell_true_pos+conell_false_pos+conell_errors)"
   ]
  },
  {
   "cell_type": "code",
   "execution_count": 32,
   "id": "ff49636a",
   "metadata": {},
   "outputs": [
    {
     "data": {
      "text/plain": [
       "0.6232634503662541"
      ]
     },
     "execution_count": 32,
     "metadata": {},
     "output_type": "execute_result"
    }
   ],
   "source": [
    "# Recall = TP/TP+FN\n",
    "conell_true_pos/(conell_true_pos+conell_false_neg+conell_errors)"
   ]
  },
  {
   "cell_type": "code",
   "execution_count": 33,
   "id": "28f06813",
   "metadata": {},
   "outputs": [
    {
     "data": {
      "text/plain": [
       "0.8683793770895654"
      ]
     },
     "execution_count": 33,
     "metadata": {},
     "output_type": "execute_result"
    }
   ],
   "source": [
    "# lower_normal = 0.88\n",
    "conell_true_pos/(conell_true_pos+conell_errors)"
   ]
  },
  {
   "cell_type": "code",
   "execution_count": null,
   "id": "cac90fe8",
   "metadata": {},
   "outputs": [],
   "source": [
    "# lower_normal\n",
    "# Precision = TP/TP+FP = 0.859\n",
    "conell_true_pos/(conell_true_pos+conell_false_pos+conell_errors)"
   ]
  },
  {
   "cell_type": "code",
   "execution_count": null,
   "id": "52a218de",
   "metadata": {},
   "outputs": [],
   "source": []
  },
  {
   "cell_type": "code",
   "execution_count": null,
   "id": "3f809366",
   "metadata": {},
   "outputs": [],
   "source": []
  },
  {
   "cell_type": "code",
   "execution_count": null,
   "id": "962b39a6",
   "metadata": {},
   "outputs": [],
   "source": []
  },
  {
   "cell_type": "code",
   "execution_count": null,
   "id": "502f17de",
   "metadata": {},
   "outputs": [],
   "source": []
  },
  {
   "cell_type": "code",
   "execution_count": 25,
   "id": "780941f2",
   "metadata": {},
   "outputs": [
    {
     "data": {
      "text/plain": [
       "0.8797457178174113"
      ]
     },
     "execution_count": 25,
     "metadata": {},
     "output_type": "execute_result"
    }
   ],
   "source": [
    "conell_true_pos/(conell_true_pos+conell_errors)"
   ]
  },
  {
   "cell_type": "code",
   "execution_count": 26,
   "id": "73d96f29",
   "metadata": {},
   "outputs": [
    {
     "data": {
      "text/plain": [
       "0.8610438990667127"
      ]
     },
     "execution_count": 26,
     "metadata": {},
     "output_type": "execute_result"
    }
   ],
   "source": [
    "# Precision = TP/TP+FP\n",
    "conell_true_pos/(conell_true_pos+conell_false_pos+conell_errors)"
   ]
  },
  {
   "cell_type": "code",
   "execution_count": 27,
   "id": "e3f024e2",
   "metadata": {},
   "outputs": [
    {
     "data": {
      "text/plain": [
       "0.631752472736495"
      ]
     },
     "execution_count": 27,
     "metadata": {},
     "output_type": "execute_result"
    }
   ],
   "source": [
    "# Recall = TP/TP+FN\n",
    "conell_true_pos/(conell_true_pos+conell_false_neg+conell_errors)"
   ]
  },
  {
   "cell_type": "code",
   "execution_count": null,
   "id": "e4e5102f",
   "metadata": {},
   "outputs": [],
   "source": []
  },
  {
   "cell_type": "code",
   "execution_count": 114,
   "id": "c53194f2",
   "metadata": {},
   "outputs": [
    {
     "data": {
      "text/plain": [
       "0.8816766890696852"
      ]
     },
     "execution_count": 114,
     "metadata": {},
     "output_type": "execute_result"
    }
   ],
   "source": [
    "# lower_normal = 0.88\n",
    "conell_true_pos/(conell_true_pos+conell_errors)"
   ]
  },
  {
   "cell_type": "code",
   "execution_count": 118,
   "id": "cdd9e174",
   "metadata": {},
   "outputs": [
    {
     "data": {
      "text/plain": [
       "0.8597792342186961"
      ]
     },
     "execution_count": 118,
     "metadata": {},
     "output_type": "execute_result"
    }
   ],
   "source": [
    "# lower_normal\n",
    "# Precision = TP/TP+FP = 0.859\n",
    "conell_true_pos/(conell_true_pos+conell_false_pos+conell_errors)"
   ]
  },
  {
   "cell_type": "code",
   "execution_count": 117,
   "id": "aa655f0f",
   "metadata": {},
   "outputs": [
    {
     "data": {
      "text/plain": [
       "0.633418043202033"
      ]
     },
     "execution_count": 117,
     "metadata": {},
     "output_type": "execute_result"
    }
   ],
   "source": [
    "# lower_normal\n",
    "# Recall = TP/TP+FN = 0.63\n",
    "conell_true_pos/(conell_true_pos+conell_false_neg+conell_errors)"
   ]
  },
  {
   "cell_type": "code",
   "execution_count": null,
   "id": "3604fc50",
   "metadata": {},
   "outputs": [],
   "source": []
  },
  {
   "cell_type": "code",
   "execution_count": 57,
   "id": "be395b58",
   "metadata": {},
   "outputs": [
    {
     "data": {
      "text/plain": [
       "0.5511930634811548"
      ]
     },
     "execution_count": 57,
     "metadata": {},
     "output_type": "execute_result"
    }
   ],
   "source": [
    "f1_score(conell_target_text, conell_pred_decoded, average='macro')"
   ]
  },
  {
   "cell_type": "code",
   "execution_count": 58,
   "id": "ba5629b5",
   "metadata": {},
   "outputs": [
    {
     "data": {
      "text/plain": [
       "0.795592925485648"
      ]
     },
     "execution_count": 58,
     "metadata": {},
     "output_type": "execute_result"
    }
   ],
   "source": [
    "f1_score(conell_target_text, conell_pred_decoded, average='micro')"
   ]
  },
  {
   "cell_type": "code",
   "execution_count": 59,
   "id": "902bfca1",
   "metadata": {},
   "outputs": [
    {
     "data": {
      "text/plain": [
       "0.7995816577656156"
      ]
     },
     "execution_count": 59,
     "metadata": {},
     "output_type": "execute_result"
    }
   ],
   "source": [
    "f1_score(conell_target_text, conell_pred_decoded, average='weighted')"
   ]
  },
  {
   "cell_type": "code",
   "execution_count": null,
   "id": "25ed6581",
   "metadata": {},
   "outputs": [],
   "source": []
  },
  {
   "cell_type": "code",
   "execution_count": 76,
   "id": "62b158bd",
   "metadata": {},
   "outputs": [
    {
     "data": {
      "text/plain": [
       "['*JAPAN*', '*CHINA*']"
      ]
     },
     "execution_count": 76,
     "metadata": {},
     "output_type": "execute_result"
    }
   ],
   "source": []
  },
  {
   "cell_type": "code",
   "execution_count": 62,
   "id": "c4c093fc",
   "metadata": {},
   "outputs": [],
   "source": [
    "target_encodings = []\n",
    "for text in conell_test_data[\"target_text\"]:\n",
    "    target_encodings.append(tokenizer('ner: ' + text, return_tensors=\"pt\", padding=True, truncation=True, max_length=512).input_ids)"
   ]
  },
  {
   "cell_type": "code",
   "execution_count": 65,
   "id": "abe81948",
   "metadata": {},
   "outputs": [
    {
     "data": {
      "text/plain": [
       "3449"
      ]
     },
     "execution_count": 65,
     "metadata": {},
     "output_type": "execute_result"
    }
   ],
   "source": [
    "len(conell_tokens)"
   ]
  },
  {
   "cell_type": "code",
   "execution_count": 73,
   "id": "541d0d0b",
   "metadata": {},
   "outputs": [
    {
     "data": {
      "text/plain": [
       "14"
      ]
     },
     "execution_count": 73,
     "metadata": {},
     "output_type": "execute_result"
    }
   ],
   "source": [
    "len(target_encodings[0][0])"
   ]
  },
  {
   "cell_type": "code",
   "execution_count": 74,
   "id": "2969a459",
   "metadata": {},
   "outputs": [
    {
     "ename": "ValueError",
     "evalue": "Found input variables with inconsistent numbers of samples: [14, 34]",
     "output_type": "error",
     "traceback": [
      "\u001b[0;31m---------------------------------------------------------------------------\u001b[0m",
      "\u001b[0;31mValueError\u001b[0m                                Traceback (most recent call last)",
      "\u001b[0;32m<ipython-input-74-12e8aea03cb2>\u001b[0m in \u001b[0;36m<module>\u001b[0;34m\u001b[0m\n\u001b[0;32m----> 1\u001b[0;31m \u001b[0mf1_score\u001b[0m\u001b[0;34m(\u001b[0m\u001b[0mtarget_encodings\u001b[0m\u001b[0;34m[\u001b[0m\u001b[0;36m0\u001b[0m\u001b[0;34m]\u001b[0m\u001b[0;34m[\u001b[0m\u001b[0;36m0\u001b[0m\u001b[0;34m]\u001b[0m\u001b[0;34m,\u001b[0m \u001b[0mconell_tokens\u001b[0m\u001b[0;34m[\u001b[0m\u001b[0;36m0\u001b[0m\u001b[0;34m]\u001b[0m\u001b[0;34m[\u001b[0m\u001b[0;36m0\u001b[0m\u001b[0;34m]\u001b[0m\u001b[0;34m)\u001b[0m\u001b[0;34m\u001b[0m\u001b[0;34m\u001b[0m\u001b[0m\n\u001b[0m",
      "\u001b[0;32m~/miniconda3/lib/python3.7/site-packages/sklearn/metrics/_classification.py\u001b[0m in \u001b[0;36mf1_score\u001b[0;34m(y_true, y_pred, labels, pos_label, average, sample_weight, zero_division)\u001b[0m\n\u001b[1;32m   1129\u001b[0m         \u001b[0maverage\u001b[0m\u001b[0;34m=\u001b[0m\u001b[0maverage\u001b[0m\u001b[0;34m,\u001b[0m\u001b[0;34m\u001b[0m\u001b[0;34m\u001b[0m\u001b[0m\n\u001b[1;32m   1130\u001b[0m         \u001b[0msample_weight\u001b[0m\u001b[0;34m=\u001b[0m\u001b[0msample_weight\u001b[0m\u001b[0;34m,\u001b[0m\u001b[0;34m\u001b[0m\u001b[0;34m\u001b[0m\u001b[0m\n\u001b[0;32m-> 1131\u001b[0;31m         \u001b[0mzero_division\u001b[0m\u001b[0;34m=\u001b[0m\u001b[0mzero_division\u001b[0m\u001b[0;34m,\u001b[0m\u001b[0;34m\u001b[0m\u001b[0;34m\u001b[0m\u001b[0m\n\u001b[0m\u001b[1;32m   1132\u001b[0m     )\n\u001b[1;32m   1133\u001b[0m \u001b[0;34m\u001b[0m\u001b[0m\n",
      "\u001b[0;32m~/miniconda3/lib/python3.7/site-packages/sklearn/metrics/_classification.py\u001b[0m in \u001b[0;36mfbeta_score\u001b[0;34m(y_true, y_pred, beta, labels, pos_label, average, sample_weight, zero_division)\u001b[0m\n\u001b[1;32m   1268\u001b[0m         \u001b[0mwarn_for\u001b[0m\u001b[0;34m=\u001b[0m\u001b[0;34m(\u001b[0m\u001b[0;34m\"f-score\"\u001b[0m\u001b[0;34m,\u001b[0m\u001b[0;34m)\u001b[0m\u001b[0;34m,\u001b[0m\u001b[0;34m\u001b[0m\u001b[0;34m\u001b[0m\u001b[0m\n\u001b[1;32m   1269\u001b[0m         \u001b[0msample_weight\u001b[0m\u001b[0;34m=\u001b[0m\u001b[0msample_weight\u001b[0m\u001b[0;34m,\u001b[0m\u001b[0;34m\u001b[0m\u001b[0;34m\u001b[0m\u001b[0m\n\u001b[0;32m-> 1270\u001b[0;31m         \u001b[0mzero_division\u001b[0m\u001b[0;34m=\u001b[0m\u001b[0mzero_division\u001b[0m\u001b[0;34m,\u001b[0m\u001b[0;34m\u001b[0m\u001b[0;34m\u001b[0m\u001b[0m\n\u001b[0m\u001b[1;32m   1271\u001b[0m     )\n\u001b[1;32m   1272\u001b[0m     \u001b[0;32mreturn\u001b[0m \u001b[0mf\u001b[0m\u001b[0;34m\u001b[0m\u001b[0;34m\u001b[0m\u001b[0m\n",
      "\u001b[0;32m~/miniconda3/lib/python3.7/site-packages/sklearn/metrics/_classification.py\u001b[0m in \u001b[0;36mprecision_recall_fscore_support\u001b[0;34m(y_true, y_pred, beta, labels, pos_label, average, warn_for, sample_weight, zero_division)\u001b[0m\n\u001b[1;32m   1542\u001b[0m     \u001b[0;32mif\u001b[0m \u001b[0mbeta\u001b[0m \u001b[0;34m<\u001b[0m \u001b[0;36m0\u001b[0m\u001b[0;34m:\u001b[0m\u001b[0;34m\u001b[0m\u001b[0;34m\u001b[0m\u001b[0m\n\u001b[1;32m   1543\u001b[0m         \u001b[0;32mraise\u001b[0m \u001b[0mValueError\u001b[0m\u001b[0;34m(\u001b[0m\u001b[0;34m\"beta should be >=0 in the F-beta score\"\u001b[0m\u001b[0;34m)\u001b[0m\u001b[0;34m\u001b[0m\u001b[0;34m\u001b[0m\u001b[0m\n\u001b[0;32m-> 1544\u001b[0;31m     \u001b[0mlabels\u001b[0m \u001b[0;34m=\u001b[0m \u001b[0m_check_set_wise_labels\u001b[0m\u001b[0;34m(\u001b[0m\u001b[0my_true\u001b[0m\u001b[0;34m,\u001b[0m \u001b[0my_pred\u001b[0m\u001b[0;34m,\u001b[0m \u001b[0maverage\u001b[0m\u001b[0;34m,\u001b[0m \u001b[0mlabels\u001b[0m\u001b[0;34m,\u001b[0m \u001b[0mpos_label\u001b[0m\u001b[0;34m)\u001b[0m\u001b[0;34m\u001b[0m\u001b[0;34m\u001b[0m\u001b[0m\n\u001b[0m\u001b[1;32m   1545\u001b[0m \u001b[0;34m\u001b[0m\u001b[0m\n\u001b[1;32m   1546\u001b[0m     \u001b[0;31m# Calculate tp_sum, pred_sum, true_sum ###\u001b[0m\u001b[0;34m\u001b[0m\u001b[0;34m\u001b[0m\u001b[0;34m\u001b[0m\u001b[0m\n",
      "\u001b[0;32m~/miniconda3/lib/python3.7/site-packages/sklearn/metrics/_classification.py\u001b[0m in \u001b[0;36m_check_set_wise_labels\u001b[0;34m(y_true, y_pred, average, labels, pos_label)\u001b[0m\n\u001b[1;32m   1346\u001b[0m         \u001b[0;32mraise\u001b[0m \u001b[0mValueError\u001b[0m\u001b[0;34m(\u001b[0m\u001b[0;34m\"average has to be one of \"\u001b[0m \u001b[0;34m+\u001b[0m \u001b[0mstr\u001b[0m\u001b[0;34m(\u001b[0m\u001b[0maverage_options\u001b[0m\u001b[0;34m)\u001b[0m\u001b[0;34m)\u001b[0m\u001b[0;34m\u001b[0m\u001b[0;34m\u001b[0m\u001b[0m\n\u001b[1;32m   1347\u001b[0m \u001b[0;34m\u001b[0m\u001b[0m\n\u001b[0;32m-> 1348\u001b[0;31m     \u001b[0my_type\u001b[0m\u001b[0;34m,\u001b[0m \u001b[0my_true\u001b[0m\u001b[0;34m,\u001b[0m \u001b[0my_pred\u001b[0m \u001b[0;34m=\u001b[0m \u001b[0m_check_targets\u001b[0m\u001b[0;34m(\u001b[0m\u001b[0my_true\u001b[0m\u001b[0;34m,\u001b[0m \u001b[0my_pred\u001b[0m\u001b[0;34m)\u001b[0m\u001b[0;34m\u001b[0m\u001b[0;34m\u001b[0m\u001b[0m\n\u001b[0m\u001b[1;32m   1349\u001b[0m     \u001b[0;31m# Convert to Python primitive type to avoid NumPy type / Python str\u001b[0m\u001b[0;34m\u001b[0m\u001b[0;34m\u001b[0m\u001b[0;34m\u001b[0m\u001b[0m\n\u001b[1;32m   1350\u001b[0m     \u001b[0;31m# comparison. See https://github.com/numpy/numpy/issues/6784\u001b[0m\u001b[0;34m\u001b[0m\u001b[0;34m\u001b[0m\u001b[0;34m\u001b[0m\u001b[0m\n",
      "\u001b[0;32m~/miniconda3/lib/python3.7/site-packages/sklearn/metrics/_classification.py\u001b[0m in \u001b[0;36m_check_targets\u001b[0;34m(y_true, y_pred)\u001b[0m\n\u001b[1;32m     82\u001b[0m     \u001b[0my_pred\u001b[0m \u001b[0;34m:\u001b[0m \u001b[0marray\u001b[0m \u001b[0;32mor\u001b[0m \u001b[0mindicator\u001b[0m \u001b[0mmatrix\u001b[0m\u001b[0;34m\u001b[0m\u001b[0;34m\u001b[0m\u001b[0m\n\u001b[1;32m     83\u001b[0m     \"\"\"\n\u001b[0;32m---> 84\u001b[0;31m     \u001b[0mcheck_consistent_length\u001b[0m\u001b[0;34m(\u001b[0m\u001b[0my_true\u001b[0m\u001b[0;34m,\u001b[0m \u001b[0my_pred\u001b[0m\u001b[0;34m)\u001b[0m\u001b[0;34m\u001b[0m\u001b[0;34m\u001b[0m\u001b[0m\n\u001b[0m\u001b[1;32m     85\u001b[0m     \u001b[0mtype_true\u001b[0m \u001b[0;34m=\u001b[0m \u001b[0mtype_of_target\u001b[0m\u001b[0;34m(\u001b[0m\u001b[0my_true\u001b[0m\u001b[0;34m)\u001b[0m\u001b[0;34m\u001b[0m\u001b[0;34m\u001b[0m\u001b[0m\n\u001b[1;32m     86\u001b[0m     \u001b[0mtype_pred\u001b[0m \u001b[0;34m=\u001b[0m \u001b[0mtype_of_target\u001b[0m\u001b[0;34m(\u001b[0m\u001b[0my_pred\u001b[0m\u001b[0;34m)\u001b[0m\u001b[0;34m\u001b[0m\u001b[0;34m\u001b[0m\u001b[0m\n",
      "\u001b[0;32m~/miniconda3/lib/python3.7/site-packages/sklearn/utils/validation.py\u001b[0m in \u001b[0;36mcheck_consistent_length\u001b[0;34m(*arrays)\u001b[0m\n\u001b[1;32m    332\u001b[0m         raise ValueError(\n\u001b[1;32m    333\u001b[0m             \u001b[0;34m\"Found input variables with inconsistent numbers of samples: %r\"\u001b[0m\u001b[0;34m\u001b[0m\u001b[0;34m\u001b[0m\u001b[0m\n\u001b[0;32m--> 334\u001b[0;31m             \u001b[0;34m%\u001b[0m \u001b[0;34m[\u001b[0m\u001b[0mint\u001b[0m\u001b[0;34m(\u001b[0m\u001b[0ml\u001b[0m\u001b[0;34m)\u001b[0m \u001b[0;32mfor\u001b[0m \u001b[0ml\u001b[0m \u001b[0;32min\u001b[0m \u001b[0mlengths\u001b[0m\u001b[0;34m]\u001b[0m\u001b[0;34m\u001b[0m\u001b[0;34m\u001b[0m\u001b[0m\n\u001b[0m\u001b[1;32m    335\u001b[0m         )\n\u001b[1;32m    336\u001b[0m \u001b[0;34m\u001b[0m\u001b[0m\n",
      "\u001b[0;31mValueError\u001b[0m: Found input variables with inconsistent numbers of samples: [14, 34]"
     ]
    }
   ],
   "source": [
    "f1_score(target_encodings[0][0], conell_tokens[0][0])"
   ]
  },
  {
   "cell_type": "code",
   "execution_count": 67,
   "id": "e789fe1b",
   "metadata": {},
   "outputs": [
    {
     "ename": "ValueError",
     "evalue": "multiclass-multioutput is not supported",
     "output_type": "error",
     "traceback": [
      "\u001b[0;31m---------------------------------------------------------------------------\u001b[0m",
      "\u001b[0;31mValueError\u001b[0m                                Traceback (most recent call last)",
      "\u001b[0;32m<ipython-input-67-f7c8a369cb2e>\u001b[0m in \u001b[0;36m<module>\u001b[0;34m\u001b[0m\n\u001b[1;32m      1\u001b[0m \u001b[0mscore\u001b[0m \u001b[0;34m=\u001b[0m \u001b[0;36m0\u001b[0m\u001b[0;34m\u001b[0m\u001b[0;34m\u001b[0m\u001b[0m\n\u001b[1;32m      2\u001b[0m \u001b[0;32mfor\u001b[0m \u001b[0mi\u001b[0m \u001b[0;32min\u001b[0m \u001b[0mrange\u001b[0m\u001b[0;34m(\u001b[0m\u001b[0mlen\u001b[0m\u001b[0;34m(\u001b[0m\u001b[0mconell_tokens\u001b[0m\u001b[0;34m)\u001b[0m\u001b[0;34m)\u001b[0m\u001b[0;34m:\u001b[0m\u001b[0;34m\u001b[0m\u001b[0;34m\u001b[0m\u001b[0m\n\u001b[0;32m----> 3\u001b[0;31m     \u001b[0mscore\u001b[0m \u001b[0;34m+=\u001b[0m \u001b[0mf1_score\u001b[0m\u001b[0;34m(\u001b[0m\u001b[0mtarget_encodings\u001b[0m\u001b[0;34m[\u001b[0m\u001b[0mi\u001b[0m\u001b[0;34m]\u001b[0m\u001b[0;34m,\u001b[0m \u001b[0mconell_tokens\u001b[0m\u001b[0;34m[\u001b[0m\u001b[0mi\u001b[0m\u001b[0;34m]\u001b[0m\u001b[0;34m)\u001b[0m\u001b[0;34m\u001b[0m\u001b[0;34m\u001b[0m\u001b[0m\n\u001b[0m\u001b[1;32m      4\u001b[0m \u001b[0mscore\u001b[0m\u001b[0;34m/\u001b[0m\u001b[0mlen\u001b[0m\u001b[0;34m(\u001b[0m\u001b[0mconell_tokens\u001b[0m\u001b[0;34m)\u001b[0m\u001b[0;34m\u001b[0m\u001b[0;34m\u001b[0m\u001b[0m\n",
      "\u001b[0;32m~/miniconda3/lib/python3.7/site-packages/sklearn/metrics/_classification.py\u001b[0m in \u001b[0;36mf1_score\u001b[0;34m(y_true, y_pred, labels, pos_label, average, sample_weight, zero_division)\u001b[0m\n\u001b[1;32m   1129\u001b[0m         \u001b[0maverage\u001b[0m\u001b[0;34m=\u001b[0m\u001b[0maverage\u001b[0m\u001b[0;34m,\u001b[0m\u001b[0;34m\u001b[0m\u001b[0;34m\u001b[0m\u001b[0m\n\u001b[1;32m   1130\u001b[0m         \u001b[0msample_weight\u001b[0m\u001b[0;34m=\u001b[0m\u001b[0msample_weight\u001b[0m\u001b[0;34m,\u001b[0m\u001b[0;34m\u001b[0m\u001b[0;34m\u001b[0m\u001b[0m\n\u001b[0;32m-> 1131\u001b[0;31m         \u001b[0mzero_division\u001b[0m\u001b[0;34m=\u001b[0m\u001b[0mzero_division\u001b[0m\u001b[0;34m,\u001b[0m\u001b[0;34m\u001b[0m\u001b[0;34m\u001b[0m\u001b[0m\n\u001b[0m\u001b[1;32m   1132\u001b[0m     )\n\u001b[1;32m   1133\u001b[0m \u001b[0;34m\u001b[0m\u001b[0m\n",
      "\u001b[0;32m~/miniconda3/lib/python3.7/site-packages/sklearn/metrics/_classification.py\u001b[0m in \u001b[0;36mfbeta_score\u001b[0;34m(y_true, y_pred, beta, labels, pos_label, average, sample_weight, zero_division)\u001b[0m\n\u001b[1;32m   1268\u001b[0m         \u001b[0mwarn_for\u001b[0m\u001b[0;34m=\u001b[0m\u001b[0;34m(\u001b[0m\u001b[0;34m\"f-score\"\u001b[0m\u001b[0;34m,\u001b[0m\u001b[0;34m)\u001b[0m\u001b[0;34m,\u001b[0m\u001b[0;34m\u001b[0m\u001b[0;34m\u001b[0m\u001b[0m\n\u001b[1;32m   1269\u001b[0m         \u001b[0msample_weight\u001b[0m\u001b[0;34m=\u001b[0m\u001b[0msample_weight\u001b[0m\u001b[0;34m,\u001b[0m\u001b[0;34m\u001b[0m\u001b[0;34m\u001b[0m\u001b[0m\n\u001b[0;32m-> 1270\u001b[0;31m         \u001b[0mzero_division\u001b[0m\u001b[0;34m=\u001b[0m\u001b[0mzero_division\u001b[0m\u001b[0;34m,\u001b[0m\u001b[0;34m\u001b[0m\u001b[0;34m\u001b[0m\u001b[0m\n\u001b[0m\u001b[1;32m   1271\u001b[0m     )\n\u001b[1;32m   1272\u001b[0m     \u001b[0;32mreturn\u001b[0m \u001b[0mf\u001b[0m\u001b[0;34m\u001b[0m\u001b[0;34m\u001b[0m\u001b[0m\n",
      "\u001b[0;32m~/miniconda3/lib/python3.7/site-packages/sklearn/metrics/_classification.py\u001b[0m in \u001b[0;36mprecision_recall_fscore_support\u001b[0;34m(y_true, y_pred, beta, labels, pos_label, average, warn_for, sample_weight, zero_division)\u001b[0m\n\u001b[1;32m   1542\u001b[0m     \u001b[0;32mif\u001b[0m \u001b[0mbeta\u001b[0m \u001b[0;34m<\u001b[0m \u001b[0;36m0\u001b[0m\u001b[0;34m:\u001b[0m\u001b[0;34m\u001b[0m\u001b[0;34m\u001b[0m\u001b[0m\n\u001b[1;32m   1543\u001b[0m         \u001b[0;32mraise\u001b[0m \u001b[0mValueError\u001b[0m\u001b[0;34m(\u001b[0m\u001b[0;34m\"beta should be >=0 in the F-beta score\"\u001b[0m\u001b[0;34m)\u001b[0m\u001b[0;34m\u001b[0m\u001b[0;34m\u001b[0m\u001b[0m\n\u001b[0;32m-> 1544\u001b[0;31m     \u001b[0mlabels\u001b[0m \u001b[0;34m=\u001b[0m \u001b[0m_check_set_wise_labels\u001b[0m\u001b[0;34m(\u001b[0m\u001b[0my_true\u001b[0m\u001b[0;34m,\u001b[0m \u001b[0my_pred\u001b[0m\u001b[0;34m,\u001b[0m \u001b[0maverage\u001b[0m\u001b[0;34m,\u001b[0m \u001b[0mlabels\u001b[0m\u001b[0;34m,\u001b[0m \u001b[0mpos_label\u001b[0m\u001b[0;34m)\u001b[0m\u001b[0;34m\u001b[0m\u001b[0;34m\u001b[0m\u001b[0m\n\u001b[0m\u001b[1;32m   1545\u001b[0m \u001b[0;34m\u001b[0m\u001b[0m\n\u001b[1;32m   1546\u001b[0m     \u001b[0;31m# Calculate tp_sum, pred_sum, true_sum ###\u001b[0m\u001b[0;34m\u001b[0m\u001b[0;34m\u001b[0m\u001b[0;34m\u001b[0m\u001b[0m\n",
      "\u001b[0;32m~/miniconda3/lib/python3.7/site-packages/sklearn/metrics/_classification.py\u001b[0m in \u001b[0;36m_check_set_wise_labels\u001b[0;34m(y_true, y_pred, average, labels, pos_label)\u001b[0m\n\u001b[1;32m   1346\u001b[0m         \u001b[0;32mraise\u001b[0m \u001b[0mValueError\u001b[0m\u001b[0;34m(\u001b[0m\u001b[0;34m\"average has to be one of \"\u001b[0m \u001b[0;34m+\u001b[0m \u001b[0mstr\u001b[0m\u001b[0;34m(\u001b[0m\u001b[0maverage_options\u001b[0m\u001b[0;34m)\u001b[0m\u001b[0;34m)\u001b[0m\u001b[0;34m\u001b[0m\u001b[0;34m\u001b[0m\u001b[0m\n\u001b[1;32m   1347\u001b[0m \u001b[0;34m\u001b[0m\u001b[0m\n\u001b[0;32m-> 1348\u001b[0;31m     \u001b[0my_type\u001b[0m\u001b[0;34m,\u001b[0m \u001b[0my_true\u001b[0m\u001b[0;34m,\u001b[0m \u001b[0my_pred\u001b[0m \u001b[0;34m=\u001b[0m \u001b[0m_check_targets\u001b[0m\u001b[0;34m(\u001b[0m\u001b[0my_true\u001b[0m\u001b[0;34m,\u001b[0m \u001b[0my_pred\u001b[0m\u001b[0;34m)\u001b[0m\u001b[0;34m\u001b[0m\u001b[0;34m\u001b[0m\u001b[0m\n\u001b[0m\u001b[1;32m   1349\u001b[0m     \u001b[0;31m# Convert to Python primitive type to avoid NumPy type / Python str\u001b[0m\u001b[0;34m\u001b[0m\u001b[0;34m\u001b[0m\u001b[0;34m\u001b[0m\u001b[0m\n\u001b[1;32m   1350\u001b[0m     \u001b[0;31m# comparison. See https://github.com/numpy/numpy/issues/6784\u001b[0m\u001b[0;34m\u001b[0m\u001b[0;34m\u001b[0m\u001b[0;34m\u001b[0m\u001b[0m\n",
      "\u001b[0;32m~/miniconda3/lib/python3.7/site-packages/sklearn/metrics/_classification.py\u001b[0m in \u001b[0;36m_check_targets\u001b[0;34m(y_true, y_pred)\u001b[0m\n\u001b[1;32m    102\u001b[0m     \u001b[0;31m# No metrics support \"multiclass-multioutput\" format\u001b[0m\u001b[0;34m\u001b[0m\u001b[0;34m\u001b[0m\u001b[0;34m\u001b[0m\u001b[0m\n\u001b[1;32m    103\u001b[0m     \u001b[0;32mif\u001b[0m \u001b[0my_type\u001b[0m \u001b[0;32mnot\u001b[0m \u001b[0;32min\u001b[0m \u001b[0;34m[\u001b[0m\u001b[0;34m\"binary\"\u001b[0m\u001b[0;34m,\u001b[0m \u001b[0;34m\"multiclass\"\u001b[0m\u001b[0;34m,\u001b[0m \u001b[0;34m\"multilabel-indicator\"\u001b[0m\u001b[0;34m]\u001b[0m\u001b[0;34m:\u001b[0m\u001b[0;34m\u001b[0m\u001b[0;34m\u001b[0m\u001b[0m\n\u001b[0;32m--> 104\u001b[0;31m         \u001b[0;32mraise\u001b[0m \u001b[0mValueError\u001b[0m\u001b[0;34m(\u001b[0m\u001b[0;34m\"{0} is not supported\"\u001b[0m\u001b[0;34m.\u001b[0m\u001b[0mformat\u001b[0m\u001b[0;34m(\u001b[0m\u001b[0my_type\u001b[0m\u001b[0;34m)\u001b[0m\u001b[0;34m)\u001b[0m\u001b[0;34m\u001b[0m\u001b[0;34m\u001b[0m\u001b[0m\n\u001b[0m\u001b[1;32m    105\u001b[0m \u001b[0;34m\u001b[0m\u001b[0m\n\u001b[1;32m    106\u001b[0m     \u001b[0;32mif\u001b[0m \u001b[0my_type\u001b[0m \u001b[0;32min\u001b[0m \u001b[0;34m[\u001b[0m\u001b[0;34m\"binary\"\u001b[0m\u001b[0;34m,\u001b[0m \u001b[0;34m\"multiclass\"\u001b[0m\u001b[0;34m]\u001b[0m\u001b[0;34m:\u001b[0m\u001b[0;34m\u001b[0m\u001b[0;34m\u001b[0m\u001b[0m\n",
      "\u001b[0;31mValueError\u001b[0m: multiclass-multioutput is not supported"
     ]
    }
   ],
   "source": [
    "score = 0\n",
    "for i in range(len(conell_tokens)):\n",
    "    score += f1_score(target_encodings[i], conell_tokens[i])\n",
    "score/len(conell_tokens)"
   ]
  },
  {
   "cell_type": "markdown",
   "id": "c25a5915",
   "metadata": {},
   "source": [
    "## wikineural test data"
   ]
  },
  {
   "cell_type": "code",
   "execution_count": 22,
   "id": "3017f719",
   "metadata": {},
   "outputs": [
    {
     "data": {
      "text/html": [
       "<div>\n",
       "<style scoped>\n",
       "    .dataframe tbody tr th:only-of-type {\n",
       "        vertical-align: middle;\n",
       "    }\n",
       "\n",
       "    .dataframe tbody tr th {\n",
       "        vertical-align: top;\n",
       "    }\n",
       "\n",
       "    .dataframe thead th {\n",
       "        text-align: right;\n",
       "    }\n",
       "</style>\n",
       "<table border=\"1\" class=\"dataframe\">\n",
       "  <thead>\n",
       "    <tr style=\"text-align: right;\">\n",
       "      <th></th>\n",
       "      <th>input_text</th>\n",
       "      <th>target_text</th>\n",
       "      <th>word_count</th>\n",
       "      <th>NE_count</th>\n",
       "      <th>%_NE_in_sentence</th>\n",
       "    </tr>\n",
       "  </thead>\n",
       "  <tbody>\n",
       "    <tr>\n",
       "      <th>0</th>\n",
       "      <td>On this occasion he failed to gain the support...</td>\n",
       "      <td>*South Wales Miners ' Federation*</td>\n",
       "      <td>20</td>\n",
       "      <td>4</td>\n",
       "      <td>0.2</td>\n",
       "    </tr>\n",
       "    <tr>\n",
       "      <th>1</th>\n",
       "      <td>On both these occasions he was backed by the S...</td>\n",
       "      <td>*South Wales Miners ' Federation*</td>\n",
       "      <td>18</td>\n",
       "      <td>4</td>\n",
       "      <td>0.2</td>\n",
       "    </tr>\n",
       "    <tr>\n",
       "      <th>2</th>\n",
       "      <td>He also appeared as himself in the 1996 film \"...</td>\n",
       "      <td>*Eddie*</td>\n",
       "      <td>10</td>\n",
       "      <td>1</td>\n",
       "      <td>0.1</td>\n",
       "    </tr>\n",
       "    <tr>\n",
       "      <th>3</th>\n",
       "      <td>The Colorado Rockies were created as an expans...</td>\n",
       "      <td>*Colorado Rockies*,*Coors Field*</td>\n",
       "      <td>17</td>\n",
       "      <td>4</td>\n",
       "      <td>0.2</td>\n",
       "    </tr>\n",
       "    <tr>\n",
       "      <th>4</th>\n",
       "      <td>He kept busy recording demo tapes at his home ...</td>\n",
       "      <td>*La Valencia Hotel*,*La Jolla*</td>\n",
       "      <td>29</td>\n",
       "      <td>5</td>\n",
       "      <td>0.2</td>\n",
       "    </tr>\n",
       "    <tr>\n",
       "      <th>...</th>\n",
       "      <td>...</td>\n",
       "      <td>...</td>\n",
       "      <td>...</td>\n",
       "      <td>...</td>\n",
       "      <td>...</td>\n",
       "    </tr>\n",
       "    <tr>\n",
       "      <th>11592</th>\n",
       "      <td>com , Amazon .</td>\n",
       "      <td>*Amazon*</td>\n",
       "      <td>2</td>\n",
       "      <td>1</td>\n",
       "      <td>0.5</td>\n",
       "    </tr>\n",
       "    <tr>\n",
       "      <th>11593</th>\n",
       "      <td>In January 2013 , the European Food Safety Aut...</td>\n",
       "      <td>*European Food Safety Authority*,*Monsanto*</td>\n",
       "      <td>27</td>\n",
       "      <td>5</td>\n",
       "      <td>0.2</td>\n",
       "    </tr>\n",
       "    <tr>\n",
       "      <th>11594</th>\n",
       "      <td>All of the games had art true to the series , ...</td>\n",
       "      <td>*Sega*</td>\n",
       "      <td>23</td>\n",
       "      <td>1</td>\n",
       "      <td>0.0</td>\n",
       "    </tr>\n",
       "    <tr>\n",
       "      <th>11595</th>\n",
       "      <td>There was also a game made for the Game Boy ba...</td>\n",
       "      <td>*Game Boy*</td>\n",
       "      <td>20</td>\n",
       "      <td>2</td>\n",
       "      <td>0.1</td>\n",
       "    </tr>\n",
       "    <tr>\n",
       "      <th>11596</th>\n",
       "      <td>This system was widely copied in various NATO ...</td>\n",
       "      <td>*NATO*</td>\n",
       "      <td>9</td>\n",
       "      <td>1</td>\n",
       "      <td>0.1</td>\n",
       "    </tr>\n",
       "  </tbody>\n",
       "</table>\n",
       "<p>11597 rows × 5 columns</p>\n",
       "</div>"
      ],
      "text/plain": [
       "                                              input_text  \\\n",
       "0      On this occasion he failed to gain the support...   \n",
       "1      On both these occasions he was backed by the S...   \n",
       "2      He also appeared as himself in the 1996 film \"...   \n",
       "3      The Colorado Rockies were created as an expans...   \n",
       "4      He kept busy recording demo tapes at his home ...   \n",
       "...                                                  ...   \n",
       "11592                                     com , Amazon .   \n",
       "11593  In January 2013 , the European Food Safety Aut...   \n",
       "11594  All of the games had art true to the series , ...   \n",
       "11595  There was also a game made for the Game Boy ba...   \n",
       "11596  This system was widely copied in various NATO ...   \n",
       "\n",
       "                                       target_text  word_count  NE_count  \\\n",
       "0                *South Wales Miners ' Federation*          20         4   \n",
       "1                *South Wales Miners ' Federation*          18         4   \n",
       "2                                          *Eddie*          10         1   \n",
       "3                 *Colorado Rockies*,*Coors Field*          17         4   \n",
       "4                   *La Valencia Hotel*,*La Jolla*          29         5   \n",
       "...                                            ...         ...       ...   \n",
       "11592                                     *Amazon*           2         1   \n",
       "11593  *European Food Safety Authority*,*Monsanto*          27         5   \n",
       "11594                                       *Sega*          23         1   \n",
       "11595                                   *Game Boy*          20         2   \n",
       "11596                                       *NATO*           9         1   \n",
       "\n",
       "       %_NE_in_sentence  \n",
       "0                   0.2  \n",
       "1                   0.2  \n",
       "2                   0.1  \n",
       "3                   0.2  \n",
       "4                   0.2  \n",
       "...                 ...  \n",
       "11592               0.5  \n",
       "11593               0.2  \n",
       "11594               0.0  \n",
       "11595               0.1  \n",
       "11596               0.1  \n",
       "\n",
       "[11597 rows x 5 columns]"
      ]
     },
     "execution_count": 22,
     "metadata": {},
     "output_type": "execute_result"
    }
   ],
   "source": [
    "wiki_test_data = read_test_data('./1-NER_Data/1-csv_format/test/wiki_neural_test_data.csv')\n",
    "wiki_test_data"
   ]
  },
  {
   "cell_type": "code",
   "execution_count": 23,
   "id": "c622a513",
   "metadata": {},
   "outputs": [],
   "source": [
    "wiki_tokens = encode_input_as_tokens(wiki_test_data)"
   ]
  },
  {
   "cell_type": "code",
   "execution_count": 24,
   "id": "23c2d0bd",
   "metadata": {},
   "outputs": [
    {
     "data": {
      "text/plain": [
       "11597"
      ]
     },
     "execution_count": 24,
     "metadata": {},
     "output_type": "execute_result"
    }
   ],
   "source": [
    "len(wiki_tokens)"
   ]
  },
  {
   "cell_type": "code",
   "execution_count": 25,
   "id": "6310c951",
   "metadata": {},
   "outputs": [
    {
     "name": "stdout",
     "output_type": "stream",
     "text": [
      "100\n",
      "200\n",
      "300\n",
      "400\n",
      "500\n",
      "600\n",
      "700\n",
      "800\n",
      "900\n",
      "1000\n",
      "1100\n",
      "1200\n",
      "1300\n",
      "1400\n",
      "1500\n",
      "1600\n",
      "1700\n",
      "1800\n",
      "1900\n",
      "2000\n",
      "2100\n",
      "2200\n",
      "2300\n",
      "2400\n",
      "2500\n",
      "2600\n",
      "2700\n",
      "2800\n",
      "2900\n",
      "3000\n",
      "3100\n",
      "3200\n",
      "3300\n",
      "3400\n",
      "3500\n",
      "3600\n",
      "3700\n",
      "3800\n",
      "3900\n",
      "4000\n",
      "4100\n",
      "4200\n",
      "4300\n",
      "4400\n",
      "4500\n",
      "4600\n",
      "4700\n",
      "4800\n",
      "4900\n",
      "5000\n",
      "5100\n",
      "5200\n",
      "5300\n",
      "5400\n",
      "5500\n",
      "5600\n",
      "5700\n",
      "5800\n",
      "5900\n",
      "6000\n",
      "6100\n",
      "6200\n",
      "6300\n",
      "6400\n",
      "6500\n",
      "6600\n",
      "6700\n",
      "6800\n",
      "6900\n",
      "7000\n",
      "7100\n",
      "7200\n",
      "7300\n",
      "7400\n",
      "7500\n",
      "7600\n",
      "7700\n",
      "7800\n",
      "7900\n",
      "8000\n",
      "8100\n",
      "8200\n",
      "8300\n",
      "8400\n",
      "8500\n",
      "8600\n",
      "8700\n",
      "8800\n",
      "8900\n",
      "9000\n",
      "9100\n",
      "9200\n",
      "9300\n",
      "9400\n",
      "9500\n",
      "9600\n",
      "9700\n",
      "9800\n",
      "9900\n",
      "10000\n",
      "10100\n",
      "10200\n",
      "10300\n",
      "10400\n",
      "10500\n",
      "10600\n",
      "10700\n",
      "10800\n",
      "10900\n",
      "11000\n",
      "11100\n",
      "11200\n",
      "11300\n",
      "11400\n",
      "11500\n"
     ]
    }
   ],
   "source": [
    "wiki_pred = predict_ner(model, wiki_tokens)"
   ]
  },
  {
   "cell_type": "code",
   "execution_count": 26,
   "id": "7466d860",
   "metadata": {},
   "outputs": [],
   "source": [
    "wiki_pred_decoded = decode_prediction(wiki_pred)"
   ]
  },
  {
   "cell_type": "code",
   "execution_count": 27,
   "id": "ff4a9360",
   "metadata": {},
   "outputs": [],
   "source": [
    "wiki_target_text = wiki_test_data['target_text']"
   ]
  },
  {
   "cell_type": "code",
   "execution_count": 28,
   "id": "d2d57eb7",
   "metadata": {},
   "outputs": [
    {
     "data": {
      "text/plain": [
       "0.7992584289040269"
      ]
     },
     "execution_count": 28,
     "metadata": {},
     "output_type": "execute_result"
    }
   ],
   "source": [
    "wiki_accuracy = compare_prediction_with_target(wiki_pred_decoded, wiki_target_text)\n",
    "wiki_accuracy"
   ]
  },
  {
   "cell_type": "code",
   "execution_count": null,
   "id": "7c8b0d03",
   "metadata": {},
   "outputs": [],
   "source": [
    "evaluations(predictions=conell_pred_decoded, references=conell_target_text):"
   ]
  },
  {
   "cell_type": "markdown",
   "id": "2d8c5787",
   "metadata": {},
   "source": [
    "## onto test data"
   ]
  },
  {
   "cell_type": "code",
   "execution_count": 29,
   "id": "b6ca785d",
   "metadata": {},
   "outputs": [
    {
     "data": {
      "text/html": [
       "<div>\n",
       "<style scoped>\n",
       "    .dataframe tbody tr th:only-of-type {\n",
       "        vertical-align: middle;\n",
       "    }\n",
       "\n",
       "    .dataframe tbody tr th {\n",
       "        vertical-align: top;\n",
       "    }\n",
       "\n",
       "    .dataframe thead th {\n",
       "        text-align: right;\n",
       "    }\n",
       "</style>\n",
       "<table border=\"1\" class=\"dataframe\">\n",
       "  <thead>\n",
       "    <tr style=\"text-align: right;\">\n",
       "      <th></th>\n",
       "      <th>input_text</th>\n",
       "      <th>target_text</th>\n",
       "      <th>word_count</th>\n",
       "      <th>NE_count</th>\n",
       "      <th>%_NE_in_sentence</th>\n",
       "    </tr>\n",
       "  </thead>\n",
       "  <tbody>\n",
       "    <tr>\n",
       "      <th>0</th>\n",
       "      <td>`` We 're being bombarded by new Treasury and ...</td>\n",
       "      <td>*Treasury*,*Dean Witter Reynolds Inc*,*William...</td>\n",
       "      <td>26</td>\n",
       "      <td>2</td>\n",
       "      <td>0.1</td>\n",
       "    </tr>\n",
       "    <tr>\n",
       "      <th>1</th>\n",
       "      <td>[buabua] Over these years, our country has bee...</td>\n",
       "      <td>**</td>\n",
       "      <td>30</td>\n",
       "      <td>0</td>\n",
       "      <td>0.0</td>\n",
       "    </tr>\n",
       "    <tr>\n",
       "      <th>2</th>\n",
       "      <td>Sometimes they mixed the ink with glue to prod...</td>\n",
       "      <td>**</td>\n",
       "      <td>12</td>\n",
       "      <td>0</td>\n",
       "      <td>0.0</td>\n",
       "    </tr>\n",
       "    <tr>\n",
       "      <th>3</th>\n",
       "      <td>In over-the-counter trading Friday, Weisfield'...</td>\n",
       "      <td>*Friday*,*9.50*,*39*,*Weisfield's*</td>\n",
       "      <td>11</td>\n",
       "      <td>3</td>\n",
       "      <td>0.3</td>\n",
       "    </tr>\n",
       "    <tr>\n",
       "      <th>4</th>\n",
       "      <td>Prince William is chasing a polo ball, such of...</td>\n",
       "      <td>*British*,*Prince William*</td>\n",
       "      <td>18</td>\n",
       "      <td>2</td>\n",
       "      <td>0.1</td>\n",
       "    </tr>\n",
       "    <tr>\n",
       "      <th>...</th>\n",
       "      <td>...</td>\n",
       "      <td>...</td>\n",
       "      <td>...</td>\n",
       "      <td>...</td>\n",
       "      <td>...</td>\n",
       "    </tr>\n",
       "    <tr>\n",
       "      <th>11471</th>\n",
       "      <td>Earlier this year, bankers and other investors...</td>\n",
       "      <td>*Earlier this year*,*Rosenthal*</td>\n",
       "      <td>28</td>\n",
       "      <td>2</td>\n",
       "      <td>0.1</td>\n",
       "    </tr>\n",
       "    <tr>\n",
       "      <th>11472</th>\n",
       "      <td>When he retired last year, he was the oldest a...</td>\n",
       "      <td>*last year*</td>\n",
       "      <td>16</td>\n",
       "      <td>1</td>\n",
       "      <td>0.1</td>\n",
       "    </tr>\n",
       "    <tr>\n",
       "      <th>11473</th>\n",
       "      <td>At the same time, Westinghouse hopes its ventu...</td>\n",
       "      <td>*U.S.*,*European*,*Westinghouse*,*Mitsubishi*,...</td>\n",
       "      <td>36</td>\n",
       "      <td>3</td>\n",
       "      <td>0.1</td>\n",
       "    </tr>\n",
       "    <tr>\n",
       "      <th>11474</th>\n",
       "      <td>yeah</td>\n",
       "      <td>**</td>\n",
       "      <td>1</td>\n",
       "      <td>0</td>\n",
       "      <td>0.0</td>\n",
       "    </tr>\n",
       "    <tr>\n",
       "      <th>11475</th>\n",
       "      <td>Finches maybe.</td>\n",
       "      <td>**</td>\n",
       "      <td>2</td>\n",
       "      <td>0</td>\n",
       "      <td>0.0</td>\n",
       "    </tr>\n",
       "  </tbody>\n",
       "</table>\n",
       "<p>11476 rows × 5 columns</p>\n",
       "</div>"
      ],
      "text/plain": [
       "                                              input_text  \\\n",
       "0      `` We 're being bombarded by new Treasury and ...   \n",
       "1      [buabua] Over these years, our country has bee...   \n",
       "2      Sometimes they mixed the ink with glue to prod...   \n",
       "3      In over-the-counter trading Friday, Weisfield'...   \n",
       "4      Prince William is chasing a polo ball, such of...   \n",
       "...                                                  ...   \n",
       "11471  Earlier this year, bankers and other investors...   \n",
       "11472  When he retired last year, he was the oldest a...   \n",
       "11473  At the same time, Westinghouse hopes its ventu...   \n",
       "11474                                               yeah   \n",
       "11475                                     Finches maybe.   \n",
       "\n",
       "                                             target_text  word_count  \\\n",
       "0      *Treasury*,*Dean Witter Reynolds Inc*,*William...          26   \n",
       "1                                                     **          30   \n",
       "2                                                     **          12   \n",
       "3                     *Friday*,*9.50*,*39*,*Weisfield's*          11   \n",
       "4                             *British*,*Prince William*          18   \n",
       "...                                                  ...         ...   \n",
       "11471                    *Earlier this year*,*Rosenthal*          28   \n",
       "11472                                        *last year*          16   \n",
       "11473  *U.S.*,*European*,*Westinghouse*,*Mitsubishi*,...          36   \n",
       "11474                                                 **           1   \n",
       "11475                                                 **           2   \n",
       "\n",
       "       NE_count  %_NE_in_sentence  \n",
       "0             2               0.1  \n",
       "1             0               0.0  \n",
       "2             0               0.0  \n",
       "3             3               0.3  \n",
       "4             2               0.1  \n",
       "...         ...               ...  \n",
       "11471         2               0.1  \n",
       "11472         1               0.1  \n",
       "11473         3               0.1  \n",
       "11474         0               0.0  \n",
       "11475         0               0.0  \n",
       "\n",
       "[11476 rows x 5 columns]"
      ]
     },
     "execution_count": 29,
     "metadata": {},
     "output_type": "execute_result"
    }
   ],
   "source": [
    "onto_test_data = read_test_data('./1-NER_Data/1-csv_format/test/onto_test_data.csv')\n",
    "onto_test_data"
   ]
  },
  {
   "cell_type": "code",
   "execution_count": 30,
   "id": "6d7cc628",
   "metadata": {},
   "outputs": [],
   "source": [
    "onto_tokens = encode_input_as_tokens(onto_test_data)"
   ]
  },
  {
   "cell_type": "code",
   "execution_count": 31,
   "id": "c28bd739",
   "metadata": {},
   "outputs": [
    {
     "data": {
      "text/plain": [
       "11476"
      ]
     },
     "execution_count": 31,
     "metadata": {},
     "output_type": "execute_result"
    }
   ],
   "source": [
    "len(onto_tokens)"
   ]
  },
  {
   "cell_type": "code",
   "execution_count": 32,
   "id": "fe7644b6",
   "metadata": {},
   "outputs": [
    {
     "name": "stdout",
     "output_type": "stream",
     "text": [
      "100\n",
      "200\n",
      "300\n",
      "400\n",
      "500\n",
      "600\n",
      "700\n",
      "800\n",
      "900\n",
      "1000\n",
      "1100\n",
      "1200\n",
      "1300\n",
      "1400\n",
      "1500\n",
      "1600\n",
      "1700\n",
      "1800\n",
      "1900\n",
      "2000\n",
      "2100\n",
      "2200\n",
      "2300\n",
      "2400\n",
      "2500\n",
      "2600\n",
      "2700\n",
      "2800\n",
      "2900\n",
      "3000\n",
      "3100\n",
      "3200\n",
      "3300\n",
      "3400\n",
      "3500\n",
      "3600\n",
      "3700\n",
      "3800\n",
      "3900\n",
      "4000\n",
      "4100\n",
      "4200\n",
      "4300\n",
      "4400\n",
      "4500\n",
      "4600\n",
      "4700\n",
      "4800\n",
      "4900\n",
      "5000\n",
      "5100\n",
      "5200\n",
      "5300\n",
      "5400\n",
      "5500\n",
      "5600\n",
      "5700\n",
      "5800\n",
      "5900\n",
      "6000\n",
      "6100\n",
      "6200\n",
      "6300\n",
      "6400\n",
      "6500\n",
      "6600\n",
      "6700\n",
      "6800\n",
      "6900\n",
      "7000\n",
      "7100\n",
      "7200\n",
      "7300\n",
      "7400\n",
      "7500\n",
      "7600\n",
      "7700\n",
      "7800\n",
      "7900\n",
      "8000\n",
      "8100\n",
      "8200\n",
      "8300\n",
      "8400\n",
      "8500\n",
      "8600\n",
      "8700\n",
      "8800\n",
      "8900\n",
      "9000\n",
      "9100\n",
      "9200\n",
      "9300\n",
      "9400\n",
      "9500\n",
      "9600\n",
      "9700\n",
      "9800\n",
      "9900\n",
      "10000\n",
      "10100\n",
      "10200\n",
      "10300\n",
      "10400\n",
      "10500\n",
      "10600\n",
      "10700\n",
      "10800\n",
      "10900\n",
      "11000\n",
      "11100\n",
      "11200\n",
      "11300\n",
      "11400\n"
     ]
    }
   ],
   "source": [
    "onto_pred = predict_ner(model, onto_tokens)"
   ]
  },
  {
   "cell_type": "code",
   "execution_count": 33,
   "id": "681a163f",
   "metadata": {},
   "outputs": [],
   "source": [
    "onto_pred_decoded = decode_prediction(onto_pred)"
   ]
  },
  {
   "cell_type": "code",
   "execution_count": 34,
   "id": "be192ebb",
   "metadata": {},
   "outputs": [],
   "source": [
    "onto_target_text = onto_test_data['target_text']"
   ]
  },
  {
   "cell_type": "code",
   "execution_count": 35,
   "id": "604aa8e3",
   "metadata": {},
   "outputs": [
    {
     "data": {
      "text/plain": [
       "0.7328337399790867"
      ]
     },
     "execution_count": 35,
     "metadata": {},
     "output_type": "execute_result"
    }
   ],
   "source": [
    "onto_accuracy = compare_prediction_with_target(onto_pred_decoded, onto_target_text)\n",
    "onto_accuracy"
   ]
  },
  {
   "cell_type": "code",
   "execution_count": null,
   "id": "ac0d0707",
   "metadata": {},
   "outputs": [],
   "source": [
    "evaluations(predictions=conell_pred_decoded, references=conell_target_text):"
   ]
  },
  {
   "cell_type": "markdown",
   "id": "9fcee117",
   "metadata": {},
   "source": [
    "## wnut test data "
   ]
  },
  {
   "cell_type": "code",
   "execution_count": 36,
   "id": "fe9f4442",
   "metadata": {},
   "outputs": [
    {
     "data": {
      "text/html": [
       "<div>\n",
       "<style scoped>\n",
       "    .dataframe tbody tr th:only-of-type {\n",
       "        vertical-align: middle;\n",
       "    }\n",
       "\n",
       "    .dataframe tbody tr th {\n",
       "        vertical-align: top;\n",
       "    }\n",
       "\n",
       "    .dataframe thead th {\n",
       "        text-align: right;\n",
       "    }\n",
       "</style>\n",
       "<table border=\"1\" class=\"dataframe\">\n",
       "  <thead>\n",
       "    <tr style=\"text-align: right;\">\n",
       "      <th></th>\n",
       "      <th>input_text</th>\n",
       "      <th>target_text</th>\n",
       "      <th>word_count</th>\n",
       "      <th>NE_count</th>\n",
       "      <th>%_NE_in_sentence</th>\n",
       "    </tr>\n",
       "  </thead>\n",
       "  <tbody>\n",
       "    <tr>\n",
       "      <th>0</th>\n",
       "      <td>&amp; gt ; * The soldier was killed when another a...</td>\n",
       "      <td>*Sonmarg*</td>\n",
       "      <td>27</td>\n",
       "      <td>1</td>\n",
       "      <td>0.0</td>\n",
       "    </tr>\n",
       "    <tr>\n",
       "      <th>1</th>\n",
       "      <td>&amp; gt ; * Police last week evacuated 80 village...</td>\n",
       "      <td>*Waltengoo Nar*</td>\n",
       "      <td>34</td>\n",
       "      <td>2</td>\n",
       "      <td>0.1</td>\n",
       "    </tr>\n",
       "    <tr>\n",
       "      <th>2</th>\n",
       "      <td>The bodies of the soldiers were recovered afte...</td>\n",
       "      <td>*Avalanche Rescue Teams*,*ART*</td>\n",
       "      <td>32</td>\n",
       "      <td>4</td>\n",
       "      <td>0.1</td>\n",
       "    </tr>\n",
       "    <tr>\n",
       "      <th>3</th>\n",
       "      <td>&amp; gt ; * Arrangements are in place to carry th...</td>\n",
       "      <td>*Colonel Rajesh Kalia*</td>\n",
       "      <td>33</td>\n",
       "      <td>3</td>\n",
       "      <td>0.1</td>\n",
       "    </tr>\n",
       "    <tr>\n",
       "      <th>4</th>\n",
       "      <td>Visuals of the avalanche site in Gurez sector .</td>\n",
       "      <td>*Gurez sector*</td>\n",
       "      <td>9</td>\n",
       "      <td>2</td>\n",
       "      <td>0.2</td>\n",
       "    </tr>\n",
       "    <tr>\n",
       "      <th>...</th>\n",
       "      <td>...</td>\n",
       "      <td>...</td>\n",
       "      <td>...</td>\n",
       "      <td>...</td>\n",
       "      <td>...</td>\n",
       "    </tr>\n",
       "    <tr>\n",
       "      <th>810</th>\n",
       "      <td>RT @ marIboros : short girls were born with at...</td>\n",
       "      <td>*marIboros*</td>\n",
       "      <td>11</td>\n",
       "      <td>1</td>\n",
       "      <td>0.1</td>\n",
       "    </tr>\n",
       "    <tr>\n",
       "      <th>811</th>\n",
       "      <td>A proper # StPatricksDay drink https://t.co/c4...</td>\n",
       "      <td>**</td>\n",
       "      <td>6</td>\n",
       "      <td>0</td>\n",
       "      <td>0.0</td>\n",
       "    </tr>\n",
       "    <tr>\n",
       "      <th>812</th>\n",
       "      <td>Never Been To Shakers Before</td>\n",
       "      <td>*Shakers*</td>\n",
       "      <td>5</td>\n",
       "      <td>1</td>\n",
       "      <td>0.2</td>\n",
       "    </tr>\n",
       "    <tr>\n",
       "      <th>813</th>\n",
       "      <td>No Cousins today . . . Pelicans offence could ...</td>\n",
       "      <td>*Cousins*,*Pelicans*,*Holiday*</td>\n",
       "      <td>22</td>\n",
       "      <td>3</td>\n",
       "      <td>0.1</td>\n",
       "    </tr>\n",
       "    <tr>\n",
       "      <th>814</th>\n",
       "      <td>@ KenyeahMonae It ' s my school fault , girl t...</td>\n",
       "      <td>*@ KenyeahMonae*</td>\n",
       "      <td>18</td>\n",
       "      <td>1</td>\n",
       "      <td>0.1</td>\n",
       "    </tr>\n",
       "  </tbody>\n",
       "</table>\n",
       "<p>815 rows × 5 columns</p>\n",
       "</div>"
      ],
      "text/plain": [
       "                                            input_text  \\\n",
       "0    & gt ; * The soldier was killed when another a...   \n",
       "1    & gt ; * Police last week evacuated 80 village...   \n",
       "2    The bodies of the soldiers were recovered afte...   \n",
       "3    & gt ; * Arrangements are in place to carry th...   \n",
       "4      Visuals of the avalanche site in Gurez sector .   \n",
       "..                                                 ...   \n",
       "810  RT @ marIboros : short girls were born with at...   \n",
       "811  A proper # StPatricksDay drink https://t.co/c4...   \n",
       "812                       Never Been To Shakers Before   \n",
       "813  No Cousins today . . . Pelicans offence could ...   \n",
       "814  @ KenyeahMonae It ' s my school fault , girl t...   \n",
       "\n",
       "                        target_text  word_count  NE_count  %_NE_in_sentence  \n",
       "0                         *Sonmarg*          27         1               0.0  \n",
       "1                   *Waltengoo Nar*          34         2               0.1  \n",
       "2    *Avalanche Rescue Teams*,*ART*          32         4               0.1  \n",
       "3            *Colonel Rajesh Kalia*          33         3               0.1  \n",
       "4                    *Gurez sector*           9         2               0.2  \n",
       "..                              ...         ...       ...               ...  \n",
       "810                     *marIboros*          11         1               0.1  \n",
       "811                              **           6         0               0.0  \n",
       "812                       *Shakers*           5         1               0.2  \n",
       "813  *Cousins*,*Pelicans*,*Holiday*          22         3               0.1  \n",
       "814                *@ KenyeahMonae*          18         1               0.1  \n",
       "\n",
       "[815 rows x 5 columns]"
      ]
     },
     "execution_count": 36,
     "metadata": {},
     "output_type": "execute_result"
    }
   ],
   "source": [
    "wnut_test_data = read_test_data('./1-NER_Data/1-csv_format/test/wnut_test_data.csv')\n",
    "wnut_test_data"
   ]
  },
  {
   "cell_type": "code",
   "execution_count": 37,
   "id": "43139fa6",
   "metadata": {},
   "outputs": [],
   "source": [
    "wnut_tokens = encode_input_as_tokens(wnut_test_data)"
   ]
  },
  {
   "cell_type": "code",
   "execution_count": 38,
   "id": "2239279c",
   "metadata": {},
   "outputs": [
    {
     "data": {
      "text/plain": [
       "815"
      ]
     },
     "execution_count": 38,
     "metadata": {},
     "output_type": "execute_result"
    }
   ],
   "source": [
    "len(wnut_tokens)"
   ]
  },
  {
   "cell_type": "code",
   "execution_count": 39,
   "id": "5c70dbc6",
   "metadata": {},
   "outputs": [
    {
     "name": "stdout",
     "output_type": "stream",
     "text": [
      "100\n",
      "200\n",
      "300\n",
      "400\n",
      "500\n",
      "600\n",
      "700\n",
      "800\n"
     ]
    }
   ],
   "source": [
    "wnut_pred = predict_ner(model, wnut_tokens)"
   ]
  },
  {
   "cell_type": "code",
   "execution_count": 40,
   "id": "1b85a9f2",
   "metadata": {},
   "outputs": [],
   "source": [
    "wnut_pred_decoded = decode_prediction(wnut_pred)"
   ]
  },
  {
   "cell_type": "code",
   "execution_count": 41,
   "id": "f8a49113",
   "metadata": {},
   "outputs": [],
   "source": [
    "wnut_target_text = wnut_test_data['target_text']"
   ]
  },
  {
   "cell_type": "code",
   "execution_count": 42,
   "id": "abff6627",
   "metadata": {
    "scrolled": true
   },
   "outputs": [
    {
     "data": {
      "text/plain": [
       "0.49693251533742333"
      ]
     },
     "execution_count": 42,
     "metadata": {},
     "output_type": "execute_result"
    }
   ],
   "source": [
    "wnut_accuracy = compare_prediction_with_target(wnut_pred_decoded, wnut_target_text)\n",
    "wnut_accuracy"
   ]
  },
  {
   "cell_type": "code",
   "execution_count": null,
   "id": "94bff665",
   "metadata": {},
   "outputs": [],
   "source": [
    "evaluations(predictions=wnut_pred_decoded, references=wnut_target_text):"
   ]
  }
 ],
 "metadata": {
  "kernelspec": {
   "display_name": "Python 3",
   "language": "python",
   "name": "python3"
  },
  "language_info": {
   "codemirror_mode": {
    "name": "ipython",
    "version": 3
   },
   "file_extension": ".py",
   "mimetype": "text/x-python",
   "name": "python",
   "nbconvert_exporter": "python",
   "pygments_lexer": "ipython3",
   "version": "3.7.10"
  }
 },
 "nbformat": 4,
 "nbformat_minor": 5
}
