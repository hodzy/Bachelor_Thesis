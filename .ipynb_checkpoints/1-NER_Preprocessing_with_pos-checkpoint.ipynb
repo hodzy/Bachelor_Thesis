{
 "cells": [
  {
   "cell_type": "code",
   "execution_count": 1,
   "id": "04c2ac23",
   "metadata": {},
   "outputs": [],
   "source": [
    "# parsing CoNLL+WikiNEuRal folder\n",
    "\n",
    "# !pip install datasets\n",
    "\n",
    "from datasets import load_dataset\n",
    "import pandas as pd\n",
    "import re\n",
    "import time\n",
    "import json\n",
    "from sklearn.model_selection import train_test_split\n",
    "import numpy as np"
   ]
  },
  {
   "cell_type": "code",
   "execution_count": 2,
   "id": "c88e5224",
   "metadata": {},
   "outputs": [],
   "source": [
    "def parse_file_data(path, in_position, pos_position, line_len, sep):\n",
    "    dataset = []\n",
    "    f = open(path, encoding=\"utf8\") \n",
    "    input_sentence = ''\n",
    "    target_output = ''\n",
    "    word_count = 0\n",
    "    NE_count = 0\n",
    "    \n",
    "    for row in f:  \n",
    "        row = row.split(sep)\n",
    "        \n",
    "        if '-DOCSTART-' in row[0]:\n",
    "            continue\n",
    "        \n",
    "        if row[0] == \"\\n\" and input_sentence != \"\": ############# keep in mind, make sure it is correct\n",
    "            if(target_output == ''):\n",
    "                target_output = '*s**e*'\n",
    "            dataset.append([input_sentence, target_output, word_count, NE_count])\n",
    "            input_sentence = ''\n",
    "            target_output = ''\n",
    "            word_count = 0\n",
    "            NE_count = 0\n",
    "            continue\n",
    "\n",
    "        if len(row) <line_len:\n",
    "            continue\n",
    "        elif len(row) != line_len:\n",
    "            print(\"something is wrong, length is diff: \", row)\n",
    "        \n",
    "        # to remove the '\\n' at the end\n",
    "        if row[-1] == '\\n':\n",
    "            row = row[:-1]\n",
    "        elif '\\n' in row[-1]:\n",
    "            row[-1] = row[-1].replace('\\n', '')\n",
    "\n",
    "        word = row[in_position]\n",
    "        pos_tag = row[pos_position]\n",
    "        \n",
    "        # adding word to input sentence\n",
    "        if input_sentence == \"\": \n",
    "            input_sentence = word\n",
    "        else:\n",
    "            if word == \"'s\" and pos_tag.startswith('I-'):\n",
    "                input_sentence = input_sentence + word\n",
    "            else: \n",
    "                input_sentence = input_sentence + \" \" + word\n",
    "        \n",
    "        if len(re.sub(r'[\\W\\s]', '', word)):\n",
    "            word_count += 1\n",
    "            \n",
    "        \n",
    "        # adding entity word to target sentence\n",
    "        if pos_tag != 'O': \n",
    "            if len(re.sub(r'[\\W\\s]', '', word)):\n",
    "                NE_count += 1\n",
    "            if target_output == '':\n",
    "                target_output = f'*s* {word} | {pos_tag.split(\"-\")[1]} *e*'\n",
    "        \n",
    "            elif pos_tag.startswith('B-'):\n",
    "                target_output = f'{target_output} , *s* {word} | {pos_tag.split(\"-\")[1]} *e*'\n",
    "            elif pos_tag.startswith('I-'):\n",
    "                target_output = target_output.rsplit(' | ', 1)[0] \n",
    "                if word == \"'s\":\n",
    "                    target_output = f'{target_output}{word} | {pos_tag.split(\"-\")[1]} *e*'\n",
    "                else:\n",
    "                    target_output = f'{target_output} {word} | {pos_tag.split(\"-\")[1]} *e*'\n",
    "            else: \n",
    "                print('error')\n",
    "                print(pos_tag)      \n",
    "    f.close()\n",
    "\n",
    "    parsed_data = pd.DataFrame(dataset, columns=['input_text', 'target_text', 'word_count', 'NE_count'])\n",
    "    return parsed_data"
   ]
  },
  {
   "cell_type": "code",
   "execution_count": 3,
   "id": "82eac788",
   "metadata": {},
   "outputs": [],
   "source": [
    "def read_onto_dataset():\n",
    "    dataset = {'input_text':[], 'target_text': [], 'word_count': [], 'NE_count': []}\n",
    "    with open('./1-NER_Data/0-raw_data/ontoNotes_5.0/ontonotes5.json', encoding=\"utf8\") as f:\n",
    "        # returns JSON object as a dictionary\n",
    "        data = json.load(f)\n",
    "    \n",
    "    entities_to_remove = ['DATE', 'TIME', 'PERCENT', 'MONEY' , 'QUANTITY', 'ORDINAL', 'CARDINAL']\n",
    "        \n",
    "    for sent in data['TRAINING']:\n",
    "        if sent['language'] != 'english':\n",
    "            continue\n",
    "        \n",
    "        ne_count = 0\n",
    "        input_sent = sent['text']\n",
    "        word_count = len(sent['text'].split())\n",
    "        target_ent = ''\n",
    "        \n",
    "        for pair in sent['entities'].items():\n",
    "            pos_name = pair[0] \n",
    "            if pos_name in entities_to_remove:\n",
    "                continue\n",
    "            \n",
    "            if pos_name == 'PERSON':\n",
    "                pos_name = 'PER'\n",
    "            elif pos_name != 'LOC' and pos_name != 'ORG':\n",
    "                pos_name = 'MISC'\n",
    "                \n",
    "            entities = pair[1] \n",
    "            for (i,j) in entities:\n",
    "                ne_count += 1\n",
    "                target_str = input_sent[i:j]\n",
    "                \n",
    "                if target_ent == '':\n",
    "                    target_ent = f'*s* {target_str} | {pos_name} *e*'\n",
    "                else:\n",
    "                    target_ent = target_ent + f' , *s* {target_str} | {pos_name} *e*'\n",
    "        \n",
    "        if target_ent == '':\n",
    "            target_ent = '*s**e*'\n",
    "        \n",
    "        dataset['input_text'].append(input_sent)\n",
    "\n",
    "        dataset['target_text'].append(target_ent)\n",
    "        dataset['word_count'].append(word_count)\n",
    "        dataset['NE_count'].append(ne_count)\n",
    "    return pd.DataFrame(dataset) "
   ]
  },
  {
   "cell_type": "code",
   "execution_count": 4,
   "id": "db397a4e",
   "metadata": {},
   "outputs": [],
   "source": [
    "def add_per_NE_sent(data):\n",
    "    data['%_NE_in_sentence'] = round(data['NE_count']/ data['word_count'], 1)\n",
    "    return data"
   ]
  },
  {
   "cell_type": "code",
   "execution_count": 5,
   "id": "31e9fc83",
   "metadata": {},
   "outputs": [],
   "source": [
    "# expects a dataframe\n",
    "def lower_case_df(data):\n",
    "    low_input_text = data[\"input_text\"].str.lower()\n",
    "    low_target_text = data[\"target_text\"].str.lower()\n",
    "    return create_dataframe(low_input_text, low_target_text)"
   ]
  },
  {
   "cell_type": "code",
   "execution_count": 6,
   "id": "17119f20",
   "metadata": {},
   "outputs": [],
   "source": [
    "# expects a dataframe\n",
    "def upper_case_df(data):\n",
    "    upper_input_text = data[\"input_text\"].str.upper()\n",
    "    upper_target_text = data[\"target_text\"].str.upper()\n",
    "    return create_dataframe(upper_input_text, upper_target_text)"
   ]
  },
  {
   "cell_type": "code",
   "execution_count": 7,
   "id": "2aaade01",
   "metadata": {},
   "outputs": [],
   "source": [
    "def create_dataframe(input_sent, target_sent):\n",
    "    data = []\n",
    "    for input_text, target_text in zip(input_sent, target_sent):\n",
    "        data.append([input_text, target_text])\n",
    "\n",
    "    return pd.DataFrame(data, columns=['input_text', 'target_text'])"
   ]
  },
  {
   "cell_type": "markdown",
   "id": "b772c07f",
   "metadata": {},
   "source": [
    "## Reading the onto_data and splitting the data into training, validation and test sets"
   ]
  },
  {
   "cell_type": "code",
   "execution_count": 8,
   "id": "42f8cd72",
   "metadata": {},
   "outputs": [],
   "source": [
    "onto_data = read_onto_dataset()\n",
    "onto_data = onto_data.sample(frac=1, random_state=1).reset_index(drop=True)\n",
    "onto_training, onto_test = train_test_split(onto_data, test_size=0.3)\n",
    "onto_test, onto_val = train_test_split(onto_test, test_size=0.5)"
   ]
  },
  {
   "cell_type": "code",
   "execution_count": 9,
   "id": "ef268506",
   "metadata": {},
   "outputs": [
    {
     "data": {
      "text/html": [
       "<div>\n",
       "<style scoped>\n",
       "    .dataframe tbody tr th:only-of-type {\n",
       "        vertical-align: middle;\n",
       "    }\n",
       "\n",
       "    .dataframe tbody tr th {\n",
       "        vertical-align: top;\n",
       "    }\n",
       "\n",
       "    .dataframe thead th {\n",
       "        text-align: right;\n",
       "    }\n",
       "</style>\n",
       "<table border=\"1\" class=\"dataframe\">\n",
       "  <thead>\n",
       "    <tr style=\"text-align: right;\">\n",
       "      <th></th>\n",
       "      <th>input_text</th>\n",
       "      <th>target_text</th>\n",
       "      <th>word_count</th>\n",
       "      <th>NE_count</th>\n",
       "    </tr>\n",
       "  </thead>\n",
       "  <tbody>\n",
       "    <tr>\n",
       "      <th>62604</th>\n",
       "      <td>There is Jiakun Liu who was accredited as an \"...</td>\n",
       "      <td>*s* the Communist Party | ORG *e* , *s* Party ...</td>\n",
       "      <td>36</td>\n",
       "      <td>3</td>\n",
       "    </tr>\n",
       "    <tr>\n",
       "      <th>28922</th>\n",
       "      <td>The bank investigated the matter,</td>\n",
       "      <td>*s**e*</td>\n",
       "      <td>5</td>\n",
       "      <td>0</td>\n",
       "    </tr>\n",
       "    <tr>\n",
       "      <th>102866</th>\n",
       "      <td>He did that because he had faith.</td>\n",
       "      <td>*s**e*</td>\n",
       "      <td>7</td>\n",
       "      <td>0</td>\n",
       "    </tr>\n",
       "    <tr>\n",
       "      <th>117571</th>\n",
       "      <td>I leave it to you as homework to figur out wha...</td>\n",
       "      <td>*s* Spain | MISC *e* , *s* France | MISC *e*</td>\n",
       "      <td>21</td>\n",
       "      <td>2</td>\n",
       "    </tr>\n",
       "    <tr>\n",
       "      <th>7023</th>\n",
       "      <td>This year, the entire province took new steps ...</td>\n",
       "      <td>*s**e*</td>\n",
       "      <td>16</td>\n",
       "      <td>0</td>\n",
       "    </tr>\n",
       "    <tr>\n",
       "      <th>...</th>\n",
       "      <td>...</td>\n",
       "      <td>...</td>\n",
       "      <td>...</td>\n",
       "      <td>...</td>\n",
       "    </tr>\n",
       "    <tr>\n",
       "      <th>29354</th>\n",
       "      <td>I have worked much harder than they have.</td>\n",
       "      <td>*s**e*</td>\n",
       "      <td>8</td>\n",
       "      <td>0</td>\n",
       "    </tr>\n",
       "    <tr>\n",
       "      <th>101223</th>\n",
       "      <td>When Pilate heard it from the officer, he told...</td>\n",
       "      <td>*s**e*</td>\n",
       "      <td>15</td>\n",
       "      <td>0</td>\n",
       "    </tr>\n",
       "    <tr>\n",
       "      <th>110127</th>\n",
       "      <td>Felix Yen, president of the Zhen An Palau Corp...</td>\n",
       "      <td>*s* Palau | MISC *e* , *s* the Zhen An Palau C...</td>\n",
       "      <td>25</td>\n",
       "      <td>4</td>\n",
       "    </tr>\n",
       "    <tr>\n",
       "      <th>76786</th>\n",
       "      <td>All this fits in with the average annual GDP g...</td>\n",
       "      <td>*s**e*</td>\n",
       "      <td>17</td>\n",
       "      <td>0</td>\n",
       "    </tr>\n",
       "    <tr>\n",
       "      <th>48664</th>\n",
       "      <td>But since the reform and opening-up, with the ...</td>\n",
       "      <td>*s**e*</td>\n",
       "      <td>20</td>\n",
       "      <td>0</td>\n",
       "    </tr>\n",
       "  </tbody>\n",
       "</table>\n",
       "<p>92386 rows × 4 columns</p>\n",
       "</div>"
      ],
      "text/plain": [
       "                                               input_text  \\\n",
       "62604   There is Jiakun Liu who was accredited as an \"...   \n",
       "28922                   The bank investigated the matter,   \n",
       "102866                  He did that because he had faith.   \n",
       "117571  I leave it to you as homework to figur out wha...   \n",
       "7023    This year, the entire province took new steps ...   \n",
       "...                                                   ...   \n",
       "29354           I have worked much harder than they have.   \n",
       "101223  When Pilate heard it from the officer, he told...   \n",
       "110127  Felix Yen, president of the Zhen An Palau Corp...   \n",
       "76786   All this fits in with the average annual GDP g...   \n",
       "48664   But since the reform and opening-up, with the ...   \n",
       "\n",
       "                                              target_text  word_count  \\\n",
       "62604   *s* the Communist Party | ORG *e* , *s* Party ...          36   \n",
       "28922                                              *s**e*           5   \n",
       "102866                                             *s**e*           7   \n",
       "117571       *s* Spain | MISC *e* , *s* France | MISC *e*          21   \n",
       "7023                                               *s**e*          16   \n",
       "...                                                   ...         ...   \n",
       "29354                                              *s**e*           8   \n",
       "101223                                             *s**e*          15   \n",
       "110127  *s* Palau | MISC *e* , *s* the Zhen An Palau C...          25   \n",
       "76786                                              *s**e*          17   \n",
       "48664                                              *s**e*          20   \n",
       "\n",
       "        NE_count  \n",
       "62604          3  \n",
       "28922          0  \n",
       "102866         0  \n",
       "117571         2  \n",
       "7023           0  \n",
       "...          ...  \n",
       "29354          0  \n",
       "101223         0  \n",
       "110127         4  \n",
       "76786          0  \n",
       "48664          0  \n",
       "\n",
       "[92386 rows x 4 columns]"
      ]
     },
     "execution_count": 9,
     "metadata": {},
     "output_type": "execute_result"
    }
   ],
   "source": [
    "onto_training"
   ]
  },
  {
   "cell_type": "code",
   "execution_count": 10,
   "id": "ec1cdcb8",
   "metadata": {},
   "outputs": [
    {
     "data": {
      "text/plain": [
       "131980"
      ]
     },
     "execution_count": 10,
     "metadata": {},
     "output_type": "execute_result"
    }
   ],
   "source": [
    "len(onto_data)"
   ]
  },
  {
   "cell_type": "code",
   "execution_count": 11,
   "id": "fa876de3",
   "metadata": {},
   "outputs": [
    {
     "name": "stdout",
     "output_type": "stream",
     "text": [
      "92386\n",
      "19797\n",
      "19797\n"
     ]
    }
   ],
   "source": [
    "print(len(onto_training))\n",
    "print(len(onto_test))\n",
    "print(len(onto_val))"
   ]
  },
  {
   "cell_type": "markdown",
   "id": "03179109",
   "metadata": {},
   "source": [
    "# Training data"
   ]
  },
  {
   "cell_type": "markdown",
   "id": "f4ce275d",
   "metadata": {},
   "source": [
    "### Read the data from either txt files or from huggingface dataset and converting each to target form  --->  [input_text, target_text, word_count, NE_count] "
   ]
  },
  {
   "cell_type": "code",
   "execution_count": 12,
   "id": "ddf8d306",
   "metadata": {},
   "outputs": [
    {
     "data": {
      "text/html": [
       "<div>\n",
       "<style scoped>\n",
       "    .dataframe tbody tr th:only-of-type {\n",
       "        vertical-align: middle;\n",
       "    }\n",
       "\n",
       "    .dataframe tbody tr th {\n",
       "        vertical-align: top;\n",
       "    }\n",
       "\n",
       "    .dataframe thead th {\n",
       "        text-align: right;\n",
       "    }\n",
       "</style>\n",
       "<table border=\"1\" class=\"dataframe\">\n",
       "  <thead>\n",
       "    <tr style=\"text-align: right;\">\n",
       "      <th></th>\n",
       "      <th>input_text</th>\n",
       "      <th>target_text</th>\n",
       "      <th>word_count</th>\n",
       "      <th>NE_count</th>\n",
       "    </tr>\n",
       "  </thead>\n",
       "  <tbody>\n",
       "    <tr>\n",
       "      <th>0</th>\n",
       "      <td>EU rejects German call to boycott British lamb .</td>\n",
       "      <td>*s* EU | ORG *e* , *s* German | MISC *e* , *s*...</td>\n",
       "      <td>8</td>\n",
       "      <td>3</td>\n",
       "    </tr>\n",
       "    <tr>\n",
       "      <th>1</th>\n",
       "      <td>Peter Blackburn</td>\n",
       "      <td>*s* Peter Blackburn | PER *e*</td>\n",
       "      <td>2</td>\n",
       "      <td>2</td>\n",
       "    </tr>\n",
       "    <tr>\n",
       "      <th>2</th>\n",
       "      <td>BRUSSELS 1996-08-22</td>\n",
       "      <td>*s* BRUSSELS | LOC *e*</td>\n",
       "      <td>2</td>\n",
       "      <td>1</td>\n",
       "    </tr>\n",
       "    <tr>\n",
       "      <th>3</th>\n",
       "      <td>The European Commission said on Thursday it di...</td>\n",
       "      <td>*s* European Commission | ORG *e* , *s* German...</td>\n",
       "      <td>29</td>\n",
       "      <td>4</td>\n",
       "    </tr>\n",
       "    <tr>\n",
       "      <th>4</th>\n",
       "      <td>Germany 's representative to the European Unio...</td>\n",
       "      <td>*s* Germany | LOC *e* , *s* European Union | O...</td>\n",
       "      <td>30</td>\n",
       "      <td>6</td>\n",
       "    </tr>\n",
       "    <tr>\n",
       "      <th>...</th>\n",
       "      <td>...</td>\n",
       "      <td>...</td>\n",
       "      <td>...</td>\n",
       "      <td>...</td>\n",
       "    </tr>\n",
       "    <tr>\n",
       "      <th>14036</th>\n",
       "      <td>on Friday :</td>\n",
       "      <td>*s**e*</td>\n",
       "      <td>2</td>\n",
       "      <td>0</td>\n",
       "    </tr>\n",
       "    <tr>\n",
       "      <th>14037</th>\n",
       "      <td>Division two</td>\n",
       "      <td>*s**e*</td>\n",
       "      <td>2</td>\n",
       "      <td>0</td>\n",
       "    </tr>\n",
       "    <tr>\n",
       "      <th>14038</th>\n",
       "      <td>Plymouth 2 Preston 1</td>\n",
       "      <td>*s* Plymouth | ORG *e* , *s* Preston | ORG *e*</td>\n",
       "      <td>4</td>\n",
       "      <td>2</td>\n",
       "    </tr>\n",
       "    <tr>\n",
       "      <th>14039</th>\n",
       "      <td>Division three</td>\n",
       "      <td>*s**e*</td>\n",
       "      <td>2</td>\n",
       "      <td>0</td>\n",
       "    </tr>\n",
       "    <tr>\n",
       "      <th>14040</th>\n",
       "      <td>Swansea 1 Lincoln 2</td>\n",
       "      <td>*s* Swansea | ORG *e* , *s* Lincoln | ORG *e*</td>\n",
       "      <td>4</td>\n",
       "      <td>2</td>\n",
       "    </tr>\n",
       "  </tbody>\n",
       "</table>\n",
       "<p>14041 rows × 4 columns</p>\n",
       "</div>"
      ],
      "text/plain": [
       "                                              input_text  \\\n",
       "0       EU rejects German call to boycott British lamb .   \n",
       "1                                        Peter Blackburn   \n",
       "2                                    BRUSSELS 1996-08-22   \n",
       "3      The European Commission said on Thursday it di...   \n",
       "4      Germany 's representative to the European Unio...   \n",
       "...                                                  ...   \n",
       "14036                                        on Friday :   \n",
       "14037                                       Division two   \n",
       "14038                               Plymouth 2 Preston 1   \n",
       "14039                                     Division three   \n",
       "14040                                Swansea 1 Lincoln 2   \n",
       "\n",
       "                                             target_text  word_count  NE_count  \n",
       "0      *s* EU | ORG *e* , *s* German | MISC *e* , *s*...           8         3  \n",
       "1                          *s* Peter Blackburn | PER *e*           2         2  \n",
       "2                                 *s* BRUSSELS | LOC *e*           2         1  \n",
       "3      *s* European Commission | ORG *e* , *s* German...          29         4  \n",
       "4      *s* Germany | LOC *e* , *s* European Union | O...          30         6  \n",
       "...                                                  ...         ...       ...  \n",
       "14036                                             *s**e*           2         0  \n",
       "14037                                             *s**e*           2         0  \n",
       "14038     *s* Plymouth | ORG *e* , *s* Preston | ORG *e*           4         2  \n",
       "14039                                             *s**e*           2         0  \n",
       "14040      *s* Swansea | ORG *e* , *s* Lincoln | ORG *e*           4         2  \n",
       "\n",
       "[14041 rows x 4 columns]"
      ]
     },
     "execution_count": 12,
     "metadata": {},
     "output_type": "execute_result"
    }
   ],
   "source": [
    "# CoNLL2003++ training dataset\n",
    "\n",
    "conellpp_training = parse_file_data(\"./1-NER_Data/0-raw_data/coNLL2003pp/conllpp_train.txt\", in_position=0, pos_position=3, line_len=4, sep=' ')\n",
    "conellpp_training"
   ]
  },
  {
   "cell_type": "code",
   "execution_count": 13,
   "id": "31b98deb",
   "metadata": {},
   "outputs": [
    {
     "data": {
      "text/plain": [
       "input_text     Germany 's representative to the European Unio...\n",
       "target_text    *s* Germany | LOC *e* , *s* European Union | O...\n",
       "word_count                                                    30\n",
       "NE_count                                                       6\n",
       "Name: 4, dtype: object"
      ]
     },
     "execution_count": 13,
     "metadata": {},
     "output_type": "execute_result"
    }
   ],
   "source": [
    "conellpp_training.iloc[4]"
   ]
  },
  {
   "cell_type": "code",
   "execution_count": 14,
   "id": "78555c98",
   "metadata": {},
   "outputs": [
    {
     "data": {
      "text/html": [
       "<div>\n",
       "<style scoped>\n",
       "    .dataframe tbody tr th:only-of-type {\n",
       "        vertical-align: middle;\n",
       "    }\n",
       "\n",
       "    .dataframe tbody tr th {\n",
       "        vertical-align: top;\n",
       "    }\n",
       "\n",
       "    .dataframe thead th {\n",
       "        text-align: right;\n",
       "    }\n",
       "</style>\n",
       "<table border=\"1\" class=\"dataframe\">\n",
       "  <thead>\n",
       "    <tr style=\"text-align: right;\">\n",
       "      <th></th>\n",
       "      <th>input_text</th>\n",
       "      <th>target_text</th>\n",
       "      <th>word_count</th>\n",
       "      <th>NE_count</th>\n",
       "    </tr>\n",
       "  </thead>\n",
       "  <tbody>\n",
       "    <tr>\n",
       "      <th>0</th>\n",
       "      <td>This division also contains the Ventana Wilder...</td>\n",
       "      <td>*s* Ventana Wilderness | LOC *e* , *s* Califor...</td>\n",
       "      <td>12</td>\n",
       "      <td>3</td>\n",
       "    </tr>\n",
       "    <tr>\n",
       "      <th>1</th>\n",
       "      <td>\" So here is the balance NBC has to consider :...</td>\n",
       "      <td>*s* NBC | ORG *e* , *s* The Who | MISC *e* , *...</td>\n",
       "      <td>13</td>\n",
       "      <td>5</td>\n",
       "    </tr>\n",
       "    <tr>\n",
       "      <th>2</th>\n",
       "      <td>It is a protest song that \" creates a cinemati...</td>\n",
       "      <td>*s* America | LOC *e*</td>\n",
       "      <td>36</td>\n",
       "      <td>1</td>\n",
       "    </tr>\n",
       "    <tr>\n",
       "      <th>3</th>\n",
       "      <td>This differs from approaches such as IP or Eth...</td>\n",
       "      <td>*s* Ethernet | MISC *e*</td>\n",
       "      <td>16</td>\n",
       "      <td>1</td>\n",
       "    </tr>\n",
       "    <tr>\n",
       "      <th>4</th>\n",
       "      <td>Since then , only Terry Bradshaw in 147 games ...</td>\n",
       "      <td>*s* Terry Bradshaw | PER *e* , *s* Joe Montana...</td>\n",
       "      <td>25</td>\n",
       "      <td>6</td>\n",
       "    </tr>\n",
       "    <tr>\n",
       "      <th>...</th>\n",
       "      <td>...</td>\n",
       "      <td>...</td>\n",
       "      <td>...</td>\n",
       "      <td>...</td>\n",
       "    </tr>\n",
       "    <tr>\n",
       "      <th>92715</th>\n",
       "      <td>The couple had a son , David , and a daughter ...</td>\n",
       "      <td>*s* David | PER *e* , *s* Sarah | PER *e*</td>\n",
       "      <td>10</td>\n",
       "      <td>2</td>\n",
       "    </tr>\n",
       "    <tr>\n",
       "      <th>92716</th>\n",
       "      <td>The Home Secretary , J. R. Clynes , was presen...</td>\n",
       "      <td>*s* J. R. Clynes | PER *e*</td>\n",
       "      <td>12</td>\n",
       "      <td>3</td>\n",
       "    </tr>\n",
       "    <tr>\n",
       "      <th>92717</th>\n",
       "      <td>At the time of her birth , she was fourth in t...</td>\n",
       "      <td>*s* British throne | PER *e*</td>\n",
       "      <td>18</td>\n",
       "      <td>2</td>\n",
       "    </tr>\n",
       "    <tr>\n",
       "      <th>92718</th>\n",
       "      <td>The film was based on the Broadway play of the...</td>\n",
       "      <td>*s* Broadway | MISC *e*</td>\n",
       "      <td>12</td>\n",
       "      <td>1</td>\n",
       "    </tr>\n",
       "    <tr>\n",
       "      <th>92719</th>\n",
       "      <td>The couple had two children ( both born by Cae...</td>\n",
       "      <td>*s* Caesarean | MISC *e* , *s* Margaret | PER ...</td>\n",
       "      <td>25</td>\n",
       "      <td>4</td>\n",
       "    </tr>\n",
       "  </tbody>\n",
       "</table>\n",
       "<p>92720 rows × 4 columns</p>\n",
       "</div>"
      ],
      "text/plain": [
       "                                              input_text  \\\n",
       "0      This division also contains the Ventana Wilder...   \n",
       "1      \" So here is the balance NBC has to consider :...   \n",
       "2      It is a protest song that \" creates a cinemati...   \n",
       "3      This differs from approaches such as IP or Eth...   \n",
       "4      Since then , only Terry Bradshaw in 147 games ...   \n",
       "...                                                  ...   \n",
       "92715  The couple had a son , David , and a daughter ...   \n",
       "92716  The Home Secretary , J. R. Clynes , was presen...   \n",
       "92717  At the time of her birth , she was fourth in t...   \n",
       "92718  The film was based on the Broadway play of the...   \n",
       "92719  The couple had two children ( both born by Cae...   \n",
       "\n",
       "                                             target_text  word_count  NE_count  \n",
       "0      *s* Ventana Wilderness | LOC *e* , *s* Califor...          12         3  \n",
       "1      *s* NBC | ORG *e* , *s* The Who | MISC *e* , *...          13         5  \n",
       "2                                  *s* America | LOC *e*          36         1  \n",
       "3                                *s* Ethernet | MISC *e*          16         1  \n",
       "4      *s* Terry Bradshaw | PER *e* , *s* Joe Montana...          25         6  \n",
       "...                                                  ...         ...       ...  \n",
       "92715          *s* David | PER *e* , *s* Sarah | PER *e*          10         2  \n",
       "92716                         *s* J. R. Clynes | PER *e*          12         3  \n",
       "92717                       *s* British throne | PER *e*          18         2  \n",
       "92718                            *s* Broadway | MISC *e*          12         1  \n",
       "92719  *s* Caesarean | MISC *e* , *s* Margaret | PER ...          25         4  \n",
       "\n",
       "[92720 rows x 4 columns]"
      ]
     },
     "execution_count": 14,
     "metadata": {},
     "output_type": "execute_result"
    }
   ],
   "source": [
    "# wikineural training dataset\n",
    "\n",
    "wikineural_training = parse_file_data(\"./1-NER_Data/0-raw_data/wikineural/train.conllu.txt\", 1, 2, 3, '\\t')\n",
    "wikineural_training"
   ]
  },
  {
   "cell_type": "code",
   "execution_count": 15,
   "id": "889e8b78",
   "metadata": {},
   "outputs": [],
   "source": [
    "# OntoNotes 5.0 training dataset refer section above"
   ]
  },
  {
   "cell_type": "markdown",
   "id": "94271733",
   "metadata": {},
   "source": [
    "### Adding entity as percentage of the input sentence"
   ]
  },
  {
   "cell_type": "code",
   "execution_count": 16,
   "id": "f341a70c",
   "metadata": {},
   "outputs": [],
   "source": [
    "conellpp_training = add_per_NE_sent(conellpp_training)\n",
    "wikineural_training = add_per_NE_sent(wikineural_training)\n",
    "onto_training = add_per_NE_sent(onto_training)"
   ]
  },
  {
   "cell_type": "markdown",
   "id": "68769419",
   "metadata": {},
   "source": [
    "#### conell++ training dataset"
   ]
  },
  {
   "cell_type": "code",
   "execution_count": 17,
   "id": "acc08ab7",
   "metadata": {
    "scrolled": true
   },
   "outputs": [
    {
     "name": "stdout",
     "output_type": "stream",
     "text": [
      "14041\n",
      "there are 0.2383021152339577 sentences in the range of 0:0.1\n",
      "3346\n"
     ]
    },
    {
     "data": {
      "image/png": "[encoded data removed]",
      "text/plain": [
       "<Figure size 432x288 with 1 Axes>"
      ]
     },
     "metadata": {
      "needs_background": "light"
     },
     "output_type": "display_data"
    }
   ],
   "source": [
    "plot_percent_NE = conellpp_training['%_NE_in_sentence'].value_counts().sort_index()\n",
    "plot_percent_NE.plot(kind='bar')\n",
    "print(len(conellpp_training))\n",
    "print(\"there are\", sum(plot_percent_NE.loc[0:0.01])/len(conellpp_training), \"sentences in the range of 0:0.1\")\n",
    "print(sum(plot_percent_NE.loc[0:0.01]))"
   ]
  },
  {
   "cell_type": "code",
   "execution_count": 18,
   "id": "365be7f5",
   "metadata": {
    "scrolled": true
   },
   "outputs": [
    {
     "data": {
      "text/plain": [
       "<AxesSubplot:xlabel='word_count'>"
      ]
     },
     "execution_count": 18,
     "metadata": {},
     "output_type": "execute_result"
    },
    {
     "data": {
      "image/png": "[encoded data removed]",
      "text/plain": [
       "<Figure size 432x288 with 1 Axes>"
      ]
     },
     "metadata": {
      "needs_background": "light"
     },
     "output_type": "display_data"
    }
   ],
   "source": [
    "conellpp_training.groupby(by='word_count')['input_text'].count().head(10).plot(kind='bar')"
   ]
  },
  {
   "cell_type": "code",
   "execution_count": 19,
   "id": "648d2fc2",
   "metadata": {},
   "outputs": [
    {
     "data": {
      "text/html": [
       "<div>\n",
       "<style scoped>\n",
       "    .dataframe tbody tr th:only-of-type {\n",
       "        vertical-align: middle;\n",
       "    }\n",
       "\n",
       "    .dataframe tbody tr th {\n",
       "        vertical-align: top;\n",
       "    }\n",
       "\n",
       "    .dataframe thead th {\n",
       "        text-align: right;\n",
       "    }\n",
       "</style>\n",
       "<table border=\"1\" class=\"dataframe\">\n",
       "  <thead>\n",
       "    <tr style=\"text-align: right;\">\n",
       "      <th></th>\n",
       "      <th>input_text</th>\n",
       "      <th>target_text</th>\n",
       "      <th>word_count</th>\n",
       "      <th>NE_count</th>\n",
       "      <th>%_NE_in_sentence</th>\n",
       "    </tr>\n",
       "  </thead>\n",
       "  <tbody>\n",
       "    <tr>\n",
       "      <th>0</th>\n",
       "      <td>EU rejects German call to boycott British lamb .</td>\n",
       "      <td>*s* EU | ORG *e* , *s* German | MISC *e* , *s*...</td>\n",
       "      <td>8</td>\n",
       "      <td>3</td>\n",
       "      <td>0.4</td>\n",
       "    </tr>\n",
       "    <tr>\n",
       "      <th>1</th>\n",
       "      <td>Peter Blackburn</td>\n",
       "      <td>*s* Peter Blackburn | PER *e*</td>\n",
       "      <td>2</td>\n",
       "      <td>2</td>\n",
       "      <td>1.0</td>\n",
       "    </tr>\n",
       "    <tr>\n",
       "      <th>2</th>\n",
       "      <td>BRUSSELS 1996-08-22</td>\n",
       "      <td>*s* BRUSSELS | LOC *e*</td>\n",
       "      <td>2</td>\n",
       "      <td>1</td>\n",
       "      <td>0.5</td>\n",
       "    </tr>\n",
       "    <tr>\n",
       "      <th>3</th>\n",
       "      <td>The European Commission said on Thursday it di...</td>\n",
       "      <td>*s* European Commission | ORG *e* , *s* German...</td>\n",
       "      <td>29</td>\n",
       "      <td>4</td>\n",
       "      <td>0.1</td>\n",
       "    </tr>\n",
       "    <tr>\n",
       "      <th>4</th>\n",
       "      <td>Germany 's representative to the European Unio...</td>\n",
       "      <td>*s* Germany | LOC *e* , *s* European Union | O...</td>\n",
       "      <td>30</td>\n",
       "      <td>6</td>\n",
       "      <td>0.2</td>\n",
       "    </tr>\n",
       "    <tr>\n",
       "      <th>...</th>\n",
       "      <td>...</td>\n",
       "      <td>...</td>\n",
       "      <td>...</td>\n",
       "      <td>...</td>\n",
       "      <td>...</td>\n",
       "    </tr>\n",
       "    <tr>\n",
       "      <th>13985</th>\n",
       "      <td>on Friday :</td>\n",
       "      <td>*s**e*</td>\n",
       "      <td>2</td>\n",
       "      <td>0</td>\n",
       "      <td>0.0</td>\n",
       "    </tr>\n",
       "    <tr>\n",
       "      <th>13986</th>\n",
       "      <td>Division two</td>\n",
       "      <td>*s**e*</td>\n",
       "      <td>2</td>\n",
       "      <td>0</td>\n",
       "      <td>0.0</td>\n",
       "    </tr>\n",
       "    <tr>\n",
       "      <th>13987</th>\n",
       "      <td>Plymouth 2 Preston 1</td>\n",
       "      <td>*s* Plymouth | ORG *e* , *s* Preston | ORG *e*</td>\n",
       "      <td>4</td>\n",
       "      <td>2</td>\n",
       "      <td>0.5</td>\n",
       "    </tr>\n",
       "    <tr>\n",
       "      <th>13988</th>\n",
       "      <td>Division three</td>\n",
       "      <td>*s**e*</td>\n",
       "      <td>2</td>\n",
       "      <td>0</td>\n",
       "      <td>0.0</td>\n",
       "    </tr>\n",
       "    <tr>\n",
       "      <th>13989</th>\n",
       "      <td>Swansea 1 Lincoln 2</td>\n",
       "      <td>*s* Swansea | ORG *e* , *s* Lincoln | ORG *e*</td>\n",
       "      <td>4</td>\n",
       "      <td>2</td>\n",
       "      <td>0.5</td>\n",
       "    </tr>\n",
       "  </tbody>\n",
       "</table>\n",
       "<p>13990 rows × 5 columns</p>\n",
       "</div>"
      ],
      "text/plain": [
       "                                              input_text  \\\n",
       "0       EU rejects German call to boycott British lamb .   \n",
       "1                                        Peter Blackburn   \n",
       "2                                    BRUSSELS 1996-08-22   \n",
       "3      The European Commission said on Thursday it di...   \n",
       "4      Germany 's representative to the European Unio...   \n",
       "...                                                  ...   \n",
       "13985                                        on Friday :   \n",
       "13986                                       Division two   \n",
       "13987                               Plymouth 2 Preston 1   \n",
       "13988                                     Division three   \n",
       "13989                                Swansea 1 Lincoln 2   \n",
       "\n",
       "                                             target_text  word_count  \\\n",
       "0      *s* EU | ORG *e* , *s* German | MISC *e* , *s*...           8   \n",
       "1                          *s* Peter Blackburn | PER *e*           2   \n",
       "2                                 *s* BRUSSELS | LOC *e*           2   \n",
       "3      *s* European Commission | ORG *e* , *s* German...          29   \n",
       "4      *s* Germany | LOC *e* , *s* European Union | O...          30   \n",
       "...                                                  ...         ...   \n",
       "13985                                             *s**e*           2   \n",
       "13986                                             *s**e*           2   \n",
       "13987     *s* Plymouth | ORG *e* , *s* Preston | ORG *e*           4   \n",
       "13988                                             *s**e*           2   \n",
       "13989      *s* Swansea | ORG *e* , *s* Lincoln | ORG *e*           4   \n",
       "\n",
       "       NE_count  %_NE_in_sentence  \n",
       "0             3               0.4  \n",
       "1             2               1.0  \n",
       "2             1               0.5  \n",
       "3             4               0.1  \n",
       "4             6               0.2  \n",
       "...         ...               ...  \n",
       "13985         0               0.0  \n",
       "13986         0               0.0  \n",
       "13987         2               0.5  \n",
       "13988         0               0.0  \n",
       "13989         2               0.5  \n",
       "\n",
       "[13990 rows x 5 columns]"
      ]
     },
     "execution_count": 19,
     "metadata": {},
     "output_type": "execute_result"
    }
   ],
   "source": [
    "conellpp_training = conellpp_training.drop(conellpp_training.loc[conellpp_training['word_count'] == 0].index).reset_index(drop=True)\n",
    "conellpp_training"
   ]
  },
  {
   "cell_type": "markdown",
   "id": "50e00ff9",
   "metadata": {},
   "source": [
    "#### Wikineiral training dataset"
   ]
  },
  {
   "cell_type": "code",
   "execution_count": 20,
   "id": "ab79d377",
   "metadata": {
    "scrolled": true
   },
   "outputs": [
    {
     "name": "stdout",
     "output_type": "stream",
     "text": [
      "92720\n",
      "there are 0.14910483175150993 sentences in the range of 0:0.1\n",
      "13825\n"
     ]
    },
    {
     "data": {
      "image/png": "[encoded data removed]",
      "text/plain": [
       "<Figure size 432x288 with 1 Axes>"
      ]
     },
     "metadata": {
      "needs_background": "light"
     },
     "output_type": "display_data"
    }
   ],
   "source": [
    "plot_percent_NE = wikineural_training['%_NE_in_sentence'].value_counts().sort_index()\n",
    "plot_percent_NE.plot(kind='bar')\n",
    "print(len(wikineural_training))\n",
    "print(\"there are\", sum(plot_percent_NE.loc[0:0.01])/len(wikineural_training), \"sentences in the range of 0:0.1\")\n",
    "print(sum(plot_percent_NE.loc[0:0.01]))"
   ]
  },
  {
   "cell_type": "code",
   "execution_count": 21,
   "id": "5d4cb2f5",
   "metadata": {},
   "outputs": [
    {
     "data": {
      "text/plain": [
       "<AxesSubplot:xlabel='word_count'>"
      ]
     },
     "execution_count": 21,
     "metadata": {},
     "output_type": "execute_result"
    },
    {
     "data": {
      "image/png": "[encoded data removed]",
      "text/plain": [
       "<Figure size 432x288 with 1 Axes>"
      ]
     },
     "metadata": {
      "needs_background": "light"
     },
     "output_type": "display_data"
    }
   ],
   "source": [
    "wikineural_training.groupby(by='word_count')['input_text'].count().head(10).plot(kind='bar')"
   ]
  },
  {
   "cell_type": "markdown",
   "id": "85f1be5e",
   "metadata": {},
   "source": [
    "#### Onto training dataset"
   ]
  },
  {
   "cell_type": "code",
   "execution_count": 22,
   "id": "e221c585",
   "metadata": {},
   "outputs": [
    {
     "name": "stdout",
     "output_type": "stream",
     "text": [
      "92386\n",
      "there are 0.7092957807460005 sentences in the range of 0:0.1\n",
      "65529\n"
     ]
    },
    {
     "data": {
      "image/png": "[encoded data removed]",
      "text/plain": [
       "<Figure size 432x288 with 1 Axes>"
      ]
     },
     "metadata": {
      "needs_background": "light"
     },
     "output_type": "display_data"
    }
   ],
   "source": [
    "plot_percent_NE = onto_training['%_NE_in_sentence'].value_counts().sort_index()\n",
    "plot_percent_NE.plot(kind='bar')\n",
    "print(len(onto_training))\n",
    "print(\"there are\", sum(plot_percent_NE.loc[0:0.01])/len(onto_training), \"sentences in the range of 0:0.1\")\n",
    "print(sum(plot_percent_NE.loc[0:0.01]))"
   ]
  },
  {
   "cell_type": "code",
   "execution_count": 23,
   "id": "d388033a",
   "metadata": {},
   "outputs": [
    {
     "data": {
      "text/html": [
       "<div>\n",
       "<style scoped>\n",
       "    .dataframe tbody tr th:only-of-type {\n",
       "        vertical-align: middle;\n",
       "    }\n",
       "\n",
       "    .dataframe tbody tr th {\n",
       "        vertical-align: top;\n",
       "    }\n",
       "\n",
       "    .dataframe thead th {\n",
       "        text-align: right;\n",
       "    }\n",
       "</style>\n",
       "<table border=\"1\" class=\"dataframe\">\n",
       "  <thead>\n",
       "    <tr style=\"text-align: right;\">\n",
       "      <th></th>\n",
       "      <th>input_text</th>\n",
       "      <th>target_text</th>\n",
       "      <th>word_count</th>\n",
       "      <th>NE_count</th>\n",
       "      <th>%_NE_in_sentence</th>\n",
       "    </tr>\n",
       "  </thead>\n",
       "  <tbody>\n",
       "    <tr>\n",
       "      <th>0</th>\n",
       "      <td>There is Jiakun Liu who was accredited as an \"...</td>\n",
       "      <td>*s* the Communist Party | ORG *e* , *s* Party ...</td>\n",
       "      <td>36</td>\n",
       "      <td>3</td>\n",
       "      <td>0.1</td>\n",
       "    </tr>\n",
       "    <tr>\n",
       "      <th>1</th>\n",
       "      <td>I leave it to you as homework to figur out wha...</td>\n",
       "      <td>*s* Spain | MISC *e* , *s* France | MISC *e*</td>\n",
       "      <td>21</td>\n",
       "      <td>2</td>\n",
       "      <td>0.1</td>\n",
       "    </tr>\n",
       "    <tr>\n",
       "      <th>2</th>\n",
       "      <td>This year, the entire province took new steps ...</td>\n",
       "      <td>*s**e*</td>\n",
       "      <td>16</td>\n",
       "      <td>0</td>\n",
       "      <td>0.0</td>\n",
       "    </tr>\n",
       "    <tr>\n",
       "      <th>3</th>\n",
       "      <td>In order to give persons with disabilities a c...</td>\n",
       "      <td>*s**e*</td>\n",
       "      <td>34</td>\n",
       "      <td>0</td>\n",
       "      <td>0.0</td>\n",
       "    </tr>\n",
       "    <tr>\n",
       "      <th>4</th>\n",
       "      <td>Other magazine publishing companies have been ...</td>\n",
       "      <td>*s**e*</td>\n",
       "      <td>11</td>\n",
       "      <td>0</td>\n",
       "      <td>0.0</td>\n",
       "    </tr>\n",
       "    <tr>\n",
       "      <th>...</th>\n",
       "      <td>...</td>\n",
       "      <td>...</td>\n",
       "      <td>...</td>\n",
       "      <td>...</td>\n",
       "      <td>...</td>\n",
       "    </tr>\n",
       "    <tr>\n",
       "      <th>48695</th>\n",
       "      <td>The terms of the Geneva accords leave Moscow f...</td>\n",
       "      <td>*s* Moscow | MISC *e* , *s* Kabul | MISC *e* ,...</td>\n",
       "      <td>35</td>\n",
       "      <td>6</td>\n",
       "      <td>0.2</td>\n",
       "    </tr>\n",
       "    <tr>\n",
       "      <th>48696</th>\n",
       "      <td>The angel answered him, `` I am Gabriel, the o...</td>\n",
       "      <td>*s**e*</td>\n",
       "      <td>16</td>\n",
       "      <td>0</td>\n",
       "      <td>0.0</td>\n",
       "    </tr>\n",
       "    <tr>\n",
       "      <th>48697</th>\n",
       "      <td>I have worked much harder than they have.</td>\n",
       "      <td>*s**e*</td>\n",
       "      <td>8</td>\n",
       "      <td>0</td>\n",
       "      <td>0.0</td>\n",
       "    </tr>\n",
       "    <tr>\n",
       "      <th>48698</th>\n",
       "      <td>When Pilate heard it from the officer, he told...</td>\n",
       "      <td>*s**e*</td>\n",
       "      <td>15</td>\n",
       "      <td>0</td>\n",
       "      <td>0.0</td>\n",
       "    </tr>\n",
       "    <tr>\n",
       "      <th>48699</th>\n",
       "      <td>Felix Yen, president of the Zhen An Palau Corp...</td>\n",
       "      <td>*s* Palau | MISC *e* , *s* the Zhen An Palau C...</td>\n",
       "      <td>25</td>\n",
       "      <td>4</td>\n",
       "      <td>0.2</td>\n",
       "    </tr>\n",
       "  </tbody>\n",
       "</table>\n",
       "<p>48700 rows × 5 columns</p>\n",
       "</div>"
      ],
      "text/plain": [
       "                                              input_text  \\\n",
       "0      There is Jiakun Liu who was accredited as an \"...   \n",
       "1      I leave it to you as homework to figur out wha...   \n",
       "2      This year, the entire province took new steps ...   \n",
       "3      In order to give persons with disabilities a c...   \n",
       "4      Other magazine publishing companies have been ...   \n",
       "...                                                  ...   \n",
       "48695  The terms of the Geneva accords leave Moscow f...   \n",
       "48696  The angel answered him, `` I am Gabriel, the o...   \n",
       "48697          I have worked much harder than they have.   \n",
       "48698  When Pilate heard it from the officer, he told...   \n",
       "48699  Felix Yen, president of the Zhen An Palau Corp...   \n",
       "\n",
       "                                             target_text  word_count  \\\n",
       "0      *s* the Communist Party | ORG *e* , *s* Party ...          36   \n",
       "1           *s* Spain | MISC *e* , *s* France | MISC *e*          21   \n",
       "2                                                 *s**e*          16   \n",
       "3                                                 *s**e*          34   \n",
       "4                                                 *s**e*          11   \n",
       "...                                                  ...         ...   \n",
       "48695  *s* Moscow | MISC *e* , *s* Kabul | MISC *e* ,...          35   \n",
       "48696                                             *s**e*          16   \n",
       "48697                                             *s**e*           8   \n",
       "48698                                             *s**e*          15   \n",
       "48699  *s* Palau | MISC *e* , *s* the Zhen An Palau C...          25   \n",
       "\n",
       "       NE_count  %_NE_in_sentence  \n",
       "0             3               0.1  \n",
       "1             2               0.1  \n",
       "2             0               0.0  \n",
       "3             0               0.0  \n",
       "4             0               0.0  \n",
       "...         ...               ...  \n",
       "48695         6               0.2  \n",
       "48696         0               0.0  \n",
       "48697         0               0.0  \n",
       "48698         0               0.0  \n",
       "48699         4               0.2  \n",
       "\n",
       "[48700 rows x 5 columns]"
      ]
     },
     "execution_count": 23,
     "metadata": {},
     "output_type": "execute_result"
    }
   ],
   "source": [
    "# dropping half of the rows with zero entities randomly\n",
    "\n",
    "np.random.seed(10)\n",
    "zero_entities = onto_training.loc[onto_training['%_NE_in_sentence']==0].index\n",
    "#TODO: take 1/5 of the entities with 0 entities .. so that the overall (combined) dataset has less than or equal to 15%\n",
    "remove_n = round(len(zero_entities)*2/3)\n",
    "\n",
    "\n",
    "drop_indices = np.random.choice(zero_entities, remove_n, replace=False)\n",
    "onto_training = onto_training.drop(drop_indices).reset_index(drop=True)\n",
    "onto_training"
   ]
  },
  {
   "cell_type": "code",
   "execution_count": 24,
   "id": "a9f40b5f",
   "metadata": {},
   "outputs": [
    {
     "name": "stdout",
     "output_type": "stream",
     "text": [
      "48700\n",
      "there are 0.4485215605749487 sentences in the range of 0:0.1\n",
      "21843\n"
     ]
    },
    {
     "data": {
      "image/png": "[encoded data removed]",
      "text/plain": [
       "<Figure size 432x288 with 1 Axes>"
      ]
     },
     "metadata": {
      "needs_background": "light"
     },
     "output_type": "display_data"
    }
   ],
   "source": [
    "plot_percent_NE = onto_training['%_NE_in_sentence'].value_counts().sort_index()\n",
    "plot_percent_NE.plot(kind='bar')\n",
    "print(len(onto_training))\n",
    "print(\"there are\", sum(plot_percent_NE.loc[0:0.01])/len(onto_training), \"sentences in the range of 0:0.1\")\n",
    "print(sum(plot_percent_NE.loc[0:0.01]))"
   ]
  },
  {
   "cell_type": "code",
   "execution_count": 25,
   "id": "439658a2",
   "metadata": {},
   "outputs": [
    {
     "data": {
      "text/plain": [
       "<AxesSubplot:xlabel='word_count'>"
      ]
     },
     "execution_count": 25,
     "metadata": {},
     "output_type": "execute_result"
    },
    {
     "data": {
      "image/png": "[encoded data removed]",
      "text/plain": [
       "<Figure size 432x288 with 1 Axes>"
      ]
     },
     "metadata": {
      "needs_background": "light"
     },
     "output_type": "display_data"
    }
   ],
   "source": [
    "onto_training.groupby(by='word_count')['input_text'].count().head(10).plot(kind='bar')"
   ]
  },
  {
   "cell_type": "markdown",
   "id": "094294b3",
   "metadata": {},
   "source": [
    "### Combining the datasets"
   ]
  },
  {
   "cell_type": "code",
   "execution_count": 26,
   "id": "a3dcf293",
   "metadata": {},
   "outputs": [
    {
     "data": {
      "text/html": [
       "<div>\n",
       "<style scoped>\n",
       "    .dataframe tbody tr th:only-of-type {\n",
       "        vertical-align: middle;\n",
       "    }\n",
       "\n",
       "    .dataframe tbody tr th {\n",
       "        vertical-align: top;\n",
       "    }\n",
       "\n",
       "    .dataframe thead th {\n",
       "        text-align: right;\n",
       "    }\n",
       "</style>\n",
       "<table border=\"1\" class=\"dataframe\">\n",
       "  <thead>\n",
       "    <tr style=\"text-align: right;\">\n",
       "      <th></th>\n",
       "      <th>input_text</th>\n",
       "      <th>target_text</th>\n",
       "      <th>word_count</th>\n",
       "      <th>NE_count</th>\n",
       "      <th>%_NE_in_sentence</th>\n",
       "    </tr>\n",
       "  </thead>\n",
       "  <tbody>\n",
       "    <tr>\n",
       "      <th>0</th>\n",
       "      <td>EU rejects German call to boycott British lamb .</td>\n",
       "      <td>*s* EU | ORG *e* , *s* German | MISC *e* , *s*...</td>\n",
       "      <td>8</td>\n",
       "      <td>3</td>\n",
       "      <td>0.4</td>\n",
       "    </tr>\n",
       "    <tr>\n",
       "      <th>1</th>\n",
       "      <td>Peter Blackburn</td>\n",
       "      <td>*s* Peter Blackburn | PER *e*</td>\n",
       "      <td>2</td>\n",
       "      <td>2</td>\n",
       "      <td>1.0</td>\n",
       "    </tr>\n",
       "    <tr>\n",
       "      <th>2</th>\n",
       "      <td>BRUSSELS 1996-08-22</td>\n",
       "      <td>*s* BRUSSELS | LOC *e*</td>\n",
       "      <td>2</td>\n",
       "      <td>1</td>\n",
       "      <td>0.5</td>\n",
       "    </tr>\n",
       "    <tr>\n",
       "      <th>3</th>\n",
       "      <td>The European Commission said on Thursday it di...</td>\n",
       "      <td>*s* European Commission | ORG *e* , *s* German...</td>\n",
       "      <td>29</td>\n",
       "      <td>4</td>\n",
       "      <td>0.1</td>\n",
       "    </tr>\n",
       "    <tr>\n",
       "      <th>4</th>\n",
       "      <td>Germany 's representative to the European Unio...</td>\n",
       "      <td>*s* Germany | LOC *e* , *s* European Union | O...</td>\n",
       "      <td>30</td>\n",
       "      <td>6</td>\n",
       "      <td>0.2</td>\n",
       "    </tr>\n",
       "    <tr>\n",
       "      <th>...</th>\n",
       "      <td>...</td>\n",
       "      <td>...</td>\n",
       "      <td>...</td>\n",
       "      <td>...</td>\n",
       "      <td>...</td>\n",
       "    </tr>\n",
       "    <tr>\n",
       "      <th>152418</th>\n",
       "      <td>The terms of the Geneva accords leave Moscow f...</td>\n",
       "      <td>*s* Moscow | MISC *e* , *s* Kabul | MISC *e* ,...</td>\n",
       "      <td>35</td>\n",
       "      <td>6</td>\n",
       "      <td>0.2</td>\n",
       "    </tr>\n",
       "    <tr>\n",
       "      <th>152419</th>\n",
       "      <td>The angel answered him, `` I am Gabriel, the o...</td>\n",
       "      <td>*s**e*</td>\n",
       "      <td>16</td>\n",
       "      <td>0</td>\n",
       "      <td>0.0</td>\n",
       "    </tr>\n",
       "    <tr>\n",
       "      <th>152420</th>\n",
       "      <td>I have worked much harder than they have.</td>\n",
       "      <td>*s**e*</td>\n",
       "      <td>8</td>\n",
       "      <td>0</td>\n",
       "      <td>0.0</td>\n",
       "    </tr>\n",
       "    <tr>\n",
       "      <th>152421</th>\n",
       "      <td>When Pilate heard it from the officer, he told...</td>\n",
       "      <td>*s**e*</td>\n",
       "      <td>15</td>\n",
       "      <td>0</td>\n",
       "      <td>0.0</td>\n",
       "    </tr>\n",
       "    <tr>\n",
       "      <th>152422</th>\n",
       "      <td>Felix Yen, president of the Zhen An Palau Corp...</td>\n",
       "      <td>*s* Palau | MISC *e* , *s* the Zhen An Palau C...</td>\n",
       "      <td>25</td>\n",
       "      <td>4</td>\n",
       "      <td>0.2</td>\n",
       "    </tr>\n",
       "  </tbody>\n",
       "</table>\n",
       "<p>152423 rows × 5 columns</p>\n",
       "</div>"
      ],
      "text/plain": [
       "                                               input_text  \\\n",
       "0        EU rejects German call to boycott British lamb .   \n",
       "1                                         Peter Blackburn   \n",
       "2                                     BRUSSELS 1996-08-22   \n",
       "3       The European Commission said on Thursday it di...   \n",
       "4       Germany 's representative to the European Unio...   \n",
       "...                                                   ...   \n",
       "152418  The terms of the Geneva accords leave Moscow f...   \n",
       "152419  The angel answered him, `` I am Gabriel, the o...   \n",
       "152420          I have worked much harder than they have.   \n",
       "152421  When Pilate heard it from the officer, he told...   \n",
       "152422  Felix Yen, president of the Zhen An Palau Corp...   \n",
       "\n",
       "                                              target_text  word_count  \\\n",
       "0       *s* EU | ORG *e* , *s* German | MISC *e* , *s*...           8   \n",
       "1                           *s* Peter Blackburn | PER *e*           2   \n",
       "2                                  *s* BRUSSELS | LOC *e*           2   \n",
       "3       *s* European Commission | ORG *e* , *s* German...          29   \n",
       "4       *s* Germany | LOC *e* , *s* European Union | O...          30   \n",
       "...                                                   ...         ...   \n",
       "152418  *s* Moscow | MISC *e* , *s* Kabul | MISC *e* ,...          35   \n",
       "152419                                             *s**e*          16   \n",
       "152420                                             *s**e*           8   \n",
       "152421                                             *s**e*          15   \n",
       "152422  *s* Palau | MISC *e* , *s* the Zhen An Palau C...          25   \n",
       "\n",
       "        NE_count  %_NE_in_sentence  \n",
       "0              3               0.4  \n",
       "1              2               1.0  \n",
       "2              1               0.5  \n",
       "3              4               0.1  \n",
       "4              6               0.2  \n",
       "...          ...               ...  \n",
       "152418         6               0.2  \n",
       "152419         0               0.0  \n",
       "152420         0               0.0  \n",
       "152421         0               0.0  \n",
       "152422         4               0.2  \n",
       "\n",
       "[152423 rows x 5 columns]"
      ]
     },
     "execution_count": 26,
     "metadata": {},
     "output_type": "execute_result"
    }
   ],
   "source": [
    "combined_df = pd.concat([conellpp_training, wikineural_training, onto_training], ignore_index=True)\n",
    "combined_df = combined_df.drop_duplicates().reset_index(drop=True)\n",
    "combined_df"
   ]
  },
  {
   "cell_type": "markdown",
   "id": "512e5f4c",
   "metadata": {},
   "source": [
    "### creating a lowercase and uppercase versions of the training data (not needed)"
   ]
  },
  {
   "cell_type": "code",
   "execution_count": 27,
   "id": "36a78f7f",
   "metadata": {},
   "outputs": [
    {
     "data": {
      "text/html": [
       "<div>\n",
       "<style scoped>\n",
       "    .dataframe tbody tr th:only-of-type {\n",
       "        vertical-align: middle;\n",
       "    }\n",
       "\n",
       "    .dataframe tbody tr th {\n",
       "        vertical-align: top;\n",
       "    }\n",
       "\n",
       "    .dataframe thead th {\n",
       "        text-align: right;\n",
       "    }\n",
       "</style>\n",
       "<table border=\"1\" class=\"dataframe\">\n",
       "  <thead>\n",
       "    <tr style=\"text-align: right;\">\n",
       "      <th></th>\n",
       "      <th>input_text</th>\n",
       "      <th>target_text</th>\n",
       "    </tr>\n",
       "  </thead>\n",
       "  <tbody>\n",
       "    <tr>\n",
       "      <th>0</th>\n",
       "      <td>eu rejects german call to boycott british lamb .</td>\n",
       "      <td>*s* eu | org *e* , *s* german | misc *e* , *s*...</td>\n",
       "    </tr>\n",
       "    <tr>\n",
       "      <th>1</th>\n",
       "      <td>peter blackburn</td>\n",
       "      <td>*s* peter blackburn | per *e*</td>\n",
       "    </tr>\n",
       "    <tr>\n",
       "      <th>2</th>\n",
       "      <td>brussels 1996-08-22</td>\n",
       "      <td>*s* brussels | loc *e*</td>\n",
       "    </tr>\n",
       "    <tr>\n",
       "      <th>3</th>\n",
       "      <td>the european commission said on thursday it di...</td>\n",
       "      <td>*s* european commission | org *e* , *s* german...</td>\n",
       "    </tr>\n",
       "    <tr>\n",
       "      <th>4</th>\n",
       "      <td>germany 's representative to the european unio...</td>\n",
       "      <td>*s* germany | loc *e* , *s* european union | o...</td>\n",
       "    </tr>\n",
       "    <tr>\n",
       "      <th>...</th>\n",
       "      <td>...</td>\n",
       "      <td>...</td>\n",
       "    </tr>\n",
       "    <tr>\n",
       "      <th>152418</th>\n",
       "      <td>the terms of the geneva accords leave moscow f...</td>\n",
       "      <td>*s* moscow | misc *e* , *s* kabul | misc *e* ,...</td>\n",
       "    </tr>\n",
       "    <tr>\n",
       "      <th>152419</th>\n",
       "      <td>the angel answered him, `` i am gabriel, the o...</td>\n",
       "      <td>*s**e*</td>\n",
       "    </tr>\n",
       "    <tr>\n",
       "      <th>152420</th>\n",
       "      <td>i have worked much harder than they have.</td>\n",
       "      <td>*s**e*</td>\n",
       "    </tr>\n",
       "    <tr>\n",
       "      <th>152421</th>\n",
       "      <td>when pilate heard it from the officer, he told...</td>\n",
       "      <td>*s**e*</td>\n",
       "    </tr>\n",
       "    <tr>\n",
       "      <th>152422</th>\n",
       "      <td>felix yen, president of the zhen an palau corp...</td>\n",
       "      <td>*s* palau | misc *e* , *s* the zhen an palau c...</td>\n",
       "    </tr>\n",
       "  </tbody>\n",
       "</table>\n",
       "<p>152423 rows × 2 columns</p>\n",
       "</div>"
      ],
      "text/plain": [
       "                                               input_text  \\\n",
       "0        eu rejects german call to boycott british lamb .   \n",
       "1                                         peter blackburn   \n",
       "2                                     brussels 1996-08-22   \n",
       "3       the european commission said on thursday it di...   \n",
       "4       germany 's representative to the european unio...   \n",
       "...                                                   ...   \n",
       "152418  the terms of the geneva accords leave moscow f...   \n",
       "152419  the angel answered him, `` i am gabriel, the o...   \n",
       "152420          i have worked much harder than they have.   \n",
       "152421  when pilate heard it from the officer, he told...   \n",
       "152422  felix yen, president of the zhen an palau corp...   \n",
       "\n",
       "                                              target_text  \n",
       "0       *s* eu | org *e* , *s* german | misc *e* , *s*...  \n",
       "1                           *s* peter blackburn | per *e*  \n",
       "2                                  *s* brussels | loc *e*  \n",
       "3       *s* european commission | org *e* , *s* german...  \n",
       "4       *s* germany | loc *e* , *s* european union | o...  \n",
       "...                                                   ...  \n",
       "152418  *s* moscow | misc *e* , *s* kabul | misc *e* ,...  \n",
       "152419                                             *s**e*  \n",
       "152420                                             *s**e*  \n",
       "152421                                             *s**e*  \n",
       "152422  *s* palau | misc *e* , *s* the zhen an palau c...  \n",
       "\n",
       "[152423 rows x 2 columns]"
      ]
     },
     "execution_count": 27,
     "metadata": {},
     "output_type": "execute_result"
    }
   ],
   "source": [
    "lower_training = lower_case_df(combined_df)\n",
    "lower_training"
   ]
  },
  {
   "cell_type": "code",
   "execution_count": 28,
   "id": "2bc11819",
   "metadata": {},
   "outputs": [],
   "source": [
    "upper_training = upper_case_df(combined_df)"
   ]
  },
  {
   "cell_type": "code",
   "execution_count": 29,
   "id": "24388045",
   "metadata": {},
   "outputs": [
    {
     "data": {
      "text/html": [
       "<div>\n",
       "<style scoped>\n",
       "    .dataframe tbody tr th:only-of-type {\n",
       "        vertical-align: middle;\n",
       "    }\n",
       "\n",
       "    .dataframe tbody tr th {\n",
       "        vertical-align: top;\n",
       "    }\n",
       "\n",
       "    .dataframe thead th {\n",
       "        text-align: right;\n",
       "    }\n",
       "</style>\n",
       "<table border=\"1\" class=\"dataframe\">\n",
       "  <thead>\n",
       "    <tr style=\"text-align: right;\">\n",
       "      <th></th>\n",
       "      <th>input_text</th>\n",
       "      <th>target_text</th>\n",
       "      <th>word_count</th>\n",
       "      <th>NE_count</th>\n",
       "      <th>%_NE_in_sentence</th>\n",
       "    </tr>\n",
       "  </thead>\n",
       "  <tbody>\n",
       "    <tr>\n",
       "      <th>0</th>\n",
       "      <td>222 average with 6 home runs and 24 runs batte...</td>\n",
       "      <td>*s* Dioner Navarro | PER *e*</td>\n",
       "      <td>21.0</td>\n",
       "      <td>2.0</td>\n",
       "      <td>0.1</td>\n",
       "    </tr>\n",
       "    <tr>\n",
       "      <th>1</th>\n",
       "      <td>Two share a house almost devoid of furniture.</td>\n",
       "      <td>*s**e*</td>\n",
       "      <td>8.0</td>\n",
       "      <td>0.0</td>\n",
       "      <td>0.0</td>\n",
       "    </tr>\n",
       "    <tr>\n",
       "      <th>2</th>\n",
       "      <td>Hakusensha re-released the volume in \" bunkoba...</td>\n",
       "      <td>*s* Hakusensha | ORG *e*</td>\n",
       "      <td>11.0</td>\n",
       "      <td>1.0</td>\n",
       "      <td>0.1</td>\n",
       "    </tr>\n",
       "    <tr>\n",
       "      <th>3</th>\n",
       "      <td>after asking around, the museum found an old g...</td>\n",
       "      <td>*s* the national museum of prehistory | org *e*</td>\n",
       "      <td>NaN</td>\n",
       "      <td>NaN</td>\n",
       "      <td>NaN</td>\n",
       "    </tr>\n",
       "    <tr>\n",
       "      <th>4</th>\n",
       "      <td>It makes a series of rhythmic hoarse calls ( l...</td>\n",
       "      <td>*s* Cassin | PER *e*</td>\n",
       "      <td>19.0</td>\n",
       "      <td>1.0</td>\n",
       "      <td>0.1</td>\n",
       "    </tr>\n",
       "    <tr>\n",
       "      <th>...</th>\n",
       "      <td>...</td>\n",
       "      <td>...</td>\n",
       "      <td>...</td>\n",
       "      <td>...</td>\n",
       "      <td>...</td>\n",
       "    </tr>\n",
       "    <tr>\n",
       "      <th>304841</th>\n",
       "      <td>it is free and open-source software , released...</td>\n",
       "      <td>*s* gnu lesser general public license | misc *e*</td>\n",
       "      <td>NaN</td>\n",
       "      <td>NaN</td>\n",
       "      <td>NaN</td>\n",
       "    </tr>\n",
       "    <tr>\n",
       "      <th>304842</th>\n",
       "      <td>as a result, we have seen that the us, um, has...</td>\n",
       "      <td>*s* us | misc *e*</td>\n",
       "      <td>NaN</td>\n",
       "      <td>NaN</td>\n",
       "      <td>NaN</td>\n",
       "    </tr>\n",
       "    <tr>\n",
       "      <th>304843</th>\n",
       "      <td>the annual grand national horse race takes pla...</td>\n",
       "      <td>*s* grand national | misc *e* , *s* aintree ra...</td>\n",
       "      <td>NaN</td>\n",
       "      <td>NaN</td>\n",
       "      <td>NaN</td>\n",
       "    </tr>\n",
       "    <tr>\n",
       "      <th>304844</th>\n",
       "      <td>She said she was going to call you.</td>\n",
       "      <td>*s**e*</td>\n",
       "      <td>8.0</td>\n",
       "      <td>0.0</td>\n",
       "      <td>0.0</td>\n",
       "    </tr>\n",
       "    <tr>\n",
       "      <th>304845</th>\n",
       "      <td>or are you just basic-</td>\n",
       "      <td>*s**e*</td>\n",
       "      <td>NaN</td>\n",
       "      <td>NaN</td>\n",
       "      <td>NaN</td>\n",
       "    </tr>\n",
       "  </tbody>\n",
       "</table>\n",
       "<p>304846 rows × 5 columns</p>\n",
       "</div>"
      ],
      "text/plain": [
       "                                               input_text  \\\n",
       "0       222 average with 6 home runs and 24 runs batte...   \n",
       "1           Two share a house almost devoid of furniture.   \n",
       "2       Hakusensha re-released the volume in \" bunkoba...   \n",
       "3       after asking around, the museum found an old g...   \n",
       "4       It makes a series of rhythmic hoarse calls ( l...   \n",
       "...                                                   ...   \n",
       "304841  it is free and open-source software , released...   \n",
       "304842  as a result, we have seen that the us, um, has...   \n",
       "304843  the annual grand national horse race takes pla...   \n",
       "304844                She said she was going to call you.   \n",
       "304845                             or are you just basic-   \n",
       "\n",
       "                                              target_text  word_count  \\\n",
       "0                            *s* Dioner Navarro | PER *e*        21.0   \n",
       "1                                                  *s**e*         8.0   \n",
       "2                                *s* Hakusensha | ORG *e*        11.0   \n",
       "3         *s* the national museum of prehistory | org *e*         NaN   \n",
       "4                                    *s* Cassin | PER *e*        19.0   \n",
       "...                                                   ...         ...   \n",
       "304841   *s* gnu lesser general public license | misc *e*         NaN   \n",
       "304842                                  *s* us | misc *e*         NaN   \n",
       "304843  *s* grand national | misc *e* , *s* aintree ra...         NaN   \n",
       "304844                                             *s**e*         8.0   \n",
       "304845                                             *s**e*         NaN   \n",
       "\n",
       "        NE_count  %_NE_in_sentence  \n",
       "0            2.0               0.1  \n",
       "1            0.0               0.0  \n",
       "2            1.0               0.1  \n",
       "3            NaN               NaN  \n",
       "4            1.0               0.1  \n",
       "...          ...               ...  \n",
       "304841       NaN               NaN  \n",
       "304842       NaN               NaN  \n",
       "304843       NaN               NaN  \n",
       "304844       0.0               0.0  \n",
       "304845       NaN               NaN  \n",
       "\n",
       "[304846 rows x 5 columns]"
      ]
     },
     "execution_count": 29,
     "metadata": {},
     "output_type": "execute_result"
    }
   ],
   "source": [
    "lower_normal_training = pd.concat([lower_training, combined_df])\n",
    "lower_normal_training = lower_normal_training.sample(frac=1, random_state=1).reset_index(drop=True)\n",
    "lower_normal_training"
   ]
  },
  {
   "cell_type": "code",
   "execution_count": 30,
   "id": "9359b000",
   "metadata": {},
   "outputs": [
    {
     "data": {
      "text/html": [
       "<div>\n",
       "<style scoped>\n",
       "    .dataframe tbody tr th:only-of-type {\n",
       "        vertical-align: middle;\n",
       "    }\n",
       "\n",
       "    .dataframe tbody tr th {\n",
       "        vertical-align: top;\n",
       "    }\n",
       "\n",
       "    .dataframe thead th {\n",
       "        text-align: right;\n",
       "    }\n",
       "</style>\n",
       "<table border=\"1\" class=\"dataframe\">\n",
       "  <thead>\n",
       "    <tr style=\"text-align: right;\">\n",
       "      <th></th>\n",
       "      <th>input_text</th>\n",
       "      <th>target_text</th>\n",
       "      <th>word_count</th>\n",
       "      <th>NE_count</th>\n",
       "      <th>%_NE_in_sentence</th>\n",
       "    </tr>\n",
       "  </thead>\n",
       "  <tbody>\n",
       "    <tr>\n",
       "      <th>0</th>\n",
       "      <td>THE DETERMINATION OF POWERS SUCH AS GERMANY TO...</td>\n",
       "      <td>*S* GERMANY | LOC *E*</td>\n",
       "      <td>NaN</td>\n",
       "      <td>NaN</td>\n",
       "      <td>NaN</td>\n",
       "    </tr>\n",
       "    <tr>\n",
       "      <th>1</th>\n",
       "      <td>5 ♣ – 0 or 4 key cards was devised by bobby go...</td>\n",
       "      <td>*s* bobby goldman | per *e*</td>\n",
       "      <td>NaN</td>\n",
       "      <td>NaN</td>\n",
       "      <td>NaN</td>\n",
       "    </tr>\n",
       "    <tr>\n",
       "      <th>2</th>\n",
       "      <td>USE OF THE STAR-AND-CRESCENT COMBINATION APPAR...</td>\n",
       "      <td>*S* PARTHIAN | MISC *E* , *S* ORODES II | PER *E*</td>\n",
       "      <td>NaN</td>\n",
       "      <td>NaN</td>\n",
       "      <td>NaN</td>\n",
       "    </tr>\n",
       "    <tr>\n",
       "      <th>3</th>\n",
       "      <td>I HAD NEVER SEEN HER BEFORE.</td>\n",
       "      <td>*S**E*</td>\n",
       "      <td>NaN</td>\n",
       "      <td>NaN</td>\n",
       "      <td>NaN</td>\n",
       "    </tr>\n",
       "    <tr>\n",
       "      <th>4</th>\n",
       "      <td>THE SPAGHETTI IS MADE BY THE AL GHAZEL MACARON...</td>\n",
       "      <td>*S* BETHLEHEM | MISC *E* , *S* THE AL GHAZEL M...</td>\n",
       "      <td>NaN</td>\n",
       "      <td>NaN</td>\n",
       "      <td>NaN</td>\n",
       "    </tr>\n",
       "    <tr>\n",
       "      <th>...</th>\n",
       "      <td>...</td>\n",
       "      <td>...</td>\n",
       "      <td>...</td>\n",
       "      <td>...</td>\n",
       "      <td>...</td>\n",
       "    </tr>\n",
       "    <tr>\n",
       "      <th>457264</th>\n",
       "      <td>the annual grand national horse race takes pla...</td>\n",
       "      <td>*s* grand national | misc *e* , *s* aintree ra...</td>\n",
       "      <td>NaN</td>\n",
       "      <td>NaN</td>\n",
       "      <td>NaN</td>\n",
       "    </tr>\n",
       "    <tr>\n",
       "      <th>457265</th>\n",
       "      <td>AT THE END OF THE SEASON , HE SIGNED A NEW ONE...</td>\n",
       "      <td>*S* INTER | ORG *E*</td>\n",
       "      <td>NaN</td>\n",
       "      <td>NaN</td>\n",
       "      <td>NaN</td>\n",
       "    </tr>\n",
       "    <tr>\n",
       "      <th>457266</th>\n",
       "      <td>POLAND - KRZYSZTOF WARZYCHA ( 46TH MINUTE ) , ...</td>\n",
       "      <td>*S* POLAND | LOC *E* , *S* KRZYSZTOF WARZYCHA ...</td>\n",
       "      <td>NaN</td>\n",
       "      <td>NaN</td>\n",
       "      <td>NaN</td>\n",
       "    </tr>\n",
       "    <tr>\n",
       "      <th>457267</th>\n",
       "      <td>She said she was going to call you.</td>\n",
       "      <td>*s**e*</td>\n",
       "      <td>8.0</td>\n",
       "      <td>0.0</td>\n",
       "      <td>0.0</td>\n",
       "    </tr>\n",
       "    <tr>\n",
       "      <th>457268</th>\n",
       "      <td>or are you just basic-</td>\n",
       "      <td>*s**e*</td>\n",
       "      <td>NaN</td>\n",
       "      <td>NaN</td>\n",
       "      <td>NaN</td>\n",
       "    </tr>\n",
       "  </tbody>\n",
       "</table>\n",
       "<p>457269 rows × 5 columns</p>\n",
       "</div>"
      ],
      "text/plain": [
       "                                               input_text  \\\n",
       "0       THE DETERMINATION OF POWERS SUCH AS GERMANY TO...   \n",
       "1       5 ♣ – 0 or 4 key cards was devised by bobby go...   \n",
       "2       USE OF THE STAR-AND-CRESCENT COMBINATION APPAR...   \n",
       "3                            I HAD NEVER SEEN HER BEFORE.   \n",
       "4       THE SPAGHETTI IS MADE BY THE AL GHAZEL MACARON...   \n",
       "...                                                   ...   \n",
       "457264  the annual grand national horse race takes pla...   \n",
       "457265  AT THE END OF THE SEASON , HE SIGNED A NEW ONE...   \n",
       "457266  POLAND - KRZYSZTOF WARZYCHA ( 46TH MINUTE ) , ...   \n",
       "457267                She said she was going to call you.   \n",
       "457268                             or are you just basic-   \n",
       "\n",
       "                                              target_text  word_count  \\\n",
       "0                                   *S* GERMANY | LOC *E*         NaN   \n",
       "1                             *s* bobby goldman | per *e*         NaN   \n",
       "2       *S* PARTHIAN | MISC *E* , *S* ORODES II | PER *E*         NaN   \n",
       "3                                                  *S**E*         NaN   \n",
       "4       *S* BETHLEHEM | MISC *E* , *S* THE AL GHAZEL M...         NaN   \n",
       "...                                                   ...         ...   \n",
       "457264  *s* grand national | misc *e* , *s* aintree ra...         NaN   \n",
       "457265                                *S* INTER | ORG *E*         NaN   \n",
       "457266  *S* POLAND | LOC *E* , *S* KRZYSZTOF WARZYCHA ...         NaN   \n",
       "457267                                             *s**e*         8.0   \n",
       "457268                                             *s**e*         NaN   \n",
       "\n",
       "        NE_count  %_NE_in_sentence  \n",
       "0            NaN               NaN  \n",
       "1            NaN               NaN  \n",
       "2            NaN               NaN  \n",
       "3            NaN               NaN  \n",
       "4            NaN               NaN  \n",
       "...          ...               ...  \n",
       "457264       NaN               NaN  \n",
       "457265       NaN               NaN  \n",
       "457266       NaN               NaN  \n",
       "457267       0.0               0.0  \n",
       "457268       NaN               NaN  \n",
       "\n",
       "[457269 rows x 5 columns]"
      ]
     },
     "execution_count": 30,
     "metadata": {},
     "output_type": "execute_result"
    }
   ],
   "source": [
    "lower_normal_upper_training = pd.concat([lower_training, combined_df, upper_training])\n",
    "lower_normal_upper_training = lower_normal_upper_training.sample(frac=1, random_state=1).reset_index(drop=True)\n",
    "lower_normal_upper_training"
   ]
  },
  {
   "cell_type": "markdown",
   "id": "7e889c09",
   "metadata": {},
   "source": [
    "### Saving the data as csv"
   ]
  },
  {
   "cell_type": "code",
   "execution_count": 31,
   "id": "7e88d8ce",
   "metadata": {},
   "outputs": [],
   "source": [
    "combined_df.to_csv('./1-NER_Data/1-csv_format/train/training_data_with_pos.csv', index = False)\n",
    "# lower_normal_training.to_csv('./1-NER_Data/1-csv_format/train/lower_normal_training.csv', index = False)\n",
    "# lower_normal_upper_training.to_csv('./1-NER_Data/1-csv_format/train/lower_normal_upper_training.csv', index = False)"
   ]
  },
  {
   "cell_type": "markdown",
   "id": "53d99970",
   "metadata": {},
   "source": [
    "# Validation data"
   ]
  },
  {
   "cell_type": "markdown",
   "id": "03e09a50",
   "metadata": {},
   "source": [
    "### Read the data from either txt files or from huggingface dataset and converting each to target form  --->  [input_text, target_text, word_count, NE_count] "
   ]
  },
  {
   "cell_type": "code",
   "execution_count": 32,
   "id": "19ad374f",
   "metadata": {},
   "outputs": [
    {
     "data": {
      "text/html": [
       "<div>\n",
       "<style scoped>\n",
       "    .dataframe tbody tr th:only-of-type {\n",
       "        vertical-align: middle;\n",
       "    }\n",
       "\n",
       "    .dataframe tbody tr th {\n",
       "        vertical-align: top;\n",
       "    }\n",
       "\n",
       "    .dataframe thead th {\n",
       "        text-align: right;\n",
       "    }\n",
       "</style>\n",
       "<table border=\"1\" class=\"dataframe\">\n",
       "  <thead>\n",
       "    <tr style=\"text-align: right;\">\n",
       "      <th></th>\n",
       "      <th>input_text</th>\n",
       "      <th>target_text</th>\n",
       "      <th>word_count</th>\n",
       "      <th>NE_count</th>\n",
       "    </tr>\n",
       "  </thead>\n",
       "  <tbody>\n",
       "    <tr>\n",
       "      <th>0</th>\n",
       "      <td>CRICKET - LEICESTERSHIRE TAKE OVER AT TOP AFTE...</td>\n",
       "      <td>*s* LEICESTERSHIRE | ORG *e*</td>\n",
       "      <td>9</td>\n",
       "      <td>1</td>\n",
       "    </tr>\n",
       "    <tr>\n",
       "      <th>1</th>\n",
       "      <td>LONDON 1996-08-30</td>\n",
       "      <td>*s* LONDON | LOC *e*</td>\n",
       "      <td>2</td>\n",
       "      <td>1</td>\n",
       "    </tr>\n",
       "    <tr>\n",
       "      <th>2</th>\n",
       "      <td>West Indian all-rounder Phil Simmons took four...</td>\n",
       "      <td>*s* West Indian | MISC *e* , *s* Phil Simmons ...</td>\n",
       "      <td>34</td>\n",
       "      <td>6</td>\n",
       "    </tr>\n",
       "    <tr>\n",
       "      <th>3</th>\n",
       "      <td>Their stay on top , though , may be short-live...</td>\n",
       "      <td>*s* Essex | ORG *e* , *s* Derbyshire | ORG *e*...</td>\n",
       "      <td>33</td>\n",
       "      <td>5</td>\n",
       "    </tr>\n",
       "    <tr>\n",
       "      <th>4</th>\n",
       "      <td>After bowling Somerset out for 83 on the openi...</td>\n",
       "      <td>*s* Somerset | ORG *e* , *s* Grace Road | LOC ...</td>\n",
       "      <td>36</td>\n",
       "      <td>7</td>\n",
       "    </tr>\n",
       "    <tr>\n",
       "      <th>...</th>\n",
       "      <td>...</td>\n",
       "      <td>...</td>\n",
       "      <td>...</td>\n",
       "      <td>...</td>\n",
       "    </tr>\n",
       "    <tr>\n",
       "      <th>3245</th>\n",
       "      <td>But the prices may move in a close range follo...</td>\n",
       "      <td>*s**e*</td>\n",
       "      <td>14</td>\n",
       "      <td>0</td>\n",
       "    </tr>\n",
       "    <tr>\n",
       "      <th>3246</th>\n",
       "      <td>Brokers said blue chips like IDLC , Bangladesh...</td>\n",
       "      <td>*s* IDLC | ORG *e* , *s* Bangladesh Lamps | OR...</td>\n",
       "      <td>17</td>\n",
       "      <td>7</td>\n",
       "    </tr>\n",
       "    <tr>\n",
       "      <th>3247</th>\n",
       "      <td>They said there was still demand for blue chip...</td>\n",
       "      <td>*s**e*</td>\n",
       "      <td>21</td>\n",
       "      <td>0</td>\n",
       "    </tr>\n",
       "    <tr>\n",
       "      <th>3248</th>\n",
       "      <td>The DSE all share price index closed 2.73 poin...</td>\n",
       "      <td>*s* DSE | ORG *e*</td>\n",
       "      <td>24</td>\n",
       "      <td>1</td>\n",
       "    </tr>\n",
       "    <tr>\n",
       "      <th>3249</th>\n",
       "      <td>-- Dhaka Newsroom 880-2-506363</td>\n",
       "      <td>*s* Dhaka Newsroom | ORG *e*</td>\n",
       "      <td>3</td>\n",
       "      <td>2</td>\n",
       "    </tr>\n",
       "  </tbody>\n",
       "</table>\n",
       "<p>3250 rows × 4 columns</p>\n",
       "</div>"
      ],
      "text/plain": [
       "                                             input_text  \\\n",
       "0     CRICKET - LEICESTERSHIRE TAKE OVER AT TOP AFTE...   \n",
       "1                                     LONDON 1996-08-30   \n",
       "2     West Indian all-rounder Phil Simmons took four...   \n",
       "3     Their stay on top , though , may be short-live...   \n",
       "4     After bowling Somerset out for 83 on the openi...   \n",
       "...                                                 ...   \n",
       "3245  But the prices may move in a close range follo...   \n",
       "3246  Brokers said blue chips like IDLC , Bangladesh...   \n",
       "3247  They said there was still demand for blue chip...   \n",
       "3248  The DSE all share price index closed 2.73 poin...   \n",
       "3249                     -- Dhaka Newsroom 880-2-506363   \n",
       "\n",
       "                                            target_text  word_count  NE_count  \n",
       "0                          *s* LEICESTERSHIRE | ORG *e*           9         1  \n",
       "1                                  *s* LONDON | LOC *e*           2         1  \n",
       "2     *s* West Indian | MISC *e* , *s* Phil Simmons ...          34         6  \n",
       "3     *s* Essex | ORG *e* , *s* Derbyshire | ORG *e*...          33         5  \n",
       "4     *s* Somerset | ORG *e* , *s* Grace Road | LOC ...          36         7  \n",
       "...                                                 ...         ...       ...  \n",
       "3245                                             *s**e*          14         0  \n",
       "3246  *s* IDLC | ORG *e* , *s* Bangladesh Lamps | OR...          17         7  \n",
       "3247                                             *s**e*          21         0  \n",
       "3248                                  *s* DSE | ORG *e*          24         1  \n",
       "3249                       *s* Dhaka Newsroom | ORG *e*           3         2  \n",
       "\n",
       "[3250 rows x 4 columns]"
      ]
     },
     "execution_count": 32,
     "metadata": {},
     "output_type": "execute_result"
    }
   ],
   "source": [
    "# CoNLL2003++ validatoin dataset\n",
    "\n",
    "conellpp_val = parse_file_data(\"./1-NER_Data/0-raw_data/coNLL2003pp/conllpp_dev.txt\", in_position=0, pos_position=3, line_len=4, sep=' ')\n",
    "conellpp_val"
   ]
  },
  {
   "cell_type": "code",
   "execution_count": 33,
   "id": "98020772",
   "metadata": {},
   "outputs": [
    {
     "data": {
      "text/html": [
       "<div>\n",
       "<style scoped>\n",
       "    .dataframe tbody tr th:only-of-type {\n",
       "        vertical-align: middle;\n",
       "    }\n",
       "\n",
       "    .dataframe tbody tr th {\n",
       "        vertical-align: top;\n",
       "    }\n",
       "\n",
       "    .dataframe thead th {\n",
       "        text-align: right;\n",
       "    }\n",
       "</style>\n",
       "<table border=\"1\" class=\"dataframe\">\n",
       "  <thead>\n",
       "    <tr style=\"text-align: right;\">\n",
       "      <th></th>\n",
       "      <th>input_text</th>\n",
       "      <th>target_text</th>\n",
       "      <th>word_count</th>\n",
       "      <th>NE_count</th>\n",
       "    </tr>\n",
       "  </thead>\n",
       "  <tbody>\n",
       "    <tr>\n",
       "      <th>0</th>\n",
       "      <td>Her visit to Tuvalu was cut short by an illnes...</td>\n",
       "      <td>*s* Tuvalu | LOC *e* , *s* Australia | LOC *e*</td>\n",
       "      <td>24</td>\n",
       "      <td>2</td>\n",
       "    </tr>\n",
       "    <tr>\n",
       "      <th>1</th>\n",
       "      <td>In 1975 , the Princess was listed among women ...</td>\n",
       "      <td>*s* Warren Beatty | PER *e*</td>\n",
       "      <td>17</td>\n",
       "      <td>2</td>\n",
       "    </tr>\n",
       "    <tr>\n",
       "      <th>2</th>\n",
       "      <td>In 1974 , she invited him as a guest to the ho...</td>\n",
       "      <td>*s* Mustique | LOC *e*</td>\n",
       "      <td>17</td>\n",
       "      <td>1</td>\n",
       "    </tr>\n",
       "    <tr>\n",
       "      <th>3</th>\n",
       "      <td>She co-starred with Richard Widmark and Gig Yo...</td>\n",
       "      <td>*s* Richard Widmark | PER *e* , *s* Gig Young ...</td>\n",
       "      <td>32</td>\n",
       "      <td>14</td>\n",
       "    </tr>\n",
       "    <tr>\n",
       "      <th>4</th>\n",
       "      <td>She experienced a mild stroke on 23 February 1...</td>\n",
       "      <td>*s* Mustique | LOC *e*</td>\n",
       "      <td>15</td>\n",
       "      <td>1</td>\n",
       "    </tr>\n",
       "    <tr>\n",
       "      <th>...</th>\n",
       "      <td>...</td>\n",
       "      <td>...</td>\n",
       "      <td>...</td>\n",
       "      <td>...</td>\n",
       "    </tr>\n",
       "    <tr>\n",
       "      <th>11585</th>\n",
       "      <td>However , he played his home games at Baker Bo...</td>\n",
       "      <td>*s* Baker Bowl | LOC *e*</td>\n",
       "      <td>18</td>\n",
       "      <td>2</td>\n",
       "    </tr>\n",
       "    <tr>\n",
       "      <th>11586</th>\n",
       "      <td>256 with 11 triples in 277 at bats when his co...</td>\n",
       "      <td>*s* Chicago White Sox | ORG *e*</td>\n",
       "      <td>21</td>\n",
       "      <td>3</td>\n",
       "    </tr>\n",
       "    <tr>\n",
       "      <th>11587</th>\n",
       "      <td>He played his final professional games in 1922...</td>\n",
       "      <td>*s* Minneapolis Millers | ORG *e*</td>\n",
       "      <td>12</td>\n",
       "      <td>2</td>\n",
       "    </tr>\n",
       "    <tr>\n",
       "      <th>11588</th>\n",
       "      <td>The city is also the setting for the Disney Ch...</td>\n",
       "      <td>*s* Disney Channel | ORG *e* , *s* Good Luck C...</td>\n",
       "      <td>14</td>\n",
       "      <td>5</td>\n",
       "    </tr>\n",
       "    <tr>\n",
       "      <th>11589</th>\n",
       "      <td>He was elected as Member of Parliament for Ogm...</td>\n",
       "      <td>*s* Ogmore | LOC *e*</td>\n",
       "      <td>14</td>\n",
       "      <td>1</td>\n",
       "    </tr>\n",
       "  </tbody>\n",
       "</table>\n",
       "<p>11590 rows × 4 columns</p>\n",
       "</div>"
      ],
      "text/plain": [
       "                                              input_text  \\\n",
       "0      Her visit to Tuvalu was cut short by an illnes...   \n",
       "1      In 1975 , the Princess was listed among women ...   \n",
       "2      In 1974 , she invited him as a guest to the ho...   \n",
       "3      She co-starred with Richard Widmark and Gig Yo...   \n",
       "4      She experienced a mild stroke on 23 February 1...   \n",
       "...                                                  ...   \n",
       "11585  However , he played his home games at Baker Bo...   \n",
       "11586  256 with 11 triples in 277 at bats when his co...   \n",
       "11587  He played his final professional games in 1922...   \n",
       "11588  The city is also the setting for the Disney Ch...   \n",
       "11589  He was elected as Member of Parliament for Ogm...   \n",
       "\n",
       "                                             target_text  word_count  NE_count  \n",
       "0         *s* Tuvalu | LOC *e* , *s* Australia | LOC *e*          24         2  \n",
       "1                            *s* Warren Beatty | PER *e*          17         2  \n",
       "2                                 *s* Mustique | LOC *e*          17         1  \n",
       "3      *s* Richard Widmark | PER *e* , *s* Gig Young ...          32        14  \n",
       "4                                 *s* Mustique | LOC *e*          15         1  \n",
       "...                                                  ...         ...       ...  \n",
       "11585                           *s* Baker Bowl | LOC *e*          18         2  \n",
       "11586                    *s* Chicago White Sox | ORG *e*          21         3  \n",
       "11587                  *s* Minneapolis Millers | ORG *e*          12         2  \n",
       "11588  *s* Disney Channel | ORG *e* , *s* Good Luck C...          14         5  \n",
       "11589                               *s* Ogmore | LOC *e*          14         1  \n",
       "\n",
       "[11590 rows x 4 columns]"
      ]
     },
     "execution_count": 33,
     "metadata": {},
     "output_type": "execute_result"
    }
   ],
   "source": [
    "# wikineural validation dataset\n",
    "\n",
    "wikineural_val = parse_file_data(\"./1-NER_Data/0-raw_data/wikineural/val.conllu.txt\", 1, 2, 3, '\\t')\n",
    "wikineural_val"
   ]
  },
  {
   "cell_type": "code",
   "execution_count": 34,
   "id": "f463b6f0",
   "metadata": {},
   "outputs": [],
   "source": [
    "# OntoNotes 5.0 validation dataset refer section above"
   ]
  },
  {
   "cell_type": "markdown",
   "id": "cf8445ec",
   "metadata": {},
   "source": [
    "### Adding entity as percentage of the input sentence"
   ]
  },
  {
   "cell_type": "code",
   "execution_count": 35,
   "id": "ebcd8c9d",
   "metadata": {},
   "outputs": [],
   "source": [
    "conellpp_val = add_per_NE_sent(conellpp_val)\n",
    "wikineural_val = add_per_NE_sent(wikineural_val)\n",
    "onto_val = add_per_NE_sent(onto_val)"
   ]
  },
  {
   "cell_type": "code",
   "execution_count": 36,
   "id": "10c210fe",
   "metadata": {},
   "outputs": [
    {
     "name": "stdout",
     "output_type": "stream",
     "text": [
      "there are 0.23076923076923078 sentences in the range of 0:0.1\n"
     ]
    },
    {
     "data": {
      "image/png": "[encoded data removed]",
      "text/plain": [
       "<Figure size 432x288 with 1 Axes>"
      ]
     },
     "metadata": {
      "needs_background": "light"
     },
     "output_type": "display_data"
    }
   ],
   "source": [
    "plot_percent_NE = conellpp_val['%_NE_in_sentence'].value_counts().sort_index()\n",
    "plot_percent_NE.plot(kind='bar')\n",
    "print(\"there are\", sum(plot_percent_NE.loc[0:0.099])/len(conellpp_val), \"sentences in the range of 0:0.1\")"
   ]
  },
  {
   "cell_type": "code",
   "execution_count": 37,
   "id": "54443445",
   "metadata": {},
   "outputs": [
    {
     "data": {
      "text/plain": [
       "<AxesSubplot:xlabel='word_count'>"
      ]
     },
     "execution_count": 37,
     "metadata": {},
     "output_type": "execute_result"
    },
    {
     "data": {
      "image/png": "[encoded data removed]",
      "text/plain": [
       "<Figure size 432x288 with 1 Axes>"
      ]
     },
     "metadata": {
      "needs_background": "light"
     },
     "output_type": "display_data"
    }
   ],
   "source": [
    "conellpp_val.groupby(by='word_count')['input_text'].count().head(10).plot(kind='bar')"
   ]
  },
  {
   "cell_type": "code",
   "execution_count": 38,
   "id": "c0c54159",
   "metadata": {},
   "outputs": [],
   "source": [
    "conellpp_val = conellpp_val.drop(conellpp_val.loc[conellpp_val['word_count'] == 0].index).reset_index(drop=True)\n",
    "# conellpp_val"
   ]
  },
  {
   "cell_type": "code",
   "execution_count": null,
   "id": "0cfa63e4",
   "metadata": {},
   "outputs": [],
   "source": []
  },
  {
   "cell_type": "code",
   "execution_count": 39,
   "id": "fdce00d3",
   "metadata": {},
   "outputs": [
    {
     "name": "stdout",
     "output_type": "stream",
     "text": [
      "there are 0.13701466781708369 sentences in the range of 0:0.1\n"
     ]
    },
    {
     "data": {
      "image/png": "[encoded data removed]",
      "text/plain": [
       "<Figure size 432x288 with 1 Axes>"
      ]
     },
     "metadata": {
      "needs_background": "light"
     },
     "output_type": "display_data"
    }
   ],
   "source": [
    "plot_percent_NE = wikineural_val['%_NE_in_sentence'].value_counts().sort_index()\n",
    "plot_percent_NE.plot(kind='bar')\n",
    "print(\"there are\", sum(plot_percent_NE.loc[0:0.099])/len(wikineural_val), \"sentences in the range of 0:0.1\")"
   ]
  },
  {
   "cell_type": "code",
   "execution_count": 40,
   "id": "9258dc61",
   "metadata": {},
   "outputs": [
    {
     "data": {
      "text/plain": [
       "<AxesSubplot:xlabel='word_count'>"
      ]
     },
     "execution_count": 40,
     "metadata": {},
     "output_type": "execute_result"
    },
    {
     "data": {
      "image/png": "[encoded data removed]",
      "text/plain": [
       "<Figure size 432x288 with 1 Axes>"
      ]
     },
     "metadata": {
      "needs_background": "light"
     },
     "output_type": "display_data"
    }
   ],
   "source": [
    "wikineural_val.groupby(by='word_count')['input_text'].count().head(10).plot(kind='bar')"
   ]
  },
  {
   "cell_type": "code",
   "execution_count": null,
   "id": "9d92cc2f",
   "metadata": {},
   "outputs": [],
   "source": []
  },
  {
   "cell_type": "code",
   "execution_count": 41,
   "id": "69a5f492",
   "metadata": {},
   "outputs": [
    {
     "name": "stdout",
     "output_type": "stream",
     "text": [
      "19797\n",
      "there are 0.7070263171187554 sentences in the range of 0:0.1\n",
      "13997\n"
     ]
    },
    {
     "data": {
      "image/png": "[encoded data removed]",
      "text/plain": [
       "<Figure size 432x288 with 1 Axes>"
      ]
     },
     "metadata": {
      "needs_background": "light"
     },
     "output_type": "display_data"
    }
   ],
   "source": [
    "plot_percent_NE = onto_val['%_NE_in_sentence'].value_counts().sort_index()\n",
    "plot_percent_NE.plot(kind='bar')\n",
    "print(len(onto_val))\n",
    "print(\"there are\", sum(plot_percent_NE.loc[0:0.099])/len(onto_val), \"sentences in the range of 0:0.1\")\n",
    "print(sum(plot_percent_NE.loc[0:0.01]))"
   ]
  },
  {
   "cell_type": "code",
   "execution_count": 42,
   "id": "fd9fcf30",
   "metadata": {},
   "outputs": [
    {
     "data": {
      "text/html": [
       "<div>\n",
       "<style scoped>\n",
       "    .dataframe tbody tr th:only-of-type {\n",
       "        vertical-align: middle;\n",
       "    }\n",
       "\n",
       "    .dataframe tbody tr th {\n",
       "        vertical-align: top;\n",
       "    }\n",
       "\n",
       "    .dataframe thead th {\n",
       "        text-align: right;\n",
       "    }\n",
       "</style>\n",
       "<table border=\"1\" class=\"dataframe\">\n",
       "  <thead>\n",
       "    <tr style=\"text-align: right;\">\n",
       "      <th></th>\n",
       "      <th>input_text</th>\n",
       "      <th>target_text</th>\n",
       "      <th>word_count</th>\n",
       "      <th>NE_count</th>\n",
       "      <th>%_NE_in_sentence</th>\n",
       "    </tr>\n",
       "  </thead>\n",
       "  <tbody>\n",
       "    <tr>\n",
       "      <th>0</th>\n",
       "      <td>yeah.</td>\n",
       "      <td>*s**e*</td>\n",
       "      <td>1</td>\n",
       "      <td>0</td>\n",
       "      <td>0.0</td>\n",
       "    </tr>\n",
       "    <tr>\n",
       "      <th>1</th>\n",
       "      <td>King Solomon also kept some of the chariots wi...</td>\n",
       "      <td>*s**e*</td>\n",
       "      <td>12</td>\n",
       "      <td>0</td>\n",
       "      <td>0.0</td>\n",
       "    </tr>\n",
       "    <tr>\n",
       "      <th>2</th>\n",
       "      <td>Unilab, which provides clinical laboratory ser...</td>\n",
       "      <td>*s* Tarzana | MISC *e* , *s* Calif. | MISC *e*...</td>\n",
       "      <td>18</td>\n",
       "      <td>4</td>\n",
       "      <td>0.2</td>\n",
       "    </tr>\n",
       "    <tr>\n",
       "      <th>3</th>\n",
       "      <td>Intel makes semiconductors and Campeau operate...</td>\n",
       "      <td>*s* Intel | ORG *e* , *s* Campeau | ORG *e*</td>\n",
       "      <td>13</td>\n",
       "      <td>2</td>\n",
       "      <td>0.2</td>\n",
       "    </tr>\n",
       "    <tr>\n",
       "      <th>4</th>\n",
       "      <td>But the shah still kept leaping out at Cap, so...</td>\n",
       "      <td>*s* the Zagros mountains | LOC *e* , *s* Army ...</td>\n",
       "      <td>55</td>\n",
       "      <td>5</td>\n",
       "      <td>0.1</td>\n",
       "    </tr>\n",
       "    <tr>\n",
       "      <th>...</th>\n",
       "      <td>...</td>\n",
       "      <td>...</td>\n",
       "      <td>...</td>\n",
       "      <td>...</td>\n",
       "      <td>...</td>\n",
       "    </tr>\n",
       "    <tr>\n",
       "      <th>10461</th>\n",
       "      <td>What about building a 30-story building in the...</td>\n",
       "      <td>*s* Dulles Airport | MISC *e*</td>\n",
       "      <td>14</td>\n",
       "      <td>1</td>\n",
       "      <td>0.1</td>\n",
       "    </tr>\n",
       "    <tr>\n",
       "      <th>10462</th>\n",
       "      <td>Columbia Savings is a major holder of so-calle...</td>\n",
       "      <td>*s* Columbia Savings | ORG *e*</td>\n",
       "      <td>10</td>\n",
       "      <td>1</td>\n",
       "      <td>0.1</td>\n",
       "    </tr>\n",
       "    <tr>\n",
       "      <th>10463</th>\n",
       "      <td>so I asked you on my email.</td>\n",
       "      <td>*s**e*</td>\n",
       "      <td>7</td>\n",
       "      <td>0</td>\n",
       "      <td>0.0</td>\n",
       "    </tr>\n",
       "    <tr>\n",
       "      <th>10464</th>\n",
       "      <td>The United Nations is doing important reform w...</td>\n",
       "      <td>*s* The United Nations | ORG *e*</td>\n",
       "      <td>8</td>\n",
       "      <td>1</td>\n",
       "      <td>0.1</td>\n",
       "    </tr>\n",
       "    <tr>\n",
       "      <th>10465</th>\n",
       "      <td>Actually, in this aspect, I think that citizen...</td>\n",
       "      <td>*s**e*</td>\n",
       "      <td>12</td>\n",
       "      <td>0</td>\n",
       "      <td>0.0</td>\n",
       "    </tr>\n",
       "  </tbody>\n",
       "</table>\n",
       "<p>10466 rows × 5 columns</p>\n",
       "</div>"
      ],
      "text/plain": [
       "                                              input_text  \\\n",
       "0                                                  yeah.   \n",
       "1      King Solomon also kept some of the chariots wi...   \n",
       "2      Unilab, which provides clinical laboratory ser...   \n",
       "3      Intel makes semiconductors and Campeau operate...   \n",
       "4      But the shah still kept leaping out at Cap, so...   \n",
       "...                                                  ...   \n",
       "10461  What about building a 30-story building in the...   \n",
       "10462  Columbia Savings is a major holder of so-calle...   \n",
       "10463                        so I asked you on my email.   \n",
       "10464  The United Nations is doing important reform w...   \n",
       "10465  Actually, in this aspect, I think that citizen...   \n",
       "\n",
       "                                             target_text  word_count  \\\n",
       "0                                                 *s**e*           1   \n",
       "1                                                 *s**e*          12   \n",
       "2      *s* Tarzana | MISC *e* , *s* Calif. | MISC *e*...          18   \n",
       "3            *s* Intel | ORG *e* , *s* Campeau | ORG *e*          13   \n",
       "4      *s* the Zagros mountains | LOC *e* , *s* Army ...          55   \n",
       "...                                                  ...         ...   \n",
       "10461                      *s* Dulles Airport | MISC *e*          14   \n",
       "10462                     *s* Columbia Savings | ORG *e*          10   \n",
       "10463                                             *s**e*           7   \n",
       "10464                   *s* The United Nations | ORG *e*           8   \n",
       "10465                                             *s**e*          12   \n",
       "\n",
       "       NE_count  %_NE_in_sentence  \n",
       "0             0               0.0  \n",
       "1             0               0.0  \n",
       "2             4               0.2  \n",
       "3             2               0.2  \n",
       "4             5               0.1  \n",
       "...         ...               ...  \n",
       "10461         1               0.1  \n",
       "10462         1               0.1  \n",
       "10463         0               0.0  \n",
       "10464         1               0.1  \n",
       "10465         0               0.0  \n",
       "\n",
       "[10466 rows x 5 columns]"
      ]
     },
     "execution_count": 42,
     "metadata": {},
     "output_type": "execute_result"
    }
   ],
   "source": [
    "# dropping half of the rows with zero entities randomly\n",
    "\n",
    "np.random.seed(10)\n",
    "zero_entities = onto_val.loc[onto_val['%_NE_in_sentence']==0].index\n",
    "remove_n = round(len(zero_entities)*2/3)\n",
    "\n",
    "drop_indices = np.random.choice(zero_entities, remove_n, replace=False)\n",
    "onto_val = onto_val.drop(drop_indices).reset_index(drop=True)\n",
    "onto_val"
   ]
  },
  {
   "cell_type": "code",
   "execution_count": 43,
   "id": "f853c886",
   "metadata": {},
   "outputs": [
    {
     "name": "stdout",
     "output_type": "stream",
     "text": [
      "10466\n",
      "there are 0.4458245748136824 sentences in the range of 0:0.1\n",
      "4666\n"
     ]
    },
    {
     "data": {
      "image/png": "[encoded data removed]",
      "text/plain": [
       "<Figure size 432x288 with 1 Axes>"
      ]
     },
     "metadata": {
      "needs_background": "light"
     },
     "output_type": "display_data"
    }
   ],
   "source": [
    "plot_percent_NE = onto_val['%_NE_in_sentence'].value_counts().sort_index()\n",
    "plot_percent_NE.plot(kind='bar')\n",
    "print(len(onto_val))\n",
    "print(\"there are\", sum(plot_percent_NE.loc[0:0.01])/len(onto_val), \"sentences in the range of 0:0.1\")\n",
    "print(sum(plot_percent_NE.loc[0:0.01]))"
   ]
  },
  {
   "cell_type": "code",
   "execution_count": 44,
   "id": "27ee92f6",
   "metadata": {},
   "outputs": [
    {
     "data": {
      "text/plain": [
       "<AxesSubplot:xlabel='word_count'>"
      ]
     },
     "execution_count": 44,
     "metadata": {},
     "output_type": "execute_result"
    },
    {
     "data": {
      "image/png": "[encoded data removed]",
      "text/plain": [
       "<Figure size 432x288 with 1 Axes>"
      ]
     },
     "metadata": {
      "needs_background": "light"
     },
     "output_type": "display_data"
    }
   ],
   "source": [
    "onto_val.groupby(by='word_count')['input_text'].count().head(10).plot(kind='bar')"
   ]
  },
  {
   "cell_type": "code",
   "execution_count": null,
   "id": "5c244c11",
   "metadata": {},
   "outputs": [],
   "source": []
  },
  {
   "cell_type": "markdown",
   "id": "693875f8",
   "metadata": {},
   "source": [
    "### Combining the datasets"
   ]
  },
  {
   "cell_type": "code",
   "execution_count": 45,
   "id": "1497dbe7",
   "metadata": {},
   "outputs": [
    {
     "data": {
      "text/html": [
       "<div>\n",
       "<style scoped>\n",
       "    .dataframe tbody tr th:only-of-type {\n",
       "        vertical-align: middle;\n",
       "    }\n",
       "\n",
       "    .dataframe tbody tr th {\n",
       "        vertical-align: top;\n",
       "    }\n",
       "\n",
       "    .dataframe thead th {\n",
       "        text-align: right;\n",
       "    }\n",
       "</style>\n",
       "<table border=\"1\" class=\"dataframe\">\n",
       "  <thead>\n",
       "    <tr style=\"text-align: right;\">\n",
       "      <th></th>\n",
       "      <th>input_text</th>\n",
       "      <th>target_text</th>\n",
       "      <th>word_count</th>\n",
       "      <th>NE_count</th>\n",
       "      <th>%_NE_in_sentence</th>\n",
       "    </tr>\n",
       "  </thead>\n",
       "  <tbody>\n",
       "    <tr>\n",
       "      <th>0</th>\n",
       "      <td>CRICKET - LEICESTERSHIRE TAKE OVER AT TOP AFTE...</td>\n",
       "      <td>*s* LEICESTERSHIRE | ORG *e*</td>\n",
       "      <td>9</td>\n",
       "      <td>1</td>\n",
       "      <td>0.1</td>\n",
       "    </tr>\n",
       "    <tr>\n",
       "      <th>1</th>\n",
       "      <td>LONDON 1996-08-30</td>\n",
       "      <td>*s* LONDON | LOC *e*</td>\n",
       "      <td>2</td>\n",
       "      <td>1</td>\n",
       "      <td>0.5</td>\n",
       "    </tr>\n",
       "    <tr>\n",
       "      <th>2</th>\n",
       "      <td>West Indian all-rounder Phil Simmons took four...</td>\n",
       "      <td>*s* West Indian | MISC *e* , *s* Phil Simmons ...</td>\n",
       "      <td>34</td>\n",
       "      <td>6</td>\n",
       "      <td>0.2</td>\n",
       "    </tr>\n",
       "    <tr>\n",
       "      <th>3</th>\n",
       "      <td>Their stay on top , though , may be short-live...</td>\n",
       "      <td>*s* Essex | ORG *e* , *s* Derbyshire | ORG *e*...</td>\n",
       "      <td>33</td>\n",
       "      <td>5</td>\n",
       "      <td>0.2</td>\n",
       "    </tr>\n",
       "    <tr>\n",
       "      <th>4</th>\n",
       "      <td>After bowling Somerset out for 83 on the openi...</td>\n",
       "      <td>*s* Somerset | ORG *e* , *s* Grace Road | LOC ...</td>\n",
       "      <td>36</td>\n",
       "      <td>7</td>\n",
       "      <td>0.2</td>\n",
       "    </tr>\n",
       "    <tr>\n",
       "      <th>...</th>\n",
       "      <td>...</td>\n",
       "      <td>...</td>\n",
       "      <td>...</td>\n",
       "      <td>...</td>\n",
       "      <td>...</td>\n",
       "    </tr>\n",
       "    <tr>\n",
       "      <th>24871</th>\n",
       "      <td>What about building a 30-story building in the...</td>\n",
       "      <td>*s* Dulles Airport | MISC *e*</td>\n",
       "      <td>14</td>\n",
       "      <td>1</td>\n",
       "      <td>0.1</td>\n",
       "    </tr>\n",
       "    <tr>\n",
       "      <th>24872</th>\n",
       "      <td>Columbia Savings is a major holder of so-calle...</td>\n",
       "      <td>*s* Columbia Savings | ORG *e*</td>\n",
       "      <td>10</td>\n",
       "      <td>1</td>\n",
       "      <td>0.1</td>\n",
       "    </tr>\n",
       "    <tr>\n",
       "      <th>24873</th>\n",
       "      <td>so I asked you on my email.</td>\n",
       "      <td>*s**e*</td>\n",
       "      <td>7</td>\n",
       "      <td>0</td>\n",
       "      <td>0.0</td>\n",
       "    </tr>\n",
       "    <tr>\n",
       "      <th>24874</th>\n",
       "      <td>The United Nations is doing important reform w...</td>\n",
       "      <td>*s* The United Nations | ORG *e*</td>\n",
       "      <td>8</td>\n",
       "      <td>1</td>\n",
       "      <td>0.1</td>\n",
       "    </tr>\n",
       "    <tr>\n",
       "      <th>24875</th>\n",
       "      <td>Actually, in this aspect, I think that citizen...</td>\n",
       "      <td>*s**e*</td>\n",
       "      <td>12</td>\n",
       "      <td>0</td>\n",
       "      <td>0.0</td>\n",
       "    </tr>\n",
       "  </tbody>\n",
       "</table>\n",
       "<p>24876 rows × 5 columns</p>\n",
       "</div>"
      ],
      "text/plain": [
       "                                              input_text  \\\n",
       "0      CRICKET - LEICESTERSHIRE TAKE OVER AT TOP AFTE...   \n",
       "1                                      LONDON 1996-08-30   \n",
       "2      West Indian all-rounder Phil Simmons took four...   \n",
       "3      Their stay on top , though , may be short-live...   \n",
       "4      After bowling Somerset out for 83 on the openi...   \n",
       "...                                                  ...   \n",
       "24871  What about building a 30-story building in the...   \n",
       "24872  Columbia Savings is a major holder of so-calle...   \n",
       "24873                        so I asked you on my email.   \n",
       "24874  The United Nations is doing important reform w...   \n",
       "24875  Actually, in this aspect, I think that citizen...   \n",
       "\n",
       "                                             target_text  word_count  \\\n",
       "0                           *s* LEICESTERSHIRE | ORG *e*           9   \n",
       "1                                   *s* LONDON | LOC *e*           2   \n",
       "2      *s* West Indian | MISC *e* , *s* Phil Simmons ...          34   \n",
       "3      *s* Essex | ORG *e* , *s* Derbyshire | ORG *e*...          33   \n",
       "4      *s* Somerset | ORG *e* , *s* Grace Road | LOC ...          36   \n",
       "...                                                  ...         ...   \n",
       "24871                      *s* Dulles Airport | MISC *e*          14   \n",
       "24872                     *s* Columbia Savings | ORG *e*          10   \n",
       "24873                                             *s**e*           7   \n",
       "24874                   *s* The United Nations | ORG *e*           8   \n",
       "24875                                             *s**e*          12   \n",
       "\n",
       "       NE_count  %_NE_in_sentence  \n",
       "0             1               0.1  \n",
       "1             1               0.5  \n",
       "2             6               0.2  \n",
       "3             5               0.2  \n",
       "4             7               0.2  \n",
       "...         ...               ...  \n",
       "24871         1               0.1  \n",
       "24872         1               0.1  \n",
       "24873         0               0.0  \n",
       "24874         1               0.1  \n",
       "24875         0               0.0  \n",
       "\n",
       "[24876 rows x 5 columns]"
      ]
     },
     "execution_count": 45,
     "metadata": {},
     "output_type": "execute_result"
    }
   ],
   "source": [
    "val_combined_df = pd.concat([conellpp_val, wikineural_val, onto_val], ignore_index=True).drop_duplicates().reset_index(drop=True)\n",
    "val_combined_df"
   ]
  },
  {
   "cell_type": "markdown",
   "id": "40ab3a33",
   "metadata": {},
   "source": [
    "### creating a lowercase and uppercase versions of the validation data (not needed)"
   ]
  },
  {
   "cell_type": "code",
   "execution_count": 46,
   "id": "8b760077",
   "metadata": {},
   "outputs": [],
   "source": [
    "# lower_val = lower_case_df(val_combined_df)\n",
    "# lower_val"
   ]
  },
  {
   "cell_type": "code",
   "execution_count": 47,
   "id": "a3f498b7",
   "metadata": {},
   "outputs": [],
   "source": [
    "# upper_val = upper_case_df(val_combined_df)\n",
    "# lower_upper_val = pd.concat([lower_val, upper_val])\n",
    "# lower_upper_val = lower_upper_val.sample(frac=1, random_state=1).reset_index(drop=True)\n",
    "# lower_upper_val"
   ]
  },
  {
   "cell_type": "markdown",
   "id": "39de4782",
   "metadata": {},
   "source": [
    "### Saving the data as csv"
   ]
  },
  {
   "cell_type": "code",
   "execution_count": 48,
   "id": "3c9074c7",
   "metadata": {},
   "outputs": [],
   "source": [
    "val_combined_df.to_csv('./1-NER_Data/1-csv_format/val/val_data_with_pos.csv', index = False)\n",
    "# lower_val.to_csv('./1-NER_Data/1-csv_format/val/lower_val_data.csv', index = False)\n",
    "# lower_upper_val.to_csv('./1-NER_Data/1-csv_format/val/low_up_val_data.csv', index = False)"
   ]
  },
  {
   "cell_type": "markdown",
   "id": "f439ad4f",
   "metadata": {},
   "source": [
    "# Test data"
   ]
  },
  {
   "cell_type": "markdown",
   "id": "28849d8f",
   "metadata": {},
   "source": [
    "### Read the data from either txt files or from huggingface dataset and converting each to target form  --->  [input_text, target_text, word_count, NE_count] "
   ]
  },
  {
   "cell_type": "code",
   "execution_count": 49,
   "id": "afd5e0fe",
   "metadata": {},
   "outputs": [
    {
     "data": {
      "text/html": [
       "<div>\n",
       "<style scoped>\n",
       "    .dataframe tbody tr th:only-of-type {\n",
       "        vertical-align: middle;\n",
       "    }\n",
       "\n",
       "    .dataframe tbody tr th {\n",
       "        vertical-align: top;\n",
       "    }\n",
       "\n",
       "    .dataframe thead th {\n",
       "        text-align: right;\n",
       "    }\n",
       "</style>\n",
       "<table border=\"1\" class=\"dataframe\">\n",
       "  <thead>\n",
       "    <tr style=\"text-align: right;\">\n",
       "      <th></th>\n",
       "      <th>input_text</th>\n",
       "      <th>target_text</th>\n",
       "      <th>word_count</th>\n",
       "      <th>NE_count</th>\n",
       "    </tr>\n",
       "  </thead>\n",
       "  <tbody>\n",
       "    <tr>\n",
       "      <th>0</th>\n",
       "      <td>SOCCER - JAPAN GET LUCKY WIN , CHINA IN SURPRI...</td>\n",
       "      <td>*s* JAPAN | LOC *e* , *s* CHINA | LOC *e*</td>\n",
       "      <td>9</td>\n",
       "      <td>2</td>\n",
       "    </tr>\n",
       "    <tr>\n",
       "      <th>1</th>\n",
       "      <td>Nadim Ladki</td>\n",
       "      <td>*s* Nadim Ladki | PER *e*</td>\n",
       "      <td>2</td>\n",
       "      <td>2</td>\n",
       "    </tr>\n",
       "    <tr>\n",
       "      <th>2</th>\n",
       "      <td>AL-AIN , United Arab Emirates 1996-12-06</td>\n",
       "      <td>*s* AL-AIN | LOC *e* , *s* United Arab Emirate...</td>\n",
       "      <td>5</td>\n",
       "      <td>4</td>\n",
       "    </tr>\n",
       "    <tr>\n",
       "      <th>3</th>\n",
       "      <td>Japan began the defence of their Asian Cup tit...</td>\n",
       "      <td>*s* Japan | LOC *e* , *s* Asian Cup | MISC *e*...</td>\n",
       "      <td>24</td>\n",
       "      <td>4</td>\n",
       "    </tr>\n",
       "    <tr>\n",
       "      <th>4</th>\n",
       "      <td>But China saw their luck desert them in the se...</td>\n",
       "      <td>*s* China | LOC *e* , *s* Uzbekistan | LOC *e*</td>\n",
       "      <td>23</td>\n",
       "      <td>2</td>\n",
       "    </tr>\n",
       "    <tr>\n",
       "      <th>...</th>\n",
       "      <td>...</td>\n",
       "      <td>...</td>\n",
       "      <td>...</td>\n",
       "      <td>...</td>\n",
       "    </tr>\n",
       "    <tr>\n",
       "      <th>3447</th>\n",
       "      <td>It all culminated in the fact that I now have ...</td>\n",
       "      <td>*s* Ireland | LOC *e*</td>\n",
       "      <td>17</td>\n",
       "      <td>1</td>\n",
       "    </tr>\n",
       "    <tr>\n",
       "      <th>3448</th>\n",
       "      <td>That is why this is so emotional a night for m...</td>\n",
       "      <td>*s* Charlton | PER *e*</td>\n",
       "      <td>13</td>\n",
       "      <td>1</td>\n",
       "    </tr>\n",
       "    <tr>\n",
       "      <th>3449</th>\n",
       "      <td>\" It was the joy that we all had over the peri...</td>\n",
       "      <td>*s**e*</td>\n",
       "      <td>27</td>\n",
       "      <td>0</td>\n",
       "    </tr>\n",
       "    <tr>\n",
       "      <th>3450</th>\n",
       "      <td>Charlton managed Ireland for 93 matches , duri...</td>\n",
       "      <td>*s* Charlton | PER *e* , *s* Ireland | LOC *e*</td>\n",
       "      <td>24</td>\n",
       "      <td>2</td>\n",
       "    </tr>\n",
       "    <tr>\n",
       "      <th>3451</th>\n",
       "      <td>He guided Ireland to two successive World Cup ...</td>\n",
       "      <td>*s* Ireland | LOC *e* , *s* World Cup | MISC *...</td>\n",
       "      <td>32</td>\n",
       "      <td>7</td>\n",
       "    </tr>\n",
       "  </tbody>\n",
       "</table>\n",
       "<p>3452 rows × 4 columns</p>\n",
       "</div>"
      ],
      "text/plain": [
       "                                             input_text  \\\n",
       "0     SOCCER - JAPAN GET LUCKY WIN , CHINA IN SURPRI...   \n",
       "1                                           Nadim Ladki   \n",
       "2              AL-AIN , United Arab Emirates 1996-12-06   \n",
       "3     Japan began the defence of their Asian Cup tit...   \n",
       "4     But China saw their luck desert them in the se...   \n",
       "...                                                 ...   \n",
       "3447  It all culminated in the fact that I now have ...   \n",
       "3448  That is why this is so emotional a night for m...   \n",
       "3449  \" It was the joy that we all had over the peri...   \n",
       "3450  Charlton managed Ireland for 93 matches , duri...   \n",
       "3451  He guided Ireland to two successive World Cup ...   \n",
       "\n",
       "                                            target_text  word_count  NE_count  \n",
       "0             *s* JAPAN | LOC *e* , *s* CHINA | LOC *e*           9         2  \n",
       "1                             *s* Nadim Ladki | PER *e*           2         2  \n",
       "2     *s* AL-AIN | LOC *e* , *s* United Arab Emirate...           5         4  \n",
       "3     *s* Japan | LOC *e* , *s* Asian Cup | MISC *e*...          24         4  \n",
       "4        *s* China | LOC *e* , *s* Uzbekistan | LOC *e*          23         2  \n",
       "...                                                 ...         ...       ...  \n",
       "3447                              *s* Ireland | LOC *e*          17         1  \n",
       "3448                             *s* Charlton | PER *e*          13         1  \n",
       "3449                                             *s**e*          27         0  \n",
       "3450     *s* Charlton | PER *e* , *s* Ireland | LOC *e*          24         2  \n",
       "3451  *s* Ireland | LOC *e* , *s* World Cup | MISC *...          32         7  \n",
       "\n",
       "[3452 rows x 4 columns]"
      ]
     },
     "execution_count": 49,
     "metadata": {},
     "output_type": "execute_result"
    }
   ],
   "source": [
    "# CoNLL2003++ test dataset\n",
    "\n",
    "conellpp_test = parse_file_data(\"./1-NER_Data/0-raw_data/coNLL2003pp/conllpp_test.txt\", in_position=0, pos_position=3, line_len=4, sep=' ')\n",
    "conellpp_test"
   ]
  },
  {
   "cell_type": "code",
   "execution_count": 50,
   "id": "e6d7bc22",
   "metadata": {},
   "outputs": [
    {
     "data": {
      "text/html": [
       "<div>\n",
       "<style scoped>\n",
       "    .dataframe tbody tr th:only-of-type {\n",
       "        vertical-align: middle;\n",
       "    }\n",
       "\n",
       "    .dataframe tbody tr th {\n",
       "        vertical-align: top;\n",
       "    }\n",
       "\n",
       "    .dataframe thead th {\n",
       "        text-align: right;\n",
       "    }\n",
       "</style>\n",
       "<table border=\"1\" class=\"dataframe\">\n",
       "  <thead>\n",
       "    <tr style=\"text-align: right;\">\n",
       "      <th></th>\n",
       "      <th>input_text</th>\n",
       "      <th>target_text</th>\n",
       "      <th>word_count</th>\n",
       "      <th>NE_count</th>\n",
       "    </tr>\n",
       "  </thead>\n",
       "  <tbody>\n",
       "    <tr>\n",
       "      <th>0</th>\n",
       "      <td>On this occasion he failed to gain the support...</td>\n",
       "      <td>*s* South Wales Miners ' Federation | ORG *e*</td>\n",
       "      <td>20</td>\n",
       "      <td>4</td>\n",
       "    </tr>\n",
       "    <tr>\n",
       "      <th>1</th>\n",
       "      <td>On both these occasions he was backed by the S...</td>\n",
       "      <td>*s* South Wales Miners ' Federation | ORG *e*</td>\n",
       "      <td>18</td>\n",
       "      <td>4</td>\n",
       "    </tr>\n",
       "    <tr>\n",
       "      <th>2</th>\n",
       "      <td>He also appeared as himself in the 1996 film \"...</td>\n",
       "      <td>*s* Eddie | MISC *e*</td>\n",
       "      <td>10</td>\n",
       "      <td>1</td>\n",
       "    </tr>\n",
       "    <tr>\n",
       "      <th>3</th>\n",
       "      <td>The Colorado Rockies were created as an expans...</td>\n",
       "      <td>*s* Colorado Rockies | ORG *e* , *s* Coors Fie...</td>\n",
       "      <td>17</td>\n",
       "      <td>4</td>\n",
       "    </tr>\n",
       "    <tr>\n",
       "      <th>4</th>\n",
       "      <td>He kept busy recording demo tapes at his home ...</td>\n",
       "      <td>*s* La Valencia Hotel | LOC *e* , *s* La Jolla...</td>\n",
       "      <td>29</td>\n",
       "      <td>5</td>\n",
       "    </tr>\n",
       "    <tr>\n",
       "      <th>...</th>\n",
       "      <td>...</td>\n",
       "      <td>...</td>\n",
       "      <td>...</td>\n",
       "      <td>...</td>\n",
       "    </tr>\n",
       "    <tr>\n",
       "      <th>11592</th>\n",
       "      <td>com , Amazon .</td>\n",
       "      <td>*s* Amazon | ORG *e*</td>\n",
       "      <td>2</td>\n",
       "      <td>1</td>\n",
       "    </tr>\n",
       "    <tr>\n",
       "      <th>11593</th>\n",
       "      <td>In January 2013 , the European Food Safety Aut...</td>\n",
       "      <td>*s* European Food Safety Authority | ORG *e* ,...</td>\n",
       "      <td>27</td>\n",
       "      <td>5</td>\n",
       "    </tr>\n",
       "    <tr>\n",
       "      <th>11594</th>\n",
       "      <td>All of the games had art true to the series , ...</td>\n",
       "      <td>*s* Sega | ORG *e*</td>\n",
       "      <td>23</td>\n",
       "      <td>1</td>\n",
       "    </tr>\n",
       "    <tr>\n",
       "      <th>11595</th>\n",
       "      <td>There was also a game made for the Game Boy ba...</td>\n",
       "      <td>*s* Game Boy | MISC *e*</td>\n",
       "      <td>20</td>\n",
       "      <td>2</td>\n",
       "    </tr>\n",
       "    <tr>\n",
       "      <th>11596</th>\n",
       "      <td>This system was widely copied in various NATO ...</td>\n",
       "      <td>*s* NATO | ORG *e*</td>\n",
       "      <td>9</td>\n",
       "      <td>1</td>\n",
       "    </tr>\n",
       "  </tbody>\n",
       "</table>\n",
       "<p>11597 rows × 4 columns</p>\n",
       "</div>"
      ],
      "text/plain": [
       "                                              input_text  \\\n",
       "0      On this occasion he failed to gain the support...   \n",
       "1      On both these occasions he was backed by the S...   \n",
       "2      He also appeared as himself in the 1996 film \"...   \n",
       "3      The Colorado Rockies were created as an expans...   \n",
       "4      He kept busy recording demo tapes at his home ...   \n",
       "...                                                  ...   \n",
       "11592                                     com , Amazon .   \n",
       "11593  In January 2013 , the European Food Safety Aut...   \n",
       "11594  All of the games had art true to the series , ...   \n",
       "11595  There was also a game made for the Game Boy ba...   \n",
       "11596  This system was widely copied in various NATO ...   \n",
       "\n",
       "                                             target_text  word_count  NE_count  \n",
       "0          *s* South Wales Miners ' Federation | ORG *e*          20         4  \n",
       "1          *s* South Wales Miners ' Federation | ORG *e*          18         4  \n",
       "2                                   *s* Eddie | MISC *e*          10         1  \n",
       "3      *s* Colorado Rockies | ORG *e* , *s* Coors Fie...          17         4  \n",
       "4      *s* La Valencia Hotel | LOC *e* , *s* La Jolla...          29         5  \n",
       "...                                                  ...         ...       ...  \n",
       "11592                               *s* Amazon | ORG *e*           2         1  \n",
       "11593  *s* European Food Safety Authority | ORG *e* ,...          27         5  \n",
       "11594                                 *s* Sega | ORG *e*          23         1  \n",
       "11595                            *s* Game Boy | MISC *e*          20         2  \n",
       "11596                                 *s* NATO | ORG *e*           9         1  \n",
       "\n",
       "[11597 rows x 4 columns]"
      ]
     },
     "execution_count": 50,
     "metadata": {},
     "output_type": "execute_result"
    }
   ],
   "source": [
    "# wikineural test dataset\n",
    "\n",
    "wikineural_test = parse_file_data(\"./1-NER_Data/0-raw_data/wikineural/test.conllu.txt\", 1, 2, 3, '\\t')\n",
    "wikineural_test"
   ]
  },
  {
   "cell_type": "code",
   "execution_count": 51,
   "id": "0b64b5a7",
   "metadata": {},
   "outputs": [],
   "source": [
    "# OntoNotes 5.0 test dataset refer section above"
   ]
  },
  {
   "cell_type": "markdown",
   "id": "2a830bcb",
   "metadata": {},
   "source": [
    "### Adding entity as percentage of the input sentence"
   ]
  },
  {
   "cell_type": "code",
   "execution_count": 52,
   "id": "bf15946a",
   "metadata": {},
   "outputs": [],
   "source": [
    "conellpp_test = add_per_NE_sent(conellpp_test)\n",
    "wikineural_test = add_per_NE_sent(wikineural_test)\n",
    "onto_test = add_per_NE_sent(onto_test)"
   ]
  },
  {
   "cell_type": "code",
   "execution_count": 53,
   "id": "3ebf1e62",
   "metadata": {},
   "outputs": [
    {
     "name": "stdout",
     "output_type": "stream",
     "text": [
      "3452\n",
      "there are 0.22624565469293165 sentences in the range of 0:0.1\n"
     ]
    },
    {
     "data": {
      "image/png": "[encoded data removed]",
      "text/plain": [
       "<Figure size 432x288 with 1 Axes>"
      ]
     },
     "metadata": {
      "needs_background": "light"
     },
     "output_type": "display_data"
    }
   ],
   "source": [
    "plot_percent_NE = conellpp_test['%_NE_in_sentence'].value_counts().sort_index()\n",
    "plot_percent_NE.plot(kind='bar')\n",
    "print(len(conellpp_test))\n",
    "print(\"there are\", sum(plot_percent_NE.loc[0:0.099])/len(conellpp_test), \"sentences in the range of 0:0.1\")"
   ]
  },
  {
   "cell_type": "code",
   "execution_count": 54,
   "id": "ee23abee",
   "metadata": {},
   "outputs": [
    {
     "data": {
      "text/plain": [
       "<AxesSubplot:xlabel='word_count'>"
      ]
     },
     "execution_count": 54,
     "metadata": {},
     "output_type": "execute_result"
    },
    {
     "data": {
      "image/png": "[encoded data removed]",
      "text/plain": [
       "<Figure size 432x288 with 1 Axes>"
      ]
     },
     "metadata": {
      "needs_background": "light"
     },
     "output_type": "display_data"
    }
   ],
   "source": [
    "conellpp_test.groupby(by='word_count')['input_text'].count().head(10).plot(kind='bar')"
   ]
  },
  {
   "cell_type": "code",
   "execution_count": 55,
   "id": "041244af",
   "metadata": {},
   "outputs": [
    {
     "data": {
      "text/html": [
       "<div>\n",
       "<style scoped>\n",
       "    .dataframe tbody tr th:only-of-type {\n",
       "        vertical-align: middle;\n",
       "    }\n",
       "\n",
       "    .dataframe tbody tr th {\n",
       "        vertical-align: top;\n",
       "    }\n",
       "\n",
       "    .dataframe thead th {\n",
       "        text-align: right;\n",
       "    }\n",
       "</style>\n",
       "<table border=\"1\" class=\"dataframe\">\n",
       "  <thead>\n",
       "    <tr style=\"text-align: right;\">\n",
       "      <th></th>\n",
       "      <th>input_text</th>\n",
       "      <th>target_text</th>\n",
       "      <th>word_count</th>\n",
       "      <th>NE_count</th>\n",
       "      <th>%_NE_in_sentence</th>\n",
       "    </tr>\n",
       "  </thead>\n",
       "  <tbody>\n",
       "    <tr>\n",
       "      <th>0</th>\n",
       "      <td>SOCCER - JAPAN GET LUCKY WIN , CHINA IN SURPRI...</td>\n",
       "      <td>*s* JAPAN | LOC *e* , *s* CHINA | LOC *e*</td>\n",
       "      <td>9</td>\n",
       "      <td>2</td>\n",
       "      <td>0.2</td>\n",
       "    </tr>\n",
       "    <tr>\n",
       "      <th>1</th>\n",
       "      <td>Nadim Ladki</td>\n",
       "      <td>*s* Nadim Ladki | PER *e*</td>\n",
       "      <td>2</td>\n",
       "      <td>2</td>\n",
       "      <td>1.0</td>\n",
       "    </tr>\n",
       "    <tr>\n",
       "      <th>2</th>\n",
       "      <td>AL-AIN , United Arab Emirates 1996-12-06</td>\n",
       "      <td>*s* AL-AIN | LOC *e* , *s* United Arab Emirate...</td>\n",
       "      <td>5</td>\n",
       "      <td>4</td>\n",
       "      <td>0.8</td>\n",
       "    </tr>\n",
       "    <tr>\n",
       "      <th>3</th>\n",
       "      <td>Japan began the defence of their Asian Cup tit...</td>\n",
       "      <td>*s* Japan | LOC *e* , *s* Asian Cup | MISC *e*...</td>\n",
       "      <td>24</td>\n",
       "      <td>4</td>\n",
       "      <td>0.2</td>\n",
       "    </tr>\n",
       "    <tr>\n",
       "      <th>4</th>\n",
       "      <td>But China saw their luck desert them in the se...</td>\n",
       "      <td>*s* China | LOC *e* , *s* Uzbekistan | LOC *e*</td>\n",
       "      <td>23</td>\n",
       "      <td>2</td>\n",
       "      <td>0.1</td>\n",
       "    </tr>\n",
       "    <tr>\n",
       "      <th>...</th>\n",
       "      <td>...</td>\n",
       "      <td>...</td>\n",
       "      <td>...</td>\n",
       "      <td>...</td>\n",
       "      <td>...</td>\n",
       "    </tr>\n",
       "    <tr>\n",
       "      <th>3444</th>\n",
       "      <td>It all culminated in the fact that I now have ...</td>\n",
       "      <td>*s* Ireland | LOC *e*</td>\n",
       "      <td>17</td>\n",
       "      <td>1</td>\n",
       "      <td>0.1</td>\n",
       "    </tr>\n",
       "    <tr>\n",
       "      <th>3445</th>\n",
       "      <td>That is why this is so emotional a night for m...</td>\n",
       "      <td>*s* Charlton | PER *e*</td>\n",
       "      <td>13</td>\n",
       "      <td>1</td>\n",
       "      <td>0.1</td>\n",
       "    </tr>\n",
       "    <tr>\n",
       "      <th>3446</th>\n",
       "      <td>\" It was the joy that we all had over the peri...</td>\n",
       "      <td>*s**e*</td>\n",
       "      <td>27</td>\n",
       "      <td>0</td>\n",
       "      <td>0.0</td>\n",
       "    </tr>\n",
       "    <tr>\n",
       "      <th>3447</th>\n",
       "      <td>Charlton managed Ireland for 93 matches , duri...</td>\n",
       "      <td>*s* Charlton | PER *e* , *s* Ireland | LOC *e*</td>\n",
       "      <td>24</td>\n",
       "      <td>2</td>\n",
       "      <td>0.1</td>\n",
       "    </tr>\n",
       "    <tr>\n",
       "      <th>3448</th>\n",
       "      <td>He guided Ireland to two successive World Cup ...</td>\n",
       "      <td>*s* Ireland | LOC *e* , *s* World Cup | MISC *...</td>\n",
       "      <td>32</td>\n",
       "      <td>7</td>\n",
       "      <td>0.2</td>\n",
       "    </tr>\n",
       "  </tbody>\n",
       "</table>\n",
       "<p>3449 rows × 5 columns</p>\n",
       "</div>"
      ],
      "text/plain": [
       "                                             input_text  \\\n",
       "0     SOCCER - JAPAN GET LUCKY WIN , CHINA IN SURPRI...   \n",
       "1                                           Nadim Ladki   \n",
       "2              AL-AIN , United Arab Emirates 1996-12-06   \n",
       "3     Japan began the defence of their Asian Cup tit...   \n",
       "4     But China saw their luck desert them in the se...   \n",
       "...                                                 ...   \n",
       "3444  It all culminated in the fact that I now have ...   \n",
       "3445  That is why this is so emotional a night for m...   \n",
       "3446  \" It was the joy that we all had over the peri...   \n",
       "3447  Charlton managed Ireland for 93 matches , duri...   \n",
       "3448  He guided Ireland to two successive World Cup ...   \n",
       "\n",
       "                                            target_text  word_count  NE_count  \\\n",
       "0             *s* JAPAN | LOC *e* , *s* CHINA | LOC *e*           9         2   \n",
       "1                             *s* Nadim Ladki | PER *e*           2         2   \n",
       "2     *s* AL-AIN | LOC *e* , *s* United Arab Emirate...           5         4   \n",
       "3     *s* Japan | LOC *e* , *s* Asian Cup | MISC *e*...          24         4   \n",
       "4        *s* China | LOC *e* , *s* Uzbekistan | LOC *e*          23         2   \n",
       "...                                                 ...         ...       ...   \n",
       "3444                              *s* Ireland | LOC *e*          17         1   \n",
       "3445                             *s* Charlton | PER *e*          13         1   \n",
       "3446                                             *s**e*          27         0   \n",
       "3447     *s* Charlton | PER *e* , *s* Ireland | LOC *e*          24         2   \n",
       "3448  *s* Ireland | LOC *e* , *s* World Cup | MISC *...          32         7   \n",
       "\n",
       "      %_NE_in_sentence  \n",
       "0                  0.2  \n",
       "1                  1.0  \n",
       "2                  0.8  \n",
       "3                  0.2  \n",
       "4                  0.1  \n",
       "...                ...  \n",
       "3444               0.1  \n",
       "3445               0.1  \n",
       "3446               0.0  \n",
       "3447               0.1  \n",
       "3448               0.2  \n",
       "\n",
       "[3449 rows x 5 columns]"
      ]
     },
     "execution_count": 55,
     "metadata": {},
     "output_type": "execute_result"
    }
   ],
   "source": [
    "conellpp_test = conellpp_test.drop(conellpp_test.loc[conellpp_test['word_count'] == 0].index).reset_index(drop=True)\n",
    "conellpp_test"
   ]
  },
  {
   "cell_type": "code",
   "execution_count": null,
   "id": "4c43ee5a",
   "metadata": {},
   "outputs": [],
   "source": []
  },
  {
   "cell_type": "code",
   "execution_count": 56,
   "id": "e8d1ecc3",
   "metadata": {},
   "outputs": [
    {
     "name": "stdout",
     "output_type": "stream",
     "text": [
      "there are 0.13460377683883762 sentences in the range of 0:0.1\n"
     ]
    },
    {
     "data": {
      "image/png": "[encoded data removed]",
      "text/plain": [
       "<Figure size 432x288 with 1 Axes>"
      ]
     },
     "metadata": {
      "needs_background": "light"
     },
     "output_type": "display_data"
    }
   ],
   "source": [
    "plot_percent_NE = wikineural_test['%_NE_in_sentence'].value_counts().sort_index()\n",
    "plot_percent_NE.plot(kind='bar')\n",
    "print(\"there are\", sum(plot_percent_NE.loc[0:0.099])/len(wikineural_test), \"sentences in the range of 0:0.1\")"
   ]
  },
  {
   "cell_type": "code",
   "execution_count": 57,
   "id": "a833067d",
   "metadata": {},
   "outputs": [
    {
     "data": {
      "text/plain": [
       "<AxesSubplot:xlabel='word_count'>"
      ]
     },
     "execution_count": 57,
     "metadata": {},
     "output_type": "execute_result"
    },
    {
     "data": {
      "image/png": "[encoded data removed]",
      "text/plain": [
       "<Figure size 432x288 with 1 Axes>"
      ]
     },
     "metadata": {
      "needs_background": "light"
     },
     "output_type": "display_data"
    }
   ],
   "source": [
    "wikineural_test.groupby(by='word_count')['input_text'].count().head(10).plot(kind='bar')"
   ]
  },
  {
   "cell_type": "code",
   "execution_count": null,
   "id": "af7a81a5",
   "metadata": {},
   "outputs": [],
   "source": []
  },
  {
   "cell_type": "code",
   "execution_count": 58,
   "id": "6bf311d1",
   "metadata": {},
   "outputs": [
    {
     "name": "stdout",
     "output_type": "stream",
     "text": [
      "10466\n",
      "there are 0.7074809314542607 sentences in the range of 0:0.1\n"
     ]
    },
    {
     "data": {
      "image/png": "[encoded data removed]",
      "text/plain": [
       "<Figure size 432x288 with 1 Axes>"
      ]
     },
     "metadata": {
      "needs_background": "light"
     },
     "output_type": "display_data"
    }
   ],
   "source": [
    "plot_percent_NE = onto_test['%_NE_in_sentence'].value_counts().sort_index()\n",
    "plot_percent_NE.plot(kind='bar')\n",
    "print(len(onto_val))\n",
    "print(\"there are\", sum(plot_percent_NE.loc[0:0.099])/len(onto_test), \"sentences in the range of 0:0.1\")"
   ]
  },
  {
   "cell_type": "code",
   "execution_count": 59,
   "id": "a34e1c06",
   "metadata": {},
   "outputs": [
    {
     "data": {
      "text/html": [
       "<div>\n",
       "<style scoped>\n",
       "    .dataframe tbody tr th:only-of-type {\n",
       "        vertical-align: middle;\n",
       "    }\n",
       "\n",
       "    .dataframe tbody tr th {\n",
       "        vertical-align: top;\n",
       "    }\n",
       "\n",
       "    .dataframe thead th {\n",
       "        text-align: right;\n",
       "    }\n",
       "</style>\n",
       "<table border=\"1\" class=\"dataframe\">\n",
       "  <thead>\n",
       "    <tr style=\"text-align: right;\">\n",
       "      <th></th>\n",
       "      <th>input_text</th>\n",
       "      <th>target_text</th>\n",
       "      <th>word_count</th>\n",
       "      <th>NE_count</th>\n",
       "      <th>%_NE_in_sentence</th>\n",
       "    </tr>\n",
       "  </thead>\n",
       "  <tbody>\n",
       "    <tr>\n",
       "      <th>72747</th>\n",
       "      <td>The farmer Yang Zhifa and a neighbor were digg...</td>\n",
       "      <td>*s* Yang Zhifa | PER *e*</td>\n",
       "      <td>18</td>\n",
       "      <td>1</td>\n",
       "      <td>0.1</td>\n",
       "    </tr>\n",
       "    <tr>\n",
       "      <th>82313</th>\n",
       "      <td>The waves were coming over the sides and into ...</td>\n",
       "      <td>*s**e*</td>\n",
       "      <td>18</td>\n",
       "      <td>0</td>\n",
       "      <td>0.0</td>\n",
       "    </tr>\n",
       "    <tr>\n",
       "      <th>39147</th>\n",
       "      <td>and then next year it 'll be eleven thousand.</td>\n",
       "      <td>*s**e*</td>\n",
       "      <td>9</td>\n",
       "      <td>0</td>\n",
       "      <td>0.0</td>\n",
       "    </tr>\n",
       "    <tr>\n",
       "      <th>35323</th>\n",
       "      <td>Chinese society is male dominated, and women a...</td>\n",
       "      <td>*s* Chinese | MISC *e*</td>\n",
       "      <td>15</td>\n",
       "      <td>1</td>\n",
       "      <td>0.1</td>\n",
       "    </tr>\n",
       "    <tr>\n",
       "      <th>53685</th>\n",
       "      <td>That's their response.</td>\n",
       "      <td>*s**e*</td>\n",
       "      <td>3</td>\n",
       "      <td>0</td>\n",
       "      <td>0.0</td>\n",
       "    </tr>\n",
       "    <tr>\n",
       "      <th>...</th>\n",
       "      <td>...</td>\n",
       "      <td>...</td>\n",
       "      <td>...</td>\n",
       "      <td>...</td>\n",
       "      <td>...</td>\n",
       "    </tr>\n",
       "    <tr>\n",
       "      <th>77417</th>\n",
       "      <td>Many analysts expect Mr. Andersson, who owns 1...</td>\n",
       "      <td>*s* Trelleborg | ORG *e* , *s* Andersson | PER...</td>\n",
       "      <td>25</td>\n",
       "      <td>3</td>\n",
       "      <td>0.1</td>\n",
       "    </tr>\n",
       "    <tr>\n",
       "      <th>49080</th>\n",
       "      <td>And it's %uh %eh prayer</td>\n",
       "      <td>*s**e*</td>\n",
       "      <td>5</td>\n",
       "      <td>0</td>\n",
       "      <td>0.0</td>\n",
       "    </tr>\n",
       "    <tr>\n",
       "      <th>1032</th>\n",
       "      <td>Michael Fisher, general manager of KTXL, a Fox...</td>\n",
       "      <td>*s* Sacramento | MISC *e* , *s* Calif. | MISC ...</td>\n",
       "      <td>24</td>\n",
       "      <td>6</td>\n",
       "      <td>0.2</td>\n",
       "    </tr>\n",
       "    <tr>\n",
       "      <th>94071</th>\n",
       "      <td>The world does not know you, but I know you, a...</td>\n",
       "      <td>*s**e*</td>\n",
       "      <td>20</td>\n",
       "      <td>0</td>\n",
       "      <td>0.0</td>\n",
       "    </tr>\n",
       "    <tr>\n",
       "      <th>47354</th>\n",
       "      <td>The Federal Reserve signaled its willingness t...</td>\n",
       "      <td>*s* The Federal Reserve | ORG *e*</td>\n",
       "      <td>25</td>\n",
       "      <td>1</td>\n",
       "      <td>0.0</td>\n",
       "    </tr>\n",
       "  </tbody>\n",
       "</table>\n",
       "<p>10460 rows × 5 columns</p>\n",
       "</div>"
      ],
      "text/plain": [
       "                                              input_text  \\\n",
       "72747  The farmer Yang Zhifa and a neighbor were digg...   \n",
       "82313  The waves were coming over the sides and into ...   \n",
       "39147      and then next year it 'll be eleven thousand.   \n",
       "35323  Chinese society is male dominated, and women a...   \n",
       "53685                             That's their response.   \n",
       "...                                                  ...   \n",
       "77417  Many analysts expect Mr. Andersson, who owns 1...   \n",
       "49080                            And it's %uh %eh prayer   \n",
       "1032   Michael Fisher, general manager of KTXL, a Fox...   \n",
       "94071  The world does not know you, but I know you, a...   \n",
       "47354  The Federal Reserve signaled its willingness t...   \n",
       "\n",
       "                                             target_text  word_count  \\\n",
       "72747                           *s* Yang Zhifa | PER *e*          18   \n",
       "82313                                             *s**e*          18   \n",
       "39147                                             *s**e*           9   \n",
       "35323                             *s* Chinese | MISC *e*          15   \n",
       "53685                                             *s**e*           3   \n",
       "...                                                  ...         ...   \n",
       "77417  *s* Trelleborg | ORG *e* , *s* Andersson | PER...          25   \n",
       "49080                                             *s**e*           5   \n",
       "1032   *s* Sacramento | MISC *e* , *s* Calif. | MISC ...          24   \n",
       "94071                                             *s**e*          20   \n",
       "47354                  *s* The Federal Reserve | ORG *e*          25   \n",
       "\n",
       "       NE_count  %_NE_in_sentence  \n",
       "72747         1               0.1  \n",
       "82313         0               0.0  \n",
       "39147         0               0.0  \n",
       "35323         1               0.1  \n",
       "53685         0               0.0  \n",
       "...         ...               ...  \n",
       "77417         3               0.1  \n",
       "49080         0               0.0  \n",
       "1032          6               0.2  \n",
       "94071         0               0.0  \n",
       "47354         1               0.0  \n",
       "\n",
       "[10460 rows x 5 columns]"
      ]
     },
     "execution_count": 59,
     "metadata": {},
     "output_type": "execute_result"
    }
   ],
   "source": [
    "# dropping half of the rows with zero entities randomly\n",
    "\n",
    "np.random.seed(10)\n",
    "zero_entities = onto_test.loc[onto_test['%_NE_in_sentence']==0].index\n",
    "remove_n = round(len(zero_entities)*2/3)\n",
    "\n",
    "drop_indices = np.random.choice(zero_entities, remove_n, replace=False)\n",
    "onto_test.drop(drop_indices, inplace=True)\n",
    "onto_test"
   ]
  },
  {
   "cell_type": "code",
   "execution_count": 60,
   "id": "c63d6c7e",
   "metadata": {},
   "outputs": [
    {
     "name": "stdout",
     "output_type": "stream",
     "text": [
      "10460\n",
      "there are 0.44636711281070746 sentences in the range of 0:0.1\n",
      "4669\n"
     ]
    },
    {
     "data": {
      "image/png": "[encoded data removed]",
      "text/plain": [
       "<Figure size 432x288 with 1 Axes>"
      ]
     },
     "metadata": {
      "needs_background": "light"
     },
     "output_type": "display_data"
    }
   ],
   "source": [
    "plot_percent_NE = onto_test['%_NE_in_sentence'].value_counts().sort_index()\n",
    "plot_percent_NE.plot(kind='bar')\n",
    "print(len(onto_test))\n",
    "print(\"there are\", sum(plot_percent_NE.loc[0:0.01])/len(onto_test), \"sentences in the range of 0:0.1\")\n",
    "print(sum(plot_percent_NE.loc[0:0.01]))"
   ]
  },
  {
   "cell_type": "code",
   "execution_count": 61,
   "id": "d3fbb0c5",
   "metadata": {},
   "outputs": [
    {
     "data": {
      "text/plain": [
       "<AxesSubplot:xlabel='word_count'>"
      ]
     },
     "execution_count": 61,
     "metadata": {},
     "output_type": "execute_result"
    },
    {
     "data": {
      "image/png": "[encoded data removed]",
      "text/plain": [
       "<Figure size 432x288 with 1 Axes>"
      ]
     },
     "metadata": {
      "needs_background": "light"
     },
     "output_type": "display_data"
    }
   ],
   "source": [
    "onto_test.groupby(by='word_count')['input_text'].count().head(10).plot(kind='bar')"
   ]
  },
  {
   "cell_type": "code",
   "execution_count": null,
   "id": "7fc844c8",
   "metadata": {},
   "outputs": [],
   "source": []
  },
  {
   "cell_type": "markdown",
   "id": "22da3bf9",
   "metadata": {},
   "source": [
    "### Combining the datasets"
   ]
  },
  {
   "cell_type": "code",
   "execution_count": 62,
   "id": "93d93958",
   "metadata": {},
   "outputs": [],
   "source": [
    "# test_combined_df = pd.concat([conellpp_test, wikineural_test, onto_test], ignore_index=True).drop_duplicates().reset_index(drop=True)\n",
    "# test_combined_df"
   ]
  },
  {
   "cell_type": "markdown",
   "id": "d4ba1271",
   "metadata": {},
   "source": [
    "### creating a lowercase and uppercase versions of the test data"
   ]
  },
  {
   "cell_type": "code",
   "execution_count": 63,
   "id": "424dd2ae",
   "metadata": {},
   "outputs": [],
   "source": [
    "# lower_test = lower_case_df(test_combined_df)\n",
    "# lower_test"
   ]
  },
  {
   "cell_type": "code",
   "execution_count": 64,
   "id": "b83a3006",
   "metadata": {},
   "outputs": [],
   "source": [
    "# upper_test = upper_case_df(test_combined_df)\n",
    "# lower_upper_test = pd.concat([lower_test, upper_test])\n",
    "# lower_upper_test = lower_upper_test.sample(frac=1, random_state=1).reset_index(drop=True)\n",
    "# lower_upper_test"
   ]
  },
  {
   "cell_type": "markdown",
   "id": "a6671a96",
   "metadata": {},
   "source": [
    "### Saving the data as csv"
   ]
  },
  {
   "cell_type": "code",
   "execution_count": 65,
   "id": "24ee8795",
   "metadata": {},
   "outputs": [],
   "source": [
    "# test_combined_df.to_csv('./1-NER_Data/1-csv_format/test/test_data.csv', index = False)\n",
    "\n",
    "conellpp_test.to_csv('./1-NER_Data/1-csv_format/test/conell_test_data_with_pos.csv', index = False)\n",
    "wikineural_test.to_csv('./1-NER_Data/1-csv_format/test/wiki_neural_test_data_with_pos.csv', index = False)\n",
    "onto_test.to_csv('./1-NER_Data/1-csv_format/test/onto_test_data_with_pos.csv', index = False)\n",
    "\n",
    "# lower_test.to_csv('./1-NER_Data/1-csv_format/test/lower_test_data.csv', index = False)\n",
    "# lower_upper_test.to_csv('./1-NER_Data/1-csv_format/test/low_up_test_data.csv', index = False)"
   ]
  },
  {
   "cell_type": "code",
   "execution_count": null,
   "id": "c429f0a2",
   "metadata": {},
   "outputs": [],
   "source": []
  }
 ],
 "metadata": {
  "kernelspec": {
   "display_name": "Python 3",
   "language": "python",
   "name": "python3"
  },
  "language_info": {
   "codemirror_mode": {
    "name": "ipython",
    "version": 3
   },
   "file_extension": ".py",
   "mimetype": "text/x-python",
   "name": "python",
   "nbconvert_exporter": "python",
   "pygments_lexer": "ipython3",
   "version": "3.7.10"
  }
 },
 "nbformat": 4,
 "nbformat_minor": 5
}
