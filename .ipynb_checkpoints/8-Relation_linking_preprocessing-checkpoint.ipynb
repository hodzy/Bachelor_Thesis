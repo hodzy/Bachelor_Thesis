{
 "cells": [
  {
   "cell_type": "code",
   "execution_count": 1,
   "id": "381ce19f",
   "metadata": {},
   "outputs": [],
   "source": [
    "import json\n",
    "import pandas as pd\n",
    "import time\n",
    "\n",
    "# refer to this paper\n",
    "# https://arxiv.org/pdf/2108.07337.pdf"
   ]
  },
  {
   "cell_type": "code",
   "execution_count": 2,
   "id": "635aad65",
   "metadata": {},
   "outputs": [],
   "source": [
    "def get_relation_label(rel_id):\n",
    "    labels = ''\n",
    "    API_ENDPOINT = \"https://www.wikidata.org/w/api.php\"\n",
    "    params = {\n",
    "        'action': 'wbgetentities',\n",
    "        'format': 'json',\n",
    "        'languages': 'en',\n",
    "        'props': 'labels',\n",
    "        'ids': ''\n",
    "    }\n",
    "      \n",
    "    params['ids'] = str(rel_id)\n",
    "\n",
    "    try:\n",
    "        response = requests.get(API_ENDPOINT, params = params).json()['entities']\n",
    "        label = response[str(rel_id)]['labels']['en']['value']\n",
    "    except:\n",
    "        return (rel_id, label)\n",
    "    return (rel_id, label)"
   ]
  },
  {
   "cell_type": "code",
   "execution_count": 3,
   "id": "cbfaf19a",
   "metadata": {},
   "outputs": [],
   "source": [
    "def get_entity_relation_ids(ent_id):\n",
    "    relations = []\n",
    "    API_ENDPOINT = \"https://www.wikidata.org/w/api.php\"\n",
    "    params = {\n",
    "        'action': 'wbgetentities',\n",
    "        'format': 'json',\n",
    "        'languages': 'en',\n",
    "        'props': 'claims',\n",
    "        'ids': ''\n",
    "    }\n",
    "        \n",
    "    params['ids'] = str(ent_id)\n",
    "    try:\n",
    "        response = requests.get(API_ENDPOINT, params = params).json()['entities']\n",
    "        relations = list(response[str(ent_id)]['claims'].keys())\n",
    "    except:\n",
    "        return (ent_id, relations)\n",
    "    return (ent_id, relations)"
   ]
  },
  {
   "cell_type": "code",
   "execution_count": 4,
   "id": "7384ebcc",
   "metadata": {},
   "outputs": [],
   "source": [
    "# jupyter notebook never finishes processing using multiprocessing python 3\n",
    "# https://stackoverflow.com/questions/47313732/jupyter-notebook-never-finishes-processing-using-multiprocessing-python-3\n",
    "\n",
    "from multiprocessing import Pool\n",
    "from functools import partial\n",
    "import inspect\n",
    "import time\n",
    "import os\n",
    "import requests\n",
    "\n",
    "\n",
    "def parallal_task(func, iterable, *params): \n",
    "    with open(f'./tmp_func.py', 'w') as file:\n",
    "        file.write(\"import requests \\n\")\n",
    "        file.write(inspect.getsource(func).replace(func.__name__, 'task'))\n",
    "\n",
    "    from tmp_func import task\n",
    "    pool = Pool(processes=15)\n",
    "    res = pool.map(task, iterable)\n",
    "    pool.close()\n",
    "    \n",
    "    os.remove('./tmp_func.py')\n",
    "    return res\n",
    "#     else:\n",
    "#         raise \"Not in Jupyter Notebook\""
   ]
  },
  {
   "cell_type": "code",
   "execution_count": 5,
   "id": "78b97fde",
   "metadata": {},
   "outputs": [],
   "source": [
    "from multiprocessing import Pool\n",
    "from functools import partial\n",
    "import inspect\n",
    "import time\n",
    "import os\n",
    "import requests\n",
    "\n",
    "\n",
    "def parallal_task_2(func, iterable, *params): \n",
    "    with open(f'./tmp_func_2.py', 'w') as file:\n",
    "        file.write(\"import requests \\n\")\n",
    "        file.write(inspect.getsource(func).replace(func.__name__, 'task'))\n",
    "\n",
    "    from tmp_func_2 import task\n",
    "    pool = Pool(processes=15)\n",
    "    res = pool.map(task, iterable)\n",
    "    pool.close()\n",
    "    \n",
    "    os.remove('./tmp_func_2.py')\n",
    "    return res"
   ]
  },
  {
   "cell_type": "code",
   "execution_count": null,
   "id": "941eadbf",
   "metadata": {},
   "outputs": [],
   "source": []
  },
  {
   "cell_type": "markdown",
   "id": "61dc9f62",
   "metadata": {},
   "source": [
    "## Simple_questions Training Data"
   ]
  },
  {
   "cell_type": "code",
   "execution_count": 6,
   "id": "c2b22bef",
   "metadata": {},
   "outputs": [],
   "source": [
    "with open('2-NEL_Data/0-raw_data/simple_questions_v2/annotated_wd_data_train.txt', encoding='utf-8') as file:\n",
    "    lines = file.readlines()\n",
    "\n",
    "# print(len(lines))\n",
    "training_data = []\n",
    "for line in lines:\n",
    "    line = line.strip().split('\\t', 3)\n",
    "    del line[2]\n",
    "    del line[1]\n",
    "    training_data.append(line)\n",
    "    \n",
    "qids = [line[0] for line in training_data]\n",
    "questions = [line[1] for line in training_data]\n",
    "# print(len(training_data))\n",
    "# print(training_data[0])\n",
    "# print(qids[0])\n",
    "# print(questions[0])"
   ]
  },
  {
   "cell_type": "code",
   "execution_count": null,
   "id": "adee7cfe",
   "metadata": {},
   "outputs": [],
   "source": []
  },
  {
   "cell_type": "code",
   "execution_count": 7,
   "id": "349a6941",
   "metadata": {},
   "outputs": [
    {
     "name": "stdout",
     "output_type": "stream",
     "text": [
      "0.8247733116149902\n"
     ]
    },
    {
     "data": {
      "text/plain": [
       "10"
      ]
     },
     "execution_count": 7,
     "metadata": {},
     "output_type": "execute_result"
    }
   ],
   "source": [
    "start = time.time()\n",
    "relation_ids_results = parallal_task(get_entity_relation_ids, qids)\n",
    "print(time.time() - start)\n",
    "len(relation_ids_results)"
   ]
  },
  {
   "cell_type": "code",
   "execution_count": 8,
   "id": "6081fff7",
   "metadata": {},
   "outputs": [],
   "source": [
    "unique_relation_ids = set()\n",
    "all_test = []\n",
    "for couple in relation_ids_results:\n",
    "    unique_relation_ids.update(couple[1])"
   ]
  },
  {
   "cell_type": "code",
   "execution_count": 9,
   "id": "11beadac",
   "metadata": {},
   "outputs": [
    {
     "data": {
      "text/plain": [
       "333"
      ]
     },
     "execution_count": 9,
     "metadata": {},
     "output_type": "execute_result"
    }
   ],
   "source": [
    "len(unique_relation_ids)"
   ]
  },
  {
   "cell_type": "code",
   "execution_count": 11,
   "id": "ef6d256e",
   "metadata": {},
   "outputs": [
    {
     "name": "stdout",
     "output_type": "stream",
     "text": [
      "6.142807722091675\n"
     ]
    }
   ],
   "source": [
    "start = time.time()\n",
    "result_relation_labels = parallal_task_2(get_relation_label, unique_relation_ids)\n",
    "print(time.time() - start)"
   ]
  },
  {
   "cell_type": "code",
   "execution_count": 13,
   "id": "0095e82f",
   "metadata": {},
   "outputs": [],
   "source": [
    "relation_dict = dict()\n",
    "for (relation_id, label) in result_relation_labels:\n",
    "    relation_dict[relation_id] = label"
   ]
  },
  {
   "cell_type": "code",
   "execution_count": 29,
   "id": "48bd9687",
   "metadata": {},
   "outputs": [],
   "source": [
    "entities_with_relation_labels = []\n",
    "for (entity_id, relation_ids) in relation_ids_results:\n",
    "    relation_labels = ''\n",
    "    for relation_id in relation_ids:\n",
    "        relation_labels += f' {relation_dict[relation_id]} , '\n",
    "    \n",
    "    relation_labels = f'[{relation_labels[:-2]}]'\n",
    "    entities_with_relation_labels.append([entity_id, relation_labels])"
   ]
  },
  {
   "cell_type": "code",
   "execution_count": 35,
   "id": "75476a36",
   "metadata": {},
   "outputs": [
    {
     "data": {
      "text/html": [
       "<div>\n",
       "<style scoped>\n",
       "    .dataframe tbody tr th:only-of-type {\n",
       "        vertical-align: middle;\n",
       "    }\n",
       "\n",
       "    .dataframe tbody tr th {\n",
       "        vertical-align: top;\n",
       "    }\n",
       "\n",
       "    .dataframe thead th {\n",
       "        text-align: right;\n",
       "    }\n",
       "</style>\n",
       "<table border=\"1\" class=\"dataframe\">\n",
       "  <thead>\n",
       "    <tr style=\"text-align: right;\">\n",
       "      <th></th>\n",
       "      <th>entity id</th>\n",
       "      <th>relation labels</th>\n",
       "    </tr>\n",
       "  </thead>\n",
       "  <tbody>\n",
       "    <tr>\n",
       "      <th>0</th>\n",
       "      <td>Q126399</td>\n",
       "      <td>[ Commons category ,  instance of ,  founded b...</td>\n",
       "    </tr>\n",
       "    <tr>\n",
       "      <th>1</th>\n",
       "      <td>Q12439</td>\n",
       "      <td>[ topic's main category ,  continent ,  countr...</td>\n",
       "    </tr>\n",
       "    <tr>\n",
       "      <th>2</th>\n",
       "      <td>Q7370831</td>\n",
       "      <td>[ IMDb ID ,  Commons category ,  instance of ,...</td>\n",
       "    </tr>\n",
       "    <tr>\n",
       "      <th>3</th>\n",
       "      <td>Q6817891</td>\n",
       "      <td>[ IMDb ID ,  instance of ,  director ,  cast m...</td>\n",
       "    </tr>\n",
       "    <tr>\n",
       "      <th>4</th>\n",
       "      <td>Q1297</td>\n",
       "      <td>[ Dewey Decimal Classification ,  WOEID ,  top...</td>\n",
       "    </tr>\n",
       "    <tr>\n",
       "      <th>5</th>\n",
       "      <td>Q193592</td>\n",
       "      <td>[ instance of ,  sport ,  Freebase ID ,  Commo...</td>\n",
       "    </tr>\n",
       "    <tr>\n",
       "      <th>6</th>\n",
       "      <td>Q19896779</td>\n",
       "      <td>[ instance of ,  part of ,  Freebase ID ,  Com...</td>\n",
       "    </tr>\n",
       "    <tr>\n",
       "      <th>7</th>\n",
       "      <td>Q6849115</td>\n",
       "      <td>[ member of sports team ,  occupation ,  insta...</td>\n",
       "    </tr>\n",
       "    <tr>\n",
       "      <th>8</th>\n",
       "      <td>Q842256</td>\n",
       "      <td>[ Commons category ,  subclass of ,  instance ...</td>\n",
       "    </tr>\n",
       "    <tr>\n",
       "      <th>9</th>\n",
       "      <td>Q7273</td>\n",
       "      <td>[ sex or gender ,  Library of Congress authori...</td>\n",
       "    </tr>\n",
       "  </tbody>\n",
       "</table>\n",
       "</div>"
      ],
      "text/plain": [
       "   entity id                                    relation labels\n",
       "0    Q126399  [ Commons category ,  instance of ,  founded b...\n",
       "1     Q12439  [ topic's main category ,  continent ,  countr...\n",
       "2   Q7370831  [ IMDb ID ,  Commons category ,  instance of ,...\n",
       "3   Q6817891  [ IMDb ID ,  instance of ,  director ,  cast m...\n",
       "4      Q1297  [ Dewey Decimal Classification ,  WOEID ,  top...\n",
       "5    Q193592  [ instance of ,  sport ,  Freebase ID ,  Commo...\n",
       "6  Q19896779  [ instance of ,  part of ,  Freebase ID ,  Com...\n",
       "7   Q6849115  [ member of sports team ,  occupation ,  insta...\n",
       "8    Q842256  [ Commons category ,  subclass of ,  instance ...\n",
       "9      Q7273  [ sex or gender ,  Library of Congress authori..."
      ]
     },
     "execution_count": 35,
     "metadata": {},
     "output_type": "execute_result"
    }
   ],
   "source": [
    "training_data_results = pd.DataFrame(entities_with_relation_labels, columns= ['entity id', 'relation labels'])\n",
    "training_data_results.head(10)"
   ]
  },
  {
   "cell_type": "code",
   "execution_count": 36,
   "id": "448b181c",
   "metadata": {},
   "outputs": [],
   "source": [
    "training_data_results.to_csv('./3-Relation_Linking_Data/1-csv_format/training_data.csv', index=False)"
   ]
  },
  {
   "cell_type": "code",
   "execution_count": null,
   "id": "ee50618d",
   "metadata": {},
   "outputs": [],
   "source": []
  },
  {
   "cell_type": "markdown",
   "id": "adbf51f4",
   "metadata": {},
   "source": [
    "## Simple_questions Validation set"
   ]
  },
  {
   "cell_type": "code",
   "execution_count": 37,
   "id": "6eafb2a9",
   "metadata": {},
   "outputs": [],
   "source": [
    "with open('2-NEL_Data/0-raw_data/simple_questions_v2/annotated_wd_data_valid.txt', encoding='utf-8') as file:\n",
    "    lines = file.readlines()\n",
    "\n",
    "# print(len(lines))\n",
    "validation_data = []\n",
    "for line in lines:\n",
    "    line = line.strip().split('\\t', 3)\n",
    "    del line[2]\n",
    "    del line[1]\n",
    "    validation_data.append(line)\n",
    "    \n",
    "qids = [line[0] for line in validation_data]\n",
    "questions = [line[1] for line in validation_data]"
   ]
  },
  {
   "cell_type": "code",
   "execution_count": null,
   "id": "05234e95",
   "metadata": {},
   "outputs": [],
   "source": [
    "start = time.time()\n",
    "relation_ids_results = parallal_task(get_entity_relation_ids, qids)\n",
    "print(time.time() - start)\n",
    "len(relation_ids_results)"
   ]
  },
  {
   "cell_type": "code",
   "execution_count": null,
   "id": "ab029d93",
   "metadata": {},
   "outputs": [],
   "source": [
    "unique_relation_ids = set()\n",
    "all_test = []\n",
    "for couple in relation_ids_results:\n",
    "    unique_relation_ids.update(couple[1])"
   ]
  },
  {
   "cell_type": "code",
   "execution_count": null,
   "id": "98189eda",
   "metadata": {},
   "outputs": [],
   "source": [
    "start = time.time()\n",
    "result_relation_labels = parallal_task_2(get_relation_label, unique_relation_ids)\n",
    "print(time.time() - start)"
   ]
  },
  {
   "cell_type": "code",
   "execution_count": null,
   "id": "1f94b5e8",
   "metadata": {},
   "outputs": [],
   "source": [
    "relation_dict = dict()\n",
    "for (relation_id, label) in result_relation_labels:\n",
    "    relation_dict[relation_id] = label"
   ]
  },
  {
   "cell_type": "code",
   "execution_count": null,
   "id": "5223bf82",
   "metadata": {},
   "outputs": [],
   "source": [
    "entities_with_relation_labels = []\n",
    "for (entity_id, relation_ids) in relation_ids_results:\n",
    "    relation_labels = ''\n",
    "    for relation_id in relation_ids:\n",
    "        relation_labels += f' {relation_dict[relation_id]} , '\n",
    "    \n",
    "    relation_labels = f'[{relation_labels[:-2]}]'\n",
    "    entities_with_relation_labels.append([entity_id, relation_labels])"
   ]
  },
  {
   "cell_type": "code",
   "execution_count": null,
   "id": "f9ecde4e",
   "metadata": {},
   "outputs": [],
   "source": [
    "validation_data_results = pd.DataFrame(entities_with_relation_labels, columns= ['entity id', 'relation labels'])\n",
    "validation_data_results.head(10)"
   ]
  },
  {
   "cell_type": "code",
   "execution_count": null,
   "id": "6b893c49",
   "metadata": {},
   "outputs": [],
   "source": [
    "validation_data_results.to_csv('./3-Relation_Linking_Data/1-csv_format/validation_data.csv', index=False)"
   ]
  },
  {
   "cell_type": "markdown",
   "id": "71a26392",
   "metadata": {},
   "source": [
    "## Simple_questions Testing Data"
   ]
  },
  {
   "cell_type": "code",
   "execution_count": 38,
   "id": "1305fa96",
   "metadata": {},
   "outputs": [],
   "source": [
    "with open('2-NEL_Data/0-raw_data/simple_questions_v2/annotated_wd_data_test.txt', encoding='utf-8') as file:\n",
    "    lines = file.readlines()\n",
    "\n",
    "# print(len(lines))\n",
    "test_data = []\n",
    "for line in lines:\n",
    "    line = line.strip().split('\\t', 3)\n",
    "    del line[2]\n",
    "    del line[1]\n",
    "    test_data.append(line)\n",
    "    \n",
    "qids = [line[0] for line in test_data]\n",
    "questions = [line[1] for line in test_data]"
   ]
  },
  {
   "cell_type": "code",
   "execution_count": null,
   "id": "8a4da5dd",
   "metadata": {},
   "outputs": [],
   "source": [
    "start = time.time()\n",
    "relation_ids_results = parallal_task(get_entity_relation_ids, qids)\n",
    "print(time.time() - start)\n",
    "len(relation_ids_results)"
   ]
  },
  {
   "cell_type": "code",
   "execution_count": null,
   "id": "23280b58",
   "metadata": {},
   "outputs": [],
   "source": [
    "unique_relation_ids = set()\n",
    "all_test = []\n",
    "for couple in relation_ids_results:\n",
    "    unique_relation_ids.update(couple[1])"
   ]
  },
  {
   "cell_type": "code",
   "execution_count": null,
   "id": "cd0231be",
   "metadata": {},
   "outputs": [],
   "source": [
    "start = time.time()\n",
    "result_relation_labels = parallal_task_2(get_relation_label, unique_relation_ids)\n",
    "print(time.time() - start)"
   ]
  },
  {
   "cell_type": "code",
   "execution_count": null,
   "id": "b31c5ebd",
   "metadata": {},
   "outputs": [],
   "source": [
    "relation_dict = dict()\n",
    "for (relation_id, label) in result_relation_labels:\n",
    "    relation_dict[relation_id] = label"
   ]
  },
  {
   "cell_type": "code",
   "execution_count": null,
   "id": "0e5c56f9",
   "metadata": {},
   "outputs": [],
   "source": [
    "entities_with_relation_labels = []\n",
    "for (entity_id, relation_ids) in relation_ids_results:\n",
    "    relation_labels = ''\n",
    "    for relation_id in relation_ids:\n",
    "        relation_labels += f' {relation_dict[relation_id]} , '\n",
    "    \n",
    "    relation_labels = f'[{relation_labels[:-2]}]'\n",
    "    entities_with_relation_labels.append([entity_id, relation_labels])"
   ]
  },
  {
   "cell_type": "code",
   "execution_count": null,
   "id": "6d3b8f4a",
   "metadata": {},
   "outputs": [],
   "source": [
    "test_data_results = pd.DataFrame(entities_with_relation_labels, columns= ['entity id', 'relation labels'])\n",
    "test_data_results.head(10)"
   ]
  },
  {
   "cell_type": "code",
   "execution_count": null,
   "id": "db872a0d",
   "metadata": {},
   "outputs": [],
   "source": [
    "test_data_results.to_csv('./3-Relation_Linking_Data/1-csv_format/test_data.csv', index=False)"
   ]
  }
 ],
 "metadata": {
  "kernelspec": {
   "display_name": "Python 3",
   "language": "python",
   "name": "python3"
  },
  "language_info": {
   "codemirror_mode": {
    "name": "ipython",
    "version": 3
   },
   "file_extension": ".py",
   "mimetype": "text/x-python",
   "name": "python",
   "nbconvert_exporter": "python",
   "pygments_lexer": "ipython3",
   "version": "3.7.10"
  }
 },
 "nbformat": 4,
 "nbformat_minor": 5
}
