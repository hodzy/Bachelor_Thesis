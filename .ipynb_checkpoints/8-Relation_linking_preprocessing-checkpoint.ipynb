{
 "cells": [
  {
   "cell_type": "code",
   "execution_count": 1,
   "id": "b740e50e",
   "metadata": {},
   "outputs": [],
   "source": [
    "import json\n",
    "import pandas as pd\n",
    "import time\n",
    "\n",
    "# refer to this paper\n",
    "# https://arxiv.org/pdf/2108.07337.pdf"
   ]
  },
  {
   "cell_type": "code",
   "execution_count": 2,
   "id": "4e782325",
   "metadata": {},
   "outputs": [],
   "source": [
    "def get_relation_label(rel_id):\n",
    "    label = ''\n",
    "    API_ENDPOINT = \"https://www.wikidata.org/w/api.php\"\n",
    "    params = {\n",
    "        'action': 'wbgetentities',\n",
    "        'format': 'json',\n",
    "        'languages': 'en',\n",
    "        'props': 'labels',\n",
    "        'ids': ''\n",
    "    }\n",
    "      \n",
    "    params['ids'] = str(rel_id)\n",
    "\n",
    "    try:\n",
    "        response = requests.get(API_ENDPOINT, params = params).json()['entities']\n",
    "        label = response[str(rel_id)]['labels']['en']['value']\n",
    "    except:\n",
    "        return (rel_id, label)\n",
    "    return (rel_id, label)"
   ]
  },
  {
   "cell_type": "code",
   "execution_count": 3,
   "id": "61acce37",
   "metadata": {},
   "outputs": [],
   "source": [
    "def get_entity_relation_ids(ent_id):\n",
    "    relations = []\n",
    "    API_ENDPOINT = \"https://www.wikidata.org/w/api.php\"\n",
    "    params = {\n",
    "        'action': 'wbgetentities',\n",
    "        'format': 'json',\n",
    "        'languages': 'en',\n",
    "        'props': 'claims',\n",
    "        'ids': ''\n",
    "    }\n",
    "        \n",
    "    params['ids'] = str(ent_id)\n",
    "    try:\n",
    "        response = requests.get(API_ENDPOINT, params = params).json()['entities']\n",
    "        relations = list(response[str(ent_id)]['claims'].keys())\n",
    "    except:\n",
    "        return (ent_id, relations)\n",
    "    return (ent_id, relations)"
   ]
  },
  {
   "cell_type": "code",
   "execution_count": 4,
   "id": "c200f78b",
   "metadata": {},
   "outputs": [],
   "source": [
    "def get_entity_labels_and_aliases(ent_id):\n",
    "    labels = []\n",
    "    API_ENDPOINT = \"https://www.wikidata.org/w/api.php\"\n",
    "    params = {\n",
    "        'action': 'wbgetentities',\n",
    "        'format': 'json',\n",
    "        'languages': 'en',\n",
    "        'props': 'labels|aliases',    \n",
    "        'ids': ''\n",
    "    }\n",
    "\n",
    "        \n",
    "    params['ids'] = str(ent_id)\n",
    "    try:\n",
    "        response = requests.get(API_ENDPOINT, params = params).json()['entities']\n",
    "        labels.append(response[str(ent_id)]['labels']['en']['value'])\n",
    "        \n",
    "        for alias in response[str(ent_id)]['aliases']['en']:\n",
    "            labels.append(alias['value'])\n",
    "    except:\n",
    "        return (ent_id, labels)\n",
    "    return (ent_id, labels)"
   ]
  },
  {
   "cell_type": "code",
   "execution_count": 5,
   "id": "076250b8",
   "metadata": {},
   "outputs": [],
   "source": [
    "from fuzzywuzzy import fuzz\n",
    "\n",
    "# when creating a function the arguments are (questions and the results wikidata api after lower())\n",
    "def find_nearest_word_in_question(questions, lower_wikidata_replies):\n",
    "    entities_list = []\n",
    "    found_match = False\n",
    "    counter = 0\n",
    "    for i in range(len(questions)):\n",
    "        found_match = False\n",
    "        for label in lower_wikidata_replies[i][1]:\n",
    "            if label in questions[i].lower(): \n",
    "                found_match = True\n",
    "                index = questions[i].lower().find(label)\n",
    "                entities_list.append(questions[i][index : len(label)+index])\n",
    "                break\n",
    "        if not found_match:\n",
    "            split_tokens = questions[i][1].split()\n",
    "            list_of_comb = []\n",
    "            list_of_comb.extend(split_tokens)\n",
    "            scores = []\n",
    "            for j in range(len(split_tokens)-1):\n",
    "                list_of_comb.append(split_tokens[j] + ' ' + split_tokens[j+1])\n",
    "            for j in range(len(split_tokens)-2):\n",
    "                list_of_comb.append(split_tokens[j] + ' ' + split_tokens[j+1] + ' ' + split_tokens[j+2])\n",
    "            for j in range(len(split_tokens)-3):\n",
    "                list_of_comb.append(split_tokens[j] + ' ' + split_tokens[j+1] + ' ' + split_tokens[j+2] + ' ' + split_tokens[j+3])\n",
    "\n",
    "            for label in lower_wikidata_replies[i][1]:\n",
    "                for token in list_of_comb: \n",
    "                    scores.append((fuzz.ratio(label, token.lower()), token, label))\n",
    "            scores = sorted(scores, key=lambda x: x[0], reverse=True)\n",
    "\n",
    "            if len(scores) and scores[0][0] < 85:\n",
    "                counter += 1\n",
    "                entities_list.append('')\n",
    "            elif not(len(scores)):\n",
    "                counter += 1\n",
    "                entities_list.append('')\n",
    "            elif scores[0][0] >= 85:\n",
    "                entities_list.append(scores[0][1])\n",
    "    return (entities_list, counter)"
   ]
  },
  {
   "cell_type": "code",
   "execution_count": 6,
   "id": "aa966c9e",
   "metadata": {},
   "outputs": [],
   "source": [
    "# jupyter notebook never finishes processing using multiprocessing python 3\n",
    "# https://stackoverflow.com/questions/47313732/jupyter-notebook-never-finishes-processing-using-multiprocessing-python-3\n",
    "\n",
    "from multiprocessing import Pool\n",
    "from functools import partial\n",
    "import inspect\n",
    "import time\n",
    "import os\n",
    "import requests\n",
    "\n",
    "\n",
    "def parallal_task(func, iterable, *params): \n",
    "    with open(f'./tmp_func.py', 'w') as file:\n",
    "        file.write(\"import requests \\n\")\n",
    "        file.write(inspect.getsource(func).replace(func.__name__, 'task'))\n",
    "\n",
    "    from tmp_func import task\n",
    "    pool = Pool(processes=15)\n",
    "    res = pool.map(task, iterable)\n",
    "    pool.close()\n",
    "    \n",
    "    os.remove('./tmp_func.py')\n",
    "    return res\n",
    "#     else:\n",
    "#         raise \"Not in Jupyter Notebook\""
   ]
  },
  {
   "cell_type": "code",
   "execution_count": 7,
   "id": "2b821c58",
   "metadata": {},
   "outputs": [],
   "source": [
    "from multiprocessing import Pool\n",
    "from functools import partial\n",
    "import inspect\n",
    "import time\n",
    "import os\n",
    "import requests\n",
    "\n",
    "\n",
    "def parallal_task_2(func, iterable, *params): \n",
    "    with open(f'./tmp_func_2.py', 'w') as file:\n",
    "        file.write(\"import requests \\n\")\n",
    "        file.write(inspect.getsource(func).replace(func.__name__, 'task'))\n",
    "\n",
    "    from tmp_func_2 import task\n",
    "    pool = Pool(processes=15)\n",
    "    res = pool.map(task, iterable)\n",
    "    pool.close()\n",
    "    \n",
    "    os.remove('./tmp_func_2.py')\n",
    "    return res"
   ]
  },
  {
   "cell_type": "code",
   "execution_count": 8,
   "id": "f09de713",
   "metadata": {},
   "outputs": [],
   "source": [
    "from multiprocessing import Pool\n",
    "from functools import partial\n",
    "import inspect\n",
    "import time\n",
    "import os\n",
    "import requests\n",
    "\n",
    "\n",
    "def parallal_task_3(func, iterable, *params): \n",
    "    with open(f'./tmp_func_3.py', 'w') as file:\n",
    "        file.write(\"import requests \\n\")\n",
    "        file.write(inspect.getsource(func).replace(func.__name__, 'task'))\n",
    "\n",
    "    from tmp_func_2 import task\n",
    "    pool = Pool(processes=15)\n",
    "    res = pool.map(task, iterable)\n",
    "    pool.close()\n",
    "    \n",
    "    os.remove('./tmp_func_3.py')\n",
    "    return res"
   ]
  },
  {
   "cell_type": "markdown",
   "id": "1c00a53e",
   "metadata": {},
   "source": [
    "## Simple_questions Training Data"
   ]
  },
  {
   "cell_type": "code",
   "execution_count": 9,
   "id": "be5199eb",
   "metadata": {},
   "outputs": [],
   "source": [
    "with open('2-NEL_Data/0-raw_data/simple_questions_v2/annotated_wd_data_train.txt', encoding='utf-8') as file:\n",
    "    lines = file.readlines()\n",
    "\n",
    "# print(len(lines))\n",
    "training_data = []\n",
    "for line in lines:\n",
    "    line = line.strip().split('\\t', 3)\n",
    "    del line[2]\n",
    "    \n",
    "    training_data.append(line)\n",
    "    \n",
    "qids = [line[0] for line in training_data]\n",
    "target_relation = [line[1].replace('R', 'P') for line in training_data]\n",
    "questions = [line[2] for line in training_data]\n",
    "# print(len(training_data))\n",
    "# print(training_data[0])\n",
    "# print(qids[0])\n",
    "# print(questions[0])"
   ]
  },
  {
   "cell_type": "code",
   "execution_count": 10,
   "id": "4bf8a0c1",
   "metadata": {},
   "outputs": [
    {
     "name": "stdout",
     "output_type": "stream",
     "text": [
      "869.7217333316803\n"
     ]
    },
    {
     "data": {
      "text/plain": [
       "34374"
      ]
     },
     "execution_count": 10,
     "metadata": {},
     "output_type": "execute_result"
    }
   ],
   "source": [
    "start = time.time()\n",
    "relation_ids_results = parallal_task(get_entity_relation_ids, qids)\n",
    "print(time.time() - start)\n",
    "len(relation_ids_results)"
   ]
  },
  {
   "cell_type": "code",
   "execution_count": 11,
   "id": "8c002889",
   "metadata": {},
   "outputs": [],
   "source": [
    "unique_relation_ids = set()\n",
    "all_test = []\n",
    "for couple in relation_ids_results:\n",
    "    unique_relation_ids.update(couple[1])"
   ]
  },
  {
   "cell_type": "code",
   "execution_count": 12,
   "id": "049337a9",
   "metadata": {},
   "outputs": [
    {
     "data": {
      "text/plain": [
       "4901"
      ]
     },
     "execution_count": 12,
     "metadata": {},
     "output_type": "execute_result"
    }
   ],
   "source": [
    "len(unique_relation_ids)"
   ]
  },
  {
   "cell_type": "code",
   "execution_count": 13,
   "id": "fa6593b5",
   "metadata": {},
   "outputs": [
    {
     "name": "stdout",
     "output_type": "stream",
     "text": [
      "75.85443043708801\n"
     ]
    }
   ],
   "source": [
    "start = time.time()\n",
    "result_relation_labels = parallal_task_2(get_relation_label, unique_relation_ids)\n",
    "print(time.time() - start)"
   ]
  },
  {
   "cell_type": "code",
   "execution_count": 14,
   "id": "0b779987",
   "metadata": {},
   "outputs": [],
   "source": [
    "relation_dict = dict()\n",
    "for (relation_id, label) in result_relation_labels:\n",
    "    relation_dict[relation_id] = label"
   ]
  },
  {
   "cell_type": "code",
   "execution_count": 15,
   "id": "6ae89263",
   "metadata": {},
   "outputs": [],
   "source": [
    "entities_with_relation_labels = []\n",
    "for (entity_id, relation_ids) in relation_ids_results:\n",
    "    relation_labels = ''\n",
    "    for relation_id in relation_ids:\n",
    "        relation_labels += f' {relation_dict[relation_id]} , '\n",
    "    \n",
    "    relation_labels = f'[{relation_labels[:-2]}]'\n",
    "    entities_with_relation_labels.append([entity_id, relation_labels])"
   ]
  },
  {
   "cell_type": "code",
   "execution_count": null,
   "id": "a43d6070",
   "metadata": {},
   "outputs": [],
   "source": []
  },
  {
   "cell_type": "code",
   "execution_count": 16,
   "id": "dc34bf8a",
   "metadata": {},
   "outputs": [
    {
     "name": "stdout",
     "output_type": "stream",
     "text": [
      "670.6623435020447\n"
     ]
    }
   ],
   "source": [
    "start = time.time()\n",
    "entity_labels_and_aliases = parallal_task_3(get_entity_labels_and_aliases, qids)\n",
    "# entity_labels_and_aliases = [get_entity_labels_and_aliases(qid) for qid in qids]\n",
    "print(time.time() - start)"
   ]
  },
  {
   "cell_type": "code",
   "execution_count": 17,
   "id": "e5d09f6f",
   "metadata": {},
   "outputs": [
    {
     "data": {
      "text/plain": [
       "[('Q126399', ['w', 'a', 'r', 'n', 'e', 'r', ' ', 'b', 'r', 'o', 's', '.']),\n",
       " ('Q12439', ['d', 'e', 't', 'r', 'o', 'i', 't'])]"
      ]
     },
     "execution_count": 17,
     "metadata": {},
     "output_type": "execute_result"
    }
   ],
   "source": [
    "lower_results = []\n",
    "for result in entity_labels_and_aliases:\n",
    "    results_for_one = [label.lower() for label in result[1]]\n",
    "    lower_results.append((result[0], results_for_one))\n",
    "lower_results[:2]"
   ]
  },
  {
   "cell_type": "code",
   "execution_count": 18,
   "id": "58ba7a03",
   "metadata": {},
   "outputs": [],
   "source": [
    "(entities_list, counter) = find_nearest_word_in_question(questions, lower_results)"
   ]
  },
  {
   "cell_type": "code",
   "execution_count": null,
   "id": "989aaa2c",
   "metadata": {},
   "outputs": [],
   "source": []
  },
  {
   "cell_type": "code",
   "execution_count": 19,
   "id": "d03ef091",
   "metadata": {},
   "outputs": [],
   "source": [
    "rows = []\n",
    "for i in range(len(questions)):\n",
    "    rows.append([questions[i], entities_list[i], entities_with_relation_labels[i][1], target_relation[i]])"
   ]
  },
  {
   "cell_type": "code",
   "execution_count": 20,
   "id": "80f413a3",
   "metadata": {},
   "outputs": [
    {
     "data": {
      "text/html": [
       "<div>\n",
       "<style scoped>\n",
       "    .dataframe tbody tr th:only-of-type {\n",
       "        vertical-align: middle;\n",
       "    }\n",
       "\n",
       "    .dataframe tbody tr th {\n",
       "        vertical-align: top;\n",
       "    }\n",
       "\n",
       "    .dataframe thead th {\n",
       "        text-align: right;\n",
       "    }\n",
       "</style>\n",
       "<table border=\"1\" class=\"dataframe\">\n",
       "  <thead>\n",
       "    <tr style=\"text-align: right;\">\n",
       "      <th></th>\n",
       "      <th>question</th>\n",
       "      <th>entity label</th>\n",
       "      <th>relation labels</th>\n",
       "      <th>target relation id</th>\n",
       "    </tr>\n",
       "  </thead>\n",
       "  <tbody>\n",
       "    <tr>\n",
       "      <th>0</th>\n",
       "      <td>what movie is produced by warner bros.</td>\n",
       "      <td>w</td>\n",
       "      <td>[ Commons category ,  instance of ,  founded b...</td>\n",
       "      <td>P272</td>\n",
       "    </tr>\n",
       "    <tr>\n",
       "      <th>1</th>\n",
       "      <td>who is a musician born in detroit</td>\n",
       "      <td>d</td>\n",
       "      <td>[ topic's main category ,  continent ,  countr...</td>\n",
       "      <td>P19</td>\n",
       "    </tr>\n",
       "    <tr>\n",
       "      <th>2</th>\n",
       "      <td>who produced the film rough house rosie</td>\n",
       "      <td>r</td>\n",
       "      <td>[ IMDb ID ,  Commons category ,  instance of ,...</td>\n",
       "      <td>P162</td>\n",
       "    </tr>\n",
       "    <tr>\n",
       "      <th>3</th>\n",
       "      <td>what is the language in which mera shikar was ...</td>\n",
       "      <td>m</td>\n",
       "      <td>[ IMDb ID ,  instance of ,  director ,  cast m...</td>\n",
       "      <td>P364</td>\n",
       "    </tr>\n",
       "    <tr>\n",
       "      <th>4</th>\n",
       "      <td>Whats the name of a battle that happened in ch...</td>\n",
       "      <td>c</td>\n",
       "      <td>[ Dewey Decimal Classification ,  WOEID ,  top...</td>\n",
       "      <td>P276</td>\n",
       "    </tr>\n",
       "    <tr>\n",
       "      <th>...</th>\n",
       "      <td>...</td>\n",
       "      <td>...</td>\n",
       "      <td>...</td>\n",
       "      <td>...</td>\n",
       "    </tr>\n",
       "    <tr>\n",
       "      <th>34369</th>\n",
       "      <td>What is the nationality of anthony bailey</td>\n",
       "      <td>a</td>\n",
       "      <td>[ instance of ,  sex or gender ,  given name ,...</td>\n",
       "      <td>P27</td>\n",
       "    </tr>\n",
       "    <tr>\n",
       "      <th>34370</th>\n",
       "      <td>who was homi k. bhabha especially influenced by</td>\n",
       "      <td>h</td>\n",
       "      <td>[ VIAF ID ,  ISNI ,  Library of Congress autho...</td>\n",
       "      <td>P737</td>\n",
       "    </tr>\n",
       "    <tr>\n",
       "      <th>34371</th>\n",
       "      <td>which artist composes video game music</td>\n",
       "      <td>v</td>\n",
       "      <td>[ topic's main category ,  Freebase ID ,  Comm...</td>\n",
       "      <td>P136</td>\n",
       "    </tr>\n",
       "    <tr>\n",
       "      <th>34372</th>\n",
       "      <td>What gender is gastón filgueira</td>\n",
       "      <td>g</td>\n",
       "      <td>[ member of sports team ,  occupation ,  date ...</td>\n",
       "      <td>P21</td>\n",
       "    </tr>\n",
       "    <tr>\n",
       "      <th>34373</th>\n",
       "      <td>what player played a defender?</td>\n",
       "      <td>d</td>\n",
       "      <td>[ Freebase ID ,  Commons category ,  topic's m...</td>\n",
       "      <td>P413</td>\n",
       "    </tr>\n",
       "  </tbody>\n",
       "</table>\n",
       "<p>34374 rows × 4 columns</p>\n",
       "</div>"
      ],
      "text/plain": [
       "                                                question entity label  \\\n",
       "0                 what movie is produced by warner bros.            w   \n",
       "1                      who is a musician born in detroit            d   \n",
       "2                who produced the film rough house rosie            r   \n",
       "3      what is the language in which mera shikar was ...            m   \n",
       "4      Whats the name of a battle that happened in ch...            c   \n",
       "...                                                  ...          ...   \n",
       "34369          What is the nationality of anthony bailey            a   \n",
       "34370    who was homi k. bhabha especially influenced by            h   \n",
       "34371             which artist composes video game music            v   \n",
       "34372                    What gender is gastón filgueira            g   \n",
       "34373                     what player played a defender?            d   \n",
       "\n",
       "                                         relation labels target relation id  \n",
       "0      [ Commons category ,  instance of ,  founded b...               P272  \n",
       "1      [ topic's main category ,  continent ,  countr...                P19  \n",
       "2      [ IMDb ID ,  Commons category ,  instance of ,...               P162  \n",
       "3      [ IMDb ID ,  instance of ,  director ,  cast m...               P364  \n",
       "4      [ Dewey Decimal Classification ,  WOEID ,  top...               P276  \n",
       "...                                                  ...                ...  \n",
       "34369  [ instance of ,  sex or gender ,  given name ,...                P27  \n",
       "34370  [ VIAF ID ,  ISNI ,  Library of Congress autho...               P737  \n",
       "34371  [ topic's main category ,  Freebase ID ,  Comm...               P136  \n",
       "34372  [ member of sports team ,  occupation ,  date ...                P21  \n",
       "34373  [ Freebase ID ,  Commons category ,  topic's m...               P413  \n",
       "\n",
       "[34374 rows x 4 columns]"
      ]
     },
     "execution_count": 20,
     "metadata": {},
     "output_type": "execute_result"
    }
   ],
   "source": [
    "# training_data_results = pd.DataFrame([questions[:10], entities_with_relation_labels, columns= ['entity id', 'relation labels'])\n",
    "training_data_results = pd.DataFrame(rows, columns=['question', 'entity label', 'relation labels', 'target relation id'])\n",
    "training_data_results"
   ]
  },
  {
   "cell_type": "code",
   "execution_count": 21,
   "id": "f4c7708f",
   "metadata": {},
   "outputs": [],
   "source": [
    "training_data_results.to_csv('./3-Relation_Linking_Data/1-csv_format/training_data.csv', index=False)"
   ]
  },
  {
   "cell_type": "code",
   "execution_count": null,
   "id": "8b0a47e6",
   "metadata": {},
   "outputs": [],
   "source": []
  },
  {
   "cell_type": "markdown",
   "id": "b8a06d6e",
   "metadata": {},
   "source": [
    "## Simple_questions Validation set"
   ]
  },
  {
   "cell_type": "code",
   "execution_count": 22,
   "id": "377adf6b",
   "metadata": {},
   "outputs": [],
   "source": [
    "with open('2-NEL_Data/0-raw_data/simple_questions_v2/annotated_wd_data_valid.txt', encoding='utf-8') as file:\n",
    "    lines = file.readlines()\n",
    "\n",
    "# print(len(lines))\n",
    "validation_data = []\n",
    "for line in lines:\n",
    "    line = line.strip().split('\\t', 3)\n",
    "    del line[2]\n",
    "    validation_data.append(line)\n",
    "    \n",
    "qids = [line[0] for line in validation_data]\n",
    "target_relation = [line[1].replace('R', 'P') for line in validation_data]\n",
    "questions = [line[2] for line in validation_data]"
   ]
  },
  {
   "cell_type": "code",
   "execution_count": 23,
   "id": "9c91f78c",
   "metadata": {},
   "outputs": [
    {
     "name": "stdout",
     "output_type": "stream",
     "text": [
      "101.32181668281555\n"
     ]
    },
    {
     "data": {
      "text/plain": [
       "4867"
      ]
     },
     "execution_count": 23,
     "metadata": {},
     "output_type": "execute_result"
    }
   ],
   "source": [
    "start = time.time()\n",
    "relation_ids_results = parallal_task(get_entity_relation_ids, qids)\n",
    "print(time.time() - start)\n",
    "len(relation_ids_results)"
   ]
  },
  {
   "cell_type": "code",
   "execution_count": 24,
   "id": "2e8f4f9c",
   "metadata": {},
   "outputs": [],
   "source": [
    "unique_relation_ids = set()\n",
    "all_test = []\n",
    "for couple in relation_ids_results:\n",
    "    unique_relation_ids.update(couple[1])"
   ]
  },
  {
   "cell_type": "code",
   "execution_count": 25,
   "id": "c5c84a5f",
   "metadata": {},
   "outputs": [
    {
     "name": "stdout",
     "output_type": "stream",
     "text": [
      "54.09446668624878\n"
     ]
    }
   ],
   "source": [
    "start = time.time()\n",
    "result_relation_labels = parallal_task_2(get_relation_label, unique_relation_ids)\n",
    "print(time.time() - start)"
   ]
  },
  {
   "cell_type": "code",
   "execution_count": 26,
   "id": "71f72ffe",
   "metadata": {},
   "outputs": [],
   "source": [
    "relation_dict = dict()\n",
    "for (relation_id, label) in result_relation_labels:\n",
    "    relation_dict[relation_id] = label"
   ]
  },
  {
   "cell_type": "code",
   "execution_count": 27,
   "id": "8a8fe2c2",
   "metadata": {},
   "outputs": [],
   "source": [
    "entities_with_relation_labels = []\n",
    "for (entity_id, relation_ids) in relation_ids_results:\n",
    "    relation_labels = ''\n",
    "    for relation_id in relation_ids:\n",
    "        relation_labels += f' {relation_dict[relation_id]} , '\n",
    "    \n",
    "    relation_labels = f'[{relation_labels[:-2]}]'\n",
    "    entities_with_relation_labels.append([entity_id, relation_labels])"
   ]
  },
  {
   "cell_type": "code",
   "execution_count": null,
   "id": "2259d276",
   "metadata": {},
   "outputs": [],
   "source": []
  },
  {
   "cell_type": "code",
   "execution_count": 28,
   "id": "c5313a20",
   "metadata": {},
   "outputs": [
    {
     "name": "stdout",
     "output_type": "stream",
     "text": [
      "169.11288189888\n"
     ]
    }
   ],
   "source": [
    "start = time.time()\n",
    "entity_labels_and_aliases = parallal_task_3(get_entity_labels_and_aliases, qids)\n",
    "# entity_labels_and_aliases = [get_entity_labels_and_aliases(qid) for qid in qids]\n",
    "print(time.time() - start)"
   ]
  },
  {
   "cell_type": "code",
   "execution_count": 29,
   "id": "fb0ff787",
   "metadata": {},
   "outputs": [
    {
     "data": {
      "text/plain": [
       "[('Q3541144',\n",
       "  ['j',\n",
       "   'w',\n",
       "   ' ',\n",
       "   'm',\n",
       "   'a',\n",
       "   'r',\n",
       "   'r',\n",
       "   'i',\n",
       "   'o',\n",
       "   't',\n",
       "   't',\n",
       "   ' ',\n",
       "   'p',\n",
       "   'a',\n",
       "   'n',\n",
       "   'a',\n",
       "   'm',\n",
       "   'a']),\n",
       " ('Q318926',\n",
       "  ['s', 'a', 's', 'h', 'a', ' ', 'v', 'u', 'j', 'a', 'č', 'i', 'ć'])]"
      ]
     },
     "execution_count": 29,
     "metadata": {},
     "output_type": "execute_result"
    }
   ],
   "source": [
    "lower_results = []\n",
    "for result in entity_labels_and_aliases:\n",
    "    results_for_one = [label.lower() for label in result[1]]\n",
    "    lower_results.append((result[0], results_for_one))\n",
    "lower_results[:2]"
   ]
  },
  {
   "cell_type": "code",
   "execution_count": 30,
   "id": "20dc8a3a",
   "metadata": {},
   "outputs": [],
   "source": [
    "(entities_list, counter) = find_nearest_word_in_question(questions, lower_results)"
   ]
  },
  {
   "cell_type": "code",
   "execution_count": 31,
   "id": "4c1b8a9a",
   "metadata": {},
   "outputs": [],
   "source": [
    "rows = []\n",
    "for i in range(len(questions)):\n",
    "    rows.append([questions[i], entities_list[i], entities_with_relation_labels[i][1], target_relation[i]])"
   ]
  },
  {
   "cell_type": "code",
   "execution_count": null,
   "id": "2504e388",
   "metadata": {},
   "outputs": [],
   "source": []
  },
  {
   "cell_type": "code",
   "execution_count": 32,
   "id": "8112be31",
   "metadata": {},
   "outputs": [
    {
     "data": {
      "text/html": [
       "<div>\n",
       "<style scoped>\n",
       "    .dataframe tbody tr th:only-of-type {\n",
       "        vertical-align: middle;\n",
       "    }\n",
       "\n",
       "    .dataframe tbody tr th {\n",
       "        vertical-align: top;\n",
       "    }\n",
       "\n",
       "    .dataframe thead th {\n",
       "        text-align: right;\n",
       "    }\n",
       "</style>\n",
       "<table border=\"1\" class=\"dataframe\">\n",
       "  <thead>\n",
       "    <tr style=\"text-align: right;\">\n",
       "      <th></th>\n",
       "      <th>question</th>\n",
       "      <th>entity label</th>\n",
       "      <th>relation labels</th>\n",
       "      <th>target relation id</th>\n",
       "    </tr>\n",
       "  </thead>\n",
       "  <tbody>\n",
       "    <tr>\n",
       "      <th>0</th>\n",
       "      <td>Who was the trump ocean club international hot...</td>\n",
       "      <td>W</td>\n",
       "      <td>[ coordinate location ,  Commons category ,  i...</td>\n",
       "      <td>P138</td>\n",
       "    </tr>\n",
       "    <tr>\n",
       "      <th>1</th>\n",
       "      <td>where was sasha vujačić born</td>\n",
       "      <td>s</td>\n",
       "      <td>[ sex or gender ,  occupation ,  member of spo...</td>\n",
       "      <td>P19</td>\n",
       "    </tr>\n",
       "    <tr>\n",
       "      <th>2</th>\n",
       "      <td>What is a film directed by wiebke von carolsfeld?</td>\n",
       "      <td>W</td>\n",
       "      <td>[ sex or gender ,  instance of ,  country of c...</td>\n",
       "      <td>P57</td>\n",
       "    </tr>\n",
       "    <tr>\n",
       "      <th>3</th>\n",
       "      <td>What was Seymour Parker Gilbert's profession?</td>\n",
       "      <td>s</td>\n",
       "      <td>[ sex or gender ,  VIAF ID ,  GND ID ,  place ...</td>\n",
       "      <td>P106</td>\n",
       "    </tr>\n",
       "    <tr>\n",
       "      <th>4</th>\n",
       "      <td>in what french city did antoine de févin die</td>\n",
       "      <td>a</td>\n",
       "      <td>[ VIAF ID ,  ISNI ,  MusicBrainz artist ID ,  ...</td>\n",
       "      <td>P20</td>\n",
       "    </tr>\n",
       "    <tr>\n",
       "      <th>5</th>\n",
       "      <td>What job does jamie hewlett have</td>\n",
       "      <td>j</td>\n",
       "      <td>[ VIAF ID ,  ISNI ,  Library of Congress autho...</td>\n",
       "      <td>P106</td>\n",
       "    </tr>\n",
       "    <tr>\n",
       "      <th>6</th>\n",
       "      <td>what country is ghost house from</td>\n",
       "      <td>g</td>\n",
       "      <td>[ instance of ,  original language of film or ...</td>\n",
       "      <td>P495</td>\n",
       "    </tr>\n",
       "    <tr>\n",
       "      <th>7</th>\n",
       "      <td>which country was the yamakinkarudu movie prod...</td>\n",
       "      <td>y</td>\n",
       "      <td>[ IMDb ID ,  instance of ,  producer ,  cast m...</td>\n",
       "      <td>P495</td>\n",
       "    </tr>\n",
       "    <tr>\n",
       "      <th>8</th>\n",
       "      <td>What's the time zone in sub-saharan africa</td>\n",
       "      <td>s</td>\n",
       "      <td>[ Commons category ,  topic's main category , ...</td>\n",
       "      <td>P421</td>\n",
       "    </tr>\n",
       "    <tr>\n",
       "      <th>9</th>\n",
       "      <td>who is the chid of fritz leiber?</td>\n",
       "      <td>f</td>\n",
       "      <td>[ Library of Congress authority ID ,  VIAF ID ...</td>\n",
       "      <td>P40</td>\n",
       "    </tr>\n",
       "  </tbody>\n",
       "</table>\n",
       "</div>"
      ],
      "text/plain": [
       "                                            question entity label  \\\n",
       "0  Who was the trump ocean club international hot...            W   \n",
       "1                       where was sasha vujačić born            s   \n",
       "2  What is a film directed by wiebke von carolsfeld?            W   \n",
       "3      What was Seymour Parker Gilbert's profession?            s   \n",
       "4       in what french city did antoine de févin die            a   \n",
       "5                   What job does jamie hewlett have            j   \n",
       "6                   what country is ghost house from            g   \n",
       "7  which country was the yamakinkarudu movie prod...            y   \n",
       "8         What's the time zone in sub-saharan africa            s   \n",
       "9                   who is the chid of fritz leiber?            f   \n",
       "\n",
       "                                     relation labels target relation id  \n",
       "0  [ coordinate location ,  Commons category ,  i...               P138  \n",
       "1  [ sex or gender ,  occupation ,  member of spo...                P19  \n",
       "2  [ sex or gender ,  instance of ,  country of c...                P57  \n",
       "3  [ sex or gender ,  VIAF ID ,  GND ID ,  place ...               P106  \n",
       "4  [ VIAF ID ,  ISNI ,  MusicBrainz artist ID ,  ...                P20  \n",
       "5  [ VIAF ID ,  ISNI ,  Library of Congress autho...               P106  \n",
       "6  [ instance of ,  original language of film or ...               P495  \n",
       "7  [ IMDb ID ,  instance of ,  producer ,  cast m...               P495  \n",
       "8  [ Commons category ,  topic's main category , ...               P421  \n",
       "9  [ Library of Congress authority ID ,  VIAF ID ...                P40  "
      ]
     },
     "execution_count": 32,
     "metadata": {},
     "output_type": "execute_result"
    }
   ],
   "source": [
    "validation_data_results = pd.DataFrame(rows, columns=['question', 'entity label', 'relation labels', 'target relation id'])\n",
    "validation_data_results.head(10)"
   ]
  },
  {
   "cell_type": "code",
   "execution_count": 33,
   "id": "5a391350",
   "metadata": {},
   "outputs": [],
   "source": [
    "validation_data_results.to_csv('./3-Relation_Linking_Data/1-csv_format/validation_data.csv', index=False)"
   ]
  },
  {
   "cell_type": "markdown",
   "id": "3c5d22ad",
   "metadata": {},
   "source": [
    "## Simple_questions Testing Data"
   ]
  },
  {
   "cell_type": "code",
   "execution_count": 34,
   "id": "34fc5f8f",
   "metadata": {},
   "outputs": [],
   "source": [
    "with open('2-NEL_Data/0-raw_data/simple_questions_v2/annotated_wd_data_test.txt', encoding='utf-8') as file:\n",
    "    lines = file.readlines()\n",
    "\n",
    "# print(len(lines))\n",
    "test_data = []\n",
    "for line in lines:\n",
    "    line = line.strip().split('\\t', 3)\n",
    "    del line[2]\n",
    "    del line[1]\n",
    "    test_data.append(line)\n",
    "    \n",
    "qids = [line[0] for line in test_data]\n",
    "target_relation = [line[1].replace('R', 'P') for line in test_data]\n",
    "questions = [line[1] for line in test_data]"
   ]
  },
  {
   "cell_type": "code",
   "execution_count": 35,
   "id": "3688b8e0",
   "metadata": {},
   "outputs": [
    {
     "name": "stdout",
     "output_type": "stream",
     "text": [
      "207.55484914779663\n"
     ]
    },
    {
     "data": {
      "text/plain": [
       "9961"
      ]
     },
     "execution_count": 35,
     "metadata": {},
     "output_type": "execute_result"
    }
   ],
   "source": [
    "start = time.time()\n",
    "relation_ids_results = parallal_task(get_entity_relation_ids, qids)\n",
    "print(time.time() - start)\n",
    "len(relation_ids_results)"
   ]
  },
  {
   "cell_type": "code",
   "execution_count": 36,
   "id": "eac3871e",
   "metadata": {},
   "outputs": [],
   "source": [
    "unique_relation_ids = set()\n",
    "all_test = []\n",
    "for couple in relation_ids_results:\n",
    "    unique_relation_ids.update(couple[1])"
   ]
  },
  {
   "cell_type": "code",
   "execution_count": 37,
   "id": "29725c06",
   "metadata": {},
   "outputs": [
    {
     "name": "stdout",
     "output_type": "stream",
     "text": [
      "160.63125014305115\n"
     ]
    }
   ],
   "source": [
    "start = time.time()\n",
    "result_relation_labels = parallal_task_2(get_relation_label, unique_relation_ids)\n",
    "print(time.time() - start)"
   ]
  },
  {
   "cell_type": "code",
   "execution_count": 38,
   "id": "e61de479",
   "metadata": {},
   "outputs": [],
   "source": [
    "relation_dict = dict()\n",
    "for (relation_id, label) in result_relation_labels:\n",
    "    relation_dict[relation_id] = label"
   ]
  },
  {
   "cell_type": "code",
   "execution_count": 39,
   "id": "9af96ec1",
   "metadata": {},
   "outputs": [],
   "source": [
    "entities_with_relation_labels = []\n",
    "for (entity_id, relation_ids) in relation_ids_results:\n",
    "    relation_labels = ''\n",
    "    for relation_id in relation_ids:\n",
    "        relation_labels += f' {relation_dict[relation_id]} , '\n",
    "    \n",
    "    relation_labels = f'[{relation_labels[:-2]}]'\n",
    "    entities_with_relation_labels.append([entity_id, relation_labels])"
   ]
  },
  {
   "cell_type": "code",
   "execution_count": null,
   "id": "a34b8959",
   "metadata": {},
   "outputs": [],
   "source": []
  },
  {
   "cell_type": "code",
   "execution_count": null,
   "id": "6b3d2d60",
   "metadata": {},
   "outputs": [],
   "source": [
    "start = time.time()\n",
    "entity_labels_and_aliases = parallal_task_3(get_entity_labels_and_aliases, qids)\n",
    "# entity_labels_and_aliases = [get_entity_labels_and_aliases(qid) for qid in qids]\n",
    "print(time.time() - start)"
   ]
  },
  {
   "cell_type": "code",
   "execution_count": null,
   "id": "9b19e43b",
   "metadata": {},
   "outputs": [],
   "source": [
    "lower_results = []\n",
    "for result in entity_labels_and_aliases:\n",
    "    results_for_one = [label.lower() for label in result[1]]\n",
    "    lower_results.append((result[0], results_for_one))\n",
    "lower_results[:2]"
   ]
  },
  {
   "cell_type": "code",
   "execution_count": null,
   "id": "7d1a980b",
   "metadata": {},
   "outputs": [],
   "source": [
    "(entities_list, counter) = find_nearest_word_in_question(questions, lower_results)"
   ]
  },
  {
   "cell_type": "code",
   "execution_count": null,
   "id": "1850e0dc",
   "metadata": {},
   "outputs": [],
   "source": [
    "rows = []\n",
    "for i in range(len(questions)):\n",
    "    rows.append([questions[i], entities_list[i], entities_with_relation_labels[i][1], target_relation[i]])"
   ]
  },
  {
   "cell_type": "code",
   "execution_count": null,
   "id": "97470821",
   "metadata": {},
   "outputs": [],
   "source": []
  },
  {
   "cell_type": "code",
   "execution_count": null,
   "id": "23fd51cd",
   "metadata": {},
   "outputs": [],
   "source": [
    "test_data_results = pd.DataFrame(rows, columns=['question', 'entity label', 'relation labels', 'target relation id'])\n",
    "test_data_results.head(10)"
   ]
  },
  {
   "cell_type": "code",
   "execution_count": null,
   "id": "21c3aac7",
   "metadata": {},
   "outputs": [],
   "source": [
    "test_data_results.to_csv('./3-Relation_Linking_Data/1-csv_format/test_data.csv', index=False)"
   ]
  },
  {
   "cell_type": "code",
   "execution_count": null,
   "id": "36acd053",
   "metadata": {},
   "outputs": [],
   "source": []
  }
 ],
 "metadata": {
  "kernelspec": {
   "display_name": "Python 3",
   "language": "python",
   "name": "python3"
  },
  "language_info": {
   "codemirror_mode": {
    "name": "ipython",
    "version": 3
   },
   "file_extension": ".py",
   "mimetype": "text/x-python",
   "name": "python",
   "nbconvert_exporter": "python",
   "pygments_lexer": "ipython3",
   "version": "3.7.10"
  }
 },
 "nbformat": 4,
 "nbformat_minor": 5
}
