{
 "cells": [
  {
   "cell_type": "code",
   "execution_count": 1,
   "id": "257b141d",
   "metadata": {},
   "outputs": [
    {
     "name": "stderr",
     "output_type": "stream",
     "text": [
      "\u001b[34m\u001b[1mwandb\u001b[0m: Currently logged in as: \u001b[33mhodz199\u001b[0m. Use \u001b[1m`wandb login --relogin`\u001b[0m to force relogin\n"
     ]
    },
    {
     "name": "stdout",
     "output_type": "stream",
     "text": [
      "env: WANDB_PROJECT=NEL\n"
     ]
    }
   ],
   "source": [
    "# !pip install wandb\n",
    "# !pip install transformers\n",
    "# !pip install sentencepiece\n",
    "import os\n",
    "\n",
    "# os.environ[\"CUDA_VISIBLE_DEVICES\"] = \"0,2,3\" \n",
    "import pandas as pd\n",
    "import numpy as np\n",
    "import re\n",
    "import torch\n",
    "import torchvision\n",
    "from torch.utils.data import Dataset, DataLoader\n",
    "import math\n",
    "import torch.optim as optim\n",
    "import wandb\n",
    "\n",
    "\n",
    "wandb.login()\n",
    "%env WANDB_PROJECT=NEL\n",
    "# wandb.init(project=\"NEL\")\n",
    "\n",
    "# os.environ[\"WANDB_DISABLED\"] = \"true\"\n",
    "\n",
    "\n",
    "device = torch.device(\"cuda\") if torch.cuda.is_available() else torch.device(\"cpu\")\n",
    "# device = torch.device(\"cuda\") if torch.cuda.is_available() else torch.device(\"cpu\")\n",
    "# device = torch.device(\"cuda:2\") if torch.cuda.is_available() else torch.device(\"cpu\")\n"
   ]
  },
  {
   "cell_type": "code",
   "execution_count": 2,
   "id": "68775017",
   "metadata": {},
   "outputs": [],
   "source": [
    "# Create torch dataset\n",
    "# https://towardsdatascience.com/fine-tuning-pretrained-nlp-models-with-huggingfaces-trainer-6326a4456e7b\n",
    "\n",
    "class Dataset(torch.utils.data.Dataset):\n",
    "    def __init__(self, encodings, labels=None):\n",
    "        self.encodings = encodings\n",
    "        self.labels = labels\n",
    "\n",
    "    def __getitem__(self, idx):\n",
    "        item = {key: torch.tensor(val[idx]) for key, val in self.encodings.items()}\n",
    "        if self.labels:\n",
    "            item[\"labels\"] = torch.tensor(self.labels['input_ids'][idx])\n",
    "        return item\n",
    "\n",
    "    def __len__(self):\n",
    "        return len(self.encodings[\"input_ids\"])"
   ]
  },
  {
   "cell_type": "code",
   "execution_count": 3,
   "id": "fe9eebd4",
   "metadata": {},
   "outputs": [],
   "source": [
    "max_source_length = 1024\n",
    "max_target_length = 128"
   ]
  },
  {
   "cell_type": "code",
   "execution_count": 4,
   "id": "cdcd4d74",
   "metadata": {},
   "outputs": [],
   "source": [
    "from transformers import T5TokenizerFast, T5ForConditionalGeneration \n",
    "from transformers import EarlyStoppingCallback\n",
    "\n",
    "tokenizer = T5TokenizerFast.from_pretrained(\"t5-base\")\n",
    "model = T5ForConditionalGeneration.from_pretrained(\"t5-base\").to(device)"
   ]
  },
  {
   "cell_type": "code",
   "execution_count": 5,
   "id": "a8486d3e",
   "metadata": {
    "scrolled": true
   },
   "outputs": [
    {
     "data": {
      "text/html": [
       "<div>\n",
       "<style scoped>\n",
       "    .dataframe tbody tr th:only-of-type {\n",
       "        vertical-align: middle;\n",
       "    }\n",
       "\n",
       "    .dataframe tbody tr th {\n",
       "        vertical-align: top;\n",
       "    }\n",
       "\n",
       "    .dataframe thead th {\n",
       "        text-align: right;\n",
       "    }\n",
       "</style>\n",
       "<table border=\"1\" class=\"dataframe\">\n",
       "  <thead>\n",
       "    <tr style=\"text-align: right;\">\n",
       "      <th></th>\n",
       "      <th>qid</th>\n",
       "      <th>question</th>\n",
       "      <th>entity</th>\n",
       "      <th>wikidata_reply</th>\n",
       "      <th>qid_in_reply</th>\n",
       "      <th>input_len</th>\n",
       "    </tr>\n",
       "  </thead>\n",
       "  <tbody>\n",
       "    <tr>\n",
       "      <th>4312</th>\n",
       "      <td>Q7492362</td>\n",
       "      <td>** Who was involved in the sheemore ambush? **</td>\n",
       "      <td>**  sheemore ambush  **</td>\n",
       "      <td>** [[ Q7492362 , Sheemore ambush , ambush duri...</td>\n",
       "      <td>True</td>\n",
       "      <td>155</td>\n",
       "    </tr>\n",
       "    <tr>\n",
       "      <th>12486</th>\n",
       "      <td>Q82955</td>\n",
       "      <td>** name a professional politician. **</td>\n",
       "      <td>**  politician  **</td>\n",
       "      <td>** [[ Q51556674 , Politician , song by Cream ]...</td>\n",
       "      <td>True</td>\n",
       "      <td>567</td>\n",
       "    </tr>\n",
       "    <tr>\n",
       "      <th>92904</th>\n",
       "      <td>Q738653</td>\n",
       "      <td>**  white can play either a3 or a4 (see algebr...</td>\n",
       "      <td>**  algebraic notation  **</td>\n",
       "      <td>** [[ Q60418499 , Algebraic Notation of Kinshi...</td>\n",
       "      <td>True</td>\n",
       "      <td>650</td>\n",
       "    </tr>\n",
       "    <tr>\n",
       "      <th>20220</th>\n",
       "      <td>Q4776569</td>\n",
       "      <td>** Where in europe was antonio demo born **</td>\n",
       "      <td>**  antonio demo  **</td>\n",
       "      <td>** [[ Q4776569 , Antonio Demo , Italian-Americ...</td>\n",
       "      <td>True</td>\n",
       "      <td>126</td>\n",
       "    </tr>\n",
       "    <tr>\n",
       "      <th>105441</th>\n",
       "      <td>Q1297</td>\n",
       "      <td>**  Filming. Prior to filming, Mendes sought t...</td>\n",
       "      <td>**  Chicago  **</td>\n",
       "      <td>** [[ Q2233885 , Willard , city in Huron Count...</td>\n",
       "      <td>True</td>\n",
       "      <td>665</td>\n",
       "    </tr>\n",
       "    <tr>\n",
       "      <th>...</th>\n",
       "      <td>...</td>\n",
       "      <td>...</td>\n",
       "      <td>...</td>\n",
       "      <td>...</td>\n",
       "      <td>...</td>\n",
       "      <td>...</td>\n",
       "    </tr>\n",
       "    <tr>\n",
       "      <th>98047</th>\n",
       "      <td>Q816704</td>\n",
       "      <td>**  the Daily Mirror's new magazine. Their Dep...</td>\n",
       "      <td>**  pâté  **</td>\n",
       "      <td>** [[ Q1044124 , paten , small plate used to h...</td>\n",
       "      <td>True</td>\n",
       "      <td>826</td>\n",
       "    </tr>\n",
       "    <tr>\n",
       "      <th>5192</th>\n",
       "      <td>Q2247706</td>\n",
       "      <td>** who directed the crowd roars **</td>\n",
       "      <td>**  the crowd roars  **</td>\n",
       "      <td>** [[ Q2247706 , The Crowd Roars , 1938 film b...</td>\n",
       "      <td>True</td>\n",
       "      <td>244</td>\n",
       "    </tr>\n",
       "    <tr>\n",
       "      <th>77708</th>\n",
       "      <td>Q100047</td>\n",
       "      <td>** AmIRC is an MUI-based IRC client for the Am...</td>\n",
       "      <td>**  Amiga  **</td>\n",
       "      <td>** [[ Q20049564 , Amiga , song by Eliana ], [ ...</td>\n",
       "      <td>True</td>\n",
       "      <td>506</td>\n",
       "    </tr>\n",
       "    <tr>\n",
       "      <th>98539</th>\n",
       "      <td>Q2717</td>\n",
       "      <td>**  place). Births. March 25 - Matthew Barney,...</td>\n",
       "      <td>**  July 29  **</td>\n",
       "      <td>** [[ Q17982661 , 29 July 2013 , date ], [ Q17...</td>\n",
       "      <td>True</td>\n",
       "      <td>551</td>\n",
       "    </tr>\n",
       "    <tr>\n",
       "      <th>128037</th>\n",
       "      <td>Q180089</td>\n",
       "      <td>**  any Ann Coulter book. It isn't what the Am...</td>\n",
       "      <td>**  the Economist  **</td>\n",
       "      <td>** [[ Q100293480 , The Economist , newspaper p...</td>\n",
       "      <td>True</td>\n",
       "      <td>617</td>\n",
       "    </tr>\n",
       "  </tbody>\n",
       "</table>\n",
       "<p>130395 rows × 6 columns</p>\n",
       "</div>"
      ],
      "text/plain": [
       "             qid                                           question  \\\n",
       "4312    Q7492362     ** Who was involved in the sheemore ambush? **   \n",
       "12486     Q82955              ** name a professional politician. **   \n",
       "92904    Q738653  **  white can play either a3 or a4 (see algebr...   \n",
       "20220   Q4776569        ** Where in europe was antonio demo born **   \n",
       "105441     Q1297  **  Filming. Prior to filming, Mendes sought t...   \n",
       "...          ...                                                ...   \n",
       "98047    Q816704  **  the Daily Mirror's new magazine. Their Dep...   \n",
       "5192    Q2247706                 ** who directed the crowd roars **   \n",
       "77708    Q100047  ** AmIRC is an MUI-based IRC client for the Am...   \n",
       "98539      Q2717  **  place). Births. March 25 - Matthew Barney,...   \n",
       "128037   Q180089  **  any Ann Coulter book. It isn't what the Am...   \n",
       "\n",
       "                            entity  \\\n",
       "4312       **  sheemore ambush  **   \n",
       "12486           **  politician  **   \n",
       "92904   **  algebraic notation  **   \n",
       "20220         **  antonio demo  **   \n",
       "105441             **  Chicago  **   \n",
       "...                            ...   \n",
       "98047                 **  pâté  **   \n",
       "5192       **  the crowd roars  **   \n",
       "77708                **  Amiga  **   \n",
       "98539              **  July 29  **   \n",
       "128037       **  the Economist  **   \n",
       "\n",
       "                                           wikidata_reply  qid_in_reply  \\\n",
       "4312    ** [[ Q7492362 , Sheemore ambush , ambush duri...          True   \n",
       "12486   ** [[ Q51556674 , Politician , song by Cream ]...          True   \n",
       "92904   ** [[ Q60418499 , Algebraic Notation of Kinshi...          True   \n",
       "20220   ** [[ Q4776569 , Antonio Demo , Italian-Americ...          True   \n",
       "105441  ** [[ Q2233885 , Willard , city in Huron Count...          True   \n",
       "...                                                   ...           ...   \n",
       "98047   ** [[ Q1044124 , paten , small plate used to h...          True   \n",
       "5192    ** [[ Q2247706 , The Crowd Roars , 1938 film b...          True   \n",
       "77708   ** [[ Q20049564 , Amiga , song by Eliana ], [ ...          True   \n",
       "98539   ** [[ Q17982661 , 29 July 2013 , date ], [ Q17...          True   \n",
       "128037  ** [[ Q100293480 , The Economist , newspaper p...          True   \n",
       "\n",
       "        input_len  \n",
       "4312          155  \n",
       "12486         567  \n",
       "92904         650  \n",
       "20220         126  \n",
       "105441        665  \n",
       "...           ...  \n",
       "98047         826  \n",
       "5192          244  \n",
       "77708         506  \n",
       "98539         551  \n",
       "128037        617  \n",
       "\n",
       "[130395 rows x 6 columns]"
      ]
     },
     "execution_count": 5,
     "metadata": {},
     "output_type": "execute_result"
    }
   ],
   "source": [
    "training_data = pd.read_csv('./2-NEL_Data/2-csv_format_2/training_data_shuffled.csv')\n",
    "training_data = training_data.sample(frac=1, random_state=1)\n",
    "training_data"
   ]
  },
  {
   "cell_type": "code",
   "execution_count": 6,
   "id": "35feffc9",
   "metadata": {},
   "outputs": [
    {
     "data": {
      "text/plain": [
       "'** Who was involved in the sheemore ambush? **,**  sheemore ambush  **,** [[ Q7492362 , Sheemore ambush , ambush during the Irish War of Independence ]] **'"
      ]
     },
     "execution_count": 6,
     "metadata": {},
     "output_type": "execute_result"
    }
   ],
   "source": [
    "input_text = list(training_data['question'] + ',' + training_data['entity'] + ',' + training_data['wikidata_reply'])\n",
    "input_text[0]"
   ]
  },
  {
   "cell_type": "code",
   "execution_count": 7,
   "id": "320ea05c",
   "metadata": {},
   "outputs": [
    {
     "data": {
      "text/plain": [
       "'Q7492362'"
      ]
     },
     "execution_count": 7,
     "metadata": {},
     "output_type": "execute_result"
    }
   ],
   "source": [
    "target_text = list(training_data['qid'])\n",
    "target_text[0]"
   ]
  },
  {
   "cell_type": "code",
   "execution_count": 8,
   "id": "1c79f1e4",
   "metadata": {},
   "outputs": [
    {
     "name": "stdout",
     "output_type": "stream",
     "text": [
      "130395\n"
     ]
    }
   ],
   "source": [
    "X_train_tokenized = tokenizer(['nel: ' + sequence for sequence in input_text], \n",
    "                              padding=True, \n",
    "                              truncation=True, \n",
    "                              max_length=max_source_length)\n",
    "\n",
    "y_train_tokenized = tokenizer(target_text, \n",
    "                              padding=True, \n",
    "                              truncation=True, \n",
    "                              max_length=max_target_length)\n",
    "\n",
    "print(len(training_data))\n",
    "# print(len(training_sample))"
   ]
  },
  {
   "cell_type": "code",
   "execution_count": null,
   "id": "4f79fd89",
   "metadata": {},
   "outputs": [],
   "source": []
  },
  {
   "cell_type": "code",
   "execution_count": null,
   "id": "65794f80",
   "metadata": {},
   "outputs": [],
   "source": []
  },
  {
   "cell_type": "code",
   "execution_count": 9,
   "id": "2c3f4779",
   "metadata": {},
   "outputs": [
    {
     "data": {
      "text/html": [
       "<div>\n",
       "<style scoped>\n",
       "    .dataframe tbody tr th:only-of-type {\n",
       "        vertical-align: middle;\n",
       "    }\n",
       "\n",
       "    .dataframe tbody tr th {\n",
       "        vertical-align: top;\n",
       "    }\n",
       "\n",
       "    .dataframe thead th {\n",
       "        text-align: right;\n",
       "    }\n",
       "</style>\n",
       "<table border=\"1\" class=\"dataframe\">\n",
       "  <thead>\n",
       "    <tr style=\"text-align: right;\">\n",
       "      <th></th>\n",
       "      <th>qid</th>\n",
       "      <th>question</th>\n",
       "      <th>entity</th>\n",
       "      <th>wikidata_reply</th>\n",
       "      <th>qid_in_reply</th>\n",
       "      <th>input_len</th>\n",
       "    </tr>\n",
       "  </thead>\n",
       "  <tbody>\n",
       "    <tr>\n",
       "      <th>13761</th>\n",
       "      <td>Q497</td>\n",
       "      <td>**  arises from the anus, the distal orifice o...</td>\n",
       "      <td>**  anus  **</td>\n",
       "      <td>** [[ Q31785909 , Anus , mountain in Namibia ]...</td>\n",
       "      <td>True</td>\n",
       "      <td>564</td>\n",
       "    </tr>\n",
       "    <tr>\n",
       "      <th>12966</th>\n",
       "      <td>Q188</td>\n",
       "      <td>** Hiwi is a German abbreviation. It has two m...</td>\n",
       "      <td>**  German  **</td>\n",
       "      <td>** [[ Q188 , German , West Germanic language s...</td>\n",
       "      <td>True</td>\n",
       "      <td>495</td>\n",
       "    </tr>\n",
       "    <tr>\n",
       "      <th>135</th>\n",
       "      <td>Q11865151</td>\n",
       "      <td>** what country is ismo kallio from **</td>\n",
       "      <td>**  ismo kallio  **</td>\n",
       "      <td>** [[ Q11865151 , Ismo Kallio , Finnish actor ...</td>\n",
       "      <td>True</td>\n",
       "      <td>122</td>\n",
       "    </tr>\n",
       "    <tr>\n",
       "      <th>13518</th>\n",
       "      <td>Q165654</td>\n",
       "      <td>**  The fire was first spotted at 8:04 p.m. by...</td>\n",
       "      <td>**  constable  **</td>\n",
       "      <td>** [[ Q159297 , John Constable , English paint...</td>\n",
       "      <td>True</td>\n",
       "      <td>628</td>\n",
       "    </tr>\n",
       "    <tr>\n",
       "      <th>10510</th>\n",
       "      <td>Q81136</td>\n",
       "      <td>**  the British Admiralty lost interest in the...</td>\n",
       "      <td>**  Northwest Passage  **</td>\n",
       "      <td>** [[ Q17114554 , Northwest Passage , former b...</td>\n",
       "      <td>True</td>\n",
       "      <td>695</td>\n",
       "    </tr>\n",
       "    <tr>\n",
       "      <th>...</th>\n",
       "      <td>...</td>\n",
       "      <td>...</td>\n",
       "      <td>...</td>\n",
       "      <td>...</td>\n",
       "      <td>...</td>\n",
       "      <td>...</td>\n",
       "    </tr>\n",
       "    <tr>\n",
       "      <th>905</th>\n",
       "      <td>Q7697846</td>\n",
       "      <td>** what type of film is telstar: the joe meek ...</td>\n",
       "      <td>**  telstar: the joe meek story  **</td>\n",
       "      <td>** [[ Q7697846 , Telstar: The Joe Meek Story ,...</td>\n",
       "      <td>True</td>\n",
       "      <td>168</td>\n",
       "    </tr>\n",
       "    <tr>\n",
       "      <th>5192</th>\n",
       "      <td>Q252</td>\n",
       "      <td>** Bunguran is a small archipelago of Indonesi...</td>\n",
       "      <td>**  Indonesia  **</td>\n",
       "      <td>** [[ Q96708780 , Indonesia , scientific journ...</td>\n",
       "      <td>True</td>\n",
       "      <td>543</td>\n",
       "    </tr>\n",
       "    <tr>\n",
       "      <th>12172</th>\n",
       "      <td>Q5758978</td>\n",
       "      <td>** American High is a documentary television s...</td>\n",
       "      <td>**  Highland Park High School  **</td>\n",
       "      <td>** [[ Q5758983 , Highland Park High School , p...</td>\n",
       "      <td>True</td>\n",
       "      <td>689</td>\n",
       "    </tr>\n",
       "    <tr>\n",
       "      <th>235</th>\n",
       "      <td>Q2605094</td>\n",
       "      <td>** What type of music is the album hours? **</td>\n",
       "      <td>**  hours  **</td>\n",
       "      <td>** [[ Q25235 , hour , unit of time ], [ Q15704...</td>\n",
       "      <td>True</td>\n",
       "      <td>502</td>\n",
       "    </tr>\n",
       "    <tr>\n",
       "      <th>13349</th>\n",
       "      <td>Q40861</td>\n",
       "      <td>** marble and other kinds of stone are usually...</td>\n",
       "      <td>**  marble  **</td>\n",
       "      <td>** [[ Q662804 , Marble , town in Gunnison Coun...</td>\n",
       "      <td>True</td>\n",
       "      <td>682</td>\n",
       "    </tr>\n",
       "  </tbody>\n",
       "</table>\n",
       "<p>14406 rows × 6 columns</p>\n",
       "</div>"
      ],
      "text/plain": [
       "             qid                                           question  \\\n",
       "13761       Q497  **  arises from the anus, the distal orifice o...   \n",
       "12966       Q188  ** Hiwi is a German abbreviation. It has two m...   \n",
       "135    Q11865151             ** what country is ismo kallio from **   \n",
       "13518    Q165654  **  The fire was first spotted at 8:04 p.m. by...   \n",
       "10510     Q81136  **  the British Admiralty lost interest in the...   \n",
       "...          ...                                                ...   \n",
       "905     Q7697846  ** what type of film is telstar: the joe meek ...   \n",
       "5192        Q252  ** Bunguran is a small archipelago of Indonesi...   \n",
       "12172   Q5758978  ** American High is a documentary television s...   \n",
       "235     Q2605094       ** What type of music is the album hours? **   \n",
       "13349     Q40861  ** marble and other kinds of stone are usually...   \n",
       "\n",
       "                                    entity  \\\n",
       "13761                         **  anus  **   \n",
       "12966                       **  German  **   \n",
       "135                    **  ismo kallio  **   \n",
       "13518                    **  constable  **   \n",
       "10510            **  Northwest Passage  **   \n",
       "...                                    ...   \n",
       "905    **  telstar: the joe meek story  **   \n",
       "5192                     **  Indonesia  **   \n",
       "12172    **  Highland Park High School  **   \n",
       "235                          **  hours  **   \n",
       "13349                       **  marble  **   \n",
       "\n",
       "                                          wikidata_reply  qid_in_reply  \\\n",
       "13761  ** [[ Q31785909 , Anus , mountain in Namibia ]...          True   \n",
       "12966  ** [[ Q188 , German , West Germanic language s...          True   \n",
       "135    ** [[ Q11865151 , Ismo Kallio , Finnish actor ...          True   \n",
       "13518  ** [[ Q159297 , John Constable , English paint...          True   \n",
       "10510  ** [[ Q17114554 , Northwest Passage , former b...          True   \n",
       "...                                                  ...           ...   \n",
       "905    ** [[ Q7697846 , Telstar: The Joe Meek Story ,...          True   \n",
       "5192   ** [[ Q96708780 , Indonesia , scientific journ...          True   \n",
       "12172  ** [[ Q5758983 , Highland Park High School , p...          True   \n",
       "235    ** [[ Q25235 , hour , unit of time ], [ Q15704...          True   \n",
       "13349  ** [[ Q662804 , Marble , town in Gunnison Coun...          True   \n",
       "\n",
       "       input_len  \n",
       "13761        564  \n",
       "12966        495  \n",
       "135          122  \n",
       "13518        628  \n",
       "10510        695  \n",
       "...          ...  \n",
       "905          168  \n",
       "5192         543  \n",
       "12172        689  \n",
       "235          502  \n",
       "13349        682  \n",
       "\n",
       "[14406 rows x 6 columns]"
      ]
     },
     "execution_count": 9,
     "metadata": {},
     "output_type": "execute_result"
    }
   ],
   "source": [
    "val_data = pd.read_csv('./2-NEL_Data/2-csv_format_2/val_data_shuffled.csv')\n",
    "val_data = val_data.sample(frac=1, random_state=1)\n",
    "val_data"
   ]
  },
  {
   "cell_type": "code",
   "execution_count": 10,
   "id": "3ae996a2",
   "metadata": {},
   "outputs": [
    {
     "data": {
      "text/plain": [
       "'**  arises from the anus, the distal orifice of the gastrointestinal tract. It is a distinct entity from the more common colorectal cancer. The etiology, risk factors, clinical progression, staging,  **,**  anus  **,** [[ Q31785909 , Anus , mountain in Namibia ], [ Q497 , anus , digestive track waste expulsion opening ], [ Q23855 , Anus , Oceanic language spoken in Indonesia ], [ Q20685927 , Anus , album by Alaska Thunderfuck 5000 ], [ Q25016777 , Pulau Anus , island in Papua, Indonesia ], [ Q26235245 , Anus , village in Sarmi Regency, Papua, Indonesia ]] **'"
      ]
     },
     "execution_count": 10,
     "metadata": {},
     "output_type": "execute_result"
    }
   ],
   "source": [
    "input_text_val = list(val_data['question'] + ',' + val_data['entity'] + ',' + val_data['wikidata_reply'])\n",
    "input_text_val[0]"
   ]
  },
  {
   "cell_type": "code",
   "execution_count": 11,
   "id": "46d9b034",
   "metadata": {},
   "outputs": [
    {
     "data": {
      "text/plain": [
       "'Q497'"
      ]
     },
     "execution_count": 11,
     "metadata": {},
     "output_type": "execute_result"
    }
   ],
   "source": [
    "target_text_val = list(val_data['qid'])\n",
    "target_text_val[0]"
   ]
  },
  {
   "cell_type": "code",
   "execution_count": 12,
   "id": "d2c7baa2",
   "metadata": {},
   "outputs": [
    {
     "name": "stdout",
     "output_type": "stream",
     "text": [
      "14406\n"
     ]
    }
   ],
   "source": [
    "X_val_tokenized = tokenizer(['nel: ' + sequence for sequence in input_text_val], \n",
    "                              padding=True, \n",
    "                              truncation=True, \n",
    "                              max_length=max_source_length)\n",
    "\n",
    "y_val_tokenized = tokenizer(target_text_val, \n",
    "                              padding=True, \n",
    "                              truncation=True, \n",
    "                              max_length=max_target_length)\n",
    "\n",
    "print(len(val_data))\n",
    "# print(len(training_sample))"
   ]
  },
  {
   "cell_type": "code",
   "execution_count": null,
   "id": "3287994a",
   "metadata": {},
   "outputs": [],
   "source": []
  },
  {
   "cell_type": "code",
   "execution_count": null,
   "id": "f3e5f6c0",
   "metadata": {},
   "outputs": [],
   "source": []
  },
  {
   "cell_type": "code",
   "execution_count": 13,
   "id": "8e89ebf6",
   "metadata": {},
   "outputs": [],
   "source": [
    "train_dataset = Dataset(X_train_tokenized, y_train_tokenized)"
   ]
  },
  {
   "cell_type": "code",
   "execution_count": 14,
   "id": "d8600ceb",
   "metadata": {},
   "outputs": [],
   "source": [
    "val_dataset = Dataset(X_val_tokenized, y_val_tokenized)"
   ]
  },
  {
   "cell_type": "code",
   "execution_count": 15,
   "id": "9f4c8f01",
   "metadata": {},
   "outputs": [],
   "source": [
    "from transformers import Seq2SeqTrainingArguments\n",
    "\n",
    "training_args = Seq2SeqTrainingArguments(\n",
    "    \"NEL_model_shuffled_add_spaces_in_input\",\n",
    "    evaluation_strategy ='steps',\n",
    "    eval_steps = 1000, # Evaluation and Save happens every 50 steps\n",
    "#     logging_steps = 1000,\n",
    "    save_steps = 1000,\n",
    "    save_total_limit = 5, # Only last 5 models are saved. Older ones are deleted.\n",
    "    per_device_train_batch_size = 4,\n",
    "    per_device_eval_batch_size = 4,\n",
    "    learning_rate = 1e-3,\n",
    "    \n",
    "    gradient_accumulation_steps =2,\n",
    "    \n",
    "    adam_epsilon = 1e-8,\n",
    "    num_train_epochs = 5,\n",
    "    report_to=\"wandb\",\n",
    "#     metric_for_best_model = 'f1',\n",
    "    load_best_model_at_end=True\n",
    ")"
   ]
  },
  {
   "cell_type": "code",
   "execution_count": 16,
   "id": "7741973e",
   "metadata": {},
   "outputs": [],
   "source": [
    "from transformers import Seq2SeqTrainer\n",
    "\n",
    "trainer = Seq2SeqTrainer(\n",
    "    model=model, \n",
    "    args=training_args, \n",
    "    train_dataset= train_dataset,\n",
    "    eval_dataset = val_dataset,\n",
    "    callbacks = [EarlyStoppingCallback(early_stopping_patience=5)]\n",
    ")"
   ]
  },
  {
   "cell_type": "code",
   "execution_count": 17,
   "id": "3ef77859",
   "metadata": {},
   "outputs": [
    {
     "name": "stderr",
     "output_type": "stream",
     "text": [
      "/home/HadyElkady/miniconda3/lib/python3.7/site-packages/transformers/optimization.py:309: FutureWarning: This implementation of AdamW is deprecated and will be removed in a future version. Use thePyTorch implementation torch.optim.AdamW instead, or set `no_deprecation_warning=True` to disable this warning\n",
      "  FutureWarning,\n",
      "***** Running training *****\n",
      "  Num examples = 130395\n",
      "  Num Epochs = 5\n",
      "  Instantaneous batch size per device = 4\n",
      "  Total train batch size (w. parallel, distributed & accumulation) = 32\n",
      "  Gradient Accumulation steps = 2\n",
      "  Total optimization steps = 20375\n",
      "Automatic Weights & Biases logging enabled, to disable set os.environ[\"WANDB_DISABLED\"] = \"true\"\n"
     ]
    },
    {
     "data": {
      "text/html": [
       "Changes to your `wandb` environment variables will be ignored because your `wandb` session has already started. For more information on how to modify your settings with `wandb.init()` arguments, please refer to <a href=\"https://wandb.me/wandb-init\" target=\"_blank\">the W&B docs</a>."
      ],
      "text/plain": [
       "<IPython.core.display.HTML object>"
      ]
     },
     "metadata": {},
     "output_type": "display_data"
    },
    {
     "data": {
      "text/html": [
       "Tracking run with wandb version 0.12.17"
      ],
      "text/plain": [
       "<IPython.core.display.HTML object>"
      ]
     },
     "metadata": {},
     "output_type": "display_data"
    },
    {
     "data": {
      "text/html": [
       "Run data is saved locally in <code>/home/HadyElkady/work/Bachelor_thesis/wandb/run-20220825_073824-3munyhsu</code>"
      ],
      "text/plain": [
       "<IPython.core.display.HTML object>"
      ]
     },
     "metadata": {},
     "output_type": "display_data"
    },
    {
     "data": {
      "text/html": [
       "Syncing run <strong><a href=\"https://wandb.ai/hodz199/NEL/runs/3munyhsu\" target=\"_blank\">NEL_model_shuffled_add_spaces_in_input</a></strong> to <a href=\"https://wandb.ai/hodz199/NEL\" target=\"_blank\">Weights & Biases</a> (<a href=\"https://wandb.me/run\" target=\"_blank\">docs</a>)<br/>"
      ],
      "text/plain": [
       "<IPython.core.display.HTML object>"
      ]
     },
     "metadata": {},
     "output_type": "display_data"
    },
    {
     "name": "stderr",
     "output_type": "stream",
     "text": [
      "/home/HadyElkady/miniconda3/lib/python3.7/site-packages/torch/nn/parallel/_functions.py:68: UserWarning: Was asked to gather along dimension 0, but all input tensors were scalars; will instead unsqueeze and return a vector.\n",
      "  warnings.warn('Was asked to gather along dimension 0, but all '\n"
     ]
    },
    {
     "data": {
      "text/html": [
       "\n",
       "    <div>\n",
       "      \n",
       "      <progress value='8001' max='20375' style='width:300px; height:20px; vertical-align: middle;'></progress>\n",
       "      [ 8001/20375 3:33:49 < 5:30:47, 0.62 it/s, Epoch 1.96/5]\n",
       "    </div>\n",
       "    <table border=\"1\" class=\"dataframe\">\n",
       "  <thead>\n",
       " <tr style=\"text-align: left;\">\n",
       "      <th>Step</th>\n",
       "      <th>Training Loss</th>\n",
       "      <th>Validation Loss</th>\n",
       "    </tr>\n",
       "  </thead>\n",
       "  <tbody>\n",
       "    <tr>\n",
       "      <td>1000</td>\n",
       "      <td>0.116600</td>\n",
       "      <td>0.089147</td>\n",
       "    </tr>\n",
       "    <tr>\n",
       "      <td>2000</td>\n",
       "      <td>0.082100</td>\n",
       "      <td>0.072329</td>\n",
       "    </tr>\n",
       "    <tr>\n",
       "      <td>3000</td>\n",
       "      <td>0.068800</td>\n",
       "      <td>0.065741</td>\n",
       "    </tr>\n",
       "    <tr>\n",
       "      <td>4000</td>\n",
       "      <td>0.065200</td>\n",
       "      <td>0.058313</td>\n",
       "    </tr>\n",
       "    <tr>\n",
       "      <td>5000</td>\n",
       "      <td>0.049000</td>\n",
       "      <td>0.061230</td>\n",
       "    </tr>\n",
       "    <tr>\n",
       "      <td>6000</td>\n",
       "      <td>0.051700</td>\n",
       "      <td>0.057838</td>\n",
       "    </tr>\n",
       "    <tr>\n",
       "      <td>7000</td>\n",
       "      <td>0.048000</td>\n",
       "      <td>0.049316</td>\n",
       "    </tr>\n",
       "  </tbody>\n",
       "</table><p>\n",
       "    <div>\n",
       "      \n",
       "      <progress value='56' max='901' style='width:300px; height:20px; vertical-align: middle;'></progress>\n",
       "      [ 56/901 00:19 < 04:54, 2.87 it/s]\n",
       "    </div>\n",
       "    "
      ],
      "text/plain": [
       "<IPython.core.display.HTML object>"
      ]
     },
     "metadata": {},
     "output_type": "display_data"
    },
    {
     "name": "stderr",
     "output_type": "stream",
     "text": [
      "***** Running Evaluation *****\n",
      "  Num examples = 14406\n",
      "  Batch size = 16\n",
      "Saving model checkpoint to NEL_model_shuffled_add_spaces_in_input/checkpoint-1000\n",
      "Configuration saved in NEL_model_shuffled_add_spaces_in_input/checkpoint-1000/config.json\n",
      "Model weights saved in NEL_model_shuffled_add_spaces_in_input/checkpoint-1000/pytorch_model.bin\n",
      "/home/HadyElkady/miniconda3/lib/python3.7/site-packages/torch/nn/parallel/_functions.py:68: UserWarning: Was asked to gather along dimension 0, but all input tensors were scalars; will instead unsqueeze and return a vector.\n",
      "  warnings.warn('Was asked to gather along dimension 0, but all '\n",
      "***** Running Evaluation *****\n",
      "  Num examples = 14406\n",
      "  Batch size = 16\n",
      "Saving model checkpoint to NEL_model_shuffled_add_spaces_in_input/checkpoint-2000\n",
      "Configuration saved in NEL_model_shuffled_add_spaces_in_input/checkpoint-2000/config.json\n",
      "Model weights saved in NEL_model_shuffled_add_spaces_in_input/checkpoint-2000/pytorch_model.bin\n",
      "/home/HadyElkady/miniconda3/lib/python3.7/site-packages/torch/nn/parallel/_functions.py:68: UserWarning: Was asked to gather along dimension 0, but all input tensors were scalars; will instead unsqueeze and return a vector.\n",
      "  warnings.warn('Was asked to gather along dimension 0, but all '\n",
      "***** Running Evaluation *****\n",
      "  Num examples = 14406\n",
      "  Batch size = 16\n",
      "Saving model checkpoint to NEL_model_shuffled_add_spaces_in_input/checkpoint-3000\n",
      "Configuration saved in NEL_model_shuffled_add_spaces_in_input/checkpoint-3000/config.json\n",
      "Model weights saved in NEL_model_shuffled_add_spaces_in_input/checkpoint-3000/pytorch_model.bin\n",
      "/home/HadyElkady/miniconda3/lib/python3.7/site-packages/torch/nn/parallel/_functions.py:68: UserWarning: Was asked to gather along dimension 0, but all input tensors were scalars; will instead unsqueeze and return a vector.\n",
      "  warnings.warn('Was asked to gather along dimension 0, but all '\n",
      "***** Running Evaluation *****\n",
      "  Num examples = 14406\n",
      "  Batch size = 16\n",
      "Saving model checkpoint to NEL_model_shuffled_add_spaces_in_input/checkpoint-4000\n",
      "Configuration saved in NEL_model_shuffled_add_spaces_in_input/checkpoint-4000/config.json\n",
      "Model weights saved in NEL_model_shuffled_add_spaces_in_input/checkpoint-4000/pytorch_model.bin\n",
      "/home/HadyElkady/miniconda3/lib/python3.7/site-packages/torch/nn/parallel/_functions.py:68: UserWarning: Was asked to gather along dimension 0, but all input tensors were scalars; will instead unsqueeze and return a vector.\n",
      "  warnings.warn('Was asked to gather along dimension 0, but all '\n",
      "***** Running Evaluation *****\n",
      "  Num examples = 14406\n",
      "  Batch size = 16\n",
      "Saving model checkpoint to NEL_model_shuffled_add_spaces_in_input/checkpoint-5000\n",
      "Configuration saved in NEL_model_shuffled_add_spaces_in_input/checkpoint-5000/config.json\n",
      "Model weights saved in NEL_model_shuffled_add_spaces_in_input/checkpoint-5000/pytorch_model.bin\n",
      "/home/HadyElkady/miniconda3/lib/python3.7/site-packages/torch/nn/parallel/_functions.py:68: UserWarning: Was asked to gather along dimension 0, but all input tensors were scalars; will instead unsqueeze and return a vector.\n",
      "  warnings.warn('Was asked to gather along dimension 0, but all '\n",
      "***** Running Evaluation *****\n",
      "  Num examples = 14406\n",
      "  Batch size = 16\n",
      "Saving model checkpoint to NEL_model_shuffled_add_spaces_in_input/checkpoint-6000\n",
      "Configuration saved in NEL_model_shuffled_add_spaces_in_input/checkpoint-6000/config.json\n",
      "Model weights saved in NEL_model_shuffled_add_spaces_in_input/checkpoint-6000/pytorch_model.bin\n",
      "Deleting older checkpoint [NEL_model_shuffled_add_spaces_in_input/checkpoint-1000] due to args.save_total_limit\n",
      "/home/HadyElkady/miniconda3/lib/python3.7/site-packages/torch/nn/parallel/_functions.py:68: UserWarning: Was asked to gather along dimension 0, but all input tensors were scalars; will instead unsqueeze and return a vector.\n",
      "  warnings.warn('Was asked to gather along dimension 0, but all '\n",
      "***** Running Evaluation *****\n",
      "  Num examples = 14406\n",
      "  Batch size = 16\n",
      "Saving model checkpoint to NEL_model_shuffled_add_spaces_in_input/checkpoint-7000\n",
      "Configuration saved in NEL_model_shuffled_add_spaces_in_input/checkpoint-7000/config.json\n",
      "Model weights saved in NEL_model_shuffled_add_spaces_in_input/checkpoint-7000/pytorch_model.bin\n",
      "Deleting older checkpoint [NEL_model_shuffled_add_spaces_in_input/checkpoint-2000] due to args.save_total_limit\n",
      "/home/HadyElkady/miniconda3/lib/python3.7/site-packages/torch/nn/parallel/_functions.py:68: UserWarning: Was asked to gather along dimension 0, but all input tensors were scalars; will instead unsqueeze and return a vector.\n",
      "  warnings.warn('Was asked to gather along dimension 0, but all '\n",
      "***** Running Evaluation *****\n",
      "  Num examples = 14406\n",
      "  Batch size = 16\n",
      "IOPub message rate exceeded.\n",
      "The notebook server will temporarily stop sending output\n",
      "to the client in order to avoid crashing it.\n",
      "To change this limit, set the config variable\n",
      "`--NotebookApp.iopub_msg_rate_limit`.\n",
      "\n",
      "Current values:\n",
      "NotebookApp.iopub_msg_rate_limit=1000.0 (msgs/sec)\n",
      "NotebookApp.rate_limit_window=3.0 (secs)\n",
      "\n"
     ]
    }
   ],
   "source": [
    "trainer.train()"
   ]
  },
  {
   "cell_type": "code",
   "execution_count": 18,
   "id": "375b2f7c",
   "metadata": {},
   "outputs": [
    {
     "name": "stdout",
     "output_type": "stream",
     "text": [
      "finished\n"
     ]
    }
   ],
   "source": [
    "print('finished')"
   ]
  },
  {
   "cell_type": "code",
   "execution_count": 19,
   "id": "56d40ed0",
   "metadata": {},
   "outputs": [],
   "source": [
    "# Num examples = 130395\n",
    "# Num Epochs = 5\n",
    "# Instantaneous batch size per device = 4\n",
    "# Total train batch size (w. parallel, distributed & accumulation) = 12\n",
    "# Gradient Accumulation steps = 1\n",
    "# Total optimization steps = 54335"
   ]
  },
  {
   "cell_type": "code",
   "execution_count": null,
   "id": "cc2bc5e9",
   "metadata": {},
   "outputs": [],
   "source": []
  }
 ],
 "metadata": {
  "kernelspec": {
   "display_name": "Python 3",
   "language": "python",
   "name": "python3"
  },
  "language_info": {
   "codemirror_mode": {
    "name": "ipython",
    "version": 3
   },
   "file_extension": ".py",
   "mimetype": "text/x-python",
   "name": "python",
   "nbconvert_exporter": "python",
   "pygments_lexer": "ipython3",
   "version": "3.7.10"
  }
 },
 "nbformat": 4,
 "nbformat_minor": 5
}
