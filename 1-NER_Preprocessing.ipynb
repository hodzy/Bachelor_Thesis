{
 "cells": [
  {
   "cell_type": "code",
   "execution_count": 1,
   "id": "939f192e",
   "metadata": {},
   "outputs": [],
   "source": [
    "# parsing CoNLL+WikiNEuRal folder\n",
    "\n",
    "from datasets import load_dataset\n",
    "import pandas as pd\n",
    "import re\n",
    "import time\n",
    "import json\n",
    "from sklearn.model_selection import train_test_split\n",
    "import numpy as np"
   ]
  },
  {
   "cell_type": "code",
   "execution_count": 2,
   "id": "fd762fe8",
   "metadata": {},
   "outputs": [],
   "source": [
    "def parse_file_data(path, in_position, pos_position, line_len, sep):\n",
    "    dataset = []\n",
    "    f = open(path, encoding=\"utf8\") \n",
    "    input_sentence = ''\n",
    "    target_output = ''\n",
    "    word_count = 0\n",
    "    NE_count = 0\n",
    "    \n",
    "    for row in f:  \n",
    "        row = row.split(sep)\n",
    "        \n",
    "        if '-DOCSTART-' in row[0]:\n",
    "            continue\n",
    "        \n",
    "        if row[0] == \"\\n\" and input_sentence != \"\": ############# keep in mind, make sure it is correct\n",
    "            if(target_output == ''):\n",
    "                target_output = '**'\n",
    "            dataset.append([input_sentence, target_output, word_count, NE_count])\n",
    "            input_sentence = ''\n",
    "            target_output = ''\n",
    "            word_count = 0\n",
    "            NE_count = 0\n",
    "            continue\n",
    "\n",
    "        if len(row) <line_len:\n",
    "            continue\n",
    "        elif len(row) != line_len:\n",
    "            print(\"something is wrong, length is diff: \", row)\n",
    "        \n",
    "        # to remove the '\\n' at the end\n",
    "        if row[-1] == '\\n':\n",
    "            row = row[:-1]\n",
    "        elif '\\n' in row[-1]:\n",
    "            row[-1] = row[-1].replace('\\n', '')\n",
    "\n",
    "        word = row[in_position]\n",
    "        pos_tag = row[pos_position]\n",
    "        \n",
    "        # adding word to input sentence\n",
    "        if input_sentence == \"\": \n",
    "            input_sentence = word\n",
    "        else:\n",
    "            if word == \"'s\" and pos_tag.startswith('I-'):\n",
    "                input_sentence = input_sentence + word\n",
    "            else: \n",
    "                input_sentence = input_sentence + \" \" + word\n",
    "        \n",
    "        if len(re.sub(r'[\\W\\s]', '', word)):\n",
    "            word_count += 1\n",
    "            \n",
    "        \n",
    "        # adding entity word to target sentence\n",
    "        if pos_tag != 'O': \n",
    "            if len(re.sub(r'[\\W\\s]', '', word)):\n",
    "                NE_count += 1\n",
    "            if target_output == '':\n",
    "                target_output = f'*{word}*'\n",
    "        \n",
    "            elif pos_tag.startswith('B-'):\n",
    "                target_output = f'{target_output},*{word}*'\n",
    "            elif pos_tag.startswith('I-'):\n",
    "                if word == \"'s\":\n",
    "                    target_output = f'{target_output[:-1]}{word}*'\n",
    "                else:\n",
    "                    target_output = f'{target_output[:-1]} {word}*'\n",
    "            else: \n",
    "                print('error')\n",
    "                print(pos_tag)      \n",
    "    f.close()\n",
    "\n",
    "    parsed_data = pd.DataFrame(dataset, columns=['input_text', 'target_text', 'word_count', 'NE_count'])\n",
    "    return parsed_data"
   ]
  },
  {
   "cell_type": "code",
   "execution_count": 3,
   "id": "3fba5858",
   "metadata": {},
   "outputs": [],
   "source": [
    "def read_hugging_face_data(row):\n",
    "    input_sentence = ''\n",
    "    target_output = ''\n",
    "    NE_count = 0\n",
    "    word_count = len(row['tokens'])\n",
    "    \n",
    "    for i in range(word_count):    \n",
    "        word = row['tokens'][i]\n",
    "        pos_tag = row['ner_tags'][i]\n",
    "        \n",
    "        # adding word to input sentence\n",
    "        if input_sentence == '': \n",
    "            input_sentence = word\n",
    "        else:\n",
    "            if word == \"'s\" and pos_tag!=0 and pos_tag%2:\n",
    "                input_sentence = input_sentence + word\n",
    "            else: \n",
    "                input_sentence = input_sentence + \" \" + word\n",
    "            \n",
    "        # adding entity word to target sentence\n",
    "        if pos_tag != 0: \n",
    "            if len(re.sub(r'[\\W\\s]', '', word)):\n",
    "                NE_count += 1\n",
    "            if target_output == '':\n",
    "                target_output = f'*{word}*'\n",
    "        \n",
    "            elif pos_tag%2:\n",
    "                target_output = f'{target_output},*{word}*'\n",
    "            elif not(pos_tag%2):\n",
    "                if word == \"'s\":\n",
    "                    target_output = f'{target_output[:-1]}{word}*'\n",
    "                else:\n",
    "                    target_output = f'{target_output[:-1]} {word}*'\n",
    "            else: \n",
    "                print('error')\n",
    "                print(pos_tag)      \n",
    "    if not target_output:\n",
    "        target_output = '**'\n",
    "    return pd.Series([input_sentence, target_output, word_count, NE_count])"
   ]
  },
  {
   "cell_type": "code",
   "execution_count": 4,
   "id": "97af257f",
   "metadata": {},
   "outputs": [],
   "source": [
    "def read_onto_dataset():\n",
    "    dataset = {'input_text':[], 'target_text': [], 'word_count': [], 'NE_count': []}\n",
    "    with open('./1-NER_Data/0-raw_data/ontoNotes_5.0/ontonotes5.json', encoding=\"utf8\") as f:\n",
    "        # returns JSON object as a dictionary\n",
    "        data = json.load(f)\n",
    "        \n",
    "    for sent in data['TRAINING']:\n",
    "        if sent['language'] != 'english':\n",
    "            continue\n",
    "        \n",
    "        ne_count = 0\n",
    "        input_sent = sent['text']\n",
    "        word_count = len(sent['text'].split())\n",
    "        target_ent = ''\n",
    "        for entities in sent['entities'].values():\n",
    "            ne_count += 1\n",
    "            for (i,j) in entities:\n",
    "                target_ent = f'{target_ent}*{input_sent[i:j]}*,'\n",
    "\n",
    "        dataset['input_text'].append(input_sent)\n",
    "        if not target_ent:\n",
    "            target_ent = '**'\n",
    "        else:\n",
    "            target_ent = target_ent[:-1]\n",
    "        dataset['target_text'].append(target_ent)\n",
    "        dataset['word_count'].append(word_count)\n",
    "        dataset['NE_count'].append(ne_count)\n",
    "    return pd.DataFrame(dataset) "
   ]
  },
  {
   "cell_type": "code",
   "execution_count": 5,
   "id": "d058a8b0",
   "metadata": {},
   "outputs": [],
   "source": [
    "def add_per_NE_sent(data):\n",
    "    data['%_NE_in_sentence'] = round(data['NE_count']/ data['word_count'], 1)\n",
    "    return data"
   ]
  },
  {
   "cell_type": "code",
   "execution_count": 6,
   "id": "77e28e5a",
   "metadata": {},
   "outputs": [],
   "source": [
    "# expects a dataframe\n",
    "def lower_case_df(data):\n",
    "    low_input_text = data[\"input_text\"].str.lower()\n",
    "    low_target_text = data[\"target_text\"].str.lower()\n",
    "    return create_dataframe(low_input_text, low_target_text)"
   ]
  },
  {
   "cell_type": "code",
   "execution_count": 7,
   "id": "909ec5eb",
   "metadata": {},
   "outputs": [],
   "source": [
    "# expects a dataframe\n",
    "def upper_case_df(data):\n",
    "    upper_input_text = data[\"input_text\"].str.upper()\n",
    "    upper_target_text = data[\"target_text\"].str.upper()\n",
    "    return create_dataframe(upper_input_text, upper_target_text)"
   ]
  },
  {
   "cell_type": "code",
   "execution_count": 8,
   "id": "cc800b79",
   "metadata": {},
   "outputs": [],
   "source": [
    "def create_dataframe(input_sent, target_sent):\n",
    "    data = []\n",
    "    for input_text, target_text in zip(input_sent, target_sent):\n",
    "        data.append([input_text, target_text])\n",
    "\n",
    "    return pd.DataFrame(data, columns=['input_text', 'target_text'])"
   ]
  },
  {
   "cell_type": "markdown",
   "id": "0476a342",
   "metadata": {},
   "source": [
    "## Reading the onto_data and splitting the data into training, validation and test sets"
   ]
  },
  {
   "cell_type": "code",
   "execution_count": 9,
   "id": "7444b4b1",
   "metadata": {},
   "outputs": [],
   "source": [
    "onto_data = read_onto_dataset()\n",
    "onto_data = onto_data.sample(frac=1, random_state=1).reset_index(drop=True)\n",
    "onto_training, onto_test = train_test_split(onto_data, test_size=0.3)\n",
    "onto_test, onto_val = train_test_split(onto_test, test_size=0.5)"
   ]
  },
  {
   "cell_type": "markdown",
   "id": "ce40b295",
   "metadata": {},
   "source": [
    "# Training data"
   ]
  },
  {
   "cell_type": "markdown",
   "id": "340c0726",
   "metadata": {},
   "source": [
    "### Read the data from either txt files or from huggingface dataset and converting each to target form  --->  [input_text, target_text, word_count, NE_count] "
   ]
  },
  {
   "cell_type": "code",
   "execution_count": 10,
   "id": "37771c60",
   "metadata": {},
   "outputs": [],
   "source": [
    "# CoNLL2003++ training dataset\n",
    "\n",
    "conellpp_training = parse_file_data(\"./1-NER_data/0-raw_data/coNLL2003pp/conllpp_train.txt\", in_position=0, pos_position=3, line_len=4, sep=' ')\n",
    "# conellpp_training"
   ]
  },
  {
   "cell_type": "code",
   "execution_count": 11,
   "id": "fe583e7b",
   "metadata": {},
   "outputs": [],
   "source": [
    "# wikineural training dataset\n",
    "\n",
    "wikineural_training = parse_file_data(\"./1-NER_data/0-raw_data/wikineural/train.conllu.txt\", 1, 2, 3, '\\t')\n",
    "# wikineural_training"
   ]
  },
  {
   "cell_type": "code",
   "execution_count": 12,
   "id": "b0312c91",
   "metadata": {},
   "outputs": [],
   "source": [
    "# OntoNotes 5.0 training dataset refer section above"
   ]
  },
  {
   "cell_type": "code",
   "execution_count": 13,
   "id": "91019ecf",
   "metadata": {},
   "outputs": [
    {
     "name": "stderr",
     "output_type": "stream",
     "text": [
      "Reusing dataset wnut_17 (C:\\Users\\hadye\\.cache\\huggingface\\datasets\\wnut_17\\wnut_17\\1.0.0\\077c7f08b8dbc800692e8c9186cdf3606d5849ab0e7be662e6135bb10eba54f9)\n"
     ]
    },
    {
     "data": {
      "text/html": [
       "<div>\n",
       "<style scoped>\n",
       "    .dataframe tbody tr th:only-of-type {\n",
       "        vertical-align: middle;\n",
       "    }\n",
       "\n",
       "    .dataframe tbody tr th {\n",
       "        vertical-align: top;\n",
       "    }\n",
       "\n",
       "    .dataframe thead th {\n",
       "        text-align: right;\n",
       "    }\n",
       "</style>\n",
       "<table border=\"1\" class=\"dataframe\">\n",
       "  <thead>\n",
       "    <tr style=\"text-align: right;\">\n",
       "      <th></th>\n",
       "      <th>input_text</th>\n",
       "      <th>target_text</th>\n",
       "      <th>word_count</th>\n",
       "      <th>NE_count</th>\n",
       "    </tr>\n",
       "  </thead>\n",
       "  <tbody>\n",
       "    <tr>\n",
       "      <th>0</th>\n",
       "      <td>@paulwalk It 's the view from where I 'm livin...</td>\n",
       "      <td>*Empire State Building*,*ESB*</td>\n",
       "      <td>27</td>\n",
       "      <td>4</td>\n",
       "    </tr>\n",
       "    <tr>\n",
       "      <th>1</th>\n",
       "      <td>From Green Newsfeed : AHFA extends deadline fo...</td>\n",
       "      <td>*AHFA*</td>\n",
       "      <td>15</td>\n",
       "      <td>1</td>\n",
       "    </tr>\n",
       "    <tr>\n",
       "      <th>2</th>\n",
       "      <td>Pxleyes Top 50 Photography Contest Pictures of...</td>\n",
       "      <td>*Pxleyes*</td>\n",
       "      <td>12</td>\n",
       "      <td>1</td>\n",
       "    </tr>\n",
       "    <tr>\n",
       "      <th>3</th>\n",
       "      <td>today is my last day at the office .</td>\n",
       "      <td>**</td>\n",
       "      <td>9</td>\n",
       "      <td>0</td>\n",
       "    </tr>\n",
       "    <tr>\n",
       "      <th>4</th>\n",
       "      <td>4Dbling 's place til monday , party party part...</td>\n",
       "      <td>*4Dbling*</td>\n",
       "      <td>12</td>\n",
       "      <td>1</td>\n",
       "    </tr>\n",
       "    <tr>\n",
       "      <th>...</th>\n",
       "      <td>...</td>\n",
       "      <td>...</td>\n",
       "      <td>...</td>\n",
       "      <td>...</td>\n",
       "    </tr>\n",
       "    <tr>\n",
       "      <th>3389</th>\n",
       "      <td>@null http://t.co/3O3Z3xyNC0 December 25 , 201...</td>\n",
       "      <td>**</td>\n",
       "      <td>12</td>\n",
       "      <td>0</td>\n",
       "    </tr>\n",
       "    <tr>\n",
       "      <th>3390</th>\n",
       "      <td>On January 22nd , from 11- 1.30 , TVPS will be...</td>\n",
       "      <td>*TVPS*</td>\n",
       "      <td>26</td>\n",
       "      <td>1</td>\n",
       "    </tr>\n",
       "    <tr>\n",
       "      <th>3391</th>\n",
       "      <td>Found this cool photo , not mine Love this guy...</td>\n",
       "      <td>**</td>\n",
       "      <td>25</td>\n",
       "      <td>0</td>\n",
       "    </tr>\n",
       "    <tr>\n",
       "      <th>3392</th>\n",
       "      <td>Conditioning plan all made up for tomorrow , f...</td>\n",
       "      <td>**</td>\n",
       "      <td>15</td>\n",
       "      <td>0</td>\n",
       "    </tr>\n",
       "    <tr>\n",
       "      <th>3393</th>\n",
       "      <td>Sat Jan 10 2015 12:46 : 39 GMT+0000 ( UTC )</td>\n",
       "      <td>**</td>\n",
       "      <td>11</td>\n",
       "      <td>0</td>\n",
       "    </tr>\n",
       "  </tbody>\n",
       "</table>\n",
       "<p>3394 rows × 4 columns</p>\n",
       "</div>"
      ],
      "text/plain": [
       "                                             input_text  \\\n",
       "0     @paulwalk It 's the view from where I 'm livin...   \n",
       "1     From Green Newsfeed : AHFA extends deadline fo...   \n",
       "2     Pxleyes Top 50 Photography Contest Pictures of...   \n",
       "3                  today is my last day at the office .   \n",
       "4     4Dbling 's place til monday , party party part...   \n",
       "...                                                 ...   \n",
       "3389  @null http://t.co/3O3Z3xyNC0 December 25 , 201...   \n",
       "3390  On January 22nd , from 11- 1.30 , TVPS will be...   \n",
       "3391  Found this cool photo , not mine Love this guy...   \n",
       "3392  Conditioning plan all made up for tomorrow , f...   \n",
       "3393        Sat Jan 10 2015 12:46 : 39 GMT+0000 ( UTC )   \n",
       "\n",
       "                        target_text  word_count  NE_count  \n",
       "0     *Empire State Building*,*ESB*          27         4  \n",
       "1                            *AHFA*          15         1  \n",
       "2                         *Pxleyes*          12         1  \n",
       "3                                **           9         0  \n",
       "4                         *4Dbling*          12         1  \n",
       "...                             ...         ...       ...  \n",
       "3389                             **          12         0  \n",
       "3390                         *TVPS*          26         1  \n",
       "3391                             **          25         0  \n",
       "3392                             **          15         0  \n",
       "3393                             **          11         0  \n",
       "\n",
       "[3394 rows x 4 columns]"
      ]
     },
     "execution_count": 13,
     "metadata": {},
     "output_type": "execute_result"
    }
   ],
   "source": [
    "# wnut_17 training dataset\n",
    "\n",
    "dataset = load_dataset('wnut_17', split='train').to_pandas()\n",
    "wnut_training = pd.DataFrame([])\n",
    "wnut_training[['input_text','target_text','word_count', 'NE_count']] = dataset.apply(read_hugging_face_data, axis=1)\n",
    "wnut_training"
   ]
  },
  {
   "cell_type": "markdown",
   "id": "e856cab3",
   "metadata": {},
   "source": [
    "### Adding entity as percentage of the input sentence"
   ]
  },
  {
   "cell_type": "code",
   "execution_count": 14,
   "id": "78032de7",
   "metadata": {},
   "outputs": [],
   "source": [
    "conellpp_training = add_per_NE_sent(conellpp_training)\n",
    "wikineural_training = add_per_NE_sent(wikineural_training)\n",
    "onto_training = add_per_NE_sent(onto_training)\n",
    "wnut_training = add_per_NE_sent(wnut_training)"
   ]
  },
  {
   "cell_type": "markdown",
   "id": "1a4f8d09",
   "metadata": {},
   "source": [
    "#### conell++ training dataset"
   ]
  },
  {
   "cell_type": "code",
   "execution_count": 15,
   "id": "3eafc6d1",
   "metadata": {
    "scrolled": true
   },
   "outputs": [
    {
     "name": "stdout",
     "output_type": "stream",
     "text": [
      "14041\n",
      "there are 0.2383021152339577 sentences in the range of 0:0.1\n",
      "3346\n"
     ]
    },
    {
     "data": {
      "image/png": "[encoded data removed]",
      "text/plain": [
       "<Figure size 432x288 with 1 Axes>"
      ]
     },
     "metadata": {
      "needs_background": "light"
     },
     "output_type": "display_data"
    }
   ],
   "source": [
    "plot_percent_NE = conellpp_training['%_NE_in_sentence'].value_counts().sort_index()\n",
    "plot_percent_NE.plot(kind='bar')\n",
    "print(len(conellpp_training))\n",
    "print(\"there are\", sum(plot_percent_NE.loc[0:0.01])/len(conellpp_training), \"sentences in the range of 0:0.1\")\n",
    "print(sum(plot_percent_NE.loc[0:0.01]))"
   ]
  },
  {
   "cell_type": "code",
   "execution_count": 16,
   "id": "468b3248",
   "metadata": {
    "scrolled": true
   },
   "outputs": [
    {
     "data": {
      "text/plain": [
       "<AxesSubplot:xlabel='word_count'>"
      ]
     },
     "execution_count": 16,
     "metadata": {},
     "output_type": "execute_result"
    },
    {
     "data": {
      "image/png": "[encoded data removed]",
      "text/plain": [
       "<Figure size 432x288 with 1 Axes>"
      ]
     },
     "metadata": {
      "needs_background": "light"
     },
     "output_type": "display_data"
    }
   ],
   "source": [
    "conellpp_training.groupby(by='word_count')['input_text'].count().head(10).plot(kind='bar')"
   ]
  },
  {
   "cell_type": "code",
   "execution_count": 17,
   "id": "45998061",
   "metadata": {},
   "outputs": [
    {
     "data": {
      "text/html": [
       "<div>\n",
       "<style scoped>\n",
       "    .dataframe tbody tr th:only-of-type {\n",
       "        vertical-align: middle;\n",
       "    }\n",
       "\n",
       "    .dataframe tbody tr th {\n",
       "        vertical-align: top;\n",
       "    }\n",
       "\n",
       "    .dataframe thead th {\n",
       "        text-align: right;\n",
       "    }\n",
       "</style>\n",
       "<table border=\"1\" class=\"dataframe\">\n",
       "  <thead>\n",
       "    <tr style=\"text-align: right;\">\n",
       "      <th></th>\n",
       "      <th>input_text</th>\n",
       "      <th>target_text</th>\n",
       "      <th>word_count</th>\n",
       "      <th>NE_count</th>\n",
       "      <th>%_NE_in_sentence</th>\n",
       "    </tr>\n",
       "  </thead>\n",
       "  <tbody>\n",
       "    <tr>\n",
       "      <th>0</th>\n",
       "      <td>EU rejects German call to boycott British lamb .</td>\n",
       "      <td>*EU*,*German*,*British*</td>\n",
       "      <td>8</td>\n",
       "      <td>3</td>\n",
       "      <td>0.4</td>\n",
       "    </tr>\n",
       "    <tr>\n",
       "      <th>1</th>\n",
       "      <td>Peter Blackburn</td>\n",
       "      <td>*Peter Blackburn*</td>\n",
       "      <td>2</td>\n",
       "      <td>2</td>\n",
       "      <td>1.0</td>\n",
       "    </tr>\n",
       "    <tr>\n",
       "      <th>2</th>\n",
       "      <td>BRUSSELS 1996-08-22</td>\n",
       "      <td>*BRUSSELS*</td>\n",
       "      <td>2</td>\n",
       "      <td>1</td>\n",
       "      <td>0.5</td>\n",
       "    </tr>\n",
       "    <tr>\n",
       "      <th>3</th>\n",
       "      <td>The European Commission said on Thursday it di...</td>\n",
       "      <td>*European Commission*,*German*,*British*</td>\n",
       "      <td>29</td>\n",
       "      <td>4</td>\n",
       "      <td>0.1</td>\n",
       "    </tr>\n",
       "    <tr>\n",
       "      <th>4</th>\n",
       "      <td>Germany 's representative to the European Unio...</td>\n",
       "      <td>*Germany*,*European Union*,*Werner Zwingmann*,...</td>\n",
       "      <td>30</td>\n",
       "      <td>6</td>\n",
       "      <td>0.2</td>\n",
       "    </tr>\n",
       "    <tr>\n",
       "      <th>...</th>\n",
       "      <td>...</td>\n",
       "      <td>...</td>\n",
       "      <td>...</td>\n",
       "      <td>...</td>\n",
       "      <td>...</td>\n",
       "    </tr>\n",
       "    <tr>\n",
       "      <th>13985</th>\n",
       "      <td>on Friday :</td>\n",
       "      <td>**</td>\n",
       "      <td>2</td>\n",
       "      <td>0</td>\n",
       "      <td>0.0</td>\n",
       "    </tr>\n",
       "    <tr>\n",
       "      <th>13986</th>\n",
       "      <td>Division two</td>\n",
       "      <td>**</td>\n",
       "      <td>2</td>\n",
       "      <td>0</td>\n",
       "      <td>0.0</td>\n",
       "    </tr>\n",
       "    <tr>\n",
       "      <th>13987</th>\n",
       "      <td>Plymouth 2 Preston 1</td>\n",
       "      <td>*Plymouth*,*Preston*</td>\n",
       "      <td>4</td>\n",
       "      <td>2</td>\n",
       "      <td>0.5</td>\n",
       "    </tr>\n",
       "    <tr>\n",
       "      <th>13988</th>\n",
       "      <td>Division three</td>\n",
       "      <td>**</td>\n",
       "      <td>2</td>\n",
       "      <td>0</td>\n",
       "      <td>0.0</td>\n",
       "    </tr>\n",
       "    <tr>\n",
       "      <th>13989</th>\n",
       "      <td>Swansea 1 Lincoln 2</td>\n",
       "      <td>*Swansea*,*Lincoln*</td>\n",
       "      <td>4</td>\n",
       "      <td>2</td>\n",
       "      <td>0.5</td>\n",
       "    </tr>\n",
       "  </tbody>\n",
       "</table>\n",
       "<p>13990 rows × 5 columns</p>\n",
       "</div>"
      ],
      "text/plain": [
       "                                              input_text  \\\n",
       "0       EU rejects German call to boycott British lamb .   \n",
       "1                                        Peter Blackburn   \n",
       "2                                    BRUSSELS 1996-08-22   \n",
       "3      The European Commission said on Thursday it di...   \n",
       "4      Germany 's representative to the European Unio...   \n",
       "...                                                  ...   \n",
       "13985                                        on Friday :   \n",
       "13986                                       Division two   \n",
       "13987                               Plymouth 2 Preston 1   \n",
       "13988                                     Division three   \n",
       "13989                                Swansea 1 Lincoln 2   \n",
       "\n",
       "                                             target_text  word_count  \\\n",
       "0                                *EU*,*German*,*British*           8   \n",
       "1                                      *Peter Blackburn*           2   \n",
       "2                                             *BRUSSELS*           2   \n",
       "3               *European Commission*,*German*,*British*          29   \n",
       "4      *Germany*,*European Union*,*Werner Zwingmann*,...          30   \n",
       "...                                                  ...         ...   \n",
       "13985                                                 **           2   \n",
       "13986                                                 **           2   \n",
       "13987                               *Plymouth*,*Preston*           4   \n",
       "13988                                                 **           2   \n",
       "13989                                *Swansea*,*Lincoln*           4   \n",
       "\n",
       "       NE_count  %_NE_in_sentence  \n",
       "0             3               0.4  \n",
       "1             2               1.0  \n",
       "2             1               0.5  \n",
       "3             4               0.1  \n",
       "4             6               0.2  \n",
       "...         ...               ...  \n",
       "13985         0               0.0  \n",
       "13986         0               0.0  \n",
       "13987         2               0.5  \n",
       "13988         0               0.0  \n",
       "13989         2               0.5  \n",
       "\n",
       "[13990 rows x 5 columns]"
      ]
     },
     "execution_count": 17,
     "metadata": {},
     "output_type": "execute_result"
    }
   ],
   "source": [
    "conellpp_training = conellpp_training.drop(conellpp_training.loc[conellpp_training['word_count'] == 0].index).reset_index(drop=True)\n",
    "conellpp_training"
   ]
  },
  {
   "cell_type": "markdown",
   "id": "f098bab1",
   "metadata": {},
   "source": [
    "#### Wikineiral training dataset"
   ]
  },
  {
   "cell_type": "code",
   "execution_count": 18,
   "id": "28810a32",
   "metadata": {
    "scrolled": true
   },
   "outputs": [
    {
     "name": "stdout",
     "output_type": "stream",
     "text": [
      "92720\n",
      "there are 0.14910483175150993 sentences in the range of 0:0.1\n",
      "13825\n"
     ]
    },
    {
     "data": {
      "image/png": "[encoded data removed]",
      "text/plain": [
       "<Figure size 432x288 with 1 Axes>"
      ]
     },
     "metadata": {
      "needs_background": "light"
     },
     "output_type": "display_data"
    }
   ],
   "source": [
    "plot_percent_NE = wikineural_training['%_NE_in_sentence'].value_counts().sort_index()\n",
    "plot_percent_NE.plot(kind='bar')\n",
    "print(len(wikineural_training))\n",
    "print(\"there are\", sum(plot_percent_NE.loc[0:0.01])/len(wikineural_training), \"sentences in the range of 0:0.1\")\n",
    "print(sum(plot_percent_NE.loc[0:0.01]))"
   ]
  },
  {
   "cell_type": "code",
   "execution_count": 19,
   "id": "c359f274",
   "metadata": {},
   "outputs": [
    {
     "data": {
      "text/plain": [
       "<AxesSubplot:xlabel='word_count'>"
      ]
     },
     "execution_count": 19,
     "metadata": {},
     "output_type": "execute_result"
    },
    {
     "data": {
      "image/png": "[encoded data removed]",
      "text/plain": [
       "<Figure size 432x288 with 1 Axes>"
      ]
     },
     "metadata": {
      "needs_background": "light"
     },
     "output_type": "display_data"
    }
   ],
   "source": [
    "wikineural_training.groupby(by='word_count')['input_text'].count().head(10).plot(kind='bar')"
   ]
  },
  {
   "cell_type": "markdown",
   "id": "7383d626",
   "metadata": {},
   "source": [
    "#### Onto training dataset"
   ]
  },
  {
   "cell_type": "code",
   "execution_count": 20,
   "id": "597502e2",
   "metadata": {},
   "outputs": [
    {
     "name": "stdout",
     "output_type": "stream",
     "text": [
      "92386\n",
      "there are 0.6273894312991146 sentences in the range of 0:0.1\n",
      "57962\n"
     ]
    },
    {
     "data": {
      "image/png": "[encoded data removed]",
      "text/plain": [
       "<Figure size 432x288 with 1 Axes>"
      ]
     },
     "metadata": {
      "needs_background": "light"
     },
     "output_type": "display_data"
    }
   ],
   "source": [
    "plot_percent_NE = onto_training['%_NE_in_sentence'].value_counts().sort_index()\n",
    "plot_percent_NE.plot(kind='bar')\n",
    "print(len(onto_training))\n",
    "print(\"there are\", sum(plot_percent_NE.loc[0:0.01])/len(onto_training), \"sentences in the range of 0:0.1\")\n",
    "print(sum(plot_percent_NE.loc[0:0.01]))"
   ]
  },
  {
   "cell_type": "code",
   "execution_count": 21,
   "id": "deb6cfdb",
   "metadata": {},
   "outputs": [
    {
     "data": {
      "text/html": [
       "<div>\n",
       "<style scoped>\n",
       "    .dataframe tbody tr th:only-of-type {\n",
       "        vertical-align: middle;\n",
       "    }\n",
       "\n",
       "    .dataframe tbody tr th {\n",
       "        vertical-align: top;\n",
       "    }\n",
       "\n",
       "    .dataframe thead th {\n",
       "        text-align: right;\n",
       "    }\n",
       "</style>\n",
       "<table border=\"1\" class=\"dataframe\">\n",
       "  <thead>\n",
       "    <tr style=\"text-align: right;\">\n",
       "      <th></th>\n",
       "      <th>input_text</th>\n",
       "      <th>target_text</th>\n",
       "      <th>word_count</th>\n",
       "      <th>NE_count</th>\n",
       "      <th>%_NE_in_sentence</th>\n",
       "    </tr>\n",
       "  </thead>\n",
       "  <tbody>\n",
       "    <tr>\n",
       "      <th>0</th>\n",
       "      <td>Accelerating the pace of structural reform wil...</td>\n",
       "      <td>*European*</td>\n",
       "      <td>43</td>\n",
       "      <td>1</td>\n",
       "      <td>0.0</td>\n",
       "    </tr>\n",
       "    <tr>\n",
       "      <th>1</th>\n",
       "      <td>God made us free from the power of darkness.</td>\n",
       "      <td>**</td>\n",
       "      <td>9</td>\n",
       "      <td>0</td>\n",
       "      <td>0.0</td>\n",
       "    </tr>\n",
       "    <tr>\n",
       "      <th>2</th>\n",
       "      <td>`` We may not have every manufacturing problem...</td>\n",
       "      <td>*IBM*,*George Conrades*</td>\n",
       "      <td>20</td>\n",
       "      <td>2</td>\n",
       "      <td>0.1</td>\n",
       "    </tr>\n",
       "    <tr>\n",
       "      <th>3</th>\n",
       "      <td>Many investors have nagging worries, however.</td>\n",
       "      <td>**</td>\n",
       "      <td>6</td>\n",
       "      <td>0</td>\n",
       "      <td>0.0</td>\n",
       "    </tr>\n",
       "    <tr>\n",
       "      <th>4</th>\n",
       "      <td>But using bad arguments against others that co...</td>\n",
       "      <td>**</td>\n",
       "      <td>19</td>\n",
       "      <td>0</td>\n",
       "      <td>0.0</td>\n",
       "    </tr>\n",
       "    <tr>\n",
       "      <th>...</th>\n",
       "      <td>...</td>\n",
       "      <td>...</td>\n",
       "      <td>...</td>\n",
       "      <td>...</td>\n",
       "      <td>...</td>\n",
       "    </tr>\n",
       "    <tr>\n",
       "      <th>53740</th>\n",
       "      <td>In the same way, the new agreement that Jesus ...</td>\n",
       "      <td>**</td>\n",
       "      <td>22</td>\n",
       "      <td>0</td>\n",
       "      <td>0.0</td>\n",
       "    </tr>\n",
       "    <tr>\n",
       "      <th>53741</th>\n",
       "      <td>In the old days, Tanshui folk who cultivated f...</td>\n",
       "      <td>*Tanshui*,*an hour*</td>\n",
       "      <td>23</td>\n",
       "      <td>2</td>\n",
       "      <td>0.1</td>\n",
       "    </tr>\n",
       "    <tr>\n",
       "      <th>53742</th>\n",
       "      <td>Instead of replicating the S&amp;P 500 or some oth...</td>\n",
       "      <td>**</td>\n",
       "      <td>20</td>\n",
       "      <td>0</td>\n",
       "      <td>0.0</td>\n",
       "    </tr>\n",
       "    <tr>\n",
       "      <th>53743</th>\n",
       "      <td>Many Atlantans thought Pittsburgh was an unwor...</td>\n",
       "      <td>*Pittsburgh*,*Atlantans*</td>\n",
       "      <td>8</td>\n",
       "      <td>2</td>\n",
       "      <td>0.2</td>\n",
       "    </tr>\n",
       "    <tr>\n",
       "      <th>53744</th>\n",
       "      <td>In a major rebuke this week to the White house...</td>\n",
       "      <td>*this week*,*the Geneva convention*,*the White...</td>\n",
       "      <td>46</td>\n",
       "      <td>3</td>\n",
       "      <td>0.1</td>\n",
       "    </tr>\n",
       "  </tbody>\n",
       "</table>\n",
       "<p>53745 rows × 5 columns</p>\n",
       "</div>"
      ],
      "text/plain": [
       "                                              input_text  \\\n",
       "0      Accelerating the pace of structural reform wil...   \n",
       "1           God made us free from the power of darkness.   \n",
       "2      `` We may not have every manufacturing problem...   \n",
       "3          Many investors have nagging worries, however.   \n",
       "4      But using bad arguments against others that co...   \n",
       "...                                                  ...   \n",
       "53740  In the same way, the new agreement that Jesus ...   \n",
       "53741  In the old days, Tanshui folk who cultivated f...   \n",
       "53742  Instead of replicating the S&P 500 or some oth...   \n",
       "53743  Many Atlantans thought Pittsburgh was an unwor...   \n",
       "53744  In a major rebuke this week to the White house...   \n",
       "\n",
       "                                             target_text  word_count  \\\n",
       "0                                             *European*          43   \n",
       "1                                                     **           9   \n",
       "2                                *IBM*,*George Conrades*          20   \n",
       "3                                                     **           6   \n",
       "4                                                     **          19   \n",
       "...                                                  ...         ...   \n",
       "53740                                                 **          22   \n",
       "53741                                *Tanshui*,*an hour*          23   \n",
       "53742                                                 **          20   \n",
       "53743                           *Pittsburgh*,*Atlantans*           8   \n",
       "53744  *this week*,*the Geneva convention*,*the White...          46   \n",
       "\n",
       "       NE_count  %_NE_in_sentence  \n",
       "0             1               0.0  \n",
       "1             0               0.0  \n",
       "2             2               0.1  \n",
       "3             0               0.0  \n",
       "4             0               0.0  \n",
       "...         ...               ...  \n",
       "53740         0               0.0  \n",
       "53741         2               0.1  \n",
       "53742         0               0.0  \n",
       "53743         2               0.2  \n",
       "53744         3               0.1  \n",
       "\n",
       "[53745 rows x 5 columns]"
      ]
     },
     "execution_count": 21,
     "metadata": {},
     "output_type": "execute_result"
    }
   ],
   "source": [
    "# dropping half of the rows with zero entities randomly\n",
    "\n",
    "np.random.seed(10)\n",
    "zero_entities = onto_training.loc[onto_training['%_NE_in_sentence']==0].index\n",
    "#TODO: take 1/5 of the entities with 0 entities .. so that the overall (combined) dataset has less than or equal to 15%\n",
    "remove_n = round(len(zero_entities)*2/3)\n",
    "\n",
    "\n",
    "drop_indices = np.random.choice(zero_entities, remove_n, replace=False)\n",
    "onto_training = onto_training.drop(drop_indices).reset_index(drop=True)\n",
    "onto_training"
   ]
  },
  {
   "cell_type": "code",
   "execution_count": 22,
   "id": "889d9a8e",
   "metadata": {},
   "outputs": [
    {
     "name": "stdout",
     "output_type": "stream",
     "text": [
      "53745\n",
      "there are 0.3594939064098986 sentences in the range of 0:0.1\n",
      "19321\n"
     ]
    },
    {
     "data": {
      "image/png": "[encoded data removed]",
      "text/plain": [
       "<Figure size 432x288 with 1 Axes>"
      ]
     },
     "metadata": {
      "needs_background": "light"
     },
     "output_type": "display_data"
    }
   ],
   "source": [
    "plot_percent_NE = onto_training['%_NE_in_sentence'].value_counts().sort_index()\n",
    "plot_percent_NE.plot(kind='bar')\n",
    "print(len(onto_training))\n",
    "print(\"there are\", sum(plot_percent_NE.loc[0:0.01])/len(onto_training), \"sentences in the range of 0:0.1\")\n",
    "print(sum(plot_percent_NE.loc[0:0.01]))"
   ]
  },
  {
   "cell_type": "code",
   "execution_count": 23,
   "id": "d94b25c4",
   "metadata": {},
   "outputs": [
    {
     "data": {
      "text/plain": [
       "<AxesSubplot:xlabel='word_count'>"
      ]
     },
     "execution_count": 23,
     "metadata": {},
     "output_type": "execute_result"
    },
    {
     "data": {
      "image/png": "[encoded data removed]",
      "text/plain": [
       "<Figure size 432x288 with 1 Axes>"
      ]
     },
     "metadata": {
      "needs_background": "light"
     },
     "output_type": "display_data"
    }
   ],
   "source": [
    "onto_training.groupby(by='word_count')['input_text'].count().head(10).plot(kind='bar')"
   ]
  },
  {
   "cell_type": "markdown",
   "id": "589dfed6",
   "metadata": {},
   "source": [
    "#### wnut17 training"
   ]
  },
  {
   "cell_type": "code",
   "execution_count": 24,
   "id": "c7275374",
   "metadata": {
    "scrolled": true
   },
   "outputs": [
    {
     "name": "stdout",
     "output_type": "stream",
     "text": [
      "3394\n",
      "there are 0.710371243370654 sentences in the range of 0:0.1\n",
      "2411\n"
     ]
    },
    {
     "data": {
      "image/png": "[encoded data removed]",
      "text/plain": [
       "<Figure size 432x288 with 1 Axes>"
      ]
     },
     "metadata": {
      "needs_background": "light"
     },
     "output_type": "display_data"
    }
   ],
   "source": [
    "plot_percent_NE = wnut_training['%_NE_in_sentence'].value_counts().sort_index()\n",
    "plot_percent_NE.plot(kind='bar')\n",
    "print(len(wnut_training))\n",
    "print(\"there are\", sum(plot_percent_NE.loc[0:0.01])/len(wnut_training), \"sentences in the range of 0:0.1\")\n",
    "print(sum(plot_percent_NE.loc[0:0.01]))"
   ]
  },
  {
   "cell_type": "code",
   "execution_count": 25,
   "id": "09b35014",
   "metadata": {},
   "outputs": [
    {
     "data": {
      "text/html": [
       "<div>\n",
       "<style scoped>\n",
       "    .dataframe tbody tr th:only-of-type {\n",
       "        vertical-align: middle;\n",
       "    }\n",
       "\n",
       "    .dataframe tbody tr th {\n",
       "        vertical-align: top;\n",
       "    }\n",
       "\n",
       "    .dataframe thead th {\n",
       "        text-align: right;\n",
       "    }\n",
       "</style>\n",
       "<table border=\"1\" class=\"dataframe\">\n",
       "  <thead>\n",
       "    <tr style=\"text-align: right;\">\n",
       "      <th></th>\n",
       "      <th>input_text</th>\n",
       "      <th>target_text</th>\n",
       "      <th>word_count</th>\n",
       "      <th>NE_count</th>\n",
       "      <th>%_NE_in_sentence</th>\n",
       "    </tr>\n",
       "  </thead>\n",
       "  <tbody>\n",
       "    <tr>\n",
       "      <th>0</th>\n",
       "      <td>@paulwalk It 's the view from where I 'm livin...</td>\n",
       "      <td>*Empire State Building*,*ESB*</td>\n",
       "      <td>27</td>\n",
       "      <td>4</td>\n",
       "      <td>0.1</td>\n",
       "    </tr>\n",
       "    <tr>\n",
       "      <th>1</th>\n",
       "      <td>From Green Newsfeed : AHFA extends deadline fo...</td>\n",
       "      <td>*AHFA*</td>\n",
       "      <td>15</td>\n",
       "      <td>1</td>\n",
       "      <td>0.1</td>\n",
       "    </tr>\n",
       "    <tr>\n",
       "      <th>2</th>\n",
       "      <td>Pxleyes Top 50 Photography Contest Pictures of...</td>\n",
       "      <td>*Pxleyes*</td>\n",
       "      <td>12</td>\n",
       "      <td>1</td>\n",
       "      <td>0.1</td>\n",
       "    </tr>\n",
       "    <tr>\n",
       "      <th>3</th>\n",
       "      <td>today is my last day at the office .</td>\n",
       "      <td>**</td>\n",
       "      <td>9</td>\n",
       "      <td>0</td>\n",
       "      <td>0.0</td>\n",
       "    </tr>\n",
       "    <tr>\n",
       "      <th>4</th>\n",
       "      <td>4Dbling 's place til monday , party party part...</td>\n",
       "      <td>*4Dbling*</td>\n",
       "      <td>12</td>\n",
       "      <td>1</td>\n",
       "      <td>0.1</td>\n",
       "    </tr>\n",
       "    <tr>\n",
       "      <th>...</th>\n",
       "      <td>...</td>\n",
       "      <td>...</td>\n",
       "      <td>...</td>\n",
       "      <td>...</td>\n",
       "      <td>...</td>\n",
       "    </tr>\n",
       "    <tr>\n",
       "      <th>1782</th>\n",
       "      <td>\" @Mackenzie_71 : Super Bowl Sunday \"</td>\n",
       "      <td>**</td>\n",
       "      <td>7</td>\n",
       "      <td>0</td>\n",
       "      <td>0.0</td>\n",
       "    </tr>\n",
       "    <tr>\n",
       "      <th>1783</th>\n",
       "      <td>Watch Barrow - Boston United Live December 20 ...</td>\n",
       "      <td>*Barrow*,*Boston United*</td>\n",
       "      <td>11</td>\n",
       "      <td>3</td>\n",
       "      <td>0.3</td>\n",
       "    </tr>\n",
       "    <tr>\n",
       "      <th>1784</th>\n",
       "      <td>On January 22nd , from 11- 1.30 , TVPS will be...</td>\n",
       "      <td>*TVPS*</td>\n",
       "      <td>26</td>\n",
       "      <td>1</td>\n",
       "      <td>0.0</td>\n",
       "    </tr>\n",
       "    <tr>\n",
       "      <th>1785</th>\n",
       "      <td>Conditioning plan all made up for tomorrow , f...</td>\n",
       "      <td>**</td>\n",
       "      <td>15</td>\n",
       "      <td>0</td>\n",
       "      <td>0.0</td>\n",
       "    </tr>\n",
       "    <tr>\n",
       "      <th>1786</th>\n",
       "      <td>Sat Jan 10 2015 12:46 : 39 GMT+0000 ( UTC )</td>\n",
       "      <td>**</td>\n",
       "      <td>11</td>\n",
       "      <td>0</td>\n",
       "      <td>0.0</td>\n",
       "    </tr>\n",
       "  </tbody>\n",
       "</table>\n",
       "<p>1787 rows × 5 columns</p>\n",
       "</div>"
      ],
      "text/plain": [
       "                                             input_text  \\\n",
       "0     @paulwalk It 's the view from where I 'm livin...   \n",
       "1     From Green Newsfeed : AHFA extends deadline fo...   \n",
       "2     Pxleyes Top 50 Photography Contest Pictures of...   \n",
       "3                  today is my last day at the office .   \n",
       "4     4Dbling 's place til monday , party party part...   \n",
       "...                                                 ...   \n",
       "1782              \" @Mackenzie_71 : Super Bowl Sunday \"   \n",
       "1783  Watch Barrow - Boston United Live December 20 ...   \n",
       "1784  On January 22nd , from 11- 1.30 , TVPS will be...   \n",
       "1785  Conditioning plan all made up for tomorrow , f...   \n",
       "1786        Sat Jan 10 2015 12:46 : 39 GMT+0000 ( UTC )   \n",
       "\n",
       "                        target_text  word_count  NE_count  %_NE_in_sentence  \n",
       "0     *Empire State Building*,*ESB*          27         4               0.1  \n",
       "1                            *AHFA*          15         1               0.1  \n",
       "2                         *Pxleyes*          12         1               0.1  \n",
       "3                                **           9         0               0.0  \n",
       "4                         *4Dbling*          12         1               0.1  \n",
       "...                             ...         ...       ...               ...  \n",
       "1782                             **           7         0               0.0  \n",
       "1783       *Barrow*,*Boston United*          11         3               0.3  \n",
       "1784                         *TVPS*          26         1               0.0  \n",
       "1785                             **          15         0               0.0  \n",
       "1786                             **          11         0               0.0  \n",
       "\n",
       "[1787 rows x 5 columns]"
      ]
     },
     "execution_count": 25,
     "metadata": {},
     "output_type": "execute_result"
    }
   ],
   "source": [
    "# dropping half of the rows with zero entities randomly\n",
    "\n",
    "np.random.seed(10)\n",
    "zero_entities = wnut_training.loc[wnut_training['%_NE_in_sentence']==0].index\n",
    "remove_n = round(len(zero_entities)*2/3)\n",
    "\n",
    "drop_indices = np.random.choice(zero_entities, remove_n, replace=False)\n",
    "wnut_training = wnut_training.drop(drop_indices).reset_index(drop=True)\n",
    "wnut_training"
   ]
  },
  {
   "cell_type": "code",
   "execution_count": 26,
   "id": "c7cb35d8",
   "metadata": {},
   "outputs": [
    {
     "name": "stdout",
     "output_type": "stream",
     "text": [
      "1787\n",
      "there are 0.44991606043648574 sentences in the range of 0:0.1\n",
      "804\n"
     ]
    },
    {
     "data": {
      "image/png": "[encoded data removed]",
      "text/plain": [
       "<Figure size 432x288 with 1 Axes>"
      ]
     },
     "metadata": {
      "needs_background": "light"
     },
     "output_type": "display_data"
    }
   ],
   "source": [
    "plot_percent_NE = wnut_training['%_NE_in_sentence'].value_counts().sort_index()\n",
    "plot_percent_NE.plot(kind='bar')\n",
    "print(len(wnut_training))\n",
    "print(\"there are\", sum(plot_percent_NE.loc[0:0.01])/len(wnut_training), \"sentences in the range of 0:0.1\")\n",
    "print(sum(plot_percent_NE.loc[0:0.01]))"
   ]
  },
  {
   "cell_type": "code",
   "execution_count": 27,
   "id": "52e34eb9",
   "metadata": {},
   "outputs": [
    {
     "data": {
      "text/plain": [
       "<AxesSubplot:xlabel='word_count'>"
      ]
     },
     "execution_count": 27,
     "metadata": {},
     "output_type": "execute_result"
    },
    {
     "data": {
      "image/png": "[encoded data removed]",
      "text/plain": [
       "<Figure size 432x288 with 1 Axes>"
      ]
     },
     "metadata": {
      "needs_background": "light"
     },
     "output_type": "display_data"
    }
   ],
   "source": [
    "wnut_training.groupby(by='word_count')['input_text'].count().head(10).plot(kind='bar')"
   ]
  },
  {
   "cell_type": "markdown",
   "id": "97b3b199",
   "metadata": {},
   "source": [
    "### Combining the datasets"
   ]
  },
  {
   "cell_type": "code",
   "execution_count": 28,
   "id": "1be5feea",
   "metadata": {},
   "outputs": [
    {
     "data": {
      "text/html": [
       "<div>\n",
       "<style scoped>\n",
       "    .dataframe tbody tr th:only-of-type {\n",
       "        vertical-align: middle;\n",
       "    }\n",
       "\n",
       "    .dataframe tbody tr th {\n",
       "        vertical-align: top;\n",
       "    }\n",
       "\n",
       "    .dataframe thead th {\n",
       "        text-align: right;\n",
       "    }\n",
       "</style>\n",
       "<table border=\"1\" class=\"dataframe\">\n",
       "  <thead>\n",
       "    <tr style=\"text-align: right;\">\n",
       "      <th></th>\n",
       "      <th>input_text</th>\n",
       "      <th>target_text</th>\n",
       "    </tr>\n",
       "  </thead>\n",
       "  <tbody>\n",
       "    <tr>\n",
       "      <th>0</th>\n",
       "      <td>EU rejects German call to boycott British lamb .</td>\n",
       "      <td>*EU*,*German*,*British*</td>\n",
       "    </tr>\n",
       "    <tr>\n",
       "      <th>1</th>\n",
       "      <td>Peter Blackburn</td>\n",
       "      <td>*Peter Blackburn*</td>\n",
       "    </tr>\n",
       "    <tr>\n",
       "      <th>2</th>\n",
       "      <td>BRUSSELS 1996-08-22</td>\n",
       "      <td>*BRUSSELS*</td>\n",
       "    </tr>\n",
       "    <tr>\n",
       "      <th>3</th>\n",
       "      <td>The European Commission said on Thursday it di...</td>\n",
       "      <td>*European Commission*,*German*,*British*</td>\n",
       "    </tr>\n",
       "    <tr>\n",
       "      <th>4</th>\n",
       "      <td>Germany 's representative to the European Unio...</td>\n",
       "      <td>*Germany*,*European Union*,*Werner Zwingmann*,...</td>\n",
       "    </tr>\n",
       "    <tr>\n",
       "      <th>...</th>\n",
       "      <td>...</td>\n",
       "      <td>...</td>\n",
       "    </tr>\n",
       "    <tr>\n",
       "      <th>159090</th>\n",
       "      <td>\" @Mackenzie_71 : Super Bowl Sunday \"</td>\n",
       "      <td>**</td>\n",
       "    </tr>\n",
       "    <tr>\n",
       "      <th>159091</th>\n",
       "      <td>Watch Barrow - Boston United Live December 20 ...</td>\n",
       "      <td>*Barrow*,*Boston United*</td>\n",
       "    </tr>\n",
       "    <tr>\n",
       "      <th>159092</th>\n",
       "      <td>On January 22nd , from 11- 1.30 , TVPS will be...</td>\n",
       "      <td>*TVPS*</td>\n",
       "    </tr>\n",
       "    <tr>\n",
       "      <th>159093</th>\n",
       "      <td>Conditioning plan all made up for tomorrow , f...</td>\n",
       "      <td>**</td>\n",
       "    </tr>\n",
       "    <tr>\n",
       "      <th>159094</th>\n",
       "      <td>Sat Jan 10 2015 12:46 : 39 GMT+0000 ( UTC )</td>\n",
       "      <td>**</td>\n",
       "    </tr>\n",
       "  </tbody>\n",
       "</table>\n",
       "<p>159095 rows × 2 columns</p>\n",
       "</div>"
      ],
      "text/plain": [
       "                                               input_text  \\\n",
       "0        EU rejects German call to boycott British lamb .   \n",
       "1                                         Peter Blackburn   \n",
       "2                                     BRUSSELS 1996-08-22   \n",
       "3       The European Commission said on Thursday it di...   \n",
       "4       Germany 's representative to the European Unio...   \n",
       "...                                                   ...   \n",
       "159090              \" @Mackenzie_71 : Super Bowl Sunday \"   \n",
       "159091  Watch Barrow - Boston United Live December 20 ...   \n",
       "159092  On January 22nd , from 11- 1.30 , TVPS will be...   \n",
       "159093  Conditioning plan all made up for tomorrow , f...   \n",
       "159094        Sat Jan 10 2015 12:46 : 39 GMT+0000 ( UTC )   \n",
       "\n",
       "                                              target_text  \n",
       "0                                 *EU*,*German*,*British*  \n",
       "1                                       *Peter Blackburn*  \n",
       "2                                              *BRUSSELS*  \n",
       "3                *European Commission*,*German*,*British*  \n",
       "4       *Germany*,*European Union*,*Werner Zwingmann*,...  \n",
       "...                                                   ...  \n",
       "159090                                                 **  \n",
       "159091                           *Barrow*,*Boston United*  \n",
       "159092                                             *TVPS*  \n",
       "159093                                                 **  \n",
       "159094                                                 **  \n",
       "\n",
       "[159095 rows x 2 columns]"
      ]
     },
     "execution_count": 28,
     "metadata": {},
     "output_type": "execute_result"
    }
   ],
   "source": [
    "combined_df = pd.concat([conellpp_training, wikineural_training, onto_training, wnut_training], ignore_index=True)[['input_text', 'target_text']]\n",
    "combined_df = combined_df.drop_duplicates().reset_index(drop=True)\n",
    "combined_df"
   ]
  },
  {
   "cell_type": "markdown",
   "id": "1824f21b",
   "metadata": {},
   "source": [
    "### creating a lowercase and uppercase versions of the training data"
   ]
  },
  {
   "cell_type": "code",
   "execution_count": 29,
   "id": "f73b6fa3",
   "metadata": {},
   "outputs": [
    {
     "data": {
      "text/html": [
       "<div>\n",
       "<style scoped>\n",
       "    .dataframe tbody tr th:only-of-type {\n",
       "        vertical-align: middle;\n",
       "    }\n",
       "\n",
       "    .dataframe tbody tr th {\n",
       "        vertical-align: top;\n",
       "    }\n",
       "\n",
       "    .dataframe thead th {\n",
       "        text-align: right;\n",
       "    }\n",
       "</style>\n",
       "<table border=\"1\" class=\"dataframe\">\n",
       "  <thead>\n",
       "    <tr style=\"text-align: right;\">\n",
       "      <th></th>\n",
       "      <th>input_text</th>\n",
       "      <th>target_text</th>\n",
       "    </tr>\n",
       "  </thead>\n",
       "  <tbody>\n",
       "    <tr>\n",
       "      <th>0</th>\n",
       "      <td>eu rejects german call to boycott british lamb .</td>\n",
       "      <td>*eu*,*german*,*british*</td>\n",
       "    </tr>\n",
       "    <tr>\n",
       "      <th>1</th>\n",
       "      <td>peter blackburn</td>\n",
       "      <td>*peter blackburn*</td>\n",
       "    </tr>\n",
       "    <tr>\n",
       "      <th>2</th>\n",
       "      <td>brussels 1996-08-22</td>\n",
       "      <td>*brussels*</td>\n",
       "    </tr>\n",
       "    <tr>\n",
       "      <th>3</th>\n",
       "      <td>the european commission said on thursday it di...</td>\n",
       "      <td>*european commission*,*german*,*british*</td>\n",
       "    </tr>\n",
       "    <tr>\n",
       "      <th>4</th>\n",
       "      <td>germany 's representative to the european unio...</td>\n",
       "      <td>*germany*,*european union*,*werner zwingmann*,...</td>\n",
       "    </tr>\n",
       "    <tr>\n",
       "      <th>...</th>\n",
       "      <td>...</td>\n",
       "      <td>...</td>\n",
       "    </tr>\n",
       "    <tr>\n",
       "      <th>159090</th>\n",
       "      <td>\" @mackenzie_71 : super bowl sunday \"</td>\n",
       "      <td>**</td>\n",
       "    </tr>\n",
       "    <tr>\n",
       "      <th>159091</th>\n",
       "      <td>watch barrow - boston united live december 20 ...</td>\n",
       "      <td>*barrow*,*boston united*</td>\n",
       "    </tr>\n",
       "    <tr>\n",
       "      <th>159092</th>\n",
       "      <td>on january 22nd , from 11- 1.30 , tvps will be...</td>\n",
       "      <td>*tvps*</td>\n",
       "    </tr>\n",
       "    <tr>\n",
       "      <th>159093</th>\n",
       "      <td>conditioning plan all made up for tomorrow , f...</td>\n",
       "      <td>**</td>\n",
       "    </tr>\n",
       "    <tr>\n",
       "      <th>159094</th>\n",
       "      <td>sat jan 10 2015 12:46 : 39 gmt+0000 ( utc )</td>\n",
       "      <td>**</td>\n",
       "    </tr>\n",
       "  </tbody>\n",
       "</table>\n",
       "<p>159095 rows × 2 columns</p>\n",
       "</div>"
      ],
      "text/plain": [
       "                                               input_text  \\\n",
       "0        eu rejects german call to boycott british lamb .   \n",
       "1                                         peter blackburn   \n",
       "2                                     brussels 1996-08-22   \n",
       "3       the european commission said on thursday it di...   \n",
       "4       germany 's representative to the european unio...   \n",
       "...                                                   ...   \n",
       "159090              \" @mackenzie_71 : super bowl sunday \"   \n",
       "159091  watch barrow - boston united live december 20 ...   \n",
       "159092  on january 22nd , from 11- 1.30 , tvps will be...   \n",
       "159093  conditioning plan all made up for tomorrow , f...   \n",
       "159094        sat jan 10 2015 12:46 : 39 gmt+0000 ( utc )   \n",
       "\n",
       "                                              target_text  \n",
       "0                                 *eu*,*german*,*british*  \n",
       "1                                       *peter blackburn*  \n",
       "2                                              *brussels*  \n",
       "3                *european commission*,*german*,*british*  \n",
       "4       *germany*,*european union*,*werner zwingmann*,...  \n",
       "...                                                   ...  \n",
       "159090                                                 **  \n",
       "159091                           *barrow*,*boston united*  \n",
       "159092                                             *tvps*  \n",
       "159093                                                 **  \n",
       "159094                                                 **  \n",
       "\n",
       "[159095 rows x 2 columns]"
      ]
     },
     "execution_count": 29,
     "metadata": {},
     "output_type": "execute_result"
    }
   ],
   "source": [
    "lower_training = lower_case_df(combined_df)\n",
    "lower_training"
   ]
  },
  {
   "cell_type": "code",
   "execution_count": 30,
   "id": "017beb19",
   "metadata": {},
   "outputs": [
    {
     "data": {
      "text/html": [
       "<div>\n",
       "<style scoped>\n",
       "    .dataframe tbody tr th:only-of-type {\n",
       "        vertical-align: middle;\n",
       "    }\n",
       "\n",
       "    .dataframe tbody tr th {\n",
       "        vertical-align: top;\n",
       "    }\n",
       "\n",
       "    .dataframe thead th {\n",
       "        text-align: right;\n",
       "    }\n",
       "</style>\n",
       "<table border=\"1\" class=\"dataframe\">\n",
       "  <thead>\n",
       "    <tr style=\"text-align: right;\">\n",
       "      <th></th>\n",
       "      <th>input_text</th>\n",
       "      <th>target_text</th>\n",
       "    </tr>\n",
       "  </thead>\n",
       "  <tbody>\n",
       "    <tr>\n",
       "      <th>0</th>\n",
       "      <td>i said you just call her and tell her</td>\n",
       "      <td>**</td>\n",
       "    </tr>\n",
       "    <tr>\n",
       "      <th>1</th>\n",
       "      <td>the film was directed by werner herzog and sta...</td>\n",
       "      <td>*werner herzog*,*nicolas cage*,*eva mendes*</td>\n",
       "    </tr>\n",
       "    <tr>\n",
       "      <th>2</th>\n",
       "      <td>in the special case of isotropic media , the s...</td>\n",
       "      <td>*huygens*,*ignace-gaston pardies*,*huygens*</td>\n",
       "    </tr>\n",
       "    <tr>\n",
       "      <th>3</th>\n",
       "      <td>the french group entered the german market in ...</td>\n",
       "      <td>*french*,*german*</td>\n",
       "    </tr>\n",
       "    <tr>\n",
       "      <th>4</th>\n",
       "      <td>justin lin, in his analysis of the pretty-boy ...</td>\n",
       "      <td>*the 1990s*,*justin lin*</td>\n",
       "    </tr>\n",
       "    <tr>\n",
       "      <th>...</th>\n",
       "      <td>...</td>\n",
       "      <td>...</td>\n",
       "    </tr>\n",
       "    <tr>\n",
       "      <th>318185</th>\n",
       "      <td>it was enjoyable to hear accomplished jazz wit...</td>\n",
       "      <td>*half*,*first*</td>\n",
       "    </tr>\n",
       "    <tr>\n",
       "      <th>318186</th>\n",
       "      <td>the annual grand national horse race takes pla...</td>\n",
       "      <td>*grand national*,*aintree racecourse*</td>\n",
       "    </tr>\n",
       "    <tr>\n",
       "      <th>318187</th>\n",
       "      <td>THE ATTACK ON THE `` USS COLE '' IN YEMEN IS B...</td>\n",
       "      <td>*YEMEN*,*THE `` USS COLE ''*,*TONIGHT*</td>\n",
       "    </tr>\n",
       "    <tr>\n",
       "      <th>318188</th>\n",
       "      <td>IN SPITE OF THE EXCITEMENT THAT SHE REMEMBERED...</td>\n",
       "      <td>*NEW YEAR*,*YANG*</td>\n",
       "    </tr>\n",
       "    <tr>\n",
       "      <th>318189</th>\n",
       "      <td>very good</td>\n",
       "      <td>**</td>\n",
       "    </tr>\n",
       "  </tbody>\n",
       "</table>\n",
       "<p>318190 rows × 2 columns</p>\n",
       "</div>"
      ],
      "text/plain": [
       "                                               input_text  \\\n",
       "0                   i said you just call her and tell her   \n",
       "1       the film was directed by werner herzog and sta...   \n",
       "2       in the special case of isotropic media , the s...   \n",
       "3       the french group entered the german market in ...   \n",
       "4       justin lin, in his analysis of the pretty-boy ...   \n",
       "...                                                   ...   \n",
       "318185  it was enjoyable to hear accomplished jazz wit...   \n",
       "318186  the annual grand national horse race takes pla...   \n",
       "318187  THE ATTACK ON THE `` USS COLE '' IN YEMEN IS B...   \n",
       "318188  IN SPITE OF THE EXCITEMENT THAT SHE REMEMBERED...   \n",
       "318189                                          very good   \n",
       "\n",
       "                                        target_text  \n",
       "0                                                **  \n",
       "1       *werner herzog*,*nicolas cage*,*eva mendes*  \n",
       "2       *huygens*,*ignace-gaston pardies*,*huygens*  \n",
       "3                                 *french*,*german*  \n",
       "4                          *the 1990s*,*justin lin*  \n",
       "...                                             ...  \n",
       "318185                               *half*,*first*  \n",
       "318186        *grand national*,*aintree racecourse*  \n",
       "318187       *YEMEN*,*THE `` USS COLE ''*,*TONIGHT*  \n",
       "318188                            *NEW YEAR*,*YANG*  \n",
       "318189                                           **  \n",
       "\n",
       "[318190 rows x 2 columns]"
      ]
     },
     "execution_count": 30,
     "metadata": {},
     "output_type": "execute_result"
    }
   ],
   "source": [
    "upper_training = upper_case_df(combined_df)\n",
    "lower_upper_training = pd.concat([lower_training, upper_training])\n",
    "lower_upper_training = lower_upper_training.sample(frac=1, random_state=1).reset_index(drop=True)\n",
    "lower_upper_training"
   ]
  },
  {
   "cell_type": "markdown",
   "id": "8c00d0f2",
   "metadata": {},
   "source": [
    "### Saving the data as csv"
   ]
  },
  {
   "cell_type": "code",
   "execution_count": 31,
   "id": "e682677f",
   "metadata": {},
   "outputs": [],
   "source": [
    "combined_df.to_csv('./1-NER_Data/1-csv_format/train/training_data.csv', index = False)\n",
    "lower_training.to_csv('./1-NER_Data/1-csv_format/train/lower_training_data.csv', index = False)\n",
    "lower_upper_training.to_csv('./1-NER_Data/1-csv_format/train/low_up_training_data.csv', index = False)"
   ]
  },
  {
   "cell_type": "markdown",
   "id": "6ab0c78d",
   "metadata": {},
   "source": [
    "# Validation data"
   ]
  },
  {
   "cell_type": "markdown",
   "id": "d7209a31",
   "metadata": {},
   "source": [
    "### Read the data from either txt files or from huggingface dataset and converting each to target form  --->  [input_text, target_text, word_count, NE_count] "
   ]
  },
  {
   "cell_type": "code",
   "execution_count": 32,
   "id": "c5fe7260",
   "metadata": {},
   "outputs": [],
   "source": [
    "# CoNLL2003++ validatoin dataset\n",
    "\n",
    "conellpp_val = parse_file_data(\"./1-NER_data/0-raw_data/coNLL2003pp/conllpp_dev.txt\", in_position=0, pos_position=3, line_len=4, sep=' ')\n",
    "# conellpp_val"
   ]
  },
  {
   "cell_type": "code",
   "execution_count": 33,
   "id": "85c26bf1",
   "metadata": {},
   "outputs": [],
   "source": [
    "# wikineural validation dataset\n",
    "\n",
    "wikineural_val = parse_file_data(\"./1-NER_data/0-raw_data/wikineural/val.conllu.txt\", 1, 2, 3, '\\t')\n",
    "# wikineural_val"
   ]
  },
  {
   "cell_type": "code",
   "execution_count": 34,
   "id": "f0587f70",
   "metadata": {},
   "outputs": [],
   "source": [
    "# OntoNotes 5.0 validation dataset refer section above"
   ]
  },
  {
   "cell_type": "code",
   "execution_count": 35,
   "id": "047ea9c8",
   "metadata": {},
   "outputs": [
    {
     "name": "stderr",
     "output_type": "stream",
     "text": [
      "Reusing dataset wnut_17 (C:\\Users\\hadye\\.cache\\huggingface\\datasets\\wnut_17\\wnut_17\\1.0.0\\077c7f08b8dbc800692e8c9186cdf3606d5849ab0e7be662e6135bb10eba54f9)\n"
     ]
    }
   ],
   "source": [
    "# wnut_17 validation dataset\n",
    "\n",
    "dataset = load_dataset('wnut_17', split='validation').to_pandas()\n",
    "wnut_val = pd.DataFrame([], columns=['input_text', 'target_text', 'word_count', 'NE_count'])\n",
    "wnut_val[['input_text','target_text','word_count', 'NE_count']] = dataset.apply(read_hugging_face_data, axis=1)\n",
    "# wnut_val"
   ]
  },
  {
   "cell_type": "markdown",
   "id": "a7c74fd7",
   "metadata": {},
   "source": [
    "### Adding entity as percentage of the input sentence"
   ]
  },
  {
   "cell_type": "code",
   "execution_count": 36,
   "id": "58bc2e82",
   "metadata": {},
   "outputs": [],
   "source": [
    "conellpp_val = add_per_NE_sent(conellpp_val)\n",
    "wikineural_val = add_per_NE_sent(wikineural_val)\n",
    "onto_val = add_per_NE_sent(onto_val)\n",
    "wnut_val = add_per_NE_sent(wnut_val)"
   ]
  },
  {
   "cell_type": "code",
   "execution_count": 37,
   "id": "422cbadd",
   "metadata": {},
   "outputs": [
    {
     "name": "stdout",
     "output_type": "stream",
     "text": [
      "there are 0.23076923076923078 sentences in the range of 0:0.1\n"
     ]
    },
    {
     "data": {
      "image/png": "[encoded data removed]",
      "text/plain": [
       "<Figure size 432x288 with 1 Axes>"
      ]
     },
     "metadata": {
      "needs_background": "light"
     },
     "output_type": "display_data"
    }
   ],
   "source": [
    "plot_percent_NE = conellpp_val['%_NE_in_sentence'].value_counts().sort_index()\n",
    "plot_percent_NE.plot(kind='bar')\n",
    "print(\"there are\", sum(plot_percent_NE.loc[0:0.099])/len(conellpp_val), \"sentences in the range of 0:0.1\")"
   ]
  },
  {
   "cell_type": "code",
   "execution_count": 38,
   "id": "ab270b40",
   "metadata": {},
   "outputs": [
    {
     "data": {
      "text/plain": [
       "<AxesSubplot:xlabel='word_count'>"
      ]
     },
     "execution_count": 38,
     "metadata": {},
     "output_type": "execute_result"
    },
    {
     "data": {
      "image/png": "[encoded data removed]",
      "text/plain": [
       "<Figure size 432x288 with 1 Axes>"
      ]
     },
     "metadata": {
      "needs_background": "light"
     },
     "output_type": "display_data"
    }
   ],
   "source": [
    "conellpp_val.groupby(by='word_count')['input_text'].count().head(10).plot(kind='bar')"
   ]
  },
  {
   "cell_type": "code",
   "execution_count": 39,
   "id": "50bdc973",
   "metadata": {},
   "outputs": [],
   "source": [
    "conellpp_val = conellpp_val.drop(conellpp_val.loc[conellpp_val['word_count'] == 0].index).reset_index(drop=True)\n",
    "# conellpp_val"
   ]
  },
  {
   "cell_type": "code",
   "execution_count": null,
   "id": "676d9ca1",
   "metadata": {},
   "outputs": [],
   "source": []
  },
  {
   "cell_type": "code",
   "execution_count": 40,
   "id": "90595dd3",
   "metadata": {},
   "outputs": [
    {
     "name": "stdout",
     "output_type": "stream",
     "text": [
      "there are 0.13701466781708369 sentences in the range of 0:0.1\n"
     ]
    },
    {
     "data": {
      "image/png": "[encoded data removed]",
      "text/plain": [
       "<Figure size 432x288 with 1 Axes>"
      ]
     },
     "metadata": {
      "needs_background": "light"
     },
     "output_type": "display_data"
    }
   ],
   "source": [
    "plot_percent_NE = wikineural_val['%_NE_in_sentence'].value_counts().sort_index()\n",
    "plot_percent_NE.plot(kind='bar')\n",
    "print(\"there are\", sum(plot_percent_NE.loc[0:0.099])/len(wikineural_val), \"sentences in the range of 0:0.1\")"
   ]
  },
  {
   "cell_type": "code",
   "execution_count": 41,
   "id": "cd9962fe",
   "metadata": {},
   "outputs": [
    {
     "data": {
      "text/plain": [
       "<AxesSubplot:xlabel='word_count'>"
      ]
     },
     "execution_count": 41,
     "metadata": {},
     "output_type": "execute_result"
    },
    {
     "data": {
      "image/png": "[encoded data removed]",
      "text/plain": [
       "<Figure size 432x288 with 1 Axes>"
      ]
     },
     "metadata": {
      "needs_background": "light"
     },
     "output_type": "display_data"
    }
   ],
   "source": [
    "wikineural_val.groupby(by='word_count')['input_text'].count().head(10).plot(kind='bar')"
   ]
  },
  {
   "cell_type": "code",
   "execution_count": null,
   "id": "29c5732a",
   "metadata": {},
   "outputs": [],
   "source": []
  },
  {
   "cell_type": "code",
   "execution_count": 42,
   "id": "60daa52a",
   "metadata": {},
   "outputs": [
    {
     "name": "stdout",
     "output_type": "stream",
     "text": [
      "19797\n",
      "there are 0.6295398292670606 sentences in the range of 0:0.1\n",
      "12463\n"
     ]
    },
    {
     "data": {
      "image/png": "[encoded data removed]",
      "text/plain": [
       "<Figure size 432x288 with 1 Axes>"
      ]
     },
     "metadata": {
      "needs_background": "light"
     },
     "output_type": "display_data"
    }
   ],
   "source": [
    "plot_percent_NE = onto_val['%_NE_in_sentence'].value_counts().sort_index()\n",
    "plot_percent_NE.plot(kind='bar')\n",
    "print(len(onto_val))\n",
    "print(\"there are\", sum(plot_percent_NE.loc[0:0.099])/len(onto_val), \"sentences in the range of 0:0.1\")\n",
    "print(sum(plot_percent_NE.loc[0:0.01]))"
   ]
  },
  {
   "cell_type": "code",
   "execution_count": 43,
   "id": "22853989",
   "metadata": {},
   "outputs": [
    {
     "data": {
      "text/html": [
       "<div>\n",
       "<style scoped>\n",
       "    .dataframe tbody tr th:only-of-type {\n",
       "        vertical-align: middle;\n",
       "    }\n",
       "\n",
       "    .dataframe tbody tr th {\n",
       "        vertical-align: top;\n",
       "    }\n",
       "\n",
       "    .dataframe thead th {\n",
       "        text-align: right;\n",
       "    }\n",
       "</style>\n",
       "<table border=\"1\" class=\"dataframe\">\n",
       "  <thead>\n",
       "    <tr style=\"text-align: right;\">\n",
       "      <th></th>\n",
       "      <th>input_text</th>\n",
       "      <th>target_text</th>\n",
       "      <th>word_count</th>\n",
       "      <th>NE_count</th>\n",
       "      <th>%_NE_in_sentence</th>\n",
       "    </tr>\n",
       "  </thead>\n",
       "  <tbody>\n",
       "    <tr>\n",
       "      <th>0</th>\n",
       "      <td>It adds that births were `` extremely unlikely...</td>\n",
       "      <td>*four to six*,*fourth*</td>\n",
       "      <td>34</td>\n",
       "      <td>2</td>\n",
       "      <td>0.1</td>\n",
       "    </tr>\n",
       "    <tr>\n",
       "      <th>1</th>\n",
       "      <td>Washington offers Saddam a television appearan...</td>\n",
       "      <td>*Washington*,*Resistance*,*Saddam*</td>\n",
       "      <td>15</td>\n",
       "      <td>2</td>\n",
       "      <td>0.1</td>\n",
       "    </tr>\n",
       "    <tr>\n",
       "      <th>2</th>\n",
       "      <td>But creditors are free to press for court appr...</td>\n",
       "      <td>**</td>\n",
       "      <td>24</td>\n",
       "      <td>0</td>\n",
       "      <td>0.0</td>\n",
       "    </tr>\n",
       "    <tr>\n",
       "      <th>3</th>\n",
       "      <td>To the extent that Democratic legislators from...</td>\n",
       "      <td>*1932*,*South*,*South*,*Democratic*,*Democrats...</td>\n",
       "      <td>53</td>\n",
       "      <td>4</td>\n",
       "      <td>0.1</td>\n",
       "    </tr>\n",
       "    <tr>\n",
       "      <th>4</th>\n",
       "      <td>I want to be clear.</td>\n",
       "      <td>**</td>\n",
       "      <td>5</td>\n",
       "      <td>0</td>\n",
       "      <td>0.0</td>\n",
       "    </tr>\n",
       "    <tr>\n",
       "      <th>...</th>\n",
       "      <td>...</td>\n",
       "      <td>...</td>\n",
       "      <td>...</td>\n",
       "      <td>...</td>\n",
       "      <td>...</td>\n",
       "    </tr>\n",
       "    <tr>\n",
       "      <th>11483</th>\n",
       "      <td>The suspect thirty eight year old Benjamin Folly.</td>\n",
       "      <td>*thirty eight year old*</td>\n",
       "      <td>8</td>\n",
       "      <td>1</td>\n",
       "      <td>0.1</td>\n",
       "    </tr>\n",
       "    <tr>\n",
       "      <th>11484</th>\n",
       "      <td>When Keizaikai launched Business Tokyo in 1987...</td>\n",
       "      <td>*1987*,*Business Tokyo*,*Keizaikai*</td>\n",
       "      <td>14</td>\n",
       "      <td>3</td>\n",
       "      <td>0.2</td>\n",
       "    </tr>\n",
       "    <tr>\n",
       "      <th>11485</th>\n",
       "      <td>The elections would mean that Barak's current ...</td>\n",
       "      <td>*Barak*</td>\n",
       "      <td>18</td>\n",
       "      <td>1</td>\n",
       "      <td>0.1</td>\n",
       "    </tr>\n",
       "    <tr>\n",
       "      <th>11486</th>\n",
       "      <td>You can try it.</td>\n",
       "      <td>**</td>\n",
       "      <td>4</td>\n",
       "      <td>0</td>\n",
       "      <td>0.0</td>\n",
       "    </tr>\n",
       "    <tr>\n",
       "      <th>11487</th>\n",
       "      <td>It is only logical to assume that the enactmen...</td>\n",
       "      <td>**</td>\n",
       "      <td>17</td>\n",
       "      <td>0</td>\n",
       "      <td>0.0</td>\n",
       "    </tr>\n",
       "  </tbody>\n",
       "</table>\n",
       "<p>11488 rows × 5 columns</p>\n",
       "</div>"
      ],
      "text/plain": [
       "                                              input_text  \\\n",
       "0      It adds that births were `` extremely unlikely...   \n",
       "1      Washington offers Saddam a television appearan...   \n",
       "2      But creditors are free to press for court appr...   \n",
       "3      To the extent that Democratic legislators from...   \n",
       "4                                    I want to be clear.   \n",
       "...                                                  ...   \n",
       "11483  The suspect thirty eight year old Benjamin Folly.   \n",
       "11484  When Keizaikai launched Business Tokyo in 1987...   \n",
       "11485  The elections would mean that Barak's current ...   \n",
       "11486                                    You can try it.   \n",
       "11487  It is only logical to assume that the enactmen...   \n",
       "\n",
       "                                             target_text  word_count  \\\n",
       "0                                 *four to six*,*fourth*          34   \n",
       "1                     *Washington*,*Resistance*,*Saddam*          15   \n",
       "2                                                     **          24   \n",
       "3      *1932*,*South*,*South*,*Democratic*,*Democrats...          53   \n",
       "4                                                     **           5   \n",
       "...                                                  ...         ...   \n",
       "11483                            *thirty eight year old*           8   \n",
       "11484                *1987*,*Business Tokyo*,*Keizaikai*          14   \n",
       "11485                                            *Barak*          18   \n",
       "11486                                                 **           4   \n",
       "11487                                                 **          17   \n",
       "\n",
       "       NE_count  %_NE_in_sentence  \n",
       "0             2               0.1  \n",
       "1             2               0.1  \n",
       "2             0               0.0  \n",
       "3             4               0.1  \n",
       "4             0               0.0  \n",
       "...         ...               ...  \n",
       "11483         1               0.1  \n",
       "11484         3               0.2  \n",
       "11485         1               0.1  \n",
       "11486         0               0.0  \n",
       "11487         0               0.0  \n",
       "\n",
       "[11488 rows x 5 columns]"
      ]
     },
     "execution_count": 43,
     "metadata": {},
     "output_type": "execute_result"
    }
   ],
   "source": [
    "# dropping half of the rows with zero entities randomly\n",
    "\n",
    "np.random.seed(10)\n",
    "zero_entities = onto_val.loc[onto_val['%_NE_in_sentence']==0].index\n",
    "remove_n = round(len(zero_entities)*2/3)\n",
    "\n",
    "drop_indices = np.random.choice(zero_entities, remove_n, replace=False)\n",
    "onto_val = onto_val.drop(drop_indices).reset_index(drop=True)\n",
    "onto_val"
   ]
  },
  {
   "cell_type": "code",
   "execution_count": 44,
   "id": "c5fffc24",
   "metadata": {},
   "outputs": [
    {
     "name": "stdout",
     "output_type": "stream",
     "text": [
      "11488\n",
      "there are 0.36159470752089135 sentences in the range of 0:0.1\n",
      "4154\n"
     ]
    },
    {
     "data": {
      "image/png": "[encoded data removed]",
      "text/plain": [
       "<Figure size 432x288 with 1 Axes>"
      ]
     },
     "metadata": {
      "needs_background": "light"
     },
     "output_type": "display_data"
    }
   ],
   "source": [
    "plot_percent_NE = onto_val['%_NE_in_sentence'].value_counts().sort_index()\n",
    "plot_percent_NE.plot(kind='bar')\n",
    "print(len(onto_val))\n",
    "print(\"there are\", sum(plot_percent_NE.loc[0:0.01])/len(onto_val), \"sentences in the range of 0:0.1\")\n",
    "print(sum(plot_percent_NE.loc[0:0.01]))"
   ]
  },
  {
   "cell_type": "code",
   "execution_count": 45,
   "id": "c2cd68de",
   "metadata": {},
   "outputs": [
    {
     "data": {
      "text/plain": [
       "<AxesSubplot:xlabel='word_count'>"
      ]
     },
     "execution_count": 45,
     "metadata": {},
     "output_type": "execute_result"
    },
    {
     "data": {
      "image/png": "[encoded data removed]",
      "text/plain": [
       "<Figure size 432x288 with 1 Axes>"
      ]
     },
     "metadata": {
      "needs_background": "light"
     },
     "output_type": "display_data"
    }
   ],
   "source": [
    "onto_val.groupby(by='word_count')['input_text'].count().head(10).plot(kind='bar')"
   ]
  },
  {
   "cell_type": "code",
   "execution_count": null,
   "id": "63260bf1",
   "metadata": {},
   "outputs": [],
   "source": []
  },
  {
   "cell_type": "code",
   "execution_count": 46,
   "id": "a9057517",
   "metadata": {},
   "outputs": [
    {
     "name": "stdout",
     "output_type": "stream",
     "text": [
      "there are 0.466798810703667 sentences in the range of 0:0.1\n"
     ]
    },
    {
     "data": {
      "text/plain": [
       "1009"
      ]
     },
     "execution_count": 46,
     "metadata": {},
     "output_type": "execute_result"
    },
    {
     "data": {
      "image/png": "[encoded data removed]",
      "text/plain": [
       "<Figure size 432x288 with 1 Axes>"
      ]
     },
     "metadata": {
      "needs_background": "light"
     },
     "output_type": "display_data"
    }
   ],
   "source": [
    "plot_percent_NE = wnut_val['%_NE_in_sentence'].value_counts().sort_index()\n",
    "plot_percent_NE.plot(kind='bar')\n",
    "print(\"there are\", sum(plot_percent_NE.loc[0:0.099])/len(wnut_val), \"sentences in the range of 0:0.1\")\n",
    "len(wnut_val)"
   ]
  },
  {
   "cell_type": "code",
   "execution_count": 47,
   "id": "ac1fda86",
   "metadata": {},
   "outputs": [
    {
     "data": {
      "text/html": [
       "<div>\n",
       "<style scoped>\n",
       "    .dataframe tbody tr th:only-of-type {\n",
       "        vertical-align: middle;\n",
       "    }\n",
       "\n",
       "    .dataframe tbody tr th {\n",
       "        vertical-align: top;\n",
       "    }\n",
       "\n",
       "    .dataframe thead th {\n",
       "        text-align: right;\n",
       "    }\n",
       "</style>\n",
       "<table border=\"1\" class=\"dataframe\">\n",
       "  <thead>\n",
       "    <tr style=\"text-align: right;\">\n",
       "      <th></th>\n",
       "      <th>input_text</th>\n",
       "      <th>target_text</th>\n",
       "      <th>word_count</th>\n",
       "      <th>NE_count</th>\n",
       "      <th>%_NE_in_sentence</th>\n",
       "    </tr>\n",
       "  </thead>\n",
       "  <tbody>\n",
       "    <tr>\n",
       "      <th>0</th>\n",
       "      <td>You should ' ve stayed on Redondo Beach Blvd ....</td>\n",
       "      <td>*Redondo Beach Blvd*,*Gardena*,*Compton*</td>\n",
       "      <td>19</td>\n",
       "      <td>5</td>\n",
       "      <td>0.3</td>\n",
       "    </tr>\n",
       "    <tr>\n",
       "      <th>1</th>\n",
       "      <td>All I ' ve been doing is BINGE watching Rick a...</td>\n",
       "      <td>*Rick and Morty*</td>\n",
       "      <td>13</td>\n",
       "      <td>3</td>\n",
       "      <td>0.2</td>\n",
       "    </tr>\n",
       "    <tr>\n",
       "      <th>2</th>\n",
       "      <td>wow emma and kaite is so very cute and so funn...</td>\n",
       "      <td>*emma*,*kaite*,*ryan*</td>\n",
       "      <td>23</td>\n",
       "      <td>3</td>\n",
       "      <td>0.1</td>\n",
       "    </tr>\n",
       "    <tr>\n",
       "      <th>3</th>\n",
       "      <td>trump is the Kremlin ' s boy</td>\n",
       "      <td>*trump*</td>\n",
       "      <td>7</td>\n",
       "      <td>1</td>\n",
       "      <td>0.1</td>\n",
       "    </tr>\n",
       "    <tr>\n",
       "      <th>4</th>\n",
       "      <td>Hobby frog is a savege</td>\n",
       "      <td>*Hobby frog*</td>\n",
       "      <td>5</td>\n",
       "      <td>2</td>\n",
       "      <td>0.4</td>\n",
       "    </tr>\n",
       "    <tr>\n",
       "      <th>...</th>\n",
       "      <td>...</td>\n",
       "      <td>...</td>\n",
       "      <td>...</td>\n",
       "      <td>...</td>\n",
       "      <td>...</td>\n",
       "    </tr>\n",
       "    <tr>\n",
       "      <th>690</th>\n",
       "      <td>you sorted that Amos thing mom</td>\n",
       "      <td>*Amos*</td>\n",
       "      <td>6</td>\n",
       "      <td>1</td>\n",
       "      <td>0.2</td>\n",
       "    </tr>\n",
       "    <tr>\n",
       "      <th>691</th>\n",
       "      <td>He used chi blast to drop that old man . ( tha...</td>\n",
       "      <td>*the invisible man*</td>\n",
       "      <td>47</td>\n",
       "      <td>3</td>\n",
       "      <td>0.1</td>\n",
       "    </tr>\n",
       "    <tr>\n",
       "      <th>692</th>\n",
       "      <td>your sarcasm is goals : D : D</td>\n",
       "      <td>**</td>\n",
       "      <td>8</td>\n",
       "      <td>0</td>\n",
       "      <td>0.0</td>\n",
       "    </tr>\n",
       "    <tr>\n",
       "      <th>693</th>\n",
       "      <td>excellent poem Dubbz﻿</td>\n",
       "      <td>*Dubbz﻿*</td>\n",
       "      <td>3</td>\n",
       "      <td>1</td>\n",
       "      <td>0.3</td>\n",
       "    </tr>\n",
       "    <tr>\n",
       "      <th>694</th>\n",
       "      <td>This guy needs his own show on Discivery Chann...</td>\n",
       "      <td>*Discivery Channel*</td>\n",
       "      <td>10</td>\n",
       "      <td>2</td>\n",
       "      <td>0.2</td>\n",
       "    </tr>\n",
       "  </tbody>\n",
       "</table>\n",
       "<p>695 rows × 5 columns</p>\n",
       "</div>"
      ],
      "text/plain": [
       "                                            input_text  \\\n",
       "0    You should ' ve stayed on Redondo Beach Blvd ....   \n",
       "1    All I ' ve been doing is BINGE watching Rick a...   \n",
       "2    wow emma and kaite is so very cute and so funn...   \n",
       "3                         trump is the Kremlin ' s boy   \n",
       "4                               Hobby frog is a savege   \n",
       "..                                                 ...   \n",
       "690                     you sorted that Amos thing mom   \n",
       "691  He used chi blast to drop that old man . ( tha...   \n",
       "692                      your sarcasm is goals : D : D   \n",
       "693                              excellent poem Dubbz﻿   \n",
       "694  This guy needs his own show on Discivery Chann...   \n",
       "\n",
       "                                  target_text  word_count  NE_count  \\\n",
       "0    *Redondo Beach Blvd*,*Gardena*,*Compton*          19         5   \n",
       "1                            *Rick and Morty*          13         3   \n",
       "2                       *emma*,*kaite*,*ryan*          23         3   \n",
       "3                                     *trump*           7         1   \n",
       "4                                *Hobby frog*           5         2   \n",
       "..                                        ...         ...       ...   \n",
       "690                                    *Amos*           6         1   \n",
       "691                       *the invisible man*          47         3   \n",
       "692                                        **           8         0   \n",
       "693                                  *Dubbz﻿*           3         1   \n",
       "694                       *Discivery Channel*          10         2   \n",
       "\n",
       "     %_NE_in_sentence  \n",
       "0                 0.3  \n",
       "1                 0.2  \n",
       "2                 0.1  \n",
       "3                 0.1  \n",
       "4                 0.4  \n",
       "..                ...  \n",
       "690               0.2  \n",
       "691               0.1  \n",
       "692               0.0  \n",
       "693               0.3  \n",
       "694               0.2  \n",
       "\n",
       "[695 rows x 5 columns]"
      ]
     },
     "execution_count": 47,
     "metadata": {},
     "output_type": "execute_result"
    }
   ],
   "source": [
    "# dropping half of the rows with zero entities randomly\n",
    "\n",
    "np.random.seed(10)\n",
    "zero_entities = wnut_val.loc[wnut_val['%_NE_in_sentence']==0].index\n",
    "remove_n = round(len(zero_entities)*2/3)\n",
    "\n",
    "drop_indices = np.random.choice(zero_entities, remove_n, replace=False)\n",
    "wnut_val = wnut_val.drop(drop_indices).reset_index(drop=True)\n",
    "wnut_val"
   ]
  },
  {
   "cell_type": "code",
   "execution_count": 48,
   "id": "d44c8b41",
   "metadata": {},
   "outputs": [
    {
     "name": "stdout",
     "output_type": "stream",
     "text": [
      "there are 0.22589928057553957 sentences in the range of 0:0.1\n"
     ]
    },
    {
     "data": {
      "text/plain": [
       "695"
      ]
     },
     "execution_count": 48,
     "metadata": {},
     "output_type": "execute_result"
    },
    {
     "data": {
      "image/png": "[encoded data removed]",
      "text/plain": [
       "<Figure size 432x288 with 1 Axes>"
      ]
     },
     "metadata": {
      "needs_background": "light"
     },
     "output_type": "display_data"
    }
   ],
   "source": [
    "plot_percent_NE = wnut_val['%_NE_in_sentence'].value_counts().sort_index()\n",
    "plot_percent_NE.plot(kind='bar')\n",
    "print(\"there are\", sum(plot_percent_NE.loc[0:0.099])/len(wnut_val), \"sentences in the range of 0:0.1\")\n",
    "len(wnut_val)"
   ]
  },
  {
   "cell_type": "code",
   "execution_count": 49,
   "id": "e37c03b2",
   "metadata": {},
   "outputs": [
    {
     "data": {
      "text/plain": [
       "<AxesSubplot:xlabel='word_count'>"
      ]
     },
     "execution_count": 49,
     "metadata": {},
     "output_type": "execute_result"
    },
    {
     "data": {
      "image/png": "[encoded data removed]",
      "text/plain": [
       "<Figure size 432x288 with 1 Axes>"
      ]
     },
     "metadata": {
      "needs_background": "light"
     },
     "output_type": "display_data"
    }
   ],
   "source": [
    "wnut_val.groupby(by='word_count')['input_text'].count().head(10).plot(kind='bar')"
   ]
  },
  {
   "cell_type": "markdown",
   "id": "0c433ef5",
   "metadata": {},
   "source": [
    "### Combining the datasets"
   ]
  },
  {
   "cell_type": "code",
   "execution_count": 50,
   "id": "740bb2f5",
   "metadata": {},
   "outputs": [
    {
     "data": {
      "text/html": [
       "<div>\n",
       "<style scoped>\n",
       "    .dataframe tbody tr th:only-of-type {\n",
       "        vertical-align: middle;\n",
       "    }\n",
       "\n",
       "    .dataframe tbody tr th {\n",
       "        vertical-align: top;\n",
       "    }\n",
       "\n",
       "    .dataframe thead th {\n",
       "        text-align: right;\n",
       "    }\n",
       "</style>\n",
       "<table border=\"1\" class=\"dataframe\">\n",
       "  <thead>\n",
       "    <tr style=\"text-align: right;\">\n",
       "      <th></th>\n",
       "      <th>input_text</th>\n",
       "      <th>target_text</th>\n",
       "      <th>word_count</th>\n",
       "      <th>NE_count</th>\n",
       "      <th>%_NE_in_sentence</th>\n",
       "    </tr>\n",
       "  </thead>\n",
       "  <tbody>\n",
       "    <tr>\n",
       "      <th>0</th>\n",
       "      <td>CRICKET - LEICESTERSHIRE TAKE OVER AT TOP AFTE...</td>\n",
       "      <td>*LEICESTERSHIRE*</td>\n",
       "      <td>9</td>\n",
       "      <td>1</td>\n",
       "      <td>0.1</td>\n",
       "    </tr>\n",
       "    <tr>\n",
       "      <th>1</th>\n",
       "      <td>LONDON 1996-08-30</td>\n",
       "      <td>*LONDON*</td>\n",
       "      <td>2</td>\n",
       "      <td>1</td>\n",
       "      <td>0.5</td>\n",
       "    </tr>\n",
       "    <tr>\n",
       "      <th>2</th>\n",
       "      <td>West Indian all-rounder Phil Simmons took four...</td>\n",
       "      <td>*West Indian*,*Phil Simmons*,*Leicestershire*,...</td>\n",
       "      <td>34</td>\n",
       "      <td>6</td>\n",
       "      <td>0.2</td>\n",
       "    </tr>\n",
       "    <tr>\n",
       "      <th>3</th>\n",
       "      <td>Their stay on top , though , may be short-live...</td>\n",
       "      <td>*Essex*,*Derbyshire*,*Surrey*,*Kent*,*Nottingh...</td>\n",
       "      <td>33</td>\n",
       "      <td>5</td>\n",
       "      <td>0.2</td>\n",
       "    </tr>\n",
       "    <tr>\n",
       "      <th>4</th>\n",
       "      <td>After bowling Somerset out for 83 on the openi...</td>\n",
       "      <td>*Somerset*,*Grace Road*,*Leicestershire*,*Engl...</td>\n",
       "      <td>36</td>\n",
       "      <td>7</td>\n",
       "      <td>0.2</td>\n",
       "    </tr>\n",
       "    <tr>\n",
       "      <th>...</th>\n",
       "      <td>...</td>\n",
       "      <td>...</td>\n",
       "      <td>...</td>\n",
       "      <td>...</td>\n",
       "      <td>...</td>\n",
       "    </tr>\n",
       "    <tr>\n",
       "      <th>26573</th>\n",
       "      <td>you sorted that Amos thing mom</td>\n",
       "      <td>*Amos*</td>\n",
       "      <td>6</td>\n",
       "      <td>1</td>\n",
       "      <td>0.2</td>\n",
       "    </tr>\n",
       "    <tr>\n",
       "      <th>26574</th>\n",
       "      <td>He used chi blast to drop that old man . ( tha...</td>\n",
       "      <td>*the invisible man*</td>\n",
       "      <td>47</td>\n",
       "      <td>3</td>\n",
       "      <td>0.1</td>\n",
       "    </tr>\n",
       "    <tr>\n",
       "      <th>26575</th>\n",
       "      <td>your sarcasm is goals : D : D</td>\n",
       "      <td>**</td>\n",
       "      <td>8</td>\n",
       "      <td>0</td>\n",
       "      <td>0.0</td>\n",
       "    </tr>\n",
       "    <tr>\n",
       "      <th>26576</th>\n",
       "      <td>excellent poem Dubbz﻿</td>\n",
       "      <td>*Dubbz﻿*</td>\n",
       "      <td>3</td>\n",
       "      <td>1</td>\n",
       "      <td>0.3</td>\n",
       "    </tr>\n",
       "    <tr>\n",
       "      <th>26577</th>\n",
       "      <td>This guy needs his own show on Discivery Chann...</td>\n",
       "      <td>*Discivery Channel*</td>\n",
       "      <td>10</td>\n",
       "      <td>2</td>\n",
       "      <td>0.2</td>\n",
       "    </tr>\n",
       "  </tbody>\n",
       "</table>\n",
       "<p>26578 rows × 5 columns</p>\n",
       "</div>"
      ],
      "text/plain": [
       "                                              input_text  \\\n",
       "0      CRICKET - LEICESTERSHIRE TAKE OVER AT TOP AFTE...   \n",
       "1                                      LONDON 1996-08-30   \n",
       "2      West Indian all-rounder Phil Simmons took four...   \n",
       "3      Their stay on top , though , may be short-live...   \n",
       "4      After bowling Somerset out for 83 on the openi...   \n",
       "...                                                  ...   \n",
       "26573                     you sorted that Amos thing mom   \n",
       "26574  He used chi blast to drop that old man . ( tha...   \n",
       "26575                      your sarcasm is goals : D : D   \n",
       "26576                              excellent poem Dubbz﻿   \n",
       "26577  This guy needs his own show on Discivery Chann...   \n",
       "\n",
       "                                             target_text  word_count  \\\n",
       "0                                       *LEICESTERSHIRE*           9   \n",
       "1                                               *LONDON*           2   \n",
       "2      *West Indian*,*Phil Simmons*,*Leicestershire*,...          34   \n",
       "3      *Essex*,*Derbyshire*,*Surrey*,*Kent*,*Nottingh...          33   \n",
       "4      *Somerset*,*Grace Road*,*Leicestershire*,*Engl...          36   \n",
       "...                                                  ...         ...   \n",
       "26573                                             *Amos*           6   \n",
       "26574                                *the invisible man*          47   \n",
       "26575                                                 **           8   \n",
       "26576                                           *Dubbz﻿*           3   \n",
       "26577                                *Discivery Channel*          10   \n",
       "\n",
       "       NE_count  %_NE_in_sentence  \n",
       "0             1               0.1  \n",
       "1             1               0.5  \n",
       "2             6               0.2  \n",
       "3             5               0.2  \n",
       "4             7               0.2  \n",
       "...         ...               ...  \n",
       "26573         1               0.2  \n",
       "26574         3               0.1  \n",
       "26575         0               0.0  \n",
       "26576         1               0.3  \n",
       "26577         2               0.2  \n",
       "\n",
       "[26578 rows x 5 columns]"
      ]
     },
     "execution_count": 50,
     "metadata": {},
     "output_type": "execute_result"
    }
   ],
   "source": [
    "val_combined_df = pd.concat([conellpp_val, wikineural_val, onto_val, wnut_val], ignore_index=True).drop_duplicates().reset_index(drop=True)\n",
    "val_combined_df"
   ]
  },
  {
   "cell_type": "markdown",
   "id": "8d962cd9",
   "metadata": {},
   "source": [
    "### creating a lowercase and uppercase versions of the training data"
   ]
  },
  {
   "cell_type": "code",
   "execution_count": 51,
   "id": "2a5614bb",
   "metadata": {},
   "outputs": [
    {
     "data": {
      "text/html": [
       "<div>\n",
       "<style scoped>\n",
       "    .dataframe tbody tr th:only-of-type {\n",
       "        vertical-align: middle;\n",
       "    }\n",
       "\n",
       "    .dataframe tbody tr th {\n",
       "        vertical-align: top;\n",
       "    }\n",
       "\n",
       "    .dataframe thead th {\n",
       "        text-align: right;\n",
       "    }\n",
       "</style>\n",
       "<table border=\"1\" class=\"dataframe\">\n",
       "  <thead>\n",
       "    <tr style=\"text-align: right;\">\n",
       "      <th></th>\n",
       "      <th>input_text</th>\n",
       "      <th>target_text</th>\n",
       "    </tr>\n",
       "  </thead>\n",
       "  <tbody>\n",
       "    <tr>\n",
       "      <th>0</th>\n",
       "      <td>cricket - leicestershire take over at top afte...</td>\n",
       "      <td>*leicestershire*</td>\n",
       "    </tr>\n",
       "    <tr>\n",
       "      <th>1</th>\n",
       "      <td>london 1996-08-30</td>\n",
       "      <td>*london*</td>\n",
       "    </tr>\n",
       "    <tr>\n",
       "      <th>2</th>\n",
       "      <td>west indian all-rounder phil simmons took four...</td>\n",
       "      <td>*west indian*,*phil simmons*,*leicestershire*,...</td>\n",
       "    </tr>\n",
       "    <tr>\n",
       "      <th>3</th>\n",
       "      <td>their stay on top , though , may be short-live...</td>\n",
       "      <td>*essex*,*derbyshire*,*surrey*,*kent*,*nottingh...</td>\n",
       "    </tr>\n",
       "    <tr>\n",
       "      <th>4</th>\n",
       "      <td>after bowling somerset out for 83 on the openi...</td>\n",
       "      <td>*somerset*,*grace road*,*leicestershire*,*engl...</td>\n",
       "    </tr>\n",
       "    <tr>\n",
       "      <th>...</th>\n",
       "      <td>...</td>\n",
       "      <td>...</td>\n",
       "    </tr>\n",
       "    <tr>\n",
       "      <th>26573</th>\n",
       "      <td>you sorted that amos thing mom</td>\n",
       "      <td>*amos*</td>\n",
       "    </tr>\n",
       "    <tr>\n",
       "      <th>26574</th>\n",
       "      <td>he used chi blast to drop that old man . ( tha...</td>\n",
       "      <td>*the invisible man*</td>\n",
       "    </tr>\n",
       "    <tr>\n",
       "      <th>26575</th>\n",
       "      <td>your sarcasm is goals : d : d</td>\n",
       "      <td>**</td>\n",
       "    </tr>\n",
       "    <tr>\n",
       "      <th>26576</th>\n",
       "      <td>excellent poem dubbz﻿</td>\n",
       "      <td>*dubbz﻿*</td>\n",
       "    </tr>\n",
       "    <tr>\n",
       "      <th>26577</th>\n",
       "      <td>this guy needs his own show on discivery chann...</td>\n",
       "      <td>*discivery channel*</td>\n",
       "    </tr>\n",
       "  </tbody>\n",
       "</table>\n",
       "<p>26578 rows × 2 columns</p>\n",
       "</div>"
      ],
      "text/plain": [
       "                                              input_text  \\\n",
       "0      cricket - leicestershire take over at top afte...   \n",
       "1                                      london 1996-08-30   \n",
       "2      west indian all-rounder phil simmons took four...   \n",
       "3      their stay on top , though , may be short-live...   \n",
       "4      after bowling somerset out for 83 on the openi...   \n",
       "...                                                  ...   \n",
       "26573                     you sorted that amos thing mom   \n",
       "26574  he used chi blast to drop that old man . ( tha...   \n",
       "26575                      your sarcasm is goals : d : d   \n",
       "26576                              excellent poem dubbz﻿   \n",
       "26577  this guy needs his own show on discivery chann...   \n",
       "\n",
       "                                             target_text  \n",
       "0                                       *leicestershire*  \n",
       "1                                               *london*  \n",
       "2      *west indian*,*phil simmons*,*leicestershire*,...  \n",
       "3      *essex*,*derbyshire*,*surrey*,*kent*,*nottingh...  \n",
       "4      *somerset*,*grace road*,*leicestershire*,*engl...  \n",
       "...                                                  ...  \n",
       "26573                                             *amos*  \n",
       "26574                                *the invisible man*  \n",
       "26575                                                 **  \n",
       "26576                                           *dubbz﻿*  \n",
       "26577                                *discivery channel*  \n",
       "\n",
       "[26578 rows x 2 columns]"
      ]
     },
     "execution_count": 51,
     "metadata": {},
     "output_type": "execute_result"
    }
   ],
   "source": [
    "lower_val = lower_case_df(val_combined_df)\n",
    "lower_val"
   ]
  },
  {
   "cell_type": "code",
   "execution_count": 52,
   "id": "f323f470",
   "metadata": {},
   "outputs": [
    {
     "data": {
      "text/html": [
       "<div>\n",
       "<style scoped>\n",
       "    .dataframe tbody tr th:only-of-type {\n",
       "        vertical-align: middle;\n",
       "    }\n",
       "\n",
       "    .dataframe tbody tr th {\n",
       "        vertical-align: top;\n",
       "    }\n",
       "\n",
       "    .dataframe thead th {\n",
       "        text-align: right;\n",
       "    }\n",
       "</style>\n",
       "<table border=\"1\" class=\"dataframe\">\n",
       "  <thead>\n",
       "    <tr style=\"text-align: right;\">\n",
       "      <th></th>\n",
       "      <th>input_text</th>\n",
       "      <th>target_text</th>\n",
       "    </tr>\n",
       "  </thead>\n",
       "  <tbody>\n",
       "    <tr>\n",
       "      <th>0</th>\n",
       "      <td>kevin conroy has reprised his voice role of ba...</td>\n",
       "      <td>*kevin conroy*,*batman*,*jeremy sisto*,*willia...</td>\n",
       "    </tr>\n",
       "    <tr>\n",
       "      <th>1</th>\n",
       "      <td>more venturesome businesses are applying their...</td>\n",
       "      <td>**</td>\n",
       "    </tr>\n",
       "    <tr>\n",
       "      <th>2</th>\n",
       "      <td>she will take a light and clean the house.</td>\n",
       "      <td>**</td>\n",
       "    </tr>\n",
       "    <tr>\n",
       "      <th>3</th>\n",
       "      <td>god's kingdom is not seen in talk but in power.</td>\n",
       "      <td>**</td>\n",
       "    </tr>\n",
       "    <tr>\n",
       "      <th>4</th>\n",
       "      <td>`` the company's on a roll, '' said robert her...</td>\n",
       "      <td>*hambrecht &amp; quist*,*robert herwick*</td>\n",
       "    </tr>\n",
       "    <tr>\n",
       "      <th>...</th>\n",
       "      <td>...</td>\n",
       "      <td>...</td>\n",
       "    </tr>\n",
       "    <tr>\n",
       "      <th>53151</th>\n",
       "      <td>MANY SCHOLARS BELIEVE THAT WITH THE EMBA PHENO...</td>\n",
       "      <td>*TAIWAN*,*EMBA*</td>\n",
       "    </tr>\n",
       "    <tr>\n",
       "      <th>53152</th>\n",
       "      <td>WHERE IS THE CORIOLIS PARAMETER , IS THE AZIMU...</td>\n",
       "      <td>*CORIOLIS*</td>\n",
       "    </tr>\n",
       "    <tr>\n",
       "      <th>53153</th>\n",
       "      <td>hindenburg refused the powers but agreed to th...</td>\n",
       "      <td>*hindenburg*</td>\n",
       "    </tr>\n",
       "    <tr>\n",
       "      <th>53154</th>\n",
       "      <td>he finished fourth in the olympics that year .</td>\n",
       "      <td>*olympics*</td>\n",
       "    </tr>\n",
       "    <tr>\n",
       "      <th>53155</th>\n",
       "      <td>IN ARAB ARCHERY , TURKISH ARCHERY AND KYŪDŌ , ...</td>\n",
       "      <td>*ARAB*,*TURKISH*,*KYŪDŌ*</td>\n",
       "    </tr>\n",
       "  </tbody>\n",
       "</table>\n",
       "<p>53156 rows × 2 columns</p>\n",
       "</div>"
      ],
      "text/plain": [
       "                                              input_text  \\\n",
       "0      kevin conroy has reprised his voice role of ba...   \n",
       "1      more venturesome businesses are applying their...   \n",
       "2             she will take a light and clean the house.   \n",
       "3        god's kingdom is not seen in talk but in power.   \n",
       "4      `` the company's on a roll, '' said robert her...   \n",
       "...                                                  ...   \n",
       "53151  MANY SCHOLARS BELIEVE THAT WITH THE EMBA PHENO...   \n",
       "53152  WHERE IS THE CORIOLIS PARAMETER , IS THE AZIMU...   \n",
       "53153  hindenburg refused the powers but agreed to th...   \n",
       "53154     he finished fourth in the olympics that year .   \n",
       "53155  IN ARAB ARCHERY , TURKISH ARCHERY AND KYŪDŌ , ...   \n",
       "\n",
       "                                             target_text  \n",
       "0      *kevin conroy*,*batman*,*jeremy sisto*,*willia...  \n",
       "1                                                     **  \n",
       "2                                                     **  \n",
       "3                                                     **  \n",
       "4                   *hambrecht & quist*,*robert herwick*  \n",
       "...                                                  ...  \n",
       "53151                                    *TAIWAN*,*EMBA*  \n",
       "53152                                         *CORIOLIS*  \n",
       "53153                                       *hindenburg*  \n",
       "53154                                         *olympics*  \n",
       "53155                           *ARAB*,*TURKISH*,*KYŪDŌ*  \n",
       "\n",
       "[53156 rows x 2 columns]"
      ]
     },
     "execution_count": 52,
     "metadata": {},
     "output_type": "execute_result"
    }
   ],
   "source": [
    "upper_val = upper_case_df(val_combined_df)\n",
    "lower_upper_val = pd.concat([lower_val, upper_val])\n",
    "lower_upper_val = lower_upper_val.sample(frac=1, random_state=1).reset_index(drop=True)\n",
    "lower_upper_val"
   ]
  },
  {
   "cell_type": "markdown",
   "id": "c4ce965c",
   "metadata": {},
   "source": [
    "### Saving the data as csv"
   ]
  },
  {
   "cell_type": "code",
   "execution_count": 53,
   "id": "a8597079",
   "metadata": {},
   "outputs": [],
   "source": [
    "val_combined_df.to_csv('./1-NER_Data/1-csv_format/val/val_data.csv', index = False)\n",
    "lower_val.to_csv('./1-NER_Data/1-csv_format/val/lower_val_data.csv', index = False)\n",
    "lower_upper_val.to_csv('./1-NER_Data/1-csv_format/val/low_up_val_data.csv', index = False)"
   ]
  },
  {
   "cell_type": "markdown",
   "id": "d45e880d",
   "metadata": {},
   "source": [
    "# Test data"
   ]
  },
  {
   "cell_type": "markdown",
   "id": "b47a4ae5",
   "metadata": {},
   "source": [
    "### Read the data from either txt files or from huggingface dataset and converting each to target form  --->  [input_text, target_text, word_count, NE_count] "
   ]
  },
  {
   "cell_type": "code",
   "execution_count": 54,
   "id": "e6c0509a",
   "metadata": {},
   "outputs": [],
   "source": [
    "# CoNLL2003++ test dataset\n",
    "\n",
    "conellpp_test = parse_file_data(\"./1-NER_data/0-raw_data/coNLL2003pp/conllpp_test.txt\", in_position=0, pos_position=3, line_len=4, sep=' ')\n",
    "# conellpp_test"
   ]
  },
  {
   "cell_type": "code",
   "execution_count": 55,
   "id": "b74b936e",
   "metadata": {},
   "outputs": [],
   "source": [
    "# wikineural test dataset\n",
    "\n",
    "wikineural_test = parse_file_data(\"./1-NER_data/0-raw_data/wikineural/test.conllu.txt\", 1, 2, 3, '\\t')\n",
    "# wikineural_test"
   ]
  },
  {
   "cell_type": "code",
   "execution_count": 56,
   "id": "d734937e",
   "metadata": {},
   "outputs": [],
   "source": [
    "# OntoNotes 5.0 test dataset refer section above"
   ]
  },
  {
   "cell_type": "code",
   "execution_count": 57,
   "id": "3a754f2a",
   "metadata": {},
   "outputs": [
    {
     "name": "stderr",
     "output_type": "stream",
     "text": [
      "Reusing dataset wnut_17 (C:\\Users\\hadye\\.cache\\huggingface\\datasets\\wnut_17\\wnut_17\\1.0.0\\077c7f08b8dbc800692e8c9186cdf3606d5849ab0e7be662e6135bb10eba54f9)\n"
     ]
    }
   ],
   "source": [
    "# wnut_17 test dataset\n",
    "\n",
    "dataset = load_dataset('wnut_17', split='test').to_pandas()\n",
    "wnut_test = pd.DataFrame([], columns=['input_text', 'target_text', 'word_count', 'NE_count'])\n",
    "wnut_test[['input_text','target_text','word_count', 'NE_count']] = dataset.apply(read_hugging_face_data, axis=1)\n",
    "# wnut_test"
   ]
  },
  {
   "cell_type": "markdown",
   "id": "99000403",
   "metadata": {},
   "source": [
    "### Adding entity as percentage of the input sentence"
   ]
  },
  {
   "cell_type": "code",
   "execution_count": 58,
   "id": "8395abb2",
   "metadata": {},
   "outputs": [],
   "source": [
    "conellpp_test = add_per_NE_sent(conellpp_test)\n",
    "wikineural_test = add_per_NE_sent(wikineural_test)\n",
    "onto_test = add_per_NE_sent(onto_test)\n",
    "wnut_test = add_per_NE_sent(wnut_test)"
   ]
  },
  {
   "cell_type": "code",
   "execution_count": 59,
   "id": "9c3915f9",
   "metadata": {},
   "outputs": [
    {
     "name": "stdout",
     "output_type": "stream",
     "text": [
      "3452\n",
      "there are 0.22624565469293165 sentences in the range of 0:0.1\n"
     ]
    },
    {
     "data": {
      "image/png": "[encoded data removed]",
      "text/plain": [
       "<Figure size 432x288 with 1 Axes>"
      ]
     },
     "metadata": {
      "needs_background": "light"
     },
     "output_type": "display_data"
    }
   ],
   "source": [
    "plot_percent_NE = conellpp_test['%_NE_in_sentence'].value_counts().sort_index()\n",
    "plot_percent_NE.plot(kind='bar')\n",
    "print(len(conellpp_test))\n",
    "print(\"there are\", sum(plot_percent_NE.loc[0:0.099])/len(conellpp_test), \"sentences in the range of 0:0.1\")"
   ]
  },
  {
   "cell_type": "code",
   "execution_count": 60,
   "id": "194b588b",
   "metadata": {},
   "outputs": [
    {
     "data": {
      "text/plain": [
       "<AxesSubplot:xlabel='word_count'>"
      ]
     },
     "execution_count": 60,
     "metadata": {},
     "output_type": "execute_result"
    },
    {
     "data": {
      "image/png": "[encoded data removed]",
      "text/plain": [
       "<Figure size 432x288 with 1 Axes>"
      ]
     },
     "metadata": {
      "needs_background": "light"
     },
     "output_type": "display_data"
    }
   ],
   "source": [
    "conellpp_test.groupby(by='word_count')['input_text'].count().head(10).plot(kind='bar')"
   ]
  },
  {
   "cell_type": "code",
   "execution_count": 61,
   "id": "b0788263",
   "metadata": {},
   "outputs": [
    {
     "data": {
      "text/html": [
       "<div>\n",
       "<style scoped>\n",
       "    .dataframe tbody tr th:only-of-type {\n",
       "        vertical-align: middle;\n",
       "    }\n",
       "\n",
       "    .dataframe tbody tr th {\n",
       "        vertical-align: top;\n",
       "    }\n",
       "\n",
       "    .dataframe thead th {\n",
       "        text-align: right;\n",
       "    }\n",
       "</style>\n",
       "<table border=\"1\" class=\"dataframe\">\n",
       "  <thead>\n",
       "    <tr style=\"text-align: right;\">\n",
       "      <th></th>\n",
       "      <th>input_text</th>\n",
       "      <th>target_text</th>\n",
       "      <th>word_count</th>\n",
       "      <th>NE_count</th>\n",
       "      <th>%_NE_in_sentence</th>\n",
       "    </tr>\n",
       "  </thead>\n",
       "  <tbody>\n",
       "    <tr>\n",
       "      <th>0</th>\n",
       "      <td>SOCCER - JAPAN GET LUCKY WIN , CHINA IN SURPRI...</td>\n",
       "      <td>*JAPAN*,*CHINA*</td>\n",
       "      <td>9</td>\n",
       "      <td>2</td>\n",
       "      <td>0.2</td>\n",
       "    </tr>\n",
       "    <tr>\n",
       "      <th>1</th>\n",
       "      <td>Nadim Ladki</td>\n",
       "      <td>*Nadim Ladki*</td>\n",
       "      <td>2</td>\n",
       "      <td>2</td>\n",
       "      <td>1.0</td>\n",
       "    </tr>\n",
       "    <tr>\n",
       "      <th>2</th>\n",
       "      <td>AL-AIN , United Arab Emirates 1996-12-06</td>\n",
       "      <td>*AL-AIN*,*United Arab Emirates*</td>\n",
       "      <td>5</td>\n",
       "      <td>4</td>\n",
       "      <td>0.8</td>\n",
       "    </tr>\n",
       "    <tr>\n",
       "      <th>3</th>\n",
       "      <td>Japan began the defence of their Asian Cup tit...</td>\n",
       "      <td>*Japan*,*Asian Cup*,*Syria*</td>\n",
       "      <td>24</td>\n",
       "      <td>4</td>\n",
       "      <td>0.2</td>\n",
       "    </tr>\n",
       "    <tr>\n",
       "      <th>4</th>\n",
       "      <td>But China saw their luck desert them in the se...</td>\n",
       "      <td>*China*,*Uzbekistan*</td>\n",
       "      <td>23</td>\n",
       "      <td>2</td>\n",
       "      <td>0.1</td>\n",
       "    </tr>\n",
       "    <tr>\n",
       "      <th>...</th>\n",
       "      <td>...</td>\n",
       "      <td>...</td>\n",
       "      <td>...</td>\n",
       "      <td>...</td>\n",
       "      <td>...</td>\n",
       "    </tr>\n",
       "    <tr>\n",
       "      <th>3444</th>\n",
       "      <td>It all culminated in the fact that I now have ...</td>\n",
       "      <td>*Ireland*</td>\n",
       "      <td>17</td>\n",
       "      <td>1</td>\n",
       "      <td>0.1</td>\n",
       "    </tr>\n",
       "    <tr>\n",
       "      <th>3445</th>\n",
       "      <td>That is why this is so emotional a night for m...</td>\n",
       "      <td>*Charlton*</td>\n",
       "      <td>13</td>\n",
       "      <td>1</td>\n",
       "      <td>0.1</td>\n",
       "    </tr>\n",
       "    <tr>\n",
       "      <th>3446</th>\n",
       "      <td>\" It was the joy that we all had over the peri...</td>\n",
       "      <td>**</td>\n",
       "      <td>27</td>\n",
       "      <td>0</td>\n",
       "      <td>0.0</td>\n",
       "    </tr>\n",
       "    <tr>\n",
       "      <th>3447</th>\n",
       "      <td>Charlton managed Ireland for 93 matches , duri...</td>\n",
       "      <td>*Charlton*,*Ireland*</td>\n",
       "      <td>24</td>\n",
       "      <td>2</td>\n",
       "      <td>0.1</td>\n",
       "    </tr>\n",
       "    <tr>\n",
       "      <th>3448</th>\n",
       "      <td>He guided Ireland to two successive World Cup ...</td>\n",
       "      <td>*Ireland*,*World Cup*,*European*,*Germany*,*Ir...</td>\n",
       "      <td>32</td>\n",
       "      <td>7</td>\n",
       "      <td>0.2</td>\n",
       "    </tr>\n",
       "  </tbody>\n",
       "</table>\n",
       "<p>3449 rows × 5 columns</p>\n",
       "</div>"
      ],
      "text/plain": [
       "                                             input_text  \\\n",
       "0     SOCCER - JAPAN GET LUCKY WIN , CHINA IN SURPRI...   \n",
       "1                                           Nadim Ladki   \n",
       "2              AL-AIN , United Arab Emirates 1996-12-06   \n",
       "3     Japan began the defence of their Asian Cup tit...   \n",
       "4     But China saw their luck desert them in the se...   \n",
       "...                                                 ...   \n",
       "3444  It all culminated in the fact that I now have ...   \n",
       "3445  That is why this is so emotional a night for m...   \n",
       "3446  \" It was the joy that we all had over the peri...   \n",
       "3447  Charlton managed Ireland for 93 matches , duri...   \n",
       "3448  He guided Ireland to two successive World Cup ...   \n",
       "\n",
       "                                            target_text  word_count  NE_count  \\\n",
       "0                                       *JAPAN*,*CHINA*           9         2   \n",
       "1                                         *Nadim Ladki*           2         2   \n",
       "2                       *AL-AIN*,*United Arab Emirates*           5         4   \n",
       "3                           *Japan*,*Asian Cup*,*Syria*          24         4   \n",
       "4                                  *China*,*Uzbekistan*          23         2   \n",
       "...                                                 ...         ...       ...   \n",
       "3444                                          *Ireland*          17         1   \n",
       "3445                                         *Charlton*          13         1   \n",
       "3446                                                 **          27         0   \n",
       "3447                               *Charlton*,*Ireland*          24         2   \n",
       "3448  *Ireland*,*World Cup*,*European*,*Germany*,*Ir...          32         7   \n",
       "\n",
       "      %_NE_in_sentence  \n",
       "0                  0.2  \n",
       "1                  1.0  \n",
       "2                  0.8  \n",
       "3                  0.2  \n",
       "4                  0.1  \n",
       "...                ...  \n",
       "3444               0.1  \n",
       "3445               0.1  \n",
       "3446               0.0  \n",
       "3447               0.1  \n",
       "3448               0.2  \n",
       "\n",
       "[3449 rows x 5 columns]"
      ]
     },
     "execution_count": 61,
     "metadata": {},
     "output_type": "execute_result"
    }
   ],
   "source": [
    "conellpp_test = conellpp_test.drop(conellpp_test.loc[conellpp_test['word_count'] == 0].index).reset_index(drop=True)\n",
    "conellpp_test"
   ]
  },
  {
   "cell_type": "code",
   "execution_count": null,
   "id": "532fec87",
   "metadata": {},
   "outputs": [],
   "source": []
  },
  {
   "cell_type": "code",
   "execution_count": 62,
   "id": "b5a096a1",
   "metadata": {},
   "outputs": [
    {
     "name": "stdout",
     "output_type": "stream",
     "text": [
      "there are 0.13460377683883762 sentences in the range of 0:0.1\n"
     ]
    },
    {
     "data": {
      "image/png": "[encoded data removed]",
      "text/plain": [
       "<Figure size 432x288 with 1 Axes>"
      ]
     },
     "metadata": {
      "needs_background": "light"
     },
     "output_type": "display_data"
    }
   ],
   "source": [
    "plot_percent_NE = wikineural_test['%_NE_in_sentence'].value_counts().sort_index()\n",
    "plot_percent_NE.plot(kind='bar')\n",
    "print(\"there are\", sum(plot_percent_NE.loc[0:0.099])/len(wikineural_test), \"sentences in the range of 0:0.1\")"
   ]
  },
  {
   "cell_type": "code",
   "execution_count": 63,
   "id": "20d4f4a0",
   "metadata": {},
   "outputs": [
    {
     "data": {
      "text/plain": [
       "<AxesSubplot:xlabel='word_count'>"
      ]
     },
     "execution_count": 63,
     "metadata": {},
     "output_type": "execute_result"
    },
    {
     "data": {
      "image/png": "[encoded data removed]",
      "text/plain": [
       "<Figure size 432x288 with 1 Axes>"
      ]
     },
     "metadata": {
      "needs_background": "light"
     },
     "output_type": "display_data"
    }
   ],
   "source": [
    "wikineural_test.groupby(by='word_count')['input_text'].count().head(10).plot(kind='bar')"
   ]
  },
  {
   "cell_type": "code",
   "execution_count": null,
   "id": "2e1f8737",
   "metadata": {},
   "outputs": [],
   "source": []
  },
  {
   "cell_type": "code",
   "execution_count": 64,
   "id": "c07335ac",
   "metadata": {},
   "outputs": [
    {
     "name": "stdout",
     "output_type": "stream",
     "text": [
      "11488\n",
      "there are 0.6308531595696317 sentences in the range of 0:0.1\n"
     ]
    },
    {
     "data": {
      "image/png": "[encoded data removed]",
      "text/plain": [
       "<Figure size 432x288 with 1 Axes>"
      ]
     },
     "metadata": {
      "needs_background": "light"
     },
     "output_type": "display_data"
    }
   ],
   "source": [
    "plot_percent_NE = onto_test['%_NE_in_sentence'].value_counts().sort_index()\n",
    "plot_percent_NE.plot(kind='bar')\n",
    "print(len(onto_val))\n",
    "print(\"there are\", sum(plot_percent_NE.loc[0:0.099])/len(onto_test), \"sentences in the range of 0:0.1\")"
   ]
  },
  {
   "cell_type": "code",
   "execution_count": 65,
   "id": "058cfd72",
   "metadata": {},
   "outputs": [
    {
     "data": {
      "text/html": [
       "<div>\n",
       "<style scoped>\n",
       "    .dataframe tbody tr th:only-of-type {\n",
       "        vertical-align: middle;\n",
       "    }\n",
       "\n",
       "    .dataframe tbody tr th {\n",
       "        vertical-align: top;\n",
       "    }\n",
       "\n",
       "    .dataframe thead th {\n",
       "        text-align: right;\n",
       "    }\n",
       "</style>\n",
       "<table border=\"1\" class=\"dataframe\">\n",
       "  <thead>\n",
       "    <tr style=\"text-align: right;\">\n",
       "      <th></th>\n",
       "      <th>input_text</th>\n",
       "      <th>target_text</th>\n",
       "      <th>word_count</th>\n",
       "      <th>NE_count</th>\n",
       "      <th>%_NE_in_sentence</th>\n",
       "    </tr>\n",
       "  </thead>\n",
       "  <tbody>\n",
       "    <tr>\n",
       "      <th>44640</th>\n",
       "      <td>When fully operational, the Guadalajara factor...</td>\n",
       "      <td>*about 1,500*,*annual*,*Guadalajara*,*$ 5 mill...</td>\n",
       "      <td>24</td>\n",
       "      <td>4</td>\n",
       "      <td>0.2</td>\n",
       "    </tr>\n",
       "    <tr>\n",
       "      <th>65533</th>\n",
       "      <td>The kit, which has a suggested retail price of...</td>\n",
       "      <td>*250*</td>\n",
       "      <td>30</td>\n",
       "      <td>1</td>\n",
       "      <td>0.0</td>\n",
       "    </tr>\n",
       "    <tr>\n",
       "      <th>18810</th>\n",
       "      <td>New two-year notes ended unchanged while three...</td>\n",
       "      <td>*two-year*,*three-year*,*four-year*</td>\n",
       "      <td>13</td>\n",
       "      <td>1</td>\n",
       "      <td>0.1</td>\n",
       "    </tr>\n",
       "    <tr>\n",
       "      <th>119325</th>\n",
       "      <td>He said, `` Send a message to David now !</td>\n",
       "      <td>**</td>\n",
       "      <td>10</td>\n",
       "      <td>0</td>\n",
       "      <td>0.0</td>\n",
       "    </tr>\n",
       "    <tr>\n",
       "      <th>29394</th>\n",
       "      <td>Little chance that Shane Longman is going to r...</td>\n",
       "      <td>*today*,*Shane Longman*</td>\n",
       "      <td>10</td>\n",
       "      <td>2</td>\n",
       "      <td>0.2</td>\n",
       "    </tr>\n",
       "    <tr>\n",
       "      <th>...</th>\n",
       "      <td>...</td>\n",
       "      <td>...</td>\n",
       "      <td>...</td>\n",
       "      <td>...</td>\n",
       "      <td>...</td>\n",
       "    </tr>\n",
       "    <tr>\n",
       "      <th>44180</th>\n",
       "      <td>And we have Elizabeth back.</td>\n",
       "      <td>*Elizabeth*</td>\n",
       "      <td>5</td>\n",
       "      <td>1</td>\n",
       "      <td>0.2</td>\n",
       "    </tr>\n",
       "    <tr>\n",
       "      <th>21598</th>\n",
       "      <td>For stock indexes, the underlying investment m...</td>\n",
       "      <td>**</td>\n",
       "      <td>20</td>\n",
       "      <td>0</td>\n",
       "      <td>0.0</td>\n",
       "    </tr>\n",
       "    <tr>\n",
       "      <th>19278</th>\n",
       "      <td>The comptroller and auditor-general of India r...</td>\n",
       "      <td>*India*,*Bofors*</td>\n",
       "      <td>20</td>\n",
       "      <td>2</td>\n",
       "      <td>0.1</td>\n",
       "    </tr>\n",
       "    <tr>\n",
       "      <th>7498</th>\n",
       "      <td>Let's see whether it's true and start making p...</td>\n",
       "      <td>**</td>\n",
       "      <td>10</td>\n",
       "      <td>0</td>\n",
       "      <td>0.0</td>\n",
       "    </tr>\n",
       "    <tr>\n",
       "      <th>126054</th>\n",
       "      <td>The House impeached him and the Senate convict...</td>\n",
       "      <td>*1989*,*House*,*Senate*,*Hastings*</td>\n",
       "      <td>15</td>\n",
       "      <td>3</td>\n",
       "      <td>0.2</td>\n",
       "    </tr>\n",
       "  </tbody>\n",
       "</table>\n",
       "<p>11471 rows × 5 columns</p>\n",
       "</div>"
      ],
      "text/plain": [
       "                                               input_text  \\\n",
       "44640   When fully operational, the Guadalajara factor...   \n",
       "65533   The kit, which has a suggested retail price of...   \n",
       "18810   New two-year notes ended unchanged while three...   \n",
       "119325          He said, `` Send a message to David now !   \n",
       "29394   Little chance that Shane Longman is going to r...   \n",
       "...                                                   ...   \n",
       "44180                         And we have Elizabeth back.   \n",
       "21598   For stock indexes, the underlying investment m...   \n",
       "19278   The comptroller and auditor-general of India r...   \n",
       "7498    Let's see whether it's true and start making p...   \n",
       "126054  The House impeached him and the Senate convict...   \n",
       "\n",
       "                                              target_text  word_count  \\\n",
       "44640   *about 1,500*,*annual*,*Guadalajara*,*$ 5 mill...          24   \n",
       "65533                                               *250*          30   \n",
       "18810                 *two-year*,*three-year*,*four-year*          13   \n",
       "119325                                                 **          10   \n",
       "29394                             *today*,*Shane Longman*          10   \n",
       "...                                                   ...         ...   \n",
       "44180                                         *Elizabeth*           5   \n",
       "21598                                                  **          20   \n",
       "19278                                    *India*,*Bofors*          20   \n",
       "7498                                                   **          10   \n",
       "126054                 *1989*,*House*,*Senate*,*Hastings*          15   \n",
       "\n",
       "        NE_count  %_NE_in_sentence  \n",
       "44640          4               0.2  \n",
       "65533          1               0.0  \n",
       "18810          1               0.1  \n",
       "119325         0               0.0  \n",
       "29394          2               0.2  \n",
       "...          ...               ...  \n",
       "44180          1               0.2  \n",
       "21598          0               0.0  \n",
       "19278          2               0.1  \n",
       "7498           0               0.0  \n",
       "126054         3               0.2  \n",
       "\n",
       "[11471 rows x 5 columns]"
      ]
     },
     "execution_count": 65,
     "metadata": {},
     "output_type": "execute_result"
    }
   ],
   "source": [
    "# dropping half of the rows with zero entities randomly\n",
    "\n",
    "np.random.seed(10)\n",
    "zero_entities = onto_test.loc[onto_test['%_NE_in_sentence']==0].index\n",
    "remove_n = round(len(zero_entities)*2/3)\n",
    "\n",
    "drop_indices = np.random.choice(zero_entities, remove_n, replace=False)\n",
    "onto_test.drop(drop_indices, inplace=True)\n",
    "onto_test"
   ]
  },
  {
   "cell_type": "code",
   "execution_count": 66,
   "id": "4af29775",
   "metadata": {},
   "outputs": [
    {
     "name": "stdout",
     "output_type": "stream",
     "text": [
      "11471\n",
      "there are 0.36291517740388807 sentences in the range of 0:0.1\n",
      "4163\n"
     ]
    },
    {
     "data": {
      "image/png": "[encoded data removed]",
      "text/plain": [
       "<Figure size 432x288 with 1 Axes>"
      ]
     },
     "metadata": {
      "needs_background": "light"
     },
     "output_type": "display_data"
    }
   ],
   "source": [
    "plot_percent_NE = onto_test['%_NE_in_sentence'].value_counts().sort_index()\n",
    "plot_percent_NE.plot(kind='bar')\n",
    "print(len(onto_test))\n",
    "print(\"there are\", sum(plot_percent_NE.loc[0:0.01])/len(onto_test), \"sentences in the range of 0:0.1\")\n",
    "print(sum(plot_percent_NE.loc[0:0.01]))"
   ]
  },
  {
   "cell_type": "code",
   "execution_count": 67,
   "id": "d7600a05",
   "metadata": {},
   "outputs": [
    {
     "data": {
      "text/plain": [
       "<AxesSubplot:xlabel='word_count'>"
      ]
     },
     "execution_count": 67,
     "metadata": {},
     "output_type": "execute_result"
    },
    {
     "data": {
      "image/png": "[encoded data removed]",
      "text/plain": [
       "<Figure size 432x288 with 1 Axes>"
      ]
     },
     "metadata": {
      "needs_background": "light"
     },
     "output_type": "display_data"
    }
   ],
   "source": [
    "onto_test.groupby(by='word_count')['input_text'].count().head(10).plot(kind='bar')"
   ]
  },
  {
   "cell_type": "code",
   "execution_count": null,
   "id": "c697680b",
   "metadata": {},
   "outputs": [],
   "source": []
  },
  {
   "cell_type": "code",
   "execution_count": 68,
   "id": "12572474",
   "metadata": {},
   "outputs": [
    {
     "name": "stdout",
     "output_type": "stream",
     "text": [
      "1287\n",
      "there are 0.5501165501165501 sentences in the range of 0:0.1\n"
     ]
    },
    {
     "data": {
      "image/png": "[encoded data removed]",
      "text/plain": [
       "<Figure size 432x288 with 1 Axes>"
      ]
     },
     "metadata": {
      "needs_background": "light"
     },
     "output_type": "display_data"
    }
   ],
   "source": [
    "plot_percent_NE = wnut_test['%_NE_in_sentence'].value_counts().sort_index()\n",
    "plot_percent_NE.plot(kind='bar')\n",
    "print(len(wnut_test))\n",
    "print(\"there are\", sum(plot_percent_NE.loc[0:0.099])/len(wnut_test), \"sentences in the range of 0:0.1\")"
   ]
  },
  {
   "cell_type": "code",
   "execution_count": 69,
   "id": "2e108fd3",
   "metadata": {},
   "outputs": [
    {
     "data": {
      "text/html": [
       "<div>\n",
       "<style scoped>\n",
       "    .dataframe tbody tr th:only-of-type {\n",
       "        vertical-align: middle;\n",
       "    }\n",
       "\n",
       "    .dataframe tbody tr th {\n",
       "        vertical-align: top;\n",
       "    }\n",
       "\n",
       "    .dataframe thead th {\n",
       "        text-align: right;\n",
       "    }\n",
       "</style>\n",
       "<table border=\"1\" class=\"dataframe\">\n",
       "  <thead>\n",
       "    <tr style=\"text-align: right;\">\n",
       "      <th></th>\n",
       "      <th>input_text</th>\n",
       "      <th>target_text</th>\n",
       "      <th>word_count</th>\n",
       "      <th>NE_count</th>\n",
       "      <th>%_NE_in_sentence</th>\n",
       "    </tr>\n",
       "  </thead>\n",
       "  <tbody>\n",
       "    <tr>\n",
       "      <th>0</th>\n",
       "      <td>&amp; gt ; * The soldier was killed when another a...</td>\n",
       "      <td>*Sonmarg*</td>\n",
       "      <td>27</td>\n",
       "      <td>1</td>\n",
       "      <td>0.0</td>\n",
       "    </tr>\n",
       "    <tr>\n",
       "      <th>1</th>\n",
       "      <td>&amp; gt ; * Police last week evacuated 80 village...</td>\n",
       "      <td>*Waltengoo Nar*</td>\n",
       "      <td>34</td>\n",
       "      <td>2</td>\n",
       "      <td>0.1</td>\n",
       "    </tr>\n",
       "    <tr>\n",
       "      <th>2</th>\n",
       "      <td>&amp; gt ; * The army on Thursday recovered the bo...</td>\n",
       "      <td>**</td>\n",
       "      <td>26</td>\n",
       "      <td>0</td>\n",
       "      <td>0.0</td>\n",
       "    </tr>\n",
       "    <tr>\n",
       "      <th>3</th>\n",
       "      <td>&amp; gt ; * The four civilians killed included tw...</td>\n",
       "      <td>**</td>\n",
       "      <td>32</td>\n",
       "      <td>0</td>\n",
       "      <td>0.0</td>\n",
       "    </tr>\n",
       "    <tr>\n",
       "      <th>4</th>\n",
       "      <td>The bodies of the soldiers were recovered afte...</td>\n",
       "      <td>*Avalanche Rescue Teams*,*ART*</td>\n",
       "      <td>32</td>\n",
       "      <td>4</td>\n",
       "      <td>0.1</td>\n",
       "    </tr>\n",
       "    <tr>\n",
       "      <th>...</th>\n",
       "      <td>...</td>\n",
       "      <td>...</td>\n",
       "      <td>...</td>\n",
       "      <td>...</td>\n",
       "      <td>...</td>\n",
       "    </tr>\n",
       "    <tr>\n",
       "      <th>1282</th>\n",
       "      <td>RT @ Ioverthoughts : i like looking cute but i...</td>\n",
       "      <td>**</td>\n",
       "      <td>15</td>\n",
       "      <td>0</td>\n",
       "      <td>0.0</td>\n",
       "    </tr>\n",
       "    <tr>\n",
       "      <th>1283</th>\n",
       "      <td>RT @ tybrokesign : talk about a plot twist LMA...</td>\n",
       "      <td>**</td>\n",
       "      <td>11</td>\n",
       "      <td>0</td>\n",
       "      <td>0.0</td>\n",
       "    </tr>\n",
       "    <tr>\n",
       "      <th>1284</th>\n",
       "      <td>It ' s # FF add us https://t.co/1W0ACWfr10 rep...</td>\n",
       "      <td>**</td>\n",
       "      <td>19</td>\n",
       "      <td>0</td>\n",
       "      <td>0.0</td>\n",
       "    </tr>\n",
       "    <tr>\n",
       "      <th>1285</th>\n",
       "      <td>No Cousins today . . . Pelicans offence could ...</td>\n",
       "      <td>*Cousins*,*Pelicans*,*Holiday*</td>\n",
       "      <td>22</td>\n",
       "      <td>3</td>\n",
       "      <td>0.1</td>\n",
       "    </tr>\n",
       "    <tr>\n",
       "      <th>1286</th>\n",
       "      <td>@ KenyeahMonae It ' s my school fault , girl t...</td>\n",
       "      <td>*@ KenyeahMonae*</td>\n",
       "      <td>18</td>\n",
       "      <td>1</td>\n",
       "      <td>0.1</td>\n",
       "    </tr>\n",
       "  </tbody>\n",
       "</table>\n",
       "<p>1287 rows × 5 columns</p>\n",
       "</div>"
      ],
      "text/plain": [
       "                                             input_text  \\\n",
       "0     & gt ; * The soldier was killed when another a...   \n",
       "1     & gt ; * Police last week evacuated 80 village...   \n",
       "2     & gt ; * The army on Thursday recovered the bo...   \n",
       "3     & gt ; * The four civilians killed included tw...   \n",
       "4     The bodies of the soldiers were recovered afte...   \n",
       "...                                                 ...   \n",
       "1282  RT @ Ioverthoughts : i like looking cute but i...   \n",
       "1283  RT @ tybrokesign : talk about a plot twist LMA...   \n",
       "1284  It ' s # FF add us https://t.co/1W0ACWfr10 rep...   \n",
       "1285  No Cousins today . . . Pelicans offence could ...   \n",
       "1286  @ KenyeahMonae It ' s my school fault , girl t...   \n",
       "\n",
       "                         target_text  word_count  NE_count  %_NE_in_sentence  \n",
       "0                          *Sonmarg*          27         1               0.0  \n",
       "1                    *Waltengoo Nar*          34         2               0.1  \n",
       "2                                 **          26         0               0.0  \n",
       "3                                 **          32         0               0.0  \n",
       "4     *Avalanche Rescue Teams*,*ART*          32         4               0.1  \n",
       "...                              ...         ...       ...               ...  \n",
       "1282                              **          15         0               0.0  \n",
       "1283                              **          11         0               0.0  \n",
       "1284                              **          19         0               0.0  \n",
       "1285  *Cousins*,*Pelicans*,*Holiday*          22         3               0.1  \n",
       "1286                *@ KenyeahMonae*          18         1               0.1  \n",
       "\n",
       "[1287 rows x 5 columns]"
      ]
     },
     "execution_count": 69,
     "metadata": {},
     "output_type": "execute_result"
    }
   ],
   "source": [
    "wnut_test"
   ]
  },
  {
   "cell_type": "code",
   "execution_count": 70,
   "id": "2be235eb",
   "metadata": {
    "scrolled": true
   },
   "outputs": [
    {
     "data": {
      "text/html": [
       "<div>\n",
       "<style scoped>\n",
       "    .dataframe tbody tr th:only-of-type {\n",
       "        vertical-align: middle;\n",
       "    }\n",
       "\n",
       "    .dataframe tbody tr th {\n",
       "        vertical-align: top;\n",
       "    }\n",
       "\n",
       "    .dataframe thead th {\n",
       "        text-align: right;\n",
       "    }\n",
       "</style>\n",
       "<table border=\"1\" class=\"dataframe\">\n",
       "  <thead>\n",
       "    <tr style=\"text-align: right;\">\n",
       "      <th></th>\n",
       "      <th>input_text</th>\n",
       "      <th>target_text</th>\n",
       "      <th>word_count</th>\n",
       "      <th>NE_count</th>\n",
       "      <th>%_NE_in_sentence</th>\n",
       "    </tr>\n",
       "  </thead>\n",
       "  <tbody>\n",
       "    <tr>\n",
       "      <th>0</th>\n",
       "      <td>&amp; gt ; * The soldier was killed when another a...</td>\n",
       "      <td>*Sonmarg*</td>\n",
       "      <td>27</td>\n",
       "      <td>1</td>\n",
       "      <td>0.0</td>\n",
       "    </tr>\n",
       "    <tr>\n",
       "      <th>1</th>\n",
       "      <td>&amp; gt ; * Police last week evacuated 80 village...</td>\n",
       "      <td>*Waltengoo Nar*</td>\n",
       "      <td>34</td>\n",
       "      <td>2</td>\n",
       "      <td>0.1</td>\n",
       "    </tr>\n",
       "    <tr>\n",
       "      <th>2</th>\n",
       "      <td>The bodies of the soldiers were recovered afte...</td>\n",
       "      <td>*Avalanche Rescue Teams*,*ART*</td>\n",
       "      <td>32</td>\n",
       "      <td>4</td>\n",
       "      <td>0.1</td>\n",
       "    </tr>\n",
       "    <tr>\n",
       "      <th>3</th>\n",
       "      <td>&amp; gt ; * Arrangements are in place to carry th...</td>\n",
       "      <td>*Colonel Rajesh Kalia*</td>\n",
       "      <td>33</td>\n",
       "      <td>3</td>\n",
       "      <td>0.1</td>\n",
       "    </tr>\n",
       "    <tr>\n",
       "      <th>4</th>\n",
       "      <td>Visuals of the avalanche site in Gurez sector .</td>\n",
       "      <td>*Gurez sector*</td>\n",
       "      <td>9</td>\n",
       "      <td>2</td>\n",
       "      <td>0.2</td>\n",
       "    </tr>\n",
       "    <tr>\n",
       "      <th>...</th>\n",
       "      <td>...</td>\n",
       "      <td>...</td>\n",
       "      <td>...</td>\n",
       "      <td>...</td>\n",
       "      <td>...</td>\n",
       "    </tr>\n",
       "    <tr>\n",
       "      <th>810</th>\n",
       "      <td>RT @ marIboros : short girls were born with at...</td>\n",
       "      <td>*marIboros*</td>\n",
       "      <td>11</td>\n",
       "      <td>1</td>\n",
       "      <td>0.1</td>\n",
       "    </tr>\n",
       "    <tr>\n",
       "      <th>811</th>\n",
       "      <td>A proper # StPatricksDay drink https://t.co/c4...</td>\n",
       "      <td>**</td>\n",
       "      <td>6</td>\n",
       "      <td>0</td>\n",
       "      <td>0.0</td>\n",
       "    </tr>\n",
       "    <tr>\n",
       "      <th>812</th>\n",
       "      <td>Never Been To Shakers Before</td>\n",
       "      <td>*Shakers*</td>\n",
       "      <td>5</td>\n",
       "      <td>1</td>\n",
       "      <td>0.2</td>\n",
       "    </tr>\n",
       "    <tr>\n",
       "      <th>813</th>\n",
       "      <td>No Cousins today . . . Pelicans offence could ...</td>\n",
       "      <td>*Cousins*,*Pelicans*,*Holiday*</td>\n",
       "      <td>22</td>\n",
       "      <td>3</td>\n",
       "      <td>0.1</td>\n",
       "    </tr>\n",
       "    <tr>\n",
       "      <th>814</th>\n",
       "      <td>@ KenyeahMonae It ' s my school fault , girl t...</td>\n",
       "      <td>*@ KenyeahMonae*</td>\n",
       "      <td>18</td>\n",
       "      <td>1</td>\n",
       "      <td>0.1</td>\n",
       "    </tr>\n",
       "  </tbody>\n",
       "</table>\n",
       "<p>815 rows × 5 columns</p>\n",
       "</div>"
      ],
      "text/plain": [
       "                                            input_text  \\\n",
       "0    & gt ; * The soldier was killed when another a...   \n",
       "1    & gt ; * Police last week evacuated 80 village...   \n",
       "2    The bodies of the soldiers were recovered afte...   \n",
       "3    & gt ; * Arrangements are in place to carry th...   \n",
       "4      Visuals of the avalanche site in Gurez sector .   \n",
       "..                                                 ...   \n",
       "810  RT @ marIboros : short girls were born with at...   \n",
       "811  A proper # StPatricksDay drink https://t.co/c4...   \n",
       "812                       Never Been To Shakers Before   \n",
       "813  No Cousins today . . . Pelicans offence could ...   \n",
       "814  @ KenyeahMonae It ' s my school fault , girl t...   \n",
       "\n",
       "                        target_text  word_count  NE_count  %_NE_in_sentence  \n",
       "0                         *Sonmarg*          27         1               0.0  \n",
       "1                   *Waltengoo Nar*          34         2               0.1  \n",
       "2    *Avalanche Rescue Teams*,*ART*          32         4               0.1  \n",
       "3            *Colonel Rajesh Kalia*          33         3               0.1  \n",
       "4                    *Gurez sector*           9         2               0.2  \n",
       "..                              ...         ...       ...               ...  \n",
       "810                     *marIboros*          11         1               0.1  \n",
       "811                              **           6         0               0.0  \n",
       "812                       *Shakers*           5         1               0.2  \n",
       "813  *Cousins*,*Pelicans*,*Holiday*          22         3               0.1  \n",
       "814                *@ KenyeahMonae*          18         1               0.1  \n",
       "\n",
       "[815 rows x 5 columns]"
      ]
     },
     "execution_count": 70,
     "metadata": {},
     "output_type": "execute_result"
    }
   ],
   "source": [
    "# dropping half of the rows with zero entities randomly\n",
    "\n",
    "np.random.seed(10)\n",
    "zero_entities = wnut_test.loc[wnut_test['%_NE_in_sentence']==0].index\n",
    "remove_n = round(len(zero_entities)*2/3)\n",
    "\n",
    "drop_indices = np.random.choice(zero_entities, remove_n, replace=False)\n",
    "wnut_test = wnut_test.drop(drop_indices).reset_index(drop=True)\n",
    "wnut_test"
   ]
  },
  {
   "cell_type": "code",
   "execution_count": 71,
   "id": "755e4a05",
   "metadata": {
    "scrolled": true
   },
   "outputs": [
    {
     "name": "stdout",
     "output_type": "stream",
     "text": [
      "there are 0.28957055214723926 sentences in the range of 0:0.1\n"
     ]
    },
    {
     "data": {
      "text/plain": [
       "815"
      ]
     },
     "execution_count": 71,
     "metadata": {},
     "output_type": "execute_result"
    },
    {
     "data": {
      "image/png": "[encoded data removed]",
      "text/plain": [
       "<Figure size 432x288 with 1 Axes>"
      ]
     },
     "metadata": {
      "needs_background": "light"
     },
     "output_type": "display_data"
    }
   ],
   "source": [
    "plot_percent_NE = wnut_test['%_NE_in_sentence'].value_counts().sort_index()\n",
    "plot_percent_NE.plot(kind='bar')\n",
    "print(\"there are\", sum(plot_percent_NE.loc[0:0.099])/len(wnut_test), \"sentences in the range of 0:0.1\")\n",
    "len(wnut_test)"
   ]
  },
  {
   "cell_type": "code",
   "execution_count": 72,
   "id": "15948ec4",
   "metadata": {},
   "outputs": [
    {
     "data": {
      "text/plain": [
       "<AxesSubplot:xlabel='word_count'>"
      ]
     },
     "execution_count": 72,
     "metadata": {},
     "output_type": "execute_result"
    },
    {
     "data": {
      "image/png": "[encoded data removed]",
      "text/plain": [
       "<Figure size 432x288 with 1 Axes>"
      ]
     },
     "metadata": {
      "needs_background": "light"
     },
     "output_type": "display_data"
    }
   ],
   "source": [
    "wnut_test.groupby(by='word_count')['input_text'].count().head(10).plot(kind='bar')"
   ]
  },
  {
   "cell_type": "markdown",
   "id": "fe5ede1f",
   "metadata": {},
   "source": [
    "### Combining the datasets"
   ]
  },
  {
   "cell_type": "code",
   "execution_count": 73,
   "id": "2eb0469c",
   "metadata": {},
   "outputs": [
    {
     "data": {
      "text/html": [
       "<div>\n",
       "<style scoped>\n",
       "    .dataframe tbody tr th:only-of-type {\n",
       "        vertical-align: middle;\n",
       "    }\n",
       "\n",
       "    .dataframe tbody tr th {\n",
       "        vertical-align: top;\n",
       "    }\n",
       "\n",
       "    .dataframe thead th {\n",
       "        text-align: right;\n",
       "    }\n",
       "</style>\n",
       "<table border=\"1\" class=\"dataframe\">\n",
       "  <thead>\n",
       "    <tr style=\"text-align: right;\">\n",
       "      <th></th>\n",
       "      <th>input_text</th>\n",
       "      <th>target_text</th>\n",
       "      <th>word_count</th>\n",
       "      <th>NE_count</th>\n",
       "      <th>%_NE_in_sentence</th>\n",
       "    </tr>\n",
       "  </thead>\n",
       "  <tbody>\n",
       "    <tr>\n",
       "      <th>0</th>\n",
       "      <td>SOCCER - JAPAN GET LUCKY WIN , CHINA IN SURPRI...</td>\n",
       "      <td>*JAPAN*,*CHINA*</td>\n",
       "      <td>9</td>\n",
       "      <td>2</td>\n",
       "      <td>0.2</td>\n",
       "    </tr>\n",
       "    <tr>\n",
       "      <th>1</th>\n",
       "      <td>Nadim Ladki</td>\n",
       "      <td>*Nadim Ladki*</td>\n",
       "      <td>2</td>\n",
       "      <td>2</td>\n",
       "      <td>1.0</td>\n",
       "    </tr>\n",
       "    <tr>\n",
       "      <th>2</th>\n",
       "      <td>AL-AIN , United Arab Emirates 1996-12-06</td>\n",
       "      <td>*AL-AIN*,*United Arab Emirates*</td>\n",
       "      <td>5</td>\n",
       "      <td>4</td>\n",
       "      <td>0.8</td>\n",
       "    </tr>\n",
       "    <tr>\n",
       "      <th>3</th>\n",
       "      <td>Japan began the defence of their Asian Cup tit...</td>\n",
       "      <td>*Japan*,*Asian Cup*,*Syria*</td>\n",
       "      <td>24</td>\n",
       "      <td>4</td>\n",
       "      <td>0.2</td>\n",
       "    </tr>\n",
       "    <tr>\n",
       "      <th>4</th>\n",
       "      <td>But China saw their luck desert them in the se...</td>\n",
       "      <td>*China*,*Uzbekistan*</td>\n",
       "      <td>23</td>\n",
       "      <td>2</td>\n",
       "      <td>0.1</td>\n",
       "    </tr>\n",
       "    <tr>\n",
       "      <th>...</th>\n",
       "      <td>...</td>\n",
       "      <td>...</td>\n",
       "      <td>...</td>\n",
       "      <td>...</td>\n",
       "      <td>...</td>\n",
       "    </tr>\n",
       "    <tr>\n",
       "      <th>26830</th>\n",
       "      <td>RT @ marIboros : short girls were born with at...</td>\n",
       "      <td>*marIboros*</td>\n",
       "      <td>11</td>\n",
       "      <td>1</td>\n",
       "      <td>0.1</td>\n",
       "    </tr>\n",
       "    <tr>\n",
       "      <th>26831</th>\n",
       "      <td>A proper # StPatricksDay drink https://t.co/c4...</td>\n",
       "      <td>**</td>\n",
       "      <td>6</td>\n",
       "      <td>0</td>\n",
       "      <td>0.0</td>\n",
       "    </tr>\n",
       "    <tr>\n",
       "      <th>26832</th>\n",
       "      <td>Never Been To Shakers Before</td>\n",
       "      <td>*Shakers*</td>\n",
       "      <td>5</td>\n",
       "      <td>1</td>\n",
       "      <td>0.2</td>\n",
       "    </tr>\n",
       "    <tr>\n",
       "      <th>26833</th>\n",
       "      <td>No Cousins today . . . Pelicans offence could ...</td>\n",
       "      <td>*Cousins*,*Pelicans*,*Holiday*</td>\n",
       "      <td>22</td>\n",
       "      <td>3</td>\n",
       "      <td>0.1</td>\n",
       "    </tr>\n",
       "    <tr>\n",
       "      <th>26834</th>\n",
       "      <td>@ KenyeahMonae It ' s my school fault , girl t...</td>\n",
       "      <td>*@ KenyeahMonae*</td>\n",
       "      <td>18</td>\n",
       "      <td>1</td>\n",
       "      <td>0.1</td>\n",
       "    </tr>\n",
       "  </tbody>\n",
       "</table>\n",
       "<p>26835 rows × 5 columns</p>\n",
       "</div>"
      ],
      "text/plain": [
       "                                              input_text  \\\n",
       "0      SOCCER - JAPAN GET LUCKY WIN , CHINA IN SURPRI...   \n",
       "1                                            Nadim Ladki   \n",
       "2               AL-AIN , United Arab Emirates 1996-12-06   \n",
       "3      Japan began the defence of their Asian Cup tit...   \n",
       "4      But China saw their luck desert them in the se...   \n",
       "...                                                  ...   \n",
       "26830  RT @ marIboros : short girls were born with at...   \n",
       "26831  A proper # StPatricksDay drink https://t.co/c4...   \n",
       "26832                       Never Been To Shakers Before   \n",
       "26833  No Cousins today . . . Pelicans offence could ...   \n",
       "26834  @ KenyeahMonae It ' s my school fault , girl t...   \n",
       "\n",
       "                           target_text  word_count  NE_count  %_NE_in_sentence  \n",
       "0                      *JAPAN*,*CHINA*           9         2               0.2  \n",
       "1                        *Nadim Ladki*           2         2               1.0  \n",
       "2      *AL-AIN*,*United Arab Emirates*           5         4               0.8  \n",
       "3          *Japan*,*Asian Cup*,*Syria*          24         4               0.2  \n",
       "4                 *China*,*Uzbekistan*          23         2               0.1  \n",
       "...                                ...         ...       ...               ...  \n",
       "26830                      *marIboros*          11         1               0.1  \n",
       "26831                               **           6         0               0.0  \n",
       "26832                        *Shakers*           5         1               0.2  \n",
       "26833   *Cousins*,*Pelicans*,*Holiday*          22         3               0.1  \n",
       "26834                 *@ KenyeahMonae*          18         1               0.1  \n",
       "\n",
       "[26835 rows x 5 columns]"
      ]
     },
     "execution_count": 73,
     "metadata": {},
     "output_type": "execute_result"
    }
   ],
   "source": [
    "test_combined_df = pd.concat([conellpp_test, wikineural_test, onto_test, wnut_test], ignore_index=True).drop_duplicates().reset_index(drop=True)\n",
    "test_combined_df"
   ]
  },
  {
   "cell_type": "markdown",
   "id": "5585d30d",
   "metadata": {},
   "source": [
    "### creating a lowercase and uppercase versions of the training data"
   ]
  },
  {
   "cell_type": "code",
   "execution_count": 74,
   "id": "6dcaba38",
   "metadata": {},
   "outputs": [
    {
     "data": {
      "text/html": [
       "<div>\n",
       "<style scoped>\n",
       "    .dataframe tbody tr th:only-of-type {\n",
       "        vertical-align: middle;\n",
       "    }\n",
       "\n",
       "    .dataframe tbody tr th {\n",
       "        vertical-align: top;\n",
       "    }\n",
       "\n",
       "    .dataframe thead th {\n",
       "        text-align: right;\n",
       "    }\n",
       "</style>\n",
       "<table border=\"1\" class=\"dataframe\">\n",
       "  <thead>\n",
       "    <tr style=\"text-align: right;\">\n",
       "      <th></th>\n",
       "      <th>input_text</th>\n",
       "      <th>target_text</th>\n",
       "    </tr>\n",
       "  </thead>\n",
       "  <tbody>\n",
       "    <tr>\n",
       "      <th>0</th>\n",
       "      <td>soccer - japan get lucky win , china in surpri...</td>\n",
       "      <td>*japan*,*china*</td>\n",
       "    </tr>\n",
       "    <tr>\n",
       "      <th>1</th>\n",
       "      <td>nadim ladki</td>\n",
       "      <td>*nadim ladki*</td>\n",
       "    </tr>\n",
       "    <tr>\n",
       "      <th>2</th>\n",
       "      <td>al-ain , united arab emirates 1996-12-06</td>\n",
       "      <td>*al-ain*,*united arab emirates*</td>\n",
       "    </tr>\n",
       "    <tr>\n",
       "      <th>3</th>\n",
       "      <td>japan began the defence of their asian cup tit...</td>\n",
       "      <td>*japan*,*asian cup*,*syria*</td>\n",
       "    </tr>\n",
       "    <tr>\n",
       "      <th>4</th>\n",
       "      <td>but china saw their luck desert them in the se...</td>\n",
       "      <td>*china*,*uzbekistan*</td>\n",
       "    </tr>\n",
       "    <tr>\n",
       "      <th>...</th>\n",
       "      <td>...</td>\n",
       "      <td>...</td>\n",
       "    </tr>\n",
       "    <tr>\n",
       "      <th>26830</th>\n",
       "      <td>rt @ mariboros : short girls were born with at...</td>\n",
       "      <td>*mariboros*</td>\n",
       "    </tr>\n",
       "    <tr>\n",
       "      <th>26831</th>\n",
       "      <td>a proper # stpatricksday drink https://t.co/c4...</td>\n",
       "      <td>**</td>\n",
       "    </tr>\n",
       "    <tr>\n",
       "      <th>26832</th>\n",
       "      <td>never been to shakers before</td>\n",
       "      <td>*shakers*</td>\n",
       "    </tr>\n",
       "    <tr>\n",
       "      <th>26833</th>\n",
       "      <td>no cousins today . . . pelicans offence could ...</td>\n",
       "      <td>*cousins*,*pelicans*,*holiday*</td>\n",
       "    </tr>\n",
       "    <tr>\n",
       "      <th>26834</th>\n",
       "      <td>@ kenyeahmonae it ' s my school fault , girl t...</td>\n",
       "      <td>*@ kenyeahmonae*</td>\n",
       "    </tr>\n",
       "  </tbody>\n",
       "</table>\n",
       "<p>26835 rows × 2 columns</p>\n",
       "</div>"
      ],
      "text/plain": [
       "                                              input_text  \\\n",
       "0      soccer - japan get lucky win , china in surpri...   \n",
       "1                                            nadim ladki   \n",
       "2               al-ain , united arab emirates 1996-12-06   \n",
       "3      japan began the defence of their asian cup tit...   \n",
       "4      but china saw their luck desert them in the se...   \n",
       "...                                                  ...   \n",
       "26830  rt @ mariboros : short girls were born with at...   \n",
       "26831  a proper # stpatricksday drink https://t.co/c4...   \n",
       "26832                       never been to shakers before   \n",
       "26833  no cousins today . . . pelicans offence could ...   \n",
       "26834  @ kenyeahmonae it ' s my school fault , girl t...   \n",
       "\n",
       "                           target_text  \n",
       "0                      *japan*,*china*  \n",
       "1                        *nadim ladki*  \n",
       "2      *al-ain*,*united arab emirates*  \n",
       "3          *japan*,*asian cup*,*syria*  \n",
       "4                 *china*,*uzbekistan*  \n",
       "...                                ...  \n",
       "26830                      *mariboros*  \n",
       "26831                               **  \n",
       "26832                        *shakers*  \n",
       "26833   *cousins*,*pelicans*,*holiday*  \n",
       "26834                 *@ kenyeahmonae*  \n",
       "\n",
       "[26835 rows x 2 columns]"
      ]
     },
     "execution_count": 74,
     "metadata": {},
     "output_type": "execute_result"
    }
   ],
   "source": [
    "lower_test = lower_case_df(test_combined_df)\n",
    "lower_test"
   ]
  },
  {
   "cell_type": "code",
   "execution_count": 75,
   "id": "28d264bb",
   "metadata": {},
   "outputs": [
    {
     "data": {
      "text/html": [
       "<div>\n",
       "<style scoped>\n",
       "    .dataframe tbody tr th:only-of-type {\n",
       "        vertical-align: middle;\n",
       "    }\n",
       "\n",
       "    .dataframe tbody tr th {\n",
       "        vertical-align: top;\n",
       "    }\n",
       "\n",
       "    .dataframe thead th {\n",
       "        text-align: right;\n",
       "    }\n",
       "</style>\n",
       "<table border=\"1\" class=\"dataframe\">\n",
       "  <thead>\n",
       "    <tr style=\"text-align: right;\">\n",
       "      <th></th>\n",
       "      <th>input_text</th>\n",
       "      <th>target_text</th>\n",
       "    </tr>\n",
       "  </thead>\n",
       "  <tbody>\n",
       "    <tr>\n",
       "      <th>0</th>\n",
       "      <td>RT @ BWECHT : RACHEL : AUDREY , I LOVE YOU . A...</td>\n",
       "      <td>*RACHEL*,*AUDREY*,*AUDREY*,*RACHEL*,*AUDREY*</td>\n",
       "    </tr>\n",
       "    <tr>\n",
       "      <th>1</th>\n",
       "      <td>arsenal won the match 3 – 0 , and 3 – 1 on agg...</td>\n",
       "      <td>*arsenal*</td>\n",
       "    </tr>\n",
       "    <tr>\n",
       "      <th>2</th>\n",
       "      <td>peter gelderloos estimates that there around 2...</td>\n",
       "      <td>*peter gelderloos*</td>\n",
       "    </tr>\n",
       "    <tr>\n",
       "      <th>3</th>\n",
       "      <td>NOW BACK TO THE ABRAMS REPORT.</td>\n",
       "      <td>*THE ABRAMS REPORT*</td>\n",
       "    </tr>\n",
       "    <tr>\n",
       "      <th>4</th>\n",
       "      <td>while holding that , from the view of ultimate...</td>\n",
       "      <td>*buddha*,*nirvana*</td>\n",
       "    </tr>\n",
       "    <tr>\n",
       "      <th>...</th>\n",
       "      <td>...</td>\n",
       "      <td>...</td>\n",
       "    </tr>\n",
       "    <tr>\n",
       "      <th>53665</th>\n",
       "      <td>AT THE SAME TIME, SHANTOU CITY HAS ALSO DRAFTE...</td>\n",
       "      <td>*MORE THAN 10*,*SHANTOU CITY*</td>\n",
       "    </tr>\n",
       "    <tr>\n",
       "      <th>53666</th>\n",
       "      <td>HE LOST TO TOMÁŠ BERDYCH IN QUARTERFINAL MATCH .</td>\n",
       "      <td>*TOMÁŠ BERDYCH*</td>\n",
       "    </tr>\n",
       "    <tr>\n",
       "      <th>53667</th>\n",
       "      <td>the northernmost edges reach across the intern...</td>\n",
       "      <td>*organ pipe cactus national monument*,*cabeza ...</td>\n",
       "    </tr>\n",
       "    <tr>\n",
       "      <th>53668</th>\n",
       "      <td>\" descent \" is a first-person shooter and shoo...</td>\n",
       "      <td>*descent*</td>\n",
       "    </tr>\n",
       "    <tr>\n",
       "      <th>53669</th>\n",
       "      <td>BEARS OF NORTHERN REGIONS , INCLUDING THE AMER...</td>\n",
       "      <td>*AMERICAN*</td>\n",
       "    </tr>\n",
       "  </tbody>\n",
       "</table>\n",
       "<p>53670 rows × 2 columns</p>\n",
       "</div>"
      ],
      "text/plain": [
       "                                              input_text  \\\n",
       "0      RT @ BWECHT : RACHEL : AUDREY , I LOVE YOU . A...   \n",
       "1      arsenal won the match 3 – 0 , and 3 – 1 on agg...   \n",
       "2      peter gelderloos estimates that there around 2...   \n",
       "3                         NOW BACK TO THE ABRAMS REPORT.   \n",
       "4      while holding that , from the view of ultimate...   \n",
       "...                                                  ...   \n",
       "53665  AT THE SAME TIME, SHANTOU CITY HAS ALSO DRAFTE...   \n",
       "53666   HE LOST TO TOMÁŠ BERDYCH IN QUARTERFINAL MATCH .   \n",
       "53667  the northernmost edges reach across the intern...   \n",
       "53668  \" descent \" is a first-person shooter and shoo...   \n",
       "53669  BEARS OF NORTHERN REGIONS , INCLUDING THE AMER...   \n",
       "\n",
       "                                             target_text  \n",
       "0           *RACHEL*,*AUDREY*,*AUDREY*,*RACHEL*,*AUDREY*  \n",
       "1                                              *arsenal*  \n",
       "2                                     *peter gelderloos*  \n",
       "3                                    *THE ABRAMS REPORT*  \n",
       "4                                     *buddha*,*nirvana*  \n",
       "...                                                  ...  \n",
       "53665                      *MORE THAN 10*,*SHANTOU CITY*  \n",
       "53666                                    *TOMÁŠ BERDYCH*  \n",
       "53667  *organ pipe cactus national monument*,*cabeza ...  \n",
       "53668                                          *descent*  \n",
       "53669                                         *AMERICAN*  \n",
       "\n",
       "[53670 rows x 2 columns]"
      ]
     },
     "execution_count": 75,
     "metadata": {},
     "output_type": "execute_result"
    }
   ],
   "source": [
    "upper_test = upper_case_df(test_combined_df)\n",
    "lower_upper_test = pd.concat([lower_test, upper_test])\n",
    "lower_upper_test = lower_upper_test.sample(frac=1, random_state=1).reset_index(drop=True)\n",
    "lower_upper_test"
   ]
  },
  {
   "cell_type": "markdown",
   "id": "f9bd0a27",
   "metadata": {},
   "source": [
    "### Saving the data as csv"
   ]
  },
  {
   "cell_type": "code",
   "execution_count": 76,
   "id": "6f31948c",
   "metadata": {},
   "outputs": [],
   "source": [
    "test_combined_df.to_csv('./1-NER_Data/1-csv_format/test/test_data.csv', index = False)\n",
    "lower_test.to_csv('./1-NER_Data/1-csv_format/test/lower_test_data.csv', index = False)\n",
    "lower_upper_test.to_csv('./1-NER_Data/1-csv_format/test/low_up_test_data.csv', index = False)"
   ]
  },
  {
   "cell_type": "code",
   "execution_count": null,
   "id": "1b80f94a",
   "metadata": {},
   "outputs": [],
   "source": []
  }
 ],
 "metadata": {
  "kernelspec": {
   "display_name": "Python 3",
   "language": "python",
   "name": "python3"
  },
  "language_info": {
   "codemirror_mode": {
    "name": "ipython",
    "version": 3
   },
   "file_extension": ".py",
   "mimetype": "text/x-python",
   "name": "python",
   "nbconvert_exporter": "python",
   "pygments_lexer": "ipython3",
   "version": "3.7.10"
  }
 },
 "nbformat": 4,
 "nbformat_minor": 5
}
