{
 "cells": [
  {
   "cell_type": "code",
   "execution_count": 34,
   "id": "cafa1418",
   "metadata": {},
   "outputs": [],
   "source": [
    "# parsing CoNLL+WikiNEuRal folder\n",
    "\n",
    "# !pip install datasets\n",
    "\n",
    "from datasets import load_dataset\n",
    "import pandas as pd\n",
    "import re\n",
    "import time\n",
    "import json\n",
    "from sklearn.model_selection import train_test_split\n",
    "import numpy as np"
   ]
  },
  {
   "cell_type": "code",
   "execution_count": 35,
   "id": "335726c9",
   "metadata": {},
   "outputs": [],
   "source": [
    "def parse_file_data(path, in_position, pos_position, line_len, sep):\n",
    "    dataset = []\n",
    "    f = open(path, encoding=\"utf8\") \n",
    "    input_sentence = ''\n",
    "    target_output = ''\n",
    "    word_count = 0\n",
    "    NE_count = 0\n",
    "    \n",
    "    for row in f:  \n",
    "        row = row.split(sep)\n",
    "        \n",
    "        if '-DOCSTART-' in row[0]:\n",
    "            continue\n",
    "        \n",
    "        if row[0] == \"\\n\" and input_sentence != \"\": ############# keep in mind, make sure it is correct\n",
    "            if(target_output == ''):\n",
    "                target_output = '**'\n",
    "            dataset.append([input_sentence, target_output, word_count, NE_count])\n",
    "            input_sentence = ''\n",
    "            target_output = ''\n",
    "            word_count = 0\n",
    "            NE_count = 0\n",
    "            continue\n",
    "\n",
    "        if len(row) <line_len:\n",
    "            continue\n",
    "        elif len(row) != line_len:\n",
    "            print(\"something is wrong, length is diff: \", row)\n",
    "        \n",
    "        # to remove the '\\n' at the end\n",
    "        if row[-1] == '\\n':\n",
    "            row = row[:-1]\n",
    "        elif '\\n' in row[-1]:\n",
    "            row[-1] = row[-1].replace('\\n', '')\n",
    "\n",
    "        word = row[in_position]\n",
    "        pos_tag = row[pos_position]\n",
    "        \n",
    "        # adding word to input sentence\n",
    "        if input_sentence == \"\": \n",
    "            input_sentence = word\n",
    "        else:\n",
    "            if word == \"'s\" and pos_tag.startswith('I-'):\n",
    "                input_sentence = input_sentence + word\n",
    "            else: \n",
    "                input_sentence = input_sentence + \" \" + word\n",
    "        \n",
    "        if len(re.sub(r'[\\W\\s]', '', word)):\n",
    "            word_count += 1\n",
    "            \n",
    "        \n",
    "        # adding entity word to target sentence\n",
    "        if pos_tag != 'O': \n",
    "            if len(re.sub(r'[\\W\\s]', '', word)):\n",
    "                NE_count += 1\n",
    "            if target_output == '':\n",
    "                target_output = f'*{word}*'\n",
    "        \n",
    "            elif pos_tag.startswith('B-'):\n",
    "                target_output = f'{target_output},*{word}*'\n",
    "            elif pos_tag.startswith('I-'):\n",
    "                if word == \"'s\":\n",
    "                    target_output = f'{target_output[:-1]}{word}*'\n",
    "                else:\n",
    "                    target_output = f'{target_output[:-1]} {word}*'\n",
    "            else: \n",
    "                print('error')\n",
    "                print(pos_tag)      \n",
    "    f.close()\n",
    "\n",
    "    parsed_data = pd.DataFrame(dataset, columns=['input_text', 'target_text', 'word_count', 'NE_count'])\n",
    "    return parsed_data"
   ]
  },
  {
   "cell_type": "code",
   "execution_count": 36,
   "id": "76b8d9e6",
   "metadata": {},
   "outputs": [],
   "source": [
    "def read_hugging_face_data(row):\n",
    "    input_sentence = ''\n",
    "    target_output = ''\n",
    "    NE_count = 0\n",
    "    word_count = len(row['tokens'])\n",
    "    \n",
    "    for i in range(word_count):    \n",
    "        word = row['tokens'][i]\n",
    "        pos_tag = row['ner_tags'][i]\n",
    "        \n",
    "        # adding word to input sentence\n",
    "        if input_sentence == '': \n",
    "            input_sentence = word\n",
    "        else:\n",
    "            if word == \"'s\" and pos_tag!=0 and pos_tag%2:\n",
    "                input_sentence = input_sentence + word\n",
    "            else: \n",
    "                input_sentence = input_sentence + \" \" + word\n",
    "            \n",
    "        # adding entity word to target sentence\n",
    "        if pos_tag != 0: \n",
    "            if len(re.sub(r'[\\W\\s]', '', word)):\n",
    "                NE_count += 1\n",
    "            if target_output == '':\n",
    "                target_output = f'*{word}*'\n",
    "        \n",
    "            elif pos_tag%2:\n",
    "                target_output = f'{target_output},*{word}*'\n",
    "            elif not(pos_tag%2):\n",
    "                if word == \"'s\":\n",
    "                    target_output = f'{target_output[:-1]}{word}*'\n",
    "                else:\n",
    "                    target_output = f'{target_output[:-1]} {word}*'\n",
    "            else: \n",
    "                print('error')\n",
    "                print(pos_tag)      \n",
    "    if not target_output:\n",
    "        target_output = '**'\n",
    "    return pd.Series([input_sentence, target_output, word_count, NE_count])"
   ]
  },
  {
   "cell_type": "code",
   "execution_count": 37,
   "id": "0c7bc140",
   "metadata": {},
   "outputs": [],
   "source": [
    "def read_onto_dataset():\n",
    "    dataset = {'input_text':[], 'target_text': [], 'word_count': [], 'NE_count': []}\n",
    "    with open('./1-NER_Data/0-raw_data/ontoNotes_5.0/ontonotes5.json', encoding=\"utf8\") as f:\n",
    "        # returns JSON object as a dictionary\n",
    "        data = json.load(f)\n",
    "        \n",
    "    for sent in data['TRAINING']:\n",
    "        if sent['language'] != 'english':\n",
    "            continue\n",
    "        \n",
    "        ne_count = 0\n",
    "        input_sent = sent['text']\n",
    "        word_count = len(sent['text'].split())\n",
    "        target_ent = ''\n",
    "        for entities in sent['entities'].values():\n",
    "            ne_count += 1\n",
    "            for (i,j) in entities:\n",
    "                target_ent = f'{target_ent}*{input_sent[i:j]}*,'\n",
    "\n",
    "        dataset['input_text'].append(input_sent)\n",
    "        if not target_ent:\n",
    "            target_ent = '**'\n",
    "        else:\n",
    "            target_ent = target_ent[:-1]\n",
    "        dataset['target_text'].append(target_ent)\n",
    "        dataset['word_count'].append(word_count)\n",
    "        dataset['NE_count'].append(ne_count)\n",
    "    return pd.DataFrame(dataset) "
   ]
  },
  {
   "cell_type": "code",
   "execution_count": 38,
   "id": "4805cee8",
   "metadata": {},
   "outputs": [],
   "source": [
    "def add_per_NE_sent(data):\n",
    "    data['%_NE_in_sentence'] = round(data['NE_count']/ data['word_count'], 1)\n",
    "    return data"
   ]
  },
  {
   "cell_type": "code",
   "execution_count": 39,
   "id": "178f7807",
   "metadata": {},
   "outputs": [],
   "source": [
    "# expects a dataframe\n",
    "def lower_case_df(data):\n",
    "    low_input_text = data[\"input_text\"].str.lower()\n",
    "    low_target_text = data[\"target_text\"].str.lower()\n",
    "    return create_dataframe(low_input_text, low_target_text)"
   ]
  },
  {
   "cell_type": "code",
   "execution_count": 40,
   "id": "3ac6cd4d",
   "metadata": {},
   "outputs": [],
   "source": [
    "# expects a dataframe\n",
    "def upper_case_df(data):\n",
    "    upper_input_text = data[\"input_text\"].str.upper()\n",
    "    upper_target_text = data[\"target_text\"].str.upper()\n",
    "    return create_dataframe(upper_input_text, upper_target_text)"
   ]
  },
  {
   "cell_type": "code",
   "execution_count": 41,
   "id": "242876fa",
   "metadata": {},
   "outputs": [],
   "source": [
    "def create_dataframe(input_sent, target_sent):\n",
    "    data = []\n",
    "    for input_text, target_text in zip(input_sent, target_sent):\n",
    "        data.append([input_text, target_text])\n",
    "\n",
    "    return pd.DataFrame(data, columns=['input_text', 'target_text'])"
   ]
  },
  {
   "cell_type": "markdown",
   "id": "203dd72f",
   "metadata": {},
   "source": [
    "## Reading the onto_data and splitting the data into training, validation and test sets"
   ]
  },
  {
   "cell_type": "code",
   "execution_count": 42,
   "id": "969fc221",
   "metadata": {},
   "outputs": [],
   "source": [
    "onto_data = read_onto_dataset()\n",
    "onto_data = onto_data.sample(frac=1, random_state=1).reset_index(drop=True)\n",
    "onto_training, onto_test = train_test_split(onto_data, test_size=0.3)\n",
    "onto_test, onto_val = train_test_split(onto_test, test_size=0.5)"
   ]
  },
  {
   "cell_type": "code",
   "execution_count": 43,
   "id": "e58d4c3e",
   "metadata": {},
   "outputs": [
    {
     "data": {
      "text/html": [
       "<div>\n",
       "<style scoped>\n",
       "    .dataframe tbody tr th:only-of-type {\n",
       "        vertical-align: middle;\n",
       "    }\n",
       "\n",
       "    .dataframe tbody tr th {\n",
       "        vertical-align: top;\n",
       "    }\n",
       "\n",
       "    .dataframe thead th {\n",
       "        text-align: right;\n",
       "    }\n",
       "</style>\n",
       "<table border=\"1\" class=\"dataframe\">\n",
       "  <thead>\n",
       "    <tr style=\"text-align: right;\">\n",
       "      <th></th>\n",
       "      <th>input_text</th>\n",
       "      <th>target_text</th>\n",
       "      <th>word_count</th>\n",
       "      <th>NE_count</th>\n",
       "    </tr>\n",
       "  </thead>\n",
       "  <tbody>\n",
       "    <tr>\n",
       "      <th>54240</th>\n",
       "      <td>She took her business to First Atlanta.</td>\n",
       "      <td>*First Atlanta*</td>\n",
       "      <td>7</td>\n",
       "      <td>1</td>\n",
       "    </tr>\n",
       "    <tr>\n",
       "      <th>26621</th>\n",
       "      <td>After all, this is n't old money, but new mone...</td>\n",
       "      <td>**</td>\n",
       "      <td>16</td>\n",
       "      <td>0</td>\n",
       "    </tr>\n",
       "    <tr>\n",
       "      <th>22047</th>\n",
       "      <td>You do n't want a relationship?</td>\n",
       "      <td>**</td>\n",
       "      <td>6</td>\n",
       "      <td>0</td>\n",
       "    </tr>\n",
       "    <tr>\n",
       "      <th>81561</th>\n",
       "      <td>`` The situation you want to avoid is having s...</td>\n",
       "      <td>**</td>\n",
       "      <td>29</td>\n",
       "      <td>0</td>\n",
       "    </tr>\n",
       "    <tr>\n",
       "      <th>26663</th>\n",
       "      <td>Well no</td>\n",
       "      <td>**</td>\n",
       "      <td>2</td>\n",
       "      <td>0</td>\n",
       "    </tr>\n",
       "    <tr>\n",
       "      <th>...</th>\n",
       "      <td>...</td>\n",
       "      <td>...</td>\n",
       "      <td>...</td>\n",
       "      <td>...</td>\n",
       "    </tr>\n",
       "    <tr>\n",
       "      <th>15833</th>\n",
       "      <td>The rating agency said about $ 85 million in s...</td>\n",
       "      <td>*about $ 85 million*</td>\n",
       "      <td>12</td>\n",
       "      <td>1</td>\n",
       "    </tr>\n",
       "    <tr>\n",
       "      <th>104412</th>\n",
       "      <td>The last time IBM tapped the corporate debt ma...</td>\n",
       "      <td>*April 1988*,*$ 500 million*,*IBM*</td>\n",
       "      <td>22</td>\n",
       "      <td>3</td>\n",
       "    </tr>\n",
       "    <tr>\n",
       "      <th>67234</th>\n",
       "      <td>By giving them power to do miracles the Lord p...</td>\n",
       "      <td>**</td>\n",
       "      <td>15</td>\n",
       "      <td>0</td>\n",
       "    </tr>\n",
       "    <tr>\n",
       "      <th>84332</th>\n",
       "      <td>`` I'm the secretary-general, if there is one,...</td>\n",
       "      <td>**</td>\n",
       "      <td>17</td>\n",
       "      <td>0</td>\n",
       "    </tr>\n",
       "    <tr>\n",
       "      <th>48758</th>\n",
       "      <td>And some U.S. Army analysts worry that the pro...</td>\n",
       "      <td>*U.S.*,*Soviet*,*U.S. Army*</td>\n",
       "      <td>24</td>\n",
       "      <td>3</td>\n",
       "    </tr>\n",
       "  </tbody>\n",
       "</table>\n",
       "<p>92386 rows × 4 columns</p>\n",
       "</div>"
      ],
      "text/plain": [
       "                                               input_text  \\\n",
       "54240             She took her business to First Atlanta.   \n",
       "26621   After all, this is n't old money, but new mone...   \n",
       "22047                     You do n't want a relationship?   \n",
       "81561   `` The situation you want to avoid is having s...   \n",
       "26663                                             Well no   \n",
       "...                                                   ...   \n",
       "15833   The rating agency said about $ 85 million in s...   \n",
       "104412  The last time IBM tapped the corporate debt ma...   \n",
       "67234   By giving them power to do miracles the Lord p...   \n",
       "84332   `` I'm the secretary-general, if there is one,...   \n",
       "48758   And some U.S. Army analysts worry that the pro...   \n",
       "\n",
       "                               target_text  word_count  NE_count  \n",
       "54240                      *First Atlanta*           7         1  \n",
       "26621                                   **          16         0  \n",
       "22047                                   **           6         0  \n",
       "81561                                   **          29         0  \n",
       "26663                                   **           2         0  \n",
       "...                                    ...         ...       ...  \n",
       "15833                 *about $ 85 million*          12         1  \n",
       "104412  *April 1988*,*$ 500 million*,*IBM*          22         3  \n",
       "67234                                   **          15         0  \n",
       "84332                                   **          17         0  \n",
       "48758          *U.S.*,*Soviet*,*U.S. Army*          24         3  \n",
       "\n",
       "[92386 rows x 4 columns]"
      ]
     },
     "execution_count": 43,
     "metadata": {},
     "output_type": "execute_result"
    }
   ],
   "source": [
    "onto_training"
   ]
  },
  {
   "cell_type": "code",
   "execution_count": 21,
   "id": "93c2de4c",
   "metadata": {},
   "outputs": [
    {
     "data": {
      "text/plain": [
       "131980"
      ]
     },
     "execution_count": 21,
     "metadata": {},
     "output_type": "execute_result"
    }
   ],
   "source": [
    "len(onto_data)"
   ]
  },
  {
   "cell_type": "code",
   "execution_count": 22,
   "id": "4292705b",
   "metadata": {},
   "outputs": [
    {
     "name": "stdout",
     "output_type": "stream",
     "text": [
      "92386\n",
      "19797\n",
      "19797\n"
     ]
    }
   ],
   "source": [
    "print(len(onto_training))\n",
    "print(len(onto_test))\n",
    "print(len(onto_val))"
   ]
  },
  {
   "cell_type": "markdown",
   "id": "6333e99d",
   "metadata": {},
   "source": [
    "# Training data"
   ]
  },
  {
   "cell_type": "markdown",
   "id": "6e5d88ed",
   "metadata": {},
   "source": [
    "### Read the data from either txt files or from huggingface dataset and converting each to target form  --->  [input_text, target_text, word_count, NE_count] "
   ]
  },
  {
   "cell_type": "code",
   "execution_count": 31,
   "id": "7d16737a",
   "metadata": {},
   "outputs": [
    {
     "data": {
      "text/html": [
       "<div>\n",
       "<style scoped>\n",
       "    .dataframe tbody tr th:only-of-type {\n",
       "        vertical-align: middle;\n",
       "    }\n",
       "\n",
       "    .dataframe tbody tr th {\n",
       "        vertical-align: top;\n",
       "    }\n",
       "\n",
       "    .dataframe thead th {\n",
       "        text-align: right;\n",
       "    }\n",
       "</style>\n",
       "<table border=\"1\" class=\"dataframe\">\n",
       "  <thead>\n",
       "    <tr style=\"text-align: right;\">\n",
       "      <th></th>\n",
       "      <th>input_text</th>\n",
       "      <th>target_text</th>\n",
       "      <th>word_count</th>\n",
       "      <th>NE_count</th>\n",
       "    </tr>\n",
       "  </thead>\n",
       "  <tbody>\n",
       "    <tr>\n",
       "      <th>0</th>\n",
       "      <td>EU rejects German call to boycott British lamb .</td>\n",
       "      <td>*EU*,*German*,*British*</td>\n",
       "      <td>8</td>\n",
       "      <td>3</td>\n",
       "    </tr>\n",
       "    <tr>\n",
       "      <th>1</th>\n",
       "      <td>Peter Blackburn</td>\n",
       "      <td>*Peter Blackburn*</td>\n",
       "      <td>2</td>\n",
       "      <td>2</td>\n",
       "    </tr>\n",
       "    <tr>\n",
       "      <th>2</th>\n",
       "      <td>BRUSSELS 1996-08-22</td>\n",
       "      <td>*BRUSSELS*</td>\n",
       "      <td>2</td>\n",
       "      <td>1</td>\n",
       "    </tr>\n",
       "    <tr>\n",
       "      <th>3</th>\n",
       "      <td>The European Commission said on Thursday it di...</td>\n",
       "      <td>*European Commission*,*German*,*British*</td>\n",
       "      <td>29</td>\n",
       "      <td>4</td>\n",
       "    </tr>\n",
       "    <tr>\n",
       "      <th>4</th>\n",
       "      <td>Germany 's representative to the European Unio...</td>\n",
       "      <td>*Germany*,*European Union*,*Werner Zwingmann*,...</td>\n",
       "      <td>30</td>\n",
       "      <td>6</td>\n",
       "    </tr>\n",
       "    <tr>\n",
       "      <th>...</th>\n",
       "      <td>...</td>\n",
       "      <td>...</td>\n",
       "      <td>...</td>\n",
       "      <td>...</td>\n",
       "    </tr>\n",
       "    <tr>\n",
       "      <th>14036</th>\n",
       "      <td>on Friday :</td>\n",
       "      <td>**</td>\n",
       "      <td>2</td>\n",
       "      <td>0</td>\n",
       "    </tr>\n",
       "    <tr>\n",
       "      <th>14037</th>\n",
       "      <td>Division two</td>\n",
       "      <td>**</td>\n",
       "      <td>2</td>\n",
       "      <td>0</td>\n",
       "    </tr>\n",
       "    <tr>\n",
       "      <th>14038</th>\n",
       "      <td>Plymouth 2 Preston 1</td>\n",
       "      <td>*Plymouth*,*Preston*</td>\n",
       "      <td>4</td>\n",
       "      <td>2</td>\n",
       "    </tr>\n",
       "    <tr>\n",
       "      <th>14039</th>\n",
       "      <td>Division three</td>\n",
       "      <td>**</td>\n",
       "      <td>2</td>\n",
       "      <td>0</td>\n",
       "    </tr>\n",
       "    <tr>\n",
       "      <th>14040</th>\n",
       "      <td>Swansea 1 Lincoln 2</td>\n",
       "      <td>*Swansea*,*Lincoln*</td>\n",
       "      <td>4</td>\n",
       "      <td>2</td>\n",
       "    </tr>\n",
       "  </tbody>\n",
       "</table>\n",
       "<p>14041 rows × 4 columns</p>\n",
       "</div>"
      ],
      "text/plain": [
       "                                              input_text  \\\n",
       "0       EU rejects German call to boycott British lamb .   \n",
       "1                                        Peter Blackburn   \n",
       "2                                    BRUSSELS 1996-08-22   \n",
       "3      The European Commission said on Thursday it di...   \n",
       "4      Germany 's representative to the European Unio...   \n",
       "...                                                  ...   \n",
       "14036                                        on Friday :   \n",
       "14037                                       Division two   \n",
       "14038                               Plymouth 2 Preston 1   \n",
       "14039                                     Division three   \n",
       "14040                                Swansea 1 Lincoln 2   \n",
       "\n",
       "                                             target_text  word_count  NE_count  \n",
       "0                                *EU*,*German*,*British*           8         3  \n",
       "1                                      *Peter Blackburn*           2         2  \n",
       "2                                             *BRUSSELS*           2         1  \n",
       "3               *European Commission*,*German*,*British*          29         4  \n",
       "4      *Germany*,*European Union*,*Werner Zwingmann*,...          30         6  \n",
       "...                                                  ...         ...       ...  \n",
       "14036                                                 **           2         0  \n",
       "14037                                                 **           2         0  \n",
       "14038                               *Plymouth*,*Preston*           4         2  \n",
       "14039                                                 **           2         0  \n",
       "14040                                *Swansea*,*Lincoln*           4         2  \n",
       "\n",
       "[14041 rows x 4 columns]"
      ]
     },
     "execution_count": 31,
     "metadata": {},
     "output_type": "execute_result"
    }
   ],
   "source": [
    "# CoNLL2003++ training dataset\n",
    "\n",
    "conellpp_training = parse_file_data(\"./1-NER_Data/0-raw_data/coNLL2003pp/conllpp_train.txt\", in_position=0, pos_position=3, line_len=4, sep=' ')\n",
    "conellpp_training"
   ]
  },
  {
   "cell_type": "code",
   "execution_count": 33,
   "id": "6936d6b0",
   "metadata": {},
   "outputs": [
    {
     "data": {
      "text/plain": [
       "input_text     Germany 's representative to the European Unio...\n",
       "target_text    *Germany*,*European Union*,*Werner Zwingmann*,...\n",
       "word_count                                                    30\n",
       "NE_count                                                       6\n",
       "Name: 4, dtype: object"
      ]
     },
     "execution_count": 33,
     "metadata": {},
     "output_type": "execute_result"
    }
   ],
   "source": [
    "conellpp_training.iloc[4]"
   ]
  },
  {
   "cell_type": "code",
   "execution_count": 14,
   "id": "b1420abd",
   "metadata": {},
   "outputs": [
    {
     "data": {
      "text/html": [
       "<div>\n",
       "<style scoped>\n",
       "    .dataframe tbody tr th:only-of-type {\n",
       "        vertical-align: middle;\n",
       "    }\n",
       "\n",
       "    .dataframe tbody tr th {\n",
       "        vertical-align: top;\n",
       "    }\n",
       "\n",
       "    .dataframe thead th {\n",
       "        text-align: right;\n",
       "    }\n",
       "</style>\n",
       "<table border=\"1\" class=\"dataframe\">\n",
       "  <thead>\n",
       "    <tr style=\"text-align: right;\">\n",
       "      <th></th>\n",
       "      <th>input_text</th>\n",
       "      <th>target_text</th>\n",
       "      <th>word_count</th>\n",
       "      <th>NE_count</th>\n",
       "    </tr>\n",
       "  </thead>\n",
       "  <tbody>\n",
       "    <tr>\n",
       "      <th>0</th>\n",
       "      <td>This division also contains the Ventana Wilder...</td>\n",
       "      <td>*Ventana Wilderness*,*California*</td>\n",
       "      <td>12</td>\n",
       "      <td>3</td>\n",
       "    </tr>\n",
       "    <tr>\n",
       "      <th>1</th>\n",
       "      <td>\" So here is the balance NBC has to consider :...</td>\n",
       "      <td>*NBC*,*The Who*,*Animal Practice*</td>\n",
       "      <td>13</td>\n",
       "      <td>5</td>\n",
       "    </tr>\n",
       "    <tr>\n",
       "      <th>2</th>\n",
       "      <td>It is a protest song that \" creates a cinemati...</td>\n",
       "      <td>*America*</td>\n",
       "      <td>36</td>\n",
       "      <td>1</td>\n",
       "    </tr>\n",
       "    <tr>\n",
       "      <th>3</th>\n",
       "      <td>This differs from approaches such as IP or Eth...</td>\n",
       "      <td>*Ethernet*</td>\n",
       "      <td>16</td>\n",
       "      <td>1</td>\n",
       "    </tr>\n",
       "    <tr>\n",
       "      <th>4</th>\n",
       "      <td>Since then , only Terry Bradshaw in 147 games ...</td>\n",
       "      <td>*Terry Bradshaw*,*Joe Montana*,*Tom Brady*</td>\n",
       "      <td>25</td>\n",
       "      <td>6</td>\n",
       "    </tr>\n",
       "    <tr>\n",
       "      <th>...</th>\n",
       "      <td>...</td>\n",
       "      <td>...</td>\n",
       "      <td>...</td>\n",
       "      <td>...</td>\n",
       "    </tr>\n",
       "    <tr>\n",
       "      <th>92715</th>\n",
       "      <td>The couple had a son , David , and a daughter ...</td>\n",
       "      <td>*David*,*Sarah*</td>\n",
       "      <td>10</td>\n",
       "      <td>2</td>\n",
       "    </tr>\n",
       "    <tr>\n",
       "      <th>92716</th>\n",
       "      <td>The Home Secretary , J. R. Clynes , was presen...</td>\n",
       "      <td>*J. R. Clynes*</td>\n",
       "      <td>12</td>\n",
       "      <td>3</td>\n",
       "    </tr>\n",
       "    <tr>\n",
       "      <th>92717</th>\n",
       "      <td>At the time of her birth , she was fourth in t...</td>\n",
       "      <td>*British throne*</td>\n",
       "      <td>18</td>\n",
       "      <td>2</td>\n",
       "    </tr>\n",
       "    <tr>\n",
       "      <th>92718</th>\n",
       "      <td>The film was based on the Broadway play of the...</td>\n",
       "      <td>*Broadway*</td>\n",
       "      <td>12</td>\n",
       "      <td>1</td>\n",
       "    </tr>\n",
       "    <tr>\n",
       "      <th>92719</th>\n",
       "      <td>The couple had two children ( both born by Cae...</td>\n",
       "      <td>*Caesarean*,*Margaret*,*David*,*Sarah*</td>\n",
       "      <td>25</td>\n",
       "      <td>4</td>\n",
       "    </tr>\n",
       "  </tbody>\n",
       "</table>\n",
       "<p>92720 rows × 4 columns</p>\n",
       "</div>"
      ],
      "text/plain": [
       "                                              input_text  \\\n",
       "0      This division also contains the Ventana Wilder...   \n",
       "1      \" So here is the balance NBC has to consider :...   \n",
       "2      It is a protest song that \" creates a cinemati...   \n",
       "3      This differs from approaches such as IP or Eth...   \n",
       "4      Since then , only Terry Bradshaw in 147 games ...   \n",
       "...                                                  ...   \n",
       "92715  The couple had a son , David , and a daughter ...   \n",
       "92716  The Home Secretary , J. R. Clynes , was presen...   \n",
       "92717  At the time of her birth , she was fourth in t...   \n",
       "92718  The film was based on the Broadway play of the...   \n",
       "92719  The couple had two children ( both born by Cae...   \n",
       "\n",
       "                                      target_text  word_count  NE_count  \n",
       "0               *Ventana Wilderness*,*California*          12         3  \n",
       "1               *NBC*,*The Who*,*Animal Practice*          13         5  \n",
       "2                                       *America*          36         1  \n",
       "3                                      *Ethernet*          16         1  \n",
       "4      *Terry Bradshaw*,*Joe Montana*,*Tom Brady*          25         6  \n",
       "...                                           ...         ...       ...  \n",
       "92715                             *David*,*Sarah*          10         2  \n",
       "92716                              *J. R. Clynes*          12         3  \n",
       "92717                            *British throne*          18         2  \n",
       "92718                                  *Broadway*          12         1  \n",
       "92719      *Caesarean*,*Margaret*,*David*,*Sarah*          25         4  \n",
       "\n",
       "[92720 rows x 4 columns]"
      ]
     },
     "execution_count": 14,
     "metadata": {},
     "output_type": "execute_result"
    }
   ],
   "source": [
    "# wikineural training dataset\n",
    "\n",
    "wikineural_training = parse_file_data(\"./1-NER_Data/0-raw_data/wikineural/train.conllu.txt\", 1, 2, 3, '\\t')\n",
    "wikineural_training"
   ]
  },
  {
   "cell_type": "code",
   "execution_count": 12,
   "id": "45a87c55",
   "metadata": {},
   "outputs": [],
   "source": [
    "# OntoNotes 5.0 training dataset refer section above"
   ]
  },
  {
   "cell_type": "markdown",
   "id": "81945cbc",
   "metadata": {},
   "source": [
    "### Adding entity as percentage of the input sentence"
   ]
  },
  {
   "cell_type": "code",
   "execution_count": 13,
   "id": "a02039f7",
   "metadata": {},
   "outputs": [],
   "source": [
    "conellpp_training = add_per_NE_sent(conellpp_training)\n",
    "wikineural_training = add_per_NE_sent(wikineural_training)\n",
    "onto_training = add_per_NE_sent(onto_training)"
   ]
  },
  {
   "cell_type": "markdown",
   "id": "abf0c8e5",
   "metadata": {},
   "source": [
    "#### conell++ training dataset"
   ]
  },
  {
   "cell_type": "code",
   "execution_count": 14,
   "id": "dd1e06ae",
   "metadata": {
    "scrolled": true
   },
   "outputs": [
    {
     "name": "stdout",
     "output_type": "stream",
     "text": [
      "14041\n",
      "there are 0.2383021152339577 sentences in the range of 0:0.1\n",
      "3346\n"
     ]
    },
    {
     "data": {
      "image/png": "[encoded data removed]",
      "text/plain": [
       "<Figure size 432x288 with 1 Axes>"
      ]
     },
     "metadata": {
      "needs_background": "light"
     },
     "output_type": "display_data"
    }
   ],
   "source": [
    "plot_percent_NE = conellpp_training['%_NE_in_sentence'].value_counts().sort_index()\n",
    "plot_percent_NE.plot(kind='bar')\n",
    "print(len(conellpp_training))\n",
    "print(\"there are\", sum(plot_percent_NE.loc[0:0.01])/len(conellpp_training), \"sentences in the range of 0:0.1\")\n",
    "print(sum(plot_percent_NE.loc[0:0.01]))"
   ]
  },
  {
   "cell_type": "code",
   "execution_count": 15,
   "id": "ab901dd3",
   "metadata": {
    "scrolled": true
   },
   "outputs": [
    {
     "data": {
      "text/plain": [
       "<AxesSubplot:xlabel='word_count'>"
      ]
     },
     "execution_count": 15,
     "metadata": {},
     "output_type": "execute_result"
    },
    {
     "data": {
      "image/png": "[encoded data removed]",
      "text/plain": [
       "<Figure size 432x288 with 1 Axes>"
      ]
     },
     "metadata": {
      "needs_background": "light"
     },
     "output_type": "display_data"
    }
   ],
   "source": [
    "conellpp_training.groupby(by='word_count')['input_text'].count().head(10).plot(kind='bar')"
   ]
  },
  {
   "cell_type": "code",
   "execution_count": 16,
   "id": "97f1318e",
   "metadata": {},
   "outputs": [
    {
     "data": {
      "text/html": [
       "<div>\n",
       "<style scoped>\n",
       "    .dataframe tbody tr th:only-of-type {\n",
       "        vertical-align: middle;\n",
       "    }\n",
       "\n",
       "    .dataframe tbody tr th {\n",
       "        vertical-align: top;\n",
       "    }\n",
       "\n",
       "    .dataframe thead th {\n",
       "        text-align: right;\n",
       "    }\n",
       "</style>\n",
       "<table border=\"1\" class=\"dataframe\">\n",
       "  <thead>\n",
       "    <tr style=\"text-align: right;\">\n",
       "      <th></th>\n",
       "      <th>input_text</th>\n",
       "      <th>target_text</th>\n",
       "      <th>word_count</th>\n",
       "      <th>NE_count</th>\n",
       "      <th>%_NE_in_sentence</th>\n",
       "    </tr>\n",
       "  </thead>\n",
       "  <tbody>\n",
       "    <tr>\n",
       "      <th>0</th>\n",
       "      <td>EU rejects German call to boycott British lamb .</td>\n",
       "      <td>*EU*,*German*,*British*</td>\n",
       "      <td>8</td>\n",
       "      <td>3</td>\n",
       "      <td>0.4</td>\n",
       "    </tr>\n",
       "    <tr>\n",
       "      <th>1</th>\n",
       "      <td>Peter Blackburn</td>\n",
       "      <td>*Peter Blackburn*</td>\n",
       "      <td>2</td>\n",
       "      <td>2</td>\n",
       "      <td>1.0</td>\n",
       "    </tr>\n",
       "    <tr>\n",
       "      <th>2</th>\n",
       "      <td>BRUSSELS 1996-08-22</td>\n",
       "      <td>*BRUSSELS*</td>\n",
       "      <td>2</td>\n",
       "      <td>1</td>\n",
       "      <td>0.5</td>\n",
       "    </tr>\n",
       "    <tr>\n",
       "      <th>3</th>\n",
       "      <td>The European Commission said on Thursday it di...</td>\n",
       "      <td>*European Commission*,*German*,*British*</td>\n",
       "      <td>29</td>\n",
       "      <td>4</td>\n",
       "      <td>0.1</td>\n",
       "    </tr>\n",
       "    <tr>\n",
       "      <th>4</th>\n",
       "      <td>Germany 's representative to the European Unio...</td>\n",
       "      <td>*Germany*,*European Union*,*Werner Zwingmann*,...</td>\n",
       "      <td>30</td>\n",
       "      <td>6</td>\n",
       "      <td>0.2</td>\n",
       "    </tr>\n",
       "    <tr>\n",
       "      <th>...</th>\n",
       "      <td>...</td>\n",
       "      <td>...</td>\n",
       "      <td>...</td>\n",
       "      <td>...</td>\n",
       "      <td>...</td>\n",
       "    </tr>\n",
       "    <tr>\n",
       "      <th>13985</th>\n",
       "      <td>on Friday :</td>\n",
       "      <td>**</td>\n",
       "      <td>2</td>\n",
       "      <td>0</td>\n",
       "      <td>0.0</td>\n",
       "    </tr>\n",
       "    <tr>\n",
       "      <th>13986</th>\n",
       "      <td>Division two</td>\n",
       "      <td>**</td>\n",
       "      <td>2</td>\n",
       "      <td>0</td>\n",
       "      <td>0.0</td>\n",
       "    </tr>\n",
       "    <tr>\n",
       "      <th>13987</th>\n",
       "      <td>Plymouth 2 Preston 1</td>\n",
       "      <td>*Plymouth*,*Preston*</td>\n",
       "      <td>4</td>\n",
       "      <td>2</td>\n",
       "      <td>0.5</td>\n",
       "    </tr>\n",
       "    <tr>\n",
       "      <th>13988</th>\n",
       "      <td>Division three</td>\n",
       "      <td>**</td>\n",
       "      <td>2</td>\n",
       "      <td>0</td>\n",
       "      <td>0.0</td>\n",
       "    </tr>\n",
       "    <tr>\n",
       "      <th>13989</th>\n",
       "      <td>Swansea 1 Lincoln 2</td>\n",
       "      <td>*Swansea*,*Lincoln*</td>\n",
       "      <td>4</td>\n",
       "      <td>2</td>\n",
       "      <td>0.5</td>\n",
       "    </tr>\n",
       "  </tbody>\n",
       "</table>\n",
       "<p>13990 rows × 5 columns</p>\n",
       "</div>"
      ],
      "text/plain": [
       "                                              input_text  \\\n",
       "0       EU rejects German call to boycott British lamb .   \n",
       "1                                        Peter Blackburn   \n",
       "2                                    BRUSSELS 1996-08-22   \n",
       "3      The European Commission said on Thursday it di...   \n",
       "4      Germany 's representative to the European Unio...   \n",
       "...                                                  ...   \n",
       "13985                                        on Friday :   \n",
       "13986                                       Division two   \n",
       "13987                               Plymouth 2 Preston 1   \n",
       "13988                                     Division three   \n",
       "13989                                Swansea 1 Lincoln 2   \n",
       "\n",
       "                                             target_text  word_count  \\\n",
       "0                                *EU*,*German*,*British*           8   \n",
       "1                                      *Peter Blackburn*           2   \n",
       "2                                             *BRUSSELS*           2   \n",
       "3               *European Commission*,*German*,*British*          29   \n",
       "4      *Germany*,*European Union*,*Werner Zwingmann*,...          30   \n",
       "...                                                  ...         ...   \n",
       "13985                                                 **           2   \n",
       "13986                                                 **           2   \n",
       "13987                               *Plymouth*,*Preston*           4   \n",
       "13988                                                 **           2   \n",
       "13989                                *Swansea*,*Lincoln*           4   \n",
       "\n",
       "       NE_count  %_NE_in_sentence  \n",
       "0             3               0.4  \n",
       "1             2               1.0  \n",
       "2             1               0.5  \n",
       "3             4               0.1  \n",
       "4             6               0.2  \n",
       "...         ...               ...  \n",
       "13985         0               0.0  \n",
       "13986         0               0.0  \n",
       "13987         2               0.5  \n",
       "13988         0               0.0  \n",
       "13989         2               0.5  \n",
       "\n",
       "[13990 rows x 5 columns]"
      ]
     },
     "execution_count": 16,
     "metadata": {},
     "output_type": "execute_result"
    }
   ],
   "source": [
    "conellpp_training = conellpp_training.drop(conellpp_training.loc[conellpp_training['word_count'] == 0].index).reset_index(drop=True)\n",
    "conellpp_training"
   ]
  },
  {
   "cell_type": "markdown",
   "id": "e3b38fd3",
   "metadata": {},
   "source": [
    "#### Wikineiral training dataset"
   ]
  },
  {
   "cell_type": "code",
   "execution_count": 17,
   "id": "3070ede8",
   "metadata": {
    "scrolled": true
   },
   "outputs": [
    {
     "name": "stdout",
     "output_type": "stream",
     "text": [
      "92720\n",
      "there are 0.14910483175150993 sentences in the range of 0:0.1\n",
      "13825\n"
     ]
    },
    {
     "data": {
      "image/png": "[encoded data removed]",
      "text/plain": [
       "<Figure size 432x288 with 1 Axes>"
      ]
     },
     "metadata": {
      "needs_background": "light"
     },
     "output_type": "display_data"
    }
   ],
   "source": [
    "plot_percent_NE = wikineural_training['%_NE_in_sentence'].value_counts().sort_index()\n",
    "plot_percent_NE.plot(kind='bar')\n",
    "print(len(wikineural_training))\n",
    "print(\"there are\", sum(plot_percent_NE.loc[0:0.01])/len(wikineural_training), \"sentences in the range of 0:0.1\")\n",
    "print(sum(plot_percent_NE.loc[0:0.01]))"
   ]
  },
  {
   "cell_type": "code",
   "execution_count": 18,
   "id": "47b6edb3",
   "metadata": {},
   "outputs": [
    {
     "data": {
      "text/plain": [
       "<AxesSubplot:xlabel='word_count'>"
      ]
     },
     "execution_count": 18,
     "metadata": {},
     "output_type": "execute_result"
    },
    {
     "data": {
      "image/png": "[encoded data removed]",
      "text/plain": [
       "<Figure size 432x288 with 1 Axes>"
      ]
     },
     "metadata": {
      "needs_background": "light"
     },
     "output_type": "display_data"
    }
   ],
   "source": [
    "wikineural_training.groupby(by='word_count')['input_text'].count().head(10).plot(kind='bar')"
   ]
  },
  {
   "cell_type": "markdown",
   "id": "caf698e6",
   "metadata": {},
   "source": [
    "#### Onto training dataset"
   ]
  },
  {
   "cell_type": "code",
   "execution_count": 19,
   "id": "f90fafd4",
   "metadata": {},
   "outputs": [
    {
     "name": "stdout",
     "output_type": "stream",
     "text": [
      "92386\n",
      "there are 0.6287749226073215 sentences in the range of 0:0.1\n",
      "58090\n"
     ]
    },
    {
     "data": {
      "image/png": "[encoded data removed]",
      "text/plain": [
       "<Figure size 432x288 with 1 Axes>"
      ]
     },
     "metadata": {
      "needs_background": "light"
     },
     "output_type": "display_data"
    }
   ],
   "source": [
    "plot_percent_NE = onto_training['%_NE_in_sentence'].value_counts().sort_index()\n",
    "plot_percent_NE.plot(kind='bar')\n",
    "print(len(onto_training))\n",
    "print(\"there are\", sum(plot_percent_NE.loc[0:0.01])/len(onto_training), \"sentences in the range of 0:0.1\")\n",
    "print(sum(plot_percent_NE.loc[0:0.01]))"
   ]
  },
  {
   "cell_type": "code",
   "execution_count": 20,
   "id": "e253d243",
   "metadata": {},
   "outputs": [
    {
     "data": {
      "text/html": [
       "<div>\n",
       "<style scoped>\n",
       "    .dataframe tbody tr th:only-of-type {\n",
       "        vertical-align: middle;\n",
       "    }\n",
       "\n",
       "    .dataframe tbody tr th {\n",
       "        vertical-align: top;\n",
       "    }\n",
       "\n",
       "    .dataframe thead th {\n",
       "        text-align: right;\n",
       "    }\n",
       "</style>\n",
       "<table border=\"1\" class=\"dataframe\">\n",
       "  <thead>\n",
       "    <tr style=\"text-align: right;\">\n",
       "      <th></th>\n",
       "      <th>input_text</th>\n",
       "      <th>target_text</th>\n",
       "      <th>word_count</th>\n",
       "      <th>NE_count</th>\n",
       "      <th>%_NE_in_sentence</th>\n",
       "    </tr>\n",
       "  </thead>\n",
       "  <tbody>\n",
       "    <tr>\n",
       "      <th>0</th>\n",
       "      <td>We, including US President Bush, who came to P...</td>\n",
       "      <td>*US*,*Pusan*,*Japan*,*China*,*Sino-Japanese*,*...</td>\n",
       "      <td>36</td>\n",
       "      <td>3</td>\n",
       "      <td>0.1</td>\n",
       "    </tr>\n",
       "    <tr>\n",
       "      <th>1</th>\n",
       "      <td>About eight firms will get the lion's share.</td>\n",
       "      <td>*About eight*</td>\n",
       "      <td>8</td>\n",
       "      <td>1</td>\n",
       "      <td>0.1</td>\n",
       "    </tr>\n",
       "    <tr>\n",
       "      <th>2</th>\n",
       "      <td>Do n't you know you are worth much more than t...</td>\n",
       "      <td>**</td>\n",
       "      <td>13</td>\n",
       "      <td>0</td>\n",
       "      <td>0.0</td>\n",
       "    </tr>\n",
       "    <tr>\n",
       "      <th>3</th>\n",
       "      <td>Insurers, such as Cigna Corp., Transamerica Co...</td>\n",
       "      <td>*one*,*U.S.*,*Cigna Corp.*,*Transamerica Corp*...</td>\n",
       "      <td>29</td>\n",
       "      <td>3</td>\n",
       "      <td>0.1</td>\n",
       "    </tr>\n",
       "    <tr>\n",
       "      <th>4</th>\n",
       "      <td>I have seen my people suffering, and I have he...</td>\n",
       "      <td>**</td>\n",
       "      <td>15</td>\n",
       "      <td>0</td>\n",
       "      <td>0.0</td>\n",
       "    </tr>\n",
       "    <tr>\n",
       "      <th>...</th>\n",
       "      <td>...</td>\n",
       "      <td>...</td>\n",
       "      <td>...</td>\n",
       "      <td>...</td>\n",
       "      <td>...</td>\n",
       "    </tr>\n",
       "    <tr>\n",
       "      <th>53654</th>\n",
       "      <td>I find them fascinating.</td>\n",
       "      <td>**</td>\n",
       "      <td>4</td>\n",
       "      <td>0</td>\n",
       "      <td>0.0</td>\n",
       "    </tr>\n",
       "    <tr>\n",
       "      <th>53655</th>\n",
       "      <td>No.</td>\n",
       "      <td>**</td>\n",
       "      <td>1</td>\n",
       "      <td>0</td>\n",
       "      <td>0.0</td>\n",
       "    </tr>\n",
       "    <tr>\n",
       "      <th>53656</th>\n",
       "      <td>but that's the ground equipment uh that we 're...</td>\n",
       "      <td>**</td>\n",
       "      <td>15</td>\n",
       "      <td>0</td>\n",
       "      <td>0.0</td>\n",
       "    </tr>\n",
       "    <tr>\n",
       "      <th>53657</th>\n",
       "      <td>Some American officers interpreted his eagerne...</td>\n",
       "      <td>*American*</td>\n",
       "      <td>18</td>\n",
       "      <td>1</td>\n",
       "      <td>0.1</td>\n",
       "    </tr>\n",
       "    <tr>\n",
       "      <th>53658</th>\n",
       "      <td>The currently completed first phase project an...</td>\n",
       "      <td>*Asia*,*200 million US dollars*,*10,000 tons*</td>\n",
       "      <td>50</td>\n",
       "      <td>3</td>\n",
       "      <td>0.1</td>\n",
       "    </tr>\n",
       "  </tbody>\n",
       "</table>\n",
       "<p>53659 rows × 5 columns</p>\n",
       "</div>"
      ],
      "text/plain": [
       "                                              input_text  \\\n",
       "0      We, including US President Bush, who came to P...   \n",
       "1           About eight firms will get the lion's share.   \n",
       "2      Do n't you know you are worth much more than t...   \n",
       "3      Insurers, such as Cigna Corp., Transamerica Co...   \n",
       "4      I have seen my people suffering, and I have he...   \n",
       "...                                                  ...   \n",
       "53654                           I find them fascinating.   \n",
       "53655                                                No.   \n",
       "53656  but that's the ground equipment uh that we 're...   \n",
       "53657  Some American officers interpreted his eagerne...   \n",
       "53658  The currently completed first phase project an...   \n",
       "\n",
       "                                             target_text  word_count  \\\n",
       "0      *US*,*Pusan*,*Japan*,*China*,*Sino-Japanese*,*...          36   \n",
       "1                                          *About eight*           8   \n",
       "2                                                     **          13   \n",
       "3      *one*,*U.S.*,*Cigna Corp.*,*Transamerica Corp*...          29   \n",
       "4                                                     **          15   \n",
       "...                                                  ...         ...   \n",
       "53654                                                 **           4   \n",
       "53655                                                 **           1   \n",
       "53656                                                 **          15   \n",
       "53657                                         *American*          18   \n",
       "53658      *Asia*,*200 million US dollars*,*10,000 tons*          50   \n",
       "\n",
       "       NE_count  %_NE_in_sentence  \n",
       "0             3               0.1  \n",
       "1             1               0.1  \n",
       "2             0               0.0  \n",
       "3             3               0.1  \n",
       "4             0               0.0  \n",
       "...         ...               ...  \n",
       "53654         0               0.0  \n",
       "53655         0               0.0  \n",
       "53656         0               0.0  \n",
       "53657         1               0.1  \n",
       "53658         3               0.1  \n",
       "\n",
       "[53659 rows x 5 columns]"
      ]
     },
     "execution_count": 20,
     "metadata": {},
     "output_type": "execute_result"
    }
   ],
   "source": [
    "# dropping half of the rows with zero entities randomly\n",
    "\n",
    "np.random.seed(10)\n",
    "zero_entities = onto_training.loc[onto_training['%_NE_in_sentence']==0].index\n",
    "#TODO: take 1/5 of the entities with 0 entities .. so that the overall (combined) dataset has less than or equal to 15%\n",
    "remove_n = round(len(zero_entities)*2/3)\n",
    "\n",
    "\n",
    "drop_indices = np.random.choice(zero_entities, remove_n, replace=False)\n",
    "onto_training = onto_training.drop(drop_indices).reset_index(drop=True)\n",
    "onto_training"
   ]
  },
  {
   "cell_type": "code",
   "execution_count": 21,
   "id": "4a6ab44f",
   "metadata": {},
   "outputs": [
    {
     "name": "stdout",
     "output_type": "stream",
     "text": [
      "53659\n",
      "there are 0.3608527926349727 sentences in the range of 0:0.1\n",
      "19363\n"
     ]
    },
    {
     "data": {
      "image/png": "[encoded data removed]",
      "text/plain": [
       "<Figure size 432x288 with 1 Axes>"
      ]
     },
     "metadata": {
      "needs_background": "light"
     },
     "output_type": "display_data"
    }
   ],
   "source": [
    "plot_percent_NE = onto_training['%_NE_in_sentence'].value_counts().sort_index()\n",
    "plot_percent_NE.plot(kind='bar')\n",
    "print(len(onto_training))\n",
    "print(\"there are\", sum(plot_percent_NE.loc[0:0.01])/len(onto_training), \"sentences in the range of 0:0.1\")\n",
    "print(sum(plot_percent_NE.loc[0:0.01]))"
   ]
  },
  {
   "cell_type": "code",
   "execution_count": 22,
   "id": "e3934407",
   "metadata": {},
   "outputs": [
    {
     "data": {
      "text/plain": [
       "<AxesSubplot:xlabel='word_count'>"
      ]
     },
     "execution_count": 22,
     "metadata": {},
     "output_type": "execute_result"
    },
    {
     "data": {
      "image/png": "[encoded data removed]",
      "text/plain": [
       "<Figure size 432x288 with 1 Axes>"
      ]
     },
     "metadata": {
      "needs_background": "light"
     },
     "output_type": "display_data"
    }
   ],
   "source": [
    "onto_training.groupby(by='word_count')['input_text'].count().head(10).plot(kind='bar')"
   ]
  },
  {
   "cell_type": "markdown",
   "id": "87c6b93f",
   "metadata": {},
   "source": [
    "### Combining the datasets"
   ]
  },
  {
   "cell_type": "code",
   "execution_count": 23,
   "id": "cb887473",
   "metadata": {},
   "outputs": [
    {
     "data": {
      "text/html": [
       "<div>\n",
       "<style scoped>\n",
       "    .dataframe tbody tr th:only-of-type {\n",
       "        vertical-align: middle;\n",
       "    }\n",
       "\n",
       "    .dataframe tbody tr th {\n",
       "        vertical-align: top;\n",
       "    }\n",
       "\n",
       "    .dataframe thead th {\n",
       "        text-align: right;\n",
       "    }\n",
       "</style>\n",
       "<table border=\"1\" class=\"dataframe\">\n",
       "  <thead>\n",
       "    <tr style=\"text-align: right;\">\n",
       "      <th></th>\n",
       "      <th>input_text</th>\n",
       "      <th>target_text</th>\n",
       "      <th>word_count</th>\n",
       "      <th>NE_count</th>\n",
       "      <th>%_NE_in_sentence</th>\n",
       "    </tr>\n",
       "  </thead>\n",
       "  <tbody>\n",
       "    <tr>\n",
       "      <th>0</th>\n",
       "      <td>EU rejects German call to boycott British lamb .</td>\n",
       "      <td>*EU*,*German*,*British*</td>\n",
       "      <td>8</td>\n",
       "      <td>3</td>\n",
       "      <td>0.4</td>\n",
       "    </tr>\n",
       "    <tr>\n",
       "      <th>1</th>\n",
       "      <td>Peter Blackburn</td>\n",
       "      <td>*Peter Blackburn*</td>\n",
       "      <td>2</td>\n",
       "      <td>2</td>\n",
       "      <td>1.0</td>\n",
       "    </tr>\n",
       "    <tr>\n",
       "      <th>2</th>\n",
       "      <td>BRUSSELS 1996-08-22</td>\n",
       "      <td>*BRUSSELS*</td>\n",
       "      <td>2</td>\n",
       "      <td>1</td>\n",
       "      <td>0.5</td>\n",
       "    </tr>\n",
       "    <tr>\n",
       "      <th>3</th>\n",
       "      <td>The European Commission said on Thursday it di...</td>\n",
       "      <td>*European Commission*,*German*,*British*</td>\n",
       "      <td>29</td>\n",
       "      <td>4</td>\n",
       "      <td>0.1</td>\n",
       "    </tr>\n",
       "    <tr>\n",
       "      <th>4</th>\n",
       "      <td>Germany 's representative to the European Unio...</td>\n",
       "      <td>*Germany*,*European Union*,*Werner Zwingmann*,...</td>\n",
       "      <td>30</td>\n",
       "      <td>6</td>\n",
       "      <td>0.2</td>\n",
       "    </tr>\n",
       "    <tr>\n",
       "      <th>...</th>\n",
       "      <td>...</td>\n",
       "      <td>...</td>\n",
       "      <td>...</td>\n",
       "      <td>...</td>\n",
       "      <td>...</td>\n",
       "    </tr>\n",
       "    <tr>\n",
       "      <th>157319</th>\n",
       "      <td>Featuring aboriginal folk songs and a renditio...</td>\n",
       "      <td>*10,000*,*ROC*,*Chinese*</td>\n",
       "      <td>31</td>\n",
       "      <td>3</td>\n",
       "      <td>0.1</td>\n",
       "    </tr>\n",
       "    <tr>\n",
       "      <th>157320</th>\n",
       "      <td>I find them fascinating.</td>\n",
       "      <td>**</td>\n",
       "      <td>4</td>\n",
       "      <td>0</td>\n",
       "      <td>0.0</td>\n",
       "    </tr>\n",
       "    <tr>\n",
       "      <th>157321</th>\n",
       "      <td>but that's the ground equipment uh that we 're...</td>\n",
       "      <td>**</td>\n",
       "      <td>15</td>\n",
       "      <td>0</td>\n",
       "      <td>0.0</td>\n",
       "    </tr>\n",
       "    <tr>\n",
       "      <th>157322</th>\n",
       "      <td>Some American officers interpreted his eagerne...</td>\n",
       "      <td>*American*</td>\n",
       "      <td>18</td>\n",
       "      <td>1</td>\n",
       "      <td>0.1</td>\n",
       "    </tr>\n",
       "    <tr>\n",
       "      <th>157323</th>\n",
       "      <td>The currently completed first phase project an...</td>\n",
       "      <td>*Asia*,*200 million US dollars*,*10,000 tons*</td>\n",
       "      <td>50</td>\n",
       "      <td>3</td>\n",
       "      <td>0.1</td>\n",
       "    </tr>\n",
       "  </tbody>\n",
       "</table>\n",
       "<p>157324 rows × 5 columns</p>\n",
       "</div>"
      ],
      "text/plain": [
       "                                               input_text  \\\n",
       "0        EU rejects German call to boycott British lamb .   \n",
       "1                                         Peter Blackburn   \n",
       "2                                     BRUSSELS 1996-08-22   \n",
       "3       The European Commission said on Thursday it di...   \n",
       "4       Germany 's representative to the European Unio...   \n",
       "...                                                   ...   \n",
       "157319  Featuring aboriginal folk songs and a renditio...   \n",
       "157320                           I find them fascinating.   \n",
       "157321  but that's the ground equipment uh that we 're...   \n",
       "157322  Some American officers interpreted his eagerne...   \n",
       "157323  The currently completed first phase project an...   \n",
       "\n",
       "                                              target_text  word_count  \\\n",
       "0                                 *EU*,*German*,*British*           8   \n",
       "1                                       *Peter Blackburn*           2   \n",
       "2                                              *BRUSSELS*           2   \n",
       "3                *European Commission*,*German*,*British*          29   \n",
       "4       *Germany*,*European Union*,*Werner Zwingmann*,...          30   \n",
       "...                                                   ...         ...   \n",
       "157319                           *10,000*,*ROC*,*Chinese*          31   \n",
       "157320                                                 **           4   \n",
       "157321                                                 **          15   \n",
       "157322                                         *American*          18   \n",
       "157323      *Asia*,*200 million US dollars*,*10,000 tons*          50   \n",
       "\n",
       "        NE_count  %_NE_in_sentence  \n",
       "0              3               0.4  \n",
       "1              2               1.0  \n",
       "2              1               0.5  \n",
       "3              4               0.1  \n",
       "4              6               0.2  \n",
       "...          ...               ...  \n",
       "157319         3               0.1  \n",
       "157320         0               0.0  \n",
       "157321         0               0.0  \n",
       "157322         1               0.1  \n",
       "157323         3               0.1  \n",
       "\n",
       "[157324 rows x 5 columns]"
      ]
     },
     "execution_count": 23,
     "metadata": {},
     "output_type": "execute_result"
    }
   ],
   "source": [
    "combined_df = pd.concat([conellpp_training, wikineural_training, onto_training], ignore_index=True)\n",
    "combined_df = combined_df.drop_duplicates().reset_index(drop=True)\n",
    "combined_df"
   ]
  },
  {
   "cell_type": "markdown",
   "id": "d8c1ef36",
   "metadata": {},
   "source": [
    "### creating a lowercase and uppercase versions of the training data (not needed)"
   ]
  },
  {
   "cell_type": "code",
   "execution_count": 24,
   "id": "fa5102a8",
   "metadata": {},
   "outputs": [
    {
     "data": {
      "text/html": [
       "<div>\n",
       "<style scoped>\n",
       "    .dataframe tbody tr th:only-of-type {\n",
       "        vertical-align: middle;\n",
       "    }\n",
       "\n",
       "    .dataframe tbody tr th {\n",
       "        vertical-align: top;\n",
       "    }\n",
       "\n",
       "    .dataframe thead th {\n",
       "        text-align: right;\n",
       "    }\n",
       "</style>\n",
       "<table border=\"1\" class=\"dataframe\">\n",
       "  <thead>\n",
       "    <tr style=\"text-align: right;\">\n",
       "      <th></th>\n",
       "      <th>input_text</th>\n",
       "      <th>target_text</th>\n",
       "    </tr>\n",
       "  </thead>\n",
       "  <tbody>\n",
       "    <tr>\n",
       "      <th>0</th>\n",
       "      <td>eu rejects german call to boycott british lamb .</td>\n",
       "      <td>*eu*,*german*,*british*</td>\n",
       "    </tr>\n",
       "    <tr>\n",
       "      <th>1</th>\n",
       "      <td>peter blackburn</td>\n",
       "      <td>*peter blackburn*</td>\n",
       "    </tr>\n",
       "    <tr>\n",
       "      <th>2</th>\n",
       "      <td>brussels 1996-08-22</td>\n",
       "      <td>*brussels*</td>\n",
       "    </tr>\n",
       "    <tr>\n",
       "      <th>3</th>\n",
       "      <td>the european commission said on thursday it di...</td>\n",
       "      <td>*european commission*,*german*,*british*</td>\n",
       "    </tr>\n",
       "    <tr>\n",
       "      <th>4</th>\n",
       "      <td>germany 's representative to the european unio...</td>\n",
       "      <td>*germany*,*european union*,*werner zwingmann*,...</td>\n",
       "    </tr>\n",
       "    <tr>\n",
       "      <th>...</th>\n",
       "      <td>...</td>\n",
       "      <td>...</td>\n",
       "    </tr>\n",
       "    <tr>\n",
       "      <th>157319</th>\n",
       "      <td>featuring aboriginal folk songs and a renditio...</td>\n",
       "      <td>*10,000*,*roc*,*chinese*</td>\n",
       "    </tr>\n",
       "    <tr>\n",
       "      <th>157320</th>\n",
       "      <td>i find them fascinating.</td>\n",
       "      <td>**</td>\n",
       "    </tr>\n",
       "    <tr>\n",
       "      <th>157321</th>\n",
       "      <td>but that's the ground equipment uh that we 're...</td>\n",
       "      <td>**</td>\n",
       "    </tr>\n",
       "    <tr>\n",
       "      <th>157322</th>\n",
       "      <td>some american officers interpreted his eagerne...</td>\n",
       "      <td>*american*</td>\n",
       "    </tr>\n",
       "    <tr>\n",
       "      <th>157323</th>\n",
       "      <td>the currently completed first phase project an...</td>\n",
       "      <td>*asia*,*200 million us dollars*,*10,000 tons*</td>\n",
       "    </tr>\n",
       "  </tbody>\n",
       "</table>\n",
       "<p>157324 rows × 2 columns</p>\n",
       "</div>"
      ],
      "text/plain": [
       "                                               input_text  \\\n",
       "0        eu rejects german call to boycott british lamb .   \n",
       "1                                         peter blackburn   \n",
       "2                                     brussels 1996-08-22   \n",
       "3       the european commission said on thursday it di...   \n",
       "4       germany 's representative to the european unio...   \n",
       "...                                                   ...   \n",
       "157319  featuring aboriginal folk songs and a renditio...   \n",
       "157320                           i find them fascinating.   \n",
       "157321  but that's the ground equipment uh that we 're...   \n",
       "157322  some american officers interpreted his eagerne...   \n",
       "157323  the currently completed first phase project an...   \n",
       "\n",
       "                                              target_text  \n",
       "0                                 *eu*,*german*,*british*  \n",
       "1                                       *peter blackburn*  \n",
       "2                                              *brussels*  \n",
       "3                *european commission*,*german*,*british*  \n",
       "4       *germany*,*european union*,*werner zwingmann*,...  \n",
       "...                                                   ...  \n",
       "157319                           *10,000*,*roc*,*chinese*  \n",
       "157320                                                 **  \n",
       "157321                                                 **  \n",
       "157322                                         *american*  \n",
       "157323      *asia*,*200 million us dollars*,*10,000 tons*  \n",
       "\n",
       "[157324 rows x 2 columns]"
      ]
     },
     "execution_count": 24,
     "metadata": {},
     "output_type": "execute_result"
    }
   ],
   "source": [
    "lower_training = lower_case_df(combined_df)\n",
    "lower_training"
   ]
  },
  {
   "cell_type": "code",
   "execution_count": 25,
   "id": "09c35c0a",
   "metadata": {},
   "outputs": [],
   "source": [
    "upper_training = upper_case_df(combined_df)"
   ]
  },
  {
   "cell_type": "code",
   "execution_count": 26,
   "id": "7dfc53f4",
   "metadata": {},
   "outputs": [
    {
     "data": {
      "text/html": [
       "<div>\n",
       "<style scoped>\n",
       "    .dataframe tbody tr th:only-of-type {\n",
       "        vertical-align: middle;\n",
       "    }\n",
       "\n",
       "    .dataframe tbody tr th {\n",
       "        vertical-align: top;\n",
       "    }\n",
       "\n",
       "    .dataframe thead th {\n",
       "        text-align: right;\n",
       "    }\n",
       "</style>\n",
       "<table border=\"1\" class=\"dataframe\">\n",
       "  <thead>\n",
       "    <tr style=\"text-align: right;\">\n",
       "      <th></th>\n",
       "      <th>input_text</th>\n",
       "      <th>target_text</th>\n",
       "      <th>word_count</th>\n",
       "      <th>NE_count</th>\n",
       "      <th>%_NE_in_sentence</th>\n",
       "    </tr>\n",
       "  </thead>\n",
       "  <tbody>\n",
       "    <tr>\n",
       "      <th>0</th>\n",
       "      <td>in the south the range extends westwards from ...</td>\n",
       "      <td>*victoria*,*yorke peninsula*,*flinders ranges*...</td>\n",
       "      <td>NaN</td>\n",
       "      <td>NaN</td>\n",
       "      <td>NaN</td>\n",
       "    </tr>\n",
       "    <tr>\n",
       "      <th>1</th>\n",
       "      <td>Although the primary tone hole pitches are a p...</td>\n",
       "      <td>*English*</td>\n",
       "      <td>32.0</td>\n",
       "      <td>1.0</td>\n",
       "      <td>0.0</td>\n",
       "    </tr>\n",
       "    <tr>\n",
       "      <th>2</th>\n",
       "      <td>A second co-defendant's lawyer was gunned down.</td>\n",
       "      <td>*second*</td>\n",
       "      <td>7.0</td>\n",
       "      <td>1.0</td>\n",
       "      <td>0.1</td>\n",
       "    </tr>\n",
       "    <tr>\n",
       "      <th>3</th>\n",
       "      <td>The lists total $ 654.5 million.</td>\n",
       "      <td>*$ 654.5 million*</td>\n",
       "      <td>6.0</td>\n",
       "      <td>1.0</td>\n",
       "      <td>0.2</td>\n",
       "    </tr>\n",
       "    <tr>\n",
       "      <th>4</th>\n",
       "      <td>verbs which fall into this category include \" ...</td>\n",
       "      <td>*carinthia*</td>\n",
       "      <td>NaN</td>\n",
       "      <td>NaN</td>\n",
       "      <td>NaN</td>\n",
       "    </tr>\n",
       "    <tr>\n",
       "      <th>...</th>\n",
       "      <td>...</td>\n",
       "      <td>...</td>\n",
       "      <td>...</td>\n",
       "      <td>...</td>\n",
       "      <td>...</td>\n",
       "    </tr>\n",
       "    <tr>\n",
       "      <th>314643</th>\n",
       "      <td>it was the last of several speeches he has mad...</td>\n",
       "      <td>*recent weeks*</td>\n",
       "      <td>NaN</td>\n",
       "      <td>NaN</td>\n",
       "      <td>NaN</td>\n",
       "    </tr>\n",
       "    <tr>\n",
       "      <th>314644</th>\n",
       "      <td>the annual grand national horse race takes pla...</td>\n",
       "      <td>*grand national*,*aintree racecourse*</td>\n",
       "      <td>NaN</td>\n",
       "      <td>NaN</td>\n",
       "      <td>NaN</td>\n",
       "    </tr>\n",
       "    <tr>\n",
       "      <th>314645</th>\n",
       "      <td>Thus we gained a great deal from attending.</td>\n",
       "      <td>**</td>\n",
       "      <td>8.0</td>\n",
       "      <td>0.0</td>\n",
       "      <td>0.0</td>\n",
       "    </tr>\n",
       "    <tr>\n",
       "      <th>314646</th>\n",
       "      <td>We saw the star that shows he was born.</td>\n",
       "      <td>**</td>\n",
       "      <td>9.0</td>\n",
       "      <td>0.0</td>\n",
       "      <td>0.0</td>\n",
       "    </tr>\n",
       "    <tr>\n",
       "      <th>314647</th>\n",
       "      <td>`` that obviously means that we wo n't have en...</td>\n",
       "      <td>*fitzwater*</td>\n",
       "      <td>NaN</td>\n",
       "      <td>NaN</td>\n",
       "      <td>NaN</td>\n",
       "    </tr>\n",
       "  </tbody>\n",
       "</table>\n",
       "<p>314648 rows × 5 columns</p>\n",
       "</div>"
      ],
      "text/plain": [
       "                                               input_text  \\\n",
       "0       in the south the range extends westwards from ...   \n",
       "1       Although the primary tone hole pitches are a p...   \n",
       "2         A second co-defendant's lawyer was gunned down.   \n",
       "3                        The lists total $ 654.5 million.   \n",
       "4       verbs which fall into this category include \" ...   \n",
       "...                                                   ...   \n",
       "314643  it was the last of several speeches he has mad...   \n",
       "314644  the annual grand national horse race takes pla...   \n",
       "314645        Thus we gained a great deal from attending.   \n",
       "314646            We saw the star that shows he was born.   \n",
       "314647  `` that obviously means that we wo n't have en...   \n",
       "\n",
       "                                              target_text  word_count  \\\n",
       "0       *victoria*,*yorke peninsula*,*flinders ranges*...         NaN   \n",
       "1                                               *English*        32.0   \n",
       "2                                                *second*         7.0   \n",
       "3                                       *$ 654.5 million*         6.0   \n",
       "4                                             *carinthia*         NaN   \n",
       "...                                                   ...         ...   \n",
       "314643                                     *recent weeks*         NaN   \n",
       "314644              *grand national*,*aintree racecourse*         NaN   \n",
       "314645                                                 **         8.0   \n",
       "314646                                                 **         9.0   \n",
       "314647                                        *fitzwater*         NaN   \n",
       "\n",
       "        NE_count  %_NE_in_sentence  \n",
       "0            NaN               NaN  \n",
       "1            1.0               0.0  \n",
       "2            1.0               0.1  \n",
       "3            1.0               0.2  \n",
       "4            NaN               NaN  \n",
       "...          ...               ...  \n",
       "314643       NaN               NaN  \n",
       "314644       NaN               NaN  \n",
       "314645       0.0               0.0  \n",
       "314646       0.0               0.0  \n",
       "314647       NaN               NaN  \n",
       "\n",
       "[314648 rows x 5 columns]"
      ]
     },
     "execution_count": 26,
     "metadata": {},
     "output_type": "execute_result"
    }
   ],
   "source": [
    "lower_normal_training = pd.concat([lower_training, combined_df])\n",
    "lower_normal_training = lower_normal_training.sample(frac=1, random_state=1).reset_index(drop=True)\n",
    "lower_normal_training"
   ]
  },
  {
   "cell_type": "code",
   "execution_count": 27,
   "id": "3fb03bfb",
   "metadata": {},
   "outputs": [
    {
     "data": {
      "text/html": [
       "<div>\n",
       "<style scoped>\n",
       "    .dataframe tbody tr th:only-of-type {\n",
       "        vertical-align: middle;\n",
       "    }\n",
       "\n",
       "    .dataframe tbody tr th {\n",
       "        vertical-align: top;\n",
       "    }\n",
       "\n",
       "    .dataframe thead th {\n",
       "        text-align: right;\n",
       "    }\n",
       "</style>\n",
       "<table border=\"1\" class=\"dataframe\">\n",
       "  <thead>\n",
       "    <tr style=\"text-align: right;\">\n",
       "      <th></th>\n",
       "      <th>input_text</th>\n",
       "      <th>target_text</th>\n",
       "      <th>word_count</th>\n",
       "      <th>NE_count</th>\n",
       "      <th>%_NE_in_sentence</th>\n",
       "    </tr>\n",
       "  </thead>\n",
       "  <tbody>\n",
       "    <tr>\n",
       "      <th>0</th>\n",
       "      <td>In 1624 , the last of the monks died and the a...</td>\n",
       "      <td>*Robert Spottiswoode*,*St Andrews*,*New Abbey*</td>\n",
       "      <td>38.0</td>\n",
       "      <td>6.0</td>\n",
       "      <td>0.2</td>\n",
       "    </tr>\n",
       "    <tr>\n",
       "      <th>1</th>\n",
       "      <td>For example , her view of the subject , and it...</td>\n",
       "      <td>*Sigmund Freud*,*Lacan*</td>\n",
       "      <td>17.0</td>\n",
       "      <td>3.0</td>\n",
       "      <td>0.2</td>\n",
       "    </tr>\n",
       "    <tr>\n",
       "      <th>2</th>\n",
       "      <td>THE DOW JONES INDUSTRIAL AVERAGE OPENED SLIGHT...</td>\n",
       "      <td>*DOW JONES*,*PHILIP MORRIS*</td>\n",
       "      <td>NaN</td>\n",
       "      <td>NaN</td>\n",
       "      <td>NaN</td>\n",
       "    </tr>\n",
       "    <tr>\n",
       "      <th>3</th>\n",
       "      <td>the aviary is home to about 100 birds , most b...</td>\n",
       "      <td>*inca*,*magellanic*</td>\n",
       "      <td>NaN</td>\n",
       "      <td>NaN</td>\n",
       "      <td>NaN</td>\n",
       "    </tr>\n",
       "    <tr>\n",
       "      <th>4</th>\n",
       "      <td>Further illustrating the popularity of the cha...</td>\n",
       "      <td>*Her Highness Silk Hit Comics*</td>\n",
       "      <td>24.0</td>\n",
       "      <td>5.0</td>\n",
       "      <td>0.2</td>\n",
       "    </tr>\n",
       "    <tr>\n",
       "      <th>...</th>\n",
       "      <td>...</td>\n",
       "      <td>...</td>\n",
       "      <td>...</td>\n",
       "      <td>...</td>\n",
       "      <td>...</td>\n",
       "    </tr>\n",
       "    <tr>\n",
       "      <th>471967</th>\n",
       "      <td>WHEREBY EXPORTS TO EU COUNTRIES GREW BY 32,2 %...</td>\n",
       "      <td>*EU*</td>\n",
       "      <td>NaN</td>\n",
       "      <td>NaN</td>\n",
       "      <td>NaN</td>\n",
       "    </tr>\n",
       "    <tr>\n",
       "      <th>471968</th>\n",
       "      <td>Thus we gained a great deal from attending.</td>\n",
       "      <td>**</td>\n",
       "      <td>8.0</td>\n",
       "      <td>0.0</td>\n",
       "      <td>0.0</td>\n",
       "    </tr>\n",
       "    <tr>\n",
       "      <th>471969</th>\n",
       "      <td>We saw the star that shows he was born.</td>\n",
       "      <td>**</td>\n",
       "      <td>9.0</td>\n",
       "      <td>0.0</td>\n",
       "      <td>0.0</td>\n",
       "    </tr>\n",
       "    <tr>\n",
       "      <th>471970</th>\n",
       "      <td>BY A 6-4 MARGIN, HOUSE NEGOTIATORS INITIALLY R...</td>\n",
       "      <td>*6*,*HOUSE*,*SENATE*,*LAST NIGHT*</td>\n",
       "      <td>NaN</td>\n",
       "      <td>NaN</td>\n",
       "      <td>NaN</td>\n",
       "    </tr>\n",
       "    <tr>\n",
       "      <th>471971</th>\n",
       "      <td>`` that obviously means that we wo n't have en...</td>\n",
       "      <td>*fitzwater*</td>\n",
       "      <td>NaN</td>\n",
       "      <td>NaN</td>\n",
       "      <td>NaN</td>\n",
       "    </tr>\n",
       "  </tbody>\n",
       "</table>\n",
       "<p>471972 rows × 5 columns</p>\n",
       "</div>"
      ],
      "text/plain": [
       "                                               input_text  \\\n",
       "0       In 1624 , the last of the monks died and the a...   \n",
       "1       For example , her view of the subject , and it...   \n",
       "2       THE DOW JONES INDUSTRIAL AVERAGE OPENED SLIGHT...   \n",
       "3       the aviary is home to about 100 birds , most b...   \n",
       "4       Further illustrating the popularity of the cha...   \n",
       "...                                                   ...   \n",
       "471967  WHEREBY EXPORTS TO EU COUNTRIES GREW BY 32,2 %...   \n",
       "471968        Thus we gained a great deal from attending.   \n",
       "471969            We saw the star that shows he was born.   \n",
       "471970  BY A 6-4 MARGIN, HOUSE NEGOTIATORS INITIALLY R...   \n",
       "471971  `` that obviously means that we wo n't have en...   \n",
       "\n",
       "                                           target_text  word_count  NE_count  \\\n",
       "0       *Robert Spottiswoode*,*St Andrews*,*New Abbey*        38.0       6.0   \n",
       "1                              *Sigmund Freud*,*Lacan*        17.0       3.0   \n",
       "2                          *DOW JONES*,*PHILIP MORRIS*         NaN       NaN   \n",
       "3                                  *inca*,*magellanic*         NaN       NaN   \n",
       "4                       *Her Highness Silk Hit Comics*        24.0       5.0   \n",
       "...                                                ...         ...       ...   \n",
       "471967                                            *EU*         NaN       NaN   \n",
       "471968                                              **         8.0       0.0   \n",
       "471969                                              **         9.0       0.0   \n",
       "471970               *6*,*HOUSE*,*SENATE*,*LAST NIGHT*         NaN       NaN   \n",
       "471971                                     *fitzwater*         NaN       NaN   \n",
       "\n",
       "        %_NE_in_sentence  \n",
       "0                    0.2  \n",
       "1                    0.2  \n",
       "2                    NaN  \n",
       "3                    NaN  \n",
       "4                    0.2  \n",
       "...                  ...  \n",
       "471967               NaN  \n",
       "471968               0.0  \n",
       "471969               0.0  \n",
       "471970               NaN  \n",
       "471971               NaN  \n",
       "\n",
       "[471972 rows x 5 columns]"
      ]
     },
     "execution_count": 27,
     "metadata": {},
     "output_type": "execute_result"
    }
   ],
   "source": [
    "lower_normal_upper_training = pd.concat([lower_training, combined_df, upper_training])\n",
    "lower_normal_upper_training = lower_normal_upper_training.sample(frac=1, random_state=1).reset_index(drop=True)\n",
    "lower_normal_upper_training"
   ]
  },
  {
   "cell_type": "markdown",
   "id": "20525b47",
   "metadata": {},
   "source": [
    "### Saving the data as csv"
   ]
  },
  {
   "cell_type": "code",
   "execution_count": 28,
   "id": "156ea64a",
   "metadata": {},
   "outputs": [],
   "source": [
    "combined_df.to_csv('./1-NER_Data/1-csv_format/train/training_data.csv', index = False)\n",
    "lower_normal_training.to_csv('./1-NER_Data/1-csv_format/train/lower_normal_training.csv', index = False)\n",
    "lower_normal_upper_training.to_csv('./1-NER_Data/1-csv_format/train/lower_normal_upper_training.csv', index = False)"
   ]
  },
  {
   "cell_type": "markdown",
   "id": "b825b4be",
   "metadata": {},
   "source": [
    "# Validation data"
   ]
  },
  {
   "cell_type": "markdown",
   "id": "2e46a62f",
   "metadata": {},
   "source": [
    "### Read the data from either txt files or from huggingface dataset and converting each to target form  --->  [input_text, target_text, word_count, NE_count] "
   ]
  },
  {
   "cell_type": "code",
   "execution_count": 17,
   "id": "7d4f0e5a",
   "metadata": {},
   "outputs": [
    {
     "data": {
      "text/html": [
       "<div>\n",
       "<style scoped>\n",
       "    .dataframe tbody tr th:only-of-type {\n",
       "        vertical-align: middle;\n",
       "    }\n",
       "\n",
       "    .dataframe tbody tr th {\n",
       "        vertical-align: top;\n",
       "    }\n",
       "\n",
       "    .dataframe thead th {\n",
       "        text-align: right;\n",
       "    }\n",
       "</style>\n",
       "<table border=\"1\" class=\"dataframe\">\n",
       "  <thead>\n",
       "    <tr style=\"text-align: right;\">\n",
       "      <th></th>\n",
       "      <th>input_text</th>\n",
       "      <th>target_text</th>\n",
       "      <th>word_count</th>\n",
       "      <th>NE_count</th>\n",
       "    </tr>\n",
       "  </thead>\n",
       "  <tbody>\n",
       "    <tr>\n",
       "      <th>0</th>\n",
       "      <td>CRICKET - LEICESTERSHIRE TAKE OVER AT TOP AFTE...</td>\n",
       "      <td>*LEICESTERSHIRE*</td>\n",
       "      <td>9</td>\n",
       "      <td>1</td>\n",
       "    </tr>\n",
       "    <tr>\n",
       "      <th>1</th>\n",
       "      <td>LONDON 1996-08-30</td>\n",
       "      <td>*LONDON*</td>\n",
       "      <td>2</td>\n",
       "      <td>1</td>\n",
       "    </tr>\n",
       "    <tr>\n",
       "      <th>2</th>\n",
       "      <td>West Indian all-rounder Phil Simmons took four...</td>\n",
       "      <td>*West Indian*,*Phil Simmons*,*Leicestershire*,...</td>\n",
       "      <td>34</td>\n",
       "      <td>6</td>\n",
       "    </tr>\n",
       "    <tr>\n",
       "      <th>3</th>\n",
       "      <td>Their stay on top , though , may be short-live...</td>\n",
       "      <td>*Essex*,*Derbyshire*,*Surrey*,*Kent*,*Nottingh...</td>\n",
       "      <td>33</td>\n",
       "      <td>5</td>\n",
       "    </tr>\n",
       "    <tr>\n",
       "      <th>4</th>\n",
       "      <td>After bowling Somerset out for 83 on the openi...</td>\n",
       "      <td>*Somerset*,*Grace Road*,*Leicestershire*,*Engl...</td>\n",
       "      <td>36</td>\n",
       "      <td>7</td>\n",
       "    </tr>\n",
       "    <tr>\n",
       "      <th>...</th>\n",
       "      <td>...</td>\n",
       "      <td>...</td>\n",
       "      <td>...</td>\n",
       "      <td>...</td>\n",
       "    </tr>\n",
       "    <tr>\n",
       "      <th>3245</th>\n",
       "      <td>But the prices may move in a close range follo...</td>\n",
       "      <td>**</td>\n",
       "      <td>14</td>\n",
       "      <td>0</td>\n",
       "    </tr>\n",
       "    <tr>\n",
       "      <th>3246</th>\n",
       "      <td>Brokers said blue chips like IDLC , Bangladesh...</td>\n",
       "      <td>*IDLC*,*Bangladesh Lamps*,*Chittagong Cement*,...</td>\n",
       "      <td>17</td>\n",
       "      <td>7</td>\n",
       "    </tr>\n",
       "    <tr>\n",
       "      <th>3247</th>\n",
       "      <td>They said there was still demand for blue chip...</td>\n",
       "      <td>**</td>\n",
       "      <td>21</td>\n",
       "      <td>0</td>\n",
       "    </tr>\n",
       "    <tr>\n",
       "      <th>3248</th>\n",
       "      <td>The DSE all share price index closed 2.73 poin...</td>\n",
       "      <td>*DSE*</td>\n",
       "      <td>24</td>\n",
       "      <td>1</td>\n",
       "    </tr>\n",
       "    <tr>\n",
       "      <th>3249</th>\n",
       "      <td>-- Dhaka Newsroom 880-2-506363</td>\n",
       "      <td>*Dhaka Newsroom*</td>\n",
       "      <td>3</td>\n",
       "      <td>2</td>\n",
       "    </tr>\n",
       "  </tbody>\n",
       "</table>\n",
       "<p>3250 rows × 4 columns</p>\n",
       "</div>"
      ],
      "text/plain": [
       "                                             input_text  \\\n",
       "0     CRICKET - LEICESTERSHIRE TAKE OVER AT TOP AFTE...   \n",
       "1                                     LONDON 1996-08-30   \n",
       "2     West Indian all-rounder Phil Simmons took four...   \n",
       "3     Their stay on top , though , may be short-live...   \n",
       "4     After bowling Somerset out for 83 on the openi...   \n",
       "...                                                 ...   \n",
       "3245  But the prices may move in a close range follo...   \n",
       "3246  Brokers said blue chips like IDLC , Bangladesh...   \n",
       "3247  They said there was still demand for blue chip...   \n",
       "3248  The DSE all share price index closed 2.73 poin...   \n",
       "3249                     -- Dhaka Newsroom 880-2-506363   \n",
       "\n",
       "                                            target_text  word_count  NE_count  \n",
       "0                                      *LEICESTERSHIRE*           9         1  \n",
       "1                                              *LONDON*           2         1  \n",
       "2     *West Indian*,*Phil Simmons*,*Leicestershire*,...          34         6  \n",
       "3     *Essex*,*Derbyshire*,*Surrey*,*Kent*,*Nottingh...          33         5  \n",
       "4     *Somerset*,*Grace Road*,*Leicestershire*,*Engl...          36         7  \n",
       "...                                                 ...         ...       ...  \n",
       "3245                                                 **          14         0  \n",
       "3246  *IDLC*,*Bangladesh Lamps*,*Chittagong Cement*,...          17         7  \n",
       "3247                                                 **          21         0  \n",
       "3248                                              *DSE*          24         1  \n",
       "3249                                   *Dhaka Newsroom*           3         2  \n",
       "\n",
       "[3250 rows x 4 columns]"
      ]
     },
     "execution_count": 17,
     "metadata": {},
     "output_type": "execute_result"
    }
   ],
   "source": [
    "# CoNLL2003++ validatoin dataset\n",
    "\n",
    "conellpp_val = parse_file_data(\"./1-NER_Data/0-raw_data/coNLL2003pp/conllpp_dev.txt\", in_position=0, pos_position=3, line_len=4, sep=' ')\n",
    "conellpp_val"
   ]
  },
  {
   "cell_type": "code",
   "execution_count": 18,
   "id": "f443ac3b",
   "metadata": {},
   "outputs": [
    {
     "data": {
      "text/html": [
       "<div>\n",
       "<style scoped>\n",
       "    .dataframe tbody tr th:only-of-type {\n",
       "        vertical-align: middle;\n",
       "    }\n",
       "\n",
       "    .dataframe tbody tr th {\n",
       "        vertical-align: top;\n",
       "    }\n",
       "\n",
       "    .dataframe thead th {\n",
       "        text-align: right;\n",
       "    }\n",
       "</style>\n",
       "<table border=\"1\" class=\"dataframe\">\n",
       "  <thead>\n",
       "    <tr style=\"text-align: right;\">\n",
       "      <th></th>\n",
       "      <th>input_text</th>\n",
       "      <th>target_text</th>\n",
       "      <th>word_count</th>\n",
       "      <th>NE_count</th>\n",
       "    </tr>\n",
       "  </thead>\n",
       "  <tbody>\n",
       "    <tr>\n",
       "      <th>0</th>\n",
       "      <td>Her visit to Tuvalu was cut short by an illnes...</td>\n",
       "      <td>*Tuvalu*,*Australia*</td>\n",
       "      <td>24</td>\n",
       "      <td>2</td>\n",
       "    </tr>\n",
       "    <tr>\n",
       "      <th>1</th>\n",
       "      <td>In 1975 , the Princess was listed among women ...</td>\n",
       "      <td>*Warren Beatty*</td>\n",
       "      <td>17</td>\n",
       "      <td>2</td>\n",
       "    </tr>\n",
       "    <tr>\n",
       "      <th>2</th>\n",
       "      <td>In 1974 , she invited him as a guest to the ho...</td>\n",
       "      <td>*Mustique*</td>\n",
       "      <td>17</td>\n",
       "      <td>1</td>\n",
       "    </tr>\n",
       "    <tr>\n",
       "      <th>3</th>\n",
       "      <td>She co-starred with Richard Widmark and Gig Yo...</td>\n",
       "      <td>*Richard Widmark*,*Gig Young*,*The Tunnel of L...</td>\n",
       "      <td>32</td>\n",
       "      <td>14</td>\n",
       "    </tr>\n",
       "    <tr>\n",
       "      <th>4</th>\n",
       "      <td>She experienced a mild stroke on 23 February 1...</td>\n",
       "      <td>*Mustique*</td>\n",
       "      <td>15</td>\n",
       "      <td>1</td>\n",
       "    </tr>\n",
       "    <tr>\n",
       "      <th>...</th>\n",
       "      <td>...</td>\n",
       "      <td>...</td>\n",
       "      <td>...</td>\n",
       "      <td>...</td>\n",
       "    </tr>\n",
       "    <tr>\n",
       "      <th>11585</th>\n",
       "      <td>However , he played his home games at Baker Bo...</td>\n",
       "      <td>*Baker Bowl*</td>\n",
       "      <td>18</td>\n",
       "      <td>2</td>\n",
       "    </tr>\n",
       "    <tr>\n",
       "      <th>11586</th>\n",
       "      <td>256 with 11 triples in 277 at bats when his co...</td>\n",
       "      <td>*Chicago White Sox*</td>\n",
       "      <td>21</td>\n",
       "      <td>3</td>\n",
       "    </tr>\n",
       "    <tr>\n",
       "      <th>11587</th>\n",
       "      <td>He played his final professional games in 1922...</td>\n",
       "      <td>*Minneapolis Millers*</td>\n",
       "      <td>12</td>\n",
       "      <td>2</td>\n",
       "    </tr>\n",
       "    <tr>\n",
       "      <th>11588</th>\n",
       "      <td>The city is also the setting for the Disney Ch...</td>\n",
       "      <td>*Disney Channel*,*Good Luck Charlie*</td>\n",
       "      <td>14</td>\n",
       "      <td>5</td>\n",
       "    </tr>\n",
       "    <tr>\n",
       "      <th>11589</th>\n",
       "      <td>He was elected as Member of Parliament for Ogm...</td>\n",
       "      <td>*Ogmore*</td>\n",
       "      <td>14</td>\n",
       "      <td>1</td>\n",
       "    </tr>\n",
       "  </tbody>\n",
       "</table>\n",
       "<p>11590 rows × 4 columns</p>\n",
       "</div>"
      ],
      "text/plain": [
       "                                              input_text  \\\n",
       "0      Her visit to Tuvalu was cut short by an illnes...   \n",
       "1      In 1975 , the Princess was listed among women ...   \n",
       "2      In 1974 , she invited him as a guest to the ho...   \n",
       "3      She co-starred with Richard Widmark and Gig Yo...   \n",
       "4      She experienced a mild stroke on 23 February 1...   \n",
       "...                                                  ...   \n",
       "11585  However , he played his home games at Baker Bo...   \n",
       "11586  256 with 11 triples in 277 at bats when his co...   \n",
       "11587  He played his final professional games in 1922...   \n",
       "11588  The city is also the setting for the Disney Ch...   \n",
       "11589  He was elected as Member of Parliament for Ogm...   \n",
       "\n",
       "                                             target_text  word_count  NE_count  \n",
       "0                                   *Tuvalu*,*Australia*          24         2  \n",
       "1                                        *Warren Beatty*          17         2  \n",
       "2                                             *Mustique*          17         1  \n",
       "3      *Richard Widmark*,*Gig Young*,*The Tunnel of L...          32        14  \n",
       "4                                             *Mustique*          15         1  \n",
       "...                                                  ...         ...       ...  \n",
       "11585                                       *Baker Bowl*          18         2  \n",
       "11586                                *Chicago White Sox*          21         3  \n",
       "11587                              *Minneapolis Millers*          12         2  \n",
       "11588               *Disney Channel*,*Good Luck Charlie*          14         5  \n",
       "11589                                           *Ogmore*          14         1  \n",
       "\n",
       "[11590 rows x 4 columns]"
      ]
     },
     "execution_count": 18,
     "metadata": {},
     "output_type": "execute_result"
    }
   ],
   "source": [
    "# wikineural validation dataset\n",
    "\n",
    "wikineural_val = parse_file_data(\"./1-NER_Data/0-raw_data/wikineural/val.conllu.txt\", 1, 2, 3, '\\t')\n",
    "wikineural_val"
   ]
  },
  {
   "cell_type": "code",
   "execution_count": 31,
   "id": "3264e1b0",
   "metadata": {},
   "outputs": [],
   "source": [
    "# OntoNotes 5.0 validation dataset refer section above"
   ]
  },
  {
   "cell_type": "markdown",
   "id": "5bf3648b",
   "metadata": {},
   "source": [
    "### Adding entity as percentage of the input sentence"
   ]
  },
  {
   "cell_type": "code",
   "execution_count": 32,
   "id": "88396961",
   "metadata": {},
   "outputs": [],
   "source": [
    "conellpp_val = add_per_NE_sent(conellpp_val)\n",
    "wikineural_val = add_per_NE_sent(wikineural_val)\n",
    "onto_val = add_per_NE_sent(onto_val)"
   ]
  },
  {
   "cell_type": "code",
   "execution_count": 33,
   "id": "da268f38",
   "metadata": {},
   "outputs": [
    {
     "name": "stdout",
     "output_type": "stream",
     "text": [
      "there are 0.23076923076923078 sentences in the range of 0:0.1\n"
     ]
    },
    {
     "data": {
      "image/png": "[encoded data removed]",
      "text/plain": [
       "<Figure size 432x288 with 1 Axes>"
      ]
     },
     "metadata": {
      "needs_background": "light"
     },
     "output_type": "display_data"
    }
   ],
   "source": [
    "plot_percent_NE = conellpp_val['%_NE_in_sentence'].value_counts().sort_index()\n",
    "plot_percent_NE.plot(kind='bar')\n",
    "print(\"there are\", sum(plot_percent_NE.loc[0:0.099])/len(conellpp_val), \"sentences in the range of 0:0.1\")"
   ]
  },
  {
   "cell_type": "code",
   "execution_count": 34,
   "id": "12f810ce",
   "metadata": {},
   "outputs": [
    {
     "data": {
      "text/plain": [
       "<AxesSubplot:xlabel='word_count'>"
      ]
     },
     "execution_count": 34,
     "metadata": {},
     "output_type": "execute_result"
    },
    {
     "data": {
      "image/png": "[encoded data removed]",
      "text/plain": [
       "<Figure size 432x288 with 1 Axes>"
      ]
     },
     "metadata": {
      "needs_background": "light"
     },
     "output_type": "display_data"
    }
   ],
   "source": [
    "conellpp_val.groupby(by='word_count')['input_text'].count().head(10).plot(kind='bar')"
   ]
  },
  {
   "cell_type": "code",
   "execution_count": 35,
   "id": "28ba22ce",
   "metadata": {},
   "outputs": [],
   "source": [
    "conellpp_val = conellpp_val.drop(conellpp_val.loc[conellpp_val['word_count'] == 0].index).reset_index(drop=True)\n",
    "# conellpp_val"
   ]
  },
  {
   "cell_type": "code",
   "execution_count": null,
   "id": "55898135",
   "metadata": {},
   "outputs": [],
   "source": []
  },
  {
   "cell_type": "code",
   "execution_count": 36,
   "id": "db4787e4",
   "metadata": {},
   "outputs": [
    {
     "name": "stdout",
     "output_type": "stream",
     "text": [
      "there are 0.13701466781708369 sentences in the range of 0:0.1\n"
     ]
    },
    {
     "data": {
      "image/png": "[encoded data removed]",
      "text/plain": [
       "<Figure size 432x288 with 1 Axes>"
      ]
     },
     "metadata": {
      "needs_background": "light"
     },
     "output_type": "display_data"
    }
   ],
   "source": [
    "plot_percent_NE = wikineural_val['%_NE_in_sentence'].value_counts().sort_index()\n",
    "plot_percent_NE.plot(kind='bar')\n",
    "print(\"there are\", sum(plot_percent_NE.loc[0:0.099])/len(wikineural_val), \"sentences in the range of 0:0.1\")"
   ]
  },
  {
   "cell_type": "code",
   "execution_count": 37,
   "id": "0397d8f8",
   "metadata": {},
   "outputs": [
    {
     "data": {
      "text/plain": [
       "<AxesSubplot:xlabel='word_count'>"
      ]
     },
     "execution_count": 37,
     "metadata": {},
     "output_type": "execute_result"
    },
    {
     "data": {
      "image/png": "[encoded data removed]",
      "text/plain": [
       "<Figure size 432x288 with 1 Axes>"
      ]
     },
     "metadata": {
      "needs_background": "light"
     },
     "output_type": "display_data"
    }
   ],
   "source": [
    "wikineural_val.groupby(by='word_count')['input_text'].count().head(10).plot(kind='bar')"
   ]
  },
  {
   "cell_type": "code",
   "execution_count": null,
   "id": "3c7d5b64",
   "metadata": {},
   "outputs": [],
   "source": []
  },
  {
   "cell_type": "code",
   "execution_count": 38,
   "id": "f18c7f01",
   "metadata": {},
   "outputs": [
    {
     "name": "stdout",
     "output_type": "stream",
     "text": [
      "19797\n",
      "there are 0.6274182957013689 sentences in the range of 0:0.1\n",
      "12421\n"
     ]
    },
    {
     "data": {
      "image/png": "[encoded data removed]",
      "text/plain": [
       "<Figure size 432x288 with 1 Axes>"
      ]
     },
     "metadata": {
      "needs_background": "light"
     },
     "output_type": "display_data"
    }
   ],
   "source": [
    "plot_percent_NE = onto_val['%_NE_in_sentence'].value_counts().sort_index()\n",
    "plot_percent_NE.plot(kind='bar')\n",
    "print(len(onto_val))\n",
    "print(\"there are\", sum(plot_percent_NE.loc[0:0.099])/len(onto_val), \"sentences in the range of 0:0.1\")\n",
    "print(sum(plot_percent_NE.loc[0:0.01]))"
   ]
  },
  {
   "cell_type": "code",
   "execution_count": 39,
   "id": "d30799cd",
   "metadata": {},
   "outputs": [
    {
     "data": {
      "text/html": [
       "<div>\n",
       "<style scoped>\n",
       "    .dataframe tbody tr th:only-of-type {\n",
       "        vertical-align: middle;\n",
       "    }\n",
       "\n",
       "    .dataframe tbody tr th {\n",
       "        vertical-align: top;\n",
       "    }\n",
       "\n",
       "    .dataframe thead th {\n",
       "        text-align: right;\n",
       "    }\n",
       "</style>\n",
       "<table border=\"1\" class=\"dataframe\">\n",
       "  <thead>\n",
       "    <tr style=\"text-align: right;\">\n",
       "      <th></th>\n",
       "      <th>input_text</th>\n",
       "      <th>target_text</th>\n",
       "      <th>word_count</th>\n",
       "      <th>NE_count</th>\n",
       "      <th>%_NE_in_sentence</th>\n",
       "    </tr>\n",
       "  </thead>\n",
       "  <tbody>\n",
       "    <tr>\n",
       "      <th>0</th>\n",
       "      <td>Britain's government plans to raise about # 20...</td>\n",
       "      <td>*next month*,*Britain*,*about # 20 billion-LRB...</td>\n",
       "      <td>25</td>\n",
       "      <td>3</td>\n",
       "      <td>0.1</td>\n",
       "    </tr>\n",
       "    <tr>\n",
       "      <th>1</th>\n",
       "      <td>Well it's very difficult Dan.</td>\n",
       "      <td>*Dan*</td>\n",
       "      <td>5</td>\n",
       "      <td>1</td>\n",
       "      <td>0.2</td>\n",
       "    </tr>\n",
       "    <tr>\n",
       "      <th>2</th>\n",
       "      <td>In the Palestinian territories today, violence...</td>\n",
       "      <td>*today*,*Palestinian*</td>\n",
       "      <td>9</td>\n",
       "      <td>2</td>\n",
       "      <td>0.2</td>\n",
       "    </tr>\n",
       "    <tr>\n",
       "      <th>3</th>\n",
       "      <td>It also exported its technology to more than 5...</td>\n",
       "      <td>*more than 50*,*2.7*,*five-year*,*more than 8 ...</td>\n",
       "      <td>38</td>\n",
       "      <td>4</td>\n",
       "      <td>0.1</td>\n",
       "    </tr>\n",
       "    <tr>\n",
       "      <th>4</th>\n",
       "      <td>Cuba was elected to the U.N. Security Council ...</td>\n",
       "      <td>*30 years ago*,*Cuba*,*first*,*the U.N. Securi...</td>\n",
       "      <td>19</td>\n",
       "      <td>5</td>\n",
       "      <td>0.3</td>\n",
       "    </tr>\n",
       "    <tr>\n",
       "      <th>...</th>\n",
       "      <td>...</td>\n",
       "      <td>...</td>\n",
       "      <td>...</td>\n",
       "      <td>...</td>\n",
       "      <td>...</td>\n",
       "    </tr>\n",
       "    <tr>\n",
       "      <th>11511</th>\n",
       "      <td>one of the reasons I feel like I have to go ba...</td>\n",
       "      <td>*one*,*one*,*October*</td>\n",
       "      <td>29</td>\n",
       "      <td>2</td>\n",
       "      <td>0.1</td>\n",
       "    </tr>\n",
       "    <tr>\n",
       "      <th>11512</th>\n",
       "      <td>Mr. Good devotes much serious space to the eve...</td>\n",
       "      <td>*Feb. 25, 1942*,*Los Angeles*,*American*,*Good*</td>\n",
       "      <td>25</td>\n",
       "      <td>4</td>\n",
       "      <td>0.2</td>\n",
       "    </tr>\n",
       "    <tr>\n",
       "      <th>11513</th>\n",
       "      <td>And how about you ?</td>\n",
       "      <td>**</td>\n",
       "      <td>5</td>\n",
       "      <td>0</td>\n",
       "      <td>0.0</td>\n",
       "    </tr>\n",
       "    <tr>\n",
       "      <th>11514</th>\n",
       "      <td>Office director William Li was subsequently re...</td>\n",
       "      <td>*the Mainland Affairs Council*</td>\n",
       "      <td>18</td>\n",
       "      <td>1</td>\n",
       "      <td>0.1</td>\n",
       "    </tr>\n",
       "    <tr>\n",
       "      <th>11515</th>\n",
       "      <td>You know I do n't-</td>\n",
       "      <td>**</td>\n",
       "      <td>5</td>\n",
       "      <td>0</td>\n",
       "      <td>0.0</td>\n",
       "    </tr>\n",
       "  </tbody>\n",
       "</table>\n",
       "<p>11516 rows × 5 columns</p>\n",
       "</div>"
      ],
      "text/plain": [
       "                                              input_text  \\\n",
       "0      Britain's government plans to raise about # 20...   \n",
       "1                          Well it's very difficult Dan.   \n",
       "2      In the Palestinian territories today, violence...   \n",
       "3      It also exported its technology to more than 5...   \n",
       "4      Cuba was elected to the U.N. Security Council ...   \n",
       "...                                                  ...   \n",
       "11511  one of the reasons I feel like I have to go ba...   \n",
       "11512  Mr. Good devotes much serious space to the eve...   \n",
       "11513                                And how about you ?   \n",
       "11514  Office director William Li was subsequently re...   \n",
       "11515                                 You know I do n't-   \n",
       "\n",
       "                                             target_text  word_count  \\\n",
       "0      *next month*,*Britain*,*about # 20 billion-LRB...          25   \n",
       "1                                                  *Dan*           5   \n",
       "2                                  *today*,*Palestinian*           9   \n",
       "3      *more than 50*,*2.7*,*five-year*,*more than 8 ...          38   \n",
       "4      *30 years ago*,*Cuba*,*first*,*the U.N. Securi...          19   \n",
       "...                                                  ...         ...   \n",
       "11511                              *one*,*one*,*October*          29   \n",
       "11512    *Feb. 25, 1942*,*Los Angeles*,*American*,*Good*          25   \n",
       "11513                                                 **           5   \n",
       "11514                     *the Mainland Affairs Council*          18   \n",
       "11515                                                 **           5   \n",
       "\n",
       "       NE_count  %_NE_in_sentence  \n",
       "0             3               0.1  \n",
       "1             1               0.2  \n",
       "2             2               0.2  \n",
       "3             4               0.1  \n",
       "4             5               0.3  \n",
       "...         ...               ...  \n",
       "11511         2               0.1  \n",
       "11512         4               0.2  \n",
       "11513         0               0.0  \n",
       "11514         1               0.1  \n",
       "11515         0               0.0  \n",
       "\n",
       "[11516 rows x 5 columns]"
      ]
     },
     "execution_count": 39,
     "metadata": {},
     "output_type": "execute_result"
    }
   ],
   "source": [
    "# dropping half of the rows with zero entities randomly\n",
    "\n",
    "np.random.seed(10)\n",
    "zero_entities = onto_val.loc[onto_val['%_NE_in_sentence']==0].index\n",
    "remove_n = round(len(zero_entities)*2/3)\n",
    "\n",
    "drop_indices = np.random.choice(zero_entities, remove_n, replace=False)\n",
    "onto_val = onto_val.drop(drop_indices).reset_index(drop=True)\n",
    "onto_val"
   ]
  },
  {
   "cell_type": "code",
   "execution_count": 40,
   "id": "c7667de4",
   "metadata": {},
   "outputs": [
    {
     "name": "stdout",
     "output_type": "stream",
     "text": [
      "11516\n",
      "there are 0.3594998263285863 sentences in the range of 0:0.1\n",
      "4140\n"
     ]
    },
    {
     "data": {
      "image/png": "[encoded data removed]",
      "text/plain": [
       "<Figure size 432x288 with 1 Axes>"
      ]
     },
     "metadata": {
      "needs_background": "light"
     },
     "output_type": "display_data"
    }
   ],
   "source": [
    "plot_percent_NE = onto_val['%_NE_in_sentence'].value_counts().sort_index()\n",
    "plot_percent_NE.plot(kind='bar')\n",
    "print(len(onto_val))\n",
    "print(\"there are\", sum(plot_percent_NE.loc[0:0.01])/len(onto_val), \"sentences in the range of 0:0.1\")\n",
    "print(sum(plot_percent_NE.loc[0:0.01]))"
   ]
  },
  {
   "cell_type": "code",
   "execution_count": 41,
   "id": "402a6591",
   "metadata": {},
   "outputs": [
    {
     "data": {
      "text/plain": [
       "<AxesSubplot:xlabel='word_count'>"
      ]
     },
     "execution_count": 41,
     "metadata": {},
     "output_type": "execute_result"
    },
    {
     "data": {
      "image/png": "[encoded data removed]",
      "text/plain": [
       "<Figure size 432x288 with 1 Axes>"
      ]
     },
     "metadata": {
      "needs_background": "light"
     },
     "output_type": "display_data"
    }
   ],
   "source": [
    "onto_val.groupby(by='word_count')['input_text'].count().head(10).plot(kind='bar')"
   ]
  },
  {
   "cell_type": "code",
   "execution_count": null,
   "id": "9335a07b",
   "metadata": {},
   "outputs": [],
   "source": []
  },
  {
   "cell_type": "markdown",
   "id": "a694de87",
   "metadata": {},
   "source": [
    "### Combining the datasets"
   ]
  },
  {
   "cell_type": "code",
   "execution_count": 42,
   "id": "adb583ba",
   "metadata": {},
   "outputs": [
    {
     "data": {
      "text/html": [
       "<div>\n",
       "<style scoped>\n",
       "    .dataframe tbody tr th:only-of-type {\n",
       "        vertical-align: middle;\n",
       "    }\n",
       "\n",
       "    .dataframe tbody tr th {\n",
       "        vertical-align: top;\n",
       "    }\n",
       "\n",
       "    .dataframe thead th {\n",
       "        text-align: right;\n",
       "    }\n",
       "</style>\n",
       "<table border=\"1\" class=\"dataframe\">\n",
       "  <thead>\n",
       "    <tr style=\"text-align: right;\">\n",
       "      <th></th>\n",
       "      <th>input_text</th>\n",
       "      <th>target_text</th>\n",
       "      <th>word_count</th>\n",
       "      <th>NE_count</th>\n",
       "      <th>%_NE_in_sentence</th>\n",
       "    </tr>\n",
       "  </thead>\n",
       "  <tbody>\n",
       "    <tr>\n",
       "      <th>0</th>\n",
       "      <td>CRICKET - LEICESTERSHIRE TAKE OVER AT TOP AFTE...</td>\n",
       "      <td>*LEICESTERSHIRE*</td>\n",
       "      <td>9</td>\n",
       "      <td>1</td>\n",
       "      <td>0.1</td>\n",
       "    </tr>\n",
       "    <tr>\n",
       "      <th>1</th>\n",
       "      <td>LONDON 1996-08-30</td>\n",
       "      <td>*LONDON*</td>\n",
       "      <td>2</td>\n",
       "      <td>1</td>\n",
       "      <td>0.5</td>\n",
       "    </tr>\n",
       "    <tr>\n",
       "      <th>2</th>\n",
       "      <td>West Indian all-rounder Phil Simmons took four...</td>\n",
       "      <td>*West Indian*,*Phil Simmons*,*Leicestershire*,...</td>\n",
       "      <td>34</td>\n",
       "      <td>6</td>\n",
       "      <td>0.2</td>\n",
       "    </tr>\n",
       "    <tr>\n",
       "      <th>3</th>\n",
       "      <td>Their stay on top , though , may be short-live...</td>\n",
       "      <td>*Essex*,*Derbyshire*,*Surrey*,*Kent*,*Nottingh...</td>\n",
       "      <td>33</td>\n",
       "      <td>5</td>\n",
       "      <td>0.2</td>\n",
       "    </tr>\n",
       "    <tr>\n",
       "      <th>4</th>\n",
       "      <td>After bowling Somerset out for 83 on the openi...</td>\n",
       "      <td>*Somerset*,*Grace Road*,*Leicestershire*,*Engl...</td>\n",
       "      <td>36</td>\n",
       "      <td>7</td>\n",
       "      <td>0.2</td>\n",
       "    </tr>\n",
       "    <tr>\n",
       "      <th>...</th>\n",
       "      <td>...</td>\n",
       "      <td>...</td>\n",
       "      <td>...</td>\n",
       "      <td>...</td>\n",
       "      <td>...</td>\n",
       "    </tr>\n",
       "    <tr>\n",
       "      <th>25917</th>\n",
       "      <td>one of the reasons I feel like I have to go ba...</td>\n",
       "      <td>*one*,*one*,*October*</td>\n",
       "      <td>29</td>\n",
       "      <td>2</td>\n",
       "      <td>0.1</td>\n",
       "    </tr>\n",
       "    <tr>\n",
       "      <th>25918</th>\n",
       "      <td>Mr. Good devotes much serious space to the eve...</td>\n",
       "      <td>*Feb. 25, 1942*,*Los Angeles*,*American*,*Good*</td>\n",
       "      <td>25</td>\n",
       "      <td>4</td>\n",
       "      <td>0.2</td>\n",
       "    </tr>\n",
       "    <tr>\n",
       "      <th>25919</th>\n",
       "      <td>And how about you ?</td>\n",
       "      <td>**</td>\n",
       "      <td>5</td>\n",
       "      <td>0</td>\n",
       "      <td>0.0</td>\n",
       "    </tr>\n",
       "    <tr>\n",
       "      <th>25920</th>\n",
       "      <td>Office director William Li was subsequently re...</td>\n",
       "      <td>*the Mainland Affairs Council*</td>\n",
       "      <td>18</td>\n",
       "      <td>1</td>\n",
       "      <td>0.1</td>\n",
       "    </tr>\n",
       "    <tr>\n",
       "      <th>25921</th>\n",
       "      <td>You know I do n't-</td>\n",
       "      <td>**</td>\n",
       "      <td>5</td>\n",
       "      <td>0</td>\n",
       "      <td>0.0</td>\n",
       "    </tr>\n",
       "  </tbody>\n",
       "</table>\n",
       "<p>25922 rows × 5 columns</p>\n",
       "</div>"
      ],
      "text/plain": [
       "                                              input_text  \\\n",
       "0      CRICKET - LEICESTERSHIRE TAKE OVER AT TOP AFTE...   \n",
       "1                                      LONDON 1996-08-30   \n",
       "2      West Indian all-rounder Phil Simmons took four...   \n",
       "3      Their stay on top , though , may be short-live...   \n",
       "4      After bowling Somerset out for 83 on the openi...   \n",
       "...                                                  ...   \n",
       "25917  one of the reasons I feel like I have to go ba...   \n",
       "25918  Mr. Good devotes much serious space to the eve...   \n",
       "25919                                And how about you ?   \n",
       "25920  Office director William Li was subsequently re...   \n",
       "25921                                 You know I do n't-   \n",
       "\n",
       "                                             target_text  word_count  \\\n",
       "0                                       *LEICESTERSHIRE*           9   \n",
       "1                                               *LONDON*           2   \n",
       "2      *West Indian*,*Phil Simmons*,*Leicestershire*,...          34   \n",
       "3      *Essex*,*Derbyshire*,*Surrey*,*Kent*,*Nottingh...          33   \n",
       "4      *Somerset*,*Grace Road*,*Leicestershire*,*Engl...          36   \n",
       "...                                                  ...         ...   \n",
       "25917                              *one*,*one*,*October*          29   \n",
       "25918    *Feb. 25, 1942*,*Los Angeles*,*American*,*Good*          25   \n",
       "25919                                                 **           5   \n",
       "25920                     *the Mainland Affairs Council*          18   \n",
       "25921                                                 **           5   \n",
       "\n",
       "       NE_count  %_NE_in_sentence  \n",
       "0             1               0.1  \n",
       "1             1               0.5  \n",
       "2             6               0.2  \n",
       "3             5               0.2  \n",
       "4             7               0.2  \n",
       "...         ...               ...  \n",
       "25917         2               0.1  \n",
       "25918         4               0.2  \n",
       "25919         0               0.0  \n",
       "25920         1               0.1  \n",
       "25921         0               0.0  \n",
       "\n",
       "[25922 rows x 5 columns]"
      ]
     },
     "execution_count": 42,
     "metadata": {},
     "output_type": "execute_result"
    }
   ],
   "source": [
    "val_combined_df = pd.concat([conellpp_val, wikineural_val, onto_val], ignore_index=True).drop_duplicates().reset_index(drop=True)\n",
    "val_combined_df"
   ]
  },
  {
   "cell_type": "markdown",
   "id": "e151e55b",
   "metadata": {},
   "source": [
    "### creating a lowercase and uppercase versions of the validation data (not needed)"
   ]
  },
  {
   "cell_type": "code",
   "execution_count": 43,
   "id": "91a81d8a",
   "metadata": {},
   "outputs": [],
   "source": [
    "# lower_val = lower_case_df(val_combined_df)\n",
    "# lower_val"
   ]
  },
  {
   "cell_type": "code",
   "execution_count": 44,
   "id": "e73261fb",
   "metadata": {},
   "outputs": [],
   "source": [
    "# upper_val = upper_case_df(val_combined_df)\n",
    "# lower_upper_val = pd.concat([lower_val, upper_val])\n",
    "# lower_upper_val = lower_upper_val.sample(frac=1, random_state=1).reset_index(drop=True)\n",
    "# lower_upper_val"
   ]
  },
  {
   "cell_type": "markdown",
   "id": "ba90a18e",
   "metadata": {},
   "source": [
    "### Saving the data as csv"
   ]
  },
  {
   "cell_type": "code",
   "execution_count": 45,
   "id": "a62e70cb",
   "metadata": {},
   "outputs": [],
   "source": [
    "val_combined_df.to_csv('./1-NER_Data/1-csv_format/val/val_data.csv', index = False)\n",
    "# lower_val.to_csv('./1-NER_Data/1-csv_format/val/lower_val_data.csv', index = False)\n",
    "# lower_upper_val.to_csv('./1-NER_Data/1-csv_format/val/low_up_val_data.csv', index = False)"
   ]
  },
  {
   "cell_type": "markdown",
   "id": "2ac69bab",
   "metadata": {},
   "source": [
    "# Test data"
   ]
  },
  {
   "cell_type": "markdown",
   "id": "74111ce1",
   "metadata": {},
   "source": [
    "### Read the data from either txt files or from huggingface dataset and converting each to target form  --->  [input_text, target_text, word_count, NE_count] "
   ]
  },
  {
   "cell_type": "code",
   "execution_count": 19,
   "id": "b7961de9",
   "metadata": {},
   "outputs": [
    {
     "data": {
      "text/html": [
       "<div>\n",
       "<style scoped>\n",
       "    .dataframe tbody tr th:only-of-type {\n",
       "        vertical-align: middle;\n",
       "    }\n",
       "\n",
       "    .dataframe tbody tr th {\n",
       "        vertical-align: top;\n",
       "    }\n",
       "\n",
       "    .dataframe thead th {\n",
       "        text-align: right;\n",
       "    }\n",
       "</style>\n",
       "<table border=\"1\" class=\"dataframe\">\n",
       "  <thead>\n",
       "    <tr style=\"text-align: right;\">\n",
       "      <th></th>\n",
       "      <th>input_text</th>\n",
       "      <th>target_text</th>\n",
       "      <th>word_count</th>\n",
       "      <th>NE_count</th>\n",
       "    </tr>\n",
       "  </thead>\n",
       "  <tbody>\n",
       "    <tr>\n",
       "      <th>0</th>\n",
       "      <td>SOCCER - JAPAN GET LUCKY WIN , CHINA IN SURPRI...</td>\n",
       "      <td>*JAPAN*,*CHINA*</td>\n",
       "      <td>9</td>\n",
       "      <td>2</td>\n",
       "    </tr>\n",
       "    <tr>\n",
       "      <th>1</th>\n",
       "      <td>Nadim Ladki</td>\n",
       "      <td>*Nadim Ladki*</td>\n",
       "      <td>2</td>\n",
       "      <td>2</td>\n",
       "    </tr>\n",
       "    <tr>\n",
       "      <th>2</th>\n",
       "      <td>AL-AIN , United Arab Emirates 1996-12-06</td>\n",
       "      <td>*AL-AIN*,*United Arab Emirates*</td>\n",
       "      <td>5</td>\n",
       "      <td>4</td>\n",
       "    </tr>\n",
       "    <tr>\n",
       "      <th>3</th>\n",
       "      <td>Japan began the defence of their Asian Cup tit...</td>\n",
       "      <td>*Japan*,*Asian Cup*,*Syria*</td>\n",
       "      <td>24</td>\n",
       "      <td>4</td>\n",
       "    </tr>\n",
       "    <tr>\n",
       "      <th>4</th>\n",
       "      <td>But China saw their luck desert them in the se...</td>\n",
       "      <td>*China*,*Uzbekistan*</td>\n",
       "      <td>23</td>\n",
       "      <td>2</td>\n",
       "    </tr>\n",
       "    <tr>\n",
       "      <th>...</th>\n",
       "      <td>...</td>\n",
       "      <td>...</td>\n",
       "      <td>...</td>\n",
       "      <td>...</td>\n",
       "    </tr>\n",
       "    <tr>\n",
       "      <th>3447</th>\n",
       "      <td>It all culminated in the fact that I now have ...</td>\n",
       "      <td>*Ireland*</td>\n",
       "      <td>17</td>\n",
       "      <td>1</td>\n",
       "    </tr>\n",
       "    <tr>\n",
       "      <th>3448</th>\n",
       "      <td>That is why this is so emotional a night for m...</td>\n",
       "      <td>*Charlton*</td>\n",
       "      <td>13</td>\n",
       "      <td>1</td>\n",
       "    </tr>\n",
       "    <tr>\n",
       "      <th>3449</th>\n",
       "      <td>\" It was the joy that we all had over the peri...</td>\n",
       "      <td>**</td>\n",
       "      <td>27</td>\n",
       "      <td>0</td>\n",
       "    </tr>\n",
       "    <tr>\n",
       "      <th>3450</th>\n",
       "      <td>Charlton managed Ireland for 93 matches , duri...</td>\n",
       "      <td>*Charlton*,*Ireland*</td>\n",
       "      <td>24</td>\n",
       "      <td>2</td>\n",
       "    </tr>\n",
       "    <tr>\n",
       "      <th>3451</th>\n",
       "      <td>He guided Ireland to two successive World Cup ...</td>\n",
       "      <td>*Ireland*,*World Cup*,*European*,*Germany*,*Ir...</td>\n",
       "      <td>32</td>\n",
       "      <td>7</td>\n",
       "    </tr>\n",
       "  </tbody>\n",
       "</table>\n",
       "<p>3452 rows × 4 columns</p>\n",
       "</div>"
      ],
      "text/plain": [
       "                                             input_text  \\\n",
       "0     SOCCER - JAPAN GET LUCKY WIN , CHINA IN SURPRI...   \n",
       "1                                           Nadim Ladki   \n",
       "2              AL-AIN , United Arab Emirates 1996-12-06   \n",
       "3     Japan began the defence of their Asian Cup tit...   \n",
       "4     But China saw their luck desert them in the se...   \n",
       "...                                                 ...   \n",
       "3447  It all culminated in the fact that I now have ...   \n",
       "3448  That is why this is so emotional a night for m...   \n",
       "3449  \" It was the joy that we all had over the peri...   \n",
       "3450  Charlton managed Ireland for 93 matches , duri...   \n",
       "3451  He guided Ireland to two successive World Cup ...   \n",
       "\n",
       "                                            target_text  word_count  NE_count  \n",
       "0                                       *JAPAN*,*CHINA*           9         2  \n",
       "1                                         *Nadim Ladki*           2         2  \n",
       "2                       *AL-AIN*,*United Arab Emirates*           5         4  \n",
       "3                           *Japan*,*Asian Cup*,*Syria*          24         4  \n",
       "4                                  *China*,*Uzbekistan*          23         2  \n",
       "...                                                 ...         ...       ...  \n",
       "3447                                          *Ireland*          17         1  \n",
       "3448                                         *Charlton*          13         1  \n",
       "3449                                                 **          27         0  \n",
       "3450                               *Charlton*,*Ireland*          24         2  \n",
       "3451  *Ireland*,*World Cup*,*European*,*Germany*,*Ir...          32         7  \n",
       "\n",
       "[3452 rows x 4 columns]"
      ]
     },
     "execution_count": 19,
     "metadata": {},
     "output_type": "execute_result"
    }
   ],
   "source": [
    "# CoNLL2003++ test dataset\n",
    "\n",
    "conellpp_test = parse_file_data(\"./1-NER_Data/0-raw_data/coNLL2003pp/conllpp_test.txt\", in_position=0, pos_position=3, line_len=4, sep=' ')\n",
    "conellpp_test"
   ]
  },
  {
   "cell_type": "code",
   "execution_count": 20,
   "id": "c4a0f954",
   "metadata": {},
   "outputs": [
    {
     "data": {
      "text/html": [
       "<div>\n",
       "<style scoped>\n",
       "    .dataframe tbody tr th:only-of-type {\n",
       "        vertical-align: middle;\n",
       "    }\n",
       "\n",
       "    .dataframe tbody tr th {\n",
       "        vertical-align: top;\n",
       "    }\n",
       "\n",
       "    .dataframe thead th {\n",
       "        text-align: right;\n",
       "    }\n",
       "</style>\n",
       "<table border=\"1\" class=\"dataframe\">\n",
       "  <thead>\n",
       "    <tr style=\"text-align: right;\">\n",
       "      <th></th>\n",
       "      <th>input_text</th>\n",
       "      <th>target_text</th>\n",
       "      <th>word_count</th>\n",
       "      <th>NE_count</th>\n",
       "    </tr>\n",
       "  </thead>\n",
       "  <tbody>\n",
       "    <tr>\n",
       "      <th>0</th>\n",
       "      <td>On this occasion he failed to gain the support...</td>\n",
       "      <td>*South Wales Miners ' Federation*</td>\n",
       "      <td>20</td>\n",
       "      <td>4</td>\n",
       "    </tr>\n",
       "    <tr>\n",
       "      <th>1</th>\n",
       "      <td>On both these occasions he was backed by the S...</td>\n",
       "      <td>*South Wales Miners ' Federation*</td>\n",
       "      <td>18</td>\n",
       "      <td>4</td>\n",
       "    </tr>\n",
       "    <tr>\n",
       "      <th>2</th>\n",
       "      <td>He also appeared as himself in the 1996 film \"...</td>\n",
       "      <td>*Eddie*</td>\n",
       "      <td>10</td>\n",
       "      <td>1</td>\n",
       "    </tr>\n",
       "    <tr>\n",
       "      <th>3</th>\n",
       "      <td>The Colorado Rockies were created as an expans...</td>\n",
       "      <td>*Colorado Rockies*,*Coors Field*</td>\n",
       "      <td>17</td>\n",
       "      <td>4</td>\n",
       "    </tr>\n",
       "    <tr>\n",
       "      <th>4</th>\n",
       "      <td>He kept busy recording demo tapes at his home ...</td>\n",
       "      <td>*La Valencia Hotel*,*La Jolla*</td>\n",
       "      <td>29</td>\n",
       "      <td>5</td>\n",
       "    </tr>\n",
       "    <tr>\n",
       "      <th>...</th>\n",
       "      <td>...</td>\n",
       "      <td>...</td>\n",
       "      <td>...</td>\n",
       "      <td>...</td>\n",
       "    </tr>\n",
       "    <tr>\n",
       "      <th>11592</th>\n",
       "      <td>com , Amazon .</td>\n",
       "      <td>*Amazon*</td>\n",
       "      <td>2</td>\n",
       "      <td>1</td>\n",
       "    </tr>\n",
       "    <tr>\n",
       "      <th>11593</th>\n",
       "      <td>In January 2013 , the European Food Safety Aut...</td>\n",
       "      <td>*European Food Safety Authority*,*Monsanto*</td>\n",
       "      <td>27</td>\n",
       "      <td>5</td>\n",
       "    </tr>\n",
       "    <tr>\n",
       "      <th>11594</th>\n",
       "      <td>All of the games had art true to the series , ...</td>\n",
       "      <td>*Sega*</td>\n",
       "      <td>23</td>\n",
       "      <td>1</td>\n",
       "    </tr>\n",
       "    <tr>\n",
       "      <th>11595</th>\n",
       "      <td>There was also a game made for the Game Boy ba...</td>\n",
       "      <td>*Game Boy*</td>\n",
       "      <td>20</td>\n",
       "      <td>2</td>\n",
       "    </tr>\n",
       "    <tr>\n",
       "      <th>11596</th>\n",
       "      <td>This system was widely copied in various NATO ...</td>\n",
       "      <td>*NATO*</td>\n",
       "      <td>9</td>\n",
       "      <td>1</td>\n",
       "    </tr>\n",
       "  </tbody>\n",
       "</table>\n",
       "<p>11597 rows × 4 columns</p>\n",
       "</div>"
      ],
      "text/plain": [
       "                                              input_text  \\\n",
       "0      On this occasion he failed to gain the support...   \n",
       "1      On both these occasions he was backed by the S...   \n",
       "2      He also appeared as himself in the 1996 film \"...   \n",
       "3      The Colorado Rockies were created as an expans...   \n",
       "4      He kept busy recording demo tapes at his home ...   \n",
       "...                                                  ...   \n",
       "11592                                     com , Amazon .   \n",
       "11593  In January 2013 , the European Food Safety Aut...   \n",
       "11594  All of the games had art true to the series , ...   \n",
       "11595  There was also a game made for the Game Boy ba...   \n",
       "11596  This system was widely copied in various NATO ...   \n",
       "\n",
       "                                       target_text  word_count  NE_count  \n",
       "0                *South Wales Miners ' Federation*          20         4  \n",
       "1                *South Wales Miners ' Federation*          18         4  \n",
       "2                                          *Eddie*          10         1  \n",
       "3                 *Colorado Rockies*,*Coors Field*          17         4  \n",
       "4                   *La Valencia Hotel*,*La Jolla*          29         5  \n",
       "...                                            ...         ...       ...  \n",
       "11592                                     *Amazon*           2         1  \n",
       "11593  *European Food Safety Authority*,*Monsanto*          27         5  \n",
       "11594                                       *Sega*          23         1  \n",
       "11595                                   *Game Boy*          20         2  \n",
       "11596                                       *NATO*           9         1  \n",
       "\n",
       "[11597 rows x 4 columns]"
      ]
     },
     "execution_count": 20,
     "metadata": {},
     "output_type": "execute_result"
    }
   ],
   "source": [
    "# wikineural test dataset\n",
    "\n",
    "wikineural_test = parse_file_data(\"./1-NER_Data/0-raw_data/wikineural/test.conllu.txt\", 1, 2, 3, '\\t')\n",
    "wikineural_test"
   ]
  },
  {
   "cell_type": "code",
   "execution_count": 48,
   "id": "a1427c1c",
   "metadata": {},
   "outputs": [],
   "source": [
    "# OntoNotes 5.0 test dataset refer section above"
   ]
  },
  {
   "cell_type": "markdown",
   "id": "fc193a98",
   "metadata": {},
   "source": [
    "### Adding entity as percentage of the input sentence"
   ]
  },
  {
   "cell_type": "code",
   "execution_count": 49,
   "id": "8385bef3",
   "metadata": {},
   "outputs": [],
   "source": [
    "conellpp_test = add_per_NE_sent(conellpp_test)\n",
    "wikineural_test = add_per_NE_sent(wikineural_test)\n",
    "onto_test = add_per_NE_sent(onto_test)"
   ]
  },
  {
   "cell_type": "code",
   "execution_count": 50,
   "id": "884e8b24",
   "metadata": {},
   "outputs": [
    {
     "name": "stdout",
     "output_type": "stream",
     "text": [
      "3452\n",
      "there are 0.22624565469293165 sentences in the range of 0:0.1\n"
     ]
    },
    {
     "data": {
      "image/png": "[encoded data removed]",
      "text/plain": [
       "<Figure size 432x288 with 1 Axes>"
      ]
     },
     "metadata": {
      "needs_background": "light"
     },
     "output_type": "display_data"
    }
   ],
   "source": [
    "plot_percent_NE = conellpp_test['%_NE_in_sentence'].value_counts().sort_index()\n",
    "plot_percent_NE.plot(kind='bar')\n",
    "print(len(conellpp_test))\n",
    "print(\"there are\", sum(plot_percent_NE.loc[0:0.099])/len(conellpp_test), \"sentences in the range of 0:0.1\")"
   ]
  },
  {
   "cell_type": "code",
   "execution_count": 51,
   "id": "7f328290",
   "metadata": {},
   "outputs": [
    {
     "data": {
      "text/plain": [
       "<AxesSubplot:xlabel='word_count'>"
      ]
     },
     "execution_count": 51,
     "metadata": {},
     "output_type": "execute_result"
    },
    {
     "data": {
      "image/png": "[encoded data removed]",
      "text/plain": [
       "<Figure size 432x288 with 1 Axes>"
      ]
     },
     "metadata": {
      "needs_background": "light"
     },
     "output_type": "display_data"
    }
   ],
   "source": [
    "conellpp_test.groupby(by='word_count')['input_text'].count().head(10).plot(kind='bar')"
   ]
  },
  {
   "cell_type": "code",
   "execution_count": 52,
   "id": "fc21bc7b",
   "metadata": {},
   "outputs": [
    {
     "data": {
      "text/html": [
       "<div>\n",
       "<style scoped>\n",
       "    .dataframe tbody tr th:only-of-type {\n",
       "        vertical-align: middle;\n",
       "    }\n",
       "\n",
       "    .dataframe tbody tr th {\n",
       "        vertical-align: top;\n",
       "    }\n",
       "\n",
       "    .dataframe thead th {\n",
       "        text-align: right;\n",
       "    }\n",
       "</style>\n",
       "<table border=\"1\" class=\"dataframe\">\n",
       "  <thead>\n",
       "    <tr style=\"text-align: right;\">\n",
       "      <th></th>\n",
       "      <th>input_text</th>\n",
       "      <th>target_text</th>\n",
       "      <th>word_count</th>\n",
       "      <th>NE_count</th>\n",
       "      <th>%_NE_in_sentence</th>\n",
       "    </tr>\n",
       "  </thead>\n",
       "  <tbody>\n",
       "    <tr>\n",
       "      <th>0</th>\n",
       "      <td>SOCCER - JAPAN GET LUCKY WIN , CHINA IN SURPRI...</td>\n",
       "      <td>*JAPAN*,*CHINA*</td>\n",
       "      <td>9</td>\n",
       "      <td>2</td>\n",
       "      <td>0.2</td>\n",
       "    </tr>\n",
       "    <tr>\n",
       "      <th>1</th>\n",
       "      <td>Nadim Ladki</td>\n",
       "      <td>*Nadim Ladki*</td>\n",
       "      <td>2</td>\n",
       "      <td>2</td>\n",
       "      <td>1.0</td>\n",
       "    </tr>\n",
       "    <tr>\n",
       "      <th>2</th>\n",
       "      <td>AL-AIN , United Arab Emirates 1996-12-06</td>\n",
       "      <td>*AL-AIN*,*United Arab Emirates*</td>\n",
       "      <td>5</td>\n",
       "      <td>4</td>\n",
       "      <td>0.8</td>\n",
       "    </tr>\n",
       "    <tr>\n",
       "      <th>3</th>\n",
       "      <td>Japan began the defence of their Asian Cup tit...</td>\n",
       "      <td>*Japan*,*Asian Cup*,*Syria*</td>\n",
       "      <td>24</td>\n",
       "      <td>4</td>\n",
       "      <td>0.2</td>\n",
       "    </tr>\n",
       "    <tr>\n",
       "      <th>4</th>\n",
       "      <td>But China saw their luck desert them in the se...</td>\n",
       "      <td>*China*,*Uzbekistan*</td>\n",
       "      <td>23</td>\n",
       "      <td>2</td>\n",
       "      <td>0.1</td>\n",
       "    </tr>\n",
       "    <tr>\n",
       "      <th>...</th>\n",
       "      <td>...</td>\n",
       "      <td>...</td>\n",
       "      <td>...</td>\n",
       "      <td>...</td>\n",
       "      <td>...</td>\n",
       "    </tr>\n",
       "    <tr>\n",
       "      <th>3444</th>\n",
       "      <td>It all culminated in the fact that I now have ...</td>\n",
       "      <td>*Ireland*</td>\n",
       "      <td>17</td>\n",
       "      <td>1</td>\n",
       "      <td>0.1</td>\n",
       "    </tr>\n",
       "    <tr>\n",
       "      <th>3445</th>\n",
       "      <td>That is why this is so emotional a night for m...</td>\n",
       "      <td>*Charlton*</td>\n",
       "      <td>13</td>\n",
       "      <td>1</td>\n",
       "      <td>0.1</td>\n",
       "    </tr>\n",
       "    <tr>\n",
       "      <th>3446</th>\n",
       "      <td>\" It was the joy that we all had over the peri...</td>\n",
       "      <td>**</td>\n",
       "      <td>27</td>\n",
       "      <td>0</td>\n",
       "      <td>0.0</td>\n",
       "    </tr>\n",
       "    <tr>\n",
       "      <th>3447</th>\n",
       "      <td>Charlton managed Ireland for 93 matches , duri...</td>\n",
       "      <td>*Charlton*,*Ireland*</td>\n",
       "      <td>24</td>\n",
       "      <td>2</td>\n",
       "      <td>0.1</td>\n",
       "    </tr>\n",
       "    <tr>\n",
       "      <th>3448</th>\n",
       "      <td>He guided Ireland to two successive World Cup ...</td>\n",
       "      <td>*Ireland*,*World Cup*,*European*,*Germany*,*Ir...</td>\n",
       "      <td>32</td>\n",
       "      <td>7</td>\n",
       "      <td>0.2</td>\n",
       "    </tr>\n",
       "  </tbody>\n",
       "</table>\n",
       "<p>3449 rows × 5 columns</p>\n",
       "</div>"
      ],
      "text/plain": [
       "                                             input_text  \\\n",
       "0     SOCCER - JAPAN GET LUCKY WIN , CHINA IN SURPRI...   \n",
       "1                                           Nadim Ladki   \n",
       "2              AL-AIN , United Arab Emirates 1996-12-06   \n",
       "3     Japan began the defence of their Asian Cup tit...   \n",
       "4     But China saw their luck desert them in the se...   \n",
       "...                                                 ...   \n",
       "3444  It all culminated in the fact that I now have ...   \n",
       "3445  That is why this is so emotional a night for m...   \n",
       "3446  \" It was the joy that we all had over the peri...   \n",
       "3447  Charlton managed Ireland for 93 matches , duri...   \n",
       "3448  He guided Ireland to two successive World Cup ...   \n",
       "\n",
       "                                            target_text  word_count  NE_count  \\\n",
       "0                                       *JAPAN*,*CHINA*           9         2   \n",
       "1                                         *Nadim Ladki*           2         2   \n",
       "2                       *AL-AIN*,*United Arab Emirates*           5         4   \n",
       "3                           *Japan*,*Asian Cup*,*Syria*          24         4   \n",
       "4                                  *China*,*Uzbekistan*          23         2   \n",
       "...                                                 ...         ...       ...   \n",
       "3444                                          *Ireland*          17         1   \n",
       "3445                                         *Charlton*          13         1   \n",
       "3446                                                 **          27         0   \n",
       "3447                               *Charlton*,*Ireland*          24         2   \n",
       "3448  *Ireland*,*World Cup*,*European*,*Germany*,*Ir...          32         7   \n",
       "\n",
       "      %_NE_in_sentence  \n",
       "0                  0.2  \n",
       "1                  1.0  \n",
       "2                  0.8  \n",
       "3                  0.2  \n",
       "4                  0.1  \n",
       "...                ...  \n",
       "3444               0.1  \n",
       "3445               0.1  \n",
       "3446               0.0  \n",
       "3447               0.1  \n",
       "3448               0.2  \n",
       "\n",
       "[3449 rows x 5 columns]"
      ]
     },
     "execution_count": 52,
     "metadata": {},
     "output_type": "execute_result"
    }
   ],
   "source": [
    "conellpp_test = conellpp_test.drop(conellpp_test.loc[conellpp_test['word_count'] == 0].index).reset_index(drop=True)\n",
    "conellpp_test"
   ]
  },
  {
   "cell_type": "code",
   "execution_count": null,
   "id": "d98ca99e",
   "metadata": {},
   "outputs": [],
   "source": []
  },
  {
   "cell_type": "code",
   "execution_count": 53,
   "id": "ab38697d",
   "metadata": {},
   "outputs": [
    {
     "name": "stdout",
     "output_type": "stream",
     "text": [
      "there are 0.13460377683883762 sentences in the range of 0:0.1\n"
     ]
    },
    {
     "data": {
      "image/png": "[encoded data removed]",
      "text/plain": [
       "<Figure size 432x288 with 1 Axes>"
      ]
     },
     "metadata": {
      "needs_background": "light"
     },
     "output_type": "display_data"
    }
   ],
   "source": [
    "plot_percent_NE = wikineural_test['%_NE_in_sentence'].value_counts().sort_index()\n",
    "plot_percent_NE.plot(kind='bar')\n",
    "print(\"there are\", sum(plot_percent_NE.loc[0:0.099])/len(wikineural_test), \"sentences in the range of 0:0.1\")"
   ]
  },
  {
   "cell_type": "code",
   "execution_count": 54,
   "id": "983a1fc1",
   "metadata": {},
   "outputs": [
    {
     "data": {
      "text/plain": [
       "<AxesSubplot:xlabel='word_count'>"
      ]
     },
     "execution_count": 54,
     "metadata": {},
     "output_type": "execute_result"
    },
    {
     "data": {
      "image/png": "[encoded data removed]",
      "text/plain": [
       "<Figure size 432x288 with 1 Axes>"
      ]
     },
     "metadata": {
      "needs_background": "light"
     },
     "output_type": "display_data"
    }
   ],
   "source": [
    "wikineural_test.groupby(by='word_count')['input_text'].count().head(10).plot(kind='bar')"
   ]
  },
  {
   "cell_type": "code",
   "execution_count": null,
   "id": "bf1c4cb3",
   "metadata": {},
   "outputs": [],
   "source": []
  },
  {
   "cell_type": "code",
   "execution_count": 55,
   "id": "f814ab61",
   "metadata": {},
   "outputs": [
    {
     "name": "stdout",
     "output_type": "stream",
     "text": [
      "11516\n",
      "there are 0.6265090670303581 sentences in the range of 0:0.1\n"
     ]
    },
    {
     "data": {
      "image/png": "[encoded data removed]",
      "text/plain": [
       "<Figure size 432x288 with 1 Axes>"
      ]
     },
     "metadata": {
      "needs_background": "light"
     },
     "output_type": "display_data"
    }
   ],
   "source": [
    "plot_percent_NE = onto_test['%_NE_in_sentence'].value_counts().sort_index()\n",
    "plot_percent_NE.plot(kind='bar')\n",
    "print(len(onto_val))\n",
    "print(\"there are\", sum(plot_percent_NE.loc[0:0.099])/len(onto_test), \"sentences in the range of 0:0.1\")"
   ]
  },
  {
   "cell_type": "code",
   "execution_count": 56,
   "id": "0b0ca9f9",
   "metadata": {},
   "outputs": [
    {
     "data": {
      "text/html": [
       "<div>\n",
       "<style scoped>\n",
       "    .dataframe tbody tr th:only-of-type {\n",
       "        vertical-align: middle;\n",
       "    }\n",
       "\n",
       "    .dataframe tbody tr th {\n",
       "        vertical-align: top;\n",
       "    }\n",
       "\n",
       "    .dataframe thead th {\n",
       "        text-align: right;\n",
       "    }\n",
       "</style>\n",
       "<table border=\"1\" class=\"dataframe\">\n",
       "  <thead>\n",
       "    <tr style=\"text-align: right;\">\n",
       "      <th></th>\n",
       "      <th>input_text</th>\n",
       "      <th>target_text</th>\n",
       "      <th>word_count</th>\n",
       "      <th>NE_count</th>\n",
       "      <th>%_NE_in_sentence</th>\n",
       "    </tr>\n",
       "  </thead>\n",
       "  <tbody>\n",
       "    <tr>\n",
       "      <th>128297</th>\n",
       "      <td>One of the major gang problems uh of the insan...</td>\n",
       "      <td>*Hispanic*,*Hispanic*</td>\n",
       "      <td>27</td>\n",
       "      <td>1</td>\n",
       "      <td>0.0</td>\n",
       "    </tr>\n",
       "    <tr>\n",
       "      <th>54741</th>\n",
       "      <td>mhm.</td>\n",
       "      <td>**</td>\n",
       "      <td>1</td>\n",
       "      <td>0</td>\n",
       "      <td>0.0</td>\n",
       "    </tr>\n",
       "    <tr>\n",
       "      <th>64070</th>\n",
       "      <td>Welcome back to Hardball.</td>\n",
       "      <td>*Hardball*</td>\n",
       "      <td>4</td>\n",
       "      <td>1</td>\n",
       "      <td>0.2</td>\n",
       "    </tr>\n",
       "    <tr>\n",
       "      <th>44486</th>\n",
       "      <td>At 9:45, Procter &amp; Gamble--one of the most imp...</td>\n",
       "      <td>*2 3/4*,*117*,*Procter &amp; Gamble*,*Dow*,*9:45*</td>\n",
       "      <td>18</td>\n",
       "      <td>3</td>\n",
       "      <td>0.2</td>\n",
       "    </tr>\n",
       "    <tr>\n",
       "      <th>104889</th>\n",
       "      <td>Back then, it cost Japanese manufacturers abou...</td>\n",
       "      <td>*80*,*Japanese*</td>\n",
       "      <td>13</td>\n",
       "      <td>2</td>\n",
       "      <td>0.2</td>\n",
       "    </tr>\n",
       "    <tr>\n",
       "      <th>...</th>\n",
       "      <td>...</td>\n",
       "      <td>...</td>\n",
       "      <td>...</td>\n",
       "      <td>...</td>\n",
       "      <td>...</td>\n",
       "    </tr>\n",
       "    <tr>\n",
       "      <th>60999</th>\n",
       "      <td>Investment-grade corporate bonds were up about...</td>\n",
       "      <td>*3/4*</td>\n",
       "      <td>10</td>\n",
       "      <td>1</td>\n",
       "      <td>0.1</td>\n",
       "    </tr>\n",
       "    <tr>\n",
       "      <th>12552</th>\n",
       "      <td>--It can provide Hong Kong with more business ...</td>\n",
       "      <td>*Hong Kong*</td>\n",
       "      <td>9</td>\n",
       "      <td>1</td>\n",
       "      <td>0.1</td>\n",
       "    </tr>\n",
       "    <tr>\n",
       "      <th>115515</th>\n",
       "      <td>Out of the operating foreign-invested enterpri...</td>\n",
       "      <td>*600,000*,*Liaoning*</td>\n",
       "      <td>32</td>\n",
       "      <td>2</td>\n",
       "      <td>0.1</td>\n",
       "    </tr>\n",
       "    <tr>\n",
       "      <th>81111</th>\n",
       "      <td>The ground shakes underneath her.</td>\n",
       "      <td>**</td>\n",
       "      <td>5</td>\n",
       "      <td>0</td>\n",
       "      <td>0.0</td>\n",
       "    </tr>\n",
       "    <tr>\n",
       "      <th>50959</th>\n",
       "      <td>Neither side seemed particularly pleased by th...</td>\n",
       "      <td>**</td>\n",
       "      <td>21</td>\n",
       "      <td>0</td>\n",
       "      <td>0.0</td>\n",
       "    </tr>\n",
       "  </tbody>\n",
       "</table>\n",
       "<p>11528 rows × 5 columns</p>\n",
       "</div>"
      ],
      "text/plain": [
       "                                               input_text  \\\n",
       "128297  One of the major gang problems uh of the insan...   \n",
       "54741                                                mhm.   \n",
       "64070                           Welcome back to Hardball.   \n",
       "44486   At 9:45, Procter & Gamble--one of the most imp...   \n",
       "104889  Back then, it cost Japanese manufacturers abou...   \n",
       "...                                                   ...   \n",
       "60999   Investment-grade corporate bonds were up about...   \n",
       "12552   --It can provide Hong Kong with more business ...   \n",
       "115515  Out of the operating foreign-invested enterpri...   \n",
       "81111                   The ground shakes underneath her.   \n",
       "50959   Neither side seemed particularly pleased by th...   \n",
       "\n",
       "                                          target_text  word_count  NE_count  \\\n",
       "128297                          *Hispanic*,*Hispanic*          27         1   \n",
       "54741                                              **           1         0   \n",
       "64070                                      *Hardball*           4         1   \n",
       "44486   *2 3/4*,*117*,*Procter & Gamble*,*Dow*,*9:45*          18         3   \n",
       "104889                                *80*,*Japanese*          13         2   \n",
       "...                                               ...         ...       ...   \n",
       "60999                                           *3/4*          10         1   \n",
       "12552                                     *Hong Kong*           9         1   \n",
       "115515                           *600,000*,*Liaoning*          32         2   \n",
       "81111                                              **           5         0   \n",
       "50959                                              **          21         0   \n",
       "\n",
       "        %_NE_in_sentence  \n",
       "128297               0.0  \n",
       "54741                0.0  \n",
       "64070                0.2  \n",
       "44486                0.2  \n",
       "104889               0.2  \n",
       "...                  ...  \n",
       "60999                0.1  \n",
       "12552                0.1  \n",
       "115515               0.1  \n",
       "81111                0.0  \n",
       "50959                0.0  \n",
       "\n",
       "[11528 rows x 5 columns]"
      ]
     },
     "execution_count": 56,
     "metadata": {},
     "output_type": "execute_result"
    }
   ],
   "source": [
    "# dropping half of the rows with zero entities randomly\n",
    "\n",
    "np.random.seed(10)\n",
    "zero_entities = onto_test.loc[onto_test['%_NE_in_sentence']==0].index\n",
    "remove_n = round(len(zero_entities)*2/3)\n",
    "\n",
    "drop_indices = np.random.choice(zero_entities, remove_n, replace=False)\n",
    "onto_test.drop(drop_indices, inplace=True)\n",
    "onto_test"
   ]
  },
  {
   "cell_type": "code",
   "execution_count": 57,
   "id": "7b42f461",
   "metadata": {},
   "outputs": [
    {
     "name": "stdout",
     "output_type": "stream",
     "text": [
      "11528\n",
      "there are 0.35860513532269256 sentences in the range of 0:0.1\n",
      "4134\n"
     ]
    },
    {
     "data": {
      "image/png": "[encoded data removed]",
      "text/plain": [
       "<Figure size 432x288 with 1 Axes>"
      ]
     },
     "metadata": {
      "needs_background": "light"
     },
     "output_type": "display_data"
    }
   ],
   "source": [
    "plot_percent_NE = onto_test['%_NE_in_sentence'].value_counts().sort_index()\n",
    "plot_percent_NE.plot(kind='bar')\n",
    "print(len(onto_test))\n",
    "print(\"there are\", sum(plot_percent_NE.loc[0:0.01])/len(onto_test), \"sentences in the range of 0:0.1\")\n",
    "print(sum(plot_percent_NE.loc[0:0.01]))"
   ]
  },
  {
   "cell_type": "code",
   "execution_count": 58,
   "id": "519747d6",
   "metadata": {},
   "outputs": [
    {
     "data": {
      "text/plain": [
       "<AxesSubplot:xlabel='word_count'>"
      ]
     },
     "execution_count": 58,
     "metadata": {},
     "output_type": "execute_result"
    },
    {
     "data": {
      "image/png": "[encoded data removed]",
      "text/plain": [
       "<Figure size 432x288 with 1 Axes>"
      ]
     },
     "metadata": {
      "needs_background": "light"
     },
     "output_type": "display_data"
    }
   ],
   "source": [
    "onto_test.groupby(by='word_count')['input_text'].count().head(10).plot(kind='bar')"
   ]
  },
  {
   "cell_type": "code",
   "execution_count": null,
   "id": "0d49fec8",
   "metadata": {},
   "outputs": [],
   "source": []
  },
  {
   "cell_type": "markdown",
   "id": "fe58c641",
   "metadata": {},
   "source": [
    "### Combining the datasets"
   ]
  },
  {
   "cell_type": "code",
   "execution_count": 59,
   "id": "2f05e74e",
   "metadata": {},
   "outputs": [],
   "source": [
    "# test_combined_df = pd.concat([conellpp_test, wikineural_test, onto_test], ignore_index=True).drop_duplicates().reset_index(drop=True)\n",
    "# test_combined_df"
   ]
  },
  {
   "cell_type": "markdown",
   "id": "612f6263",
   "metadata": {},
   "source": [
    "### creating a lowercase and uppercase versions of the test data"
   ]
  },
  {
   "cell_type": "code",
   "execution_count": 60,
   "id": "a333fd9e",
   "metadata": {},
   "outputs": [],
   "source": [
    "# lower_test = lower_case_df(test_combined_df)\n",
    "# lower_test"
   ]
  },
  {
   "cell_type": "code",
   "execution_count": 61,
   "id": "75b9ad8c",
   "metadata": {},
   "outputs": [],
   "source": [
    "# upper_test = upper_case_df(test_combined_df)\n",
    "# lower_upper_test = pd.concat([lower_test, upper_test])\n",
    "# lower_upper_test = lower_upper_test.sample(frac=1, random_state=1).reset_index(drop=True)\n",
    "# lower_upper_test"
   ]
  },
  {
   "cell_type": "markdown",
   "id": "b5a9c391",
   "metadata": {},
   "source": [
    "### Saving the data as csv"
   ]
  },
  {
   "cell_type": "code",
   "execution_count": 62,
   "id": "57fb2e8c",
   "metadata": {},
   "outputs": [],
   "source": [
    "# test_combined_df.to_csv('./1-NER_Data/1-csv_format/test/test_data.csv', index = False)\n",
    "\n",
    "conellpp_test.to_csv('./1-NER_Data/1-csv_format/test/conell_test_data.csv', index = False)\n",
    "wikineural_test.to_csv('./1-NER_Data/1-csv_format/test/wiki_neural_test_data.csv', index = False)\n",
    "onto_test.to_csv('./1-NER_Data/1-csv_format/test/onto_test_data.csv', index = False)\n",
    "\n",
    "# lower_test.to_csv('./1-NER_Data/1-csv_format/test/lower_test_data.csv', index = False)\n",
    "# lower_upper_test.to_csv('./1-NER_Data/1-csv_format/test/low_up_test_data.csv', index = False)"
   ]
  },
  {
   "cell_type": "code",
   "execution_count": null,
   "id": "188f7f00",
   "metadata": {},
   "outputs": [],
   "source": []
  }
 ],
 "metadata": {
  "kernelspec": {
   "display_name": "Python 3",
   "language": "python",
   "name": "python3"
  },
  "language_info": {
   "codemirror_mode": {
    "name": "ipython",
    "version": 3
   },
   "file_extension": ".py",
   "mimetype": "text/x-python",
   "name": "python",
   "nbconvert_exporter": "python",
   "pygments_lexer": "ipython3",
   "version": "3.7.10"
  }
 },
 "nbformat": 4,
 "nbformat_minor": 5
}
