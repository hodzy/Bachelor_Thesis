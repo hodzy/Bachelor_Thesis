{
 "cells": [
  {
   "cell_type": "code",
   "execution_count": 1,
   "id": "b4383246",
   "metadata": {},
   "outputs": [
    {
     "name": "stderr",
     "output_type": "stream",
     "text": [
      "\u001b[34m\u001b[1mwandb\u001b[0m: Currently logged in as: \u001b[33mhodz199\u001b[0m. Use \u001b[1m`wandb login --relogin`\u001b[0m to force relogin\n"
     ]
    },
    {
     "name": "stdout",
     "output_type": "stream",
     "text": [
      "env: WANDB_PROJECT=Relation_Lining\n"
     ]
    }
   ],
   "source": [
    "# !pip install wandb\n",
    "# !pip install transformers\n",
    "# !pip install sentencepiece\n",
    "import os\n",
    "\n",
    "# os.environ[\"CUDA_VISIBLE_DEVICES\"] = \"0,2\" \n",
    "import pandas as pd\n",
    "import numpy as np\n",
    "import re\n",
    "import torch\n",
    "import torchvision\n",
    "from torch.utils.data import Dataset, DataLoader\n",
    "import math\n",
    "import torch.optim as optim\n",
    "import wandb\n",
    "import requests\n",
    "import time\n",
    "\n",
    "wandb.login()\n",
    "%env WANDB_PROJECT= Relation_Lining\n",
    "# os.environ[\"WANDB_DISABLED\"] = \"true\"\n",
    "\n",
    "\n",
    "\n",
    "device = torch.device(\"cuda\") if torch.cuda.is_available() else torch.device(\"cpu\")\n",
    "# device = torch.device(\"cuda:0\") if torch.cuda.is_available() else torch.device(\"cpu\")\n",
    "# device = torch.device('cuda:3')"
   ]
  },
  {
   "cell_type": "code",
   "execution_count": 2,
   "id": "07fbfbdc",
   "metadata": {},
   "outputs": [],
   "source": [
    "def get_relation_label(rel_id):\n",
    "    label = ''\n",
    "    API_ENDPOINT = \"https://www.wikidata.org/w/api.php\"\n",
    "    params = {\n",
    "        'action': 'wbgetentities',\n",
    "        'format': 'json',\n",
    "        'languages': 'en',\n",
    "        'props': 'labels',\n",
    "        'ids': ''\n",
    "    }\n",
    "      \n",
    "    params['ids'] = str(rel_id)\n",
    "\n",
    "    try:\n",
    "        response = requests.get(API_ENDPOINT, params = params).json()['entities']\n",
    "        label = response[str(rel_id)]['labels']['en']['value']\n",
    "    except:\n",
    "        return label\n",
    "    return label"
   ]
  },
  {
   "cell_type": "code",
   "execution_count": 3,
   "id": "e6ef5c29",
   "metadata": {},
   "outputs": [],
   "source": [
    "from multiprocessing import Pool\n",
    "from functools import partial\n",
    "import inspect\n",
    "import time\n",
    "import os\n",
    "import requests\n",
    "\n",
    "def parallal_task(func, iterable, *params): \n",
    "    with open(f'./tmp_func.py', 'w') as file:\n",
    "        file.write(\"import requests \\n\")\n",
    "        file.write(inspect.getsource(func).replace(func.__name__, 'task'))\n",
    "\n",
    "    from tmp_func import task\n",
    "    pool = Pool(processes=15)\n",
    "    res = pool.map(task, iterable)\n",
    "    pool.close()\n",
    "    \n",
    "    os.remove('./tmp_func.py')\n",
    "    return res"
   ]
  },
  {
   "cell_type": "code",
   "execution_count": 4,
   "id": "abda791d",
   "metadata": {},
   "outputs": [],
   "source": [
    "# Create torch dataset\n",
    "# https://towardsdatascience.com/fine-tuning-pretrained-nlp-models-with-huggingfaces-trainer-6326a4456e7b\n",
    "\n",
    "class Dataset(torch.utils.data.Dataset):\n",
    "    def __init__(self, encodings, labels=None):\n",
    "        self.encodings = encodings\n",
    "        self.labels = labels\n",
    "\n",
    "    def __getitem__(self, idx):\n",
    "        item = {key: torch.tensor(val[idx]) for key, val in self.encodings.items()}\n",
    "        if self.labels:\n",
    "            item[\"labels\"] = torch.tensor(self.labels['input_ids'][idx])\n",
    "        return item\n",
    "\n",
    "    def __len__(self):\n",
    "        return len(self.encodings[\"input_ids\"])"
   ]
  },
  {
   "cell_type": "code",
   "execution_count": 5,
   "id": "55a20644",
   "metadata": {},
   "outputs": [],
   "source": [
    "def preprocess_combined_relations(row):\n",
    "    row['combined relations'] = row['combined relations'].replace(\"'\", '')\n",
    "    row['combined relations'] = row['combined relations'].replace(\"[\", '[ ')\n",
    "    row['combined relations'] = row['combined relations'].replace(\"]\", ' ]')\n",
    "    row['combined relations'] = row['combined relations'].replace(\",\", ' ,')\n",
    "    \n",
    "    return row['combined relations']"
   ]
  },
  {
   "cell_type": "code",
   "execution_count": 6,
   "id": "f5f09daf",
   "metadata": {},
   "outputs": [],
   "source": [
    "def define_input_text(row):\n",
    "    return '* ' + row[\"question\"] + ' *,* ' + row[\"entity label\"] + ' *,* ' + row[\"combined relations\"] + ' *'"
   ]
  },
  {
   "cell_type": "code",
   "execution_count": 7,
   "id": "9ddcdf55",
   "metadata": {},
   "outputs": [],
   "source": [
    "max_source_length = 1700\n",
    "max_target_length = 128"
   ]
  },
  {
   "cell_type": "code",
   "execution_count": 8,
   "id": "904d9217",
   "metadata": {},
   "outputs": [],
   "source": [
    "from transformers import T5TokenizerFast, T5ForConditionalGeneration \n",
    "from transformers import EarlyStoppingCallback\n",
    "\n",
    "tokenizer = T5TokenizerFast.from_pretrained(\"t5-base\")\n",
    "model = T5ForConditionalGeneration.from_pretrained(\"t5-base\").to(device)"
   ]
  },
  {
   "cell_type": "code",
   "execution_count": null,
   "id": "4abfad74",
   "metadata": {},
   "outputs": [],
   "source": []
  },
  {
   "cell_type": "markdown",
   "id": "44eac48e",
   "metadata": {},
   "source": [
    "## Training Data"
   ]
  },
  {
   "cell_type": "code",
   "execution_count": 9,
   "id": "02d38912",
   "metadata": {},
   "outputs": [
    {
     "name": "stdout",
     "output_type": "stream",
     "text": [
      "<class 'pandas.core.frame.DataFrame'>\n",
      "RangeIndex: 30884 entries, 0 to 30883\n",
      "Data columns (total 10 columns):\n",
      " #   Column                 Non-Null Count  Dtype \n",
      "---  ------                 --------------  ----- \n",
      " 0   question               30884 non-null  object\n",
      " 1   entity label           30884 non-null  object\n",
      " 2   relation labels        30882 non-null  object\n",
      " 3   target relation id_x   30884 non-null  object\n",
      " 4   target relation label  30748 non-null  object\n",
      " 5   qid                    30594 non-null  object\n",
      " 6   target relation id_y   30594 non-null  object\n",
      " 7   relation_obj_labels    20800 non-null  object\n",
      " 8   relation_obj_ids       20800 non-null  object\n",
      " 9   combined relations     30884 non-null  object\n",
      "dtypes: object(10)\n",
      "memory usage: 2.4+ MB\n"
     ]
    }
   ],
   "source": [
    "training_data = pd.read_csv('./3-Relation_Linking_Data/2-final_input/training_data.csv')\n",
    "# training_data = training_data.dropna()\n",
    "training_data.info()"
   ]
  },
  {
   "cell_type": "code",
   "execution_count": 10,
   "id": "95de751d",
   "metadata": {},
   "outputs": [
    {
     "data": {
      "text/html": [
       "<div>\n",
       "<style scoped>\n",
       "    .dataframe tbody tr th:only-of-type {\n",
       "        vertical-align: middle;\n",
       "    }\n",
       "\n",
       "    .dataframe tbody tr th {\n",
       "        vertical-align: top;\n",
       "    }\n",
       "\n",
       "    .dataframe thead th {\n",
       "        text-align: right;\n",
       "    }\n",
       "</style>\n",
       "<table border=\"1\" class=\"dataframe\">\n",
       "  <thead>\n",
       "    <tr style=\"text-align: right;\">\n",
       "      <th></th>\n",
       "      <th>question</th>\n",
       "      <th>entity label</th>\n",
       "      <th>relation labels</th>\n",
       "      <th>target relation id_x</th>\n",
       "      <th>target relation label</th>\n",
       "      <th>qid</th>\n",
       "      <th>target relation id_y</th>\n",
       "      <th>relation_obj_labels</th>\n",
       "      <th>relation_obj_ids</th>\n",
       "      <th>combined relations</th>\n",
       "    </tr>\n",
       "  </thead>\n",
       "  <tbody>\n",
       "    <tr>\n",
       "      <th>0</th>\n",
       "      <td>what movie is produced by warner bros.</td>\n",
       "      <td>warner bros.</td>\n",
       "      <td>Commons category ,  instance of ,  founded by...</td>\n",
       "      <td>P272</td>\n",
       "      <td>production company</td>\n",
       "      <td>Q126399</td>\n",
       "      <td>P272</td>\n",
       "      <td>employer, owned by, record label, producer, pr...</td>\n",
       "      <td>P108, P127, P264, P162, P272, P112, P750, P749...</td>\n",
       "      <td>[ Commons category , employer , instance of , ...</td>\n",
       "    </tr>\n",
       "    <tr>\n",
       "      <th>1</th>\n",
       "      <td>who is a musician born in detroit</td>\n",
       "      <td>detroit</td>\n",
       "      <td>topics main category ,  continent ,  country ...</td>\n",
       "      <td>P19</td>\n",
       "      <td>place of birth</td>\n",
       "      <td>Q12439</td>\n",
       "      <td>P19</td>\n",
       "      <td>place of birth, home port, location, country o...</td>\n",
       "      <td>P19, P504, P276, P495, P483, P551, P291, P527,...</td>\n",
       "      <td>[ topics main category , place of birth , cont...</td>\n",
       "    </tr>\n",
       "    <tr>\n",
       "      <th>2</th>\n",
       "      <td>who produced the film rough house rosie</td>\n",
       "      <td>rough house rosie</td>\n",
       "      <td>IMDb ID ,  Commons category ,  instance of , ...</td>\n",
       "      <td>P162</td>\n",
       "      <td>producer</td>\n",
       "      <td>Q7370831</td>\n",
       "      <td>P162</td>\n",
       "      <td>NaN</td>\n",
       "      <td>NaN</td>\n",
       "      <td>[ IMDb ID , Commons category , instance of , d...</td>\n",
       "    </tr>\n",
       "    <tr>\n",
       "      <th>3</th>\n",
       "      <td>what is the language in which mera shikar was ...</td>\n",
       "      <td>mera shikar</td>\n",
       "      <td>IMDb ID ,  instance of ,  director ,  cast me...</td>\n",
       "      <td>P364</td>\n",
       "      <td>original language of film or TV show</td>\n",
       "      <td>Q6817891</td>\n",
       "      <td>P364</td>\n",
       "      <td>NaN</td>\n",
       "      <td>NaN</td>\n",
       "      <td>[ IMDb ID , instance of , director , cast memb...</td>\n",
       "    </tr>\n",
       "    <tr>\n",
       "      <th>4</th>\n",
       "      <td>Whats the name of a battle that happened in ch...</td>\n",
       "      <td>chicago</td>\n",
       "      <td>Dewey Decimal Classification ,  WOEID ,  topi...</td>\n",
       "      <td>P276</td>\n",
       "      <td>location</td>\n",
       "      <td>Q1297</td>\n",
       "      <td>P276</td>\n",
       "      <td>place of birth, residence, place of publicatio...</td>\n",
       "      <td>P19, P551, P291, P276, P180, P190, P195, P559,...</td>\n",
       "      <td>[ Dewey Decimal Classification , place of birt...</td>\n",
       "    </tr>\n",
       "    <tr>\n",
       "      <th>...</th>\n",
       "      <td>...</td>\n",
       "      <td>...</td>\n",
       "      <td>...</td>\n",
       "      <td>...</td>\n",
       "      <td>...</td>\n",
       "      <td>...</td>\n",
       "      <td>...</td>\n",
       "      <td>...</td>\n",
       "      <td>...</td>\n",
       "      <td>...</td>\n",
       "    </tr>\n",
       "    <tr>\n",
       "      <th>30879</th>\n",
       "      <td>What is the nationality of anthony bailey</td>\n",
       "      <td>anthony bailey</td>\n",
       "      <td>instance of ,  sex or gender ,  given name , ...</td>\n",
       "      <td>P27</td>\n",
       "      <td>country of citizenship</td>\n",
       "      <td>Q16093542</td>\n",
       "      <td>P27</td>\n",
       "      <td>NaN</td>\n",
       "      <td>NaN</td>\n",
       "      <td>[ instance of , sex or gender , given name , o...</td>\n",
       "    </tr>\n",
       "    <tr>\n",
       "      <th>30880</th>\n",
       "      <td>who was homi k. bhabha especially influenced by</td>\n",
       "      <td>homi k. bhabha</td>\n",
       "      <td>VIAF ID ,  ISNI ,  Library of Congress author...</td>\n",
       "      <td>P737</td>\n",
       "      <td>influenced by</td>\n",
       "      <td>Q325741</td>\n",
       "      <td>P737</td>\n",
       "      <td>spouse, author</td>\n",
       "      <td>P26, P50</td>\n",
       "      <td>[ VIAF ID , spouse , ISNI , author , Library o...</td>\n",
       "    </tr>\n",
       "    <tr>\n",
       "      <th>30881</th>\n",
       "      <td>which artist composes video game music</td>\n",
       "      <td>video game music</td>\n",
       "      <td>topics main category ,  Freebase ID ,  Common...</td>\n",
       "      <td>P136</td>\n",
       "      <td>genre</td>\n",
       "      <td>Q1062702</td>\n",
       "      <td>P136</td>\n",
       "      <td>field of work, instance of, genre, subclass of...</td>\n",
       "      <td>P101, P31, P136, P279, P921, P1382, P1889, P30...</td>\n",
       "      <td>[ topics main category , field of work , Freeb...</td>\n",
       "    </tr>\n",
       "    <tr>\n",
       "      <th>30882</th>\n",
       "      <td>What gender is gastón filgueira</td>\n",
       "      <td>gastón filgueira</td>\n",
       "      <td>member of sports team ,  occupation ,  date o...</td>\n",
       "      <td>P21</td>\n",
       "      <td>sex or gender</td>\n",
       "      <td>Q926822</td>\n",
       "      <td>P21</td>\n",
       "      <td>NaN</td>\n",
       "      <td>NaN</td>\n",
       "      <td>[ member of sports team , occupation , date of...</td>\n",
       "    </tr>\n",
       "    <tr>\n",
       "      <th>30883</th>\n",
       "      <td>what player played a defender?</td>\n",
       "      <td>defender</td>\n",
       "      <td>Freebase ID ,  Commons category ,  topics mai...</td>\n",
       "      <td>P413</td>\n",
       "      <td>position played on team / speciality</td>\n",
       "      <td>Q336286</td>\n",
       "      <td>P413</td>\n",
       "      <td>position played on team / speciality, subclass...</td>\n",
       "      <td>P413, P279, P301, P39, P106, P86, P5137, P2868...</td>\n",
       "      <td>[ Freebase ID , position played on team / spec...</td>\n",
       "    </tr>\n",
       "  </tbody>\n",
       "</table>\n",
       "<p>30884 rows × 10 columns</p>\n",
       "</div>"
      ],
      "text/plain": [
       "                                                question       entity label  \\\n",
       "0                 what movie is produced by warner bros.       warner bros.   \n",
       "1                      who is a musician born in detroit            detroit   \n",
       "2                who produced the film rough house rosie  rough house rosie   \n",
       "3      what is the language in which mera shikar was ...        mera shikar   \n",
       "4      Whats the name of a battle that happened in ch...            chicago   \n",
       "...                                                  ...                ...   \n",
       "30879          What is the nationality of anthony bailey     anthony bailey   \n",
       "30880    who was homi k. bhabha especially influenced by     homi k. bhabha   \n",
       "30881             which artist composes video game music   video game music   \n",
       "30882                    What gender is gastón filgueira   gastón filgueira   \n",
       "30883                     what player played a defender?           defender   \n",
       "\n",
       "                                         relation labels target relation id_x  \\\n",
       "0       Commons category ,  instance of ,  founded by...                 P272   \n",
       "1       topics main category ,  continent ,  country ...                  P19   \n",
       "2       IMDb ID ,  Commons category ,  instance of , ...                 P162   \n",
       "3       IMDb ID ,  instance of ,  director ,  cast me...                 P364   \n",
       "4       Dewey Decimal Classification ,  WOEID ,  topi...                 P276   \n",
       "...                                                  ...                  ...   \n",
       "30879   instance of ,  sex or gender ,  given name , ...                  P27   \n",
       "30880   VIAF ID ,  ISNI ,  Library of Congress author...                 P737   \n",
       "30881   topics main category ,  Freebase ID ,  Common...                 P136   \n",
       "30882   member of sports team ,  occupation ,  date o...                  P21   \n",
       "30883   Freebase ID ,  Commons category ,  topics mai...                 P413   \n",
       "\n",
       "                      target relation label        qid target relation id_y  \\\n",
       "0                        production company    Q126399                 P272   \n",
       "1                            place of birth     Q12439                  P19   \n",
       "2                                  producer   Q7370831                 P162   \n",
       "3      original language of film or TV show   Q6817891                 P364   \n",
       "4                                  location      Q1297                 P276   \n",
       "...                                     ...        ...                  ...   \n",
       "30879                country of citizenship  Q16093542                  P27   \n",
       "30880                         influenced by    Q325741                 P737   \n",
       "30881                                 genre   Q1062702                 P136   \n",
       "30882                         sex or gender    Q926822                  P21   \n",
       "30883  position played on team / speciality    Q336286                 P413   \n",
       "\n",
       "                                     relation_obj_labels  \\\n",
       "0      employer, owned by, record label, producer, pr...   \n",
       "1      place of birth, home port, location, country o...   \n",
       "2                                                    NaN   \n",
       "3                                                    NaN   \n",
       "4      place of birth, residence, place of publicatio...   \n",
       "...                                                  ...   \n",
       "30879                                                NaN   \n",
       "30880                                     spouse, author   \n",
       "30881  field of work, instance of, genre, subclass of...   \n",
       "30882                                                NaN   \n",
       "30883  position played on team / speciality, subclass...   \n",
       "\n",
       "                                        relation_obj_ids  \\\n",
       "0      P108, P127, P264, P162, P272, P112, P750, P749...   \n",
       "1      P19, P504, P276, P495, P483, P551, P291, P527,...   \n",
       "2                                                    NaN   \n",
       "3                                                    NaN   \n",
       "4      P19, P551, P291, P276, P180, P190, P195, P559,...   \n",
       "...                                                  ...   \n",
       "30879                                                NaN   \n",
       "30880                                           P26, P50   \n",
       "30881  P101, P31, P136, P279, P921, P1382, P1889, P30...   \n",
       "30882                                                NaN   \n",
       "30883  P413, P279, P301, P39, P106, P86, P5137, P2868...   \n",
       "\n",
       "                                      combined relations  \n",
       "0      [ Commons category , employer , instance of , ...  \n",
       "1      [ topics main category , place of birth , cont...  \n",
       "2      [ IMDb ID , Commons category , instance of , d...  \n",
       "3      [ IMDb ID , instance of , director , cast memb...  \n",
       "4      [ Dewey Decimal Classification , place of birt...  \n",
       "...                                                  ...  \n",
       "30879  [ instance of , sex or gender , given name , o...  \n",
       "30880  [ VIAF ID , spouse , ISNI , author , Library o...  \n",
       "30881  [ topics main category , field of work , Freeb...  \n",
       "30882  [ member of sports team , occupation , date of...  \n",
       "30883  [ Freebase ID , position played on team / spec...  \n",
       "\n",
       "[30884 rows x 10 columns]"
      ]
     },
     "execution_count": 10,
     "metadata": {},
     "output_type": "execute_result"
    }
   ],
   "source": [
    "training_data['combined relations'] = training_data.apply(preprocess_combined_relations, axis =1)\n",
    "training_data"
   ]
  },
  {
   "cell_type": "code",
   "execution_count": 11,
   "id": "f9c4716c",
   "metadata": {},
   "outputs": [],
   "source": [
    "training_data['input_text'] = training_data.apply(define_input_text, axis=1)\n",
    "# training_data.head()"
   ]
  },
  {
   "cell_type": "code",
   "execution_count": 12,
   "id": "af94b78c",
   "metadata": {},
   "outputs": [
    {
     "data": {
      "text/plain": [
       "0        * what movie is produced by warner bros. *,* w...\n",
       "1        * who is a musician born in detroit *,* detroi...\n",
       "2        * who produced the film rough house rosie *,* ...\n",
       "3        * what is the language in which mera shikar wa...\n",
       "4        * Whats the name of a battle that happened in ...\n",
       "                               ...                        \n",
       "30879    * What is the nationality of anthony bailey *,...\n",
       "30880    * who was homi k. bhabha especially influenced...\n",
       "30881    * which artist composes video game music *,* v...\n",
       "30882    * What gender is gastón filgueira *,* gastón f...\n",
       "30883    * what player played a defender? *,* defender ...\n",
       "Name: input_text, Length: 30884, dtype: object"
      ]
     },
     "execution_count": 12,
     "metadata": {},
     "output_type": "execute_result"
    }
   ],
   "source": [
    "training_data['input_text']"
   ]
  },
  {
   "cell_type": "code",
   "execution_count": 13,
   "id": "1211703d",
   "metadata": {},
   "outputs": [
    {
     "data": {
      "image/png": "[encoded data removed]",
      "text/plain": [
       "<Figure size 432x288 with 1 Axes>"
      ]
     },
     "metadata": {
      "needs_background": "light"
     },
     "output_type": "display_data"
    }
   ],
   "source": [
    "import matplotlib.pyplot as plt\n",
    "plt.hist(training_data['input_text'].str.len(), bins = 20)\n",
    "plt.show()"
   ]
  },
  {
   "cell_type": "code",
   "execution_count": 14,
   "id": "3236f3c1",
   "metadata": {},
   "outputs": [
    {
     "data": {
      "text/plain": [
       "7.8357725683201656"
      ]
     },
     "execution_count": 14,
     "metadata": {},
     "output_type": "execute_result"
    }
   ],
   "source": [
    "len(training_data['input_text'][training_data['input_text'].str.len() > 2048])*100/len(training_data['input_text'])"
   ]
  },
  {
   "cell_type": "code",
   "execution_count": 15,
   "id": "bc42142f",
   "metadata": {},
   "outputs": [
    {
     "data": {
      "text/plain": [
       "88.269006605362"
      ]
     },
     "execution_count": 15,
     "metadata": {},
     "output_type": "execute_result"
    }
   ],
   "source": [
    "len(training_data[training_data['input_text'].str.len() <= 1700])*100/len(training_data)"
   ]
  },
  {
   "cell_type": "code",
   "execution_count": 16,
   "id": "dd136d17",
   "metadata": {},
   "outputs": [],
   "source": [
    "# training_data = training_data[training_data['input_text'].str.len() <= 4048]\n",
    "# training_data = training_data.sample(frac=1, random_state=1)\n",
    "# training_data"
   ]
  },
  {
   "cell_type": "code",
   "execution_count": 17,
   "id": "074f476b",
   "metadata": {},
   "outputs": [
    {
     "data": {
      "text/plain": [
       "'* what movie is produced by warner bros. *,* warner bros. *,* [ Commons category , employer , instance of , owned by , founded by , record label , parent organization , producer , official website , production company , MusicBrainz label ID , Freebase ID , distributed by , headquarters location , topics main category , has subsidiary , follows , Wikidata property example , British Museum person or institution ID , owner of , place name sign , location , image , operator , VIAF ID , winner , inception , followed by , Twitter username , template has topic , IMDb ID , named after , Box Office Mojo studio ID , category combines topics , location of formation , participant , logo image , publisher , industry , plaintiff , New York Times topic ID , copyright holder , Facebook ID , discoverer or inventor , Legal Entity Identifier , creator , Quora topic ID , said to be the same as , openMLOL author ID , distribution format , Internet Broadway Database person ID , main subject , product or material produced , represents , award received , nominated for , \"categorys main topic\" , chief executive officer , occupant , Encyclopædia Britannica Online ID , has part(s , BabelNet ID , filming location , PermID , country , Encyclopædia Universalis ID , Cooper-Hewitt Person ID , topics main template , owner of , Academy Awards Database nominee ID , NKCR AUT ID , Library of Congress authority ID , member of , Gran Enciclopèdia Catalana ID , MPPDA Digital Archive organisation ID , Instagram username , Pinterest username , has subsidiary , WorldCat Identities ID , ISO 9362 SWIFT/BIC code , named after , Crunchbase organization ID , different from , Philadelphia Museum of Art entity ID , Google Arts & Culture entity ID , Den Store Danske ID , office held by head of the organization , said to be the same as , ISNI , PLWABN ID , Canadiana Name Authority ID , Libraries Australia ID , NSK ID , FAST ID , National Library of Israel J9U ID , Babelio author ID , NUKAT ID , NLP ID (old , Zhihu topic ID , Bing entity ID , Discogs label ID , Tumblr username , SNESmusic.org company ID , SNK ID , Golden ID , LinkedIn company ID , TV Tropes identifier , All the Tropes identifier , OpenCorporates ID , social media followers , Open Library ID , Open Library subject ID , NE.se ID , DPLA subject term , Store norske leksikon ID , Alexander Turnbull Library ID , Hrvatska enciklopedija ID , Larousse ID , Know Your Meme ID , official shop URL , Twitter list ID , FactGrid item ID , VK ID ] *'"
      ]
     },
     "execution_count": 17,
     "metadata": {},
     "output_type": "execute_result"
    }
   ],
   "source": [
    "input_text = list(training_data['input_text'])\n",
    "input_text[0]"
   ]
  },
  {
   "cell_type": "code",
   "execution_count": 18,
   "id": "19ac1fee",
   "metadata": {},
   "outputs": [
    {
     "data": {
      "text/plain": [
       "'production company'"
      ]
     },
     "execution_count": 18,
     "metadata": {},
     "output_type": "execute_result"
    }
   ],
   "source": [
    "target_text = list(training_data['target relation label'].astype(str))\n",
    "target_text[0]"
   ]
  },
  {
   "cell_type": "code",
   "execution_count": null,
   "id": "1184bc83",
   "metadata": {},
   "outputs": [],
   "source": []
  },
  {
   "cell_type": "code",
   "execution_count": 19,
   "id": "c097d90a",
   "metadata": {},
   "outputs": [
    {
     "name": "stdout",
     "output_type": "stream",
     "text": [
      "30884\n"
     ]
    }
   ],
   "source": [
    "X_train_tokenized = tokenizer(['relation_linking: ' + sequence for sequence in input_text], \n",
    "                              padding=True, \n",
    "                              truncation=True, \n",
    "                              max_length=max_source_length)\n",
    "\n",
    "y_train_tokenized = tokenizer(target_text, \n",
    "                              padding=True, \n",
    "                              truncation=True, \n",
    "                              max_length=max_target_length)\n",
    "\n",
    "print(len(training_data))\n",
    "# print(len(training_sample))"
   ]
  },
  {
   "cell_type": "code",
   "execution_count": null,
   "id": "104b87da",
   "metadata": {},
   "outputs": [],
   "source": []
  },
  {
   "cell_type": "markdown",
   "id": "36dfa3c8",
   "metadata": {},
   "source": [
    "## Validation Data"
   ]
  },
  {
   "cell_type": "code",
   "execution_count": 20,
   "id": "ec197e75",
   "metadata": {},
   "outputs": [
    {
     "name": "stdout",
     "output_type": "stream",
     "text": [
      "4412\n"
     ]
    }
   ],
   "source": [
    "validation_data = pd.read_csv('./3-Relation_Linking_Data/2-final_input/validation_data.csv')\n",
    "# validation_data\n",
    "print(len(validation_data))\n",
    "# validation_data = validation_data.dropna()"
   ]
  },
  {
   "cell_type": "code",
   "execution_count": 21,
   "id": "b0e4960f",
   "metadata": {},
   "outputs": [
    {
     "data": {
      "text/html": [
       "<div>\n",
       "<style scoped>\n",
       "    .dataframe tbody tr th:only-of-type {\n",
       "        vertical-align: middle;\n",
       "    }\n",
       "\n",
       "    .dataframe tbody tr th {\n",
       "        vertical-align: top;\n",
       "    }\n",
       "\n",
       "    .dataframe thead th {\n",
       "        text-align: right;\n",
       "    }\n",
       "</style>\n",
       "<table border=\"1\" class=\"dataframe\">\n",
       "  <thead>\n",
       "    <tr style=\"text-align: right;\">\n",
       "      <th></th>\n",
       "      <th>question</th>\n",
       "      <th>entity label</th>\n",
       "      <th>relation labels</th>\n",
       "      <th>target relation id_x</th>\n",
       "      <th>target relation label</th>\n",
       "      <th>qid</th>\n",
       "      <th>target relation id_y</th>\n",
       "      <th>relation_obj_labels</th>\n",
       "      <th>relation_obj_ids</th>\n",
       "      <th>combined relations</th>\n",
       "    </tr>\n",
       "  </thead>\n",
       "  <tbody>\n",
       "    <tr>\n",
       "      <th>0</th>\n",
       "      <td>where was sasha vujačić born</td>\n",
       "      <td>sasha vujačić</td>\n",
       "      <td>sex or gender ,  occupation ,  member of spor...</td>\n",
       "      <td>P19</td>\n",
       "      <td>place of birth</td>\n",
       "      <td>Q318926</td>\n",
       "      <td>P19</td>\n",
       "      <td>NaN</td>\n",
       "      <td>NaN</td>\n",
       "      <td>[ sex or gender , occupation , member of sport...</td>\n",
       "    </tr>\n",
       "    <tr>\n",
       "      <th>1</th>\n",
       "      <td>What was Seymour Parker Gilbert's profession?</td>\n",
       "      <td>Seymour Parker Gilbert</td>\n",
       "      <td>sex or gender ,  VIAF ID ,  GND ID ,  place o...</td>\n",
       "      <td>P106</td>\n",
       "      <td>occupation</td>\n",
       "      <td>Q2275923</td>\n",
       "      <td>P106</td>\n",
       "      <td>main subject</td>\n",
       "      <td>P921</td>\n",
       "      <td>[ sex or gender , main subject , VIAF ID , GND...</td>\n",
       "    </tr>\n",
       "    <tr>\n",
       "      <th>2</th>\n",
       "      <td>in what french city did antoine de févin die</td>\n",
       "      <td>antoine de févin</td>\n",
       "      <td>VIAF ID ,  ISNI ,  MusicBrainz artist ID ,  i...</td>\n",
       "      <td>P20</td>\n",
       "      <td>place of death</td>\n",
       "      <td>Q2856873</td>\n",
       "      <td>P20</td>\n",
       "      <td>main subject</td>\n",
       "      <td>P921</td>\n",
       "      <td>[ VIAF ID , main subject , ISNI , MusicBrainz ...</td>\n",
       "    </tr>\n",
       "    <tr>\n",
       "      <th>3</th>\n",
       "      <td>What job does jamie hewlett have</td>\n",
       "      <td>jamie hewlett</td>\n",
       "      <td>VIAF ID ,  ISNI ,  Library of Congress author...</td>\n",
       "      <td>P106</td>\n",
       "      <td>occupation</td>\n",
       "      <td>Q522966</td>\n",
       "      <td>P106</td>\n",
       "      <td>spouse, creator, cast member, has part(s, cove...</td>\n",
       "      <td>P26, P170, P161, P527, P736, P110</td>\n",
       "      <td>[ VIAF ID , spouse , ISNI , creator , Library ...</td>\n",
       "    </tr>\n",
       "    <tr>\n",
       "      <th>4</th>\n",
       "      <td>what country is ghost house from</td>\n",
       "      <td>ghost house</td>\n",
       "      <td>instance of ,  original language of film or T...</td>\n",
       "      <td>P495</td>\n",
       "      <td>country of origin</td>\n",
       "      <td>Q624731</td>\n",
       "      <td>P495</td>\n",
       "      <td>different from</td>\n",
       "      <td>P1889</td>\n",
       "      <td>[ instance of , different from , original lang...</td>\n",
       "    </tr>\n",
       "    <tr>\n",
       "      <th>...</th>\n",
       "      <td>...</td>\n",
       "      <td>...</td>\n",
       "      <td>...</td>\n",
       "      <td>...</td>\n",
       "      <td>...</td>\n",
       "      <td>...</td>\n",
       "      <td>...</td>\n",
       "      <td>...</td>\n",
       "      <td>...</td>\n",
       "      <td>...</td>\n",
       "    </tr>\n",
       "    <tr>\n",
       "      <th>4407</th>\n",
       "      <td>what is the sex of seumas o'kelly?</td>\n",
       "      <td>seumas o'kelly</td>\n",
       "      <td>VIAF ID ,  ISNI ,  sex or gender ,  instance ...</td>\n",
       "      <td>P21</td>\n",
       "      <td>sex or gender</td>\n",
       "      <td>Q3480757</td>\n",
       "      <td>P21</td>\n",
       "      <td>NaN</td>\n",
       "      <td>NaN</td>\n",
       "      <td>[ VIAF ID , ISNI , sex or gender , instance of...</td>\n",
       "    </tr>\n",
       "    <tr>\n",
       "      <th>4408</th>\n",
       "      <td>which position did herby fortunat play in foot...</td>\n",
       "      <td>herby fortunat</td>\n",
       "      <td>family name ,  occupation ,  instance of ,  F...</td>\n",
       "      <td>P413</td>\n",
       "      <td>position played on team / speciality</td>\n",
       "      <td>Q3709870</td>\n",
       "      <td>P413</td>\n",
       "      <td>NaN</td>\n",
       "      <td>NaN</td>\n",
       "      <td>[ family name , occupation , instance of , Fre...</td>\n",
       "    </tr>\n",
       "    <tr>\n",
       "      <th>4409</th>\n",
       "      <td>what kind of film is the pianist (2002 film)</td>\n",
       "      <td>the pianist</td>\n",
       "      <td>AlloCiné film ID ,  instance of ,  director ,...</td>\n",
       "      <td>P136</td>\n",
       "      <td>genre</td>\n",
       "      <td>Q150804</td>\n",
       "      <td>P136</td>\n",
       "      <td>notable work, main subject, Wikidata property ...</td>\n",
       "      <td>P800, P921, P1855, P4969</td>\n",
       "      <td>[ AlloCiné film ID , notable work , instance o...</td>\n",
       "    </tr>\n",
       "    <tr>\n",
       "      <th>4410</th>\n",
       "      <td>where was jon seda given birth</td>\n",
       "      <td>jon seda</td>\n",
       "      <td>VIAF ID ,  ISNI ,  country of citizenship ,  ...</td>\n",
       "      <td>P19</td>\n",
       "      <td>place of birth</td>\n",
       "      <td>Q1343857</td>\n",
       "      <td>P19</td>\n",
       "      <td>cast member, performer</td>\n",
       "      <td>P161, P175</td>\n",
       "      <td>[ VIAF ID , cast member , ISNI , performer , c...</td>\n",
       "    </tr>\n",
       "    <tr>\n",
       "      <th>4411</th>\n",
       "      <td>What is nikolaj frobenius's profession?</td>\n",
       "      <td>nikolaj frobenius</td>\n",
       "      <td>VIAF ID ,  ISNI ,  instance of ,  date of bir...</td>\n",
       "      <td>P106</td>\n",
       "      <td>occupation</td>\n",
       "      <td>Q2981169</td>\n",
       "      <td>P106</td>\n",
       "      <td>author, screenwriter</td>\n",
       "      <td>P50, P58</td>\n",
       "      <td>[ VIAF ID , author , ISNI , screenwriter , ins...</td>\n",
       "    </tr>\n",
       "  </tbody>\n",
       "</table>\n",
       "<p>4412 rows × 10 columns</p>\n",
       "</div>"
      ],
      "text/plain": [
       "                                               question  \\\n",
       "0                          where was sasha vujačić born   \n",
       "1         What was Seymour Parker Gilbert's profession?   \n",
       "2          in what french city did antoine de févin die   \n",
       "3                      What job does jamie hewlett have   \n",
       "4                      what country is ghost house from   \n",
       "...                                                 ...   \n",
       "4407                 what is the sex of seumas o'kelly?   \n",
       "4408  which position did herby fortunat play in foot...   \n",
       "4409       what kind of film is the pianist (2002 film)   \n",
       "4410                     where was jon seda given birth   \n",
       "4411            What is nikolaj frobenius's profession?   \n",
       "\n",
       "                entity label  \\\n",
       "0              sasha vujačić   \n",
       "1     Seymour Parker Gilbert   \n",
       "2           antoine de févin   \n",
       "3              jamie hewlett   \n",
       "4                ghost house   \n",
       "...                      ...   \n",
       "4407          seumas o'kelly   \n",
       "4408          herby fortunat   \n",
       "4409             the pianist   \n",
       "4410                jon seda   \n",
       "4411       nikolaj frobenius   \n",
       "\n",
       "                                        relation labels target relation id_x  \\\n",
       "0      sex or gender ,  occupation ,  member of spor...                  P19   \n",
       "1      sex or gender ,  VIAF ID ,  GND ID ,  place o...                 P106   \n",
       "2      VIAF ID ,  ISNI ,  MusicBrainz artist ID ,  i...                  P20   \n",
       "3      VIAF ID ,  ISNI ,  Library of Congress author...                 P106   \n",
       "4      instance of ,  original language of film or T...                 P495   \n",
       "...                                                 ...                  ...   \n",
       "4407   VIAF ID ,  ISNI ,  sex or gender ,  instance ...                  P21   \n",
       "4408   family name ,  occupation ,  instance of ,  F...                 P413   \n",
       "4409   AlloCiné film ID ,  instance of ,  director ,...                 P136   \n",
       "4410   VIAF ID ,  ISNI ,  country of citizenship ,  ...                  P19   \n",
       "4411   VIAF ID ,  ISNI ,  instance of ,  date of bir...                 P106   \n",
       "\n",
       "                     target relation label       qid target relation id_y  \\\n",
       "0                           place of birth   Q318926                  P19   \n",
       "1                               occupation  Q2275923                 P106   \n",
       "2                           place of death  Q2856873                  P20   \n",
       "3                               occupation   Q522966                 P106   \n",
       "4                        country of origin   Q624731                 P495   \n",
       "...                                    ...       ...                  ...   \n",
       "4407                         sex or gender  Q3480757                  P21   \n",
       "4408  position played on team / speciality  Q3709870                 P413   \n",
       "4409                                 genre   Q150804                 P136   \n",
       "4410                        place of birth  Q1343857                  P19   \n",
       "4411                            occupation  Q2981169                 P106   \n",
       "\n",
       "                                    relation_obj_labels  \\\n",
       "0                                                   NaN   \n",
       "1                                          main subject   \n",
       "2                                          main subject   \n",
       "3     spouse, creator, cast member, has part(s, cove...   \n",
       "4                                        different from   \n",
       "...                                                 ...   \n",
       "4407                                                NaN   \n",
       "4408                                                NaN   \n",
       "4409  notable work, main subject, Wikidata property ...   \n",
       "4410                             cast member, performer   \n",
       "4411                               author, screenwriter   \n",
       "\n",
       "                       relation_obj_ids  \\\n",
       "0                                   NaN   \n",
       "1                                  P921   \n",
       "2                                  P921   \n",
       "3     P26, P170, P161, P527, P736, P110   \n",
       "4                                 P1889   \n",
       "...                                 ...   \n",
       "4407                                NaN   \n",
       "4408                                NaN   \n",
       "4409           P800, P921, P1855, P4969   \n",
       "4410                         P161, P175   \n",
       "4411                           P50, P58   \n",
       "\n",
       "                                     combined relations  \n",
       "0     [ sex or gender , occupation , member of sport...  \n",
       "1     [ sex or gender , main subject , VIAF ID , GND...  \n",
       "2     [ VIAF ID , main subject , ISNI , MusicBrainz ...  \n",
       "3     [ VIAF ID , spouse , ISNI , creator , Library ...  \n",
       "4     [ instance of , different from , original lang...  \n",
       "...                                                 ...  \n",
       "4407  [ VIAF ID , ISNI , sex or gender , instance of...  \n",
       "4408  [ family name , occupation , instance of , Fre...  \n",
       "4409  [ AlloCiné film ID , notable work , instance o...  \n",
       "4410  [ VIAF ID , cast member , ISNI , performer , c...  \n",
       "4411  [ VIAF ID , author , ISNI , screenwriter , ins...  \n",
       "\n",
       "[4412 rows x 10 columns]"
      ]
     },
     "execution_count": 21,
     "metadata": {},
     "output_type": "execute_result"
    }
   ],
   "source": [
    "validation_data['combined relations'] = validation_data.apply(preprocess_combined_relations, axis =1)\n",
    "validation_data"
   ]
  },
  {
   "cell_type": "code",
   "execution_count": 22,
   "id": "75202c22",
   "metadata": {},
   "outputs": [],
   "source": [
    "validation_data['input_text'] = validation_data.apply(define_input_text, axis=1)\n",
    "# validation_data.head()"
   ]
  },
  {
   "cell_type": "code",
   "execution_count": 23,
   "id": "d4257c0a",
   "metadata": {},
   "outputs": [
    {
     "data": {
      "text/plain": [
       "0       * where was sasha vujačić born *,* sasha vujač...\n",
       "1       * What was Seymour Parker Gilbert's profession...\n",
       "2       * in what french city did antoine de févin die...\n",
       "3       * What job does jamie hewlett have *,* jamie h...\n",
       "4       * what country is ghost house from *,* ghost h...\n",
       "                              ...                        \n",
       "4407    * what is the sex of seumas o'kelly? *,* seuma...\n",
       "4408    * which position did herby fortunat play in fo...\n",
       "4409    * what kind of film is the pianist (2002 film)...\n",
       "4410    * where was jon seda given birth *,* jon seda ...\n",
       "4411    * What is nikolaj frobenius's profession? *,* ...\n",
       "Name: input_text, Length: 4412, dtype: object"
      ]
     },
     "execution_count": 23,
     "metadata": {},
     "output_type": "execute_result"
    }
   ],
   "source": [
    "validation_data['input_text']"
   ]
  },
  {
   "cell_type": "code",
   "execution_count": 24,
   "id": "adf530d4",
   "metadata": {},
   "outputs": [
    {
     "data": {
      "image/png": "[encoded data removed]",
      "text/plain": [
       "<Figure size 432x288 with 1 Axes>"
      ]
     },
     "metadata": {
      "needs_background": "light"
     },
     "output_type": "display_data"
    }
   ],
   "source": [
    "import matplotlib.pyplot as plt\n",
    "plt.hist(validation_data['input_text'].str.len(), bins = 20)\n",
    "plt.show()"
   ]
  },
  {
   "cell_type": "code",
   "execution_count": 25,
   "id": "165e32a3",
   "metadata": {},
   "outputs": [
    {
     "data": {
      "text/plain": [
       "'* where was sasha vujačić born *,* sasha vujačić *,* [ sex or gender , occupation , member of sports team , Commons category , position played on team / speciality , instance of , date of birth , place of birth , Freebase ID , country of citizenship , image , given name , Twitter username , sport , drafted by , Basketball-Reference.com NBA player ID , mass , height , ACB.com player ID , euroleague.net player ID , CONOR.SI ID , ESPN.com NBA player ID , sport number , RealGM basketball player ID , family name , LegaBasket.it player ID , Turkish Basketball Super League ID , work period (start , Eurobasket.com player ID , league , NBA.com player ID , country for sport , social media followers , Proballers ID , languages spoken , written or signed , Trading Card Database person ID ] *'"
      ]
     },
     "execution_count": 25,
     "metadata": {},
     "output_type": "execute_result"
    }
   ],
   "source": [
    "input_text_val = list(validation_data['input_text'])\n",
    "input_text_val[0]"
   ]
  },
  {
   "cell_type": "code",
   "execution_count": 26,
   "id": "889c1332",
   "metadata": {},
   "outputs": [
    {
     "data": {
      "text/plain": [
       "'place of birth'"
      ]
     },
     "execution_count": 26,
     "metadata": {},
     "output_type": "execute_result"
    }
   ],
   "source": [
    "target_text_val = list(validation_data['target relation label'].astype(str))\n",
    "target_text_val[0]"
   ]
  },
  {
   "cell_type": "code",
   "execution_count": 27,
   "id": "aa0d8470",
   "metadata": {},
   "outputs": [
    {
     "name": "stdout",
     "output_type": "stream",
     "text": [
      "4412\n"
     ]
    }
   ],
   "source": [
    "X_val_tokenized = tokenizer(['relation_linking: ' + sequence for sequence in input_text_val], \n",
    "                              padding=True, \n",
    "                              truncation=True, \n",
    "                              max_length=max_source_length)\n",
    "\n",
    "y_val_tokenized = tokenizer(target_text_val, \n",
    "                              padding=True, \n",
    "                              truncation=True, \n",
    "                              max_length=max_target_length)\n",
    "\n",
    "print(len(validation_data))\n",
    "# print(len(training_sample))"
   ]
  },
  {
   "cell_type": "code",
   "execution_count": null,
   "id": "1dcaf998",
   "metadata": {},
   "outputs": [],
   "source": []
  },
  {
   "cell_type": "code",
   "execution_count": null,
   "id": "3b74be0c",
   "metadata": {},
   "outputs": [],
   "source": []
  },
  {
   "cell_type": "code",
   "execution_count": null,
   "id": "1df92887",
   "metadata": {},
   "outputs": [],
   "source": []
  },
  {
   "cell_type": "code",
   "execution_count": null,
   "id": "c681d4bf",
   "metadata": {},
   "outputs": [],
   "source": []
  },
  {
   "cell_type": "code",
   "execution_count": 28,
   "id": "8e5bc147",
   "metadata": {},
   "outputs": [],
   "source": [
    "train_dataset = Dataset(X_train_tokenized, y_train_tokenized)"
   ]
  },
  {
   "cell_type": "code",
   "execution_count": 29,
   "id": "80cf7311",
   "metadata": {},
   "outputs": [],
   "source": [
    "val_dataset = Dataset(X_val_tokenized, y_val_tokenized)"
   ]
  },
  {
   "cell_type": "code",
   "execution_count": 30,
   "id": "49ca8ee8",
   "metadata": {},
   "outputs": [],
   "source": [
    "from transformers import Seq2SeqTrainingArguments\n",
    "\n",
    "training_args = Seq2SeqTrainingArguments(\n",
    "    \"Relation_linking_final_sub_obj\",\n",
    "    evaluation_strategy ='steps',\n",
    "    eval_steps = 1000, # Evaluation and Save happens every 50 steps\n",
    "    logging_steps = 500,\n",
    "    save_steps = 1000,\n",
    "    save_total_limit = 5, # Only last 5 models are saved. Older ones are deleted.\n",
    "    per_device_train_batch_size = 1,\n",
    "    per_device_eval_batch_size = 1,\n",
    "    learning_rate = 1e-3,\n",
    "    adam_epsilon = 1e-8,\n",
    "    \n",
    "    gradient_accumulation_steps =2,\n",
    "    \n",
    "    num_train_epochs = 5,\n",
    "    report_to=\"wandb\",\n",
    "#     metric_for_best_model = 'f1',\n",
    "    load_best_model_at_end=True\n",
    ")"
   ]
  },
  {
   "cell_type": "code",
   "execution_count": 31,
   "id": "647e9acd",
   "metadata": {},
   "outputs": [],
   "source": [
    "from transformers import Seq2SeqTrainer\n",
    "\n",
    "trainer = Seq2SeqTrainer(\n",
    "    model=model, \n",
    "    args=training_args, \n",
    "    train_dataset= train_dataset,\n",
    "    eval_dataset = val_dataset,\n",
    "#     callbacks = [EarlyStoppingCallback(early_stopping_patience=3)]\n",
    "    callbacks = [EarlyStoppingCallback(early_stopping_patience=5)]\n",
    ")"
   ]
  },
  {
   "cell_type": "code",
   "execution_count": 32,
   "id": "c2e5fc4b",
   "metadata": {},
   "outputs": [
    {
     "name": "stderr",
     "output_type": "stream",
     "text": [
      "/home/HadyElkady/miniconda3/lib/python3.7/site-packages/transformers/optimization.py:309: FutureWarning: This implementation of AdamW is deprecated and will be removed in a future version. Use thePyTorch implementation torch.optim.AdamW instead, or set `no_deprecation_warning=True` to disable this warning\n",
      "  FutureWarning,\n",
      "***** Running training *****\n",
      "  Num examples = 30884\n",
      "  Num Epochs = 5\n",
      "  Instantaneous batch size per device = 1\n",
      "  Total train batch size (w. parallel, distributed & accumulation) = 8\n",
      "  Gradient Accumulation steps = 2\n",
      "  Total optimization steps = 19300\n",
      "Automatic Weights & Biases logging enabled, to disable set os.environ[\"WANDB_DISABLED\"] = \"true\"\n"
     ]
    },
    {
     "data": {
      "text/html": [
       "Changes to your `wandb` environment variables will be ignored because your `wandb` session has already started. For more information on how to modify your settings with `wandb.init()` arguments, please refer to <a href=\"https://wandb.me/wandb-init\" target=\"_blank\">the W&B docs</a>."
      ],
      "text/plain": [
       "<IPython.core.display.HTML object>"
      ]
     },
     "metadata": {},
     "output_type": "display_data"
    },
    {
     "data": {
      "text/html": [
       "Tracking run with wandb version 0.12.17"
      ],
      "text/plain": [
       "<IPython.core.display.HTML object>"
      ]
     },
     "metadata": {},
     "output_type": "display_data"
    },
    {
     "data": {
      "text/html": [
       "Run data is saved locally in <code>/home/HadyElkady/work/Bachelor_thesis/wandb/run-20220830_192458-q11tf599</code>"
      ],
      "text/plain": [
       "<IPython.core.display.HTML object>"
      ]
     },
     "metadata": {},
     "output_type": "display_data"
    },
    {
     "data": {
      "text/html": [
       "Syncing run <strong><a href=\"https://wandb.ai/hodz199/Relation_Lining/runs/q11tf599\" target=\"_blank\">Relation_linking_final_sub_obj</a></strong> to <a href=\"https://wandb.ai/hodz199/Relation_Lining\" target=\"_blank\">Weights & Biases</a> (<a href=\"https://wandb.me/run\" target=\"_blank\">docs</a>)<br/>"
      ],
      "text/plain": [
       "<IPython.core.display.HTML object>"
      ]
     },
     "metadata": {},
     "output_type": "display_data"
    },
    {
     "name": "stderr",
     "output_type": "stream",
     "text": [
      "/home/HadyElkady/miniconda3/lib/python3.7/site-packages/torch/nn/parallel/_functions.py:68: UserWarning: Was asked to gather along dimension 0, but all input tensors were scalars; will instead unsqueeze and return a vector.\n",
      "  warnings.warn('Was asked to gather along dimension 0, but all '\n"
     ]
    },
    {
     "data": {
      "text/html": [
       "\n",
       "    <div>\n",
       "      \n",
       "      <progress value='16911' max='19300' style='width:300px; height:20px; vertical-align: middle;'></progress>\n",
       "      [16911/19300 9:16:48 < 1:18:40, 0.51 it/s, Epoch 4.38/5]\n",
       "    </div>\n",
       "    <table border=\"1\" class=\"dataframe\">\n",
       "  <thead>\n",
       " <tr style=\"text-align: left;\">\n",
       "      <th>Step</th>\n",
       "      <th>Training Loss</th>\n",
       "      <th>Validation Loss</th>\n",
       "    </tr>\n",
       "  </thead>\n",
       "  <tbody>\n",
       "    <tr>\n",
       "      <td>1000</td>\n",
       "      <td>0.042700</td>\n",
       "      <td>0.023349</td>\n",
       "    </tr>\n",
       "    <tr>\n",
       "      <td>2000</td>\n",
       "      <td>0.025000</td>\n",
       "      <td>0.018049</td>\n",
       "    </tr>\n",
       "    <tr>\n",
       "      <td>3000</td>\n",
       "      <td>0.026500</td>\n",
       "      <td>0.022299</td>\n",
       "    </tr>\n",
       "    <tr>\n",
       "      <td>4000</td>\n",
       "      <td>0.023300</td>\n",
       "      <td>0.013573</td>\n",
       "    </tr>\n",
       "    <tr>\n",
       "      <td>5000</td>\n",
       "      <td>0.014800</td>\n",
       "      <td>0.016774</td>\n",
       "    </tr>\n",
       "    <tr>\n",
       "      <td>6000</td>\n",
       "      <td>0.016300</td>\n",
       "      <td>0.015023</td>\n",
       "    </tr>\n",
       "    <tr>\n",
       "      <td>7000</td>\n",
       "      <td>0.017100</td>\n",
       "      <td>0.011540</td>\n",
       "    </tr>\n",
       "    <tr>\n",
       "      <td>8000</td>\n",
       "      <td>0.013900</td>\n",
       "      <td>0.011316</td>\n",
       "    </tr>\n",
       "    <tr>\n",
       "      <td>9000</td>\n",
       "      <td>0.014400</td>\n",
       "      <td>0.011694</td>\n",
       "    </tr>\n",
       "    <tr>\n",
       "      <td>10000</td>\n",
       "      <td>0.010200</td>\n",
       "      <td>0.010338</td>\n",
       "    </tr>\n",
       "    <tr>\n",
       "      <td>11000</td>\n",
       "      <td>0.011800</td>\n",
       "      <td>0.010541</td>\n",
       "    </tr>\n",
       "    <tr>\n",
       "      <td>12000</td>\n",
       "      <td>0.006900</td>\n",
       "      <td>0.009770</td>\n",
       "    </tr>\n",
       "    <tr>\n",
       "      <td>13000</td>\n",
       "      <td>0.007100</td>\n",
       "      <td>0.009421</td>\n",
       "    </tr>\n",
       "    <tr>\n",
       "      <td>14000</td>\n",
       "      <td>0.007900</td>\n",
       "      <td>0.009388</td>\n",
       "    </tr>\n",
       "    <tr>\n",
       "      <td>15000</td>\n",
       "      <td>0.007600</td>\n",
       "      <td>0.008363</td>\n",
       "    </tr>\n",
       "    <tr>\n",
       "      <td>16000</td>\n",
       "      <td>0.003800</td>\n",
       "      <td>0.008778</td>\n",
       "    </tr>\n",
       "  </tbody>\n",
       "</table><p>"
      ],
      "text/plain": [
       "<IPython.core.display.HTML object>"
      ]
     },
     "metadata": {},
     "output_type": "display_data"
    },
    {
     "name": "stderr",
     "output_type": "stream",
     "text": [
      "***** Running Evaluation *****\n",
      "  Num examples = 4412\n",
      "  Batch size = 4\n",
      "Saving model checkpoint to Relation_linking_final_sub_obj/checkpoint-1000\n",
      "Configuration saved in Relation_linking_final_sub_obj/checkpoint-1000/config.json\n",
      "Model weights saved in Relation_linking_final_sub_obj/checkpoint-1000/pytorch_model.bin\n",
      "/home/HadyElkady/miniconda3/lib/python3.7/site-packages/torch/nn/parallel/_functions.py:68: UserWarning: Was asked to gather along dimension 0, but all input tensors were scalars; will instead unsqueeze and return a vector.\n",
      "  warnings.warn('Was asked to gather along dimension 0, but all '\n",
      "***** Running Evaluation *****\n",
      "  Num examples = 4412\n",
      "  Batch size = 4\n",
      "Saving model checkpoint to Relation_linking_final_sub_obj/checkpoint-2000\n",
      "Configuration saved in Relation_linking_final_sub_obj/checkpoint-2000/config.json\n",
      "Model weights saved in Relation_linking_final_sub_obj/checkpoint-2000/pytorch_model.bin\n",
      "/home/HadyElkady/miniconda3/lib/python3.7/site-packages/torch/nn/parallel/_functions.py:68: UserWarning: Was asked to gather along dimension 0, but all input tensors were scalars; will instead unsqueeze and return a vector.\n",
      "  warnings.warn('Was asked to gather along dimension 0, but all '\n",
      "***** Running Evaluation *****\n",
      "  Num examples = 4412\n",
      "  Batch size = 4\n",
      "Saving model checkpoint to Relation_linking_final_sub_obj/checkpoint-3000\n",
      "Configuration saved in Relation_linking_final_sub_obj/checkpoint-3000/config.json\n",
      "Model weights saved in Relation_linking_final_sub_obj/checkpoint-3000/pytorch_model.bin\n",
      "/home/HadyElkady/miniconda3/lib/python3.7/site-packages/torch/nn/parallel/_functions.py:68: UserWarning: Was asked to gather along dimension 0, but all input tensors were scalars; will instead unsqueeze and return a vector.\n",
      "  warnings.warn('Was asked to gather along dimension 0, but all '\n",
      "***** Running Evaluation *****\n",
      "  Num examples = 4412\n",
      "  Batch size = 4\n",
      "Saving model checkpoint to Relation_linking_final_sub_obj/checkpoint-4000\n",
      "Configuration saved in Relation_linking_final_sub_obj/checkpoint-4000/config.json\n",
      "Model weights saved in Relation_linking_final_sub_obj/checkpoint-4000/pytorch_model.bin\n",
      "/home/HadyElkady/miniconda3/lib/python3.7/site-packages/torch/nn/parallel/_functions.py:68: UserWarning: Was asked to gather along dimension 0, but all input tensors were scalars; will instead unsqueeze and return a vector.\n",
      "  warnings.warn('Was asked to gather along dimension 0, but all '\n",
      "***** Running Evaluation *****\n",
      "  Num examples = 4412\n",
      "  Batch size = 4\n",
      "Saving model checkpoint to Relation_linking_final_sub_obj/checkpoint-5000\n",
      "Configuration saved in Relation_linking_final_sub_obj/checkpoint-5000/config.json\n",
      "Model weights saved in Relation_linking_final_sub_obj/checkpoint-5000/pytorch_model.bin\n",
      "/home/HadyElkady/miniconda3/lib/python3.7/site-packages/torch/nn/parallel/_functions.py:68: UserWarning: Was asked to gather along dimension 0, but all input tensors were scalars; will instead unsqueeze and return a vector.\n",
      "  warnings.warn('Was asked to gather along dimension 0, but all '\n",
      "***** Running Evaluation *****\n",
      "  Num examples = 4412\n",
      "  Batch size = 4\n",
      "Saving model checkpoint to Relation_linking_final_sub_obj/checkpoint-6000\n",
      "Configuration saved in Relation_linking_final_sub_obj/checkpoint-6000/config.json\n",
      "Model weights saved in Relation_linking_final_sub_obj/checkpoint-6000/pytorch_model.bin\n",
      "Deleting older checkpoint [Relation_linking_final_sub_obj/checkpoint-1000] due to args.save_total_limit\n",
      "/home/HadyElkady/miniconda3/lib/python3.7/site-packages/torch/nn/parallel/_functions.py:68: UserWarning: Was asked to gather along dimension 0, but all input tensors were scalars; will instead unsqueeze and return a vector.\n",
      "  warnings.warn('Was asked to gather along dimension 0, but all '\n",
      "***** Running Evaluation *****\n",
      "  Num examples = 4412\n",
      "  Batch size = 4\n",
      "Saving model checkpoint to Relation_linking_final_sub_obj/checkpoint-7000\n",
      "Configuration saved in Relation_linking_final_sub_obj/checkpoint-7000/config.json\n",
      "Model weights saved in Relation_linking_final_sub_obj/checkpoint-7000/pytorch_model.bin\n",
      "Deleting older checkpoint [Relation_linking_final_sub_obj/checkpoint-2000] due to args.save_total_limit\n",
      "/home/HadyElkady/miniconda3/lib/python3.7/site-packages/torch/nn/parallel/_functions.py:68: UserWarning: Was asked to gather along dimension 0, but all input tensors were scalars; will instead unsqueeze and return a vector.\n",
      "  warnings.warn('Was asked to gather along dimension 0, but all '\n",
      "***** Running Evaluation *****\n",
      "  Num examples = 4412\n",
      "  Batch size = 4\n",
      "Saving model checkpoint to Relation_linking_final_sub_obj/checkpoint-8000\n",
      "Configuration saved in Relation_linking_final_sub_obj/checkpoint-8000/config.json\n",
      "Model weights saved in Relation_linking_final_sub_obj/checkpoint-8000/pytorch_model.bin\n",
      "Deleting older checkpoint [Relation_linking_final_sub_obj/checkpoint-3000] due to args.save_total_limit\n",
      "/home/HadyElkady/miniconda3/lib/python3.7/site-packages/torch/nn/parallel/_functions.py:68: UserWarning: Was asked to gather along dimension 0, but all input tensors were scalars; will instead unsqueeze and return a vector.\n",
      "  warnings.warn('Was asked to gather along dimension 0, but all '\n",
      "***** Running Evaluation *****\n",
      "  Num examples = 4412\n",
      "  Batch size = 4\n",
      "Saving model checkpoint to Relation_linking_final_sub_obj/checkpoint-9000\n",
      "Configuration saved in Relation_linking_final_sub_obj/checkpoint-9000/config.json\n",
      "Model weights saved in Relation_linking_final_sub_obj/checkpoint-9000/pytorch_model.bin\n",
      "Deleting older checkpoint [Relation_linking_final_sub_obj/checkpoint-4000] due to args.save_total_limit\n",
      "/home/HadyElkady/miniconda3/lib/python3.7/site-packages/torch/nn/parallel/_functions.py:68: UserWarning: Was asked to gather along dimension 0, but all input tensors were scalars; will instead unsqueeze and return a vector.\n",
      "  warnings.warn('Was asked to gather along dimension 0, but all '\n",
      "***** Running Evaluation *****\n",
      "  Num examples = 4412\n",
      "  Batch size = 4\n",
      "Saving model checkpoint to Relation_linking_final_sub_obj/checkpoint-10000\n",
      "Configuration saved in Relation_linking_final_sub_obj/checkpoint-10000/config.json\n",
      "Model weights saved in Relation_linking_final_sub_obj/checkpoint-10000/pytorch_model.bin\n",
      "Deleting older checkpoint [Relation_linking_final_sub_obj/checkpoint-5000] due to args.save_total_limit\n",
      "/home/HadyElkady/miniconda3/lib/python3.7/site-packages/torch/nn/parallel/_functions.py:68: UserWarning: Was asked to gather along dimension 0, but all input tensors were scalars; will instead unsqueeze and return a vector.\n",
      "  warnings.warn('Was asked to gather along dimension 0, but all '\n",
      "***** Running Evaluation *****\n",
      "  Num examples = 4412\n",
      "  Batch size = 4\n",
      "Saving model checkpoint to Relation_linking_final_sub_obj/checkpoint-11000\n",
      "Configuration saved in Relation_linking_final_sub_obj/checkpoint-11000/config.json\n",
      "Model weights saved in Relation_linking_final_sub_obj/checkpoint-11000/pytorch_model.bin\n",
      "Deleting older checkpoint [Relation_linking_final_sub_obj/checkpoint-6000] due to args.save_total_limit\n",
      "/home/HadyElkady/miniconda3/lib/python3.7/site-packages/torch/nn/parallel/_functions.py:68: UserWarning: Was asked to gather along dimension 0, but all input tensors were scalars; will instead unsqueeze and return a vector.\n",
      "  warnings.warn('Was asked to gather along dimension 0, but all '\n",
      "***** Running Evaluation *****\n",
      "  Num examples = 4412\n",
      "  Batch size = 4\n",
      "Saving model checkpoint to Relation_linking_final_sub_obj/checkpoint-12000\n",
      "Configuration saved in Relation_linking_final_sub_obj/checkpoint-12000/config.json\n",
      "Model weights saved in Relation_linking_final_sub_obj/checkpoint-12000/pytorch_model.bin\n",
      "Deleting older checkpoint [Relation_linking_final_sub_obj/checkpoint-7000] due to args.save_total_limit\n",
      "/home/HadyElkady/miniconda3/lib/python3.7/site-packages/torch/nn/parallel/_functions.py:68: UserWarning: Was asked to gather along dimension 0, but all input tensors were scalars; will instead unsqueeze and return a vector.\n",
      "  warnings.warn('Was asked to gather along dimension 0, but all '\n",
      "***** Running Evaluation *****\n",
      "  Num examples = 4412\n",
      "  Batch size = 4\n",
      "Saving model checkpoint to Relation_linking_final_sub_obj/checkpoint-13000\n",
      "Configuration saved in Relation_linking_final_sub_obj/checkpoint-13000/config.json\n"
     ]
    },
    {
     "name": "stderr",
     "output_type": "stream",
     "text": [
      "Model weights saved in Relation_linking_final_sub_obj/checkpoint-13000/pytorch_model.bin\n",
      "Deleting older checkpoint [Relation_linking_final_sub_obj/checkpoint-8000] due to args.save_total_limit\n",
      "/home/HadyElkady/miniconda3/lib/python3.7/site-packages/torch/nn/parallel/_functions.py:68: UserWarning: Was asked to gather along dimension 0, but all input tensors were scalars; will instead unsqueeze and return a vector.\n",
      "  warnings.warn('Was asked to gather along dimension 0, but all '\n",
      "***** Running Evaluation *****\n",
      "  Num examples = 4412\n",
      "  Batch size = 4\n",
      "Saving model checkpoint to Relation_linking_final_sub_obj/checkpoint-14000\n",
      "Configuration saved in Relation_linking_final_sub_obj/checkpoint-14000/config.json\n",
      "Model weights saved in Relation_linking_final_sub_obj/checkpoint-14000/pytorch_model.bin\n",
      "Deleting older checkpoint [Relation_linking_final_sub_obj/checkpoint-9000] due to args.save_total_limit\n",
      "/home/HadyElkady/miniconda3/lib/python3.7/site-packages/torch/nn/parallel/_functions.py:68: UserWarning: Was asked to gather along dimension 0, but all input tensors were scalars; will instead unsqueeze and return a vector.\n",
      "  warnings.warn('Was asked to gather along dimension 0, but all '\n",
      "***** Running Evaluation *****\n",
      "  Num examples = 4412\n",
      "  Batch size = 4\n",
      "Saving model checkpoint to Relation_linking_final_sub_obj/checkpoint-15000\n",
      "Configuration saved in Relation_linking_final_sub_obj/checkpoint-15000/config.json\n",
      "Model weights saved in Relation_linking_final_sub_obj/checkpoint-15000/pytorch_model.bin\n",
      "Deleting older checkpoint [Relation_linking_final_sub_obj/checkpoint-10000] due to args.save_total_limit\n",
      "/home/HadyElkady/miniconda3/lib/python3.7/site-packages/torch/nn/parallel/_functions.py:68: UserWarning: Was asked to gather along dimension 0, but all input tensors were scalars; will instead unsqueeze and return a vector.\n",
      "  warnings.warn('Was asked to gather along dimension 0, but all '\n",
      "***** Running Evaluation *****\n",
      "  Num examples = 4412\n",
      "  Batch size = 4\n",
      "Saving model checkpoint to Relation_linking_final_sub_obj/checkpoint-16000\n",
      "Configuration saved in Relation_linking_final_sub_obj/checkpoint-16000/config.json\n",
      "Model weights saved in Relation_linking_final_sub_obj/checkpoint-16000/pytorch_model.bin\n",
      "Deleting older checkpoint [Relation_linking_final_sub_obj/checkpoint-11000] due to args.save_total_limit\n",
      "/home/HadyElkady/miniconda3/lib/python3.7/site-packages/torch/nn/parallel/_functions.py:68: UserWarning: Was asked to gather along dimension 0, but all input tensors were scalars; will instead unsqueeze and return a vector.\n",
      "  warnings.warn('Was asked to gather along dimension 0, but all '\n",
      "IOPub message rate exceeded.\n",
      "The notebook server will temporarily stop sending output\n",
      "to the client in order to avoid crashing it.\n",
      "To change this limit, set the config variable\n",
      "`--NotebookApp.iopub_msg_rate_limit`.\n",
      "\n",
      "Current values:\n",
      "NotebookApp.iopub_msg_rate_limit=1000.0 (msgs/sec)\n",
      "NotebookApp.rate_limit_window=3.0 (secs)\n",
      "\n"
     ]
    }
   ],
   "source": [
    "trainer.train()"
   ]
  },
  {
   "cell_type": "code",
   "execution_count": 33,
   "id": "b5c5daa3",
   "metadata": {},
   "outputs": [
    {
     "name": "stdout",
     "output_type": "stream",
     "text": [
      "finished\n"
     ]
    }
   ],
   "source": [
    "print('finished')"
   ]
  }
 ],
 "metadata": {
  "kernelspec": {
   "display_name": "Python 3",
   "language": "python",
   "name": "python3"
  },
  "language_info": {
   "codemirror_mode": {
    "name": "ipython",
    "version": 3
   },
   "file_extension": ".py",
   "mimetype": "text/x-python",
   "name": "python",
   "nbconvert_exporter": "python",
   "pygments_lexer": "ipython3",
   "version": "3.7.10"
  }
 },
 "nbformat": 4,
 "nbformat_minor": 5
}
