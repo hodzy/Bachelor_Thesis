{
 "cells": [
  {
   "cell_type": "code",
   "execution_count": 1,
   "id": "0e8e411c",
   "metadata": {},
   "outputs": [],
   "source": [
    "import json\n",
    "import pandas as pd\n",
    "import time"
   ]
  },
  {
   "cell_type": "code",
   "execution_count": 2,
   "id": "c5b9c30f",
   "metadata": {},
   "outputs": [],
   "source": [
    "def get_relation_label(rel_id):\n",
    "    label = ''\n",
    "    API_ENDPOINT = \"https://www.wikidata.org/w/api.php\"\n",
    "    params = {\n",
    "        'action': 'wbgetentities',\n",
    "        'format': 'json',\n",
    "        'languages': 'en',\n",
    "        'props': 'labels',\n",
    "        'ids': ''\n",
    "    }\n",
    "      \n",
    "    params['ids'] = str(rel_id)\n",
    "\n",
    "    try:\n",
    "        response = requests.get(API_ENDPOINT, params = params).json()['entities']\n",
    "        label = response[str(rel_id)]['labels']['en']['value']\n",
    "    except:\n",
    "        return (rel_id, label)\n",
    "    return (rel_id, label)"
   ]
  },
  {
   "cell_type": "code",
   "execution_count": 29,
   "id": "84e045d4",
   "metadata": {},
   "outputs": [],
   "source": [
    "import requests\n",
    "import time\n",
    "\n",
    "def find_relation_names_and_ids(qid):\n",
    "    relation_name_id = dict()\n",
    "\n",
    "    url = 'https://query.wikidata.org/sparql'\n",
    "    query = '''\n",
    "    SELECT Distinct ?wd ?wdLabel\n",
    "    WHERE {\n",
    "      VALUES (?s) {(wd:entity)}\n",
    "      ?s ?wdt ?o .\n",
    "      ?wd wikibase:directClaim ?wdt .\n",
    "      ?wd rdfs:label ?wdLabel .\n",
    "      OPTIONAL {\n",
    "        ?o rdfs:label ?oLabel .\n",
    "        FILTER (lang(?oLabel) = \"en\")\n",
    "      }\n",
    "      FILTER (lang(?wdLabel) = \"en\")\n",
    "      BIND (COALESCE(?oLabel, ?o) AS ?ooLabel)\n",
    "     }\n",
    "    '''\n",
    "    copy_query = query.replace('entity', qid)\n",
    "#     time.sleep(3)\n",
    "    r = requests.get(url, params = {'format': 'json', 'query': copy_query})\n",
    "    try:\n",
    "        data = r.json()\n",
    "        for rel in data['results']['bindings']:\n",
    "#             if len(rel['wdLabel']['value']) < 35:\n",
    "            relation_name_id[rel['wdLabel']['value']] = rel['wd']['value'].rsplit('/', 1)[1]\n",
    "        return relation_name_id\n",
    "    except:\n",
    "        print(r)\n",
    "        return ''"
   ]
  },
  {
   "cell_type": "code",
   "execution_count": 4,
   "id": "388031fd",
   "metadata": {},
   "outputs": [],
   "source": [
    "# jupyter notebook never finishes processing using multiprocessing python 3\n",
    "# https://stackoverflow.com/questions/47313732/jupyter-notebook-never-finishes-processing-using-multiprocessing-python-3\n",
    "\n",
    "from multiprocessing import Pool\n",
    "from functools import partial\n",
    "import inspect\n",
    "import time\n",
    "import os\n",
    "import requests\n",
    "\n",
    "\n",
    "def parallal_task(func, iterable, *params): \n",
    "    with open(f'./tmp_func.py', 'w') as file:\n",
    "        file.write(\"import requests \\n\")\n",
    "        file.write(inspect.getsource(func).replace(func.__name__, 'task'))\n",
    "\n",
    "    from tmp_func import task\n",
    "    pool = Pool(processes=15)\n",
    "    res = pool.map(task, iterable)\n",
    "    pool.close()\n",
    "    \n",
    "    os.remove('./tmp_func.py')\n",
    "    return res"
   ]
  },
  {
   "cell_type": "code",
   "execution_count": 5,
   "id": "ffc8e607",
   "metadata": {},
   "outputs": [],
   "source": [
    "from multiprocessing import Pool\n",
    "from functools import partial\n",
    "import inspect\n",
    "import time\n",
    "import os\n",
    "import requests\n",
    "\n",
    "\n",
    "def parallal_task_2(func, iterable, *params): \n",
    "    with open(f'./tmp_func_2.py', 'w') as file:\n",
    "        file.write(\"import requests \\n\")\n",
    "        file.write(\"import time \\n\")\n",
    "        file.write(inspect.getsource(func).replace(func.__name__, 'task'))\n",
    "\n",
    "    from tmp_func_2 import task\n",
    "    pool = Pool(processes=15)\n",
    "    res = pool.map(task, iterable)\n",
    "    pool.close()\n",
    "    \n",
    "    os.remove('./tmp_func_2.py')\n",
    "    return res"
   ]
  },
  {
   "cell_type": "code",
   "execution_count": null,
   "id": "23027aa9",
   "metadata": {},
   "outputs": [],
   "source": []
  },
  {
   "cell_type": "code",
   "execution_count": null,
   "id": "abc37c92",
   "metadata": {},
   "outputs": [],
   "source": []
  },
  {
   "cell_type": "code",
   "execution_count": 6,
   "id": "9ec9df58",
   "metadata": {},
   "outputs": [],
   "source": [
    "with open('2-NEL_Data/0-raw_data/simple_questions_v2/annotated_wd_data_train.txt', encoding='utf-8') as file:\n",
    "    lines = file.readlines()\n",
    "\n",
    "# print(len(lines))\n",
    "training_data = []\n",
    "for line in lines:\n",
    "    line = line.strip().split('\\t', 3)\n",
    "    del line[2]\n",
    "    \n",
    "    training_data.append(line)\n",
    "    \n",
    "qids = [line[0] for line in training_data]\n",
    "target_relation = [line[1].replace('R', 'P') for line in training_data]\n",
    "questions = [line[2] for line in training_data]"
   ]
  },
  {
   "cell_type": "code",
   "execution_count": 7,
   "id": "0f2df3b4",
   "metadata": {},
   "outputs": [
    {
     "data": {
      "text/plain": [
       "'Q126399'"
      ]
     },
     "execution_count": 7,
     "metadata": {},
     "output_type": "execute_result"
    }
   ],
   "source": [
    "qids[0]"
   ]
  },
  {
   "cell_type": "code",
   "execution_count": 59,
   "id": "8ed222e6",
   "metadata": {},
   "outputs": [],
   "source": [
    "def get_entity_relation_ids(ent_id):\n",
    "    relations = []\n",
    "    API_ENDPOINT = \"https://www.wikidata.org/w/api.php\"\n",
    "    params = {\n",
    "        'action': 'wbgetentities',\n",
    "        'format': 'json',\n",
    "        'languages': 'en',\n",
    "        'props': 'claims',\n",
    "        'ids': ''\n",
    "    }\n",
    "        \n",
    "    params['ids'] = str(ent_id)\n",
    "    try:\n",
    "        response = requests.get(API_ENDPOINT, params = params).json()['entities']\n",
    "        print(response)\n",
    "        relations = list(response[str(ent_id)]['claims'].keys())\n",
    "    except:\n",
    "        return (ent_id, relations)\n",
    "    return (ent_id, relations)"
   ]
  },
  {
   "cell_type": "code",
   "execution_count": 60,
   "id": "cd92d5ca",
   "metadata": {},
   "outputs": [
    {
     "name": "stdout",
     "output_type": "stream",
     "text": [
      "{'Q126399': {'type': 'item', 'id': 'Q126399', 'claims': {'P373': [{'mainsnak': {'snaktype': 'value', 'property': 'P373', 'hash': 'a628796d86bec5f43a27156210ee152fbee3cec1', 'datavalue': {'value': 'Warner Bros. Entertainment', 'type': 'string'}, 'datatype': 'string'}, 'type': 'statement', 'id': 'q126399$3B2A1FB8-16B9-4D74-BB8B-3823770A99F6', 'rank': 'normal'}], 'P31': [{'mainsnak': {'snaktype': 'value', 'property': 'P31', 'hash': '03f36c5d44daa15d8ad8a4f337bd7cae11b4d847', 'datavalue': {'value': {'entity-type': 'item', 'numeric-id': 1107679, 'id': 'Q1107679'}, 'type': 'wikibase-entityid'}, 'datatype': 'wikibase-item'}, 'type': 'statement', 'id': 'Q126399$EAF40450-3FCB-478E-98B4-5C2BD6CED344', 'rank': 'normal'}, {'mainsnak': {'snaktype': 'value', 'property': 'P31', 'hash': '09cda8dc5df05f496773981eeb13389efcccf3d1', 'datavalue': {'value': {'entity-type': 'item', 'numeric-id': 1762059, 'id': 'Q1762059'}, 'type': 'wikibase-entityid'}, 'datatype': 'wikibase-item'}, 'type': 'statement', 'id': 'Q126399$54F6424C-ADD1-43AC-836E-6199E6D361BD', 'rank': 'normal'}, {'mainsnak': {'snaktype': 'value', 'property': 'P31', 'hash': '326e3d41d1e9c34715e880be6e1c6a1e822e4317', 'datavalue': {'value': {'entity-type': 'item', 'numeric-id': 4830453, 'id': 'Q4830453'}, 'type': 'wikibase-entityid'}, 'datatype': 'wikibase-item'}, 'type': 'statement', 'id': 'Q126399$62DCFD71-0D85-4EB2-B825-6C1591BCA020', 'rank': 'normal'}, {'mainsnak': {'snaktype': 'value', 'property': 'P31', 'hash': '123fd599f51736c86fe90017835c4e744c66065c', 'datavalue': {'value': {'entity-type': 'item', 'numeric-id': 1137109, 'id': 'Q1137109'}, 'type': 'wikibase-entityid'}, 'datatype': 'wikibase-item'}, 'type': 'statement', 'id': 'Q126399$3890f8ed-4233-c4d8-70a5-6b9e432d4c8f', 'rank': 'normal'}], 'P112': [{'mainsnak': {'snaktype': 'value', 'property': 'P112', 'hash': 'af41eb820f661a1109628493e8a0093fc79407ca', 'datavalue': {'value': {'entity-type': 'item', 'numeric-id': 2721194, 'id': 'Q2721194'}, 'type': 'wikibase-entityid'}, 'datatype': 'wikibase-item'}, 'type': 'statement', 'id': 'q126399$B5CB4367-775E-4ACE-80CC-4DC4B9B36DAF', 'rank': 'normal', 'references': [{'hash': 'fa278ebfc458360e5aed63d5058cca83c46134f1', 'snaks': {'P143': [{'snaktype': 'value', 'property': 'P143', 'hash': 'e4f6d9441d0600513c4533c672b5ab472dc73694', 'datavalue': {'value': {'entity-type': 'item', 'numeric-id': 328, 'id': 'Q328'}, 'type': 'wikibase-entityid'}, 'datatype': 'wikibase-item'}]}, 'snaks-order': ['P143']}]}, {'mainsnak': {'snaktype': 'value', 'property': 'P112', 'hash': '072f61f100a064635999998eda8f4dea31473a16', 'datavalue': {'value': {'entity-type': 'item', 'numeric-id': 104161, 'id': 'Q104161'}, 'type': 'wikibase-entityid'}, 'datatype': 'wikibase-item'}, 'type': 'statement', 'id': 'q126399$7CF32E74-789F-45BF-BA16-A8B635537D98', 'rank': 'normal', 'references': [{'hash': 'fa278ebfc458360e5aed63d5058cca83c46134f1', 'snaks': {'P143': [{'snaktype': 'value', 'property': 'P143', 'hash': 'e4f6d9441d0600513c4533c672b5ab472dc73694', 'datavalue': {'value': {'entity-type': 'item', 'numeric-id': 328, 'id': 'Q328'}, 'type': 'wikibase-entityid'}, 'datatype': 'wikibase-item'}]}, 'snaks-order': ['P143']}]}, {'mainsnak': {'snaktype': 'value', 'property': 'P112', 'hash': 'b488f79a204e2748efb2203d67b5bf4cabad1740', 'datavalue': {'value': {'entity-type': 'item', 'numeric-id': 1384655, 'id': 'Q1384655'}, 'type': 'wikibase-entityid'}, 'datatype': 'wikibase-item'}, 'type': 'statement', 'id': 'q126399$7E1006CD-B18B-4E41-99D8-08A37205BCD6', 'rank': 'normal', 'references': [{'hash': 'fa278ebfc458360e5aed63d5058cca83c46134f1', 'snaks': {'P143': [{'snaktype': 'value', 'property': 'P143', 'hash': 'e4f6d9441d0600513c4533c672b5ab472dc73694', 'datavalue': {'value': {'entity-type': 'item', 'numeric-id': 328, 'id': 'Q328'}, 'type': 'wikibase-entityid'}, 'datatype': 'wikibase-item'}]}, 'snaks-order': ['P143']}]}, {'mainsnak': {'snaktype': 'value', 'property': 'P112', 'hash': 'b2a7df065172f0a558f603df7e83bfda0519f751', 'datavalue': {'value': {'entity-type': 'item', 'numeric-id': 72614, 'id': 'Q72614'}, 'type': 'wikibase-entityid'}, 'datatype': 'wikibase-item'}, 'type': 'statement', 'id': 'q126399$0964B28E-BB46-4D6D-86CE-0995E53F3A1D', 'rank': 'normal', 'references': [{'hash': 'fa278ebfc458360e5aed63d5058cca83c46134f1', 'snaks': {'P143': [{'snaktype': 'value', 'property': 'P143', 'hash': 'e4f6d9441d0600513c4533c672b5ab472dc73694', 'datavalue': {'value': {'entity-type': 'item', 'numeric-id': 328, 'id': 'Q328'}, 'type': 'wikibase-entityid'}, 'datatype': 'wikibase-item'}]}, 'snaks-order': ['P143']}]}], 'P749': [{'mainsnak': {'snaktype': 'value', 'property': 'P749', 'hash': 'ecc17004e2f6f56859fc360e1379acc94a7d54fc', 'datavalue': {'value': {'entity-type': 'item', 'numeric-id': 3298971, 'id': 'Q3298971'}, 'type': 'wikibase-entityid'}, 'datatype': 'wikibase-item'}, 'type': 'statement', 'qualifiers': {'P580': [{'snaktype': 'value', 'property': 'P580', 'hash': '5fe127b3125aada7d2dcd6ed89b9a19b600512a4', 'datavalue': {'value': {'time': '+1967-01-01T00:00:00Z', 'timezone': 0, 'before': 0, 'after': 0, 'precision': 9, 'calendarmodel': 'http://www.wikidata.org/entity/Q1985727'}, 'type': 'time'}, 'datatype': 'time'}], 'P582': [{'snaktype': 'value', 'property': 'P582', 'hash': '548f09995740af9d24e00e5ee47d1abd3aaeb495', 'datavalue': {'value': {'time': '+1970-01-01T00:00:00Z', 'timezone': 0, 'before': 0, 'after': 0, 'precision': 9, 'calendarmodel': 'http://www.wikidata.org/entity/Q1985727'}, 'type': 'time'}, 'datatype': 'time'}]}, 'qualifiers-order': ['P580', 'P582'], 'id': 'q126399$d63675af-4d4a-7aa1-8a8d-54a3e606300e', 'rank': 'normal'}, {'mainsnak': {'snaktype': 'value', 'property': 'P749', 'hash': '390438403c8c7fef7c6a98b7b23456f2c4efa155', 'datavalue': {'value': {'entity-type': 'item', 'numeric-id': 13452796, 'id': 'Q13452796'}, 'type': 'wikibase-entityid'}, 'datatype': 'wikibase-item'}, 'type': 'statement', 'qualifiers': {'P580': [{'snaktype': 'value', 'property': 'P580', 'hash': 'd986f978ba3b2f4c5c5ebd353ab0522fbadfbf94', 'datavalue': {'value': {'time': '+1970-01-01T00:00:00Z', 'timezone': 0, 'before': 0, 'after': 0, 'precision': 9, 'calendarmodel': 'http://www.wikidata.org/entity/Q1985727'}, 'type': 'time'}, 'datatype': 'time'}], 'P582': [{'snaktype': 'value', 'property': 'P582', 'hash': '39c0648670b63cd203ba3182e6e7379e833c7f61', 'datavalue': {'value': {'time': '+1972-01-01T00:00:00Z', 'timezone': 0, 'before': 0, 'after': 0, 'precision': 9, 'calendarmodel': 'http://www.wikidata.org/entity/Q1985727'}, 'type': 'time'}, 'datatype': 'time'}]}, 'qualifiers-order': ['P580', 'P582'], 'id': 'q126399$6f76580b-4dd2-8fc2-756d-00c8aefdd564', 'rank': 'normal'}, {'mainsnak': {'snaktype': 'value', 'property': 'P749', 'hash': 'b7010bfc75ca8396bc4b716250350e97bca6d276', 'datavalue': {'value': {'entity-type': 'item', 'numeric-id': 247032, 'id': 'Q247032'}, 'type': 'wikibase-entityid'}, 'datatype': 'wikibase-item'}, 'type': 'statement', 'qualifiers': {'P580': [{'snaktype': 'value', 'property': 'P580', 'hash': 'd343798a960bcd13416d5438c540e27611e2a08d', 'datavalue': {'value': {'time': '+1972-01-01T00:00:00Z', 'timezone': 0, 'before': 0, 'after': 0, 'precision': 9, 'calendarmodel': 'http://www.wikidata.org/entity/Q1985727'}, 'type': 'time'}, 'datatype': 'time'}], 'P582': [{'snaktype': 'value', 'property': 'P582', 'hash': '3b17e8cf07b0b1031f83d6539a3b04b801bb283f', 'datavalue': {'value': {'time': '+1990-01-01T00:00:00Z', 'timezone': 0, 'before': 0, 'after': 0, 'precision': 9, 'calendarmodel': 'http://www.wikidata.org/entity/Q1985727'}, 'type': 'time'}, 'datatype': 'time'}]}, 'qualifiers-order': ['P580', 'P582'], 'id': 'q126399$e3fe095c-43d9-cec3-52ff-72d3a88ebc24', 'rank': 'normal'}, {'mainsnak': {'snaktype': 'value', 'property': 'P749', 'hash': '9edb9ae8c3d2e754d74dc606ac5fa0dd18eb3fc0', 'datavalue': {'value': {'entity-type': 'item', 'numeric-id': 191715, 'id': 'Q191715'}, 'type': 'wikibase-entityid'}, 'datatype': 'wikibase-item'}, 'type': 'statement', 'qualifiers': {'P580': [{'snaktype': 'value', 'property': 'P580', 'hash': '2ce706f3e37a0d90b00d298c5fcdfbb353f15528', 'datavalue': {'value': {'time': '+1990-01-01T00:00:00Z', 'timezone': 0, 'before': 0, 'after': 0, 'precision': 9, 'calendarmodel': 'http://www.wikidata.org/entity/Q1985727'}, 'type': 'time'}, 'datatype': 'time'}], 'P582': [{'snaktype': 'value', 'property': 'P582', 'hash': '8873a75e7dd97fb9c8438d70cfb271a9ef36b9ce', 'datavalue': {'value': {'time': '+2001-01-01T00:00:00Z', 'timezone': 0, 'before': 0, 'after': 0, 'precision': 9, 'calendarmodel': 'http://www.wikidata.org/entity/Q1985727'}, 'type': 'time'}, 'datatype': 'time'}]}, 'qualifiers-order': ['P580', 'P582'], 'id': 'q126399$0ca76297-417c-1f87-69c8-0e331512397d', 'rank': 'normal'}, {'mainsnak': {'snaktype': 'value', 'property': 'P749', 'hash': '9edb9ae8c3d2e754d74dc606ac5fa0dd18eb3fc0', 'datavalue': {'value': {'entity-type': 'item', 'numeric-id': 191715, 'id': 'Q191715'}, 'type': 'wikibase-entityid'}, 'datatype': 'wikibase-item'}, 'type': 'statement', 'qualifiers': {'P580': [{'snaktype': 'value', 'property': 'P580', 'hash': 'cfc90cab2a766905403ae0ea5cbeb3e27c8fa4df', 'datavalue': {'value': {'time': '+2003-01-01T00:00:00Z', 'timezone': 0, 'before': 0, 'after': 0, 'precision': 9, 'calendarmodel': 'http://www.wikidata.org/entity/Q1985727'}, 'type': 'time'}, 'datatype': 'time'}], 'P582': [{'snaktype': 'value', 'property': 'P582', 'hash': 'a215f4d0a61d415e46c186842a6caee0aec2db75', 'datavalue': {'value': {'time': '+2022-00-00T00:00:00Z', 'timezone': 0, 'before': 0, 'after': 0, 'precision': 9, 'calendarmodel': 'http://www.wikidata.org/entity/Q1985727'}, 'type': 'time'}, 'datatype': 'time'}]}, 'qualifiers-order': ['P580', 'P582'], 'id': 'q126399$43b52db5-4d32-195a-1988-7d74b7ca8839', 'rank': 'preferred'}, {'mainsnak': {'snaktype': 'value', 'property': 'P749', 'hash': 'eddf2cfc03274711d447b0d067694a489d30cd7d', 'datavalue': {'value': {'entity-type': 'item', 'numeric-id': 61866945, 'id': 'Q61866945'}, 'type': 'wikibase-entityid'}, 'datatype': 'wikibase-item'}, 'type': 'statement', 'id': 'Q126399$38155c4f-4125-1b0f-c81d-cbc74748ef91', 'rank': 'normal'}, {'mainsnak': {'snaktype': 'value', 'property': 'P749', 'hash': '857293e9467e57481071b4ba27f8963609cfdbcd', 'datavalue': {'value': {'entity-type': 'item', 'numeric-id': 107074885, 'id': 'Q107074885'}, 'type': 'wikibase-entityid'}, 'datatype': 'wikibase-item'}, 'type': 'statement', 'qualifiers': {'P580': [{'snaktype': 'value', 'property': 'P580', 'hash': '79cd3430e6bfe195c57660a487ff8f30acddeca7', 'datavalue': {'value': {'time': '+2022-00-00T00:00:00Z', 'timezone': 0, 'before': 0, 'after': 0, 'precision': 9, 'calendarmodel': 'http://www.wikidata.org/entity/Q1985727'}, 'type': 'time'}, 'datatype': 'time'}]}, 'qualifiers-order': ['P580'], 'id': 'Q126399$74ea2069-44c0-45ed-481f-d0370753c6c4', 'rank': 'preferred'}], 'P856': [{'mainsnak': {'snaktype': 'value', 'property': 'P856', 'hash': '13bff0d1bdbdad68d5c8275e085611709f193610', 'datavalue': {'value': 'https://www.warnerbros.com/', 'type': 'string'}, 'datatype': 'url'}, 'type': 'statement', 'qualifiers': {'P407': [{'snaktype': 'value', 'property': 'P407', 'hash': 'daf1c4fcb58181b02dff9cc89deb084004ddae4b', 'datavalue': {'value': {'entity-type': 'item', 'numeric-id': 1860, 'id': 'Q1860'}, 'type': 'wikibase-entityid'}, 'datatype': 'wikibase-item'}]}, 'qualifiers-order': ['P407'], 'id': 'Q126399$EC43787D-6FCA-4A8F-B3A7-48D82429781B', 'rank': 'normal', 'references': [{'hash': 'fa278ebfc458360e5aed63d5058cca83c46134f1', 'snaks': {'P143': [{'snaktype': 'value', 'property': 'P143', 'hash': 'e4f6d9441d0600513c4533c672b5ab472dc73694', 'datavalue': {'value': {'entity-type': 'item', 'numeric-id': 328, 'id': 'Q328'}, 'type': 'wikibase-entityid'}, 'datatype': 'wikibase-item'}]}, 'snaks-order': ['P143']}]}], 'P966': [{'mainsnak': {'snaktype': 'value', 'property': 'P966', 'hash': '5a410c60edc5e486ba523fd95526e5860622a920', 'datavalue': {'value': '17669874-e801-4e05-ac31-dcbf425df55f', 'type': 'string'}, 'datatype': 'external-id'}, 'type': 'statement', 'qualifiers': {'P1810': [{'snaktype': 'value', 'property': 'P1810', 'hash': '22e92012ab3d71b9d639a7eb8a1e0693734901ce', 'datavalue': {'value': 'Warner Bros.', 'type': 'string'}, 'datatype': 'string'}]}, 'qualifiers-order': ['P1810'], 'id': 'Q126399$18681074-6568-4915-9A34-E8D410CC679E', 'rank': 'normal', 'references': [{'hash': 'af4dd191d1b439186371b2a23e2acee56a19be93', 'snaks': {'P813': [{'snaktype': 'value', 'property': 'P813', 'hash': 'cede5277e805875e7253e2ef18209edc3c757b88', 'datavalue': {'value': {'time': '+2018-09-08T00:00:00Z', 'timezone': 0, 'before': 0, 'after': 0, 'precision': 11, 'calendarmodel': 'http://www.wikidata.org/entity/Q1985727'}, 'type': 'time'}, 'datatype': 'time'}]}, 'snaks-order': ['P813']}]}, {'mainsnak': {'snaktype': 'value', 'property': 'P966', 'hash': 'a86b2d6be41d8627fe5692f0c9902b3d233e36d9', 'datavalue': {'value': 'b48c1f5c-cf18-485a-ad54-1da5927dbc92', 'type': 'string'}, 'datatype': 'external-id'}, 'type': 'statement', 'qualifiers': {'P1810': [{'snaktype': 'value', 'property': 'P1810', 'hash': 'dc2c9f2fb7b0ca8f9ba805766504733ed389bf1f', 'datavalue': {'value': 'Warner Bros. Entertainment Inc.', 'type': 'string'}, 'datatype': 'string'}]}, 'qualifiers-order': ['P1810'], 'id': 'Q126399$c1199c45-40ef-b6cf-33cd-19668392db14', 'rank': 'normal', 'references': [{'hash': '0c22eedc9b72aef2a17da4342fdef3f9567eac89', 'snaks': {'P248': [{'snaktype': 'value', 'property': 'P248', 'hash': '623cc8f0e2f65afe4d66b91962d354a2f3aa9a27', 'datavalue': {'value': {'entity-type': 'item', 'numeric-id': 14005, 'id': 'Q14005'}, 'type': 'wikibase-entityid'}, 'datatype': 'wikibase-item'}], 'P813': [{'snaktype': 'value', 'property': 'P813', 'hash': '59daa09af3a0cf7e00ed7e3de62e5b099e92a718', 'datavalue': {'value': {'time': '+2022-03-29T00:00:00Z', 'timezone': 0, 'before': 0, 'after': 0, 'precision': 11, 'calendarmodel': 'http://www.wikidata.org/entity/Q1985727'}, 'type': 'time'}, 'datatype': 'time'}]}, 'snaks-order': ['P248', 'P813']}]}, {'mainsnak': {'snaktype': 'value', 'property': 'P966', 'hash': '3459adbdcc9f3496d659b06abf16b571e8aac21c', 'datavalue': {'value': 'a9894959-d301-4d8f-b3ce-74449f8186a7', 'type': 'string'}, 'datatype': 'external-id'}, 'type': 'statement', 'id': 'Q126399$912caa02-8c21-4fba-a51a-e99d04402ce0', 'rank': 'normal', 'references': [{'hash': 'd82214a3008a473cf25476b79c323535be6a99e9', 'snaks': {'P248': [{'snaktype': 'value', 'property': 'P248', 'hash': '623cc8f0e2f65afe4d66b91962d354a2f3aa9a27', 'datavalue': {'value': {'entity-type': 'item', 'numeric-id': 14005, 'id': 'Q14005'}, 'type': 'wikibase-entityid'}, 'datatype': 'wikibase-item'}], 'P813': [{'snaktype': 'value', 'property': 'P813', 'hash': 'f2245dc41aabfbdaedd88242c80199d198151390', 'datavalue': {'value': {'time': '+2022-05-11T00:00:00Z', 'timezone': 0, 'before': 0, 'after': 0, 'precision': 11, 'calendarmodel': 'http://www.wikidata.org/entity/Q1985727'}, 'type': 'time'}, 'datatype': 'time'}]}, 'snaks-order': ['P248', 'P813']}]}], 'P646': [{'mainsnak': {'snaktype': 'value', 'property': 'P646', 'hash': '154e997c17f33b942e6a8794e480d43ce97654a7', 'datavalue': {'value': '/m/086k8', 'type': 'string'}, 'datatype': 'external-id'}, 'type': 'statement', 'id': 'Q126399$98675CFF-EABD-4965-BCCC-97EA6A197D27', 'rank': 'normal', 'references': [{'hash': '2b00cb481cddcac7623114367489b5c194901c4a', 'snaks': {'P248': [{'snaktype': 'value', 'property': 'P248', 'hash': 'a94b740202b097dd33355e0e6c00e54b9395e5e0', 'datavalue': {'value': {'entity-type': 'item', 'numeric-id': 15241312, 'id': 'Q15241312'}, 'type': 'wikibase-entityid'}, 'datatype': 'wikibase-item'}], 'P577': [{'snaktype': 'value', 'property': 'P577', 'hash': 'fde79ecb015112d2f29229ccc1ec514ed3e71fa2', 'datavalue': {'value': {'time': '+2013-10-28T00:00:00Z', 'timezone': 0, 'before': 0, 'after': 0, 'precision': 11, 'calendarmodel': 'http://www.wikidata.org/entity/Q1985727'}, 'type': 'time'}, 'datatype': 'time'}]}, 'snaks-order': ['P248', 'P577']}]}], 'P159': [{'mainsnak': {'snaktype': 'value', 'property': 'P159', 'hash': '4852fa901c04bceae2abd23d72c5197cbcbc1803', 'datavalue': {'value': {'entity-type': 'item', 'numeric-id': 39561, 'id': 'Q39561'}, 'type': 'wikibase-entityid'}, 'datatype': 'wikibase-item'}, 'type': 'statement', 'qualifiers': {'P625': [{'snaktype': 'value', 'property': 'P625', 'hash': 'b3ecb5483393ca5261f536a2e7fd6484690d8534', 'datavalue': {'value': {'latitude': 34.1496, 'longitude': -118.342, 'altitude': None, 'precision': 0.0001, 'globe': 'http://www.wikidata.org/entity/Q2'}, 'type': 'globecoordinate'}, 'datatype': 'globe-coordinate'}], 'P281': [{'snaktype': 'value', 'property': 'P281', 'hash': 'd0fcbd7578ac40d72bb537ac64df80fc9a5e11de', 'datavalue': {'value': '91522', 'type': 'string'}, 'datatype': 'string'}], 'P6375': [{'snaktype': 'value', 'property': 'P6375', 'hash': 'c816338439410163558920008a1da9c5cc03562d', 'datavalue': {'value': {'text': '4000 Warner Blvd', 'language': 'en'}, 'type': 'monolingualtext'}, 'datatype': 'monolingualtext'}]}, 'qualifiers-order': ['P625', 'P281', 'P6375'], 'id': 'Q126399$0E5E9C2C-1783-4E9E-BBBC-BEB545F2BD20', 'rank': 'normal'}], 'P910': [{'mainsnak': {'snaktype': 'value', 'property': 'P910', 'hash': '22f6e203be93e2903b7890bf8bc1108bfd4b47e0', 'datavalue': {'value': {'entity-type': 'item', 'numeric-id': 9113376, 'id': 'Q9113376'}, 'type': 'wikibase-entityid'}, 'datatype': 'wikibase-item'}, 'type': 'statement', 'id': 'Q126399$BF4E026B-0719-462E-BBF7-E39C0B37A020', 'rank': 'normal', 'references': [{'hash': 'fa278ebfc458360e5aed63d5058cca83c46134f1', 'snaks': {'P143': [{'snaktype': 'value', 'property': 'P143', 'hash': 'e4f6d9441d0600513c4533c672b5ab472dc73694', 'datavalue': {'value': {'entity-type': 'item', 'numeric-id': 328, 'id': 'Q328'}, 'type': 'wikibase-entityid'}, 'datatype': 'wikibase-item'}]}, 'snaks-order': ['P143']}]}], 'P155': [{'mainsnak': {'snaktype': 'value', 'property': 'P155', 'hash': '509ba05e17a23ed6186d57cf674d05f11f29bc1a', 'datavalue': {'value': {'entity-type': 'item', 'numeric-id': 3471130, 'id': 'Q3471130'}, 'type': 'wikibase-entityid'}, 'datatype': 'wikibase-item'}, 'type': 'statement', 'id': 'Q126399$9F3B314B-7E51-4AF0-B096-24E775EB914F', 'rank': 'normal'}], 'P1711': [{'mainsnak': {'snaktype': 'value', 'property': 'P1711', 'hash': 'e20949ce8b45e06c87e5477e1a78b2a43439ff92', 'datavalue': {'value': '100632', 'type': 'string'}, 'datatype': 'external-id'}, 'type': 'statement', 'id': 'Q126399$6C8B8C1F-D692-40CF-B788-24CDA173C737', 'rank': 'normal'}], 'P1766': [{'mainsnak': {'snaktype': 'value', 'property': 'P1766', 'hash': 'c5381abc07f650b5e4b321e4e3f1047644af10bb', 'datavalue': {'value': 'Warner Bros.jpg', 'type': 'string'}, 'datatype': 'commonsMedia'}, 'type': 'statement', 'id': 'Q126399$88F2D675-075E-4A44-A27C-4D51DB464476', 'rank': 'normal'}], 'P18': [{'mainsnak': {'snaktype': 'value', 'property': 'P18', 'hash': '0980bbbfea90a1db50bd8b1f5403feca012515fc', 'datavalue': {'value': 'Water tower WB.jpg', 'type': 'string'}, 'datatype': 'commonsMedia'}, 'type': 'statement', 'id': 'Q126399$5F1262BB-31FF-45E0-9EC7-33593CFFFBE7', 'rank': 'normal'}], 'P214': [{'mainsnak': {'snaktype': 'value', 'property': 'P214', 'hash': '0b6d39a09c04aea6308d29a1769196d7bf7fc4d5', 'datavalue': {'value': '146783345', 'type': 'string'}, 'datatype': 'external-id'}, 'type': 'statement', 'id': 'Q126399$5C963942-29D5-4681-BB15-50EFD8E3C2E7', 'rank': 'normal', 'references': [{'hash': '94cd09bdd3373d7b8eb4e3cc26e524afe7466ff7', 'snaks': {'P248': [{'snaktype': 'value', 'property': 'P248', 'hash': '6b7d4330c4aac4caec4ede9de0311ce273f88ecd', 'datavalue': {'value': {'entity-type': 'item', 'numeric-id': 54919, 'id': 'Q54919'}, 'type': 'wikibase-entityid'}, 'datatype': 'wikibase-item'}], 'P813': [{'snaktype': 'value', 'property': 'P813', 'hash': 'bf4494cf3e2345d75aa355a5847a72d38ca6c55d', 'datavalue': {'value': {'time': '+2015-08-02T00:00:00Z', 'timezone': 0, 'before': 0, 'after': 0, 'precision': 11, 'calendarmodel': 'http://www.wikidata.org/entity/Q1985727'}, 'type': 'time'}, 'datatype': 'time'}]}, 'snaks-order': ['P248', 'P813']}]}], 'P571': [{'mainsnak': {'snaktype': 'value', 'property': 'P571', 'hash': '2582c8774c8cf3d46a9b1ace1f4c08e9c8501d64', 'datavalue': {'value': {'time': '+1923-04-04T00:00:00Z', 'timezone': 0, 'before': 0, 'after': 0, 'precision': 11, 'calendarmodel': 'http://www.wikidata.org/entity/Q1985727'}, 'type': 'time'}, 'datatype': 'time'}, 'type': 'statement', 'id': 'Q126399$89874A2B-5A56-4044-BECD-3FE14F282E61', 'rank': 'normal', 'references': [{'hash': '9a24f7c0208b05d6be97077d855671d1dfdbc0dd', 'snaks': {'P143': [{'snaktype': 'value', 'property': 'P143', 'hash': 'd38375ffe6fe142663ff55cd783aa4df4301d83d', 'datavalue': {'value': {'entity-type': 'item', 'numeric-id': 48183, 'id': 'Q48183'}, 'type': 'wikibase-entityid'}, 'datatype': 'wikibase-item'}]}, 'snaks-order': ['P143']}]}], 'P2002': [{'mainsnak': {'snaktype': 'value', 'property': 'P2002', 'hash': 'e267d835016edd3c3dccda21037a8954416f858a', 'datavalue': {'value': 'WarnerBrosEnt', 'type': 'string'}, 'datatype': 'external-id'}, 'type': 'statement', 'qualifiers': {'P3744': [{'snaktype': 'value', 'property': 'P3744', 'hash': '80f4c3175d5f8d5dd6311a349ec6e6d601664d69', 'datavalue': {'value': {'amount': '+1970231', 'unit': '1'}, 'type': 'quantity'}, 'datatype': 'quantity'}], 'P6552': [{'snaktype': 'value', 'property': 'P6552', 'hash': '4e1f196bc117cdf906c9689ded2c71235078e3f3', 'datavalue': {'value': '1123786583331803136', 'type': 'string'}, 'datatype': 'external-id'}], 'P580': [{'snaktype': 'value', 'property': 'P580', 'hash': '54f10bb02721a70fb312e0468a611e7835cfe2e8', 'datavalue': {'value': {'time': '+2019-05-02T00:00:00Z', 'timezone': 0, 'before': 0, 'after': 0, 'precision': 11, 'calendarmodel': 'http://www.wikidata.org/entity/Q1985727'}, 'type': 'time'}, 'datatype': 'time'}], 'P582': [{'snaktype': 'value', 'property': 'P582', 'hash': 'eebf890220f61635cf5ea4e2302e90d3241ddc75', 'datavalue': {'value': {'time': '+2019-05-02T00:00:00Z', 'timezone': 0, 'before': 0, 'after': 0, 'precision': 11, 'calendarmodel': 'http://www.wikidata.org/entity/Q1985727'}, 'type': 'time'}, 'datatype': 'time'}]}, 'qualifiers-order': ['P3744', 'P6552', 'P580', 'P582'], 'id': 'Q126399$37F296D8-A958-4D06-8EF5-0B04D37CC61C', 'rank': 'normal', 'references': [{'hash': 'a29a646602abf65105ed0f39a44231c962ece9ee', 'snaks': {'P143': [{'snaktype': 'value', 'property': 'P143', 'hash': 'c6f1777471211df31724ac60175786f3872c83e9', 'datavalue': {'value': {'entity-type': 'item', 'numeric-id': 177837, 'id': 'Q177837'}, 'type': 'wikibase-entityid'}, 'datatype': 'wikibase-item'}]}, 'snaks-order': ['P143']}, {'hash': '830e0d3d65e6b91e769889d7d1177706b5c1e0ca', 'snaks': {'P813': [{'snaktype': 'value', 'property': 'P813', 'hash': 'cd8210fc3215a6112ebad72d11663d1a56b14d67', 'datavalue': {'value': {'time': '+2018-05-10T00:00:00Z', 'timezone': 0, 'before': 0, 'after': 0, 'precision': 11, 'calendarmodel': 'http://www.wikidata.org/entity/Q1985727'}, 'type': 'time'}, 'datatype': 'time'}]}, 'snaks-order': ['P813']}, {'hash': '8dd4ad2adbcb64dce6ec1465726e37174096f189', 'snaks': {'P854': [{'snaktype': 'value', 'property': 'P854', 'hash': '3b81d3d50c92a9cb181defefd9f70f2487573234', 'datavalue': {'value': 'http://www.twitterjoindate.com/search?utf8=%E2%9C%93&name=WarnerBrosEnt&commit=Search', 'type': 'string'}, 'datatype': 'url'}], 'P813': [{'snaktype': 'value', 'property': 'P813', 'hash': 'ea4f2e3cd3c400565520e87f93b74b2158d99221', 'datavalue': {'value': {'time': '+2022-03-30T00:00:00Z', 'timezone': 0, 'before': 0, 'after': 0, 'precision': 11, 'calendarmodel': 'http://www.wikidata.org/entity/Q1985727'}, 'type': 'time'}, 'datatype': 'time'}]}, 'snaks-order': ['P854', 'P813']}, {'hash': '7218b29732091c66be68165ceff56ef5ad1873c2', 'snaks': {'P248': [{'snaktype': 'value', 'property': 'P248', 'hash': '6907ba2d586b11358b2dd25031aba4b505e9f63d', 'datavalue': {'value': {'entity-type': 'item', 'numeric-id': 918, 'id': 'Q918'}, 'type': 'wikibase-entityid'}, 'datatype': 'wikibase-item'}], 'P5933': [{'snaktype': 'value', 'property': 'P5933', 'hash': '03116cac6597f263a60fb0c814d09c338c1a67ba', 'datavalue': {'value': '1124023437557678090', 'type': 'string'}, 'datatype': 'external-id'}], 'P813': [{'snaktype': 'value', 'property': 'P813', 'hash': 'ea4f2e3cd3c400565520e87f93b74b2158d99221', 'datavalue': {'value': {'time': '+2022-03-30T00:00:00Z', 'timezone': 0, 'before': 0, 'after': 0, 'precision': 11, 'calendarmodel': 'http://www.wikidata.org/entity/Q1985727'}, 'type': 'time'}, 'datatype': 'time'}]}, 'snaks-order': ['P248', 'P5933', 'P813']}, {'hash': 'cf9f0bc2d4651c2659bedcfcceedd0ec1c99f4e7', 'snaks': {'P1065': [{'snaktype': 'value', 'property': 'P1065', 'hash': '53a8295b1c009633166f3dfe441c99c55c233599', 'datavalue': {'value': 'https://web.archive.org/web/20190502085218/https://twitter.com/WarnerBrosEnt', 'type': 'string'}, 'datatype': 'url'}], 'P2960': [{'snaktype': 'value', 'property': 'P2960', 'hash': '3f737f6c92755cf1bcc11787d7e8e9b1c4550e3a', 'datavalue': {'value': {'time': '+2019-05-02T00:00:00Z', 'timezone': 0, 'before': 0, 'after': 0, 'precision': 11, 'calendarmodel': 'http://www.wikidata.org/entity/Q1985727'}, 'type': 'time'}, 'datatype': 'time'}]}, 'snaks-order': ['P1065', 'P2960']}, {'hash': 'cea77243ca7243ab001694507f2d9039ef35c25b', 'snaks': {'P1065': [{'snaktype': 'value', 'property': 'P1065', 'hash': '1909eec76bf70a137430e50236b207f8af4ce557', 'datavalue': {'value': 'https://web.archive.org/web/20190429012613/https://twitter.com/WarnerBrosEnt', 'type': 'string'}, 'datatype': 'url'}], 'P2960': [{'snaktype': 'value', 'property': 'P2960', 'hash': 'e43a703a9aa6077504631050066a921334cc9976', 'datavalue': {'value': {'time': '+2019-04-29T00:00:00Z', 'timezone': 0, 'before': 0, 'after': 0, 'precision': 11, 'calendarmodel': 'http://www.wikidata.org/entity/Q1985727'}, 'type': 'time'}, 'datatype': 'time'}]}, 'snaks-order': ['P1065', 'P2960']}]}, {'mainsnak': {'snaktype': 'value', 'property': 'P2002', 'hash': '7627a4826b827f4736606c0ec4b40abe9793d820', 'datavalue': {'value': 'WBPictures_Mx', 'type': 'string'}, 'datatype': 'external-id'}, 'type': 'statement', 'qualifiers': {'P1001': [{'snaktype': 'value', 'property': 'P1001', 'hash': '4976997f1aea233edcb3b4e11ebd631307dfba27', 'datavalue': {'value': {'entity-type': 'item', 'numeric-id': 96, 'id': 'Q96'}, 'type': 'wikibase-entityid'}, 'datatype': 'wikibase-item'}], 'P6552': [{'snaktype': 'value', 'property': 'P6552', 'hash': '3ddf972a1a018b473ec520ff7753f043c5009c09', 'datavalue': {'value': '263246080', 'type': 'string'}, 'datatype': 'external-id'}], 'P3744': [{'snaktype': 'value', 'property': 'P3744', 'hash': 'ff5da392e6a6aefd8e7e525bc8ca3ce5f61c4f5f', 'datavalue': {'value': {'amount': '+1649719', 'unit': '1'}, 'type': 'quantity'}, 'datatype': 'quantity'}], 'P580': [{'snaktype': 'value', 'property': 'P580', 'hash': 'c48d9220debf962ff8864aee02d3c1b9c1cdb742', 'datavalue': {'value': {'time': '+2011-03-09T00:00:00Z', 'timezone': 0, 'before': 0, 'after': 0, 'precision': 11, 'calendarmodel': 'http://www.wikidata.org/entity/Q1985727'}, 'type': 'time'}, 'datatype': 'time'}], 'P585': [{'snaktype': 'value', 'property': 'P585', 'hash': '3bd5fb4ab8f748bfaa7a0becb2a0929e439dbba8', 'datavalue': {'value': {'time': '+2020-04-27T00:00:00Z', 'timezone': 0, 'before': 0, 'after': 0, 'precision': 11, 'calendarmodel': 'http://www.wikidata.org/entity/Q1985727'}, 'type': 'time'}, 'datatype': 'time'}], 'P1552': [{'snaktype': 'value', 'property': 'P1552', 'hash': '62f0039d240f7eeba6c6908a0d8807a6188324a1', 'datavalue': {'value': {'entity-type': 'item', 'numeric-id': 28378282, 'id': 'Q28378282'}, 'type': 'wikibase-entityid'}, 'datatype': 'wikibase-item'}]}, 'qualifiers-order': ['P1001', 'P6552', 'P3744', 'P580', 'P585', 'P1552'], 'id': 'Q126399$f31502b6-4164-3dcb-a59a-052fb40d0e01', 'rank': 'normal'}, {'mainsnak': {'snaktype': 'value', 'property': 'P2002', 'hash': 'a0f204f6286fceb4a40dfd1e4e18c5774f432522', 'datavalue': {'value': 'warnerbros', 'type': 'string'}, 'datatype': 'external-id'}, 'type': 'statement', 'qualifiers': {'P6552': [{'snaktype': 'value', 'property': 'P6552', 'hash': '0d4de23f3317a128fe5c9de5f820b1c8585f2ece', 'datavalue': {'value': '23560015', 'type': 'string'}, 'datatype': 'external-id'}], 'P1552': [{'snaktype': 'value', 'property': 'P1552', 'hash': '62f0039d240f7eeba6c6908a0d8807a6188324a1', 'datavalue': {'value': {'entity-type': 'item', 'numeric-id': 28378282, 'id': 'Q28378282'}, 'type': 'wikibase-entityid'}, 'datatype': 'wikibase-item'}], 'P3744': [{'snaktype': 'value', 'property': 'P3744', 'hash': 'b91ef51a1866db1337c59d27ea8903aee07018ca', 'datavalue': {'value': {'amount': '+2172125', 'unit': '1'}, 'type': 'quantity'}, 'datatype': 'quantity'}], 'P580': [{'snaktype': 'value', 'property': 'P580', 'hash': '11e72d28d5356f802630c443be71348d123993d4', 'datavalue': {'value': {'time': '+2009-03-09T00:00:00Z', 'timezone': 0, 'before': 0, 'after': 0, 'precision': 11, 'calendarmodel': 'http://www.wikidata.org/entity/Q1985727'}, 'type': 'time'}, 'datatype': 'time'}], 'P585': [{'snaktype': 'value', 'property': 'P585', 'hash': 'f4da88e58bb9b446848b3eed88e75b74e12d6336', 'datavalue': {'value': {'time': '+2020-04-24T00:00:00Z', 'timezone': 0, 'before': 0, 'after': 0, 'precision': 11, 'calendarmodel': 'http://www.wikidata.org/entity/Q1985727'}, 'type': 'time'}, 'datatype': 'time'}]}, 'qualifiers-order': ['P6552', 'P1552', 'P3744', 'P580', 'P585'], 'id': 'Q126399$85560d6e-4489-484b-2917-cbf0087caa1d', 'rank': 'normal'}], 'P345': [{'mainsnak': {'snaktype': 'value', 'property': 'P345', 'hash': '81221497198a98c6e98b4eaee1c1ff0b66490148', 'datavalue': {'value': 'co0026840', 'type': 'string'}, 'datatype': 'external-id'}, 'type': 'statement', 'qualifiers': {'P2241': [{'snaktype': 'value', 'property': 'P2241', 'hash': '4fbc764998cf655c7e355bbdeec7b13c9ad8b8c3', 'datavalue': {'value': {'entity-type': 'item', 'numeric-id': 54976355, 'id': 'Q54976355'}, 'type': 'wikibase-entityid'}, 'datatype': 'wikibase-item'}]}, 'qualifiers-order': ['P2241'], 'id': 'Q126399$3c0d7fcb-47bb-893a-f4f7-f1e2fe809d8b', 'rank': 'deprecated', 'references': [{'hash': '9a24f7c0208b05d6be97077d855671d1dfdbc0dd', 'snaks': {'P143': [{'snaktype': 'value', 'property': 'P143', 'hash': 'd38375ffe6fe142663ff55cd783aa4df4301d83d', 'datavalue': {'value': {'entity-type': 'item', 'numeric-id': 48183, 'id': 'Q48183'}, 'type': 'wikibase-entityid'}, 'datatype': 'wikibase-item'}]}, 'snaks-order': ['P143']}]}, {'mainsnak': {'snaktype': 'value', 'property': 'P345', 'hash': '23fda3ffa2224d5f4b3528295fb14ee573303e45', 'datavalue': {'value': 'co0030761', 'type': 'string'}, 'datatype': 'external-id'}, 'type': 'statement', 'qualifiers': {'P2241': [{'snaktype': 'value', 'property': 'P2241', 'hash': '4fbc764998cf655c7e355bbdeec7b13c9ad8b8c3', 'datavalue': {'value': {'entity-type': 'item', 'numeric-id': 54976355, 'id': 'Q54976355'}, 'type': 'wikibase-entityid'}, 'datatype': 'wikibase-item'}]}, 'qualifiers-order': ['P2241'], 'id': 'Q126399$121A3DA1-43A1-4800-A152-3D1A77BF9501', 'rank': 'deprecated'}], 'P2531': [{'mainsnak': {'snaktype': 'value', 'property': 'P2531', 'hash': '07e89194cbffb8139e6caf6bb7212ec144dd0692', 'datavalue': {'value': 'warnerbros', 'type': 'string'}, 'datatype': 'external-id'}, 'type': 'statement', 'qualifiers': {'P1810': [{'snaktype': 'value', 'property': 'P1810', 'hash': '10fd7668f7ec64ef0a4285063ec3e4b12d9225ae', 'datavalue': {'value': 'WARNER BROS.', 'type': 'string'}, 'datatype': 'string'}]}, 'qualifiers-order': ['P1810'], 'id': 'Q126399$6b2ca564-4a69-2419-1172-972438662e7b', 'rank': 'normal', 'references': [{'hash': '55d7271b6186224ea520bdb5cdf1ffb51c7caf31', 'snaks': {'P1065': [{'snaktype': 'value', 'property': 'P1065', 'hash': 'b30afc31e59b8636a085840b316b93841dd62af5', 'datavalue': {'value': 'https://web.archive.org/web/20190108151754/https://www.boxofficemojo.com/studio/chart/?studio=warnerbros.htm', 'type': 'string'}, 'datatype': 'url'}], 'P2960': [{'snaktype': 'value', 'property': 'P2960', 'hash': 'fdccb14c56b067a654970390a3351340ba2d341d', 'datavalue': {'value': {'time': '+2019-01-08T00:00:00Z', 'timezone': 0, 'before': 0, 'after': 0, 'precision': 11, 'calendarmodel': 'http://www.wikidata.org/entity/Q1985727'}, 'type': 'time'}, 'datatype': 'time'}]}, 'snaks-order': ['P1065', 'P2960']}]}, {'mainsnak': {'snaktype': 'value', 'property': 'P2531', 'hash': '9c402005e838a38426377559d95548b6bc557085', 'datavalue': {'value': 'wb-newline', 'type': 'string'}, 'datatype': 'external-id'}, 'type': 'statement', 'qualifiers': {'P1810': [{'snaktype': 'value', 'property': 'P1810', 'hash': '10fd7668f7ec64ef0a4285063ec3e4b12d9225ae', 'datavalue': {'value': 'WARNER BROS.', 'type': 'string'}, 'datatype': 'string'}]}, 'qualifiers-order': ['P1810'], 'id': 'Q126399$BB27C26E-42EC-4629-9A53-F73AB360231F', 'rank': 'normal', 'references': [{'hash': '325982a65a6b8d85b30e81e6a969905ff50c181f', 'snaks': {'P1065': [{'snaktype': 'value', 'property': 'P1065', 'hash': '1b47b3ea6f452d6236068e991ca3f3a2bce2770e', 'datavalue': {'value': 'https://web.archive.org/web/20181116205911/http://www.boxofficemojo.com/studio/chart/?studio=wb-newline.htm', 'type': 'string'}, 'datatype': 'url'}], 'P2960': [{'snaktype': 'value', 'property': 'P2960', 'hash': '28334a6d73c138faac08b0ba3d354fdea1884b7a', 'datavalue': {'value': {'time': '+2018-11-16T00:00:00Z', 'timezone': 0, 'before': 0, 'after': 0, 'precision': 11, 'calendarmodel': 'http://www.wikidata.org/entity/Q1985727'}, 'type': 'time'}, 'datatype': 'time'}]}, 'snaks-order': ['P1065', 'P2960']}]}], 'P740': [{'mainsnak': {'snaktype': 'value', 'property': 'P740', 'hash': '8bd1a99b57981dd844d5f6dd873e5816555a3fd1', 'datavalue': {'value': {'entity-type': 'item', 'numeric-id': 65, 'id': 'Q65'}, 'type': 'wikibase-entityid'}, 'datatype': 'wikibase-item'}, 'type': 'statement', 'id': 'Q126399$89A1F500-73A0-4FEE-9AB3-C14A4A7133A8', 'rank': 'normal', 'references': [{'hash': 'd5847b9b6032aa8b13dae3c2dfd9ed5d114d21b3', 'snaks': {'P143': [{'snaktype': 'value', 'property': 'P143', 'hash': '5a343e7e758a4282a01316d3e959b6e653b767fc', 'datavalue': {'value': {'entity-type': 'item', 'numeric-id': 11920, 'id': 'Q11920'}, 'type': 'wikibase-entityid'}, 'datatype': 'wikibase-item'}]}, 'snaks-order': ['P143']}]}], 'P154': [{'mainsnak': {'snaktype': 'value', 'property': 'P154', 'hash': 'd1b0e46ca74f92857298cca288b42a2257f0c95f', 'datavalue': {'value': 'Warner Bros. (2019) logo.svg', 'type': 'string'}, 'datatype': 'commonsMedia'}, 'type': 'statement', 'qualifiers': {'P407': [{'snaktype': 'value', 'property': 'P407', 'hash': 'daf1c4fcb58181b02dff9cc89deb084004ddae4b', 'datavalue': {'value': {'entity-type': 'item', 'numeric-id': 1860, 'id': 'Q1860'}, 'type': 'wikibase-entityid'}, 'datatype': 'wikibase-item'}], 'P580': [{'snaktype': 'value', 'property': 'P580', 'hash': '66d16d15afb9a5d83257061455cc790eddf2b9df', 'datavalue': {'value': {'time': '+2019-00-00T00:00:00Z', 'timezone': 0, 'before': 0, 'after': 0, 'precision': 9, 'calendarmodel': 'http://www.wikidata.org/entity/Q1985727'}, 'type': 'time'}, 'datatype': 'time'}]}, 'qualifiers-order': ['P407', 'P580'], 'id': 'Q126399$47312119-71F0-4023-A2F1-22C35EEDAF2D', 'rank': 'preferred', 'references': [{'hash': 'd5847b9b6032aa8b13dae3c2dfd9ed5d114d21b3', 'snaks': {'P143': [{'snaktype': 'value', 'property': 'P143', 'hash': '5a343e7e758a4282a01316d3e959b6e653b767fc', 'datavalue': {'value': {'entity-type': 'item', 'numeric-id': 11920, 'id': 'Q11920'}, 'type': 'wikibase-entityid'}, 'datatype': 'wikibase-item'}]}, 'snaks-order': ['P143']}]}, {'mainsnak': {'snaktype': 'value', 'property': 'P154', 'hash': '322acb0adb8def481b65ae198c5f3dac60ee708d', 'datavalue': {'value': 'Warner Bros logo.svg', 'type': 'string'}, 'datatype': 'commonsMedia'}, 'type': 'statement', 'id': 'Q126399$4b738a05-4df4-45b2-1330-3b55b8881e9d', 'rank': 'normal'}], 'P452': [{'mainsnak': {'snaktype': 'value', 'property': 'P452', 'hash': 'eab6a338d0d29c95fb358265e358ace41f8e603a', 'datavalue': {'value': {'entity-type': 'item', 'numeric-id': 932586, 'id': 'Q932586'}, 'type': 'wikibase-entityid'}, 'datatype': 'wikibase-item'}, 'type': 'statement', 'id': 'Q126399$95762DE2-EC6D-43AE-8028-726572D70FBE', 'rank': 'normal', 'references': [{'hash': '9424852ca7d9d48269148c57acbefacca1899882', 'snaks': {'P143': [{'snaktype': 'value', 'property': 'P143', 'hash': 'b7f8bea3bb10c237323eb448dc4798948923bd5c', 'datavalue': {'value': {'entity-type': 'item', 'numeric-id': 11921, 'id': 'Q11921'}, 'type': 'wikibase-entityid'}, 'datatype': 'wikibase-item'}]}, 'snaks-order': ['P143']}]}, {'mainsnak': {'snaktype': 'value', 'property': 'P452', 'hash': '8cba112ebd626f0ef7d71e827ddf4dc3efa54bf9', 'datavalue': {'value': {'entity-type': 'item', 'numeric-id': 941594, 'id': 'Q941594'}, 'type': 'wikibase-entityid'}, 'datatype': 'wikibase-item'}, 'type': 'statement', 'id': 'Q126399$61ca2bef-4c82-7d1a-df77-9cae221ac0bb', 'rank': 'normal', 'references': [{'hash': 'c4c22891882c7ec7e8c176d59895fe7e1fbf5335', 'snaks': {'P854': [{'snaktype': 'value', 'property': 'P854', 'hash': 'cdb262fbe3685cb1e4fd5b05ab40d49805368c7c', 'datavalue': {'value': 'https://www.warnerbros.com/company/divisions/home-entertainment#warner-bros-interactive-entertainment', 'type': 'string'}, 'datatype': 'url'}]}, 'snaks-order': ['P854']}]}], 'P3221': [{'mainsnak': {'snaktype': 'value', 'property': 'P3221', 'hash': '64272a222b4b7d76791a79cac56be3156244613a', 'datavalue': {'value': 'company/warner-bros-entertainment-inc', 'type': 'string'}, 'datatype': 'external-id'}, 'type': 'statement', 'id': 'Q126399$3A312372-9922-4632-B935-64309C08948B', 'rank': 'normal'}], 'P2013': [{'mainsnak': {'snaktype': 'value', 'property': 'P2013', 'hash': 'b9eaa18f93972ffb10992494120bdfa522eb239f', 'datavalue': {'value': 'warnertvseries', 'type': 'string'}, 'datatype': 'external-id'}, 'type': 'statement', 'qualifiers': {'P580': [{'snaktype': 'value', 'property': 'P580', 'hash': 'efae16d45c668c31c57bb327a200e7243b9e5ec3', 'datavalue': {'value': {'time': '+2012-05-08T00:00:00Z', 'timezone': 0, 'before': 0, 'after': 0, 'precision': 11, 'calendarmodel': 'http://www.wikidata.org/entity/Q1985727'}, 'type': 'time'}, 'datatype': 'time'}], 'P1552': [{'snaktype': 'value', 'property': 'P1552', 'hash': '62f0039d240f7eeba6c6908a0d8807a6188324a1', 'datavalue': {'value': {'entity-type': 'item', 'numeric-id': 28378282, 'id': 'Q28378282'}, 'type': 'wikibase-entityid'}, 'datatype': 'wikibase-item'}], 'P1001': [{'snaktype': 'value', 'property': 'P1001', 'hash': '0a6b08c61d042b6f396571e538f2537642aa7994', 'datavalue': {'value': {'entity-type': 'item', 'numeric-id': 17, 'id': 'Q17'}, 'type': 'wikibase-entityid'}, 'datatype': 'wikibase-item'}]}, 'qualifiers-order': ['P580', 'P1552', 'P1001'], 'id': 'Q126399$77C279EC-02AE-4A5A-A308-07CDD6BD5834', 'rank': 'normal', 'references': [{'hash': 'a29a646602abf65105ed0f39a44231c962ece9ee', 'snaks': {'P143': [{'snaktype': 'value', 'property': 'P143', 'hash': 'c6f1777471211df31724ac60175786f3872c83e9', 'datavalue': {'value': {'entity-type': 'item', 'numeric-id': 177837, 'id': 'Q177837'}, 'type': 'wikibase-entityid'}, 'datatype': 'wikibase-item'}]}, 'snaks-order': ['P143']}]}, {'mainsnak': {'snaktype': 'value', 'property': 'P2013', 'hash': '326dda889c9d1173bab40f3bf38dffb1fc9cf4b9', 'datavalue': {'value': 'warnerbrosent', 'type': 'string'}, 'datatype': 'external-id'}, 'type': 'statement', 'qualifiers': {'P580': [{'snaktype': 'value', 'property': 'P580', 'hash': '8e90188464fdbd1f093759b10fbeb1ea1fa95b1f', 'datavalue': {'value': {'time': '+2008-01-25T00:00:00Z', 'timezone': 0, 'before': 0, 'after': 0, 'precision': 11, 'calendarmodel': 'http://www.wikidata.org/entity/Q1985727'}, 'type': 'time'}, 'datatype': 'time'}], 'P1552': [{'snaktype': 'value', 'property': 'P1552', 'hash': '62f0039d240f7eeba6c6908a0d8807a6188324a1', 'datavalue': {'value': {'entity-type': 'item', 'numeric-id': 28378282, 'id': 'Q28378282'}, 'type': 'wikibase-entityid'}, 'datatype': 'wikibase-item'}], 'P1001': [{'snaktype': 'value', 'property': 'P1001', 'hash': 'fd03a46bac885aad8c96834e86183c078494dce6', 'datavalue': {'value': {'entity-type': 'item', 'numeric-id': 30, 'id': 'Q30'}, 'type': 'wikibase-entityid'}, 'datatype': 'wikibase-item'}]}, 'qualifiers-order': ['P580', 'P1552', 'P1001'], 'id': 'Q126399$55cf1f54-4fca-cc23-273c-012bf9a19f71', 'rank': 'normal', 'references': [{'hash': '34b10f4b64eb43d30ba2df0ae74669a143e668a2', 'snaks': {'P248': [{'snaktype': 'value', 'property': 'P248', 'hash': '17a1ade096ec6676bae150c72c4530761da346c6', 'datavalue': {'value': {'entity-type': 'item', 'numeric-id': 10846831, 'id': 'Q10846831'}, 'type': 'wikibase-entityid'}, 'datatype': 'wikibase-item'}], 'P2088': [{'snaktype': 'value', 'property': 'P2088', 'hash': '93c2db32215ff85ab44ce81b1b938b52599527a7', 'datavalue': {'value': 'warner-bros', 'type': 'string'}, 'datatype': 'external-id'}], 'P813': [{'snaktype': 'value', 'property': 'P813', 'hash': '59daa09af3a0cf7e00ed7e3de62e5b099e92a718', 'datavalue': {'value': {'time': '+2022-03-29T00:00:00Z', 'timezone': 0, 'before': 0, 'after': 0, 'precision': 11, 'calendarmodel': 'http://www.wikidata.org/entity/Q1985727'}, 'type': 'time'}, 'datatype': 'time'}]}, 'snaks-order': ['P248', 'P2088', 'P813']}]}], 'P1278': [{'mainsnak': {'snaktype': 'value', 'property': 'P1278', 'hash': '95c303b0f03dbc9c1c877eabea12dab900369fc7', 'datavalue': {'value': '549300U1JWW9SCOH3W56', 'type': 'string'}, 'datatype': 'external-id'}, 'type': 'statement', 'id': 'Q126399$88A12859-CAD2-4B35-821F-1AA5982DE977', 'rank': 'normal'}], 'P3417': [{'mainsnak': {'snaktype': 'value', 'property': 'P3417', 'hash': '3a54956adab2c7d16b1a54758cea9a63fbe9e8e9', 'datavalue': {'value': 'Warner-Bros-Entertainment', 'type': 'string'}, 'datatype': 'external-id'}, 'type': 'statement', 'id': 'Q126399$E399D189-50DD-4459-9574-FEFC227C58DB', 'rank': 'normal', 'references': [{'hash': '3b0a5bb3c1f955edce73740124f7d935698092ad', 'snaks': {'P248': [{'snaktype': 'value', 'property': 'P248', 'hash': '3ac9682e789a3a3791d4fd088b265ea03abef101', 'datavalue': {'value': {'entity-type': 'item', 'numeric-id': 51711, 'id': 'Q51711'}, 'type': 'wikibase-entityid'}, 'datatype': 'wikibase-item'}]}, 'snaks-order': ['P248']}]}], 'P3762': [{'mainsnak': {'snaktype': 'value', 'property': 'P3762', 'hash': '4b97d300a79d95c78df5aec5d04da72338497729', 'datavalue': {'value': '124461', 'type': 'string'}, 'datatype': 'external-id'}, 'type': 'statement', 'id': 'Q126399$78C747BB-ED0A-4D8B-B238-CFF7449D6089', 'rank': 'normal'}, {'mainsnak': {'snaktype': 'value', 'property': 'P3762', 'hash': '5bf1ab261098382c5a484d3860cb1ebc7ad9dae9', 'datavalue': {'value': '124835', 'type': 'string'}, 'datatype': 'external-id'}, 'type': 'statement', 'id': 'Q126399$A31B72E7-26CD-43CA-9B39-F8C4582FA9EA', 'rank': 'normal'}], 'P1220': [{'mainsnak': {'snaktype': 'value', 'property': 'P1220', 'hash': 'eb57dbdaf33c80c1871a8e01a2650e1da59ef7dd', 'datavalue': {'value': '20982', 'type': 'string'}, 'datatype': 'external-id'}, 'type': 'statement', 'id': 'Q126399$F7B2872A-485A-42FC-B91F-1AC8E02E6C07', 'rank': 'normal'}], 'P1056': [{'mainsnak': {'snaktype': 'value', 'property': 'P1056', 'hash': 'b7b0ff3a132b36aa3d96b5fd93fe42242dfcb6fb', 'datavalue': {'value': {'entity-type': 'item', 'numeric-id': 11424, 'id': 'Q11424'}, 'type': 'wikibase-entityid'}, 'datatype': 'wikibase-item'}, 'type': 'statement', 'id': 'Q126399$25673b8a-450f-7071-f244-fb73fcadc1c0', 'rank': 'normal', 'references': [{'hash': '288ab581e7d2d02995a26dfa8b091d96e78457fc', 'snaks': {'P143': [{'snaktype': 'value', 'property': 'P143', 'hash': '6a164248fc96bfa583bbb495cb63ae6401ec203c', 'datavalue': {'value': {'entity-type': 'item', 'numeric-id': 206855, 'id': 'Q206855'}, 'type': 'wikibase-entityid'}, 'datatype': 'wikibase-item'}]}, 'snaks-order': ['P143']}]}, {'mainsnak': {'snaktype': 'value', 'property': 'P1056', 'hash': '937657b2b8f9d80d4c0ace26a2fc10b5dbabb4cc', 'datavalue': {'value': {'entity-type': 'item', 'numeric-id': 1004, 'id': 'Q1004'}, 'type': 'wikibase-entityid'}, 'datatype': 'wikibase-item'}, 'type': 'statement', 'id': 'Q126399$a1742700-4419-d9d1-8a1b-824b8a8e8c4f', 'rank': 'normal', 'references': [{'hash': '288ab581e7d2d02995a26dfa8b091d96e78457fc', 'snaks': {'P143': [{'snaktype': 'value', 'property': 'P143', 'hash': '6a164248fc96bfa583bbb495cb63ae6401ec203c', 'datavalue': {'value': {'entity-type': 'item', 'numeric-id': 206855, 'id': 'Q206855'}, 'type': 'wikibase-entityid'}, 'datatype': 'wikibase-item'}]}, 'snaks-order': ['P143']}]}], 'P166': [{'mainsnak': {'snaktype': 'value', 'property': 'P166', 'hash': '8e1c93b8ff6e8849b53f68bf32e525bb6c6f465c', 'datavalue': {'value': {'entity-type': 'item', 'numeric-id': 102427, 'id': 'Q102427'}, 'type': 'wikibase-entityid'}, 'datatype': 'wikibase-item'}, 'type': 'statement', 'qualifiers': {'P585': [{'snaktype': 'value', 'property': 'P585', 'hash': '7363c5dc5f0d3fa723358566dcaee97b2b5620e5', 'datavalue': {'value': {'time': '+1943-00-00T00:00:00Z', 'timezone': 0, 'before': 0, 'after': 0, 'precision': 9, 'calendarmodel': 'http://www.wikidata.org/entity/Q1985727'}, 'type': 'time'}, 'datatype': 'time'}], 'P1686': [{'snaktype': 'value', 'property': 'P1686', 'hash': 'c431544eb28873d65635db1f6179e3f9e1ac1fc3', 'datavalue': {'value': {'entity-type': 'item', 'numeric-id': 132689, 'id': 'Q132689'}, 'type': 'wikibase-entityid'}, 'datatype': 'wikibase-item'}]}, 'qualifiers-order': ['P585', 'P1686'], 'id': 'Q126399$FDFE46DD-E53B-4510-9EB3-6140EDAF3B7B', 'rank': 'normal'}, {'mainsnak': {'snaktype': 'value', 'property': 'P166', 'hash': '0ed4070bc1de6440e1bc40862bb3623b5bed476d', 'datavalue': {'value': {'entity-type': 'item', 'numeric-id': 1401974, 'id': 'Q1401974'}, 'type': 'wikibase-entityid'}, 'datatype': 'wikibase-item'}, 'type': 'statement', 'qualifiers': {'P585': [{'snaktype': 'value', 'property': 'P585', 'hash': '5af3a256503a886254c0e44864f5cc339adb4f49', 'datavalue': {'value': {'time': '+1942-00-00T00:00:00Z', 'timezone': 0, 'before': 0, 'after': 0, 'precision': 9, 'calendarmodel': 'http://www.wikidata.org/entity/Q1985727'}, 'type': 'time'}, 'datatype': 'time'}], 'P1686': [{'snaktype': 'value', 'property': 'P1686', 'hash': '0ecaaf77769de41a133a593889d35d42b15d237a', 'datavalue': {'value': {'entity-type': 'item', 'numeric-id': 144911, 'id': 'Q144911'}, 'type': 'wikibase-entityid'}, 'datatype': 'wikibase-item'}]}, 'qualifiers-order': ['P585', 'P1686'], 'id': 'Q126399$8DB704BA-AB6D-4045-8339-440A164F2707', 'rank': 'normal'}, {'mainsnak': {'snaktype': 'value', 'property': 'P166', 'hash': '2ad65fe87f2e51ba4b57cd49bc01cb99b08e2348', 'datavalue': {'value': {'entity-type': 'item', 'numeric-id': 1535133, 'id': 'Q1535133'}, 'type': 'wikibase-entityid'}, 'datatype': 'wikibase-item'}, 'type': 'statement', 'qualifiers': {'P585': [{'snaktype': 'value', 'property': 'P585', 'hash': '54689e87cdcaf5a15252503de7640bab54d4911a', 'datavalue': {'value': {'time': '+1998-00-00T00:00:00Z', 'timezone': 0, 'before': 0, 'after': 0, 'precision': 9, 'calendarmodel': 'http://www.wikidata.org/entity/Q1985727'}, 'type': 'time'}, 'datatype': 'time'}], 'P1686': [{'snaktype': 'value', 'property': 'P1686', 'hash': 'f742b89c3885dfd69b983b04aa31b3f1f1388ac9', 'datavalue': {'value': {'entity-type': 'item', 'numeric-id': 494985, 'id': 'Q494985'}, 'type': 'wikibase-entityid'}, 'datatype': 'wikibase-item'}], 'P1346': [{'snaktype': 'value', 'property': 'P1346', 'hash': 'a37ea91844173a5c271495d801e32fb7c214b6a5', 'datavalue': {'value': {'entity-type': 'item', 'numeric-id': 365844, 'id': 'Q365844'}, 'type': 'wikibase-entityid'}, 'datatype': 'wikibase-item'}]}, 'qualifiers-order': ['P585', 'P1686', 'P1346'], 'id': 'Q126399$BF9EE40E-0F42-441B-AD7E-05F5E1C217E5', 'rank': 'normal'}, {'mainsnak': {'snaktype': 'value', 'property': 'P166', 'hash': 'ba0a417b823b69a71e9d081a40514eb932dfb258', 'datavalue': {'value': {'entity-type': 'item', 'numeric-id': 1780634, 'id': 'Q1780634'}, 'type': 'wikibase-entityid'}, 'datatype': 'wikibase-item'}, 'type': 'statement', 'qualifiers': {'P585': [{'snaktype': 'value', 'property': 'P585', 'hash': '9b8d0cec6ae0bc77abcf6acaac222401c81f350f', 'datavalue': {'value': {'time': '+1997-00-00T00:00:00Z', 'timezone': 0, 'before': 0, 'after': 0, 'precision': 9, 'calendarmodel': 'http://www.wikidata.org/entity/Q1985727'}, 'type': 'time'}, 'datatype': 'time'}], 'P1686': [{'snaktype': 'value', 'property': 'P1686', 'hash': '61be99a849d1e94ca70ad6a88f998487578b6d5d', 'datavalue': {'value': {'entity-type': 'item', 'numeric-id': 1122688, 'id': 'Q1122688'}, 'type': 'wikibase-entityid'}, 'datatype': 'wikibase-item'}], 'P1346': [{'snaktype': 'value', 'property': 'P1346', 'hash': 'c58bacaaa5166e13d370916730105522ae55dd41', 'datavalue': {'value': {'entity-type': 'item', 'numeric-id': 11930, 'id': 'Q11930'}, 'type': 'wikibase-entityid'}, 'datatype': 'wikibase-item'}]}, 'qualifiers-order': ['P585', 'P1686', 'P1346'], 'id': 'Q126399$507515CA-2434-43C7-875E-A55A1F9CCE38', 'rank': 'normal'}, {'mainsnak': {'snaktype': 'value', 'property': 'P166', 'hash': 'e8ea2e4046b31a90ce5961ac9d423c196a2149e1', 'datavalue': {'value': {'entity-type': 'item', 'numeric-id': 2358089, 'id': 'Q2358089'}, 'type': 'wikibase-entityid'}, 'datatype': 'wikibase-item'}, 'type': 'statement', 'qualifiers': {'P585': [{'snaktype': 'value', 'property': 'P585', 'hash': 'a910853afc29ee98ebd8b5f67a02ff08aea299d2', 'datavalue': {'value': {'time': '+2006-00-00T00:00:00Z', 'timezone': 0, 'before': 0, 'after': 0, 'precision': 9, 'calendarmodel': 'http://www.wikidata.org/entity/Q1985727'}, 'type': 'time'}, 'datatype': 'time'}], 'P1686': [{'snaktype': 'value', 'property': 'P1686', 'hash': '098ba8199afa9f63e507ebe84fd23aa900c475f8', 'datavalue': {'value': {'entity-type': 'item', 'numeric-id': 172975, 'id': 'Q172975'}, 'type': 'wikibase-entityid'}, 'datatype': 'wikibase-item'}]}, 'qualifiers-order': ['P585', 'P1686'], 'id': 'Q126399$AAD9939D-E8EF-4A58-A5D8-48988C8C1F7A', 'rank': 'normal'}, {'mainsnak': {'snaktype': 'value', 'property': 'P166', 'hash': 'f54e0958cbeebc4ebc6d06838ba25794c1034a08', 'datavalue': {'value': {'entity-type': 'item', 'numeric-id': 3886465, 'id': 'Q3886465'}, 'type': 'wikibase-entityid'}, 'datatype': 'wikibase-item'}, 'type': 'statement', 'qualifiers': {'P585': [{'snaktype': 'value', 'property': 'P585', 'hash': '9a745b9454b0ebe8d0af5ec242ae08b4e4a540f5', 'datavalue': {'value': {'time': '+1936-00-00T00:00:00Z', 'timezone': 0, 'before': 0, 'after': 0, 'precision': 9, 'calendarmodel': 'http://www.wikidata.org/entity/Q1985727'}, 'type': 'time'}, 'datatype': 'time'}], 'P1686': [{'snaktype': 'value', 'property': 'P1686', 'hash': '75e23561320ab69d47a68ad644d13f99e2a91d07', 'datavalue': {'value': {'entity-type': 'item', 'numeric-id': 3675784, 'id': 'Q3675784'}, 'type': 'wikibase-entityid'}, 'datatype': 'wikibase-item'}]}, 'qualifiers-order': ['P585', 'P1686'], 'id': 'Q126399$6CE9596C-7D94-44D7-9362-3E6BAF721CB3', 'rank': 'normal'}, {'mainsnak': {'snaktype': 'value', 'property': 'P166', 'hash': '83adbfd8d00e23a0da26f471508b45edb76eaefb', 'datavalue': {'value': {'entity-type': 'item', 'numeric-id': 727328, 'id': 'Q727328'}, 'type': 'wikibase-entityid'}, 'datatype': 'wikibase-item'}, 'type': 'statement', 'qualifiers': {'P585': [{'snaktype': 'value', 'property': 'P585', 'hash': 'a1484f0990b5df866545964e6acebae98d552322', 'datavalue': {'value': {'time': '+1928-00-00T00:00:00Z', 'timezone': 0, 'before': 0, 'after': 0, 'precision': 9, 'calendarmodel': 'http://www.wikidata.org/entity/Q1985727'}, 'type': 'time'}, 'datatype': 'time'}], 'P1686': [{'snaktype': 'value', 'property': 'P1686', 'hash': 'c74a1980af921e6486f91e149790c7d5d15d8850', 'datavalue': {'value': {'entity-type': 'item', 'numeric-id': 465087, 'id': 'Q465087'}, 'type': 'wikibase-entityid'}, 'datatype': 'wikibase-item'}]}, 'qualifiers-order': ['P585', 'P1686'], 'id': 'Q126399$855D77EC-91B9-4A2A-B216-A69CF2C6B28D', 'rank': 'normal'}, {'mainsnak': {'snaktype': 'value', 'property': 'P166', 'hash': '3b3a5e579975b43ae71a7448d948603ef30fd941', 'datavalue': {'value': {'entity-type': 'item', 'numeric-id': 838121, 'id': 'Q838121'}, 'type': 'wikibase-entityid'}, 'datatype': 'wikibase-item'}, 'type': 'statement', 'qualifiers': {'P585': [{'snaktype': 'value', 'property': 'P585', 'hash': '91e44407bbaf560304e82582230228a3da9501d8', 'datavalue': {'value': {'time': '+1991-00-00T00:00:00Z', 'timezone': 0, 'before': 0, 'after': 0, 'precision': 9, 'calendarmodel': 'http://www.wikidata.org/entity/Q1985727'}, 'type': 'time'}, 'datatype': 'time'}], 'P1686': [{'snaktype': 'value', 'property': 'P1686', 'hash': '01f0faa44acf78a7a32ab61c7247968367676b99', 'datavalue': {'value': {'entity-type': 'item', 'numeric-id': 521718, 'id': 'Q521718'}, 'type': 'wikibase-entityid'}, 'datatype': 'wikibase-item'}]}, 'qualifiers-order': ['P585', 'P1686'], 'id': 'Q126399$20614BD1-0DFF-4762-B851-06A07FDA46B7', 'rank': 'normal'}, {'mainsnak': {'snaktype': 'value', 'property': 'P166', 'hash': '08757a12266f34257f50c7c3659cb947ffd0f556', 'datavalue': {'value': {'entity-type': 'item', 'numeric-id': 8636, 'id': 'Q8636'}, 'type': 'wikibase-entityid'}, 'datatype': 'wikibase-item'}, 'type': 'statement', 'qualifiers': {'P585': [{'snaktype': 'value', 'property': 'P585', 'hash': '332be12bcf49a679d4011b6ec6bc10bb7f037408', 'datavalue': {'value': {'time': '+1933-00-00T00:00:00Z', 'timezone': 0, 'before': 0, 'after': 0, 'precision': 9, 'calendarmodel': 'http://www.wikidata.org/entity/Q1985727'}, 'type': 'time'}, 'datatype': 'time'}]}, 'qualifiers-order': ['P585'], 'id': 'Q126399$7810ADF9-EC9D-480E-B798-ADB70DA5D54B', 'rank': 'normal'}], 'P1411': [{'mainsnak': {'snaktype': 'value', 'property': 'P1411', 'hash': 'a7844604af6f65ec0688f1cb59a820af66c7957a', 'datavalue': {'value': {'entity-type': 'item', 'numeric-id': 830079, 'id': 'Q830079'}, 'type': 'wikibase-entityid'}, 'datatype': 'wikibase-item'}, 'type': 'statement', 'qualifiers': {'P585': [{'snaktype': 'value', 'property': 'P585', 'hash': 'a0c766581ea8fdb6f561f15ecc880b940293797e', 'datavalue': {'value': {'time': '+1932-00-00T00:00:00Z', 'timezone': 0, 'before': 0, 'after': 0, 'precision': 9, 'calendarmodel': 'http://www.wikidata.org/entity/Q1985727'}, 'type': 'time'}, 'datatype': 'time'}]}, 'qualifiers-order': ['P585'], 'id': 'Q126399$2F24E61A-18DA-4B03-A8CC-8EA4E61C6260', 'rank': 'normal'}, {'mainsnak': {'snaktype': 'value', 'property': 'P1411', 'hash': '84fd5ea3b0d5aa33b6be0e7abad7a0610b0aa622', 'datavalue': {'value': {'entity-type': 'item', 'numeric-id': 393686, 'id': 'Q393686'}, 'type': 'wikibase-entityid'}, 'datatype': 'wikibase-item'}, 'type': 'statement', 'qualifiers': {'P585': [{'snaktype': 'value', 'property': 'P585', 'hash': '12b9fd469993f71b3af92619cc1a44aef6b1dda7', 'datavalue': {'value': {'time': '+1954-00-00T00:00:00Z', 'timezone': 0, 'before': 0, 'after': 0, 'precision': 9, 'calendarmodel': 'http://www.wikidata.org/entity/Q1985727'}, 'type': 'time'}, 'datatype': 'time'}], 'P1686': [{'snaktype': 'value', 'property': 'P1686', 'hash': '34b683982f2f672f7921c7fb18e3daf222a2eb53', 'datavalue': {'value': {'entity-type': 'item', 'numeric-id': 578809, 'id': 'Q578809'}, 'type': 'wikibase-entityid'}, 'datatype': 'wikibase-item'}]}, 'qualifiers-order': ['P585', 'P1686'], 'id': 'Q126399$AC0B41CA-385B-4B21-B097-3825EA3FE9F9', 'rank': 'normal'}, {'mainsnak': {'snaktype': 'value', 'property': 'P1411', 'hash': '16a6a36b7b127f05ae6700070e093d656c2e52f3', 'datavalue': {'value': {'entity-type': 'item', 'numeric-id': 3886465, 'id': 'Q3886465'}, 'type': 'wikibase-entityid'}, 'datatype': 'wikibase-item'}, 'type': 'statement', 'qualifiers': {'P585': [{'snaktype': 'value', 'property': 'P585', 'hash': '9a745b9454b0ebe8d0af5ec242ae08b4e4a540f5', 'datavalue': {'value': {'time': '+1936-00-00T00:00:00Z', 'timezone': 0, 'before': 0, 'after': 0, 'precision': 9, 'calendarmodel': 'http://www.wikidata.org/entity/Q1985727'}, 'type': 'time'}, 'datatype': 'time'}], 'P1686': [{'snaktype': 'value', 'property': 'P1686', 'hash': '75e23561320ab69d47a68ad644d13f99e2a91d07', 'datavalue': {'value': {'entity-type': 'item', 'numeric-id': 3675784, 'id': 'Q3675784'}, 'type': 'wikibase-entityid'}, 'datatype': 'wikibase-item'}]}, 'qualifiers-order': ['P585', 'P1686'], 'id': 'Q126399$9FBA7A98-E9B7-492C-97C8-92ADF01AC74B', 'rank': 'normal'}, {'mainsnak': {'snaktype': 'value', 'property': 'P1411', 'hash': 'a0c451b8afddb08a4185b394b80401e1bbf98eb1', 'datavalue': {'value': {'entity-type': 'item', 'numeric-id': 917808, 'id': 'Q917808'}, 'type': 'wikibase-entityid'}, 'datatype': 'wikibase-item'}, 'type': 'statement', 'qualifiers': {'P585': [{'snaktype': 'value', 'property': 'P585', 'hash': 'c66dde266bc811871a3a55431d5f1c056a99a3b6', 'datavalue': {'value': {'time': '+1944-00-00T00:00:00Z', 'timezone': 0, 'before': 0, 'after': 0, 'precision': 9, 'calendarmodel': 'http://www.wikidata.org/entity/Q1985727'}, 'type': 'time'}, 'datatype': 'time'}], 'P1686': [{'snaktype': 'value', 'property': 'P1686', 'hash': '38ce5633df9e7655980b7859c14d6aa1da82a556', 'datavalue': {'value': {'entity-type': 'item', 'numeric-id': 1311984, 'id': 'Q1311984'}, 'type': 'wikibase-entityid'}, 'datatype': 'wikibase-item'}]}, 'qualifiers-order': ['P585', 'P1686'], 'id': 'Q126399$D2ACB005-B286-4B10-B356-FDE5E95F2863', 'rank': 'normal'}, {'mainsnak': {'snaktype': 'value', 'property': 'P1411', 'hash': 'ca029af2f5384e24eab291ae549749b052f213a6', 'datavalue': {'value': {'entity-type': 'item', 'numeric-id': 2620855, 'id': 'Q2620855'}, 'type': 'wikibase-entityid'}, 'datatype': 'wikibase-item'}, 'type': 'statement', 'qualifiers': {'P585': [{'snaktype': 'value', 'property': 'P585', 'hash': 'e701093471a4f4e2e08f4a95fb504eb6270222cf', 'datavalue': {'value': {'time': '+2000-00-00T00:00:00Z', 'timezone': 0, 'before': 0, 'after': 0, 'precision': 9, 'calendarmodel': 'http://www.wikidata.org/entity/Q1985727'}, 'type': 'time'}, 'datatype': 'time'}], 'P1686': [{'snaktype': 'value', 'property': 'P1686', 'hash': '77405c044c509d08a208c82fba49c0bf60361a0b', 'datavalue': {'value': {'entity-type': 'item', 'numeric-id': 867283, 'id': 'Q867283'}, 'type': 'wikibase-entityid'}, 'datatype': 'wikibase-item'}]}, 'qualifiers-order': ['P585', 'P1686'], 'id': 'Q126399$2E4EF2C3-FEA8-4ACD-84B2-4131C3F7AEDA', 'rank': 'normal'}, {'mainsnak': {'snaktype': 'value', 'property': 'P1411', 'hash': 'bba0f393e7b3f7f366af321e611a4df5c28105c8', 'datavalue': {'value': {'entity-type': 'item', 'numeric-id': 2358089, 'id': 'Q2358089'}, 'type': 'wikibase-entityid'}, 'datatype': 'wikibase-item'}, 'type': 'statement', 'qualifiers': {'P585': [{'snaktype': 'value', 'property': 'P585', 'hash': 'a910853afc29ee98ebd8b5f67a02ff08aea299d2', 'datavalue': {'value': {'time': '+2006-00-00T00:00:00Z', 'timezone': 0, 'before': 0, 'after': 0, 'precision': 9, 'calendarmodel': 'http://www.wikidata.org/entity/Q1985727'}, 'type': 'time'}, 'datatype': 'time'}], 'P1686': [{'snaktype': 'value', 'property': 'P1686', 'hash': '098ba8199afa9f63e507ebe84fd23aa900c475f8', 'datavalue': {'value': {'entity-type': 'item', 'numeric-id': 172975, 'id': 'Q172975'}, 'type': 'wikibase-entityid'}, 'datatype': 'wikibase-item'}]}, 'qualifiers-order': ['P585', 'P1686'], 'id': 'Q126399$C9CD06BF-33B2-4770-8E53-E8238E2935F9', 'rank': 'normal'}, {'mainsnak': {'snaktype': 'value', 'property': 'P1411', 'hash': '53c6f03b8c7aae1b24dd14d110396073c35dbb3f', 'datavalue': {'value': {'entity-type': 'item', 'numeric-id': 102427, 'id': 'Q102427'}, 'type': 'wikibase-entityid'}, 'datatype': 'wikibase-item'}, 'type': 'statement', 'qualifiers': {'P585': [{'snaktype': 'value', 'property': 'P585', 'hash': '87866c5f35fa0842c92bb9c518ebceb2b484515f', 'datavalue': {'value': {'time': '+1934-00-00T00:00:00Z', 'timezone': 0, 'before': 0, 'after': 0, 'precision': 9, 'calendarmodel': 'http://www.wikidata.org/entity/Q1985727'}, 'type': 'time'}, 'datatype': 'time'}], 'P1686': [{'snaktype': 'value', 'property': 'P1686', 'hash': 'e160050ed1fd2f48ad8a5f2c4092ea470b3bb239', 'datavalue': {'value': {'entity-type': 'item', 'numeric-id': 1143753, 'id': 'Q1143753'}, 'type': 'wikibase-entityid'}, 'datatype': 'wikibase-item'}]}, 'qualifiers-order': ['P585', 'P1686'], 'id': 'Q126399$DC9CBE6C-6F35-47B8-8C6C-E754F686E44C', 'rank': 'normal'}, {'mainsnak': {'snaktype': 'value', 'property': 'P1411', 'hash': '82cd0196690a2b9181551c4bfaf7370c163c7a80', 'datavalue': {'value': {'entity-type': 'item', 'numeric-id': 1204831, 'id': 'Q1204831'}, 'type': 'wikibase-entityid'}, 'datatype': 'wikibase-item'}, 'type': 'statement', 'qualifiers': {'P585': [{'snaktype': 'value', 'property': 'P585', 'hash': 'eb0ebdca65f8a80fa9de530d9f3efd91003c1544', 'datavalue': {'value': {'time': '+2001-00-00T00:00:00Z', 'timezone': 0, 'before': 0, 'after': 0, 'precision': 9, 'calendarmodel': 'http://www.wikidata.org/entity/Q1985727'}, 'type': 'time'}, 'datatype': 'time'}], 'P1686': [{'snaktype': 'value', 'property': 'P1686', 'hash': '5728e18c5b40c134c75f4a8fff0f18c7ecc11d13', 'datavalue': {'value': {'entity-type': 'item', 'numeric-id': 1542368, 'id': 'Q1542368'}, 'type': 'wikibase-entityid'}, 'datatype': 'wikibase-item'}]}, 'qualifiers-order': ['P585', 'P1686'], 'id': 'Q126399$E643E7C3-ACF9-442C-BF7A-4CBE39FA46C9', 'rank': 'normal'}, {'mainsnak': {'snaktype': 'value', 'property': 'P1411', 'hash': '1f69b9c0c0de23f30e83096eba3ef1eaf61298c3', 'datavalue': {'value': {'entity-type': 'item', 'numeric-id': 1401974, 'id': 'Q1401974'}, 'type': 'wikibase-entityid'}, 'datatype': 'wikibase-item'}, 'type': 'statement', 'qualifiers': {'P585': [{'snaktype': 'value', 'property': 'P585', 'hash': '08c2088c836fd166aafb26f3e267aa00aa041e37', 'datavalue': {'value': {'time': '+1938-00-00T00:00:00Z', 'timezone': 0, 'before': 0, 'after': 0, 'precision': 9, 'calendarmodel': 'http://www.wikidata.org/entity/Q1985727'}, 'type': 'time'}, 'datatype': 'time'}], 'P1686': [{'snaktype': 'value', 'property': 'P1686', 'hash': 'a6e8c85a53e01f224e5e564604faaf01e228cfb4', 'datavalue': {'value': {'entity-type': 'item', 'numeric-id': 1246794, 'id': 'Q1246794'}, 'type': 'wikibase-entityid'}, 'datatype': 'wikibase-item'}]}, 'qualifiers-order': ['P585', 'P1686'], 'id': 'Q126399$332ED243-0004-4812-AE82-530E2045B77B', 'rank': 'normal'}, {'mainsnak': {'snaktype': 'value', 'property': 'P1411', 'hash': '5712d4a45f48b918ed5af61f2eefa3086fe849d9', 'datavalue': {'value': {'entity-type': 'item', 'numeric-id': 1535133, 'id': 'Q1535133'}, 'type': 'wikibase-entityid'}, 'datatype': 'wikibase-item'}, 'type': 'statement', 'qualifiers': {'P585': [{'snaktype': 'value', 'property': 'P585', 'hash': 'e701093471a4f4e2e08f4a95fb504eb6270222cf', 'datavalue': {'value': {'time': '+2000-00-00T00:00:00Z', 'timezone': 0, 'before': 0, 'after': 0, 'precision': 9, 'calendarmodel': 'http://www.wikidata.org/entity/Q1985727'}, 'type': 'time'}, 'datatype': 'time'}], 'P1686': [{'snaktype': 'value', 'property': 'P1686', 'hash': 'da1a5475c6fd47b091b6b9f0799dad618d53629c', 'datavalue': {'value': {'entity-type': 'item', 'numeric-id': 1010099, 'id': 'Q1010099'}, 'type': 'wikibase-entityid'}, 'datatype': 'wikibase-item'}]}, 'qualifiers-order': ['P585', 'P1686'], 'id': 'Q126399$9F068B2D-2625-4423-847A-4E88F1B9CF78', 'rank': 'normal'}, {'mainsnak': {'snaktype': 'value', 'property': 'P1411', 'hash': 'b19835367f19bb5d468f63acb0248b736e8b90a8', 'datavalue': {'value': {'entity-type': 'item', 'numeric-id': 1659591, 'id': 'Q1659591'}, 'type': 'wikibase-entityid'}, 'datatype': 'wikibase-item'}, 'type': 'statement', 'qualifiers': {'P585': [{'snaktype': 'value', 'property': 'P585', 'hash': '3c2d510317e0fcbe8582afb1d706a4b6eb08d233', 'datavalue': {'value': {'time': '+2010-00-00T00:00:00Z', 'timezone': 0, 'before': 0, 'after': 0, 'precision': 9, 'calendarmodel': 'http://www.wikidata.org/entity/Q1985727'}, 'type': 'time'}, 'datatype': 'time'}], 'P1686': [{'snaktype': 'value', 'property': 'P1686', 'hash': 'ea50ad2486653ff3ff1cb199147c085bb9a1e595', 'datavalue': {'value': {'entity-type': 'item', 'numeric-id': 689842, 'id': 'Q689842'}, 'type': 'wikibase-entityid'}, 'datatype': 'wikibase-item'}]}, 'qualifiers-order': ['P585', 'P1686'], 'id': 'Q126399$927911F0-8096-4DD9-9F1E-CD9ECEA1A5E4', 'rank': 'normal'}], 'P169': [{'mainsnak': {'snaktype': 'value', 'property': 'P169', 'hash': 'aaa303e3dab1f73443c01ed3884c680810d95b6b', 'datavalue': {'value': {'entity-type': 'item', 'numeric-id': 2885779, 'id': 'Q2885779'}, 'type': 'wikibase-entityid'}, 'datatype': 'wikibase-item'}, 'type': 'statement', 'id': 'Q126399$0A987912-08FB-485B-81EE-1EE8D3208D1B', 'rank': 'normal', 'references': [{'hash': 'fa278ebfc458360e5aed63d5058cca83c46134f1', 'snaks': {'P143': [{'snaktype': 'value', 'property': 'P143', 'hash': 'e4f6d9441d0600513c4533c672b5ab472dc73694', 'datavalue': {'value': {'entity-type': 'item', 'numeric-id': 328, 'id': 'Q328'}, 'type': 'wikibase-entityid'}, 'datatype': 'wikibase-item'}]}, 'snaks-order': ['P143']}]}], 'P1417': [{'mainsnak': {'snaktype': 'value', 'property': 'P1417', 'hash': '15602c9110ecd0c8d7416be5e7de37a527b2f759', 'datavalue': {'value': 'topic/Warner-Brothers', 'type': 'string'}, 'datatype': 'external-id'}, 'type': 'statement', 'id': 'Q126399$A08A51E9-5CDD-4641-88A4-BF313E72052D', 'rank': 'normal'}], 'P2581': [{'mainsnak': {'snaktype': 'value', 'property': 'P2581', 'hash': 'cf90cef32d2d44e66bd4ceaf5e8afa974256c813', 'datavalue': {'value': '02764476n', 'type': 'string'}, 'datatype': 'external-id'}, 'type': 'statement', 'id': 'Q126399$3D07B4C8-945B-4CD9-BCBA-45CEE8EBF670', 'rank': 'normal', 'references': [{'hash': '248ac337a217a5f5eed7139a82a4e60931611af0', 'snaks': {'P248': [{'snaktype': 'value', 'property': 'P248', 'hash': '25b816aab41db18565946259c950aed6de05dd1e', 'datavalue': {'value': {'entity-type': 'item', 'numeric-id': 4837690, 'id': 'Q4837690'}, 'type': 'wikibase-entityid'}, 'datatype': 'wikibase-item'}]}, 'snaks-order': ['P248']}]}], 'P3347': [{'mainsnak': {'snaktype': 'value', 'property': 'P3347', 'hash': '3da1bdaab7ed2b51ef7c42040301aa315e34583a', 'datavalue': {'value': '4298365329', 'type': 'string'}, 'datatype': 'external-id'}, 'type': 'statement', 'id': 'Q126399$AB18C690-13B3-496A-9001-BF862BE97303', 'rank': 'normal'}], 'P17': [{'mainsnak': {'snaktype': 'value', 'property': 'P17', 'hash': 'be4c6eafa2984964f04be85667263f5642ba1a72', 'datavalue': {'value': {'entity-type': 'item', 'numeric-id': 30, 'id': 'Q30'}, 'type': 'wikibase-entityid'}, 'datatype': 'wikibase-item'}, 'type': 'statement', 'id': 'Q126399$691050CA-B9A2-419C-AE42-E033D02A26FB', 'rank': 'normal'}], 'P3219': [{'mainsnak': {'snaktype': 'value', 'property': 'P3219', 'hash': '10f7eb7ea7f51d867184c499ed66e81a7792fd4c', 'datavalue': {'value': 'warner-bros', 'type': 'string'}, 'datatype': 'external-id'}, 'type': 'statement', 'id': 'Q126399$618A6A40-9C87-4DEC-9866-6E071FF2D0D7', 'rank': 'normal'}], 'P2011': [{'mainsnak': {'snaktype': 'value', 'property': 'P2011', 'hash': '4e80a077969a0f6790faf97cc3a07db68c690966', 'datavalue': {'value': '18063883', 'type': 'string'}, 'datatype': 'external-id'}, 'type': 'statement', 'id': 'Q126399$BE24BDB0-7FAF-4F70-BF5F-84DB778CB1C0', 'rank': 'normal'}], 'P1424': [{'mainsnak': {'snaktype': 'value', 'property': 'P1424', 'hash': '0a2e29ff489b3427b178dc0e7f98f1f65ae52b45', 'datavalue': {'value': {'entity-type': 'item', 'numeric-id': 7537953, 'id': 'Q7537953'}, 'type': 'wikibase-entityid'}, 'datatype': 'wikibase-item'}, 'type': 'statement', 'id': 'Q126399$97592F2E-D0D1-41BF-AFB0-256F6C36A028', 'rank': 'normal', 'references': [{'hash': '07b5ca90107e0a9abe0c488c3705e53df80a1689', 'snaks': {'P3452': [{'snaktype': 'value', 'property': 'P3452', 'hash': '2718c1466d129157880ce2e5d19bd1ab34e19ab2', 'datavalue': {'value': {'entity-type': 'item', 'numeric-id': 7537953, 'id': 'Q7537953'}, 'type': 'wikibase-entityid'}, 'datatype': 'wikibase-item'}]}, 'snaks-order': ['P3452']}]}], 'P1830': [{'mainsnak': {'snaktype': 'value', 'property': 'P1830', 'hash': '6220b7a521cdfb4b049daeea0b7ebfdf70fd1de9', 'datavalue': {'value': {'entity-type': 'item', 'numeric-id': 21077, 'id': 'Q21077'}, 'type': 'wikibase-entityid'}, 'datatype': 'wikibase-item'}, 'type': 'statement', 'qualifiers': {'P580': [{'snaktype': 'value', 'property': 'P580', 'hash': 'd630c2c0fcdb2ce4bb70f47b9c52a36855e36bbf', 'datavalue': {'value': {'time': '+1958-00-00T00:00:00Z', 'timezone': 0, 'before': 0, 'after': 0, 'precision': 9, 'calendarmodel': 'http://www.wikidata.org/entity/Q1985727'}, 'type': 'time'}, 'datatype': 'time'}], 'P582': [{'snaktype': 'value', 'property': 'P582', 'hash': '396a8a418d2d3af6444e59183215234da844a671', 'datavalue': {'value': {'time': '+2004-00-00T00:00:00Z', 'timezone': 0, 'before': 0, 'after': 0, 'precision': 9, 'calendarmodel': 'http://www.wikidata.org/entity/Q1985727'}, 'type': 'time'}, 'datatype': 'time'}]}, 'qualifiers-order': ['P580', 'P582'], 'id': 'Q126399$FD89670F-A2FC-4A30-95C4-E59ABD47BAD4', 'rank': 'normal'}, {'mainsnak': {'snaktype': 'value', 'property': 'P1830', 'hash': 'cb1299bccacaf16d892e5c365e33dea24c8735f6', 'datavalue': {'value': {'entity-type': 'item', 'numeric-id': 206272, 'id': 'Q206272'}, 'type': 'wikibase-entityid'}, 'datatype': 'wikibase-item'}, 'type': 'statement', 'id': 'Q126399$675012A0-C3C3-4DF2-BA71-3ED6B61B5435', 'rank': 'normal'}, {'mainsnak': {'snaktype': 'value', 'property': 'P1830', 'hash': 'c8b291d09547ab35230f5ac7598752a470989298', 'datavalue': {'value': {'entity-type': 'item', 'numeric-id': 212252, 'id': 'Q212252'}, 'type': 'wikibase-entityid'}, 'datatype': 'wikibase-item'}, 'type': 'statement', 'id': 'Q126399$CC5A7275-E7B1-4CCC-B7E4-F31D9CDA5110', 'rank': 'normal'}, {'mainsnak': {'snaktype': 'value', 'property': 'P1830', 'hash': 'b85ce527a717bc08a3467faae3ee38d802c6cfa3', 'datavalue': {'value': {'entity-type': 'item', 'numeric-id': 384930, 'id': 'Q384930'}, 'type': 'wikibase-entityid'}, 'datatype': 'wikibase-item'}, 'type': 'statement', 'id': 'Q126399$06171225-D86A-4D35-9B44-C8297E5BF1FA', 'rank': 'normal'}, {'mainsnak': {'snaktype': 'value', 'property': 'P1830', 'hash': 'aa132a8059878a7aff0da264de70d8b09a0275a5', 'datavalue': {'value': {'entity-type': 'item', 'numeric-id': 778566, 'id': 'Q778566'}, 'type': 'wikibase-entityid'}, 'datatype': 'wikibase-item'}, 'type': 'statement', 'id': 'Q126399$41E58075-67E0-4BA1-86F5-BC2D35578516', 'rank': 'normal'}, {'mainsnak': {'snaktype': 'value', 'property': 'P1830', 'hash': '53be8a837192288ab3b203b8a22e50463a5156f0', 'datavalue': {'value': {'entity-type': 'item', 'numeric-id': 1188361, 'id': 'Q1188361'}, 'type': 'wikibase-entityid'}, 'datatype': 'wikibase-item'}, 'type': 'statement', 'id': 'Q126399$E22DDD81-1AA2-4803-A6AB-08D5DBC73319', 'rank': 'normal'}, {'mainsnak': {'snaktype': 'value', 'property': 'P1830', 'hash': '3de3a2f2d04d06f18f2cb3c27d43fffc22058e79', 'datavalue': {'value': {'entity-type': 'item', 'numeric-id': 1188938, 'id': 'Q1188938'}, 'type': 'wikibase-entityid'}, 'datatype': 'wikibase-item'}, 'type': 'statement', 'id': 'Q126399$6D12F5D4-9CB3-440E-B329-D3BE43FDBCDA', 'rank': 'normal'}, {'mainsnak': {'snaktype': 'value', 'property': 'P1830', 'hash': '255e852b481135aaeb8d541b800106205dd5d457', 'datavalue': {'value': {'entity-type': 'item', 'numeric-id': 1857255, 'id': 'Q1857255'}, 'type': 'wikibase-entityid'}, 'datatype': 'wikibase-item'}, 'type': 'statement', 'id': 'Q126399$73815F34-2CF3-4BDB-A6E2-41579AEB35FD', 'rank': 'normal'}, {'mainsnak': {'snaktype': 'value', 'property': 'P1830', 'hash': 'ae801782451c77290f26731a488899f6e4e82d9e', 'datavalue': {'value': {'entity-type': 'item', 'numeric-id': 2319420, 'id': 'Q2319420'}, 'type': 'wikibase-entityid'}, 'datatype': 'wikibase-item'}, 'type': 'statement', 'id': 'Q126399$45BA34D7-6755-425A-BC4C-D2EFC8B3033E', 'rank': 'normal'}, {'mainsnak': {'snaktype': 'value', 'property': 'P1830', 'hash': 'ceb9ec72776c577cfe01e423b3459f53268db50a', 'datavalue': {'value': {'entity-type': 'item', 'numeric-id': 2696696, 'id': 'Q2696696'}, 'type': 'wikibase-entityid'}, 'datatype': 'wikibase-item'}, 'type': 'statement', 'id': 'Q126399$8ED3E621-BDA1-4885-9221-9561C8B8CD43', 'rank': 'normal'}, {'mainsnak': {'snaktype': 'value', 'property': 'P1830', 'hash': '7c0b3da452949d472a0c29ac3b3d1737d25e2b17', 'datavalue': {'value': {'entity-type': 'item', 'numeric-id': 2698248, 'id': 'Q2698248'}, 'type': 'wikibase-entityid'}, 'datatype': 'wikibase-item'}, 'type': 'statement', 'id': 'Q126399$5199F90A-9CF9-489D-A623-7B0007B0D422', 'rank': 'normal'}, {'mainsnak': {'snaktype': 'value', 'property': 'P1830', 'hash': 'cd57d0ededad44e0dd60f7715913b41e62b02aeb', 'datavalue': {'value': {'entity-type': 'item', 'numeric-id': 2924461, 'id': 'Q2924461'}, 'type': 'wikibase-entityid'}, 'datatype': 'wikibase-item'}, 'type': 'statement', 'id': 'Q126399$B275DCBA-874A-4585-BDB0-314DCB706DD4', 'rank': 'normal'}, {'mainsnak': {'snaktype': 'value', 'property': 'P1830', 'hash': '6e360cb6f001cae5b977122d47eec7ff67a22d42', 'datavalue': {'value': {'entity-type': 'item', 'numeric-id': 3700311, 'id': 'Q3700311'}, 'type': 'wikibase-entityid'}, 'datatype': 'wikibase-item'}, 'type': 'statement', 'id': 'Q126399$EEF7CEDA-5C7F-4D73-BE1B-C4AB284019C8', 'rank': 'normal'}, {'mainsnak': {'snaktype': 'value', 'property': 'P1830', 'hash': 'e38394c69d228a349c9bad02723e223abe154346', 'datavalue': {'value': {'entity-type': 'item', 'numeric-id': 4043544, 'id': 'Q4043544'}, 'type': 'wikibase-entityid'}, 'datatype': 'wikibase-item'}, 'type': 'statement', 'id': 'Q126399$9DD967C4-16B2-414E-AFBD-05CBE7461CD3', 'rank': 'normal'}, {'mainsnak': {'snaktype': 'value', 'property': 'P1830', 'hash': 'c9f20abe105cd288d4782020be8e561336bb33cd', 'datavalue': {'value': {'entity-type': 'item', 'numeric-id': 5433722, 'id': 'Q5433722'}, 'type': 'wikibase-entityid'}, 'datatype': 'wikibase-item'}, 'type': 'statement', 'qualifiers': {'P127': [{'snaktype': 'value', 'property': 'P127', 'hash': 'c3f366662f30b660b574fd46c52c29de09288ec8', 'datavalue': {'value': {'entity-type': 'item', 'numeric-id': 724759, 'id': 'Q724759'}, 'type': 'wikibase-entityid'}, 'datatype': 'wikibase-item'}, {'snaktype': 'value', 'property': 'P127', 'hash': '590acdf363aac0a9361ace68116f2118e0634549', 'datavalue': {'value': {'entity-type': 'item', 'numeric-id': 107074885, 'id': 'Q107074885'}, 'type': 'wikibase-entityid'}, 'datatype': 'wikibase-item'}]}, 'qualifiers-order': ['P127'], 'id': 'Q126399$1931B4A9-AA3C-4D04-B4B7-33F73D886531', 'rank': 'normal'}, {'mainsnak': {'snaktype': 'value', 'property': 'P1830', 'hash': 'e72662e478e7abe09d4898c49e02956451a1e630', 'datavalue': {'value': {'entity-type': 'item', 'numeric-id': 7736023, 'id': 'Q7736023'}, 'type': 'wikibase-entityid'}, 'datatype': 'wikibase-item'}, 'type': 'statement', 'id': 'Q126399$4357973E-E4EF-4B80-880A-B7FBD19F0A57', 'rank': 'normal'}, {'mainsnak': {'snaktype': 'value', 'property': 'P1830', 'hash': '84b38d35689880e8d05f5a465426f49aeae593bb', 'datavalue': {'value': {'entity-type': 'item', 'numeric-id': 7773161, 'id': 'Q7773161'}, 'type': 'wikibase-entityid'}, 'datatype': 'wikibase-item'}, 'type': 'statement', 'id': 'Q126399$A78F07D0-328C-496A-9B4C-2AED02E93535', 'rank': 'normal'}, {'mainsnak': {'snaktype': 'value', 'property': 'P1830', 'hash': '7002b173c19881207d1e42f3c4c92f4134f6a369', 'datavalue': {'value': {'entity-type': 'item', 'numeric-id': 11351680, 'id': 'Q11351680'}, 'type': 'wikibase-entityid'}, 'datatype': 'wikibase-item'}, 'type': 'statement', 'id': 'Q126399$0413B828-F191-449E-AFE3-2EAA746EC279', 'rank': 'normal'}, {'mainsnak': {'snaktype': 'value', 'property': 'P1830', 'hash': '56a3825ce6601d902dbb23b5f4dd1a82055cb863', 'datavalue': {'value': {'entity-type': 'item', 'numeric-id': 13416804, 'id': 'Q13416804'}, 'type': 'wikibase-entityid'}, 'datatype': 'wikibase-item'}, 'type': 'statement', 'id': 'Q126399$DEF09316-D3E5-43AA-B8E9-9BE499CBBFB8', 'rank': 'normal'}, {'mainsnak': {'snaktype': 'value', 'property': 'P1830', 'hash': 'cd1242ccb0b22ab5f43f9e39faedb338eaedd083', 'datavalue': {'value': {'entity-type': 'item', 'numeric-id': 18887912, 'id': 'Q18887912'}, 'type': 'wikibase-entityid'}, 'datatype': 'wikibase-item'}, 'type': 'statement', 'id': 'Q126399$07A51C81-B5B5-4E99-AED6-5E9F811CA50A', 'rank': 'normal'}, {'mainsnak': {'snaktype': 'value', 'property': 'P1830', 'hash': '3e25f86862563f2c41fab70ec045be2d25d0b478', 'datavalue': {'value': {'entity-type': 'item', 'numeric-id': 4439850, 'id': 'Q4439850'}, 'type': 'wikibase-entityid'}, 'datatype': 'wikibase-item'}, 'type': 'statement', 'qualifiers': {'P580': [{'snaktype': 'value', 'property': 'P580', 'hash': '82786746385141efc05be611c3a381d1ef21a3e4', 'datavalue': {'value': {'time': '+1923-00-00T00:00:00Z', 'timezone': 0, 'before': 0, 'after': 0, 'precision': 8, 'calendarmodel': 'http://www.wikidata.org/entity/Q1985727'}, 'type': 'time'}, 'datatype': 'time'}], 'P582': [{'snaktype': 'value', 'property': 'P582', 'hash': 'afaf80dbd16a0efcc8ce3307bf49fe11924d5e69', 'datavalue': {'value': {'time': '+1963-00-00T00:00:00Z', 'timezone': 0, 'before': 0, 'after': 0, 'precision': 9, 'calendarmodel': 'http://www.wikidata.org/entity/Q1985727'}, 'type': 'time'}, 'datatype': 'time'}], 'P1480': [{'snaktype': 'value', 'property': 'P1480', 'hash': 'cb40f2027a88b8d23735681aaccba1069a574f54', 'datavalue': {'value': {'entity-type': 'item', 'numeric-id': 5727902, 'id': 'Q5727902'}, 'type': 'wikibase-entityid'}, 'datatype': 'wikibase-item'}]}, 'qualifiers-order': ['P580', 'P582', 'P1480'], 'id': 'Q126399$93effdd2-47b8-b64e-17c0-f9b0497c7300', 'rank': 'normal', 'references': [{'hash': '788327f0c42baa5cdc60a78da9f56ef7ae986a27', 'snaks': {'P854': [{'snaktype': 'value', 'property': 'P854', 'hash': '94ae8ebafc781e363405ce894665ccfdcc66ba32', 'datavalue': {'value': 'https://spectracompany.com/project/sunset-bronson-studios/', 'type': 'string'}, 'datatype': 'url'}], 'P813': [{'snaktype': 'value', 'property': 'P813', 'hash': '59daa09af3a0cf7e00ed7e3de62e5b099e92a718', 'datavalue': {'value': {'time': '+2022-03-29T00:00:00Z', 'timezone': 0, 'before': 0, 'after': 0, 'precision': 11, 'calendarmodel': 'http://www.wikidata.org/entity/Q1985727'}, 'type': 'time'}, 'datatype': 'time'}]}, 'snaks-order': ['P854', 'P813']}, {'hash': 'edba1fdd13af50084d6f63236ed005f9281d3654', 'snaks': {'P854': [{'snaktype': 'value', 'property': 'P854', 'hash': '0c0962f6a63c41dbbe6c005cce38e88f64066f83', 'datavalue': {'value': 'https://www.sunsetstudios.com/about-sunset-studios#history', 'type': 'string'}, 'datatype': 'url'}], 'P813': [{'snaktype': 'value', 'property': 'P813', 'hash': '59daa09af3a0cf7e00ed7e3de62e5b099e92a718', 'datavalue': {'value': {'time': '+2022-03-29T00:00:00Z', 'timezone': 0, 'before': 0, 'after': 0, 'precision': 11, 'calendarmodel': 'http://www.wikidata.org/entity/Q1985727'}, 'type': 'time'}, 'datatype': 'time'}]}, 'snaks-order': ['P854', 'P813']}]}], 'P6150': [{'mainsnak': {'snaktype': 'value', 'property': 'P6150', 'hash': 'd39700f54b9059b58be02cf13f4d9121240d41b3', 'datavalue': {'value': '7096', 'type': 'string'}, 'datatype': 'external-id'}, 'type': 'statement', 'qualifiers': {'P1810': [{'snaktype': 'somevalue', 'property': 'P1810', 'hash': '5c6d3c3dbd038a6a9152c86d356190c7cf63b11f', 'datatype': 'string'}]}, 'qualifiers-order': ['P1810'], 'id': 'Q126399$C764F103-09A1-4F99-B1DC-65D8E77A9600', 'rank': 'normal'}, {'mainsnak': {'snaktype': 'value', 'property': 'P6150', 'hash': 'a9144ca6e7705e46a2b52da89e19d763184824a0', 'datavalue': {'value': '5602', 'type': 'string'}, 'datatype': 'external-id'}, 'type': 'statement', 'qualifiers': {'P1810': [{'snaktype': 'value', 'property': 'P1810', 'hash': 'a65b1ce17a0b3b2f39f06b4750a752a97adfdf7d', 'datavalue': {'value': 'Warner Bros. Studio', 'type': 'string'}, 'datatype': 'string'}]}, 'qualifiers-order': ['P1810'], 'id': 'Q126399$CC046DE9-7AFF-4B8B-B038-3FEDDD14D93C', 'rank': 'normal', 'references': [{'hash': 'd082f6d475d4e30fc89f974b33d8893e7bd57e9d', 'snaks': {'P1065': [{'snaktype': 'value', 'property': 'P1065', 'hash': '17ee3246236847dd96dbf25f112c708a499ac49b', 'datavalue': {'value': 'https://web.archive.org/web/20210428141244/http://awardsdatabase.oscars.org/Search/GetResults?query=%7B%22NomineeId%22:5602,%22IsHyperlinkQuery%22:true,%22Sort%22:%221-Nominee-Alpha%22,%22Search%22:%22Basic%22%7D', 'type': 'string'}, 'datatype': 'url'}], 'P2960': [{'snaktype': 'value', 'property': 'P2960', 'hash': 'd4954b521766daf52a860d45b1139e3a597f102e', 'datavalue': {'value': {'time': '+2021-04-28T00:00:00Z', 'timezone': 0, 'before': 0, 'after': 0, 'precision': 11, 'calendarmodel': 'http://www.wikidata.org/entity/Q1985727'}, 'type': 'time'}, 'datatype': 'time'}]}, 'snaks-order': ['P1065', 'P2960']}]}], 'P691': [{'mainsnak': {'snaktype': 'value', 'property': 'P691', 'hash': 'a1ad8945c02b51b908b224e3fc32a78fddbc9ce0', 'datavalue': {'value': 'ko2003162232', 'type': 'string'}, 'datatype': 'external-id'}, 'type': 'statement', 'qualifiers': {'P1810': [{'snaktype': 'value', 'property': 'P1810', 'hash': '22e92012ab3d71b9d639a7eb8a1e0693734901ce', 'datavalue': {'value': 'Warner Bros.', 'type': 'string'}, 'datatype': 'string'}], 'P2241': [{'snaktype': 'value', 'property': 'P2241', 'hash': '4a16262fd91dd9e4f4668113806bdf1a37333503', 'datavalue': {'value': {'entity-type': 'item', 'numeric-id': 2496920, 'id': 'Q2496920'}, 'type': 'wikibase-entityid'}, 'datatype': 'wikibase-item'}], 'P8327': [{'snaktype': 'value', 'property': 'P8327', 'hash': 'ff2506bb63890b86f9175ec7bb09a7fda23afe62', 'datavalue': {'value': {'entity-type': 'item', 'numeric-id': 64488868, 'id': 'Q64488868'}, 'type': 'wikibase-entityid'}, 'datatype': 'wikibase-item'}]}, 'qualifiers-order': ['P1810', 'P2241', 'P8327'], 'id': 'Q126399$74F825CA-A334-442A-A1F9-4174207331C5', 'rank': 'deprecated', 'references': [{'hash': '5b3a2b2c451c75bb0ad525a59594e92ce8211418', 'snaks': {'P214': [{'snaktype': 'value', 'property': 'P214', 'hash': '0b6d39a09c04aea6308d29a1769196d7bf7fc4d5', 'datavalue': {'value': '146783345', 'type': 'string'}, 'datatype': 'external-id'}], 'P248': [{'snaktype': 'value', 'property': 'P248', 'hash': '6b7d4330c4aac4caec4ede9de0311ce273f88ecd', 'datavalue': {'value': {'entity-type': 'item', 'numeric-id': 54919, 'id': 'Q54919'}, 'type': 'wikibase-entityid'}, 'datatype': 'wikibase-item'}], 'P813': [{'snaktype': 'value', 'property': 'P813', 'hash': '00afe5535565fc132b2b3adebe7e756b3108d7c1', 'datavalue': {'value': {'time': '+2018-12-17T00:00:00Z', 'timezone': 0, 'before': 0, 'after': 0, 'precision': 11, 'calendarmodel': 'http://www.wikidata.org/entity/Q1985727'}, 'type': 'time'}, 'datatype': 'time'}]}, 'snaks-order': ['P214', 'P248', 'P813']}, {'hash': '19a3ff032768de35cc9fbdc7dd3f0a4e2933d463', 'snaks': {'P248': [{'snaktype': 'value', 'property': 'P248', 'hash': '6b7d4330c4aac4caec4ede9de0311ce273f88ecd', 'datavalue': {'value': {'entity-type': 'item', 'numeric-id': 54919, 'id': 'Q54919'}, 'type': 'wikibase-entityid'}, 'datatype': 'wikibase-item'}], 'P214': [{'snaktype': 'value', 'property': 'P214', 'hash': '594127dbe2bb7aee23b580c85265ae136f58f36d', 'datavalue': {'value': '151097668', 'type': 'string'}, 'datatype': 'external-id'}], 'P813': [{'snaktype': 'value', 'property': 'P813', 'hash': '59daa09af3a0cf7e00ed7e3de62e5b099e92a718', 'datavalue': {'value': {'time': '+2022-03-29T00:00:00Z', 'timezone': 0, 'before': 0, 'after': 0, 'precision': 11, 'calendarmodel': 'http://www.wikidata.org/entity/Q1985727'}, 'type': 'time'}, 'datatype': 'time'}]}, 'snaks-order': ['P248', 'P214', 'P813']}]}], 'P244': [{'mainsnak': {'snaktype': 'value', 'property': 'P244', 'hash': '56fabb9f5649c451ab61094fc6a9a06aa1981bb8', 'datavalue': {'value': 'n2004008760', 'type': 'string'}, 'datatype': 'external-id'}, 'type': 'statement', 'qualifiers': {'P1810': [{'snaktype': 'value', 'property': 'P1810', 'hash': '661f2dad166161c6e1eb7c9539ce158f77e928dd', 'datavalue': {'value': 'Warner Bros. Entertainment', 'type': 'string'}, 'datatype': 'string'}]}, 'qualifiers-order': ['P1810'], 'id': 'Q126399$B114AC56-18D9-486C-8053-28B4F3F91D28', 'rank': 'normal', 'references': [{'hash': '14fa5898ac764e0660517aa07ea0bbba505f262b', 'snaks': {'P248': [{'snaktype': 'value', 'property': 'P248', 'hash': '6b7d4330c4aac4caec4ede9de0311ce273f88ecd', 'datavalue': {'value': {'entity-type': 'item', 'numeric-id': 54919, 'id': 'Q54919'}, 'type': 'wikibase-entityid'}, 'datatype': 'wikibase-item'}], 'P813': [{'snaktype': 'value', 'property': 'P813', 'hash': 'e0d08f96012770600b942d5e8563b2a3499cba8e', 'datavalue': {'value': {'time': '+2019-03-06T00:00:00Z', 'timezone': 0, 'before': 0, 'after': 0, 'precision': 11, 'calendarmodel': 'http://www.wikidata.org/entity/Q1985727'}, 'type': 'time'}, 'datatype': 'time'}]}, 'snaks-order': ['P248', 'P813']}]}, {'mainsnak': {'snaktype': 'value', 'property': 'P244', 'hash': '4b51b4ed2165504e45f29b1fd43d4478be7b9d79', 'datavalue': {'value': 'n80050911', 'type': 'string'}, 'datatype': 'external-id'}, 'type': 'statement', 'qualifiers': {'P1810': [{'snaktype': 'value', 'property': 'P1810', 'hash': '22e92012ab3d71b9d639a7eb8a1e0693734901ce', 'datavalue': {'value': 'Warner Bros.', 'type': 'string'}, 'datatype': 'string'}], 'P2241': [{'snaktype': 'value', 'property': 'P2241', 'hash': '86bc4019022960508f50630d7f3484055cabf552', 'datavalue': {'value': {'entity-type': 'item', 'numeric-id': 67125514, 'id': 'Q67125514'}, 'type': 'wikibase-entityid'}, 'datatype': 'wikibase-item'}], 'P9570': [{'snaktype': 'value', 'property': 'P9570', 'hash': '1f87f58ca26575d21739d9f9144885daab9a9d38', 'datavalue': {'value': {'text': '[Cannot determine relationship between Warner Bros. Pictures and Warner Bros.]', 'language': 'en'}, 'type': 'monolingualtext'}, 'datatype': 'monolingualtext'}]}, 'qualifiers-order': ['P1810', 'P2241', 'P9570'], 'id': 'Q126399$2fd2fb5c-458d-da40-bfef-051be2c2d7bb', 'rank': 'deprecated'}], 'P463': [{'mainsnak': {'snaktype': 'value', 'property': 'P463', 'hash': '59b0a172a6fd4f0d76845ace0a22783135de9eb9', 'datavalue': {'value': {'entity-type': 'item', 'numeric-id': 55524865, 'id': 'Q55524865'}, 'type': 'wikibase-entityid'}, 'datatype': 'wikibase-item'}, 'type': 'statement', 'id': 'Q126399$1681A1CA-EA8F-4945-AD36-A62217CE2F54', 'rank': 'normal', 'references': [{'hash': 'a17806e7d3eaca870a0b0ee72bf70ea8054d5ace', 'snaks': {'P854': [{'snaktype': 'value', 'property': 'P854', 'hash': '7d5cf21a59984a03494cba42f3fb47eb4b645d33', 'datavalue': {'value': 'https://www.game.de/mitglieder/', 'type': 'string'}, 'datatype': 'url'}], 'P813': [{'snaktype': 'value', 'property': 'P813', 'hash': 'fd6d88c6a2327f03286f311dcd826b1dca21abb4', 'datavalue': {'value': {'time': '+2019-07-02T00:00:00Z', 'timezone': 0, 'before': 0, 'after': 0, 'precision': 11, 'calendarmodel': 'http://www.wikidata.org/entity/Q1985727'}, 'type': 'time'}, 'datatype': 'time'}]}, 'snaks-order': ['P854', 'P813']}]}], 'P1296': [{'mainsnak': {'snaktype': 'value', 'property': 'P1296', 'hash': 'a790246376183591a8a895351fdb921a445d3e63', 'datavalue': {'value': '0071853', 'type': 'string'}, 'datatype': 'external-id'}, 'type': 'statement', 'id': 'Q126399$F67792A1-0734-4249-9734-BA75911CB74E', 'rank': 'normal'}], 'P7632': [{'mainsnak': {'snaktype': 'value', 'property': 'P7632', 'hash': 'ea167b0410f303b7951f1ee26ed17d0eab681204', 'datavalue': {'value': '343', 'type': 'string'}, 'datatype': 'external-id'}, 'type': 'statement', 'qualifiers': {'P1810': [{'snaktype': 'value', 'property': 'P1810', 'hash': '6ffe960c77c2f6fb0da488abe50932d053cff41c', 'datavalue': {'value': 'Warner Bros. (Distribution)', 'type': 'string'}, 'datatype': 'string'}], 'P2241': [{'snaktype': 'value', 'property': 'P2241', 'hash': '60cf1edce27f0fd9ea3da666fb4aa6d1fa657e36', 'datavalue': {'value': {'entity-type': 'item', 'numeric-id': 28091153, 'id': 'Q28091153'}, 'type': 'wikibase-entityid'}, 'datatype': 'wikibase-item'}]}, 'qualifiers-order': ['P1810', 'P2241'], 'id': 'Q126399$3A66D2FF-50B0-4939-B986-0757314A4EDD', 'rank': 'deprecated'}, {'mainsnak': {'snaktype': 'value', 'property': 'P7632', 'hash': 'cfce9d9c7f1d441e0272b83c4d3aba06fda25533', 'datavalue': {'value': '534', 'type': 'string'}, 'datatype': 'external-id'}, 'type': 'statement', 'qualifiers': {'P1810': [{'snaktype': 'value', 'property': 'P1810', 'hash': 'cab03434cbd8cdc5af73f5c46dedc8b0c7d800ac', 'datavalue': {'value': 'Warner Bros. (Vitaphone)', 'type': 'string'}, 'datatype': 'string'}], 'P2241': [{'snaktype': 'value', 'property': 'P2241', 'hash': '60cf1edce27f0fd9ea3da666fb4aa6d1fa657e36', 'datavalue': {'value': {'entity-type': 'item', 'numeric-id': 28091153, 'id': 'Q28091153'}, 'type': 'wikibase-entityid'}, 'datatype': 'wikibase-item'}]}, 'qualifiers-order': ['P1810', 'P2241'], 'id': 'Q126399$AFA49BD7-3349-4A63-AC9F-FDED863D1E0A', 'rank': 'deprecated'}, {'mainsnak': {'snaktype': 'value', 'property': 'P7632', 'hash': '2af8c89880ede063cd8f4be1d9b05d89ae6808bf', 'datavalue': {'value': '345', 'type': 'string'}, 'datatype': 'external-id'}, 'type': 'statement', 'qualifiers': {'P1810': [{'snaktype': 'value', 'property': 'P1810', 'hash': 'ef4c4fb06416d22319f5b4efd1dba9e2355527d7', 'datavalue': {'value': 'Warner Bros. (Publicity)', 'type': 'string'}, 'datatype': 'string'}], 'P2241': [{'snaktype': 'value', 'property': 'P2241', 'hash': '60cf1edce27f0fd9ea3da666fb4aa6d1fa657e36', 'datavalue': {'value': {'entity-type': 'item', 'numeric-id': 28091153, 'id': 'Q28091153'}, 'type': 'wikibase-entityid'}, 'datatype': 'wikibase-item'}]}, 'qualifiers-order': ['P1810', 'P2241'], 'id': 'Q126399$4A547552-AAB1-4249-A1A4-588908DAF97F', 'rank': 'deprecated'}, {'mainsnak': {'snaktype': 'value', 'property': 'P7632', 'hash': '3cfc210da334ba3d9a2c5b7651726fc8fb7b21f5', 'datavalue': {'value': '344', 'type': 'string'}, 'datatype': 'external-id'}, 'type': 'statement', 'qualifiers': {'P1810': [{'snaktype': 'value', 'property': 'P1810', 'hash': '22e92012ab3d71b9d639a7eb8a1e0693734901ce', 'datavalue': {'value': 'Warner Bros.', 'type': 'string'}, 'datatype': 'string'}]}, 'qualifiers-order': ['P1810'], 'id': 'Q126399$15FD8AC2-2473-45F9-ADC4-9D0FF9FD6024', 'rank': 'normal'}], 'P2003': [{'mainsnak': {'snaktype': 'value', 'property': 'P2003', 'hash': 'ac3621dc26aea03a6d12f167c9069cc2c107c4fa', 'datavalue': {'value': 'warnerbrosentertainment', 'type': 'string'}, 'datatype': 'external-id'}, 'type': 'statement', 'id': 'Q126399$5D439A79-5AB0-46E8-A350-60E534EC2CFA', 'rank': 'normal', 'references': [{'hash': '98a9d3d4f77f78f7fd61df8552bd8698208ed0ef', 'snaks': {'P248': [{'snaktype': 'value', 'property': 'P248', 'hash': '8ab77c7cd50031c3ae514693b69b28bd375a315a', 'datavalue': {'value': {'entity-type': 'item', 'numeric-id': 648625, 'id': 'Q648625'}, 'type': 'wikibase-entityid'}, 'datatype': 'wikibase-item'}]}, 'snaks-order': ['P248']}]}], 'P3836': [{'mainsnak': {'snaktype': 'value', 'property': 'P3836', 'hash': '0c5586ea2b4f6e1b78041cd20e4024dbddc0455c', 'datavalue': {'value': 'warnerbrosent', 'type': 'string'}, 'datatype': 'external-id'}, 'type': 'statement', 'qualifiers': {'P1552': [{'snaktype': 'value', 'property': 'P1552', 'hash': '62f0039d240f7eeba6c6908a0d8807a6188324a1', 'datavalue': {'value': {'entity-type': 'item', 'numeric-id': 28378282, 'id': 'Q28378282'}, 'type': 'wikibase-entityid'}, 'datatype': 'wikibase-item'}]}, 'qualifiers-order': ['P1552'], 'id': 'Q126399$D6D1C5C5-2509-45CA-9DE8-5F5AD823CB0E', 'rank': 'normal', 'references': [{'hash': '98a9d3d4f77f78f7fd61df8552bd8698208ed0ef', 'snaks': {'P248': [{'snaktype': 'value', 'property': 'P248', 'hash': '8ab77c7cd50031c3ae514693b69b28bd375a315a', 'datavalue': {'value': {'entity-type': 'item', 'numeric-id': 648625, 'id': 'Q648625'}, 'type': 'wikibase-entityid'}, 'datatype': 'wikibase-item'}]}, 'snaks-order': ['P248']}]}], 'P355': [{'mainsnak': {'snaktype': 'value', 'property': 'P355', 'hash': '977b496877956e8df5337c88bee2716d5d137dbf', 'datavalue': {'value': {'entity-type': 'item', 'numeric-id': 79202, 'id': 'Q79202'}, 'type': 'wikibase-entityid'}, 'datatype': 'wikibase-item'}, 'type': 'statement', 'qualifiers': {'P580': [{'snaktype': 'value', 'property': 'P580', 'hash': 'bd4aa5c434ced58f8ac39be7e53116a89da4aa89', 'datavalue': {'value': {'time': '+2008-00-00T00:00:00Z', 'timezone': 0, 'before': 0, 'after': 0, 'precision': 9, 'calendarmodel': 'http://www.wikidata.org/entity/Q1985727'}, 'type': 'time'}, 'datatype': 'time'}]}, 'qualifiers-order': ['P580'], 'id': 'Q126399$CED3500D-32F6-4DDA-B873-52B85910121D', 'rank': 'normal'}, {'mainsnak': {'snaktype': 'value', 'property': 'P355', 'hash': '2d52f362c9d2f799c08b7c786dbcf0451e18c24d', 'datavalue': {'value': {'entity-type': 'item', 'numeric-id': 13416804, 'id': 'Q13416804'}, 'type': 'wikibase-entityid'}, 'datatype': 'wikibase-item'}, 'type': 'statement', 'id': 'Q126399$1DFD9A36-8E46-4A39-B4F0-58CF466E791D', 'rank': 'normal'}, {'mainsnak': {'snaktype': 'value', 'property': 'P355', 'hash': 'aad0ef29fb67438a3fdb2930d28937166d8c5634', 'datavalue': {'value': {'entity-type': 'item', 'numeric-id': 21077, 'id': 'Q21077'}, 'type': 'wikibase-entityid'}, 'datatype': 'wikibase-item'}, 'type': 'statement', 'qualifiers': {'P582': [{'snaktype': 'value', 'property': 'P582', 'hash': '9a6c1283e3e5d27604956c85e7107153313ff376', 'datavalue': {'value': {'time': '+1967-00-00T00:00:00Z', 'timezone': 0, 'before': 0, 'after': 0, 'precision': 9, 'calendarmodel': 'http://www.wikidata.org/entity/Q1985727'}, 'type': 'time'}, 'datatype': 'time'}], 'P580': [{'snaktype': 'value', 'property': 'P580', 'hash': 'd630c2c0fcdb2ce4bb70f47b9c52a36855e36bbf', 'datavalue': {'value': {'time': '+1958-00-00T00:00:00Z', 'timezone': 0, 'before': 0, 'after': 0, 'precision': 9, 'calendarmodel': 'http://www.wikidata.org/entity/Q1985727'}, 'type': 'time'}, 'datatype': 'time'}]}, 'qualifiers-order': ['P582', 'P580'], 'id': 'Q126399$C37E0697-2737-4D5A-AD7B-D877B5209A5C', 'rank': 'normal'}, {'mainsnak': {'snaktype': 'value', 'property': 'P355', 'hash': '105377dff85bf4553f3498d0d603e2d31c20036e', 'datavalue': {'value': {'entity-type': 'item', 'numeric-id': 466459, 'id': 'Q466459'}, 'type': 'wikibase-entityid'}, 'datatype': 'wikibase-item'}, 'type': 'statement', 'qualifiers': {'P582': [{'snaktype': 'value', 'property': 'P582', 'hash': 'd47b226459ce311a4ca34d89f1e1c20ef3cadece', 'datavalue': {'value': {'time': '+1998-07-29T00:00:00Z', 'timezone': 0, 'before': 0, 'after': 0, 'precision': 11, 'calendarmodel': 'http://www.wikidata.org/entity/Q1985727'}, 'type': 'time'}, 'datatype': 'time'}], 'P580': [{'snaktype': 'value', 'property': 'P580', 'hash': '8f65552b1a1102d314ff691b80d324cc95daa7fa', 'datavalue': {'value': {'time': '+1991-12-20T00:00:00Z', 'timezone': 0, 'before': 0, 'after': 0, 'precision': 11, 'calendarmodel': 'http://www.wikidata.org/entity/Q1985727'}, 'type': 'time'}, 'datatype': 'time'}]}, 'qualifiers-order': ['P582', 'P580'], 'id': 'Q126399$B918BE19-7161-42A7-B0FB-B30C9FE3026D', 'rank': 'normal'}, {'mainsnak': {'snaktype': 'value', 'property': 'P355', 'hash': '3b92d2e7733f302a669231969706e163a980fb2a', 'datavalue': {'value': {'entity-type': 'item', 'numeric-id': 622848, 'id': 'Q622848'}, 'type': 'wikibase-entityid'}, 'datatype': 'wikibase-item'}, 'type': 'statement', 'qualifiers': {'P580': [{'snaktype': 'value', 'property': 'P580', 'hash': 'e197143aff4ccedce9911e34aeeaac77a5311073', 'datavalue': {'value': {'time': '+2004-00-00T00:00:00Z', 'timezone': 0, 'before': 0, 'after': 0, 'precision': 9, 'calendarmodel': 'http://www.wikidata.org/entity/Q1985727'}, 'type': 'time'}, 'datatype': 'time'}]}, 'qualifiers-order': ['P580'], 'id': 'Q126399$716D98E5-3D3C-4A9C-A792-45ADFC5F3226', 'rank': 'normal'}, {'mainsnak': {'snaktype': 'value', 'property': 'P355', 'hash': '8884b6d2e3f3de5a03257176ef15d3946ed93863', 'datavalue': {'value': {'entity-type': 'item', 'numeric-id': 951774, 'id': 'Q951774'}, 'type': 'wikibase-entityid'}, 'datatype': 'wikibase-item'}, 'type': 'statement', 'id': 'Q126399$89A4A6F2-7A84-4F46-953D-7DA656F26C74', 'rank': 'normal'}, {'mainsnak': {'snaktype': 'value', 'property': 'P355', 'hash': 'a6be9e246d607126ee69af1f76647c2565da4573', 'datavalue': {'value': {'entity-type': 'item', 'numeric-id': 858803, 'id': 'Q858803'}, 'type': 'wikibase-entityid'}, 'datatype': 'wikibase-item'}, 'type': 'statement', 'id': 'Q126399$5E3AB981-0F43-4322-9690-C8F256534D54', 'rank': 'normal'}, {'mainsnak': {'snaktype': 'value', 'property': 'P355', 'hash': '583d52837f5fd802fec2ab620ab4f0891928a6fe', 'datavalue': {'value': {'entity-type': 'item', 'numeric-id': 3567087, 'id': 'Q3567087'}, 'type': 'wikibase-entityid'}, 'datatype': 'wikibase-item'}, 'type': 'statement', 'id': 'Q126399$7D015ECF-AFF3-44F7-9034-4E6D09CB8E5D', 'rank': 'normal'}, {'mainsnak': {'snaktype': 'value', 'property': 'P355', 'hash': '90efb2cf2cfa3eb5caf7636be4f8519614a84744', 'datavalue': {'value': {'entity-type': 'item', 'numeric-id': 2319420, 'id': 'Q2319420'}, 'type': 'wikibase-entityid'}, 'datatype': 'wikibase-item'}, 'type': 'statement', 'qualifiers': {'P580': [{'snaktype': 'value', 'property': 'P580', 'hash': 'ad6676ea09494c8a9dd18e7737815fa5756e4ae2', 'datavalue': {'value': {'time': '+2004-01-00T00:00:00Z', 'timezone': 0, 'before': 0, 'after': 0, 'precision': 10, 'calendarmodel': 'http://www.wikidata.org/entity/Q1985727'}, 'type': 'time'}, 'datatype': 'time'}], 'P582': [{'snaktype': 'value', 'property': 'P582', 'hash': 'eab0a77c39538218a38afc52ce0f62fbc4d3912e', 'datavalue': {'value': {'time': '+2005-10-25T00:00:00Z', 'timezone': 0, 'before': 0, 'after': 0, 'precision': 11, 'calendarmodel': 'http://www.wikidata.org/entity/Q1985727'}, 'type': 'time'}, 'datatype': 'time'}]}, 'qualifiers-order': ['P580', 'P582'], 'id': 'Q126399$C9B5502D-D60D-436E-B855-E3FAA5BC4F86', 'rank': 'normal', 'references': [{'hash': '852e6992dbbbe4364ace903c3fcb84182b246532', 'snaks': {'P854': [{'snaktype': 'value', 'property': 'P854', 'hash': 'cdb262fbe3685cb1e4fd5b05ab40d49805368c7c', 'datavalue': {'value': 'https://www.warnerbros.com/company/divisions/home-entertainment#warner-bros-interactive-entertainment', 'type': 'string'}, 'datatype': 'url'}], 'P813': [{'snaktype': 'value', 'property': 'P813', 'hash': '59daa09af3a0cf7e00ed7e3de62e5b099e92a718', 'datavalue': {'value': {'time': '+2022-03-29T00:00:00Z', 'timezone': 0, 'before': 0, 'after': 0, 'precision': 11, 'calendarmodel': 'http://www.wikidata.org/entity/Q1985727'}, 'type': 'time'}, 'datatype': 'time'}]}, 'snaks-order': ['P854', 'P813']}]}, {'mainsnak': {'snaktype': 'value', 'property': 'P355', 'hash': 'cf799235af2191da751843c175e015c086c6b9ff', 'datavalue': {'value': {'entity-type': 'item', 'numeric-id': 1188361, 'id': 'Q1188361'}, 'type': 'wikibase-entityid'}, 'datatype': 'wikibase-item'}, 'type': 'statement', 'id': 'Q126399$1205FBF4-D635-4B4B-8E9A-11091504A664', 'rank': 'normal'}, {'mainsnak': {'snaktype': 'value', 'property': 'P355', 'hash': '7c67da80dfbf18cf35c9f617592066b16c893d07', 'datavalue': {'value': {'entity-type': 'item', 'numeric-id': 7696754, 'id': 'Q7696754'}, 'type': 'wikibase-entityid'}, 'datatype': 'wikibase-item'}, 'type': 'statement', 'id': 'Q126399$4204B516-2886-415F-B593-300C93315917', 'rank': 'normal'}, {'mainsnak': {'snaktype': 'value', 'property': 'P355', 'hash': 'cac557cabed2f18e40731b5391581b8fc8003c10', 'datavalue': {'value': {'entity-type': 'item', 'numeric-id': 736464, 'id': 'Q736464'}, 'type': 'wikibase-entityid'}, 'datatype': 'wikibase-item'}, 'type': 'statement', 'id': 'Q126399$EF03479C-C6EA-43CD-8A9A-E2A6758D98BF', 'rank': 'normal'}, {'mainsnak': {'snaktype': 'value', 'property': 'P355', 'hash': '2a002ef966d7cb14a3817c3e301e1a6e218b881f', 'datavalue': {'value': {'entity-type': 'item', 'numeric-id': 724622, 'id': 'Q724622'}, 'type': 'wikibase-entityid'}, 'datatype': 'wikibase-item'}, 'type': 'statement', 'id': 'Q126399$04F12356-4EB3-4FB5-8991-757A17D10ECB', 'rank': 'normal'}, {'mainsnak': {'snaktype': 'value', 'property': 'P355', 'hash': '9d3a1bbba9b8ffac8972cfaecf44bffe068be45c', 'datavalue': {'value': {'entity-type': 'item', 'numeric-id': 1156642, 'id': 'Q1156642'}, 'type': 'wikibase-entityid'}, 'datatype': 'wikibase-item'}, 'type': 'statement', 'id': 'Q126399$DDCA5A4A-790B-4C9A-8A92-C312A1A1CE93', 'rank': 'normal'}, {'mainsnak': {'snaktype': 'value', 'property': 'P355', 'hash': '1fa68cac9e65f8454ce36f4f537e2bc324c7eb2f', 'datavalue': {'value': {'entity-type': 'item', 'numeric-id': 3750890, 'id': 'Q3750890'}, 'type': 'wikibase-entityid'}, 'datatype': 'wikibase-item'}, 'type': 'statement', 'id': 'Q126399$888264B0-6AC2-4DAD-9484-F8D23B06BD47', 'rank': 'normal'}, {'mainsnak': {'snaktype': 'value', 'property': 'P355', 'hash': '6225bcdd9bc884d45aa95f4c6cd2e5157dc64aed', 'datavalue': {'value': {'entity-type': 'item', 'numeric-id': 2924461, 'id': 'Q2924461'}, 'type': 'wikibase-entityid'}, 'datatype': 'wikibase-item'}, 'type': 'statement', 'id': 'Q126399$86CEA6A5-52C8-4414-866D-3C6AF177E8A7', 'rank': 'normal'}, {'mainsnak': {'snaktype': 'value', 'property': 'P355', 'hash': '5c57ccd1ccdcac74e93384fd591c24f8bbb188a1', 'datavalue': {'value': {'entity-type': 'item', 'numeric-id': 31197934, 'id': 'Q31197934'}, 'type': 'wikibase-entityid'}, 'datatype': 'wikibase-item'}, 'type': 'statement', 'id': 'Q126399$1dbb0f2e-4b48-e74c-1b08-e37a220523cc', 'rank': 'normal'}, {'mainsnak': {'snaktype': 'value', 'property': 'P355', 'hash': 'd90c1b40efded652e8b365b27efbb9fd27cbffa5', 'datavalue': {'value': {'entity-type': 'item', 'numeric-id': 3700311, 'id': 'Q3700311'}, 'type': 'wikibase-entityid'}, 'datatype': 'wikibase-item'}, 'type': 'statement', 'id': 'Q126399$b94db321-413f-e44b-f245-fd1174390ae8', 'rank': 'normal'}, {'mainsnak': {'snaktype': 'value', 'property': 'P355', 'hash': 'e702cf25e348f18524f771a598ad5eaab356f02e', 'datavalue': {'value': {'entity-type': 'item', 'numeric-id': 8016302, 'id': 'Q8016302'}, 'type': 'wikibase-entityid'}, 'datatype': 'wikibase-item'}, 'type': 'statement', 'id': 'Q126399$07691fe6-49ea-2e57-db5c-1cbbb2eff136', 'rank': 'normal'}], 'P7859': [{'mainsnak': {'snaktype': 'value', 'property': 'P7859', 'hash': 'c543b4041a258f8b93b894c4afab0d634e7541ed', 'datavalue': {'value': 'lccn-n2004008760', 'type': 'string'}, 'datatype': 'external-id'}, 'type': 'statement', 'id': 'Q126399$255DF88D-1A85-4BCF-9CFB-28325A5B3C14', 'rank': 'normal', 'references': [{'hash': '3e32beebd6738b573a8a7c8500e202d31036e85e', 'snaks': {'P214': [{'snaktype': 'value', 'property': 'P214', 'hash': '0b6d39a09c04aea6308d29a1769196d7bf7fc4d5', 'datavalue': {'value': '146783345', 'type': 'string'}, 'datatype': 'external-id'}]}, 'snaks-order': ['P214']}]}], 'P2627': [{'mainsnak': {'snaktype': 'value', 'property': 'P2627', 'hash': '539e8dc3630f3add47a991f2c6347c8b0dbe1deb', 'datavalue': {'value': 'WABEUS66XXX', 'type': 'string'}, 'datatype': 'external-id'}, 'type': 'statement', 'id': 'Q126399$AB09F105-6FB9-428E-8829-51BB2F919F1F', 'rank': 'normal', 'references': [{'hash': 'caf857ec3cda28ba1bf4bde1da40d2245519d48b', 'snaks': {'P854': [{'snaktype': 'value', 'property': 'P854', 'hash': '4848c82e94160258c1be8c23b89f330a48fb6496', 'datavalue': {'value': 'https://www.gleif.org/content/4-lei-data/8-lei-mapping/1-download-bic-to-lei-relationship-files/bic_lei_gleif_v1_monthly_full_20200327.csv', 'type': 'string'}, 'datatype': 'url'}], 'P577': [{'snaktype': 'value', 'property': 'P577', 'hash': '8813f39ae109f50c76098aba94f842ef1db5b4c8', 'datavalue': {'value': {'time': '+2020-03-27T00:00:00Z', 'timezone': 0, 'before': 0, 'after': 0, 'precision': 11, 'calendarmodel': 'http://www.wikidata.org/entity/Q1985727'}, 'type': 'time'}, 'datatype': 'time'}]}, 'snaks-order': ['P854', 'P577']}]}], 'P138': [{'mainsnak': {'snaktype': 'value', 'property': 'P138', 'hash': 'c98cd265a8270c7538ee1a571e2abe83a56032e9', 'datavalue': {'value': {'entity-type': 'item', 'numeric-id': 2721194, 'id': 'Q2721194'}, 'type': 'wikibase-entityid'}, 'datatype': 'wikibase-item'}, 'type': 'statement', 'id': 'Q126399$11b0b1f1-413b-4ebc-3bb7-423d73870297', 'rank': 'normal'}, {'mainsnak': {'snaktype': 'value', 'property': 'P138', 'hash': 'a983360f2852ba98a1d3336617c796a94dedfc1d', 'datavalue': {'value': {'entity-type': 'item', 'numeric-id': 104161, 'id': 'Q104161'}, 'type': 'wikibase-entityid'}, 'datatype': 'wikibase-item'}, 'type': 'statement', 'id': 'Q126399$956a1b25-46b9-ecfc-baaf-f62673bd9fac', 'rank': 'normal'}, {'mainsnak': {'snaktype': 'value', 'property': 'P138', 'hash': '90ca75c8558acb1c00acec782d65e54fa8ac673d', 'datavalue': {'value': {'entity-type': 'item', 'numeric-id': 1384655, 'id': 'Q1384655'}, 'type': 'wikibase-entityid'}, 'datatype': 'wikibase-item'}, 'type': 'statement', 'id': 'Q126399$de1e5e84-4774-7bd2-8e58-6bc598d4afb5', 'rank': 'normal'}, {'mainsnak': {'snaktype': 'value', 'property': 'P138', 'hash': 'bb1dd191be3ba927622c2079277b9c296c546205', 'datavalue': {'value': {'entity-type': 'item', 'numeric-id': 72614, 'id': 'Q72614'}, 'type': 'wikibase-entityid'}, 'datatype': 'wikibase-item'}, 'type': 'statement', 'id': 'Q126399$74a68dbb-44e3-4210-0e8c-5e9f2aa7d2d2', 'rank': 'normal'}], 'P2088': [{'mainsnak': {'snaktype': 'value', 'property': 'P2088', 'hash': '5719a8f067762bd34a2ae0156884fecc103d6b39', 'datavalue': {'value': 'warner-bros-entertainment-group-of-companies', 'type': 'string'}, 'datatype': 'external-id'}, 'type': 'statement', 'qualifiers': {'P2241': [{'snaktype': 'value', 'property': 'P2241', 'hash': '4fbc764998cf655c7e355bbdeec7b13c9ad8b8c3', 'datavalue': {'value': {'entity-type': 'item', 'numeric-id': 54976355, 'id': 'Q54976355'}, 'type': 'wikibase-entityid'}, 'datatype': 'wikibase-item'}]}, 'qualifiers-order': ['P2241'], 'id': 'Q126399$7C0DA51F-B822-4646-868E-A0287504A5BA', 'rank': 'deprecated', 'references': [{'hash': '425031d31194559bc4ba807bafe83a9f0b7d515f', 'snaks': {'P854': [{'snaktype': 'value', 'property': 'P854', 'hash': '68d41b23616d5154639b03a23aff612f0b1e09df', 'datavalue': {'value': 'http://km.aifb.kit.edu/services/crunchbase/', 'type': 'string'}, 'datatype': 'url'}]}, 'snaks-order': ['P854']}]}, {'mainsnak': {'snaktype': 'value', 'property': 'P2088', 'hash': '93c2db32215ff85ab44ce81b1b938b52599527a7', 'datavalue': {'value': 'warner-bros', 'type': 'string'}, 'datatype': 'external-id'}, 'type': 'statement', 'qualifiers': {'P1810': [{'snaktype': 'value', 'property': 'P1810', 'hash': '22e92012ab3d71b9d639a7eb8a1e0693734901ce', 'datavalue': {'value': 'Warner Bros.', 'type': 'string'}, 'datatype': 'string'}]}, 'qualifiers-order': ['P1810'], 'id': 'Q126399$39E4A912-102A-484D-B369-B54BC23DB5C7', 'rank': 'normal', 'references': [{'hash': '425031d31194559bc4ba807bafe83a9f0b7d515f', 'snaks': {'P854': [{'snaktype': 'value', 'property': 'P854', 'hash': '68d41b23616d5154639b03a23aff612f0b1e09df', 'datavalue': {'value': 'http://km.aifb.kit.edu/services/crunchbase/', 'type': 'string'}, 'datatype': 'url'}]}, 'snaks-order': ['P854']}]}], 'P1889': [{'mainsnak': {'snaktype': 'value', 'property': 'P1889', 'hash': 'bab0ac46113da648f2d5a292011eea87c157491f', 'datavalue': {'value': {'entity-type': 'item', 'numeric-id': 64485206, 'id': 'Q64485206'}, 'type': 'wikibase-entityid'}, 'datatype': 'wikibase-item'}, 'type': 'statement', 'id': 'Q126399$FC8BA986-6DBA-4507-A87C-917B34859D01', 'rank': 'normal', 'references': [{'hash': '1ce54a9cf88b2ea9d812077ad90f15afc6c35b5f', 'snaks': {'P143': [{'snaktype': 'value', 'property': 'P143', 'hash': '39224a9c2e8ce5424defbd16603d25771956c7fc', 'datavalue': {'value': {'entity-type': 'item', 'numeric-id': 1551807, 'id': 'Q1551807'}, 'type': 'wikibase-entityid'}, 'datatype': 'wikibase-item'}], 'P4656': [{'snaktype': 'value', 'property': 'P4656', 'hash': '0f100901cb5429b4bea62e67c6b8feeab11079b6', 'datavalue': {'value': 'https://pl.wikipedia.org/w/index.php?title=Warner_Bros.&oldid=63801552', 'type': 'string'}, 'datatype': 'url'}]}, 'snaks-order': ['P143', 'P4656']}]}], 'P8317': [{'mainsnak': {'snaktype': 'value', 'property': 'P8317', 'hash': '1169573d3f79356b4ca6177346c38bd84cfae39b', 'datavalue': {'value': '64618', 'type': 'string'}, 'datatype': 'external-id'}, 'type': 'statement', 'qualifiers': {'P2241': [{'snaktype': 'value', 'property': 'P2241', 'hash': '4fbc764998cf655c7e355bbdeec7b13c9ad8b8c3', 'datavalue': {'value': {'entity-type': 'item', 'numeric-id': 54976355, 'id': 'Q54976355'}, 'type': 'wikibase-entityid'}, 'datatype': 'wikibase-item'}]}, 'qualifiers-order': ['P2241'], 'id': 'Q126399$AE7C3516-E57F-4648-A729-CC47F1879B77', 'rank': 'deprecated'}], 'P10297': [{'mainsnak': {'snaktype': 'value', 'property': 'P10297', 'hash': '30bee83a305d1a396bcae891439afcebad970b1b', 'datavalue': {'value': 'm086k8', 'type': 'string'}, 'datatype': 'external-id'}, 'type': 'statement', 'id': 'Q126399$00036561-EFB5-4337-81E5-667A58DC81E2', 'rank': 'normal'}], 'P8313': [{'mainsnak': {'snaktype': 'value', 'property': 'P8313', 'hash': 'e332cb66b707e81f6aee6b743b4693816e487b42', 'datavalue': {'value': 'Warner_Bros.', 'type': 'string'}, 'datatype': 'external-id'}, 'type': 'statement', 'id': 'Q126399$A0B90576-7794-4650-BC7A-6BCCBDAC4465', 'rank': 'normal'}], 'P2388': [{'mainsnak': {'snaktype': 'value', 'property': 'P2388', 'hash': 'a244ae5f426900a84c3fb5e18f13e40195a4bdfb', 'datavalue': {'value': {'entity-type': 'item', 'numeric-id': 111204401, 'id': 'Q111204401'}, 'type': 'wikibase-entityid'}, 'datatype': 'wikibase-item'}, 'type': 'statement', 'id': 'Q126399$05fab58c-4fd1-a09a-91ff-23af724ca1e9', 'rank': 'normal'}], 'P460': [{'mainsnak': {'snaktype': 'value', 'property': 'P460', 'hash': '9878d6816db4124c1335e49c184ff225ffa7678c', 'datavalue': {'value': {'entity-type': 'item', 'numeric-id': 64488868, 'id': 'Q64488868'}, 'type': 'wikibase-entityid'}, 'datatype': 'wikibase-item'}, 'type': 'statement', 'id': 'Q126399$06798ea6-4aaf-515c-ac76-6aaca2da5a83', 'rank': 'normal'}], 'P213': [{'mainsnak': {'snaktype': 'value', 'property': 'P213', 'hash': '11c1d5cb193ae1f76f68340da41348312c7aa663', 'datavalue': {'value': '0000 0001 2236 0507', 'type': 'string'}, 'datatype': 'external-id'}, 'type': 'statement', 'qualifiers': {'P1810': [{'snaktype': 'value', 'property': 'P1810', 'hash': '661f2dad166161c6e1eb7c9539ce158f77e928dd', 'datavalue': {'value': 'Warner Bros. Entertainment', 'type': 'string'}, 'datatype': 'string'}]}, 'qualifiers-order': ['P1810'], 'id': 'Q126399$562bd3d9-4108-6343-20d6-fb38e195345d', 'rank': 'normal', 'references': [{'hash': 'b40820712374c9eac0eed8aced2b58c9fed4b368', 'snaks': {'P248': [{'snaktype': 'value', 'property': 'P248', 'hash': '6b7d4330c4aac4caec4ede9de0311ce273f88ecd', 'datavalue': {'value': {'entity-type': 'item', 'numeric-id': 54919, 'id': 'Q54919'}, 'type': 'wikibase-entityid'}, 'datatype': 'wikibase-item'}], 'P214': [{'snaktype': 'value', 'property': 'P214', 'hash': '0b6d39a09c04aea6308d29a1769196d7bf7fc4d5', 'datavalue': {'value': '146783345', 'type': 'string'}, 'datatype': 'external-id'}], 'P813': [{'snaktype': 'value', 'property': 'P813', 'hash': '59daa09af3a0cf7e00ed7e3de62e5b099e92a718', 'datavalue': {'value': {'time': '+2022-03-29T00:00:00Z', 'timezone': 0, 'before': 0, 'after': 0, 'precision': 11, 'calendarmodel': 'http://www.wikidata.org/entity/Q1985727'}, 'type': 'time'}, 'datatype': 'time'}]}, 'snaks-order': ['P248', 'P214', 'P813']}]}, {'mainsnak': {'snaktype': 'value', 'property': 'P213', 'hash': '91cc2e03a117c5a2d6460246b348badee6af0ec2', 'datavalue': {'value': '0000 0004 0425 2029', 'type': 'string'}, 'datatype': 'external-id'}, 'type': 'statement', 'qualifiers': {'P1810': [{'snaktype': 'value', 'property': 'P1810', 'hash': '071987f81e4700385d021380320f178d49b2a00b', 'datavalue': {'value': 'Warner Brothers Entertainment Inc', 'type': 'string'}, 'datatype': 'string'}]}, 'qualifiers-order': ['P1810'], 'id': 'Q126399$07D5F96A-B37A-4A4F-B4E9-E366338E1AB6', 'rank': 'normal'}], 'P7293': [{'mainsnak': {'snaktype': 'value', 'property': 'P7293', 'hash': 'd2b0d4ba6b0ab6eb7a7a67946d673ac509123256', 'datavalue': {'value': '9810581403705606', 'type': 'string'}, 'datatype': 'external-id'}, 'type': 'statement', 'id': 'Q126399$af7d48b0-48b0-07cd-ebd4-2d971b30dea2', 'rank': 'normal', 'references': [{'hash': 'b40820712374c9eac0eed8aced2b58c9fed4b368', 'snaks': {'P248': [{'snaktype': 'value', 'property': 'P248', 'hash': '6b7d4330c4aac4caec4ede9de0311ce273f88ecd', 'datavalue': {'value': {'entity-type': 'item', 'numeric-id': 54919, 'id': 'Q54919'}, 'type': 'wikibase-entityid'}, 'datatype': 'wikibase-item'}], 'P214': [{'snaktype': 'value', 'property': 'P214', 'hash': '0b6d39a09c04aea6308d29a1769196d7bf7fc4d5', 'datavalue': {'value': '146783345', 'type': 'string'}, 'datatype': 'external-id'}], 'P813': [{'snaktype': 'value', 'property': 'P813', 'hash': '59daa09af3a0cf7e00ed7e3de62e5b099e92a718', 'datavalue': {'value': {'time': '+2022-03-29T00:00:00Z', 'timezone': 0, 'before': 0, 'after': 0, 'precision': 11, 'calendarmodel': 'http://www.wikidata.org/entity/Q1985727'}, 'type': 'time'}, 'datatype': 'time'}]}, 'snaks-order': ['P248', 'P214', 'P813']}]}], 'P8179': [{'mainsnak': {'snaktype': 'value', 'property': 'P8179', 'hash': '76bc1f3b44330c1ff9d4c34613b02dc3268a0ac8', 'datavalue': {'value': 'ncf12088187', 'type': 'string'}, 'datatype': 'external-id'}, 'type': 'statement', 'id': 'Q126399$992d2768-43b3-a964-6f93-b325d085e13c', 'rank': 'normal', 'references': [{'hash': 'b40820712374c9eac0eed8aced2b58c9fed4b368', 'snaks': {'P248': [{'snaktype': 'value', 'property': 'P248', 'hash': '6b7d4330c4aac4caec4ede9de0311ce273f88ecd', 'datavalue': {'value': {'entity-type': 'item', 'numeric-id': 54919, 'id': 'Q54919'}, 'type': 'wikibase-entityid'}, 'datatype': 'wikibase-item'}], 'P214': [{'snaktype': 'value', 'property': 'P214', 'hash': '0b6d39a09c04aea6308d29a1769196d7bf7fc4d5', 'datavalue': {'value': '146783345', 'type': 'string'}, 'datatype': 'external-id'}], 'P813': [{'snaktype': 'value', 'property': 'P813', 'hash': '59daa09af3a0cf7e00ed7e3de62e5b099e92a718', 'datavalue': {'value': {'time': '+2022-03-29T00:00:00Z', 'timezone': 0, 'before': 0, 'after': 0, 'precision': 11, 'calendarmodel': 'http://www.wikidata.org/entity/Q1985727'}, 'type': 'time'}, 'datatype': 'time'}]}, 'snaks-order': ['P248', 'P214', 'P813']}]}], 'P409': [{'mainsnak': {'snaktype': 'value', 'property': 'P409', 'hash': 'b9441ddfa6926f938539a19dbc83c342e53152ae', 'datavalue': {'value': '64551057', 'type': 'string'}, 'datatype': 'external-id'}, 'type': 'statement', 'id': 'Q126399$bcffc5f2-4060-ac6f-cd82-906e01c97477', 'rank': 'normal', 'references': [{'hash': 'b40820712374c9eac0eed8aced2b58c9fed4b368', 'snaks': {'P248': [{'snaktype': 'value', 'property': 'P248', 'hash': '6b7d4330c4aac4caec4ede9de0311ce273f88ecd', 'datavalue': {'value': {'entity-type': 'item', 'numeric-id': 54919, 'id': 'Q54919'}, 'type': 'wikibase-entityid'}, 'datatype': 'wikibase-item'}], 'P214': [{'snaktype': 'value', 'property': 'P214', 'hash': '0b6d39a09c04aea6308d29a1769196d7bf7fc4d5', 'datavalue': {'value': '146783345', 'type': 'string'}, 'datatype': 'external-id'}], 'P813': [{'snaktype': 'value', 'property': 'P813', 'hash': '59daa09af3a0cf7e00ed7e3de62e5b099e92a718', 'datavalue': {'value': {'time': '+2022-03-29T00:00:00Z', 'timezone': 0, 'before': 0, 'after': 0, 'precision': 11, 'calendarmodel': 'http://www.wikidata.org/entity/Q1985727'}, 'type': 'time'}, 'datatype': 'time'}]}, 'snaks-order': ['P248', 'P214', 'P813']}]}], 'P1375': [{'mainsnak': {'snaktype': 'value', 'property': 'P1375', 'hash': '701e3afb9d84fa0b08fdb8571040183d32f164e4', 'datavalue': {'value': '000056338', 'type': 'string'}, 'datatype': 'external-id'}, 'type': 'statement', 'qualifiers': {'P1810': [{'snaktype': 'value', 'property': 'P1810', 'hash': '0a2932e86bc246762c788825a0c75c241c8f6b83', 'datavalue': {'value': 'Warner Brothers (New York)\\u200f', 'type': 'string'}, 'datatype': 'string'}]}, 'qualifiers-order': ['P1810'], 'id': 'Q126399$01bdcd60-48bc-642e-1c32-7352addc905e', 'rank': 'normal', 'references': [{'hash': 'b40820712374c9eac0eed8aced2b58c9fed4b368', 'snaks': {'P248': [{'snaktype': 'value', 'property': 'P248', 'hash': '6b7d4330c4aac4caec4ede9de0311ce273f88ecd', 'datavalue': {'value': {'entity-type': 'item', 'numeric-id': 54919, 'id': 'Q54919'}, 'type': 'wikibase-entityid'}, 'datatype': 'wikibase-item'}], 'P214': [{'snaktype': 'value', 'property': 'P214', 'hash': '0b6d39a09c04aea6308d29a1769196d7bf7fc4d5', 'datavalue': {'value': '146783345', 'type': 'string'}, 'datatype': 'external-id'}], 'P813': [{'snaktype': 'value', 'property': 'P813', 'hash': '59daa09af3a0cf7e00ed7e3de62e5b099e92a718', 'datavalue': {'value': {'time': '+2022-03-29T00:00:00Z', 'timezone': 0, 'before': 0, 'after': 0, 'precision': 11, 'calendarmodel': 'http://www.wikidata.org/entity/Q1985727'}, 'type': 'time'}, 'datatype': 'time'}]}, 'snaks-order': ['P248', 'P214', 'P813']}]}], 'P2163': [{'mainsnak': {'snaktype': 'value', 'property': 'P2163', 'hash': 'c20b0745d70059e9c9b17d14c812ccd944b775b8', 'datavalue': {'value': '788250', 'type': 'string'}, 'datatype': 'external-id'}, 'type': 'statement', 'id': 'Q126399$7be6f4a0-41d7-7268-e784-28783c35cfcc', 'rank': 'normal', 'references': [{'hash': 'e73ad6e7253042cc8414599bd3507df3aa01fe0c', 'snaks': {'P248': [{'snaktype': 'value', 'property': 'P248', 'hash': 'd29d09e6acaeb2bde42bcc6eb145b6c39fd49019', 'datavalue': {'value': {'entity-type': 'item', 'numeric-id': 18912790, 'id': 'Q18912790'}, 'type': 'wikibase-entityid'}, 'datatype': 'wikibase-item'}], 'P244': [{'snaktype': 'value', 'property': 'P244', 'hash': '56fabb9f5649c451ab61094fc6a9a06aa1981bb8', 'datavalue': {'value': 'n2004008760', 'type': 'string'}, 'datatype': 'external-id'}], 'P813': [{'snaktype': 'value', 'property': 'P813', 'hash': '59daa09af3a0cf7e00ed7e3de62e5b099e92a718', 'datavalue': {'value': {'time': '+2022-03-29T00:00:00Z', 'timezone': 0, 'before': 0, 'after': 0, 'precision': 11, 'calendarmodel': 'http://www.wikidata.org/entity/Q1985727'}, 'type': 'time'}, 'datatype': 'time'}]}, 'snaks-order': ['P248', 'P244', 'P813']}]}], 'P8189': [{'mainsnak': {'snaktype': 'value', 'property': 'P8189', 'hash': 'b52615fcbca7f07696c080bc393d25515d83a118', 'datavalue': {'value': '987007345350405171', 'type': 'string'}, 'datatype': 'external-id'}, 'type': 'statement', 'id': 'Q126399$544169c9-4ef7-01b2-565c-50bf39de96c3', 'rank': 'normal', 'references': [{'hash': 'b40820712374c9eac0eed8aced2b58c9fed4b368', 'snaks': {'P248': [{'snaktype': 'value', 'property': 'P248', 'hash': '6b7d4330c4aac4caec4ede9de0311ce273f88ecd', 'datavalue': {'value': {'entity-type': 'item', 'numeric-id': 54919, 'id': 'Q54919'}, 'type': 'wikibase-entityid'}, 'datatype': 'wikibase-item'}], 'P214': [{'snaktype': 'value', 'property': 'P214', 'hash': '0b6d39a09c04aea6308d29a1769196d7bf7fc4d5', 'datavalue': {'value': '146783345', 'type': 'string'}, 'datatype': 'external-id'}], 'P813': [{'snaktype': 'value', 'property': 'P813', 'hash': '59daa09af3a0cf7e00ed7e3de62e5b099e92a718', 'datavalue': {'value': {'time': '+2022-03-29T00:00:00Z', 'timezone': 0, 'before': 0, 'after': 0, 'precision': 11, 'calendarmodel': 'http://www.wikidata.org/entity/Q1985727'}, 'type': 'time'}, 'datatype': 'time'}]}, 'snaks-order': ['P248', 'P214', 'P813']}]}], 'P3630': [{'mainsnak': {'snaktype': 'value', 'property': 'P3630', 'hash': 'c323606db7fbf9f44b543ff746ad3db4dbb7461a', 'datavalue': {'value': '84463', 'type': 'string'}, 'datatype': 'external-id'}, 'type': 'statement', 'id': 'Q126399$C37E5544-62C0-4550-BF9F-F085464419FA', 'rank': 'normal'}], 'P1207': [{'mainsnak': {'snaktype': 'value', 'property': 'P1207', 'hash': '81b20d60083aafcc30a705f91495235c7b9923a2', 'datavalue': {'value': 'n2007045591', 'type': 'string'}, 'datatype': 'external-id'}, 'type': 'statement', 'qualifiers': {'P1810': [{'snaktype': 'value', 'property': 'P1810', 'hash': '76ddb3070bab89278eb1ffe917eb69ca89152c02', 'datavalue': {'value': 'Warner Bros Entertainment.', 'type': 'string'}, 'datatype': 'string'}]}, 'qualifiers-order': ['P1810'], 'id': 'Q126399$1bbe6adb-4536-ab30-4b45-3f006a93968a', 'rank': 'normal', 'references': [{'hash': 'd8d7c95d394033aac6c8c23a52cbda828456d686', 'snaks': {'P248': [{'snaktype': 'value', 'property': 'P248', 'hash': '6b7d4330c4aac4caec4ede9de0311ce273f88ecd', 'datavalue': {'value': {'entity-type': 'item', 'numeric-id': 54919, 'id': 'Q54919'}, 'type': 'wikibase-entityid'}, 'datatype': 'wikibase-item'}], 'P214': [{'snaktype': 'value', 'property': 'P214', 'hash': 'f32662bb608173a99e2f35cb0eed32240d2cb128', 'datavalue': {'value': '125616052', 'type': 'string'}, 'datatype': 'external-id'}], 'P813': [{'snaktype': 'value', 'property': 'P813', 'hash': '59daa09af3a0cf7e00ed7e3de62e5b099e92a718', 'datavalue': {'value': {'time': '+2022-03-29T00:00:00Z', 'timezone': 0, 'before': 0, 'after': 0, 'precision': 11, 'calendarmodel': 'http://www.wikidata.org/entity/Q1985727'}, 'type': 'time'}, 'datatype': 'time'}]}, 'snaks-order': ['P248', 'P214', 'P813']}]}], 'P1695': [{'mainsnak': {'snaktype': 'value', 'property': 'P1695', 'hash': '6350510f3a2da34ee93ab0819f95219d3563460d', 'datavalue': {'value': 'A19866094', 'type': 'string'}, 'datatype': 'external-id'}, 'type': 'statement', 'id': 'Q126399$51ad4626-4fbf-7ab2-247a-22978f98585a', 'rank': 'normal', 'references': [{'hash': 'b40820712374c9eac0eed8aced2b58c9fed4b368', 'snaks': {'P248': [{'snaktype': 'value', 'property': 'P248', 'hash': '6b7d4330c4aac4caec4ede9de0311ce273f88ecd', 'datavalue': {'value': {'entity-type': 'item', 'numeric-id': 54919, 'id': 'Q54919'}, 'type': 'wikibase-entityid'}, 'datatype': 'wikibase-item'}], 'P214': [{'snaktype': 'value', 'property': 'P214', 'hash': '0b6d39a09c04aea6308d29a1769196d7bf7fc4d5', 'datavalue': {'value': '146783345', 'type': 'string'}, 'datatype': 'external-id'}], 'P813': [{'snaktype': 'value', 'property': 'P813', 'hash': '59daa09af3a0cf7e00ed7e3de62e5b099e92a718', 'datavalue': {'value': {'time': '+2022-03-29T00:00:00Z', 'timezone': 0, 'before': 0, 'after': 0, 'precision': 11, 'calendarmodel': 'http://www.wikidata.org/entity/Q1985727'}, 'type': 'time'}, 'datatype': 'time'}]}, 'snaks-order': ['P248', 'P214', 'P813']}]}], 'P3553': [{'mainsnak': {'snaktype': 'value', 'property': 'P3553', 'hash': '6eaff6ece39424f35e59a74613b177e1cdbfd204', 'datavalue': {'value': '20019780', 'type': 'string'}, 'datatype': 'external-id'}, 'type': 'statement', 'id': 'Q126399$60FD1295-22E2-4EE0-A313-572ED5B8B5BA', 'rank': 'normal'}], 'P9885': [{'mainsnak': {'snaktype': 'value', 'property': 'P9885', 'hash': '0cf8142fcc2de393fd4434e25d4c6ee07123e1d2', 'datavalue': {'value': '43c6f14d-c3e9-4b64-6154-aa0aedd74b01', 'type': 'string'}, 'datatype': 'external-id'}, 'type': 'statement', 'id': 'Q126399$23773539-493e-04ab-c6b0-ca31dd73574c', 'rank': 'normal'}], 'P1955': [{'mainsnak': {'snaktype': 'value', 'property': 'P1955', 'hash': 'ef9d0a44e6c8da188690e4a96dc2c5ace0c00fb4', 'datavalue': {'value': '97122', 'type': 'string'}, 'datatype': 'external-id'}, 'type': 'statement', 'id': 'Q126399$84ccec38-4dc0-890e-35f7-1676319cbe56', 'rank': 'normal', 'references': [{'hash': '6403f6f2aa0708c59a1fc5903f8a3dc0befc64e1', 'snaks': {'P248': [{'snaktype': 'value', 'property': 'P248', 'hash': '623cc8f0e2f65afe4d66b91962d354a2f3aa9a27', 'datavalue': {'value': {'entity-type': 'item', 'numeric-id': 14005, 'id': 'Q14005'}, 'type': 'wikibase-entityid'}, 'datatype': 'wikibase-item'}], 'P966': [{'snaktype': 'value', 'property': 'P966', 'hash': 'a86b2d6be41d8627fe5692f0c9902b3d233e36d9', 'datavalue': {'value': 'b48c1f5c-cf18-485a-ad54-1da5927dbc92', 'type': 'string'}, 'datatype': 'external-id'}], 'P813': [{'snaktype': 'value', 'property': 'P813', 'hash': '59daa09af3a0cf7e00ed7e3de62e5b099e92a718', 'datavalue': {'value': {'time': '+2022-03-29T00:00:00Z', 'timezone': 0, 'before': 0, 'after': 0, 'precision': 11, 'calendarmodel': 'http://www.wikidata.org/entity/Q1985727'}, 'type': 'time'}, 'datatype': 'time'}]}, 'snaks-order': ['P248', 'P966', 'P813']}]}], 'P3943': [{'mainsnak': {'snaktype': 'value', 'property': 'P3943', 'hash': 'b300d418aae4232c7ced1b9666ec848d34682e0c', 'datavalue': {'value': 'warnerbrosentertainment', 'type': 'string'}, 'datatype': 'external-id'}, 'type': 'statement', 'id': 'Q126399$fbfca06e-4270-8be9-b848-b8c97f6ea9a4', 'rank': 'normal', 'references': [{'hash': '8f8441b9e2b7a603ec7aaba28531dbf41fa0fb17', 'snaks': {'P248': [{'snaktype': 'value', 'property': 'P248', 'hash': 'c34208b35b041d6758e6b68814cd263cacdabb10', 'datavalue': {'value': {'entity-type': 'item', 'numeric-id': 504063, 'id': 'Q504063'}, 'type': 'wikibase-entityid'}, 'datatype': 'wikibase-item'}], 'P1955': [{'snaktype': 'value', 'property': 'P1955', 'hash': 'ef9d0a44e6c8da188690e4a96dc2c5ace0c00fb4', 'datavalue': {'value': '97122', 'type': 'string'}, 'datatype': 'external-id'}], 'P813': [{'snaktype': 'value', 'property': 'P813', 'hash': '59daa09af3a0cf7e00ed7e3de62e5b099e92a718', 'datavalue': {'value': {'time': '+2022-03-29T00:00:00Z', 'timezone': 0, 'before': 0, 'after': 0, 'precision': 11, 'calendarmodel': 'http://www.wikidata.org/entity/Q1985727'}, 'type': 'time'}, 'datatype': 'time'}]}, 'snaks-order': ['P248', 'P1955', 'P813']}]}], 'P7708': [{'mainsnak': {'snaktype': 'value', 'property': 'P7708', 'hash': '7c0e3bd23ba9faad198e5af92509b1fc6f490cdc', 'datavalue': {'value': '1375', 'type': 'string'}, 'datatype': 'external-id'}, 'type': 'statement', 'id': 'Q126399$FA63575A-5892-4425-AD94-DEF9F66BDBE1', 'rank': 'normal'}], 'P9807': [{'mainsnak': {'snaktype': 'value', 'property': 'P9807', 'hash': '692cc87b76559aab3e1b7222c79502d633924011', 'datavalue': {'value': '107924', 'type': 'string'}, 'datatype': 'external-id'}, 'type': 'statement', 'qualifiers': {'P1810': [{'snaktype': 'value', 'property': 'P1810', 'hash': '22e92012ab3d71b9d639a7eb8a1e0693734901ce', 'datavalue': {'value': 'Warner Bros.', 'type': 'string'}, 'datatype': 'string'}]}, 'qualifiers-order': ['P1810'], 'id': 'Q126399$c285d234-43d3-749f-0784-a63c9739dd4d', 'rank': 'normal', 'references': [{'hash': '9486e05c0acf383183067356341dba5da4407aa6', 'snaks': {'P854': [{'snaktype': 'value', 'property': 'P854', 'hash': '99e4b6e382eb32256fb2ff03481938cd60f0c9f5', 'datavalue': {'value': 'https://autority.snk.sk/cgi-bin/koha/opac-authoritiesdetail.pl?authid=107924', 'type': 'string'}, 'datatype': 'url'}], 'P813': [{'snaktype': 'value', 'property': 'P813', 'hash': '59daa09af3a0cf7e00ed7e3de62e5b099e92a718', 'datavalue': {'value': {'time': '+2022-03-29T00:00:00Z', 'timezone': 0, 'before': 0, 'after': 0, 'precision': 11, 'calendarmodel': 'http://www.wikidata.org/entity/Q1985727'}, 'type': 'time'}, 'datatype': 'time'}]}, 'snaks-order': ['P854', 'P813']}]}], 'P7502': [{'mainsnak': {'snaktype': 'value', 'property': 'P7502', 'hash': 'fdcf1d0bc6b1afd30976601e88983860a5777b3f', 'datavalue': {'value': 'Warner_Bros.', 'type': 'string'}, 'datatype': 'external-id'}, 'type': 'statement', 'id': 'Q126399$3618b1bc-4ae5-7e58-0ae8-d4d9d94d4312', 'rank': 'normal', 'references': [{'hash': '31f9fafb3ad4e62daf43ba335b5d0e93a18ebf25', 'snaks': {'P854': [{'snaktype': 'value', 'property': 'P854', 'hash': 'b662db9022d569c5253fa85ca70b5682ed581879', 'datavalue': {'value': 'https://golden.com/wiki/Warner_Bros.-JNDZN', 'type': 'string'}, 'datatype': 'url'}], 'P813': [{'snaktype': 'value', 'property': 'P813', 'hash': '59daa09af3a0cf7e00ed7e3de62e5b099e92a718', 'datavalue': {'value': {'time': '+2022-03-29T00:00:00Z', 'timezone': 0, 'before': 0, 'after': 0, 'precision': 11, 'calendarmodel': 'http://www.wikidata.org/entity/Q1985727'}, 'type': 'time'}, 'datatype': 'time'}]}, 'snaks-order': ['P854', 'P813']}]}], 'P4264': [{'mainsnak': {'snaktype': 'value', 'property': 'P4264', 'hash': 'f3b07c53897c922f9b55b5d8a4a7d1d9529cc2ec', 'datavalue': {'value': 'warner-bros--entertainment', 'type': 'string'}, 'datatype': 'external-id'}, 'type': 'statement', 'id': 'Q126399$95af9eea-4db9-51d2-57ea-f9891373b0f0', 'rank': 'normal', 'references': [{'hash': '34b10f4b64eb43d30ba2df0ae74669a143e668a2', 'snaks': {'P248': [{'snaktype': 'value', 'property': 'P248', 'hash': '17a1ade096ec6676bae150c72c4530761da346c6', 'datavalue': {'value': {'entity-type': 'item', 'numeric-id': 10846831, 'id': 'Q10846831'}, 'type': 'wikibase-entityid'}, 'datatype': 'wikibase-item'}], 'P2088': [{'snaktype': 'value', 'property': 'P2088', 'hash': '93c2db32215ff85ab44ce81b1b938b52599527a7', 'datavalue': {'value': 'warner-bros', 'type': 'string'}, 'datatype': 'external-id'}], 'P813': [{'snaktype': 'value', 'property': 'P813', 'hash': '59daa09af3a0cf7e00ed7e3de62e5b099e92a718', 'datavalue': {'value': {'time': '+2022-03-29T00:00:00Z', 'timezone': 0, 'before': 0, 'after': 0, 'precision': 11, 'calendarmodel': 'http://www.wikidata.org/entity/Q1985727'}, 'type': 'time'}, 'datatype': 'time'}]}, 'snaks-order': ['P248', 'P2088', 'P813']}]}], 'P6839': [{'mainsnak': {'snaktype': 'value', 'property': 'P6839', 'hash': '8b51b2d4bbcf544e877ae4cd906814f28cb508aa', 'datavalue': {'value': 'Creator/WarnerBros', 'type': 'string'}, 'datatype': 'external-id'}, 'type': 'statement', 'id': 'Q126399$bf8347fa-4e4d-b30d-e8ad-32498a86ab00', 'rank': 'normal'}], 'P8895': [{'mainsnak': {'snaktype': 'value', 'property': 'P8895', 'hash': 'd7a4016b5a151f6a47b3dd7e337c1ca066135d68', 'datavalue': {'value': 'Warner_Bros.', 'type': 'string'}, 'datatype': 'external-id'}, 'type': 'statement', 'id': 'Q126399$aec2d1d7-49b9-7f8b-db74-7014d13a8e51', 'rank': 'normal'}], 'P1320': [{'mainsnak': {'snaktype': 'value', 'property': 'P1320', 'hash': 'ff1b3a5f6f06116ab2240fa600d494fb34821eaf', 'datavalue': {'value': 'us_de/3578617', 'type': 'string'}, 'datatype': 'external-id'}, 'type': 'statement', 'qualifiers': {'P1001': [{'snaktype': 'value', 'property': 'P1001', 'hash': '7a6e4e3bfb29ea72daa0c2b7e4190e7925a77441', 'datavalue': {'value': {'entity-type': 'item', 'numeric-id': 1393, 'id': 'Q1393'}, 'type': 'wikibase-entityid'}, 'datatype': 'wikibase-item'}]}, 'qualifiers-order': ['P1001'], 'id': 'Q126399$fcbb5fd8-4540-83f4-cf60-f491e44523bf', 'rank': 'normal', 'references': [{'hash': '0d74ca3ead61e9dfb0662b8539abb51952cbad7c', 'snaks': {'P248': [{'snaktype': 'value', 'property': 'P248', 'hash': '60b051d1cc18991404fce0ff5dbfe27fd9edf6a2', 'datavalue': {'value': {'entity-type': 'item', 'numeric-id': 7095760, 'id': 'Q7095760'}, 'type': 'wikibase-entityid'}, 'datatype': 'wikibase-item'}], 'P813': [{'snaktype': 'value', 'property': 'P813', 'hash': 'ea4f2e3cd3c400565520e87f93b74b2158d99221', 'datavalue': {'value': {'time': '+2022-03-30T00:00:00Z', 'timezone': 0, 'before': 0, 'after': 0, 'precision': 11, 'calendarmodel': 'http://www.wikidata.org/entity/Q1985727'}, 'type': 'time'}, 'datatype': 'time'}]}, 'snaks-order': ['P248', 'P813']}]}], 'P8687': [{'mainsnak': {'snaktype': 'value', 'property': 'P8687', 'hash': '473452d471befbcef09ed8ae3e8aa558e84d3927', 'datavalue': {'value': {'amount': '+2056307', 'unit': '1'}, 'type': 'quantity'}, 'datatype': 'quantity'}, 'type': 'statement', 'qualifiers': {'P6552': [{'snaktype': 'value', 'property': 'P6552', 'hash': '4e1f196bc117cdf906c9689ded2c71235078e3f3', 'datavalue': {'value': '1123786583331803136', 'type': 'string'}, 'datatype': 'external-id'}], 'P585': [{'snaktype': 'value', 'property': 'P585', 'hash': '65bdd0f2adbd17d6a8b8d074239e24f9ee28b5c3', 'datavalue': {'value': {'time': '+2019-04-29T00:00:00Z', 'timezone': 0, 'before': 0, 'after': 0, 'precision': 11, 'calendarmodel': 'http://www.wikidata.org/entity/Q1985727'}, 'type': 'time'}, 'datatype': 'time'}]}, 'qualifiers-order': ['P6552', 'P585'], 'id': 'Q126399$228768c2-4104-be0a-467f-f4f65bd785a1', 'rank': 'normal', 'references': [{'hash': 'cea77243ca7243ab001694507f2d9039ef35c25b', 'snaks': {'P1065': [{'snaktype': 'value', 'property': 'P1065', 'hash': '1909eec76bf70a137430e50236b207f8af4ce557', 'datavalue': {'value': 'https://web.archive.org/web/20190429012613/https://twitter.com/WarnerBrosEnt', 'type': 'string'}, 'datatype': 'url'}], 'P2960': [{'snaktype': 'value', 'property': 'P2960', 'hash': 'e43a703a9aa6077504631050066a921334cc9976', 'datavalue': {'value': {'time': '+2019-04-29T00:00:00Z', 'timezone': 0, 'before': 0, 'after': 0, 'precision': 11, 'calendarmodel': 'http://www.wikidata.org/entity/Q1985727'}, 'type': 'time'}, 'datatype': 'time'}]}, 'snaks-order': ['P1065', 'P2960']}]}], 'P648': [{'mainsnak': {'snaktype': 'value', 'property': 'P648', 'hash': '5e5f522490395062f83a4e142888cfef28eeb130', 'datavalue': {'value': 'OL2834649A', 'type': 'string'}, 'datatype': 'external-id'}, 'type': 'statement', 'qualifiers': {'P1810': [{'snaktype': 'value', 'property': 'P1810', 'hash': '6a6cca8656cc69681b0c4e58209162e284dec497', 'datavalue': {'value': 'Warner Bros', 'type': 'string'}, 'datatype': 'string'}]}, 'qualifiers-order': ['P1810'], 'id': 'Q126399$6516f650-4bed-f47c-7dcf-95275299dd6a', 'rank': 'normal'}, {'mainsnak': {'snaktype': 'value', 'property': 'P648', 'hash': 'd77e214d3eb0e83eb36a3dd4028bf363c6b24cee', 'datavalue': {'value': 'OL2711519A', 'type': 'string'}, 'datatype': 'external-id'}, 'type': 'statement', 'qualifiers': {'P1810': [{'snaktype': 'value', 'property': 'P1810', 'hash': '6c7da94add02cab32f95288df1cc216fe186fbe2', 'datavalue': {'value': 'Warner Brothers', 'type': 'string'}, 'datatype': 'string'}]}, 'qualifiers-order': ['P1810'], 'id': 'Q126399$911e6fb1-4070-92b2-d3d6-3d47cdeb7f82', 'rank': 'normal'}, {'mainsnak': {'snaktype': 'value', 'property': 'P648', 'hash': '071a45cf9cc91707324497acb28d550e766a04fa', 'datavalue': {'value': 'OL8307151A', 'type': 'string'}, 'datatype': 'external-id'}, 'type': 'statement', 'qualifiers': {'P1810': [{'snaktype': 'value', 'property': 'P1810', 'hash': '22e92012ab3d71b9d639a7eb8a1e0693734901ce', 'datavalue': {'value': 'Warner Bros.', 'type': 'string'}, 'datatype': 'string'}]}, 'qualifiers-order': ['P1810'], 'id': 'Q126399$d720d443-45b6-8090-bb80-e6e70ffab9c6', 'rank': 'normal'}], 'P3847': [{'mainsnak': {'snaktype': 'value', 'property': 'P3847', 'hash': '00af277f8272487033380ebcb0e3b05e4f30990e', 'datavalue': {'value': 'warner_bros', 'type': 'string'}, 'datatype': 'external-id'}, 'type': 'statement', 'id': 'Q126399$72f2684b-42d8-4606-406e-f6325482bbf8', 'rank': 'normal'}], 'P3222': [{'mainsnak': {'snaktype': 'value', 'property': 'P3222', 'hash': '80a9232236e8731784eee56441e248ce760210df', 'datavalue': {'value': 'warner-bros-inc', 'type': 'string'}, 'datatype': 'external-id'}, 'type': 'statement', 'id': 'Q126399$22EAC1B3-2CB4-49B0-9236-6D867353E9C6', 'rank': 'normal'}], 'P4272': [{'mainsnak': {'snaktype': 'value', 'property': 'P4272', 'hash': '0389d05461c3bdde4c627502bd9a978490fb9729', 'datavalue': {'value': 'Warner Bros', 'type': 'string'}, 'datatype': 'external-id'}, 'type': 'statement', 'id': 'Q126399$F3114FDB-FC3D-49E0-A9EA-1000DCE26C35', 'rank': 'normal'}], 'P4342': [{'mainsnak': {'snaktype': 'value', 'property': 'P4342', 'hash': '3c16460c4346862a0eeab398ab43235dbf2bb5f6', 'datavalue': {'value': 'Warner_Brothers', 'type': 'string'}, 'datatype': 'external-id'}, 'type': 'statement', 'id': 'Q126399$19C0E50D-8DE6-424D-ADCA-D987704A61EB', 'rank': 'normal'}], 'P6683': [{'mainsnak': {'snaktype': 'value', 'property': 'P6683', 'hash': 'e51206ec222ef6a3ca0c080722d309695c8c13e9', 'datavalue': {'value': '166839', 'type': 'string'}, 'datatype': 'external-id'}, 'type': 'statement', 'id': 'Q126399$F75E8A47-C44A-4C93-A1BC-F4680011E248', 'rank': 'normal'}], 'P7982': [{'mainsnak': {'snaktype': 'value', 'property': 'P7982', 'hash': 'd42e0edd23b42a5ec99b1e41f18b72dfebd02a65', 'datavalue': {'value': '65846', 'type': 'string'}, 'datatype': 'external-id'}, 'type': 'statement', 'id': 'Q126399$93B2E558-8E40-4EA1-AE1D-D6CFCAA0A7E2', 'rank': 'normal'}], 'P6058': [{'mainsnak': {'snaktype': 'value', 'property': 'P6058', 'hash': '7bd8e144109414be45348383550a280f59a48ce4', 'datavalue': {'value': 'divers/wd/149525', 'type': 'string'}, 'datatype': 'external-id'}, 'type': 'statement', 'id': 'Q126399$3529bf89-4fbf-a3b7-449e-1692c35016e8', 'rank': 'normal'}], 'P6760': [{'mainsnak': {'snaktype': 'value', 'property': 'P6760', 'hash': '16ae0477b653daa944cab7d0c7464491f94a21ec', 'datavalue': {'value': '21588', 'type': 'string'}, 'datatype': 'external-id'}, 'type': 'statement', 'id': 'Q126399$b65c2e7e-4572-ff85-4281-3d53f894b375', 'rank': 'normal'}], 'P10225': [{'mainsnak': {'snaktype': 'value', 'property': 'P10225', 'hash': 'ec5676c0641a1ee93b840cdbbda133d5aada63cf', 'datavalue': {'value': 'https://wbshop.com/', 'type': 'string'}, 'datatype': 'url'}, 'type': 'statement', 'qualifiers': {'P137': [{'snaktype': 'value', 'property': 'P137', 'hash': '1923ce4f9cc3d6a46cd859e4692cf3eeafe8e669', 'datavalue': {'value': {'entity-type': 'item', 'numeric-id': 111972459, 'id': 'Q111972459'}, 'type': 'wikibase-entityid'}, 'datatype': 'wikibase-item'}], 'P407': [{'snaktype': 'value', 'property': 'P407', 'hash': 'daf1c4fcb58181b02dff9cc89deb084004ddae4b', 'datavalue': {'value': {'entity-type': 'item', 'numeric-id': 1860, 'id': 'Q1860'}, 'type': 'wikibase-entityid'}, 'datatype': 'wikibase-item'}]}, 'qualifiers-order': ['P137', 'P407'], 'id': 'Q126399$6cbf2af9-4b55-edf6-42bc-f3e733dd962a', 'rank': 'normal'}], 'P10804': [{'mainsnak': {'snaktype': 'value', 'property': 'P10804', 'hash': 'b84578e25efe53478db23a068fa44699e7100da5', 'datavalue': {'value': '185837', 'type': 'string'}, 'datatype': 'external-id'}, 'type': 'statement', 'qualifiers': {'P123': [{'snaktype': 'value', 'property': 'P123', 'hash': 'b0a819d4e831e965324d567ce78251605abd6add', 'datavalue': {'value': {'entity-type': 'item', 'numeric-id': 126399, 'id': 'Q126399'}, 'type': 'wikibase-entityid'}, 'datatype': 'wikibase-item'}]}, 'qualifiers-order': ['P123'], 'id': 'Q126399$843E65D2-B9B7-4E1E-BE84-63E324446E22', 'rank': 'normal'}], 'P8168': [{'mainsnak': {'snaktype': 'value', 'property': 'P8168', 'hash': 'e27f2f400682306ce240506d233fb5915cebe68a', 'datavalue': {'value': 'Q405660', 'type': 'string'}, 'datatype': 'external-id'}, 'type': 'statement', 'id': 'Q126399$99DAACAE-B440-44FE-AD08-D7FD88739489', 'rank': 'normal'}], 'P3185': [{'mainsnak': {'snaktype': 'value', 'property': 'P3185', 'hash': 'b5ec2ad0cfdaa3b8edc4d876b64fa1d47825d630', 'datavalue': {'value': 'wbrussia', 'type': 'string'}, 'datatype': 'external-id'}, 'type': 'statement', 'qualifiers': {'P407': [{'snaktype': 'value', 'property': 'P407', 'hash': 'd291ddb7cd77c94a7bd709a8395934147e0864fc', 'datavalue': {'value': {'entity-type': 'item', 'numeric-id': 7737, 'id': 'Q7737'}, 'type': 'wikibase-entityid'}, 'datatype': 'wikibase-item'}], 'P1001': [{'snaktype': 'value', 'property': 'P1001', 'hash': 'edb29f2bf4dfb5ef7302831da922928a8093dab6', 'datavalue': {'value': {'entity-type': 'item', 'numeric-id': 159, 'id': 'Q159'}, 'type': 'wikibase-entityid'}, 'datatype': 'wikibase-item'}]}, 'qualifiers-order': ['P407', 'P1001'], 'id': 'Q126399$5821c061-4159-2bd7-88d4-6d2143c61a6e', 'rank': 'normal'}]}}}\n"
     ]
    }
   ],
   "source": [
    "(_, claims) = get_entity_relation_ids('Q126399')"
   ]
  },
  {
   "cell_type": "code",
   "execution_count": 47,
   "id": "098f9897",
   "metadata": {},
   "outputs": [
    {
     "data": {
      "text/plain": [
       "93"
      ]
     },
     "execution_count": 47,
     "metadata": {},
     "output_type": "execute_result"
    }
   ],
   "source": [
    "len(claims)"
   ]
  },
  {
   "cell_type": "code",
   "execution_count": 48,
   "id": "18e93a18",
   "metadata": {},
   "outputs": [],
   "source": [
    "ids = list(find_relation_names_and_ids('Q126399').values())"
   ]
  },
  {
   "cell_type": "code",
   "execution_count": 49,
   "id": "1d3f0d10",
   "metadata": {},
   "outputs": [
    {
     "name": "stdout",
     "output_type": "stream",
     "text": [
      "P345\n",
      "P691\n",
      "P8317\n"
     ]
    }
   ],
   "source": [
    "for id in claims:\n",
    "    if id not in ids:\n",
    "        print(id)\n",
    "        "
   ]
  },
  {
   "cell_type": "code",
   "execution_count": 50,
   "id": "8ac49770",
   "metadata": {},
   "outputs": [],
   "source": [
    "for id in ids:\n",
    "    if id not in claims:\n",
    "        print('fuck')"
   ]
  },
  {
   "cell_type": "code",
   "execution_count": 38,
   "id": "2bc902cd",
   "metadata": {},
   "outputs": [
    {
     "data": {
      "text/plain": [
       "['P495',\n",
       " 'P364',\n",
       " 'P136',\n",
       " 'P31',\n",
       " 'P3402',\n",
       " 'P272',\n",
       " 'P161',\n",
       " 'P437',\n",
       " 'P462',\n",
       " 'P57',\n",
       " 'P9586',\n",
       " 'P1476',\n",
       " 'P646',\n",
       " 'P2346',\n",
       " 'P7334',\n",
       " 'P2047',\n",
       " 'P905',\n",
       " 'P2529',\n",
       " 'P3107',\n",
       " 'P577',\n",
       " 'P2603',\n",
       " 'P1562',\n",
       " 'P3302',\n",
       " 'P345',\n",
       " 'P1970',\n",
       " 'P2638',\n",
       " 'P3145',\n",
       " 'P4529',\n",
       " 'P5786',\n",
       " 'P6127',\n",
       " 'P480',\n",
       " 'P3143',\n",
       " 'P3138',\n",
       " 'P3844',\n",
       " 'P4947',\n",
       " 'P6398',\n",
       " 'P7970']"
      ]
     },
     "execution_count": 38,
     "metadata": {},
     "output_type": "execute_result"
    }
   ],
   "source": [
    "ids"
   ]
  },
  {
   "cell_type": "code",
   "execution_count": 15,
   "id": "6b4292e1",
   "metadata": {
    "scrolled": true
   },
   "outputs": [
    {
     "name": "stdout",
     "output_type": "stream",
     "text": [
      "1\n",
      "2\n",
      "3\n",
      "5\n",
      "6\n",
      "7\n",
      "8\n",
      "9\n",
      "10\n",
      "11\n",
      "12\n",
      "13\n",
      "14\n",
      "<Response [429]>\n",
      "16\n",
      "<Response [429]>\n",
      "18\n",
      "<Response [429]>\n",
      "20\n",
      "<Response [429]>\n",
      "22\n",
      "<Response [429]>\n",
      "24\n",
      "<Response [429]>\n",
      "26\n",
      "<Response [429]>\n",
      "28\n",
      "<Response [429]>\n",
      "30\n",
      "<Response [429]>\n",
      "32\n",
      "<Response [429]>\n",
      "34\n",
      "<Response [429]>\n",
      "36\n",
      "<Response [429]>\n",
      "38\n",
      "<Response [429]>\n",
      "40\n",
      "<Response [429]>\n",
      "42\n",
      "<Response [429]>\n",
      "44\n",
      "<Response [429]>\n",
      "46\n",
      "<Response [429]>\n",
      "48\n",
      "<Response [429]>\n",
      "50\n",
      "51\n",
      "<Response [429]>\n",
      "53\n",
      "<Response [429]>\n",
      "55\n",
      "<Response [429]>\n",
      "57\n",
      "<Response [429]>\n",
      "59\n",
      "<Response [429]>\n",
      "61\n",
      "<Response [429]>\n",
      "63\n",
      "<Response [429]>\n",
      "65\n",
      "<Response [429]>\n",
      "67\n",
      "68\n",
      "<Response [429]>\n",
      "70\n",
      "<Response [429]>\n",
      "72\n",
      "<Response [429]>\n",
      "74\n",
      "<Response [429]>\n",
      "76\n",
      "<Response [429]>\n",
      "78\n",
      "<Response [429]>\n",
      "80\n",
      "<Response [429]>\n",
      "82\n",
      "<Response [429]>\n",
      "84\n",
      "<Response [429]>\n",
      "86\n",
      "<Response [429]>\n",
      "88\n",
      "<Response [429]>\n",
      "90\n",
      "<Response [429]>\n",
      "92\n",
      "<Response [429]>\n",
      "94\n",
      "<Response [429]>\n",
      "96\n",
      "97\n",
      "<Response [429]>\n",
      "99\n",
      "<Response [429]>\n",
      "101\n",
      "<Response [429]>\n",
      "103\n",
      "<Response [429]>\n",
      "105\n",
      "<Response [429]>\n",
      "107\n",
      "<Response [429]>\n",
      "109\n",
      "<Response [429]>\n",
      "111\n",
      "<Response [429]>\n",
      "113\n",
      "<Response [429]>\n",
      "115\n",
      "<Response [429]>\n",
      "117\n",
      "<Response [429]>\n",
      "119\n",
      "<Response [429]>\n",
      "121\n",
      "<Response [429]>\n",
      "123\n",
      "124\n",
      "<Response [429]>\n",
      "126\n",
      "<Response [429]>\n",
      "128\n",
      "<Response [429]>\n",
      "130\n",
      "<Response [429]>\n",
      "132\n",
      "<Response [429]>\n",
      "134\n",
      "<Response [429]>\n",
      "136\n",
      "<Response [429]>\n",
      "138\n",
      "<Response [429]>\n",
      "140\n",
      "<Response [429]>\n",
      "142\n",
      "143\n",
      "<Response [429]>\n",
      "145\n",
      "<Response [429]>\n",
      "147\n",
      "<Response [429]>\n",
      "149\n",
      "<Response [429]>\n",
      "151\n"
     ]
    },
    {
     "ename": "KeyboardInterrupt",
     "evalue": "",
     "output_type": "error",
     "traceback": [
      "\u001b[0;31m---------------------------------------------------------------------------\u001b[0m",
      "\u001b[0;31mKeyboardInterrupt\u001b[0m                         Traceback (most recent call last)",
      "\u001b[0;32m<ipython-input-15-1f0d9dc9685f>\u001b[0m in \u001b[0;36m<module>\u001b[0;34m\u001b[0m\n\u001b[1;32m      4\u001b[0m     \u001b[0mcounter\u001b[0m \u001b[0;34m+=\u001b[0m \u001b[0;36m1\u001b[0m\u001b[0;34m\u001b[0m\u001b[0;34m\u001b[0m\u001b[0m\n\u001b[1;32m      5\u001b[0m     \u001b[0mprint\u001b[0m\u001b[0;34m(\u001b[0m\u001b[0mcounter\u001b[0m\u001b[0;34m)\u001b[0m\u001b[0;34m\u001b[0m\u001b[0;34m\u001b[0m\u001b[0m\n\u001b[0;32m----> 6\u001b[0;31m     \u001b[0;32mif\u001b[0m \u001b[0;32mnot\u001b[0m \u001b[0mfind_relation_names_and_ids\u001b[0m\u001b[0;34m(\u001b[0m\u001b[0mstr\u001b[0m\u001b[0;34m(\u001b[0m\u001b[0mqid\u001b[0m\u001b[0;34m)\u001b[0m\u001b[0;34m)\u001b[0m\u001b[0;34m:\u001b[0m\u001b[0;34m\u001b[0m\u001b[0;34m\u001b[0m\u001b[0m\n\u001b[0m\u001b[1;32m      7\u001b[0m         \u001b[0mcounter\u001b[0m \u001b[0;34m+=\u001b[0m \u001b[0;36m1\u001b[0m\u001b[0;34m\u001b[0m\u001b[0;34m\u001b[0m\u001b[0m\n",
      "\u001b[0;32m<ipython-input-14-30c162a0a5e8>\u001b[0m in \u001b[0;36mfind_relation_names_and_ids\u001b[0;34m(qid)\u001b[0m\n\u001b[1;32m     23\u001b[0m     \u001b[0mcopy_query\u001b[0m \u001b[0;34m=\u001b[0m \u001b[0mquery\u001b[0m\u001b[0;34m.\u001b[0m\u001b[0mreplace\u001b[0m\u001b[0;34m(\u001b[0m\u001b[0;34m'entity'\u001b[0m\u001b[0;34m,\u001b[0m \u001b[0mqid\u001b[0m\u001b[0;34m)\u001b[0m\u001b[0;34m\u001b[0m\u001b[0;34m\u001b[0m\u001b[0m\n\u001b[1;32m     24\u001b[0m \u001b[0;31m#     time.sleep(3)\u001b[0m\u001b[0;34m\u001b[0m\u001b[0;34m\u001b[0m\u001b[0;34m\u001b[0m\u001b[0m\n\u001b[0;32m---> 25\u001b[0;31m     \u001b[0mr\u001b[0m \u001b[0;34m=\u001b[0m \u001b[0mrequests\u001b[0m\u001b[0;34m.\u001b[0m\u001b[0mget\u001b[0m\u001b[0;34m(\u001b[0m\u001b[0murl\u001b[0m\u001b[0;34m,\u001b[0m \u001b[0mparams\u001b[0m \u001b[0;34m=\u001b[0m \u001b[0;34m{\u001b[0m\u001b[0;34m'format'\u001b[0m\u001b[0;34m:\u001b[0m \u001b[0;34m'json'\u001b[0m\u001b[0;34m,\u001b[0m \u001b[0;34m'query'\u001b[0m\u001b[0;34m:\u001b[0m \u001b[0mcopy_query\u001b[0m\u001b[0;34m}\u001b[0m\u001b[0;34m)\u001b[0m\u001b[0;34m\u001b[0m\u001b[0;34m\u001b[0m\u001b[0m\n\u001b[0m\u001b[1;32m     26\u001b[0m     \u001b[0;32mtry\u001b[0m\u001b[0;34m:\u001b[0m\u001b[0;34m\u001b[0m\u001b[0;34m\u001b[0m\u001b[0m\n\u001b[1;32m     27\u001b[0m         \u001b[0mdata\u001b[0m \u001b[0;34m=\u001b[0m \u001b[0mr\u001b[0m\u001b[0;34m.\u001b[0m\u001b[0mjson\u001b[0m\u001b[0;34m(\u001b[0m\u001b[0;34m)\u001b[0m\u001b[0;34m\u001b[0m\u001b[0;34m\u001b[0m\u001b[0m\n",
      "\u001b[0;32m~/miniconda3/lib/python3.7/site-packages/requests/api.py\u001b[0m in \u001b[0;36mget\u001b[0;34m(url, params, **kwargs)\u001b[0m\n\u001b[1;32m     74\u001b[0m \u001b[0;34m\u001b[0m\u001b[0m\n\u001b[1;32m     75\u001b[0m     \u001b[0mkwargs\u001b[0m\u001b[0;34m.\u001b[0m\u001b[0msetdefault\u001b[0m\u001b[0;34m(\u001b[0m\u001b[0;34m'allow_redirects'\u001b[0m\u001b[0;34m,\u001b[0m \u001b[0;32mTrue\u001b[0m\u001b[0;34m)\u001b[0m\u001b[0;34m\u001b[0m\u001b[0;34m\u001b[0m\u001b[0m\n\u001b[0;32m---> 76\u001b[0;31m     \u001b[0;32mreturn\u001b[0m \u001b[0mrequest\u001b[0m\u001b[0;34m(\u001b[0m\u001b[0;34m'get'\u001b[0m\u001b[0;34m,\u001b[0m \u001b[0murl\u001b[0m\u001b[0;34m,\u001b[0m \u001b[0mparams\u001b[0m\u001b[0;34m=\u001b[0m\u001b[0mparams\u001b[0m\u001b[0;34m,\u001b[0m \u001b[0;34m**\u001b[0m\u001b[0mkwargs\u001b[0m\u001b[0;34m)\u001b[0m\u001b[0;34m\u001b[0m\u001b[0;34m\u001b[0m\u001b[0m\n\u001b[0m\u001b[1;32m     77\u001b[0m \u001b[0;34m\u001b[0m\u001b[0m\n\u001b[1;32m     78\u001b[0m \u001b[0;34m\u001b[0m\u001b[0m\n",
      "\u001b[0;32m~/miniconda3/lib/python3.7/site-packages/requests/api.py\u001b[0m in \u001b[0;36mrequest\u001b[0;34m(method, url, **kwargs)\u001b[0m\n\u001b[1;32m     59\u001b[0m     \u001b[0;31m# cases, and look like a memory leak in others.\u001b[0m\u001b[0;34m\u001b[0m\u001b[0;34m\u001b[0m\u001b[0;34m\u001b[0m\u001b[0m\n\u001b[1;32m     60\u001b[0m     \u001b[0;32mwith\u001b[0m \u001b[0msessions\u001b[0m\u001b[0;34m.\u001b[0m\u001b[0mSession\u001b[0m\u001b[0;34m(\u001b[0m\u001b[0;34m)\u001b[0m \u001b[0;32mas\u001b[0m \u001b[0msession\u001b[0m\u001b[0;34m:\u001b[0m\u001b[0;34m\u001b[0m\u001b[0;34m\u001b[0m\u001b[0m\n\u001b[0;32m---> 61\u001b[0;31m         \u001b[0;32mreturn\u001b[0m \u001b[0msession\u001b[0m\u001b[0;34m.\u001b[0m\u001b[0mrequest\u001b[0m\u001b[0;34m(\u001b[0m\u001b[0mmethod\u001b[0m\u001b[0;34m=\u001b[0m\u001b[0mmethod\u001b[0m\u001b[0;34m,\u001b[0m \u001b[0murl\u001b[0m\u001b[0;34m=\u001b[0m\u001b[0murl\u001b[0m\u001b[0;34m,\u001b[0m \u001b[0;34m**\u001b[0m\u001b[0mkwargs\u001b[0m\u001b[0;34m)\u001b[0m\u001b[0;34m\u001b[0m\u001b[0;34m\u001b[0m\u001b[0m\n\u001b[0m\u001b[1;32m     62\u001b[0m \u001b[0;34m\u001b[0m\u001b[0m\n\u001b[1;32m     63\u001b[0m \u001b[0;34m\u001b[0m\u001b[0m\n",
      "\u001b[0;32m~/miniconda3/lib/python3.7/site-packages/requests/sessions.py\u001b[0m in \u001b[0;36mrequest\u001b[0;34m(self, method, url, params, data, headers, cookies, files, auth, timeout, allow_redirects, proxies, hooks, stream, verify, cert, json)\u001b[0m\n\u001b[1;32m    526\u001b[0m             \u001b[0mhooks\u001b[0m\u001b[0;34m=\u001b[0m\u001b[0mhooks\u001b[0m\u001b[0;34m,\u001b[0m\u001b[0;34m\u001b[0m\u001b[0;34m\u001b[0m\u001b[0m\n\u001b[1;32m    527\u001b[0m         )\n\u001b[0;32m--> 528\u001b[0;31m         \u001b[0mprep\u001b[0m \u001b[0;34m=\u001b[0m \u001b[0mself\u001b[0m\u001b[0;34m.\u001b[0m\u001b[0mprepare_request\u001b[0m\u001b[0;34m(\u001b[0m\u001b[0mreq\u001b[0m\u001b[0;34m)\u001b[0m\u001b[0;34m\u001b[0m\u001b[0;34m\u001b[0m\u001b[0m\n\u001b[0m\u001b[1;32m    529\u001b[0m \u001b[0;34m\u001b[0m\u001b[0m\n\u001b[1;32m    530\u001b[0m         \u001b[0mproxies\u001b[0m \u001b[0;34m=\u001b[0m \u001b[0mproxies\u001b[0m \u001b[0;32mor\u001b[0m \u001b[0;34m{\u001b[0m\u001b[0;34m}\u001b[0m\u001b[0;34m\u001b[0m\u001b[0;34m\u001b[0m\u001b[0m\n",
      "\u001b[0;32m~/miniconda3/lib/python3.7/site-packages/requests/sessions.py\u001b[0m in \u001b[0;36mprepare_request\u001b[0;34m(self, request)\u001b[0m\n\u001b[1;32m    464\u001b[0m             \u001b[0mauth\u001b[0m\u001b[0;34m=\u001b[0m\u001b[0mmerge_setting\u001b[0m\u001b[0;34m(\u001b[0m\u001b[0mauth\u001b[0m\u001b[0;34m,\u001b[0m \u001b[0mself\u001b[0m\u001b[0;34m.\u001b[0m\u001b[0mauth\u001b[0m\u001b[0;34m)\u001b[0m\u001b[0;34m,\u001b[0m\u001b[0;34m\u001b[0m\u001b[0;34m\u001b[0m\u001b[0m\n\u001b[1;32m    465\u001b[0m             \u001b[0mcookies\u001b[0m\u001b[0;34m=\u001b[0m\u001b[0mmerged_cookies\u001b[0m\u001b[0;34m,\u001b[0m\u001b[0;34m\u001b[0m\u001b[0;34m\u001b[0m\u001b[0m\n\u001b[0;32m--> 466\u001b[0;31m             \u001b[0mhooks\u001b[0m\u001b[0;34m=\u001b[0m\u001b[0mmerge_hooks\u001b[0m\u001b[0;34m(\u001b[0m\u001b[0mrequest\u001b[0m\u001b[0;34m.\u001b[0m\u001b[0mhooks\u001b[0m\u001b[0;34m,\u001b[0m \u001b[0mself\u001b[0m\u001b[0;34m.\u001b[0m\u001b[0mhooks\u001b[0m\u001b[0;34m)\u001b[0m\u001b[0;34m,\u001b[0m\u001b[0;34m\u001b[0m\u001b[0;34m\u001b[0m\u001b[0m\n\u001b[0m\u001b[1;32m    467\u001b[0m         )\n\u001b[1;32m    468\u001b[0m         \u001b[0;32mreturn\u001b[0m \u001b[0mp\u001b[0m\u001b[0;34m\u001b[0m\u001b[0;34m\u001b[0m\u001b[0m\n",
      "\u001b[0;32m~/miniconda3/lib/python3.7/site-packages/requests/models.py\u001b[0m in \u001b[0;36mprepare\u001b[0;34m(self, method, url, headers, files, data, params, auth, cookies, hooks, json)\u001b[0m\n\u001b[1;32m    318\u001b[0m         \u001b[0mself\u001b[0m\u001b[0;34m.\u001b[0m\u001b[0mprepare_cookies\u001b[0m\u001b[0;34m(\u001b[0m\u001b[0mcookies\u001b[0m\u001b[0;34m)\u001b[0m\u001b[0;34m\u001b[0m\u001b[0;34m\u001b[0m\u001b[0m\n\u001b[1;32m    319\u001b[0m         \u001b[0mself\u001b[0m\u001b[0;34m.\u001b[0m\u001b[0mprepare_body\u001b[0m\u001b[0;34m(\u001b[0m\u001b[0mdata\u001b[0m\u001b[0;34m,\u001b[0m \u001b[0mfiles\u001b[0m\u001b[0;34m,\u001b[0m \u001b[0mjson\u001b[0m\u001b[0;34m)\u001b[0m\u001b[0;34m\u001b[0m\u001b[0;34m\u001b[0m\u001b[0m\n\u001b[0;32m--> 320\u001b[0;31m         \u001b[0mself\u001b[0m\u001b[0;34m.\u001b[0m\u001b[0mprepare_auth\u001b[0m\u001b[0;34m(\u001b[0m\u001b[0mauth\u001b[0m\u001b[0;34m,\u001b[0m \u001b[0murl\u001b[0m\u001b[0;34m)\u001b[0m\u001b[0;34m\u001b[0m\u001b[0;34m\u001b[0m\u001b[0m\n\u001b[0m\u001b[1;32m    321\u001b[0m \u001b[0;34m\u001b[0m\u001b[0m\n\u001b[1;32m    322\u001b[0m         \u001b[0;31m# Note that prepare_auth must be last to enable authentication schemes\u001b[0m\u001b[0;34m\u001b[0m\u001b[0;34m\u001b[0m\u001b[0;34m\u001b[0m\u001b[0m\n",
      "\u001b[0;32m~/miniconda3/lib/python3.7/site-packages/requests/models.py\u001b[0m in \u001b[0;36mprepare_auth\u001b[0;34m(self, auth, url)\u001b[0m\n\u001b[1;32m    540\u001b[0m         \u001b[0;31m# If no Auth is explicitly provided, extract it from the URL first.\u001b[0m\u001b[0;34m\u001b[0m\u001b[0;34m\u001b[0m\u001b[0;34m\u001b[0m\u001b[0m\n\u001b[1;32m    541\u001b[0m         \u001b[0;32mif\u001b[0m \u001b[0mauth\u001b[0m \u001b[0;32mis\u001b[0m \u001b[0;32mNone\u001b[0m\u001b[0;34m:\u001b[0m\u001b[0;34m\u001b[0m\u001b[0;34m\u001b[0m\u001b[0m\n\u001b[0;32m--> 542\u001b[0;31m             \u001b[0murl_auth\u001b[0m \u001b[0;34m=\u001b[0m \u001b[0mget_auth_from_url\u001b[0m\u001b[0;34m(\u001b[0m\u001b[0mself\u001b[0m\u001b[0;34m.\u001b[0m\u001b[0murl\u001b[0m\u001b[0;34m)\u001b[0m\u001b[0;34m\u001b[0m\u001b[0;34m\u001b[0m\u001b[0m\n\u001b[0m\u001b[1;32m    543\u001b[0m             \u001b[0mauth\u001b[0m \u001b[0;34m=\u001b[0m \u001b[0murl_auth\u001b[0m \u001b[0;32mif\u001b[0m \u001b[0many\u001b[0m\u001b[0;34m(\u001b[0m\u001b[0murl_auth\u001b[0m\u001b[0;34m)\u001b[0m \u001b[0;32melse\u001b[0m \u001b[0;32mNone\u001b[0m\u001b[0;34m\u001b[0m\u001b[0;34m\u001b[0m\u001b[0m\n\u001b[1;32m    544\u001b[0m \u001b[0;34m\u001b[0m\u001b[0m\n",
      "\u001b[0;32m~/miniconda3/lib/python3.7/site-packages/requests/utils.py\u001b[0m in \u001b[0;36mget_auth_from_url\u001b[0;34m(url)\u001b[0m\n\u001b[1;32m    925\u001b[0m     \u001b[0;34m:\u001b[0m\u001b[0mrtype\u001b[0m\u001b[0;34m:\u001b[0m \u001b[0;34m(\u001b[0m\u001b[0mstr\u001b[0m\u001b[0;34m,\u001b[0m\u001b[0mstr\u001b[0m\u001b[0;34m)\u001b[0m\u001b[0;34m\u001b[0m\u001b[0;34m\u001b[0m\u001b[0m\n\u001b[1;32m    926\u001b[0m     \"\"\"\n\u001b[0;32m--> 927\u001b[0;31m     \u001b[0mparsed\u001b[0m \u001b[0;34m=\u001b[0m \u001b[0murlparse\u001b[0m\u001b[0;34m(\u001b[0m\u001b[0murl\u001b[0m\u001b[0;34m)\u001b[0m\u001b[0;34m\u001b[0m\u001b[0;34m\u001b[0m\u001b[0m\n\u001b[0m\u001b[1;32m    928\u001b[0m \u001b[0;34m\u001b[0m\u001b[0m\n\u001b[1;32m    929\u001b[0m     \u001b[0;32mtry\u001b[0m\u001b[0;34m:\u001b[0m\u001b[0;34m\u001b[0m\u001b[0;34m\u001b[0m\u001b[0m\n",
      "\u001b[0;32m~/miniconda3/lib/python3.7/urllib/parse.py\u001b[0m in \u001b[0;36murlparse\u001b[0;34m(url, scheme, allow_fragments)\u001b[0m\n\u001b[1;32m    372\u001b[0m     \u001b[0;32melse\u001b[0m\u001b[0;34m:\u001b[0m\u001b[0;34m\u001b[0m\u001b[0;34m\u001b[0m\u001b[0m\n\u001b[1;32m    373\u001b[0m         \u001b[0mparams\u001b[0m \u001b[0;34m=\u001b[0m \u001b[0;34m''\u001b[0m\u001b[0;34m\u001b[0m\u001b[0;34m\u001b[0m\u001b[0m\n\u001b[0;32m--> 374\u001b[0;31m     \u001b[0mresult\u001b[0m \u001b[0;34m=\u001b[0m \u001b[0mParseResult\u001b[0m\u001b[0;34m(\u001b[0m\u001b[0mscheme\u001b[0m\u001b[0;34m,\u001b[0m \u001b[0mnetloc\u001b[0m\u001b[0;34m,\u001b[0m \u001b[0murl\u001b[0m\u001b[0;34m,\u001b[0m \u001b[0mparams\u001b[0m\u001b[0;34m,\u001b[0m \u001b[0mquery\u001b[0m\u001b[0;34m,\u001b[0m \u001b[0mfragment\u001b[0m\u001b[0;34m)\u001b[0m\u001b[0;34m\u001b[0m\u001b[0;34m\u001b[0m\u001b[0m\n\u001b[0m\u001b[1;32m    375\u001b[0m     \u001b[0;32mreturn\u001b[0m \u001b[0m_coerce_result\u001b[0m\u001b[0;34m(\u001b[0m\u001b[0mresult\u001b[0m\u001b[0;34m)\u001b[0m\u001b[0;34m\u001b[0m\u001b[0;34m\u001b[0m\u001b[0m\n\u001b[1;32m    376\u001b[0m \u001b[0;34m\u001b[0m\u001b[0m\n",
      "\u001b[0;31mKeyboardInterrupt\u001b[0m: "
     ]
    }
   ],
   "source": [
    "counter = 0\n",
    "for qid in qids[:100]:\n",
    "#     print(qid)\n",
    "    counter += 1\n",
    "    print(counter)\n",
    "    if not find_relation_names_and_ids(str(qid)):\n",
    "        counter += 1"
   ]
  },
  {
   "cell_type": "code",
   "execution_count": 10,
   "id": "41f3ec21",
   "metadata": {},
   "outputs": [],
   "source": [
    "# counter"
   ]
  },
  {
   "cell_type": "code",
   "execution_count": 11,
   "id": "b4e57718",
   "metadata": {},
   "outputs": [
    {
     "ename": "JSONDecodeError",
     "evalue": "Expecting value: line 1 column 1 (char 0)",
     "output_type": "error",
     "traceback": [
      "\u001b[0;31m---------------------------------------------------------------------------\u001b[0m",
      "\u001b[0;31mRemoteTraceback\u001b[0m                           Traceback (most recent call last)",
      "\u001b[0;31mRemoteTraceback\u001b[0m: \n\"\"\"\nTraceback (most recent call last):\n  File \"/home/HadyElkady/miniconda3/lib/python3.7/multiprocessing/pool.py\", line 121, in worker\n    result = (True, func(*args, **kwds))\n  File \"/home/HadyElkady/miniconda3/lib/python3.7/multiprocessing/pool.py\", line 44, in mapstar\n    return list(map(*args))\n  File \"/home/HadyElkady/work/Bachelor_thesis/tmp_func_2.py\", line 26, in task\n    data = r.json()\n  File \"/home/HadyElkady/miniconda3/lib/python3.7/site-packages/requests/models.py\", line 900, in json\n    return complexjson.loads(self.text, **kwargs)\n  File \"/home/HadyElkady/miniconda3/lib/python3.7/json/__init__.py\", line 348, in loads\n    return _default_decoder.decode(s)\n  File \"/home/HadyElkady/miniconda3/lib/python3.7/json/decoder.py\", line 337, in decode\n    obj, end = self.raw_decode(s, idx=_w(s, 0).end())\n  File \"/home/HadyElkady/miniconda3/lib/python3.7/json/decoder.py\", line 355, in raw_decode\n    raise JSONDecodeError(\"Expecting value\", s, err.value) from None\njson.decoder.JSONDecodeError: Expecting value: line 1 column 1 (char 0)\n\"\"\"",
      "\nThe above exception was the direct cause of the following exception:\n",
      "\u001b[0;31mJSONDecodeError\u001b[0m                           Traceback (most recent call last)",
      "\u001b[0;32m<ipython-input-11-d79383b3136b>\u001b[0m in \u001b[0;36m<module>\u001b[0;34m\u001b[0m\n\u001b[1;32m      1\u001b[0m \u001b[0mstart\u001b[0m \u001b[0;34m=\u001b[0m \u001b[0mtime\u001b[0m\u001b[0;34m.\u001b[0m\u001b[0mtime\u001b[0m\u001b[0;34m(\u001b[0m\u001b[0;34m)\u001b[0m\u001b[0;34m\u001b[0m\u001b[0;34m\u001b[0m\u001b[0m\n\u001b[0;32m----> 2\u001b[0;31m \u001b[0mrelation_id_name\u001b[0m \u001b[0;34m=\u001b[0m \u001b[0mparallal_task_2\u001b[0m\u001b[0;34m(\u001b[0m\u001b[0mfind_relation_names_and_ids\u001b[0m\u001b[0;34m,\u001b[0m \u001b[0mqids\u001b[0m\u001b[0;34m[\u001b[0m\u001b[0;34m:\u001b[0m\u001b[0;36m100\u001b[0m\u001b[0;34m]\u001b[0m\u001b[0;34m)\u001b[0m\u001b[0;34m\u001b[0m\u001b[0;34m\u001b[0m\u001b[0m\n\u001b[0m\u001b[1;32m      3\u001b[0m \u001b[0mprint\u001b[0m\u001b[0;34m(\u001b[0m\u001b[0mtime\u001b[0m\u001b[0;34m.\u001b[0m\u001b[0mtime\u001b[0m\u001b[0;34m(\u001b[0m\u001b[0;34m)\u001b[0m \u001b[0;34m-\u001b[0m \u001b[0mstart\u001b[0m\u001b[0;34m)\u001b[0m\u001b[0;34m\u001b[0m\u001b[0;34m\u001b[0m\u001b[0m\n\u001b[1;32m      4\u001b[0m \u001b[0mlen\u001b[0m\u001b[0;34m(\u001b[0m\u001b[0mrelation_id_name\u001b[0m\u001b[0;34m)\u001b[0m\u001b[0;34m\u001b[0m\u001b[0;34m\u001b[0m\u001b[0m\n",
      "\u001b[0;32m<ipython-input-5-d781ab24a7e7>\u001b[0m in \u001b[0;36mparallal_task_2\u001b[0;34m(func, iterable, *params)\u001b[0m\n\u001b[1;32m     15\u001b[0m     \u001b[0;32mfrom\u001b[0m \u001b[0mtmp_func_2\u001b[0m \u001b[0;32mimport\u001b[0m \u001b[0mtask\u001b[0m\u001b[0;34m\u001b[0m\u001b[0;34m\u001b[0m\u001b[0m\n\u001b[1;32m     16\u001b[0m     \u001b[0mpool\u001b[0m \u001b[0;34m=\u001b[0m \u001b[0mPool\u001b[0m\u001b[0;34m(\u001b[0m\u001b[0mprocesses\u001b[0m\u001b[0;34m=\u001b[0m\u001b[0;36m15\u001b[0m\u001b[0;34m)\u001b[0m\u001b[0;34m\u001b[0m\u001b[0;34m\u001b[0m\u001b[0m\n\u001b[0;32m---> 17\u001b[0;31m     \u001b[0mres\u001b[0m \u001b[0;34m=\u001b[0m \u001b[0mpool\u001b[0m\u001b[0;34m.\u001b[0m\u001b[0mmap\u001b[0m\u001b[0;34m(\u001b[0m\u001b[0mtask\u001b[0m\u001b[0;34m,\u001b[0m \u001b[0miterable\u001b[0m\u001b[0;34m)\u001b[0m\u001b[0;34m\u001b[0m\u001b[0;34m\u001b[0m\u001b[0m\n\u001b[0m\u001b[1;32m     18\u001b[0m     \u001b[0mpool\u001b[0m\u001b[0;34m.\u001b[0m\u001b[0mclose\u001b[0m\u001b[0;34m(\u001b[0m\u001b[0;34m)\u001b[0m\u001b[0;34m\u001b[0m\u001b[0;34m\u001b[0m\u001b[0m\n\u001b[1;32m     19\u001b[0m \u001b[0;34m\u001b[0m\u001b[0m\n",
      "\u001b[0;32m~/miniconda3/lib/python3.7/multiprocessing/pool.py\u001b[0m in \u001b[0;36mmap\u001b[0;34m(self, func, iterable, chunksize)\u001b[0m\n\u001b[1;32m    266\u001b[0m         \u001b[0;32min\u001b[0m \u001b[0ma\u001b[0m \u001b[0mlist\u001b[0m \u001b[0mthat\u001b[0m \u001b[0;32mis\u001b[0m \u001b[0mreturned\u001b[0m\u001b[0;34m.\u001b[0m\u001b[0;34m\u001b[0m\u001b[0;34m\u001b[0m\u001b[0m\n\u001b[1;32m    267\u001b[0m         '''\n\u001b[0;32m--> 268\u001b[0;31m         \u001b[0;32mreturn\u001b[0m \u001b[0mself\u001b[0m\u001b[0;34m.\u001b[0m\u001b[0m_map_async\u001b[0m\u001b[0;34m(\u001b[0m\u001b[0mfunc\u001b[0m\u001b[0;34m,\u001b[0m \u001b[0miterable\u001b[0m\u001b[0;34m,\u001b[0m \u001b[0mmapstar\u001b[0m\u001b[0;34m,\u001b[0m \u001b[0mchunksize\u001b[0m\u001b[0;34m)\u001b[0m\u001b[0;34m.\u001b[0m\u001b[0mget\u001b[0m\u001b[0;34m(\u001b[0m\u001b[0;34m)\u001b[0m\u001b[0;34m\u001b[0m\u001b[0;34m\u001b[0m\u001b[0m\n\u001b[0m\u001b[1;32m    269\u001b[0m \u001b[0;34m\u001b[0m\u001b[0m\n\u001b[1;32m    270\u001b[0m     \u001b[0;32mdef\u001b[0m \u001b[0mstarmap\u001b[0m\u001b[0;34m(\u001b[0m\u001b[0mself\u001b[0m\u001b[0;34m,\u001b[0m \u001b[0mfunc\u001b[0m\u001b[0;34m,\u001b[0m \u001b[0miterable\u001b[0m\u001b[0;34m,\u001b[0m \u001b[0mchunksize\u001b[0m\u001b[0;34m=\u001b[0m\u001b[0;32mNone\u001b[0m\u001b[0;34m)\u001b[0m\u001b[0;34m:\u001b[0m\u001b[0;34m\u001b[0m\u001b[0;34m\u001b[0m\u001b[0m\n",
      "\u001b[0;32m~/miniconda3/lib/python3.7/multiprocessing/pool.py\u001b[0m in \u001b[0;36mget\u001b[0;34m(self, timeout)\u001b[0m\n\u001b[1;32m    655\u001b[0m             \u001b[0;32mreturn\u001b[0m \u001b[0mself\u001b[0m\u001b[0;34m.\u001b[0m\u001b[0m_value\u001b[0m\u001b[0;34m\u001b[0m\u001b[0;34m\u001b[0m\u001b[0m\n\u001b[1;32m    656\u001b[0m         \u001b[0;32melse\u001b[0m\u001b[0;34m:\u001b[0m\u001b[0;34m\u001b[0m\u001b[0;34m\u001b[0m\u001b[0m\n\u001b[0;32m--> 657\u001b[0;31m             \u001b[0;32mraise\u001b[0m \u001b[0mself\u001b[0m\u001b[0;34m.\u001b[0m\u001b[0m_value\u001b[0m\u001b[0;34m\u001b[0m\u001b[0;34m\u001b[0m\u001b[0m\n\u001b[0m\u001b[1;32m    658\u001b[0m \u001b[0;34m\u001b[0m\u001b[0m\n\u001b[1;32m    659\u001b[0m     \u001b[0;32mdef\u001b[0m \u001b[0m_set\u001b[0m\u001b[0;34m(\u001b[0m\u001b[0mself\u001b[0m\u001b[0;34m,\u001b[0m \u001b[0mi\u001b[0m\u001b[0;34m,\u001b[0m \u001b[0mobj\u001b[0m\u001b[0;34m)\u001b[0m\u001b[0;34m:\u001b[0m\u001b[0;34m\u001b[0m\u001b[0;34m\u001b[0m\u001b[0m\n",
      "\u001b[0;31mJSONDecodeError\u001b[0m: Expecting value: line 1 column 1 (char 0)"
     ]
    },
    {
     "name": "stderr",
     "output_type": "stream",
     "text": [
      "Process ForkPoolWorker-9:\n",
      "Process ForkPoolWorker-2:\n",
      "Process ForkPoolWorker-12:\n",
      "Process ForkPoolWorker-8:\n",
      "Process ForkPoolWorker-10:\n",
      "Process ForkPoolWorker-1:\n",
      "Process ForkPoolWorker-3:\n",
      "Process ForkPoolWorker-4:\n",
      "Process ForkPoolWorker-7:\n",
      "Process ForkPoolWorker-5:\n",
      "Process ForkPoolWorker-6:\n",
      "Process ForkPoolWorker-11:\n",
      "Traceback (most recent call last):\n",
      "Traceback (most recent call last):\n",
      "Traceback (most recent call last):\n",
      "Traceback (most recent call last):\n",
      "Traceback (most recent call last):\n",
      "Traceback (most recent call last):\n",
      "Traceback (most recent call last):\n",
      "  File \"/home/HadyElkady/miniconda3/lib/python3.7/multiprocessing/process.py\", line 297, in _bootstrap\n",
      "    self.run()\n",
      "Traceback (most recent call last):\n",
      "Traceback (most recent call last):\n",
      "  File \"/home/HadyElkady/miniconda3/lib/python3.7/multiprocessing/process.py\", line 297, in _bootstrap\n",
      "    self.run()\n",
      "Traceback (most recent call last):\n",
      "  File \"/home/HadyElkady/miniconda3/lib/python3.7/multiprocessing/process.py\", line 297, in _bootstrap\n",
      "    self.run()\n",
      "Traceback (most recent call last):\n",
      "  File \"/home/HadyElkady/miniconda3/lib/python3.7/multiprocessing/process.py\", line 297, in _bootstrap\n",
      "    self.run()\n",
      "  File \"/home/HadyElkady/miniconda3/lib/python3.7/multiprocessing/process.py\", line 297, in _bootstrap\n",
      "    self.run()\n",
      "Traceback (most recent call last):\n",
      "  File \"/home/HadyElkady/miniconda3/lib/python3.7/multiprocessing/process.py\", line 297, in _bootstrap\n",
      "    self.run()\n",
      "  File \"/home/HadyElkady/miniconda3/lib/python3.7/multiprocessing/process.py\", line 297, in _bootstrap\n",
      "    self.run()\n",
      "  File \"/home/HadyElkady/miniconda3/lib/python3.7/multiprocessing/process.py\", line 297, in _bootstrap\n",
      "    self.run()\n",
      "  File \"/home/HadyElkady/miniconda3/lib/python3.7/multiprocessing/process.py\", line 99, in run\n",
      "    self._target(*self._args, **self._kwargs)\n",
      "  File \"/home/HadyElkady/miniconda3/lib/python3.7/multiprocessing/process.py\", line 297, in _bootstrap\n",
      "    self.run()\n",
      "  File \"/home/HadyElkady/miniconda3/lib/python3.7/multiprocessing/process.py\", line 297, in _bootstrap\n",
      "    self.run()\n",
      "  File \"/home/HadyElkady/miniconda3/lib/python3.7/multiprocessing/process.py\", line 99, in run\n",
      "    self._target(*self._args, **self._kwargs)\n",
      "  File \"/home/HadyElkady/miniconda3/lib/python3.7/multiprocessing/process.py\", line 297, in _bootstrap\n",
      "    self.run()\n",
      "  File \"/home/HadyElkady/miniconda3/lib/python3.7/multiprocessing/process.py\", line 99, in run\n",
      "    self._target(*self._args, **self._kwargs)\n",
      "  File \"/home/HadyElkady/miniconda3/lib/python3.7/multiprocessing/process.py\", line 99, in run\n",
      "    self._target(*self._args, **self._kwargs)\n",
      "  File \"/home/HadyElkady/miniconda3/lib/python3.7/multiprocessing/process.py\", line 297, in _bootstrap\n",
      "    self.run()\n",
      "  File \"/home/HadyElkady/miniconda3/lib/python3.7/multiprocessing/pool.py\", line 110, in worker\n",
      "    task = get()\n",
      "  File \"/home/HadyElkady/miniconda3/lib/python3.7/multiprocessing/process.py\", line 99, in run\n",
      "    self._target(*self._args, **self._kwargs)\n",
      "  File \"/home/HadyElkady/miniconda3/lib/python3.7/multiprocessing/process.py\", line 99, in run\n",
      "    self._target(*self._args, **self._kwargs)\n",
      "  File \"/home/HadyElkady/miniconda3/lib/python3.7/multiprocessing/process.py\", line 99, in run\n",
      "    self._target(*self._args, **self._kwargs)\n",
      "  File \"/home/HadyElkady/miniconda3/lib/python3.7/multiprocessing/process.py\", line 99, in run\n",
      "    self._target(*self._args, **self._kwargs)\n",
      "  File \"/home/HadyElkady/miniconda3/lib/python3.7/multiprocessing/pool.py\", line 110, in worker\n",
      "    task = get()\n",
      "  File \"/home/HadyElkady/miniconda3/lib/python3.7/multiprocessing/process.py\", line 99, in run\n",
      "    self._target(*self._args, **self._kwargs)\n",
      "  File \"/home/HadyElkady/miniconda3/lib/python3.7/multiprocessing/process.py\", line 99, in run\n",
      "    self._target(*self._args, **self._kwargs)\n",
      "  File \"/home/HadyElkady/miniconda3/lib/python3.7/multiprocessing/process.py\", line 99, in run\n",
      "    self._target(*self._args, **self._kwargs)\n",
      "  File \"/home/HadyElkady/miniconda3/lib/python3.7/multiprocessing/pool.py\", line 110, in worker\n",
      "    task = get()\n",
      "  File \"/home/HadyElkady/miniconda3/lib/python3.7/multiprocessing/pool.py\", line 110, in worker\n",
      "    task = get()\n",
      "  File \"/home/HadyElkady/miniconda3/lib/python3.7/multiprocessing/queues.py\", line 351, in get\n",
      "    with self._rlock:\n",
      "  File \"/home/HadyElkady/miniconda3/lib/python3.7/multiprocessing/process.py\", line 99, in run\n",
      "    self._target(*self._args, **self._kwargs)\n",
      "  File \"/home/HadyElkady/miniconda3/lib/python3.7/multiprocessing/pool.py\", line 110, in worker\n",
      "    task = get()\n",
      "  File \"/home/HadyElkady/miniconda3/lib/python3.7/multiprocessing/pool.py\", line 110, in worker\n",
      "    task = get()\n",
      "  File \"/home/HadyElkady/miniconda3/lib/python3.7/multiprocessing/pool.py\", line 110, in worker\n",
      "    task = get()\n",
      "  File \"/home/HadyElkady/miniconda3/lib/python3.7/multiprocessing/pool.py\", line 110, in worker\n",
      "    task = get()\n",
      "  File \"/home/HadyElkady/miniconda3/lib/python3.7/multiprocessing/queues.py\", line 352, in get\n",
      "    res = self._reader.recv_bytes()\n",
      "  File \"/home/HadyElkady/miniconda3/lib/python3.7/multiprocessing/pool.py\", line 110, in worker\n",
      "    task = get()\n",
      "  File \"/home/HadyElkady/miniconda3/lib/python3.7/multiprocessing/pool.py\", line 110, in worker\n",
      "    task = get()\n",
      "  File \"/home/HadyElkady/miniconda3/lib/python3.7/multiprocessing/pool.py\", line 110, in worker\n",
      "    task = get()\n",
      "  File \"/home/HadyElkady/miniconda3/lib/python3.7/multiprocessing/queues.py\", line 351, in get\n",
      "    with self._rlock:\n",
      "  File \"/home/HadyElkady/miniconda3/lib/python3.7/multiprocessing/synchronize.py\", line 95, in __enter__\n",
      "    return self._semlock.__enter__()\n",
      "  File \"/home/HadyElkady/miniconda3/lib/python3.7/multiprocessing/pool.py\", line 110, in worker\n",
      "    task = get()\n",
      "  File \"/home/HadyElkady/miniconda3/lib/python3.7/multiprocessing/queues.py\", line 351, in get\n",
      "    with self._rlock:\n",
      "  File \"/home/HadyElkady/miniconda3/lib/python3.7/multiprocessing/queues.py\", line 351, in get\n",
      "    with self._rlock:\n",
      "  File \"/home/HadyElkady/miniconda3/lib/python3.7/multiprocessing/queues.py\", line 351, in get\n",
      "    with self._rlock:\n",
      "  File \"/home/HadyElkady/miniconda3/lib/python3.7/multiprocessing/queues.py\", line 351, in get\n",
      "    with self._rlock:\n",
      "  File \"/home/HadyElkady/miniconda3/lib/python3.7/multiprocessing/queues.py\", line 351, in get\n",
      "    with self._rlock:\n",
      "  File \"/home/HadyElkady/miniconda3/lib/python3.7/multiprocessing/synchronize.py\", line 95, in __enter__\n",
      "    return self._semlock.__enter__()\n",
      "  File \"/home/HadyElkady/miniconda3/lib/python3.7/multiprocessing/queues.py\", line 351, in get\n",
      "    with self._rlock:\n",
      "  File \"/home/HadyElkady/miniconda3/lib/python3.7/multiprocessing/queues.py\", line 351, in get\n",
      "    with self._rlock:\n",
      "KeyboardInterrupt\n",
      "  File \"/home/HadyElkady/miniconda3/lib/python3.7/multiprocessing/queues.py\", line 351, in get\n",
      "    with self._rlock:\n",
      "  File \"/home/HadyElkady/miniconda3/lib/python3.7/multiprocessing/queues.py\", line 351, in get\n",
      "    with self._rlock:\n",
      "  File \"/home/HadyElkady/miniconda3/lib/python3.7/multiprocessing/synchronize.py\", line 95, in __enter__\n",
      "    return self._semlock.__enter__()\n",
      "  File \"/home/HadyElkady/miniconda3/lib/python3.7/multiprocessing/synchronize.py\", line 95, in __enter__\n",
      "    return self._semlock.__enter__()\n",
      "  File \"/home/HadyElkady/miniconda3/lib/python3.7/multiprocessing/synchronize.py\", line 95, in __enter__\n",
      "    return self._semlock.__enter__()\n",
      "  File \"/home/HadyElkady/miniconda3/lib/python3.7/multiprocessing/synchronize.py\", line 95, in __enter__\n",
      "    return self._semlock.__enter__()\n",
      "KeyboardInterrupt\n",
      "  File \"/home/HadyElkady/miniconda3/lib/python3.7/multiprocessing/synchronize.py\", line 95, in __enter__\n",
      "    return self._semlock.__enter__()\n",
      "  File \"/home/HadyElkady/miniconda3/lib/python3.7/multiprocessing/synchronize.py\", line 95, in __enter__\n",
      "    return self._semlock.__enter__()\n",
      "  File \"/home/HadyElkady/miniconda3/lib/python3.7/multiprocessing/connection.py\", line 216, in recv_bytes\n",
      "    buf = self._recv_bytes(maxlength)\n",
      "  File \"/home/HadyElkady/miniconda3/lib/python3.7/multiprocessing/synchronize.py\", line 95, in __enter__\n",
      "    return self._semlock.__enter__()\n",
      "  File \"/home/HadyElkady/miniconda3/lib/python3.7/multiprocessing/synchronize.py\", line 95, in __enter__\n",
      "    return self._semlock.__enter__()\n"
     ]
    },
    {
     "name": "stderr",
     "output_type": "stream",
     "text": [
      "KeyboardInterrupt\n",
      "  File \"/home/HadyElkady/miniconda3/lib/python3.7/multiprocessing/synchronize.py\", line 95, in __enter__\n",
      "    return self._semlock.__enter__()\n",
      "KeyboardInterrupt\n",
      "KeyboardInterrupt\n",
      "KeyboardInterrupt\n",
      "KeyboardInterrupt\n",
      "  File \"/home/HadyElkady/miniconda3/lib/python3.7/multiprocessing/connection.py\", line 407, in _recv_bytes\n",
      "    buf = self._recv(4)\n",
      "KeyboardInterrupt\n",
      "  File \"/home/HadyElkady/miniconda3/lib/python3.7/multiprocessing/connection.py\", line 379, in _recv\n",
      "    chunk = read(handle, remaining)\n",
      "KeyboardInterrupt\n",
      "KeyboardInterrupt\n",
      "KeyboardInterrupt\n",
      "KeyboardInterrupt\n",
      "Process ForkPoolWorker-14:\n",
      "Process ForkPoolWorker-13:\n",
      "Traceback (most recent call last):\n",
      "Traceback (most recent call last):\n",
      "  File \"/home/HadyElkady/miniconda3/lib/python3.7/multiprocessing/process.py\", line 297, in _bootstrap\n",
      "    self.run()\n",
      "  File \"/home/HadyElkady/miniconda3/lib/python3.7/multiprocessing/process.py\", line 99, in run\n",
      "    self._target(*self._args, **self._kwargs)\n",
      "  File \"/home/HadyElkady/miniconda3/lib/python3.7/multiprocessing/process.py\", line 297, in _bootstrap\n",
      "    self.run()\n",
      "Process ForkPoolWorker-15:\n",
      "  File \"/home/HadyElkady/miniconda3/lib/python3.7/multiprocessing/pool.py\", line 110, in worker\n",
      "    task = get()\n",
      "  File \"/home/HadyElkady/miniconda3/lib/python3.7/multiprocessing/queues.py\", line 351, in get\n",
      "    with self._rlock:\n",
      "  File \"/home/HadyElkady/miniconda3/lib/python3.7/multiprocessing/process.py\", line 99, in run\n",
      "    self._target(*self._args, **self._kwargs)\n",
      "Traceback (most recent call last):\n",
      "  File \"/home/HadyElkady/miniconda3/lib/python3.7/multiprocessing/synchronize.py\", line 95, in __enter__\n",
      "    return self._semlock.__enter__()\n",
      "  File \"/home/HadyElkady/miniconda3/lib/python3.7/multiprocessing/pool.py\", line 110, in worker\n",
      "    task = get()\n",
      "  File \"/home/HadyElkady/miniconda3/lib/python3.7/multiprocessing/process.py\", line 297, in _bootstrap\n",
      "    self.run()\n",
      "KeyboardInterrupt\n",
      "  File \"/home/HadyElkady/miniconda3/lib/python3.7/multiprocessing/queues.py\", line 351, in get\n",
      "    with self._rlock:\n",
      "  File \"/home/HadyElkady/miniconda3/lib/python3.7/multiprocessing/process.py\", line 99, in run\n",
      "    self._target(*self._args, **self._kwargs)\n",
      "  File \"/home/HadyElkady/miniconda3/lib/python3.7/multiprocessing/synchronize.py\", line 95, in __enter__\n",
      "    return self._semlock.__enter__()\n",
      "  File \"/home/HadyElkady/miniconda3/lib/python3.7/multiprocessing/pool.py\", line 110, in worker\n",
      "    task = get()\n",
      "  File \"/home/HadyElkady/miniconda3/lib/python3.7/multiprocessing/queues.py\", line 351, in get\n",
      "    with self._rlock:\n",
      "  File \"/home/HadyElkady/miniconda3/lib/python3.7/multiprocessing/synchronize.py\", line 95, in __enter__\n",
      "    return self._semlock.__enter__()\n",
      "KeyboardInterrupt\n",
      "KeyboardInterrupt\n"
     ]
    }
   ],
   "source": [
    "start = time.time()\n",
    "relation_id_name = parallal_task_2(find_relation_names_and_ids, qids[:100])\n",
    "print(time.time() - start)\n",
    "len(relation_id_name)"
   ]
  },
  {
   "cell_type": "code",
   "execution_count": null,
   "id": "038b066f",
   "metadata": {},
   "outputs": [],
   "source": [
    "relation_id_name"
   ]
  },
  {
   "cell_type": "code",
   "execution_count": null,
   "id": "fa849eab",
   "metadata": {},
   "outputs": [],
   "source": []
  },
  {
   "cell_type": "code",
   "execution_count": null,
   "id": "fca36e44",
   "metadata": {},
   "outputs": [],
   "source": [
    "ex = {'significant event': 1}\n",
    "outpput = find_relation_names_and_ids('Q90')\n",
    "dict(ex, **outpput)"
   ]
  },
  {
   "cell_type": "code",
   "execution_count": null,
   "id": "fd4b6de9",
   "metadata": {},
   "outputs": [],
   "source": [
    "total_len = 0\n",
    "for r in relations[:90]:\n",
    "    if len(r) < 40:\n",
    "        total_len += len(r)\n",
    "total_len"
   ]
  },
  {
   "cell_type": "code",
   "execution_count": null,
   "id": "dca38190",
   "metadata": {},
   "outputs": [],
   "source": [
    "qids"
   ]
  },
  {
   "cell_type": "code",
   "execution_count": null,
   "id": "d2e952df",
   "metadata": {},
   "outputs": [],
   "source": [
    "len(target_relation)"
   ]
  },
  {
   "cell_type": "code",
   "execution_count": null,
   "id": "83398175",
   "metadata": {},
   "outputs": [],
   "source": [
    "get_relation_label('P272')"
   ]
  },
  {
   "cell_type": "code",
   "execution_count": null,
   "id": "9063f1a8",
   "metadata": {},
   "outputs": [],
   "source": [
    "start = time.time()\n",
    "relation_id_name = parallal_task(get_relation_label, target_relation)\n",
    "print(time.time() - start)\n",
    "len(relation_id_name)"
   ]
  },
  {
   "cell_type": "code",
   "execution_count": null,
   "id": "9d423037",
   "metadata": {},
   "outputs": [],
   "source": [
    "relation_id_name"
   ]
  },
  {
   "cell_type": "code",
   "execution_count": null,
   "id": "e73fd592",
   "metadata": {},
   "outputs": [],
   "source": [
    "df = pd.DataFrame(relation_id_name, columns=['id', 'name'])\n",
    "df['length'] = df[\"name\"].apply(lambda x:len(x))\n",
    "df"
   ]
  },
  {
   "cell_type": "code",
   "execution_count": null,
   "id": "39ec6895",
   "metadata": {},
   "outputs": [],
   "source": [
    "len(df)"
   ]
  },
  {
   "cell_type": "code",
   "execution_count": null,
   "id": "16a4cc73",
   "metadata": {
    "scrolled": true
   },
   "outputs": [],
   "source": [
    "df['length'].hist(bins=10)"
   ]
  },
  {
   "cell_type": "code",
   "execution_count": null,
   "id": "68d74700",
   "metadata": {},
   "outputs": [],
   "source": [
    "df['length'].hist(bins=20)"
   ]
  },
  {
   "cell_type": "code",
   "execution_count": null,
   "id": "b8309860",
   "metadata": {},
   "outputs": [],
   "source": [
    "len(df[df['length'] > 35])*100/len(df)"
   ]
  },
  {
   "cell_type": "code",
   "execution_count": null,
   "id": "e014be4e",
   "metadata": {},
   "outputs": [],
   "source": [
    "len(df[df['length'] > 40])*100/len(df)"
   ]
  },
  {
   "cell_type": "code",
   "execution_count": null,
   "id": "7e75f7c8",
   "metadata": {},
   "outputs": [],
   "source": [
    "len('category for people who died here')"
   ]
  }
 ],
 "metadata": {
  "kernelspec": {
   "display_name": "Python 3",
   "language": "python",
   "name": "python3"
  },
  "language_info": {
   "codemirror_mode": {
    "name": "ipython",
    "version": 3
   },
   "file_extension": ".py",
   "mimetype": "text/x-python",
   "name": "python",
   "nbconvert_exporter": "python",
   "pygments_lexer": "ipython3",
   "version": "3.7.10"
  }
 },
 "nbformat": 4,
 "nbformat_minor": 5
}
